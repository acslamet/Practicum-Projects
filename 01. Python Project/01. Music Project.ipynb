{
 "cells": [
  {
   "cell_type": "markdown",
   "metadata": {
    "id": "E0vqbgi9ay0H"
   },
   "source": [
    "# Yandex.Music"
   ]
  },
  {
   "cell_type": "markdown",
   "metadata": {
    "id": "fhq_eyov_Zcs"
   },
   "source": [
    "# Contents <a id='back'></a>\n",
    "\n",
    "* [Introduction](#intro)\n",
    "* [Stage 1. Data overview](#data_review)\n",
    "    * [Conclusions](#data_review_conclusions)\n",
    "* [Stage 2. Data preprocessing](#data_preprocessing)\n",
    "    * [2.1 Header style](#header_style)\n",
    "    * [2.2 Missing values](#missing_values)\n",
    "    * [2.3 Duplicates](#duplicates)\n",
    "    * [2.4 Conclusions](#data_preprocessing_conclusions)\n",
    "* [Stage 3. Testing the hypotheses](#hypotheses)\n",
    "    * [3.1 Hypothesis 1: user activity in the two cities](#activity)\n",
    "    * [3.2 Hypothesis 2: music preferences on Monday and Friday](#week)\n",
    "    * [3.3 Hypothesis 3: genre preferences in Springfield and Shelbyville](#genre)\n",
    "* [Findings](#end)"
   ]
  },
  {
   "cell_type": "markdown",
   "metadata": {
    "id": "VUC88oWjTJw2"
   },
   "source": [
    "## Introduction <a id='intro'></a>\n",
    "Whenever we're doing research, we need to formulate hypotheses that we can then test. Sometimes we accept these hypotheses; other times, we reject them. To make the right decisions, a business must be able to understand whether or not it's making the right assumptions.\n",
    "\n",
    "In this project, you'll compare the music preferences of the cities of Springfield and Shelbyville. You'll study real Yandex.Music data to test the hypotheses below and compare user behavior for these two cities.\n",
    "\n",
    "### Goal: \n",
    "Test three hypotheses:\n",
    "1. User activity differs depending on the day of the week and from city to city. \n",
    "2. On Monday mornings, Springfield and Shelbyville residents listen to different genres. This is also true for Friday evenings. \n",
    "3. Springfield and Shelbyville listeners have different preferences. In Springfield, they prefer pop, while Shelbyville has more rap fans.\n",
    "\n",
    "### Stages \n",
    "Data on user behavior is stored in the file `/datasets/music_project_en.csv`. There is no information about the quality of the data, so you will need to explore it before testing the hypotheses. \n",
    "\n",
    "First, you'll evaluate the quality of the data and see whether its issues are significant. Then, during data preprocessing, you will try to account for the most critical problems.\n",
    " \n",
    "Your project will consist of three stages:\n",
    " 1. Data overview\n",
    " 2. Data preprocessing\n",
    " 3. Testing the hypotheses\n",
    " \n",
    "[Back to Contents](#back)"
   ]
  },
  {
   "cell_type": "markdown",
   "metadata": {
    "id": "Ml1hmfXC_Zcs"
   },
   "source": [
    "## Stage 1. Data overview <a id='data_review'></a>\n",
    "\n",
    "Open the data on Yandex.Music and explore it."
   ]
  },
  {
   "cell_type": "markdown",
   "metadata": {
    "id": "57eAOGIz_Zcs"
   },
   "source": [
    "You'll need `pandas`, so import it."
   ]
  },
  {
   "cell_type": "code",
   "execution_count": 1,
   "metadata": {
    "id": "AXN7PHPN_Zcs"
   },
   "outputs": [],
   "source": [
    "import pandas as pd\n",
    "import warnings\n",
    "warnings.filterwarnings(\"ignore\")"
   ]
  },
  {
   "cell_type": "markdown",
   "metadata": {
    "id": "SG23P8tt_Zcs"
   },
   "source": [
    "Read the file `music_project_en.csv` from the `/datasets/` folder and save it in the `df` variable:"
   ]
  },
  {
   "cell_type": "code",
   "execution_count": 2,
   "metadata": {
    "id": "fFVu7vqh_Zct"
   },
   "outputs": [
    {
     "data": {
      "text/html": [
       "<div>\n",
       "<style scoped>\n",
       "    .dataframe tbody tr th:only-of-type {\n",
       "        vertical-align: middle;\n",
       "    }\n",
       "\n",
       "    .dataframe tbody tr th {\n",
       "        vertical-align: top;\n",
       "    }\n",
       "\n",
       "    .dataframe thead th {\n",
       "        text-align: right;\n",
       "    }\n",
       "</style>\n",
       "<table border=\"1\" class=\"dataframe\">\n",
       "  <thead>\n",
       "    <tr style=\"text-align: right;\">\n",
       "      <th></th>\n",
       "      <th>userID</th>\n",
       "      <th>Track</th>\n",
       "      <th>artist</th>\n",
       "      <th>genre</th>\n",
       "      <th>City</th>\n",
       "      <th>time</th>\n",
       "      <th>Day</th>\n",
       "    </tr>\n",
       "  </thead>\n",
       "  <tbody>\n",
       "    <tr>\n",
       "      <th>count</th>\n",
       "      <td>65079</td>\n",
       "      <td>63736</td>\n",
       "      <td>57512</td>\n",
       "      <td>63881</td>\n",
       "      <td>65079</td>\n",
       "      <td>65079</td>\n",
       "      <td>65079</td>\n",
       "    </tr>\n",
       "    <tr>\n",
       "      <th>unique</th>\n",
       "      <td>41748</td>\n",
       "      <td>39666</td>\n",
       "      <td>37806</td>\n",
       "      <td>268</td>\n",
       "      <td>2</td>\n",
       "      <td>20392</td>\n",
       "      <td>3</td>\n",
       "    </tr>\n",
       "    <tr>\n",
       "      <th>top</th>\n",
       "      <td>A8AE9169</td>\n",
       "      <td>Brand</td>\n",
       "      <td>Kartvelli</td>\n",
       "      <td>pop</td>\n",
       "      <td>Springfield</td>\n",
       "      <td>08:14:07</td>\n",
       "      <td>Friday</td>\n",
       "    </tr>\n",
       "    <tr>\n",
       "      <th>freq</th>\n",
       "      <td>76</td>\n",
       "      <td>136</td>\n",
       "      <td>136</td>\n",
       "      <td>8850</td>\n",
       "      <td>45360</td>\n",
       "      <td>14</td>\n",
       "      <td>23149</td>\n",
       "    </tr>\n",
       "  </tbody>\n",
       "</table>\n",
       "</div>"
      ],
      "text/plain": [
       "          userID  Track     artist  genre       City        time     Day\n",
       "count      65079  63736      57512  63881        65079     65079   65079\n",
       "unique     41748  39666      37806    268            2     20392       3\n",
       "top     A8AE9169  Brand  Kartvelli    pop  Springfield  08:14:07  Friday\n",
       "freq          76    136        136   8850        45360        14   23149"
      ]
     },
     "execution_count": 2,
     "metadata": {},
     "output_type": "execute_result"
    }
   ],
   "source": [
    "df = pd.read_csv('music_project_en.csv')# reading the file and storing it to df\n",
    "df.describe()"
   ]
  },
  {
   "cell_type": "markdown",
   "metadata": {
    "id": "rDoOMd3uTqnZ"
   },
   "source": [
    "Print the first 10 table rows:"
   ]
  },
  {
   "cell_type": "code",
   "execution_count": 3,
   "metadata": {
    "id": "oWTVX3gW_Zct"
   },
   "outputs": [
    {
     "data": {
      "text/html": [
       "<div>\n",
       "<style scoped>\n",
       "    .dataframe tbody tr th:only-of-type {\n",
       "        vertical-align: middle;\n",
       "    }\n",
       "\n",
       "    .dataframe tbody tr th {\n",
       "        vertical-align: top;\n",
       "    }\n",
       "\n",
       "    .dataframe thead th {\n",
       "        text-align: right;\n",
       "    }\n",
       "</style>\n",
       "<table border=\"1\" class=\"dataframe\">\n",
       "  <thead>\n",
       "    <tr style=\"text-align: right;\">\n",
       "      <th></th>\n",
       "      <th>userID</th>\n",
       "      <th>Track</th>\n",
       "      <th>artist</th>\n",
       "      <th>genre</th>\n",
       "      <th>City</th>\n",
       "      <th>time</th>\n",
       "      <th>Day</th>\n",
       "    </tr>\n",
       "  </thead>\n",
       "  <tbody>\n",
       "    <tr>\n",
       "      <th>0</th>\n",
       "      <td>FFB692EC</td>\n",
       "      <td>Kamigata To Boots</td>\n",
       "      <td>The Mass Missile</td>\n",
       "      <td>rock</td>\n",
       "      <td>Shelbyville</td>\n",
       "      <td>20:28:33</td>\n",
       "      <td>Wednesday</td>\n",
       "    </tr>\n",
       "    <tr>\n",
       "      <th>1</th>\n",
       "      <td>55204538</td>\n",
       "      <td>Delayed Because of Accident</td>\n",
       "      <td>Andreas Rönnberg</td>\n",
       "      <td>rock</td>\n",
       "      <td>Springfield</td>\n",
       "      <td>14:07:09</td>\n",
       "      <td>Friday</td>\n",
       "    </tr>\n",
       "    <tr>\n",
       "      <th>2</th>\n",
       "      <td>20EC38</td>\n",
       "      <td>Funiculì funiculà</td>\n",
       "      <td>Mario Lanza</td>\n",
       "      <td>pop</td>\n",
       "      <td>Shelbyville</td>\n",
       "      <td>20:58:07</td>\n",
       "      <td>Wednesday</td>\n",
       "    </tr>\n",
       "    <tr>\n",
       "      <th>3</th>\n",
       "      <td>A3DD03C9</td>\n",
       "      <td>Dragons in the Sunset</td>\n",
       "      <td>Fire + Ice</td>\n",
       "      <td>folk</td>\n",
       "      <td>Shelbyville</td>\n",
       "      <td>08:37:09</td>\n",
       "      <td>Monday</td>\n",
       "    </tr>\n",
       "    <tr>\n",
       "      <th>4</th>\n",
       "      <td>E2DC1FAE</td>\n",
       "      <td>Soul People</td>\n",
       "      <td>Space Echo</td>\n",
       "      <td>dance</td>\n",
       "      <td>Springfield</td>\n",
       "      <td>08:34:34</td>\n",
       "      <td>Monday</td>\n",
       "    </tr>\n",
       "    <tr>\n",
       "      <th>5</th>\n",
       "      <td>842029A1</td>\n",
       "      <td>Chains</td>\n",
       "      <td>Obladaet</td>\n",
       "      <td>rusrap</td>\n",
       "      <td>Shelbyville</td>\n",
       "      <td>13:09:41</td>\n",
       "      <td>Friday</td>\n",
       "    </tr>\n",
       "    <tr>\n",
       "      <th>6</th>\n",
       "      <td>4CB90AA5</td>\n",
       "      <td>True</td>\n",
       "      <td>Roman Messer</td>\n",
       "      <td>dance</td>\n",
       "      <td>Springfield</td>\n",
       "      <td>13:00:07</td>\n",
       "      <td>Wednesday</td>\n",
       "    </tr>\n",
       "    <tr>\n",
       "      <th>7</th>\n",
       "      <td>F03E1C1F</td>\n",
       "      <td>Feeling This Way</td>\n",
       "      <td>Polina Griffith</td>\n",
       "      <td>dance</td>\n",
       "      <td>Springfield</td>\n",
       "      <td>20:47:49</td>\n",
       "      <td>Wednesday</td>\n",
       "    </tr>\n",
       "    <tr>\n",
       "      <th>8</th>\n",
       "      <td>8FA1D3BE</td>\n",
       "      <td>L’estate</td>\n",
       "      <td>Julia Dalia</td>\n",
       "      <td>ruspop</td>\n",
       "      <td>Springfield</td>\n",
       "      <td>09:17:40</td>\n",
       "      <td>Friday</td>\n",
       "    </tr>\n",
       "    <tr>\n",
       "      <th>9</th>\n",
       "      <td>E772D5C0</td>\n",
       "      <td>Pessimist</td>\n",
       "      <td>NaN</td>\n",
       "      <td>dance</td>\n",
       "      <td>Shelbyville</td>\n",
       "      <td>21:20:49</td>\n",
       "      <td>Wednesday</td>\n",
       "    </tr>\n",
       "  </tbody>\n",
       "</table>\n",
       "</div>"
      ],
      "text/plain": [
       "     userID                        Track            artist   genre  \\\n",
       "0  FFB692EC            Kamigata To Boots  The Mass Missile    rock   \n",
       "1  55204538  Delayed Because of Accident  Andreas Rönnberg    rock   \n",
       "2    20EC38            Funiculì funiculà       Mario Lanza     pop   \n",
       "3  A3DD03C9        Dragons in the Sunset        Fire + Ice    folk   \n",
       "4  E2DC1FAE                  Soul People        Space Echo   dance   \n",
       "5  842029A1                       Chains          Obladaet  rusrap   \n",
       "6  4CB90AA5                         True      Roman Messer   dance   \n",
       "7  F03E1C1F             Feeling This Way   Polina Griffith   dance   \n",
       "8  8FA1D3BE                     L’estate       Julia Dalia  ruspop   \n",
       "9  E772D5C0                    Pessimist               NaN   dance   \n",
       "\n",
       "        City        time        Day  \n",
       "0  Shelbyville  20:28:33  Wednesday  \n",
       "1  Springfield  14:07:09     Friday  \n",
       "2  Shelbyville  20:58:07  Wednesday  \n",
       "3  Shelbyville  08:37:09     Monday  \n",
       "4  Springfield  08:34:34     Monday  \n",
       "5  Shelbyville  13:09:41     Friday  \n",
       "6  Springfield  13:00:07  Wednesday  \n",
       "7  Springfield  20:47:49  Wednesday  \n",
       "8  Springfield  09:17:40     Friday  \n",
       "9  Shelbyville  21:20:49  Wednesday  "
      ]
     },
     "execution_count": 3,
     "metadata": {},
     "output_type": "execute_result"
    }
   ],
   "source": [
    "df.head(10)# obtaining the first 10 rows from the df table"
   ]
  },
  {
   "cell_type": "markdown",
   "metadata": {
    "id": "EO73Kwic_Zct"
   },
   "source": [
    "Obtaining the general information about the table with one command:"
   ]
  },
  {
   "cell_type": "code",
   "execution_count": 4,
   "metadata": {
    "id": "DSf2kIb-_Zct"
   },
   "outputs": [
    {
     "name": "stdout",
     "output_type": "stream",
     "text": [
      "<class 'pandas.core.frame.DataFrame'>\n",
      "RangeIndex: 65079 entries, 0 to 65078\n",
      "Data columns (total 7 columns):\n",
      " #   Column    Non-Null Count  Dtype \n",
      "---  ------    --------------  ----- \n",
      " 0     userID  65079 non-null  object\n",
      " 1   Track     63736 non-null  object\n",
      " 2   artist    57512 non-null  object\n",
      " 3   genre     63881 non-null  object\n",
      " 4     City    65079 non-null  object\n",
      " 5   time      65079 non-null  object\n",
      " 6   Day       65079 non-null  object\n",
      "dtypes: object(7)\n",
      "memory usage: 3.5+ MB\n"
     ]
    }
   ],
   "source": [
    "#df.describe()# obtaining general information about the data in df\n",
    "df.info()"
   ]
  },
  {
   "cell_type": "markdown",
   "metadata": {
    "id": "TaQ2Iwbr_Zct"
   },
   "source": [
    "The table contains seven columns. They all store the same data type: `object`.\n",
    "\n",
    "According to the documentation:\n",
    "- `'userID'` — user identifier\n",
    "- `'Track'` — track title\n",
    "- `'artist'` — artist's name\n",
    "- `'genre'`\n",
    "- `'City'` — user's city\n",
    "- `'time'` — the exact time the track was played\n",
    "- `'Day'` — day of the week\n",
    "\n",
    "We can see three issues with style in the column names:\n",
    "1. Some names are uppercase, some are lowercase.\n",
    "2. There are spaces in some names.\n",
    "3. `Detect the third issue yourself and describe it here`. #No description in genre?\n",
    "\n",
    "The number of column values is different. This means the data contains missing values.\n"
   ]
  },
  {
   "cell_type": "markdown",
   "metadata": {
    "id": "MCB6-dXG_Zct"
   },
   "source": [
    "### Conclusions <a id='data_review_conclusions'></a> \n",
    "\n",
    "Each row in the table stores data on a track that was played. Some columns describe the track itself: its title, artist and genre. The rest convey information about the user: the city they come from, the time they played the track. \n",
    "\n",
    "It's clear that the data is sufficient to test the hypotheses. However, there are missing values.\n",
    "\n",
    "To move forward, we need to preprocess the data."
   ]
  },
  {
   "cell_type": "markdown",
   "metadata": {
    "id": "3eL__vcwViOi"
   },
   "source": [
    "[Back to Contents](#back)"
   ]
  },
  {
   "cell_type": "markdown",
   "metadata": {
    "id": "SjYF6Ub9_Zct"
   },
   "source": [
    "## Stage 2. Data preprocessing <a id='data_preprocessing'></a>\n",
    "Correct the formatting in the column headers and deal with the missing values. Then, check whether there are duplicates in the data."
   ]
  },
  {
   "cell_type": "markdown",
   "metadata": {
    "id": "dIaKXr29_Zct"
   },
   "source": [
    "### Header style <a id='header_style'></a>\n",
    "Print the column header:"
   ]
  },
  {
   "cell_type": "code",
   "execution_count": 5,
   "metadata": {
    "id": "oKOTdF_Q_Zct"
   },
   "outputs": [
    {
     "name": "stdout",
     "output_type": "stream",
     "text": [
      "Index(['  userID', 'Track', 'artist', 'genre', '  City  ', 'time', 'Day'], dtype='object')\n"
     ]
    }
   ],
   "source": [
    "print(df.columns)# the list of column names in the df table"
   ]
  },
  {
   "cell_type": "markdown",
   "metadata": {
    "id": "zj5534cv_Zct"
   },
   "source": [
    "Change column names according to the rules of good style:\n",
    "* If the name has several words, use snake_case\n",
    "* All characters must be lowercase\n",
    "* Delete spaces"
   ]
  },
  {
   "cell_type": "code",
   "execution_count": 6,
   "metadata": {
    "id": "ISlFqs5y_Zct"
   },
   "outputs": [
    {
     "name": "stdout",
     "output_type": "stream",
     "text": [
      "Index(['user_id', 'track', 'artist', 'genre', 'city', 'time', 'day'], dtype='object')\n"
     ]
    }
   ],
   "source": [
    "df.rename(columns = {'  userID': 'user_id','Track':'track','artist':'artist', 'genre':'genre','  City  ':'city','time':'time','Day':'day'}, inplace= True) \n",
    "print(df.columns)# renaming columns"
   ]
  },
  {
   "cell_type": "markdown",
   "metadata": {
    "id": "1dqbh00J_Zct"
   },
   "source": [
    "Check the result. Print the names of the columns once more:"
   ]
  },
  {
   "cell_type": "code",
   "execution_count": 7,
   "metadata": {
    "id": "d4NOAmTW_Zct"
   },
   "outputs": [
    {
     "name": "stdout",
     "output_type": "stream",
     "text": [
      "Index(['user_id', 'track', 'artist', 'genre', 'city', 'time', 'day'], dtype='object')\n"
     ]
    }
   ],
   "source": [
    "print(df.columns)# checking result: the list of column names"
   ]
  },
  {
   "cell_type": "markdown",
   "metadata": {
    "id": "xYJk6ksJVpOl"
   },
   "source": [
    "[Back to Contents](#back)"
   ]
  },
  {
   "cell_type": "markdown",
   "metadata": {
    "id": "5ISfbcfY_Zct"
   },
   "source": [
    "### Missing values <a id='missing_values'></a>\n",
    "First, find the number of missing values in the table. To do so, use two `pandas` methods:"
   ]
  },
  {
   "cell_type": "code",
   "execution_count": 8,
   "metadata": {},
   "outputs": [
    {
     "data": {
      "text/plain": [
       "23149"
      ]
     },
     "execution_count": 8,
     "metadata": {},
     "output_type": "execute_result"
    }
   ],
   "source": [
    "(df[\"day\"] == \"Friday\").sum()"
   ]
  },
  {
   "cell_type": "code",
   "execution_count": 9,
   "metadata": {},
   "outputs": [
    {
     "data": {
      "text/plain": [
       "user_id       0\n",
       "track      1343\n",
       "artist     7567\n",
       "genre      1198\n",
       "city          0\n",
       "time          0\n",
       "day           0\n",
       "dtype: int64"
      ]
     },
     "execution_count": 9,
     "metadata": {},
     "output_type": "execute_result"
    }
   ],
   "source": [
    "df.isna().sum()"
   ]
  },
  {
   "cell_type": "code",
   "execution_count": 10,
   "metadata": {},
   "outputs": [
    {
     "data": {
      "text/plain": [
       "nan"
      ]
     },
     "execution_count": 10,
     "metadata": {},
     "output_type": "execute_result"
    }
   ],
   "source": [
    "import numpy as np\n",
    "\n",
    "np.nan"
   ]
  },
  {
   "cell_type": "code",
   "execution_count": 11,
   "metadata": {},
   "outputs": [
    {
     "data": {
      "text/html": [
       "<div>\n",
       "<style scoped>\n",
       "    .dataframe tbody tr th:only-of-type {\n",
       "        vertical-align: middle;\n",
       "    }\n",
       "\n",
       "    .dataframe tbody tr th {\n",
       "        vertical-align: top;\n",
       "    }\n",
       "\n",
       "    .dataframe thead th {\n",
       "        text-align: right;\n",
       "    }\n",
       "</style>\n",
       "<table border=\"1\" class=\"dataframe\">\n",
       "  <thead>\n",
       "    <tr style=\"text-align: right;\">\n",
       "      <th></th>\n",
       "      <th>age</th>\n",
       "      <th>salary</th>\n",
       "    </tr>\n",
       "  </thead>\n",
       "  <tbody>\n",
       "    <tr>\n",
       "      <th>0</th>\n",
       "      <td>22</td>\n",
       "      <td>60000.0</td>\n",
       "    </tr>\n",
       "    <tr>\n",
       "      <th>1</th>\n",
       "      <td>23</td>\n",
       "      <td>65000.0</td>\n",
       "    </tr>\n",
       "    <tr>\n",
       "      <th>2</th>\n",
       "      <td>25</td>\n",
       "      <td>70000.0</td>\n",
       "    </tr>\n",
       "    <tr>\n",
       "      <th>3</th>\n",
       "      <td>22</td>\n",
       "      <td>NaN</td>\n",
       "    </tr>\n",
       "    <tr>\n",
       "      <th>4</th>\n",
       "      <td>21</td>\n",
       "      <td>87000.0</td>\n",
       "    </tr>\n",
       "    <tr>\n",
       "      <th>5</th>\n",
       "      <td>29</td>\n",
       "      <td>90000.0</td>\n",
       "    </tr>\n",
       "  </tbody>\n",
       "</table>\n",
       "</div>"
      ],
      "text/plain": [
       "   age   salary\n",
       "0   22  60000.0\n",
       "1   23  65000.0\n",
       "2   25  70000.0\n",
       "3   22      NaN\n",
       "4   21  87000.0\n",
       "5   29  90000.0"
      ]
     },
     "execution_count": 11,
     "metadata": {},
     "output_type": "execute_result"
    }
   ],
   "source": [
    "testdf = pd.DataFrame({\n",
    "    \"age\": [22, 23, 25, 22, 21, 29],\n",
    "    \"salary\": [60000, 65000, 70000, np.nan, 87000, 90000]\n",
    "})\n",
    "\n",
    "testdf"
   ]
  },
  {
   "cell_type": "code",
   "execution_count": 12,
   "metadata": {},
   "outputs": [],
   "source": [
    "mean_salary = testdf['salary'].mean()"
   ]
  },
  {
   "cell_type": "code",
   "execution_count": 13,
   "metadata": {},
   "outputs": [
    {
     "data": {
      "text/plain": [
       "0    60000.0\n",
       "1    65000.0\n",
       "2    70000.0\n",
       "3    74400.0\n",
       "4    87000.0\n",
       "5    90000.0\n",
       "Name: salary, dtype: float64"
      ]
     },
     "execution_count": 13,
     "metadata": {},
     "output_type": "execute_result"
    }
   ],
   "source": [
    "testdf[\"salary\"].fillna(mean_salary)"
   ]
  },
  {
   "cell_type": "code",
   "execution_count": 14,
   "metadata": {},
   "outputs": [
    {
     "data": {
      "text/plain": [
       "user_id     0.000000\n",
       "track       2.063646\n",
       "artist     11.627407\n",
       "genre       1.840840\n",
       "city        0.000000\n",
       "time        0.000000\n",
       "day         0.000000\n",
       "dtype: float64"
      ]
     },
     "execution_count": 14,
     "metadata": {},
     "output_type": "execute_result"
    }
   ],
   "source": [
    "df.isna().sum() * 100 / len(df)"
   ]
  },
  {
   "cell_type": "code",
   "execution_count": 15,
   "metadata": {},
   "outputs": [
    {
     "data": {
      "text/plain": [
       "user_id     0.000000\n",
       "track       2.063646\n",
       "artist     11.627407\n",
       "genre       1.840840\n",
       "city        0.000000\n",
       "time        0.000000\n",
       "day         0.000000\n",
       "dtype: float64"
      ]
     },
     "execution_count": 15,
     "metadata": {},
     "output_type": "execute_result"
    }
   ],
   "source": [
    "df.isna().mean() * 100"
   ]
  },
  {
   "cell_type": "code",
   "execution_count": 16,
   "metadata": {
    "id": "RskX29qr_Zct"
   },
   "outputs": [
    {
     "name": "stdout",
     "output_type": "stream",
     "text": [
      "user_id       0\n",
      "track      1343\n",
      "artist     7567\n",
      "genre      1198\n",
      "city          0\n",
      "time          0\n",
      "day           0\n",
      "dtype: int64\n"
     ]
    }
   ],
   "source": [
    "print(df.isna().sum())# calculating missing values"
   ]
  },
  {
   "cell_type": "markdown",
   "metadata": {
    "id": "qubhgnlO_Zct"
   },
   "source": [
    "Not all missing values affect the research. For instance, the missing values in `track` and `artist` are not critical. You can simply replace them with clear markers.\n",
    "\n",
    "But missing values in `'genre'` can affect the comparison of music preferences in Springfield and Shelbyville. In real life, it would be useful to learn the reasons why the data is missing and try to make up for them. But we do not have that opportunity in this project. So you will have to:\n",
    "* Fill in these missing values with markers\n",
    "* Evaluate how much the missing values may affect your computations"
   ]
  },
  {
   "cell_type": "markdown",
   "metadata": {
    "id": "fSv2laPA_Zct"
   },
   "source": [
    "Replace the missing values in `'track'`, `'artist'`, and `'genre'` with the string `'unknown'`. To do this, create the `columns_to_replace` list, loop over it with `for`, and replace the missing values in each of the columns:"
   ]
  },
  {
   "cell_type": "code",
   "execution_count": 17,
   "metadata": {
    "id": "KplB5qWs_Zct"
   },
   "outputs": [
    {
     "data": {
      "text/html": [
       "<div>\n",
       "<style scoped>\n",
       "    .dataframe tbody tr th:only-of-type {\n",
       "        vertical-align: middle;\n",
       "    }\n",
       "\n",
       "    .dataframe tbody tr th {\n",
       "        vertical-align: top;\n",
       "    }\n",
       "\n",
       "    .dataframe thead th {\n",
       "        text-align: right;\n",
       "    }\n",
       "</style>\n",
       "<table border=\"1\" class=\"dataframe\">\n",
       "  <thead>\n",
       "    <tr style=\"text-align: right;\">\n",
       "      <th></th>\n",
       "      <th>user_id</th>\n",
       "      <th>track</th>\n",
       "      <th>artist</th>\n",
       "      <th>genre</th>\n",
       "      <th>city</th>\n",
       "      <th>time</th>\n",
       "      <th>day</th>\n",
       "    </tr>\n",
       "  </thead>\n",
       "  <tbody>\n",
       "    <tr>\n",
       "      <th>0</th>\n",
       "      <td>FFB692EC</td>\n",
       "      <td>Kamigata To Boots</td>\n",
       "      <td>The Mass Missile</td>\n",
       "      <td>rock</td>\n",
       "      <td>Shelbyville</td>\n",
       "      <td>20:28:33</td>\n",
       "      <td>Wednesday</td>\n",
       "    </tr>\n",
       "    <tr>\n",
       "      <th>1</th>\n",
       "      <td>55204538</td>\n",
       "      <td>Delayed Because of Accident</td>\n",
       "      <td>Andreas Rönnberg</td>\n",
       "      <td>rock</td>\n",
       "      <td>Springfield</td>\n",
       "      <td>14:07:09</td>\n",
       "      <td>Friday</td>\n",
       "    </tr>\n",
       "    <tr>\n",
       "      <th>2</th>\n",
       "      <td>20EC38</td>\n",
       "      <td>Funiculì funiculà</td>\n",
       "      <td>Mario Lanza</td>\n",
       "      <td>pop</td>\n",
       "      <td>Shelbyville</td>\n",
       "      <td>20:58:07</td>\n",
       "      <td>Wednesday</td>\n",
       "    </tr>\n",
       "    <tr>\n",
       "      <th>3</th>\n",
       "      <td>A3DD03C9</td>\n",
       "      <td>Dragons in the Sunset</td>\n",
       "      <td>Fire + Ice</td>\n",
       "      <td>folk</td>\n",
       "      <td>Shelbyville</td>\n",
       "      <td>08:37:09</td>\n",
       "      <td>Monday</td>\n",
       "    </tr>\n",
       "    <tr>\n",
       "      <th>4</th>\n",
       "      <td>E2DC1FAE</td>\n",
       "      <td>Soul People</td>\n",
       "      <td>Space Echo</td>\n",
       "      <td>dance</td>\n",
       "      <td>Springfield</td>\n",
       "      <td>08:34:34</td>\n",
       "      <td>Monday</td>\n",
       "    </tr>\n",
       "    <tr>\n",
       "      <th>...</th>\n",
       "      <td>...</td>\n",
       "      <td>...</td>\n",
       "      <td>...</td>\n",
       "      <td>...</td>\n",
       "      <td>...</td>\n",
       "      <td>...</td>\n",
       "      <td>...</td>\n",
       "    </tr>\n",
       "    <tr>\n",
       "      <th>65074</th>\n",
       "      <td>729CBB09</td>\n",
       "      <td>My Name</td>\n",
       "      <td>McLean</td>\n",
       "      <td>rnb</td>\n",
       "      <td>Springfield</td>\n",
       "      <td>13:32:28</td>\n",
       "      <td>Wednesday</td>\n",
       "    </tr>\n",
       "    <tr>\n",
       "      <th>65075</th>\n",
       "      <td>D08D4A55</td>\n",
       "      <td>Maybe One Day (feat. Black Spade)</td>\n",
       "      <td>Blu &amp; Exile</td>\n",
       "      <td>hip</td>\n",
       "      <td>Shelbyville</td>\n",
       "      <td>10:00:00</td>\n",
       "      <td>Monday</td>\n",
       "    </tr>\n",
       "    <tr>\n",
       "      <th>65076</th>\n",
       "      <td>C5E3A0D5</td>\n",
       "      <td>Jalopiina</td>\n",
       "      <td>unknown</td>\n",
       "      <td>industrial</td>\n",
       "      <td>Springfield</td>\n",
       "      <td>20:09:26</td>\n",
       "      <td>Friday</td>\n",
       "    </tr>\n",
       "    <tr>\n",
       "      <th>65077</th>\n",
       "      <td>321D0506</td>\n",
       "      <td>Freight Train</td>\n",
       "      <td>Chas McDevitt</td>\n",
       "      <td>rock</td>\n",
       "      <td>Springfield</td>\n",
       "      <td>21:43:59</td>\n",
       "      <td>Friday</td>\n",
       "    </tr>\n",
       "    <tr>\n",
       "      <th>65078</th>\n",
       "      <td>3A64EF84</td>\n",
       "      <td>Tell Me Sweet Little Lies</td>\n",
       "      <td>Monica Lopez</td>\n",
       "      <td>country</td>\n",
       "      <td>Springfield</td>\n",
       "      <td>21:59:46</td>\n",
       "      <td>Friday</td>\n",
       "    </tr>\n",
       "  </tbody>\n",
       "</table>\n",
       "<p>65079 rows × 7 columns</p>\n",
       "</div>"
      ],
      "text/plain": [
       "        user_id                              track            artist  \\\n",
       "0      FFB692EC                  Kamigata To Boots  The Mass Missile   \n",
       "1      55204538        Delayed Because of Accident  Andreas Rönnberg   \n",
       "2        20EC38                  Funiculì funiculà       Mario Lanza   \n",
       "3      A3DD03C9              Dragons in the Sunset        Fire + Ice   \n",
       "4      E2DC1FAE                        Soul People        Space Echo   \n",
       "...         ...                                ...               ...   \n",
       "65074  729CBB09                            My Name            McLean   \n",
       "65075  D08D4A55  Maybe One Day (feat. Black Spade)       Blu & Exile   \n",
       "65076  C5E3A0D5                          Jalopiina           unknown   \n",
       "65077  321D0506                      Freight Train     Chas McDevitt   \n",
       "65078  3A64EF84          Tell Me Sweet Little Lies      Monica Lopez   \n",
       "\n",
       "            genre         city      time        day  \n",
       "0            rock  Shelbyville  20:28:33  Wednesday  \n",
       "1            rock  Springfield  14:07:09     Friday  \n",
       "2             pop  Shelbyville  20:58:07  Wednesday  \n",
       "3            folk  Shelbyville  08:37:09     Monday  \n",
       "4           dance  Springfield  08:34:34     Monday  \n",
       "...           ...          ...       ...        ...  \n",
       "65074         rnb  Springfield  13:32:28  Wednesday  \n",
       "65075         hip  Shelbyville  10:00:00     Monday  \n",
       "65076  industrial  Springfield  20:09:26     Friday  \n",
       "65077        rock  Springfield  21:43:59     Friday  \n",
       "65078     country  Springfield  21:59:46     Friday  \n",
       "\n",
       "[65079 rows x 7 columns]"
      ]
     },
     "execution_count": 17,
     "metadata": {},
     "output_type": "execute_result"
    }
   ],
   "source": [
    "columns_to_replace = ['track', 'artist', 'genre']\n",
    "    \n",
    "for item in columns_to_replace:\n",
    "    df[item] = df[item].fillna('unknown')\n",
    "    \n",
    "df"
   ]
  },
  {
   "cell_type": "markdown",
   "metadata": {
    "id": "Ilsm-MZo_Zct"
   },
   "source": [
    "Make sure the table contains no more missing values. Count the missing values again."
   ]
  },
  {
   "cell_type": "code",
   "execution_count": 18,
   "metadata": {
    "id": "Tq4nYRX4_Zct"
   },
   "outputs": [
    {
     "name": "stdout",
     "output_type": "stream",
     "text": [
      "user_id    0\n",
      "track      0\n",
      "artist     0\n",
      "genre      0\n",
      "city       0\n",
      "time       0\n",
      "day        0\n",
      "dtype: int64\n"
     ]
    }
   ],
   "source": [
    "print(df.isna().sum())"
   ]
  },
  {
   "cell_type": "markdown",
   "metadata": {
    "id": "74ZIBmq9VrsK"
   },
   "source": [
    "[Back to Contents](#back)"
   ]
  },
  {
   "cell_type": "markdown",
   "metadata": {
    "id": "BWKRtBJ3_Zct"
   },
   "source": [
    "### Duplicates <a id='duplicates'></a>\n",
    "Find the number of obvious duplicates in the table using one command:"
   ]
  },
  {
   "cell_type": "code",
   "execution_count": 19,
   "metadata": {
    "id": "36eES_S0_Zct"
   },
   "outputs": [
    {
     "name": "stdout",
     "output_type": "stream",
     "text": [
      "3826\n"
     ]
    }
   ],
   "source": [
    "print(df.duplicated().sum())"
   ]
  },
  {
   "cell_type": "markdown",
   "metadata": {
    "id": "Ot25h6XR_Zct"
   },
   "source": [
    "Call the `pandas` method for getting rid of obvious duplicates:"
   ]
  },
  {
   "cell_type": "code",
   "execution_count": 20,
   "metadata": {
    "id": "exFHq6tt_Zct"
   },
   "outputs": [],
   "source": [
    "df = df.drop_duplicates()# removing obvious duplicates"
   ]
  },
  {
   "cell_type": "markdown",
   "metadata": {
    "id": "Im2YwBEG_Zct"
   },
   "source": [
    "Count obvious duplicates once more to make sure you have removed all of them:"
   ]
  },
  {
   "cell_type": "code",
   "execution_count": 21,
   "metadata": {
    "id": "-8PuNWQ0_Zct"
   },
   "outputs": [
    {
     "name": "stdout",
     "output_type": "stream",
     "text": [
      "0\n"
     ]
    }
   ],
   "source": [
    "print(df.duplicated().sum())# checking for duplicates"
   ]
  },
  {
   "cell_type": "markdown",
   "metadata": {
    "id": "QlFBsxAr_Zct"
   },
   "source": [
    "Now get rid of implicit duplicates in the `genre` column. For example, the name of a genre can be written in different ways. Such errors will also affect the result."
   ]
  },
  {
   "cell_type": "markdown",
   "metadata": {
    "id": "eSjWwsOh_Zct"
   },
   "source": [
    "Print a list of unique genre names, sorted in alphabetical order. To do so:\n",
    "* Retrieve the intended DataFrame column \n",
    "* Apply a sorting method to it\n",
    "* For the sorted column, call the method that will return all unique column values"
   ]
  },
  {
   "cell_type": "code",
   "execution_count": 22,
   "metadata": {},
   "outputs": [
    {
     "name": "stdout",
     "output_type": "stream",
     "text": [
      "['acid' 'acoustic' 'action' 'adult' 'africa' 'afrikaans' 'alternative'\n",
      " 'ambient' 'americana' 'animated' 'anime' 'arabesk' 'arabic' 'arena'\n",
      " 'argentinetango' 'art' 'audiobook' 'avantgarde' 'axé' 'baile' 'balkan'\n",
      " 'beats' 'bigroom' 'black' 'bluegrass' 'blues' 'bollywood' 'bossa'\n",
      " 'brazilian' 'breakbeat' 'breaks' 'broadway' 'cantautori' 'cantopop'\n",
      " 'canzone' 'caribbean' 'caucasian' 'celtic' 'chamber' 'children' 'chill'\n",
      " 'chinese' 'choral' 'christian' 'christmas' 'classical' 'classicmetal'\n",
      " 'club' 'colombian' 'comedy' 'conjazz' 'contemporary' 'country' 'cuban'\n",
      " 'dance' 'dancehall' 'dancepop' 'dark' 'death' 'deep' 'deutschrock'\n",
      " 'deutschspr' 'dirty' 'disco' 'dnb' 'documentary' 'downbeat' 'downtempo'\n",
      " 'drum' 'dub' 'dubstep' 'eastern' 'easy' 'electronic' 'electropop' 'emo'\n",
      " 'entehno' 'epicmetal' 'estrada' 'ethnic' 'eurofolk' 'european'\n",
      " 'experimental' 'extrememetal' 'fado' 'film' 'fitness' 'flamenco' 'folk'\n",
      " 'folklore' 'folkmetal' 'folkrock' 'folktronica' 'forró' 'frankreich'\n",
      " 'französisch' 'french' 'funk' 'future' 'gangsta' 'garage' 'german'\n",
      " 'ghazal' 'gitarre' 'glitch' 'gospel' 'gothic' 'grime' 'grunge' 'gypsy'\n",
      " 'handsup' \"hard'n'heavy\" 'hardcore' 'hardstyle' 'hardtechno' 'hip'\n",
      " 'hip-hop' 'hiphop' 'historisch' 'holiday' 'hop' 'horror' 'house' 'idm'\n",
      " 'independent' 'indian' 'indie' 'indipop' 'industrial' 'inspirational'\n",
      " 'instrumental' 'international' 'irish' 'jam' 'japanese' 'jazz' 'jewish'\n",
      " 'jpop' 'jungle' 'k-pop' 'karadeniz' 'karaoke' 'kayokyoku' 'korean'\n",
      " 'laiko' 'latin' 'latino' 'leftfield' 'local' 'lounge' 'loungeelectronic'\n",
      " 'lovers' 'malaysian' 'mandopop' 'marschmusik' 'meditative'\n",
      " 'mediterranean' 'melodic' 'metal' 'metalcore' 'mexican' 'middle'\n",
      " 'minimal' 'miscellaneous' 'modern' 'mood' 'mpb' 'muslim' 'native'\n",
      " 'neoklassik' 'neue' 'new' 'newage' 'newwave' 'nu' 'nujazz' 'numetal'\n",
      " 'oceania' 'old' 'opera' 'orchestral' 'other' 'piano' 'pop'\n",
      " 'popelectronic' 'popeurodance' 'post' 'posthardcore' 'postrock' 'power'\n",
      " 'progmetal' 'progressive' 'psychedelic' 'punjabi' 'punk' 'quebecois'\n",
      " 'ragga' 'ram' 'rancheras' 'rap' 'rave' 'reggae' 'reggaeton' 'regional'\n",
      " 'relax' 'religious' 'retro' 'rhythm' 'rnb' 'rnr' 'rock' 'rockabilly'\n",
      " 'romance' 'roots' 'ruspop' 'rusrap' 'rusrock' 'salsa' 'samba' 'schlager'\n",
      " 'self' 'sertanejo' 'shoegazing' 'showtunes' 'singer' 'ska' 'slow'\n",
      " 'smooth' 'soul' 'soulful' 'sound' 'soundtrack' 'southern' 'specialty'\n",
      " 'speech' 'spiritual' 'sport' 'stonerrock' 'surf' 'swing' 'synthpop'\n",
      " 'sängerportrait' 'tango' 'tanzorchester' 'taraftar' 'tech' 'techno'\n",
      " 'thrash' 'top' 'traditional' 'tradjazz' 'trance' 'tribal' 'trip'\n",
      " 'triphop' 'tropical' 'türk' 'türkçe' 'unknown' 'urban' 'uzbek' 'variété'\n",
      " 'vi' 'videogame' 'vocal' 'western' 'world' 'worldbeat' 'ïîï']\n"
     ]
    }
   ],
   "source": [
    "#df['genre']\n",
    "genre = df['genre']\n",
    "sorted_genre = genre.sort_values()\n",
    "#genre.sort_values()\n",
    "print(sorted_genre.unique())"
   ]
  },
  {
   "cell_type": "code",
   "execution_count": 23,
   "metadata": {
    "id": "JIUcqzZN_Zct"
   },
   "outputs": [],
   "source": [
    "#df.loc[:'genre']\n",
    "#print(df['genre'].unique())\n",
    "# viewing unique genre names"
   ]
  },
  {
   "cell_type": "markdown",
   "metadata": {
    "id": "qej-Qmuo_Zct"
   },
   "source": [
    "Look through the list to find implicit duplicates of the genre `hiphop`. These could be names written incorrectly or alternative names of the same genre.\n",
    "\n",
    "You will see the following implicit duplicates:\n",
    "* `hip`\n",
    "* `hop`\n",
    "* `hip-hop`\n",
    "\n",
    "To get rid of them, declare the function `replace_wrong_genres()` with two parameters: \n",
    "* `wrong_genres=` — the list of duplicates\n",
    "* `correct_genre=` — the string with the correct value\n",
    "\n",
    "The function should correct the names in the `'genre'` column from the `df` table, i.e. replace each value from the `wrong_genres` list with the value in `correct_genre`."
   ]
  },
  {
   "cell_type": "code",
   "execution_count": 24,
   "metadata": {
    "id": "ErNDkmns_Zct"
   },
   "outputs": [],
   "source": [
    "def replace_wrong_genres(wrong_genres, correct_genre):\n",
    "    for wrong_value in wrong_genres:\n",
    "        df['genre'] = df['genre'].replace(wrong_genres, correct_genre)# function for replacing implicit duplicates\n",
    "\n",
    "#duplicates = ['hip', 'hop', 'hip-hop']\n",
    "#genre = 'hiphop'\n",
    "#replace_wrong_genres(duplicates, genre)\n",
    "#print(df)"
   ]
  },
  {
   "cell_type": "markdown",
   "metadata": {
    "id": "aDoBJxbA_Zct"
   },
   "source": [
    "Call `replace_wrong_genres()` and pass it arguments so that it clears implicit duplcates (`hip`, `hop`, and `hip-hop`) and replaces them with `hiphop`:"
   ]
  },
  {
   "cell_type": "code",
   "execution_count": 25,
   "metadata": {
    "id": "YN5i2hpmSo09"
   },
   "outputs": [
    {
     "name": "stdout",
     "output_type": "stream",
     "text": [
      "        user_id                              track            artist  \\\n",
      "0      FFB692EC                  Kamigata To Boots  The Mass Missile   \n",
      "1      55204538        Delayed Because of Accident  Andreas Rönnberg   \n",
      "2        20EC38                  Funiculì funiculà       Mario Lanza   \n",
      "3      A3DD03C9              Dragons in the Sunset        Fire + Ice   \n",
      "4      E2DC1FAE                        Soul People        Space Echo   \n",
      "...         ...                                ...               ...   \n",
      "65074  729CBB09                            My Name            McLean   \n",
      "65075  D08D4A55  Maybe One Day (feat. Black Spade)       Blu & Exile   \n",
      "65076  C5E3A0D5                          Jalopiina           unknown   \n",
      "65077  321D0506                      Freight Train     Chas McDevitt   \n",
      "65078  3A64EF84          Tell Me Sweet Little Lies      Monica Lopez   \n",
      "\n",
      "            genre         city      time        day  \n",
      "0            rock  Shelbyville  20:28:33  Wednesday  \n",
      "1            rock  Springfield  14:07:09     Friday  \n",
      "2             pop  Shelbyville  20:58:07  Wednesday  \n",
      "3            folk  Shelbyville  08:37:09     Monday  \n",
      "4           dance  Springfield  08:34:34     Monday  \n",
      "...           ...          ...       ...        ...  \n",
      "65074         rnb  Springfield  13:32:28  Wednesday  \n",
      "65075      hiphop  Shelbyville  10:00:00     Monday  \n",
      "65076  industrial  Springfield  20:09:26     Friday  \n",
      "65077        rock  Springfield  21:43:59     Friday  \n",
      "65078     country  Springfield  21:59:46     Friday  \n",
      "\n",
      "[61253 rows x 7 columns]\n"
     ]
    }
   ],
   "source": [
    "duplicates = ['hip','hop','hip-hop']    \n",
    "genre = 'hiphop'\n",
    "replace_wrong_genres(duplicates, genre)\n",
    "print(df)\n",
    "\n",
    "# removing implicit duplicates"
   ]
  },
  {
   "cell_type": "markdown",
   "metadata": {
    "id": "zQKF16_RG15m"
   },
   "source": [
    "Make sure the duplicate names were removed. Print the list of unique values from the `'genre'` column:"
   ]
  },
  {
   "cell_type": "code",
   "execution_count": 26,
   "metadata": {
    "id": "wvixALnFG15m"
   },
   "outputs": [
    {
     "name": "stdout",
     "output_type": "stream",
     "text": [
      "['rock' 'pop' 'folk' 'dance' 'rusrap' 'ruspop' 'world' 'electronic'\n",
      " 'unknown' 'alternative' 'children' 'rnb' 'hiphop' 'jazz' 'postrock'\n",
      " 'latin' 'classical' 'metal' 'reggae' 'triphop' 'blues' 'instrumental'\n",
      " 'rusrock' 'dnb' 'türk' 'post' 'country' 'psychedelic' 'conjazz' 'indie'\n",
      " 'posthardcore' 'local' 'avantgarde' 'punk' 'videogame' 'techno' 'house'\n",
      " 'christmas' 'melodic' 'caucasian' 'reggaeton' 'soundtrack' 'singer' 'ska'\n",
      " 'salsa' 'ambient' 'film' 'western' 'rap' 'beats' \"hard'n'heavy\"\n",
      " 'progmetal' 'minimal' 'tropical' 'contemporary' 'new' 'soul' 'holiday'\n",
      " 'german' 'jpop' 'spiritual' 'urban' 'gospel' 'nujazz' 'folkmetal'\n",
      " 'trance' 'miscellaneous' 'anime' 'hardcore' 'progressive' 'korean'\n",
      " 'numetal' 'vocal' 'estrada' 'tango' 'loungeelectronic' 'classicmetal'\n",
      " 'dubstep' 'club' 'deep' 'southern' 'black' 'folkrock' 'fitness' 'french'\n",
      " 'disco' 'religious' 'drum' 'extrememetal' 'türkçe' 'experimental' 'easy'\n",
      " 'metalcore' 'modern' 'argentinetango' 'old' 'swing' 'breaks' 'eurofolk'\n",
      " 'stonerrock' 'industrial' 'funk' 'middle' 'variété' 'other' 'adult'\n",
      " 'christian' 'thrash' 'gothic' 'international' 'muslim' 'relax' 'schlager'\n",
      " 'caribbean' 'nu' 'breakbeat' 'comedy' 'chill' 'newage' 'specialty'\n",
      " 'uzbek' 'k-pop' 'balkan' 'chinese' 'meditative' 'dub' 'power' 'death'\n",
      " 'grime' 'arabesk' 'romance' 'flamenco' 'leftfield' 'european' 'tech'\n",
      " 'newwave' 'dancehall' 'mpb' 'piano' 'top' 'bigroom' 'opera' 'celtic'\n",
      " 'tradjazz' 'acoustic' 'epicmetal' 'historisch' 'downbeat' 'downtempo'\n",
      " 'africa' 'audiobook' 'jewish' 'sängerportrait' 'deutschrock' 'eastern'\n",
      " 'action' 'future' 'electropop' 'folklore' 'bollywood' 'marschmusik' 'rnr'\n",
      " 'karaoke' 'indian' 'rancheras' 'afrikaans' 'rhythm' 'sound' 'deutschspr'\n",
      " 'trip' 'lovers' 'choral' 'dancepop' 'retro' 'smooth' 'mexican'\n",
      " 'brazilian' 'ïîï' 'mood' 'surf' 'gangsta' 'inspirational' 'idm' 'ethnic'\n",
      " 'bluegrass' 'broadway' 'animated' 'americana' 'karadeniz' 'rockabilly'\n",
      " 'colombian' 'self' 'sertanejo' 'japanese' 'canzone' 'lounge' 'sport'\n",
      " 'ragga' 'traditional' 'gitarre' 'frankreich' 'emo' 'laiko' 'cantopop'\n",
      " 'glitch' 'documentary' 'oceania' 'popeurodance' 'dark' 'vi' 'grunge'\n",
      " 'hardstyle' 'samba' 'garage' 'art' 'folktronica' 'entehno'\n",
      " 'mediterranean' 'chamber' 'cuban' 'taraftar' 'gypsy' 'hardtechno'\n",
      " 'shoegazing' 'bossa' 'latino' 'worldbeat' 'malaysian' 'baile' 'ghazal'\n",
      " 'arabic' 'popelectronic' 'acid' 'kayokyoku' 'neoklassik' 'tribal'\n",
      " 'tanzorchester' 'native' 'independent' 'cantautori' 'handsup' 'punjabi'\n",
      " 'synthpop' 'rave' 'französisch' 'quebecois' 'speech' 'soulful' 'jam'\n",
      " 'ram' 'horror' 'orchestral' 'neue' 'roots' 'slow' 'jungle' 'indipop'\n",
      " 'axé' 'fado' 'showtunes' 'arena' 'irish' 'mandopop' 'forró' 'dirty'\n",
      " 'regional']\n"
     ]
    }
   ],
   "source": [
    "#print(df['genre'].unique())# checking for implicit duplicates\n",
    "print(df['genre'].unique())"
   ]
  },
  {
   "cell_type": "markdown",
   "metadata": {
    "id": "ALgNbvF3VtPA"
   },
   "source": [
    "[Back to Contents](#back)"
   ]
  },
  {
   "cell_type": "markdown",
   "metadata": {
    "id": "jz6a9-7HQUDd"
   },
   "source": [
    "### Conclusions <a id='data_preprocessing_conclusions'></a>\n",
    "We detected three issues with the data:\n",
    "\n",
    "- Incorrect header styles\n",
    "- Missing values\n",
    "- Obvious and implicit duplicates\n",
    "\n",
    "The headers have been cleaned up to make processing the table simpler.\n",
    "\n",
    "All missing values have been replaced with `'unknown'`. But we still have to see whether the missing values in `'genre'` will affect our calculations.\n",
    "\n",
    "The absence of duplicates will make the results more precise and easier to understand.\n",
    "\n",
    "Now we can move on to testing hypotheses. "
   ]
  },
  {
   "cell_type": "markdown",
   "metadata": {
    "id": "eK1es74rVujj"
   },
   "source": [
    "[Back to Contents](#back)"
   ]
  },
  {
   "cell_type": "markdown",
   "metadata": {
    "id": "WttZHXH0SqKk"
   },
   "source": [
    "## Stage 3. Testing hypotheses <a id='hypotheses'></a>"
   ]
  },
  {
   "cell_type": "markdown",
   "metadata": {
    "id": "Im936VVi_Zcu"
   },
   "source": [
    "### Hypothesis 1: comparing user behavior in two cities <a id='activity'></a>"
   ]
  },
  {
   "cell_type": "markdown",
   "metadata": {
    "id": "nwt_MuaL_Zcu"
   },
   "source": [
    "According to the first hypothesis, users from Springfield and Shelbyville listen to music differently. Test this using the data on three days of the week: Monday, Wednesday, and Friday.\n",
    "\n",
    "* Divide the users into groups by city.\n",
    "* Compare how many tracks each group played on Monday, Wednesday, and Friday.\n"
   ]
  },
  {
   "cell_type": "markdown",
   "metadata": {
    "id": "8Dw_YMmT_Zcu"
   },
   "source": [
    "For the sake of practice, perform each computation separately. \n",
    "\n",
    "Evaluate user activity in each city. Group the data by city and find the number of songs played in each group.\n",
    "\n"
   ]
  },
  {
   "cell_type": "code",
   "execution_count": 27,
   "metadata": {},
   "outputs": [],
   "source": [
    "sh_data = df[df[\"city\"] == \"Shelbyville\"]\n",
    "sf_data = df[df[\"city\"] == \"Springfield\"]"
   ]
  },
  {
   "cell_type": "code",
   "execution_count": 28,
   "metadata": {},
   "outputs": [
    {
     "name": "stdout",
     "output_type": "stream",
     "text": [
      "Total Tracks for Shelbyville on Wednesday: 7003\n",
      "Total Tracks for Shelbyville on Friday: 5895\n",
      "Total Tracks for Shelbyville on Monday: 5614\n"
     ]
    }
   ],
   "source": [
    "sh_wed = sh_data[sh_data[\"day\"] == \"Wednesday\"].shape[0]\n",
    "sh_fri = sh_data[sh_data[\"day\"] == \"Friday\"].shape[0]\n",
    "sh_mon = sh_data[sh_data[\"day\"] == \"Monday\"].shape[0]\n",
    "\n",
    "\n",
    "print(f\"Total Tracks for Shelbyville on Wednesday: {sh_wed}\")\n",
    "print(f\"Total Tracks for Shelbyville on Friday: {sh_fri}\")\n",
    "print(f\"Total Tracks for Shelbyville on Monday: {sh_mon}\")"
   ]
  },
  {
   "cell_type": "code",
   "execution_count": 29,
   "metadata": {},
   "outputs": [
    {
     "name": "stdout",
     "output_type": "stream",
     "text": [
      "Total Tracks for Shelbyville on Wednesday: 11056\n",
      "Total Tracks for Shelbyville on Friday: 15945\n",
      "Total Tracks for Shelbyville on Monday: 15740\n"
     ]
    }
   ],
   "source": [
    "sf_wed = sf_data[sf_data[\"day\"] == \"Wednesday\"].shape[0]\n",
    "sf_fri = sf_data[sf_data[\"day\"] == \"Friday\"].shape[0]\n",
    "sf_mon = sf_data[sf_data[\"day\"] == \"Monday\"].shape[0]\n",
    "\n",
    "print(f\"Total Tracks for Shelbyville on Wednesday: {sf_wed}\")\n",
    "print(f\"Total Tracks for Shelbyville on Friday: {sf_fri}\")\n",
    "print(f\"Total Tracks for Shelbyville on Monday: {sf_mon}\")"
   ]
  },
  {
   "cell_type": "code",
   "execution_count": 30,
   "metadata": {
    "id": "0_Qs96oh_Zcu"
   },
   "outputs": [
    {
     "name": "stdout",
     "output_type": "stream",
     "text": [
      "city\n",
      "Shelbyville    18512\n",
      "Springfield    42741\n",
      "Name: track, dtype: int64\n"
     ]
    }
   ],
   "source": [
    "print(df.groupby('city')[\"track\"].count())\n",
    "# Counting up the tracks played in each city"
   ]
  },
  {
   "cell_type": "markdown",
   "metadata": {},
   "source": [
    "Student's commentary: Thank you!"
   ]
  },
  {
   "cell_type": "markdown",
   "metadata": {
    "id": "dzli3w8o_Zcu"
   },
   "source": [
    "Springfield has more tracks played than Shelbyville. But that does not imply that citizens of Springfield listen to music more often. This city is simply bigger, and there are more users.\n",
    "\n",
    "Now group the data by day of the week and find the number of tracks played on Monday, Wednesday, and Friday.\n"
   ]
  },
  {
   "cell_type": "code",
   "execution_count": 31,
   "metadata": {
    "id": "uZMKjiJz_Zcu"
   },
   "outputs": [
    {
     "name": "stdout",
     "output_type": "stream",
     "text": [
      "day\n",
      "Friday       21840\n",
      "Monday       21354\n",
      "Wednesday    18059\n",
      "Name: track, dtype: int64\n"
     ]
    }
   ],
   "source": [
    "# Calculating tracks played on each of the three days\n",
    "#df.sort_values(by = 'day', 'Monday')\n",
    "#print(df[df['day'] == 'Monday'])\n",
    "\n",
    "print(df.groupby('day')['track'].count())"
   ]
  },
  {
   "cell_type": "markdown",
   "metadata": {
    "id": "cC2tNrlL_Zcu"
   },
   "source": [
    "Wednesday is the quietest day overall. But if we consider the two cities separately, we might come to a different conclusion."
   ]
  },
  {
   "cell_type": "markdown",
   "metadata": {
    "id": "POzs8bGa_Zcu"
   },
   "source": [
    "You have seen how grouping by city or day works. Now write a function that will group by both.\n",
    "\n",
    "Create the `number_tracks()` function to calculate the number of songs played for a given day and city. It will require two parameters:\n",
    "* day of the week\n",
    "* name of the city\n",
    "\n",
    "In the function, use a variable to store the rows from the original table, where:\n",
    "  * `'day'` column value is equal to the `day` parameter\n",
    "  * `'city'` column value is equal to the `city` parameter\n",
    "\n",
    "Apply consecutive filtering with logical indexing.\n",
    "\n",
    "Then calculate the `'user_id'` column values in the resulting table. Store the result to a new variable. Return this variable from the function."
   ]
  },
  {
   "cell_type": "code",
   "execution_count": 32,
   "metadata": {},
   "outputs": [
    {
     "data": {
      "text/plain": [
       "Index(['user_id', 'track', 'artist', 'genre', 'city', 'time', 'day'], dtype='object')"
      ]
     },
     "execution_count": 32,
     "metadata": {},
     "output_type": "execute_result"
    }
   ],
   "source": [
    "df.columns"
   ]
  },
  {
   "cell_type": "markdown",
   "metadata": {},
   "source": [
    "Student's commentary: I've deleted the repeated renaming. Thank you."
   ]
  },
  {
   "cell_type": "code",
   "execution_count": 33,
   "metadata": {
    "id": "Nz3GdQB1_Zcu"
   },
   "outputs": [],
   "source": [
    "def number_tracks(day_of_week, name_of_city): \n",
    "    track_list = df[(df.day == day_of_week) & (df[\"city\"] == name_of_city)]\n",
    "    track_list_count = track_list['user_id'].count()\n",
    "    return track_list_count\n",
    "   \n",
    "\n",
    "    #print(number_tracks[day_of_week, name_of_city])?\n",
    "    \n",
    "\n",
    "\n",
    "# <creating the function number_tracks()>\n",
    "# We'll declare a function with two parameters: day=, city=.\n",
    "# Let the track_list variable store the df rows where\n",
    "# the value in the 'day' column is equal to the day= parameter and, at the same time, \n",
    "# the value in the 'city' column is equal to the city= parameter (apply consecutive filtering \n",
    "# with logical indexing).\n",
    "# Let the track_list_count variable store the number of 'user_id' column values in track_list\n",
    "# (found with the count() method).\n",
    "# Let the function return a number: the value of track_list_count.\n",
    "\n",
    "# The function counts tracked played for a certain city and day.\n",
    "# It first retrieves the rows with the intended day from the table,\n",
    "# then filters out the rows with the intended city from the result,\n",
    "# then finds the number of 'user_id' values in the filtered table,\n",
    "# then returns that number.\n",
    "# To see what it returns, wrap the function call in print()."
   ]
  },
  {
   "cell_type": "markdown",
   "metadata": {
    "id": "ytf7xFrFJQ2r"
   },
   "source": [
    "Call `number_tracks()` six times, changing the parameter values, so that you retrieve the data on both cities for each of the three days."
   ]
  },
  {
   "cell_type": "code",
   "execution_count": 34,
   "metadata": {
    "id": "rJcRATNQ_Zcu",
    "scrolled": true
   },
   "outputs": [
    {
     "data": {
      "text/plain": [
       "15740"
      ]
     },
     "execution_count": 34,
     "metadata": {},
     "output_type": "execute_result"
    }
   ],
   "source": [
    "number_tracks('Monday', 'Springfield') # the number of songs played in Springfield on Monday"
   ]
  },
  {
   "cell_type": "code",
   "execution_count": 35,
   "metadata": {
    "id": "hq_ncZ5T_Zcu"
   },
   "outputs": [
    {
     "data": {
      "text/plain": [
       "5614"
      ]
     },
     "execution_count": 35,
     "metadata": {},
     "output_type": "execute_result"
    }
   ],
   "source": [
    "# the number of songs played in Shelbyville on Monday\n",
    "number_tracks(\"Monday\", \"Shelbyville\")"
   ]
  },
  {
   "cell_type": "code",
   "execution_count": 36,
   "metadata": {
    "id": "_NTy2VPU_Zcu"
   },
   "outputs": [
    {
     "data": {
      "text/plain": [
       "11056"
      ]
     },
     "execution_count": 36,
     "metadata": {},
     "output_type": "execute_result"
    }
   ],
   "source": [
    "# the number of songs played in Springfield on Wednesday\n",
    "number_tracks('Wednesday', 'Springfield')"
   ]
  },
  {
   "cell_type": "code",
   "execution_count": 37,
   "metadata": {
    "id": "j2y3TAwo_Zcu"
   },
   "outputs": [
    {
     "data": {
      "text/plain": [
       "7003"
      ]
     },
     "execution_count": 37,
     "metadata": {},
     "output_type": "execute_result"
    }
   ],
   "source": [
    "# the number of songs played in Shelbyville on Wednesday\n",
    "number_tracks(\"Wednesday\", \"Shelbyville\")"
   ]
  },
  {
   "cell_type": "code",
   "execution_count": 38,
   "metadata": {
    "id": "vYDw5u_K_Zcu"
   },
   "outputs": [
    {
     "data": {
      "text/plain": [
       "15945"
      ]
     },
     "execution_count": 38,
     "metadata": {},
     "output_type": "execute_result"
    }
   ],
   "source": [
    "# the number of songs played in Springfield on Friday\n",
    "number_tracks('Friday', 'Springfield')"
   ]
  },
  {
   "cell_type": "code",
   "execution_count": 39,
   "metadata": {
    "id": "8_yzFtW3_Zcu"
   },
   "outputs": [
    {
     "data": {
      "text/plain": [
       "5895"
      ]
     },
     "execution_count": 39,
     "metadata": {},
     "output_type": "execute_result"
    }
   ],
   "source": [
    "# the number of songs played in Shelbyville on Friday\n",
    "number_tracks(\"Friday\", \"Shelbyville\")"
   ]
  },
  {
   "cell_type": "markdown",
   "metadata": {
    "id": "7QXffbO-_Zcu"
   },
   "source": [
    "Use `pd.DataFrame` to create a table, where\n",
    "* Column names are: `['city', 'monday', 'wednesday', 'friday']`\n",
    "* The data is the results you got from `number_tracks()`"
   ]
  },
  {
   "cell_type": "code",
   "execution_count": 40,
   "metadata": {},
   "outputs": [],
   "source": [
    "spring_mon = number_tracks('Monday', 'Springfield')\n",
    "shelby_mon = number_tracks('Monday', 'Shelbyville')\n",
    "\n",
    "spring_wed = number_tracks('Wednesday', 'Springfield')\n",
    "shelby_wed = number_tracks('Wednesday', 'Shelbyville')\n",
    "\n",
    "spring_fri = number_tracks('Friday', 'Springfield')\n",
    "shelby_fri = number_tracks('Friday', 'Shelbyville')"
   ]
  },
  {
   "cell_type": "code",
   "execution_count": 41,
   "metadata": {},
   "outputs": [],
   "source": [
    "result = pd.DataFrame({\n",
    "    \"city\": ['Springfield', \"Shelbyville\"],\n",
    "    \"monday\": [spring_mon, shelby_mon],\n",
    "    \"wednesday\": [spring_wed, shelby_wed],\n",
    "    \"friday\": [spring_fri, shelby_fri]\n",
    "})"
   ]
  },
  {
   "cell_type": "code",
   "execution_count": 42,
   "metadata": {
    "id": "APAcLpOr_Zcu"
   },
   "outputs": [
    {
     "data": {
      "text/html": [
       "<div>\n",
       "<style scoped>\n",
       "    .dataframe tbody tr th:only-of-type {\n",
       "        vertical-align: middle;\n",
       "    }\n",
       "\n",
       "    .dataframe tbody tr th {\n",
       "        vertical-align: top;\n",
       "    }\n",
       "\n",
       "    .dataframe thead th {\n",
       "        text-align: right;\n",
       "    }\n",
       "</style>\n",
       "<table border=\"1\" class=\"dataframe\">\n",
       "  <thead>\n",
       "    <tr style=\"text-align: right;\">\n",
       "      <th></th>\n",
       "      <th>city</th>\n",
       "      <th>monday</th>\n",
       "      <th>wednesday</th>\n",
       "      <th>friday</th>\n",
       "    </tr>\n",
       "  </thead>\n",
       "  <tbody>\n",
       "    <tr>\n",
       "      <th>0</th>\n",
       "      <td>Springfield</td>\n",
       "      <td>15740</td>\n",
       "      <td>11056</td>\n",
       "      <td>15945</td>\n",
       "    </tr>\n",
       "    <tr>\n",
       "      <th>1</th>\n",
       "      <td>Shelbyville</td>\n",
       "      <td>5614</td>\n",
       "      <td>7003</td>\n",
       "      <td>5895</td>\n",
       "    </tr>\n",
       "  </tbody>\n",
       "</table>\n",
       "</div>"
      ],
      "text/plain": [
       "          city  monday  wednesday  friday\n",
       "0  Springfield   15740      11056   15945\n",
       "1  Shelbyville    5614       7003    5895"
      ]
     },
     "execution_count": 42,
     "metadata": {},
     "output_type": "execute_result"
    }
   ],
   "source": [
    "# table with results\n",
    "result"
   ]
  },
  {
   "cell_type": "markdown",
   "metadata": {
    "id": "-EgPIHYu_Zcu"
   },
   "source": [
    "**Conclusions**\n",
    "\n",
    "The data reveals differences in user behavior:\n",
    "\n",
    "- In Springfield, the number of songs played peaks on Mondays and Fridays, while on Wednesday there is a decrease in activity.\n",
    "- In Shelbyville, on the contrary, users listen to music more on Wednesday. User activity on Monday and Friday is smaller.\n",
    "\n",
    "So the first hypothesis seems to be correct."
   ]
  },
  {
   "cell_type": "markdown",
   "metadata": {
    "id": "p7nFQajCVw5B"
   },
   "source": [
    "[Back to Contents](#back)"
   ]
  },
  {
   "cell_type": "markdown",
   "metadata": {
    "id": "atZAxtq4_Zcu"
   },
   "source": [
    "### Hypothesis 2: music at the beginning and end of the week <a id='week'></a>"
   ]
  },
  {
   "cell_type": "markdown",
   "metadata": {
    "id": "eXrQqXFH_Zcu"
   },
   "source": [
    "According to the second hypothesis, on Monday morning and Friday night, citizens of Springfield listen to genres that differ from ones users from Shelbyville enjoy."
   ]
  },
  {
   "cell_type": "markdown",
   "metadata": {
    "id": "S8UcW6Hw_Zcu"
   },
   "source": [
    "Get tables (make sure that the name of your combined table matches the DataFrame given in the two code blocks below):\n",
    "* For Springfield — `spr_general`\n",
    "* For Shelbyville — `shel_general`"
   ]
  },
  {
   "cell_type": "code",
   "execution_count": 43,
   "metadata": {
    "id": "qeaFfM_P_Zcu",
    "pycharm": {
     "is_executing": true
    }
   },
   "outputs": [],
   "source": [
    "# create the spr_general table from the df rows, \n",
    "# where the value in the 'city' column is 'Springfield'\n",
    "\n",
    "spr_general = df[df[\"city\"] == \"Springfield\"]"
   ]
  },
  {
   "cell_type": "code",
   "execution_count": 44,
   "metadata": {
    "id": "ORaVRKto_Zcu"
   },
   "outputs": [],
   "source": [
    "# create the shel_general from the df rows,\n",
    "# where the value in the 'city' column is 'Shelbyville'\n",
    "shel_general = df[df[\"city\"] == \"Shelbyville\"]"
   ]
  },
  {
   "cell_type": "markdown",
   "metadata": {
    "id": "MEJV-CX2_Zcu"
   },
   "source": [
    "Write the `genre_weekday()` function with four parameters:\n",
    "* A table for data (`df`)\n",
    "* The day of the week (`day`)\n",
    "* The first timestamp, in 'hh:mm' format (`time1`)\n",
    "* The last timestamp, in 'hh:mm' format (`time2`)\n",
    "\n",
    "The function should return info on the 15 most popular genres on a given day within the period between the two timestamps."
   ]
  },
  {
   "cell_type": "code",
   "execution_count": 45,
   "metadata": {},
   "outputs": [],
   "source": [
    "spr_general[\"time\"] = pd.to_datetime(spr_general[\"time\"])\n",
    "shel_general[\"time\"] = pd.to_datetime(shel_general[\"time\"])"
   ]
  },
  {
   "cell_type": "markdown",
   "metadata": {},
   "source": [
    "def genre_weekday(df, day, time1, time2):\n",
    "    day_df = df[df[\"day\"] == day]\n",
    "    genre_df = day_df[day_df[\"time\"].between(time1, time2)]\n",
    "    genre_df_sorted = genre_df.groupby(\"genre\")[\"user_id\"].count().to_frame(\"Count\").sort_values(\"Count\", ascending=False).iloc[:15]\n",
    "    return pd.Series(genre_df_sorted.index)"
   ]
  },
  {
   "cell_type": "code",
   "execution_count": 46,
   "metadata": {},
   "outputs": [],
   "source": [
    "# 1) Let the genre_df variable store the rows that meet several conditions:\n",
    "#    - the value in the 'day' column is equal to the value of the day= argument\n",
    "#    - the value in the 'time' column is greater than the value of the time1= argument\n",
    "#    - the value in the 'time' column is smaller than the value of the time2= argument\n",
    "#    Use consecutive filtering with logical indexing.\n",
    "\n",
    "# 2) Group genre_df by the 'genre' column, take one of its columns, \n",
    "#    and use the count() method to find the number of entries for each of \n",
    "#    the represented genres; store the resulting Series to the\n",
    "#    genre_df_count variable\n",
    "\n",
    "# 3) Sort genre_df_count in descending order of frequency and store the result\n",
    "#    to the genre_df_sorted variable\n",
    "\n",
    "# 4) Return a Series object with the first 15 genre_df_sorted value - the 15 most\n",
    "#    popular genres (on a given day, within a certain timeframe)\n",
    "\n",
    "def genre_weekday(df, day, time1, time2):# Write your function here\n",
    "\n",
    "    # consecutive filtering\n",
    "    # Create the variable genre_df which will store only those df rows where the day is equal to day=\n",
    "    genre_df = df[df['day'] == day]# write your code here\n",
    "\n",
    "    # filter again so that genre_df will store only those rows where the time is smaller than time2=\n",
    "    genre_df = genre_df[genre_df['time'] < time2]# write your code here\n",
    "\n",
    "    # filter once more so that genre_df will store only rows where the time is greater than time1=\n",
    "    genre_df = genre_df[genre_df['time'] > time1]# write your code here\n",
    "\n",
    "    # group the filtered DataFrame by the column with the names of genres, take the genre column, and find the number of rows for each genre with the count() method\n",
    "    genre_df_count = genre_df.groupby('genre')['user_id'].count()# write your code here\n",
    "\n",
    "    # sort the result in descending order (so that the most popular genres come first in the Series object)\n",
    "    genre_df_sorted = genre_df_count.sort_values(ascending= False)# write your code here\n",
    "\n",
    "    # we will return the Series object storing the 15 most popular genres on a given day in a given timeframe\n",
    "    return genre_df_sorted[:15]"
   ]
  },
  {
   "cell_type": "code",
   "execution_count": 47,
   "metadata": {},
   "outputs": [
    {
     "data": {
      "text/plain": [
       "genre\n",
       "pop            710\n",
       "rock           508\n",
       "dance          489\n",
       "electronic     478\n",
       "hiphop         273\n",
       "world          206\n",
       "ruspop         169\n",
       "alternative    163\n",
       "classical      160\n",
       "rusrap         139\n",
       "unknown        110\n",
       "jazz           109\n",
       "soundtrack     103\n",
       "rnb             90\n",
       "metal           86\n",
       "Name: user_id, dtype: int64"
      ]
     },
     "execution_count": 47,
     "metadata": {},
     "output_type": "execute_result"
    }
   ],
   "source": [
    "genre_weekday(spr_general, \"Friday\", \"16:00\", \"22:00\")"
   ]
  },
  {
   "cell_type": "markdown",
   "metadata": {
    "id": "la2s2_PF_Zcu"
   },
   "source": [
    "Compare the results of the `genre_weekday()` function for Springfield and Shelbyville on Monday morning (from 7AM to 11AM) and on Friday evening (from 17:00 to 23:00):"
   ]
  },
  {
   "cell_type": "code",
   "execution_count": 48,
   "metadata": {
    "id": "yz7itPUQ_Zcu"
   },
   "outputs": [
    {
     "data": {
      "text/plain": [
       "genre\n",
       "pop            781\n",
       "dance          549\n",
       "electronic     480\n",
       "rock           474\n",
       "hiphop         286\n",
       "ruspop         186\n",
       "world          181\n",
       "rusrap         175\n",
       "alternative    164\n",
       "unknown        161\n",
       "classical      157\n",
       "metal          120\n",
       "jazz           100\n",
       "folk            97\n",
       "soundtrack      95\n",
       "Name: user_id, dtype: int64"
      ]
     },
     "execution_count": 48,
     "metadata": {},
     "output_type": "execute_result"
    }
   ],
   "source": [
    "# calling the function for Monday morning in Springfield (use spr_general instead of the df table)\n",
    "genre_weekday(spr_general, \"Monday\", \"07:00\", \"11:00\")"
   ]
  },
  {
   "cell_type": "code",
   "execution_count": 49,
   "metadata": {
    "id": "kwUcHPdy_Zcu"
   },
   "outputs": [
    {
     "data": {
      "text/plain": [
       "genre\n",
       "pop            218\n",
       "dance          182\n",
       "rock           162\n",
       "electronic     147\n",
       "hiphop          80\n",
       "ruspop          64\n",
       "alternative     58\n",
       "rusrap          55\n",
       "jazz            44\n",
       "classical       40\n",
       "world           36\n",
       "rap             32\n",
       "soundtrack      31\n",
       "rnb             27\n",
       "metal           27\n",
       "Name: user_id, dtype: int64"
      ]
     },
     "execution_count": 49,
     "metadata": {},
     "output_type": "execute_result"
    }
   ],
   "source": [
    "# calling the function for Monday morning in Shelbyville (use shel_general instead of the df table)\n",
    "genre_weekday(shel_general, \"Monday\", \"07:00\", \"11:00\")"
   ]
  },
  {
   "cell_type": "code",
   "execution_count": 50,
   "metadata": {
    "id": "EzXVRE1o_Zcu",
    "scrolled": true
   },
   "outputs": [
    {
     "data": {
      "text/plain": [
       "genre\n",
       "pop            713\n",
       "rock           517\n",
       "dance          495\n",
       "electronic     482\n",
       "hiphop         273\n",
       "world          208\n",
       "ruspop         170\n",
       "classical      163\n",
       "alternative    163\n",
       "rusrap         142\n",
       "jazz           111\n",
       "unknown        110\n",
       "soundtrack     105\n",
       "rnb             90\n",
       "metal           88\n",
       "Name: user_id, dtype: int64"
      ]
     },
     "execution_count": 50,
     "metadata": {},
     "output_type": "execute_result"
    }
   ],
   "source": [
    "# calling the function for Friday evening in Springfield\n",
    "genre_weekday(spr_general, \"Friday\", \"17:00\", \"23:00\")"
   ]
  },
  {
   "cell_type": "code",
   "execution_count": 51,
   "metadata": {
    "id": "JZaEKu5v_Zcu"
   },
   "outputs": [
    {
     "data": {
      "text/plain": [
       "genre\n",
       "pop            256\n",
       "rock           216\n",
       "electronic     216\n",
       "dance          210\n",
       "hiphop          97\n",
       "alternative     63\n",
       "jazz            61\n",
       "classical       60\n",
       "rusrap          59\n",
       "world           54\n",
       "unknown         47\n",
       "ruspop          47\n",
       "soundtrack      40\n",
       "metal           39\n",
       "rap             36\n",
       "Name: user_id, dtype: int64"
      ]
     },
     "execution_count": 51,
     "metadata": {},
     "output_type": "execute_result"
    }
   ],
   "source": [
    "# calling the function for Friday evening in Shelbyville\n",
    "genre_weekday(shel_general, \"Friday\", \"17:00\", \"23:00\")"
   ]
  },
  {
   "cell_type": "markdown",
   "metadata": {
    "id": "wrCe4MNX_Zcu"
   },
   "source": [
    "**Conclusion**\n",
    "\n",
    "Having compared the top 15 genres on Monday morning, we can draw the following conclusions:\n",
    "\n",
    "1. Users from Springfield and Shelbyville listen to similar music. The top five genres are the same, only rock and electronic have switched places.\n",
    "\n",
    "2. In Springfield, the number of missing values turned out to be so big that the value `'unknown'` came in 10th. This means that missing values make up a considerable portion of the data, which may be a basis for questioning the reliability of our conclusions.\n",
    "\n",
    "For Friday evening, the situation is similar. Individual genres vary somewhat, but on the whole, the top 15 is similar for the two cities.\n",
    "\n",
    "Thus, the second hypothesis has been partially proven true:\n",
    "* Users listen to similar music at the beginning and end of the week.\n",
    "* There is no major difference between Springfield and Shelbyville. In both cities, pop is the most popular genre.\n",
    "\n",
    "However, the number of missing values makes this result questionable. In Springfield, there are so many that they affect our top 15. Were we not missing these values, things might look different."
   ]
  },
  {
   "cell_type": "markdown",
   "metadata": {
    "id": "jLmXgdanVyhP"
   },
   "source": [
    "[Back to Contents](#back)"
   ]
  },
  {
   "cell_type": "markdown",
   "metadata": {
    "id": "JolODAqr_Zcu"
   },
   "source": [
    "### Hypothesis 3: genre preferences in Springfield and Shelbyville <a id='genre'></a>\n",
    "\n",
    "Hypothesis: Shelbyville loves rap music. Springfield's citizens are more into pop."
   ]
  },
  {
   "cell_type": "markdown",
   "metadata": {
    "id": "DlegSvaT_Zcu"
   },
   "source": [
    "Group the `spr_general` table by genre and find the number of songs played for each genre with the `count()` method. Then sort the result in descending order and store it to `spr_genres`."
   ]
  },
  {
   "cell_type": "code",
   "execution_count": 52,
   "metadata": {},
   "outputs": [
    {
     "data": {
      "text/plain": [
       "Index(['user_id', 'track', 'artist', 'genre', 'city', 'time', 'day'], dtype='object')"
      ]
     },
     "execution_count": 52,
     "metadata": {},
     "output_type": "execute_result"
    }
   ],
   "source": [
    "spr_general.columns"
   ]
  },
  {
   "cell_type": "code",
   "execution_count": 53,
   "metadata": {
    "id": "r19lIPke_Zcu"
   },
   "outputs": [],
   "source": [
    "# on one line: group the spr_general table by the 'genre' column, \n",
    "# count the 'genre' values with count() in the grouping, \n",
    "# sort the resulting Series in descending order, and store it to spr_genres\n",
    "\n",
    "spr_genres = spr_general.groupby(\"genre\").count().sort_values(\"day\", ascending=False)[\"user_id\"]"
   ]
  },
  {
   "cell_type": "markdown",
   "metadata": {
    "id": "6kMuomxTiIr8"
   },
   "source": [
    "Print the first 10 rows from `spr_genres`:"
   ]
  },
  {
   "cell_type": "code",
   "execution_count": 54,
   "metadata": {
    "id": "WhCSooF8_Zcv"
   },
   "outputs": [
    {
     "name": "stdout",
     "output_type": "stream",
     "text": [
      "genre\n",
      "pop            5892\n",
      "dance          4435\n",
      "rock           3965\n",
      "electronic     3786\n",
      "hiphop         2096\n",
      "classical      1616\n",
      "world          1432\n",
      "alternative    1379\n",
      "ruspop         1372\n",
      "rusrap         1161\n",
      "Name: user_id, dtype: int64\n"
     ]
    }
   ],
   "source": [
    "# printing the first 10 rows of spr_genres\n",
    "\n",
    "print(spr_genres[:10])"
   ]
  },
  {
   "cell_type": "markdown",
   "metadata": {
    "id": "cnPG2vnN_Zcv"
   },
   "source": [
    "Now do the same with the data on Shelbyville.\n",
    "\n",
    "Group the `shel_general` table by genre and find the number of songs played for each genre. Then sort the result in descending order and store it to the `shel_genres` table:\n"
   ]
  },
  {
   "cell_type": "code",
   "execution_count": 55,
   "metadata": {
    "id": "gluLIpE7_Zcv"
   },
   "outputs": [],
   "source": [
    "# on one line: group the shel_general table by the 'genre' column, \n",
    "# count the 'genre' values in the grouping with count(), \n",
    "# sort the resulting Series in descending order and store it to shel_genres\n",
    "\n",
    "shel_genres = shel_general.groupby(\"genre\").count().sort_values(\"day\", ascending=False)[\"user_id\"]"
   ]
  },
  {
   "cell_type": "markdown",
   "metadata": {
    "id": "5Doha_ODgyQ8"
   },
   "source": [
    "Print the first 10 rows of `shel_genres`:"
   ]
  },
  {
   "cell_type": "code",
   "execution_count": 56,
   "metadata": {
    "id": "uaGJHjVU_Zcv"
   },
   "outputs": [
    {
     "name": "stdout",
     "output_type": "stream",
     "text": [
      "genre\n",
      "pop            2431\n",
      "dance          1932\n",
      "rock           1879\n",
      "electronic     1736\n",
      "hiphop          960\n",
      "alternative     649\n",
      "classical       646\n",
      "rusrap          564\n",
      "ruspop          538\n",
      "world           515\n",
      "Name: user_id, dtype: int64\n"
     ]
    }
   ],
   "source": [
    "# printing the first 10 rows from shel_genres\n",
    "\n",
    "print(shel_genres[:10])"
   ]
  },
  {
   "cell_type": "markdown",
   "metadata": {
    "id": "RY51YJYu_Zcv"
   },
   "source": [
    "**Conclusion**"
   ]
  },
  {
   "cell_type": "markdown",
   "metadata": {
    "id": "nVhnJEm__Zcv"
   },
   "source": [
    "The hypothesis has been partially proven true:\n",
    "* Pop music is the most popular genre in Springfield, as expected.\n",
    "* However, pop music turned out to be equally popular in Springfield and Shelbyville, and rap wasn't in the top 5 for either city.\n"
   ]
  },
  {
   "cell_type": "markdown",
   "metadata": {
    "id": "Byr0RfpPVz14"
   },
   "source": [
    "[Back to Contents](#back)"
   ]
  },
  {
   "cell_type": "markdown",
   "metadata": {
    "id": "ykKQ0N65_Zcv"
   },
   "source": [
    "# Findings <a id='end'></a>"
   ]
  },
  {
   "cell_type": "markdown",
   "metadata": {
    "id": "tjUwbHb3_Zcv"
   },
   "source": [
    "We have tested the following three hypotheses:\n",
    "\n",
    "1. User activity differs depending on the day of the week and from city to city. \n",
    "2. On Monday mornings, Springfield and Shelbyville residents listen to different genres. This is also true for Friday evenings. \n",
    "3. Springfield and Shelbyville listeners have different preferences. In both Springfield and Shelbyville, they prefer pop.\n",
    "\n",
    "After analyzing the data, we concluded:\n",
    "\n",
    "1. User activity in Springfield and Shelbyville depends on the day of the week, though the cities vary in different ways. \n",
    "\n",
    "The first hypothesis is fully accepted.\n",
    "\n",
    "2. Musical preferences do not vary significantly over the course of the week in both Springfield and Shelbyville. We can see small differences in order on Mondays, but:\n",
    "* In Springfield and Shelbyville, people listen to pop music most.\n",
    "\n",
    "So we can't accept this hypothesis. We must also keep in mind that the result could have been different if not for the missing values.\n",
    "\n",
    "3. It turns out that the musical preferences of users from Springfield and Shelbyville are quite similar.\n",
    "\n",
    "The third hypothesis is rejected. If there is any difference in preferences, it cannot be seen from this data.\n",
    "\n",
    "### Note \n",
    "In real projects, research involves statistical hypothesis testing, which is more precise and more quantitative. Also note that you cannot always draw conclusions about an entire city based on the data from just one source.\n",
    "\n",
    "You will study hypothesis testing in the sprint on statistical data analysis."
   ]
  },
  {
   "cell_type": "markdown",
   "metadata": {
    "id": "Ju4AHDSgV1FE"
   },
   "source": [
    "[Back to Contents](#back)"
   ]
  }
 ],
 "metadata": {
  "ExecuteTimeLog": [
   {
    "duration": 457,
    "start_time": "2022-04-02T21:08:11.486Z"
   },
   {
    "duration": 4,
    "start_time": "2022-04-02T21:08:26.589Z"
   },
   {
    "duration": 368,
    "start_time": "2022-04-02T21:10:57.164Z"
   },
   {
    "duration": 97,
    "start_time": "2022-04-02T21:12:58.734Z"
   },
   {
    "duration": 11,
    "start_time": "2022-04-02T21:15:26.340Z"
   },
   {
    "duration": 8,
    "start_time": "2022-04-02T21:38:28.943Z"
   },
   {
    "duration": 5,
    "start_time": "2022-04-02T21:45:16.535Z"
   },
   {
    "duration": 226,
    "start_time": "2022-04-02T21:57:30.161Z"
   },
   {
    "duration": 5,
    "start_time": "2022-04-02T21:58:15.456Z"
   },
   {
    "duration": 11,
    "start_time": "2022-04-02T21:58:35.303Z"
   },
   {
    "duration": 6,
    "start_time": "2022-04-02T21:58:44.751Z"
   },
   {
    "duration": 5,
    "start_time": "2022-04-02T21:59:12.372Z"
   },
   {
    "duration": 8,
    "start_time": "2022-04-04T22:56:28.206Z"
   },
   {
    "duration": 706,
    "start_time": "2022-04-04T22:58:19.531Z"
   },
   {
    "duration": 1247,
    "start_time": "2022-04-05T18:43:55.494Z"
   },
   {
    "duration": 204,
    "start_time": "2022-04-05T18:45:08.275Z"
   },
   {
    "duration": 106,
    "start_time": "2022-04-05T18:47:59.100Z"
   },
   {
    "duration": 58,
    "start_time": "2022-04-05T18:48:22.427Z"
   },
   {
    "duration": 60,
    "start_time": "2022-04-05T18:59:09.604Z"
   },
   {
    "duration": 165,
    "start_time": "2022-04-05T19:00:11.805Z"
   },
   {
    "duration": 148,
    "start_time": "2022-04-05T19:02:09.473Z"
   },
   {
    "duration": 162,
    "start_time": "2022-04-05T19:02:14.080Z"
   },
   {
    "duration": 177,
    "start_time": "2022-04-05T19:23:24.568Z"
   },
   {
    "duration": 184,
    "start_time": "2022-04-05T19:26:29.287Z"
   },
   {
    "duration": 260,
    "start_time": "2022-04-05T19:28:25.069Z"
   },
   {
    "duration": 176,
    "start_time": "2022-04-05T19:28:27.307Z"
   },
   {
    "duration": 174,
    "start_time": "2022-04-05T19:29:35.465Z"
   },
   {
    "duration": 189,
    "start_time": "2022-04-05T19:30:14.707Z"
   },
   {
    "duration": 193,
    "start_time": "2022-04-05T19:38:41.518Z"
   },
   {
    "duration": 69,
    "start_time": "2022-04-06T22:04:30.882Z"
   },
   {
    "duration": 505,
    "start_time": "2022-04-06T22:04:49.211Z"
   },
   {
    "duration": 342,
    "start_time": "2022-04-06T22:04:54.759Z"
   },
   {
    "duration": 17,
    "start_time": "2022-04-06T22:05:04.177Z"
   },
   {
    "duration": 157,
    "start_time": "2022-04-06T22:06:54.348Z"
   },
   {
    "duration": 38,
    "start_time": "2022-04-06T22:07:42.618Z"
   },
   {
    "duration": 6,
    "start_time": "2022-04-06T22:07:54.441Z"
   },
   {
    "duration": 5,
    "start_time": "2022-04-06T22:13:45.462Z"
   },
   {
    "duration": 5,
    "start_time": "2022-04-06T22:14:02.926Z"
   },
   {
    "duration": 6,
    "start_time": "2022-04-06T22:14:08.232Z"
   },
   {
    "duration": 5,
    "start_time": "2022-04-06T22:14:12.972Z"
   },
   {
    "duration": 32,
    "start_time": "2022-04-06T22:14:49.404Z"
   },
   {
    "duration": 88,
    "start_time": "2022-04-06T22:18:55.023Z"
   },
   {
    "duration": 91,
    "start_time": "2022-04-06T22:20:24.875Z"
   },
   {
    "duration": 87,
    "start_time": "2022-04-06T22:20:34.019Z"
   },
   {
    "duration": 8,
    "start_time": "2022-04-06T22:22:47.769Z"
   },
   {
    "duration": 6,
    "start_time": "2022-04-06T22:22:58.948Z"
   },
   {
    "duration": 9,
    "start_time": "2022-04-06T22:23:07.599Z"
   },
   {
    "duration": 7,
    "start_time": "2022-04-06T22:23:14.255Z"
   },
   {
    "duration": 60,
    "start_time": "2022-04-06T22:26:14.806Z"
   },
   {
    "duration": 54,
    "start_time": "2022-04-06T22:26:33.131Z"
   },
   {
    "duration": 47,
    "start_time": "2022-04-06T22:27:33.107Z"
   },
   {
    "duration": 55,
    "start_time": "2022-04-06T22:29:26.716Z"
   },
   {
    "duration": 45,
    "start_time": "2022-04-06T22:30:29.753Z"
   },
   {
    "duration": 51,
    "start_time": "2022-04-06T22:32:17.808Z"
   },
   {
    "duration": 51,
    "start_time": "2022-04-06T22:32:41.193Z"
   },
   {
    "duration": 50,
    "start_time": "2022-04-06T22:33:22.991Z"
   },
   {
    "duration": 206,
    "start_time": "2022-04-07T00:07:41.326Z"
   },
   {
    "duration": 217,
    "start_time": "2022-04-07T00:12:19.670Z"
   },
   {
    "duration": 200,
    "start_time": "2022-04-07T00:24:11.157Z"
   },
   {
    "duration": 44,
    "start_time": "2022-04-07T00:24:18.304Z"
   },
   {
    "duration": 195,
    "start_time": "2022-04-07T00:24:23.428Z"
   },
   {
    "duration": 9,
    "start_time": "2022-04-07T00:24:50.496Z"
   },
   {
    "duration": 204,
    "start_time": "2022-04-07T00:25:14.308Z"
   },
   {
    "duration": 198,
    "start_time": "2022-04-07T00:25:39.233Z"
   },
   {
    "duration": 9,
    "start_time": "2022-04-07T00:26:12.180Z"
   },
   {
    "duration": 213,
    "start_time": "2022-04-07T00:59:38.400Z"
   },
   {
    "duration": 68,
    "start_time": "2022-04-07T21:26:41.306Z"
   },
   {
    "duration": 8,
    "start_time": "2022-04-07T21:27:06.951Z"
   },
   {
    "duration": 9,
    "start_time": "2022-04-07T21:27:19.584Z"
   },
   {
    "duration": 465,
    "start_time": "2022-04-07T21:27:26.382Z"
   },
   {
    "duration": 327,
    "start_time": "2022-04-07T21:27:28.596Z"
   },
   {
    "duration": 16,
    "start_time": "2022-04-07T21:27:31.668Z"
   },
   {
    "duration": 38,
    "start_time": "2022-04-07T21:27:34.916Z"
   },
   {
    "duration": 5,
    "start_time": "2022-04-07T21:27:41.132Z"
   },
   {
    "duration": 7,
    "start_time": "2022-04-07T21:27:44.964Z"
   },
   {
    "duration": 5,
    "start_time": "2022-04-07T21:27:48.699Z"
   },
   {
    "duration": 31,
    "start_time": "2022-04-07T21:27:52.412Z"
   },
   {
    "duration": 163,
    "start_time": "2022-04-07T21:46:10.535Z"
   },
   {
    "duration": 31,
    "start_time": "2022-04-07T21:46:22.887Z"
   },
   {
    "duration": 175,
    "start_time": "2022-04-07T21:57:54.028Z"
   },
   {
    "duration": 34,
    "start_time": "2022-04-07T21:58:30.098Z"
   },
   {
    "duration": 87,
    "start_time": "2022-04-07T21:58:33.415Z"
   },
   {
    "duration": 62,
    "start_time": "2022-04-07T22:15:14.068Z"
   },
   {
    "duration": 5,
    "start_time": "2022-04-07T22:21:27.128Z"
   },
   {
    "duration": 6,
    "start_time": "2022-04-07T22:25:59.268Z"
   },
   {
    "duration": 41,
    "start_time": "2022-04-07T22:27:21.857Z"
   },
   {
    "duration": 39,
    "start_time": "2022-04-07T22:27:55.783Z"
   },
   {
    "duration": 9,
    "start_time": "2022-04-07T22:28:14.103Z"
   },
   {
    "duration": 10,
    "start_time": "2022-04-07T22:28:44.175Z"
   },
   {
    "duration": 10,
    "start_time": "2022-04-07T22:28:48.166Z"
   },
   {
    "duration": 10,
    "start_time": "2022-04-07T22:28:55.805Z"
   },
   {
    "duration": 9,
    "start_time": "2022-04-07T23:01:54.887Z"
   },
   {
    "duration": 9,
    "start_time": "2022-04-07T23:01:57.905Z"
   },
   {
    "duration": 128,
    "start_time": "2022-04-07T23:03:35.819Z"
   },
   {
    "duration": 105,
    "start_time": "2022-04-07T23:03:41.764Z"
   },
   {
    "duration": 9,
    "start_time": "2022-04-07T23:05:01.713Z"
   },
   {
    "duration": 9,
    "start_time": "2022-04-07T23:06:16.384Z"
   },
   {
    "duration": 17,
    "start_time": "2022-04-07T23:09:10.825Z"
   },
   {
    "duration": 10,
    "start_time": "2022-04-07T23:09:48.122Z"
   },
   {
    "duration": 10,
    "start_time": "2022-04-07T23:14:00.131Z"
   },
   {
    "duration": 10,
    "start_time": "2022-04-07T23:14:20.648Z"
   },
   {
    "duration": 11,
    "start_time": "2022-04-07T23:14:56.614Z"
   },
   {
    "duration": 10,
    "start_time": "2022-04-07T23:15:26.268Z"
   },
   {
    "duration": 10,
    "start_time": "2022-04-07T23:23:42.460Z"
   },
   {
    "duration": 10,
    "start_time": "2022-04-07T23:24:12.608Z"
   },
   {
    "duration": 10,
    "start_time": "2022-04-07T23:24:14.966Z"
   },
   {
    "duration": 10,
    "start_time": "2022-04-07T23:24:19.254Z"
   },
   {
    "duration": 10,
    "start_time": "2022-04-07T23:24:24.385Z"
   },
   {
    "duration": 10,
    "start_time": "2022-04-07T23:24:30.134Z"
   },
   {
    "duration": 11,
    "start_time": "2022-04-07T23:25:15.919Z"
   },
   {
    "duration": 98,
    "start_time": "2022-04-07T23:27:37.222Z"
   },
   {
    "duration": 95,
    "start_time": "2022-04-07T23:27:47.126Z"
   },
   {
    "duration": 87,
    "start_time": "2022-04-07T23:27:51.793Z"
   },
   {
    "duration": 23,
    "start_time": "2022-04-07T23:28:03.568Z"
   },
   {
    "duration": 23,
    "start_time": "2022-04-07T23:28:08.741Z"
   },
   {
    "duration": 22,
    "start_time": "2022-04-07T23:29:25.725Z"
   },
   {
    "duration": 21,
    "start_time": "2022-04-07T23:29:27.842Z"
   },
   {
    "duration": 29,
    "start_time": "2022-04-07T23:29:33.410Z"
   },
   {
    "duration": 41,
    "start_time": "2022-04-07T23:29:45.179Z"
   },
   {
    "duration": 29,
    "start_time": "2022-04-07T23:38:53.364Z"
   },
   {
    "duration": 42,
    "start_time": "2022-04-07T23:39:05.813Z"
   },
   {
    "duration": 40,
    "start_time": "2022-04-07T23:40:04.372Z"
   },
   {
    "duration": 42,
    "start_time": "2022-04-07T23:40:30.308Z"
   },
   {
    "duration": 38,
    "start_time": "2022-04-07T23:44:05.962Z"
   },
   {
    "duration": 99,
    "start_time": "2022-04-07T23:44:37.622Z"
   },
   {
    "duration": 48,
    "start_time": "2022-04-07T23:44:45.482Z"
   },
   {
    "duration": 38,
    "start_time": "2022-04-07T23:45:52.037Z"
   },
   {
    "duration": 34,
    "start_time": "2022-04-07T23:59:01.931Z"
   },
   {
    "duration": 88,
    "start_time": "2022-04-07T23:59:07.773Z"
   },
   {
    "duration": 111,
    "start_time": "2022-04-07T23:59:16.433Z"
   },
   {
    "duration": 86,
    "start_time": "2022-04-07T23:59:20.055Z"
   },
   {
    "duration": 49,
    "start_time": "2022-04-08T00:23:42.677Z"
   },
   {
    "duration": 52,
    "start_time": "2022-04-08T00:24:36.242Z"
   },
   {
    "duration": 4,
    "start_time": "2022-04-08T00:25:49.332Z"
   },
   {
    "duration": 105,
    "start_time": "2022-04-08T00:26:40.191Z"
   },
   {
    "duration": 93,
    "start_time": "2022-04-08T00:32:04.057Z"
   },
   {
    "duration": 92,
    "start_time": "2022-04-08T00:34:53.600Z"
   },
   {
    "duration": 39,
    "start_time": "2022-04-08T00:35:05.905Z"
   },
   {
    "duration": 3,
    "start_time": "2022-04-08T00:36:41.095Z"
   },
   {
    "duration": 37,
    "start_time": "2022-04-08T00:36:49.738Z"
   },
   {
    "duration": 11,
    "start_time": "2022-04-08T00:37:01.439Z"
   },
   {
    "duration": 10,
    "start_time": "2022-04-08T00:37:26.562Z"
   },
   {
    "duration": 10,
    "start_time": "2022-04-08T00:38:26.776Z"
   },
   {
    "duration": 11,
    "start_time": "2022-04-08T00:41:18.435Z"
   },
   {
    "duration": 10,
    "start_time": "2022-04-08T00:41:33.592Z"
   },
   {
    "duration": 10,
    "start_time": "2022-04-08T00:41:41.250Z"
   },
   {
    "duration": 98,
    "start_time": "2022-04-08T00:41:43.929Z"
   },
   {
    "duration": 91,
    "start_time": "2022-04-08T00:41:50.209Z"
   },
   {
    "duration": 9,
    "start_time": "2022-04-08T00:41:59.490Z"
   },
   {
    "duration": 11,
    "start_time": "2022-04-08T00:43:00.573Z"
   },
   {
    "duration": 18,
    "start_time": "2022-04-08T00:45:07.174Z"
   },
   {
    "duration": 10,
    "start_time": "2022-04-08T00:46:05.867Z"
   },
   {
    "duration": 9,
    "start_time": "2022-04-08T01:02:37.496Z"
   },
   {
    "duration": 5,
    "start_time": "2022-04-08T01:02:49.967Z"
   },
   {
    "duration": 11,
    "start_time": "2022-04-08T01:04:08.567Z"
   },
   {
    "duration": 44,
    "start_time": "2022-04-08T01:04:15.439Z"
   },
   {
    "duration": 90,
    "start_time": "2022-04-08T01:17:27.689Z"
   },
   {
    "duration": 88,
    "start_time": "2022-04-08T01:17:34.360Z"
   },
   {
    "duration": 98,
    "start_time": "2022-04-08T01:17:44.784Z"
   },
   {
    "duration": 135,
    "start_time": "2022-04-08T01:18:59.768Z"
   },
   {
    "duration": 23,
    "start_time": "2022-04-08T01:20:02.641Z"
   },
   {
    "duration": 101,
    "start_time": "2022-04-08T01:20:22.908Z"
   },
   {
    "duration": 1495,
    "start_time": "2022-04-08T01:20:39.038Z"
   },
   {
    "duration": 1390,
    "start_time": "2022-04-08T01:22:45.341Z"
   },
   {
    "duration": 89,
    "start_time": "2022-04-08T01:22:58.608Z"
   },
   {
    "duration": 15,
    "start_time": "2022-04-08T01:26:06.954Z"
   },
   {
    "duration": 15,
    "start_time": "2022-04-08T01:26:17.097Z"
   },
   {
    "duration": 15,
    "start_time": "2022-04-08T01:26:20.644Z"
   },
   {
    "duration": 3,
    "start_time": "2022-04-08T01:26:33.671Z"
   },
   {
    "duration": 329,
    "start_time": "2022-04-08T01:26:35.708Z"
   },
   {
    "duration": 16,
    "start_time": "2022-04-08T01:26:37.956Z"
   },
   {
    "duration": 39,
    "start_time": "2022-04-08T01:26:40.738Z"
   },
   {
    "duration": 5,
    "start_time": "2022-04-08T01:26:46.013Z"
   },
   {
    "duration": 6,
    "start_time": "2022-04-08T01:26:47.616Z"
   },
   {
    "duration": 4,
    "start_time": "2022-04-08T01:26:49.227Z"
   },
   {
    "duration": 33,
    "start_time": "2022-04-08T01:26:50.944Z"
   },
   {
    "duration": 39,
    "start_time": "2022-04-08T01:26:52.779Z"
   },
   {
    "duration": 31,
    "start_time": "2022-04-08T01:26:54.063Z"
   },
   {
    "duration": 88,
    "start_time": "2022-04-08T01:26:55.949Z"
   },
   {
    "duration": 92,
    "start_time": "2022-04-08T01:26:57.015Z"
   },
   {
    "duration": 81,
    "start_time": "2022-04-08T01:26:57.915Z"
   },
   {
    "duration": 52,
    "start_time": "2022-04-08T01:26:59.679Z"
   },
   {
    "duration": 3,
    "start_time": "2022-04-08T01:27:00.316Z"
   },
   {
    "duration": 4,
    "start_time": "2022-04-08T01:27:03.002Z"
   },
   {
    "duration": 40,
    "start_time": "2022-04-08T01:27:06.046Z"
   },
   {
    "duration": 11,
    "start_time": "2022-04-08T01:27:07.998Z"
   },
   {
    "duration": 49,
    "start_time": "2022-04-08T01:27:15.479Z"
   },
   {
    "duration": 40,
    "start_time": "2022-04-08T01:27:19.425Z"
   },
   {
    "duration": 84,
    "start_time": "2022-04-08T02:00:55.954Z"
   },
   {
    "duration": 85,
    "start_time": "2022-04-08T02:00:59.439Z"
   },
   {
    "duration": 45,
    "start_time": "2022-04-08T02:02:19.941Z"
   },
   {
    "duration": 99,
    "start_time": "2022-04-08T02:02:23.922Z"
   },
   {
    "duration": 118,
    "start_time": "2022-04-08T02:02:27.489Z"
   },
   {
    "duration": 94,
    "start_time": "2022-04-08T02:02:31.258Z"
   },
   {
    "duration": 87,
    "start_time": "2022-04-08T02:02:34.434Z"
   },
   {
    "duration": 91,
    "start_time": "2022-04-08T02:02:40.794Z"
   },
   {
    "duration": 91,
    "start_time": "2022-04-08T02:02:49.356Z"
   },
   {
    "duration": 90,
    "start_time": "2022-04-08T02:02:57.313Z"
   },
   {
    "duration": 93,
    "start_time": "2022-04-08T02:03:12.138Z"
   },
   {
    "duration": 104,
    "start_time": "2022-04-08T02:03:36.893Z"
   },
   {
    "duration": 9,
    "start_time": "2022-04-08T02:04:59.143Z"
   },
   {
    "duration": 115,
    "start_time": "2022-04-08T02:05:18.183Z"
   },
   {
    "duration": 8,
    "start_time": "2022-04-08T02:05:22.429Z"
   },
   {
    "duration": 12,
    "start_time": "2022-04-08T17:40:07.665Z"
   },
   {
    "duration": 6,
    "start_time": "2022-04-08T17:40:11.245Z"
   },
   {
    "duration": 60,
    "start_time": "2022-04-08T17:40:18.830Z"
   },
   {
    "duration": 445,
    "start_time": "2022-04-08T17:40:25.883Z"
   },
   {
    "duration": 343,
    "start_time": "2022-04-08T17:40:27.761Z"
   },
   {
    "duration": 16,
    "start_time": "2022-04-08T17:40:29.893Z"
   },
   {
    "duration": 41,
    "start_time": "2022-04-08T17:40:32.070Z"
   },
   {
    "duration": 5,
    "start_time": "2022-04-08T17:40:35.560Z"
   },
   {
    "duration": 6,
    "start_time": "2022-04-08T17:40:36.629Z"
   },
   {
    "duration": 4,
    "start_time": "2022-04-08T17:40:37.584Z"
   },
   {
    "duration": 35,
    "start_time": "2022-04-08T17:40:39.317Z"
   },
   {
    "duration": 43,
    "start_time": "2022-04-08T17:40:40.781Z"
   },
   {
    "duration": 31,
    "start_time": "2022-04-08T17:40:42.233Z"
   },
   {
    "duration": 88,
    "start_time": "2022-04-08T17:40:43.719Z"
   },
   {
    "duration": 91,
    "start_time": "2022-04-08T17:40:44.582Z"
   },
   {
    "duration": 86,
    "start_time": "2022-04-08T17:40:45.315Z"
   },
   {
    "duration": 52,
    "start_time": "2022-04-08T17:40:46.778Z"
   },
   {
    "duration": 3,
    "start_time": "2022-04-08T17:40:47.713Z"
   },
   {
    "duration": 4,
    "start_time": "2022-04-08T17:40:49.167Z"
   },
   {
    "duration": 39,
    "start_time": "2022-04-08T17:40:52.428Z"
   },
   {
    "duration": 11,
    "start_time": "2022-04-08T17:40:54.300Z"
   },
   {
    "duration": 46,
    "start_time": "2022-04-08T17:40:58.222Z"
   },
   {
    "duration": 48,
    "start_time": "2022-04-08T17:41:00.422Z"
   },
   {
    "duration": 6,
    "start_time": "2022-04-08T17:41:04.240Z"
   },
   {
    "duration": 50,
    "start_time": "2022-04-08T17:41:09.811Z"
   },
   {
    "duration": 5,
    "start_time": "2022-04-08T17:41:25.651Z"
   },
   {
    "duration": 197,
    "start_time": "2022-04-08T17:43:50.007Z"
   },
   {
    "duration": 5,
    "start_time": "2022-04-08T17:46:43.894Z"
   },
   {
    "duration": 5,
    "start_time": "2022-04-08T17:46:47.022Z"
   },
   {
    "duration": 6,
    "start_time": "2022-04-08T17:48:38.427Z"
   },
   {
    "duration": 5,
    "start_time": "2022-04-08T17:48:41.421Z"
   },
   {
    "duration": 23,
    "start_time": "2022-04-08T17:49:22.890Z"
   },
   {
    "duration": 5,
    "start_time": "2022-04-08T17:49:41.669Z"
   },
   {
    "duration": 5,
    "start_time": "2022-04-08T17:49:43.981Z"
   },
   {
    "duration": 5,
    "start_time": "2022-04-08T17:50:08.451Z"
   },
   {
    "duration": 6,
    "start_time": "2022-04-08T17:50:21.728Z"
   },
   {
    "duration": 5,
    "start_time": "2022-04-08T17:50:24.870Z"
   },
   {
    "duration": 17,
    "start_time": "2022-04-08T17:50:30.563Z"
   },
   {
    "duration": 198,
    "start_time": "2022-04-08T17:51:32.125Z"
   },
   {
    "duration": 5,
    "start_time": "2022-04-08T17:51:52.039Z"
   },
   {
    "duration": 5,
    "start_time": "2022-04-08T17:51:54.093Z"
   },
   {
    "duration": 5,
    "start_time": "2022-04-08T17:52:00.566Z"
   },
   {
    "duration": 5,
    "start_time": "2022-04-08T17:52:02.910Z"
   },
   {
    "duration": 17,
    "start_time": "2022-04-08T17:52:26.271Z"
   },
   {
    "duration": 5,
    "start_time": "2022-04-08T18:12:10.091Z"
   },
   {
    "duration": 6,
    "start_time": "2022-04-08T18:12:12.191Z"
   },
   {
    "duration": 5,
    "start_time": "2022-04-08T19:08:53.789Z"
   },
   {
    "duration": 5,
    "start_time": "2022-04-08T20:17:25.124Z"
   },
   {
    "duration": 6,
    "start_time": "2022-04-08T20:17:29.578Z"
   },
   {
    "duration": 11,
    "start_time": "2022-04-08T20:20:38.304Z"
   },
   {
    "duration": 6,
    "start_time": "2022-04-08T20:20:48.587Z"
   },
   {
    "duration": 5,
    "start_time": "2022-04-08T20:21:11.740Z"
   },
   {
    "duration": 6,
    "start_time": "2022-04-08T20:21:14.493Z"
   },
   {
    "duration": 5,
    "start_time": "2022-04-08T20:21:24.669Z"
   },
   {
    "duration": 4,
    "start_time": "2022-04-08T20:21:26.772Z"
   },
   {
    "duration": 5,
    "start_time": "2022-04-08T20:21:48.418Z"
   },
   {
    "duration": 4,
    "start_time": "2022-04-08T20:21:50.892Z"
   },
   {
    "duration": 5,
    "start_time": "2022-04-08T20:22:08.989Z"
   },
   {
    "duration": 6,
    "start_time": "2022-04-08T20:22:10.926Z"
   },
   {
    "duration": 48,
    "start_time": "2022-04-10T21:48:40.726Z"
   },
   {
    "duration": 3,
    "start_time": "2022-04-11T05:29:47.214Z"
   },
   {
    "duration": 8,
    "start_time": "2022-04-11T05:29:51.211Z"
   },
   {
    "duration": 5,
    "start_time": "2022-04-11T05:30:02.783Z"
   },
   {
    "duration": 8,
    "start_time": "2022-04-11T05:32:16.255Z"
   },
   {
    "duration": 9,
    "start_time": "2022-04-11T05:33:07.875Z"
   },
   {
    "duration": 421,
    "start_time": "2022-04-11T15:46:26.805Z"
   },
   {
    "duration": 107,
    "start_time": "2022-04-11T15:46:27.228Z"
   },
   {
    "duration": 0,
    "start_time": "2022-04-11T15:46:27.338Z"
   },
   {
    "duration": 0,
    "start_time": "2022-04-11T15:46:27.339Z"
   },
   {
    "duration": 0,
    "start_time": "2022-04-11T15:46:27.340Z"
   },
   {
    "duration": 0,
    "start_time": "2022-04-11T15:46:27.340Z"
   },
   {
    "duration": 0,
    "start_time": "2022-04-11T15:46:27.341Z"
   },
   {
    "duration": 0,
    "start_time": "2022-04-11T15:46:27.342Z"
   },
   {
    "duration": 0,
    "start_time": "2022-04-11T15:46:27.343Z"
   },
   {
    "duration": 0,
    "start_time": "2022-04-11T15:46:27.344Z"
   },
   {
    "duration": 0,
    "start_time": "2022-04-11T15:46:27.345Z"
   },
   {
    "duration": 0,
    "start_time": "2022-04-11T15:46:27.346Z"
   },
   {
    "duration": 0,
    "start_time": "2022-04-11T15:46:27.347Z"
   },
   {
    "duration": 0,
    "start_time": "2022-04-11T15:46:27.348Z"
   },
   {
    "duration": 0,
    "start_time": "2022-04-11T15:46:27.349Z"
   },
   {
    "duration": 0,
    "start_time": "2022-04-11T15:46:27.350Z"
   },
   {
    "duration": 0,
    "start_time": "2022-04-11T15:46:27.351Z"
   },
   {
    "duration": 0,
    "start_time": "2022-04-11T15:46:27.352Z"
   },
   {
    "duration": 0,
    "start_time": "2022-04-11T15:46:27.353Z"
   },
   {
    "duration": 0,
    "start_time": "2022-04-11T15:46:27.354Z"
   },
   {
    "duration": 0,
    "start_time": "2022-04-11T15:46:27.355Z"
   },
   {
    "duration": 0,
    "start_time": "2022-04-11T15:46:27.356Z"
   },
   {
    "duration": 0,
    "start_time": "2022-04-11T15:46:27.357Z"
   },
   {
    "duration": 0,
    "start_time": "2022-04-11T15:46:27.358Z"
   },
   {
    "duration": 0,
    "start_time": "2022-04-11T15:46:27.359Z"
   },
   {
    "duration": 0,
    "start_time": "2022-04-11T15:46:27.360Z"
   },
   {
    "duration": 0,
    "start_time": "2022-04-11T15:46:27.361Z"
   },
   {
    "duration": 0,
    "start_time": "2022-04-11T15:46:27.362Z"
   },
   {
    "duration": 0,
    "start_time": "2022-04-11T15:46:27.363Z"
   },
   {
    "duration": 0,
    "start_time": "2022-04-11T15:46:27.364Z"
   },
   {
    "duration": 0,
    "start_time": "2022-04-11T15:46:27.365Z"
   },
   {
    "duration": 0,
    "start_time": "2022-04-11T15:46:27.366Z"
   },
   {
    "duration": 0,
    "start_time": "2022-04-11T15:46:27.367Z"
   },
   {
    "duration": 0,
    "start_time": "2022-04-11T15:46:27.368Z"
   },
   {
    "duration": 0,
    "start_time": "2022-04-11T15:46:27.369Z"
   },
   {
    "duration": 0,
    "start_time": "2022-04-11T15:46:27.370Z"
   },
   {
    "duration": 0,
    "start_time": "2022-04-11T15:46:27.409Z"
   },
   {
    "duration": 0,
    "start_time": "2022-04-11T15:46:27.410Z"
   },
   {
    "duration": 0,
    "start_time": "2022-04-11T15:46:27.411Z"
   },
   {
    "duration": 0,
    "start_time": "2022-04-11T15:46:27.411Z"
   },
   {
    "duration": 0,
    "start_time": "2022-04-11T15:46:27.412Z"
   },
   {
    "duration": 0,
    "start_time": "2022-04-11T15:46:27.413Z"
   },
   {
    "duration": 0,
    "start_time": "2022-04-11T15:46:27.415Z"
   },
   {
    "duration": 0,
    "start_time": "2022-04-11T15:46:27.416Z"
   },
   {
    "duration": 0,
    "start_time": "2022-04-11T15:46:27.417Z"
   },
   {
    "duration": 0,
    "start_time": "2022-04-11T15:46:27.417Z"
   },
   {
    "duration": 0,
    "start_time": "2022-04-11T15:46:27.419Z"
   },
   {
    "duration": 60,
    "start_time": "2022-04-26T19:53:54.776Z"
   },
   {
    "duration": 409,
    "start_time": "2022-04-26T19:55:12.976Z"
   },
   {
    "duration": 90,
    "start_time": "2022-04-26T19:55:15.147Z"
   },
   {
    "duration": 322,
    "start_time": "2022-04-26T19:58:49.371Z"
   },
   {
    "duration": 12,
    "start_time": "2022-04-26T19:59:02.155Z"
   },
   {
    "duration": 30,
    "start_time": "2022-04-26T20:00:26.848Z"
   },
   {
    "duration": 4,
    "start_time": "2022-04-26T20:00:30.680Z"
   },
   {
    "duration": 5,
    "start_time": "2022-04-26T20:00:33.088Z"
   },
   {
    "duration": 3,
    "start_time": "2022-04-26T20:00:35.238Z"
   },
   {
    "duration": 25,
    "start_time": "2022-04-26T20:00:37.377Z"
   },
   {
    "duration": 33,
    "start_time": "2022-04-26T20:00:39.630Z"
   },
   {
    "duration": 25,
    "start_time": "2022-04-26T20:00:43.598Z"
   },
   {
    "duration": 64,
    "start_time": "2022-04-26T20:00:45.725Z"
   },
   {
    "duration": 72,
    "start_time": "2022-04-26T20:00:48.197Z"
   },
   {
    "duration": 64,
    "start_time": "2022-04-26T20:00:50.008Z"
   },
   {
    "duration": 41,
    "start_time": "2022-04-26T20:00:52.271Z"
   },
   {
    "duration": 2,
    "start_time": "2022-04-26T20:00:56.005Z"
   },
   {
    "duration": 3,
    "start_time": "2022-04-26T20:00:58.655Z"
   },
   {
    "duration": 31,
    "start_time": "2022-04-26T20:01:01.140Z"
   },
   {
    "duration": 8,
    "start_time": "2022-04-26T20:01:04.020Z"
   },
   {
    "duration": 35,
    "start_time": "2022-04-26T20:01:08.757Z"
   },
   {
    "duration": 32,
    "start_time": "2022-04-26T20:01:11.066Z"
   },
   {
    "duration": 4,
    "start_time": "2022-04-26T20:01:14.229Z"
   },
   {
    "duration": 4,
    "start_time": "2022-04-26T20:01:16.540Z"
   },
   {
    "duration": 3,
    "start_time": "2022-04-26T20:01:22.666Z"
   },
   {
    "duration": 14,
    "start_time": "2022-04-26T20:01:23.502Z"
   },
   {
    "duration": 3,
    "start_time": "2022-04-26T20:01:28.751Z"
   },
   {
    "duration": 3,
    "start_time": "2022-04-26T20:01:31.409Z"
   },
   {
    "duration": 13,
    "start_time": "2022-04-26T20:04:19.315Z"
   },
   {
    "duration": 12,
    "start_time": "2022-04-26T20:04:27.320Z"
   },
   {
    "duration": 11,
    "start_time": "2022-04-26T20:09:12.080Z"
   },
   {
    "duration": 15,
    "start_time": "2022-04-26T20:10:26.382Z"
   },
   {
    "duration": 4,
    "start_time": "2022-04-26T20:12:52.969Z"
   },
   {
    "duration": 19,
    "start_time": "2022-04-26T20:12:57.083Z"
   },
   {
    "duration": 4,
    "start_time": "2022-04-26T20:13:05.052Z"
   },
   {
    "duration": 18,
    "start_time": "2022-04-26T20:13:08.265Z"
   },
   {
    "duration": 432,
    "start_time": "2022-04-27T07:56:58.923Z"
   },
   {
    "duration": 505,
    "start_time": "2022-04-27T07:56:59.358Z"
   },
   {
    "duration": 19,
    "start_time": "2022-04-27T07:56:59.864Z"
   },
   {
    "duration": 38,
    "start_time": "2022-04-27T07:56:59.886Z"
   },
   {
    "duration": 4,
    "start_time": "2022-04-27T07:56:59.925Z"
   },
   {
    "duration": 5,
    "start_time": "2022-04-27T07:56:59.930Z"
   },
   {
    "duration": 15,
    "start_time": "2022-04-27T07:56:59.936Z"
   },
   {
    "duration": 68,
    "start_time": "2022-04-27T07:56:59.953Z"
   },
   {
    "duration": 64,
    "start_time": "2022-04-27T07:57:00.023Z"
   },
   {
    "duration": 26,
    "start_time": "2022-04-27T07:57:00.090Z"
   },
   {
    "duration": 105,
    "start_time": "2022-04-27T07:57:00.118Z"
   },
   {
    "duration": 87,
    "start_time": "2022-04-27T07:57:00.224Z"
   },
   {
    "duration": 70,
    "start_time": "2022-04-27T07:57:00.313Z"
   },
   {
    "duration": 37,
    "start_time": "2022-04-27T07:57:00.384Z"
   },
   {
    "duration": 12,
    "start_time": "2022-04-27T07:57:00.423Z"
   },
   {
    "duration": 41,
    "start_time": "2022-04-27T07:57:00.437Z"
   },
   {
    "duration": 49,
    "start_time": "2022-04-27T07:57:00.480Z"
   },
   {
    "duration": 10,
    "start_time": "2022-04-27T07:57:00.531Z"
   },
   {
    "duration": 83,
    "start_time": "2022-04-27T07:57:00.544Z"
   },
   {
    "duration": 51,
    "start_time": "2022-04-27T07:57:00.628Z"
   },
   {
    "duration": 4,
    "start_time": "2022-04-27T07:57:00.681Z"
   },
   {
    "duration": 8,
    "start_time": "2022-04-27T07:57:00.686Z"
   },
   {
    "duration": 8,
    "start_time": "2022-04-27T07:57:00.695Z"
   },
   {
    "duration": 91,
    "start_time": "2022-04-27T07:57:00.704Z"
   },
   {
    "duration": 0,
    "start_time": "2022-04-27T07:57:00.798Z"
   },
   {
    "duration": 0,
    "start_time": "2022-04-27T07:57:00.799Z"
   },
   {
    "duration": 0,
    "start_time": "2022-04-27T07:57:00.800Z"
   },
   {
    "duration": 0,
    "start_time": "2022-04-27T07:57:00.801Z"
   },
   {
    "duration": 0,
    "start_time": "2022-04-27T07:57:00.802Z"
   },
   {
    "duration": 0,
    "start_time": "2022-04-27T07:57:00.803Z"
   },
   {
    "duration": 0,
    "start_time": "2022-04-27T07:57:00.804Z"
   },
   {
    "duration": 0,
    "start_time": "2022-04-27T07:57:00.805Z"
   },
   {
    "duration": 0,
    "start_time": "2022-04-27T07:57:00.806Z"
   },
   {
    "duration": 0,
    "start_time": "2022-04-27T07:57:00.807Z"
   },
   {
    "duration": 0,
    "start_time": "2022-04-27T07:57:00.808Z"
   },
   {
    "duration": 0,
    "start_time": "2022-04-27T07:57:00.809Z"
   },
   {
    "duration": 0,
    "start_time": "2022-04-27T07:57:00.810Z"
   },
   {
    "duration": 0,
    "start_time": "2022-04-27T07:57:00.811Z"
   },
   {
    "duration": 0,
    "start_time": "2022-04-27T07:57:00.812Z"
   },
   {
    "duration": 0,
    "start_time": "2022-04-27T07:57:00.813Z"
   },
   {
    "duration": 0,
    "start_time": "2022-04-27T07:57:00.814Z"
   },
   {
    "duration": 0,
    "start_time": "2022-04-27T07:57:00.815Z"
   },
   {
    "duration": 0,
    "start_time": "2022-04-27T07:57:00.816Z"
   },
   {
    "duration": 0,
    "start_time": "2022-04-27T07:57:00.817Z"
   },
   {
    "duration": 0,
    "start_time": "2022-04-27T07:57:00.818Z"
   },
   {
    "duration": 0,
    "start_time": "2022-04-27T07:57:00.850Z"
   },
   {
    "duration": 0,
    "start_time": "2022-04-27T07:57:00.852Z"
   },
   {
    "duration": 10,
    "start_time": "2022-04-27T07:58:47.864Z"
   },
   {
    "duration": 9,
    "start_time": "2022-04-27T07:58:48.489Z"
   },
   {
    "duration": 10,
    "start_time": "2022-04-27T07:58:48.889Z"
   },
   {
    "duration": 11,
    "start_time": "2022-04-27T07:58:49.265Z"
   },
   {
    "duration": 11,
    "start_time": "2022-04-27T07:58:50.036Z"
   },
   {
    "duration": 11,
    "start_time": "2022-04-27T07:58:52.675Z"
   },
   {
    "duration": 7,
    "start_time": "2022-04-27T07:58:53.242Z"
   },
   {
    "duration": 6,
    "start_time": "2022-04-27T07:58:53.668Z"
   },
   {
    "duration": 2075,
    "start_time": "2022-04-27T07:58:55.721Z"
   },
   {
    "duration": 0,
    "start_time": "2022-04-27T07:58:57.798Z"
   },
   {
    "duration": 1992,
    "start_time": "2022-04-27T07:59:04.874Z"
   },
   {
    "duration": 0,
    "start_time": "2022-04-27T07:59:06.868Z"
   },
   {
    "duration": 9,
    "start_time": "2022-04-27T08:05:17.016Z"
   },
   {
    "duration": 9,
    "start_time": "2022-04-27T08:05:17.462Z"
   },
   {
    "duration": 7,
    "start_time": "2022-04-27T08:05:17.911Z"
   },
   {
    "duration": 7,
    "start_time": "2022-04-27T08:05:21.997Z"
   },
   {
    "duration": 415,
    "start_time": "2022-04-27T20:47:11.136Z"
   },
   {
    "duration": 577,
    "start_time": "2022-04-27T20:47:14.543Z"
   },
   {
    "duration": 13,
    "start_time": "2022-04-27T20:48:07.833Z"
   },
   {
    "duration": 6,
    "start_time": "2022-04-27T20:48:21.332Z"
   },
   {
    "duration": 10,
    "start_time": "2022-04-27T20:48:32.828Z"
   },
   {
    "duration": 8,
    "start_time": "2022-04-27T20:49:25.280Z"
   },
   {
    "duration": 31,
    "start_time": "2022-04-27T20:49:53.426Z"
   },
   {
    "duration": 25,
    "start_time": "2022-04-27T20:50:41.372Z"
   },
   {
    "duration": 4,
    "start_time": "2022-04-27T20:52:51.322Z"
   },
   {
    "duration": 9,
    "start_time": "2022-04-27T20:53:17.314Z"
   },
   {
    "duration": 8,
    "start_time": "2022-04-27T20:53:41.925Z"
   },
   {
    "duration": 5,
    "start_time": "2022-04-27T20:54:08.259Z"
   },
   {
    "duration": 5,
    "start_time": "2022-04-27T20:54:38.011Z"
   },
   {
    "duration": 4,
    "start_time": "2022-04-27T20:55:55.759Z"
   },
   {
    "duration": 3,
    "start_time": "2022-04-27T20:56:21.907Z"
   },
   {
    "duration": 5,
    "start_time": "2022-04-27T20:56:30.007Z"
   },
   {
    "duration": 69,
    "start_time": "2022-04-27T20:58:31.255Z"
   },
   {
    "duration": 30,
    "start_time": "2022-04-27T20:58:36.804Z"
   },
   {
    "duration": 27,
    "start_time": "2022-04-27T20:58:41.952Z"
   },
   {
    "duration": 25,
    "start_time": "2022-04-27T20:59:10.847Z"
   },
   {
    "duration": 26,
    "start_time": "2022-04-27T20:59:26.451Z"
   },
   {
    "duration": 26,
    "start_time": "2022-04-27T20:59:45.181Z"
   },
   {
    "duration": 27,
    "start_time": "2022-04-27T21:01:04.974Z"
   },
   {
    "duration": 25,
    "start_time": "2022-04-27T21:01:27.468Z"
   },
   {
    "duration": 345,
    "start_time": "2022-05-02T16:14:07.737Z"
   },
   {
    "duration": 260,
    "start_time": "2022-05-02T16:14:08.967Z"
   },
   {
    "duration": 10,
    "start_time": "2022-05-02T16:14:12.366Z"
   },
   {
    "duration": 27,
    "start_time": "2022-05-02T16:14:17.755Z"
   },
   {
    "duration": 4,
    "start_time": "2022-05-02T16:14:26.700Z"
   },
   {
    "duration": 4,
    "start_time": "2022-05-02T16:14:31.459Z"
   },
   {
    "duration": 4,
    "start_time": "2022-05-02T16:14:33.687Z"
   },
   {
    "duration": 2389,
    "start_time": "2022-05-02T16:14:38.205Z"
   },
   {
    "duration": 0,
    "start_time": "2022-05-02T16:14:40.596Z"
   },
   {
    "duration": 0,
    "start_time": "2022-05-02T16:14:40.597Z"
   },
   {
    "duration": 0,
    "start_time": "2022-05-02T16:14:40.598Z"
   },
   {
    "duration": 0,
    "start_time": "2022-05-02T16:14:40.599Z"
   },
   {
    "duration": 6,
    "start_time": "2022-05-02T16:14:40.743Z"
   },
   {
    "duration": 6,
    "start_time": "2022-05-02T16:14:41.140Z"
   },
   {
    "duration": 25,
    "start_time": "2022-05-02T16:14:41.944Z"
   },
   {
    "duration": 24,
    "start_time": "2022-05-02T16:14:42.910Z"
   },
   {
    "duration": 2178,
    "start_time": "2022-05-02T16:14:57.497Z"
   },
   {
    "duration": 9,
    "start_time": "2022-05-02T16:15:38.003Z"
   },
   {
    "duration": 25,
    "start_time": "2022-05-02T16:15:40.539Z"
   },
   {
    "duration": 4,
    "start_time": "2022-05-02T16:15:42.970Z"
   },
   {
    "duration": 9,
    "start_time": "2022-05-02T16:15:45.529Z"
   },
   {
    "duration": 3,
    "start_time": "2022-05-02T16:15:49.164Z"
   },
   {
    "duration": 5,
    "start_time": "2022-05-02T16:15:51.403Z"
   },
   {
    "duration": 7,
    "start_time": "2022-05-02T16:15:54.130Z"
   },
   {
    "duration": 24,
    "start_time": "2022-05-02T16:16:13.297Z"
   },
   {
    "duration": 26,
    "start_time": "2022-05-02T16:16:15.348Z"
   },
   {
    "duration": 24,
    "start_time": "2022-05-02T16:16:18.952Z"
   },
   {
    "duration": 26,
    "start_time": "2022-05-02T16:17:49.777Z"
   },
   {
    "duration": 27,
    "start_time": "2022-05-02T16:17:50.599Z"
   },
   {
    "duration": 23,
    "start_time": "2022-05-02T16:17:51.480Z"
   },
   {
    "duration": 8,
    "start_time": "2022-05-02T16:18:32.781Z"
   },
   {
    "duration": 6,
    "start_time": "2022-05-02T16:18:55.350Z"
   },
   {
    "duration": 31,
    "start_time": "2022-05-02T16:19:09.604Z"
   },
   {
    "duration": 19,
    "start_time": "2022-05-02T16:19:55.308Z"
   },
   {
    "duration": 18,
    "start_time": "2022-05-02T16:19:57.624Z"
   },
   {
    "duration": 20,
    "start_time": "2022-05-02T16:20:07.193Z"
   },
   {
    "duration": 19,
    "start_time": "2022-05-02T16:20:19.226Z"
   },
   {
    "duration": 28,
    "start_time": "2022-05-02T16:20:21.743Z"
   },
   {
    "duration": 23,
    "start_time": "2022-05-02T16:20:46.122Z"
   },
   {
    "duration": 59,
    "start_time": "2022-05-02T16:22:48.876Z"
   },
   {
    "duration": 60,
    "start_time": "2022-05-02T16:22:49.637Z"
   },
   {
    "duration": 56,
    "start_time": "2022-05-02T16:22:50.845Z"
   },
   {
    "duration": 41,
    "start_time": "2022-05-02T16:22:59.749Z"
   },
   {
    "duration": 3,
    "start_time": "2022-05-02T16:25:50.270Z"
   },
   {
    "duration": 29,
    "start_time": "2022-05-02T16:26:04.525Z"
   },
   {
    "duration": 7,
    "start_time": "2022-05-02T16:26:24.043Z"
   },
   {
    "duration": 34,
    "start_time": "2022-05-02T16:29:10.170Z"
   },
   {
    "duration": 32,
    "start_time": "2022-05-02T16:29:48.821Z"
   },
   {
    "duration": 14,
    "start_time": "2022-05-02T16:30:16.061Z"
   },
   {
    "duration": 136,
    "start_time": "2022-05-02T16:33:58.143Z"
   },
   {
    "duration": 137,
    "start_time": "2022-05-02T16:34:02.936Z"
   },
   {
    "duration": 31,
    "start_time": "2022-05-02T16:34:58.038Z"
   },
   {
    "duration": 10,
    "start_time": "2022-05-02T16:36:01.578Z"
   },
   {
    "duration": 32,
    "start_time": "2022-05-02T16:36:12.981Z"
   },
   {
    "duration": 12,
    "start_time": "2022-05-02T16:37:40.873Z"
   },
   {
    "duration": 13,
    "start_time": "2022-05-02T16:40:20.221Z"
   },
   {
    "duration": 13,
    "start_time": "2022-05-02T16:40:33.292Z"
   },
   {
    "duration": 12,
    "start_time": "2022-05-02T16:40:38.131Z"
   },
   {
    "duration": 11,
    "start_time": "2022-05-02T16:40:45.124Z"
   },
   {
    "duration": 5,
    "start_time": "2022-05-02T16:42:49.146Z"
   },
   {
    "duration": 3,
    "start_time": "2022-05-02T16:42:53.678Z"
   },
   {
    "duration": 4,
    "start_time": "2022-05-02T16:43:28.780Z"
   },
   {
    "duration": 12,
    "start_time": "2022-05-02T16:44:12.382Z"
   },
   {
    "duration": 11,
    "start_time": "2022-05-02T16:45:35.410Z"
   },
   {
    "duration": 10,
    "start_time": "2022-05-02T16:45:41.140Z"
   },
   {
    "duration": 10,
    "start_time": "2022-05-02T16:48:35.410Z"
   },
   {
    "duration": 10,
    "start_time": "2022-05-02T16:48:45.043Z"
   },
   {
    "duration": 10,
    "start_time": "2022-05-02T16:49:01.948Z"
   },
   {
    "duration": 6,
    "start_time": "2022-05-02T16:49:19.505Z"
   },
   {
    "duration": 210,
    "start_time": "2022-05-02T16:56:20.637Z"
   },
   {
    "duration": 7,
    "start_time": "2022-05-02T16:56:30.862Z"
   },
   {
    "duration": 8,
    "start_time": "2022-05-02T16:57:07.676Z"
   },
   {
    "duration": 4,
    "start_time": "2022-05-02T16:58:12.044Z"
   },
   {
    "duration": 12,
    "start_time": "2022-05-02T16:58:15.375Z"
   },
   {
    "duration": 16,
    "start_time": "2022-05-02T17:05:32.894Z"
   },
   {
    "duration": 3,
    "start_time": "2022-05-02T17:07:29.279Z"
   },
   {
    "duration": 14,
    "start_time": "2022-05-02T17:07:31.305Z"
   },
   {
    "duration": 2353,
    "start_time": "2022-05-02T17:07:34.978Z"
   },
   {
    "duration": 3,
    "start_time": "2022-05-02T17:08:04.345Z"
   },
   {
    "duration": 20,
    "start_time": "2022-05-02T17:08:07.734Z"
   },
   {
    "duration": 24,
    "start_time": "2022-05-02T17:08:49.549Z"
   },
   {
    "duration": 21,
    "start_time": "2022-05-02T17:08:54.829Z"
   },
   {
    "duration": 16,
    "start_time": "2022-05-02T17:09:00.740Z"
   },
   {
    "duration": 17,
    "start_time": "2022-05-02T17:09:03.414Z"
   },
   {
    "duration": 24,
    "start_time": "2022-05-02T17:09:08.785Z"
   },
   {
    "duration": 18,
    "start_time": "2022-05-02T17:09:10.584Z"
   },
   {
    "duration": 64,
    "start_time": "2022-05-02T17:10:32.914Z"
   },
   {
    "duration": 3,
    "start_time": "2022-05-02T17:10:36.882Z"
   },
   {
    "duration": 10,
    "start_time": "2022-05-02T17:10:39.603Z"
   },
   {
    "duration": 13,
    "start_time": "2022-05-02T17:12:09.129Z"
   },
   {
    "duration": 13,
    "start_time": "2022-05-02T17:12:13.679Z"
   },
   {
    "duration": 2296,
    "start_time": "2022-05-02T17:12:19.229Z"
   },
   {
    "duration": 11,
    "start_time": "2022-05-02T17:12:30.748Z"
   },
   {
    "duration": 2143,
    "start_time": "2022-05-02T17:13:02.045Z"
   },
   {
    "duration": 4,
    "start_time": "2022-05-02T17:13:10.542Z"
   },
   {
    "duration": 2735,
    "start_time": "2022-05-02T17:13:15.694Z"
   },
   {
    "duration": 4,
    "start_time": "2022-05-02T17:14:00.428Z"
   },
   {
    "duration": 2632,
    "start_time": "2022-05-02T17:14:04.092Z"
   },
   {
    "duration": 4,
    "start_time": "2022-05-02T17:14:21.676Z"
   },
   {
    "duration": 15,
    "start_time": "2022-05-02T17:14:26.035Z"
   },
   {
    "duration": 15,
    "start_time": "2022-05-02T17:17:22.042Z"
   },
   {
    "duration": 12,
    "start_time": "2022-05-02T17:17:24.669Z"
   },
   {
    "duration": 15,
    "start_time": "2022-05-02T17:17:27.060Z"
   },
   {
    "duration": 11,
    "start_time": "2022-05-02T17:17:29.086Z"
   },
   {
    "duration": 3,
    "start_time": "2022-05-02T17:17:35.442Z"
   },
   {
    "duration": 26,
    "start_time": "2022-05-02T17:17:38.100Z"
   },
   {
    "duration": 20,
    "start_time": "2022-05-02T17:17:47.177Z"
   },
   {
    "duration": 21,
    "start_time": "2022-05-02T17:17:55.701Z"
   },
   {
    "duration": 4,
    "start_time": "2022-05-02T17:17:58.485Z"
   },
   {
    "duration": 13,
    "start_time": "2022-05-02T17:18:13.300Z"
   },
   {
    "duration": 3,
    "start_time": "2022-05-02T17:18:21.242Z"
   },
   {
    "duration": 428,
    "start_time": "2022-05-02T18:32:22.857Z"
   },
   {
    "duration": 248,
    "start_time": "2022-05-02T18:32:23.287Z"
   },
   {
    "duration": 10,
    "start_time": "2022-05-02T18:32:23.537Z"
   },
   {
    "duration": 45,
    "start_time": "2022-05-02T18:32:23.549Z"
   },
   {
    "duration": 3,
    "start_time": "2022-05-02T18:32:23.596Z"
   },
   {
    "duration": 8,
    "start_time": "2022-05-02T18:32:23.601Z"
   },
   {
    "duration": 12,
    "start_time": "2022-05-02T18:32:23.611Z"
   },
   {
    "duration": 20,
    "start_time": "2022-05-02T18:32:23.625Z"
   },
   {
    "duration": 40,
    "start_time": "2022-05-02T18:32:23.646Z"
   },
   {
    "duration": 7,
    "start_time": "2022-05-02T18:32:23.689Z"
   },
   {
    "duration": 18,
    "start_time": "2022-05-02T18:32:23.697Z"
   },
   {
    "duration": 8,
    "start_time": "2022-05-02T18:32:23.717Z"
   },
   {
    "duration": 14,
    "start_time": "2022-05-02T18:32:23.727Z"
   },
   {
    "duration": 30,
    "start_time": "2022-05-02T18:32:23.743Z"
   },
   {
    "duration": 27,
    "start_time": "2022-05-02T18:32:23.775Z"
   },
   {
    "duration": 41,
    "start_time": "2022-05-02T18:32:23.804Z"
   },
   {
    "duration": 39,
    "start_time": "2022-05-02T18:32:23.846Z"
   },
   {
    "duration": 23,
    "start_time": "2022-05-02T18:32:23.887Z"
   },
   {
    "duration": 61,
    "start_time": "2022-05-02T18:32:23.912Z"
   },
   {
    "duration": 71,
    "start_time": "2022-05-02T18:32:23.974Z"
   },
   {
    "duration": 65,
    "start_time": "2022-05-02T18:32:24.047Z"
   },
   {
    "duration": 40,
    "start_time": "2022-05-02T18:32:24.114Z"
   },
   {
    "duration": 19,
    "start_time": "2022-05-02T18:32:24.156Z"
   },
   {
    "duration": 29,
    "start_time": "2022-05-02T18:32:24.177Z"
   },
   {
    "duration": 37,
    "start_time": "2022-05-02T18:32:24.208Z"
   },
   {
    "duration": 10,
    "start_time": "2022-05-02T18:32:24.247Z"
   },
   {
    "duration": 63,
    "start_time": "2022-05-02T18:32:24.258Z"
   },
   {
    "duration": 12,
    "start_time": "2022-05-02T18:32:24.325Z"
   },
   {
    "duration": 30,
    "start_time": "2022-05-02T18:32:24.339Z"
   },
   {
    "duration": 25,
    "start_time": "2022-05-02T18:32:24.371Z"
   },
   {
    "duration": 49,
    "start_time": "2022-05-02T18:32:24.398Z"
   },
   {
    "duration": 32,
    "start_time": "2022-05-02T18:32:24.448Z"
   },
   {
    "duration": 37,
    "start_time": "2022-05-02T18:32:24.481Z"
   },
   {
    "duration": 30,
    "start_time": "2022-05-02T18:32:24.519Z"
   },
   {
    "duration": 28,
    "start_time": "2022-05-02T18:32:24.551Z"
   },
   {
    "duration": 22,
    "start_time": "2022-05-02T18:32:24.581Z"
   },
   {
    "duration": 15,
    "start_time": "2022-05-02T18:32:24.605Z"
   },
   {
    "duration": 79,
    "start_time": "2022-05-02T18:32:24.621Z"
   },
   {
    "duration": 4,
    "start_time": "2022-05-02T18:32:24.702Z"
   },
   {
    "duration": 26,
    "start_time": "2022-05-02T18:32:24.708Z"
   },
   {
    "duration": 24,
    "start_time": "2022-05-02T18:32:24.736Z"
   },
   {
    "duration": 29,
    "start_time": "2022-05-02T18:32:24.762Z"
   },
   {
    "duration": 1925,
    "start_time": "2022-05-02T18:32:24.792Z"
   },
   {
    "duration": 4,
    "start_time": "2022-05-02T18:32:26.719Z"
   },
   {
    "duration": 18,
    "start_time": "2022-05-02T18:32:26.724Z"
   },
   {
    "duration": 146,
    "start_time": "2022-05-02T18:32:26.744Z"
   },
   {
    "duration": 0,
    "start_time": "2022-05-02T18:32:26.892Z"
   },
   {
    "duration": 0,
    "start_time": "2022-05-02T18:32:26.893Z"
   },
   {
    "duration": 0,
    "start_time": "2022-05-02T18:32:26.894Z"
   },
   {
    "duration": 0,
    "start_time": "2022-05-02T18:32:26.896Z"
   },
   {
    "duration": 0,
    "start_time": "2022-05-02T18:32:26.897Z"
   },
   {
    "duration": 0,
    "start_time": "2022-05-02T18:32:26.898Z"
   },
   {
    "duration": 0,
    "start_time": "2022-05-02T18:32:26.900Z"
   },
   {
    "duration": 0,
    "start_time": "2022-05-02T18:32:26.901Z"
   },
   {
    "duration": 0,
    "start_time": "2022-05-02T18:32:26.902Z"
   },
   {
    "duration": 569,
    "start_time": "2022-05-03T06:16:41.472Z"
   },
   {
    "duration": 1686,
    "start_time": "2022-05-03T06:16:42.043Z"
   },
   {
    "duration": 23,
    "start_time": "2022-05-03T06:16:43.732Z"
   },
   {
    "duration": 78,
    "start_time": "2022-05-03T06:16:43.758Z"
   },
   {
    "duration": 5,
    "start_time": "2022-05-03T06:16:43.839Z"
   },
   {
    "duration": 14,
    "start_time": "2022-05-03T06:16:43.846Z"
   },
   {
    "duration": 7,
    "start_time": "2022-05-03T06:16:43.863Z"
   },
   {
    "duration": 17,
    "start_time": "2022-05-03T06:16:43.894Z"
   },
   {
    "duration": 35,
    "start_time": "2022-05-03T06:16:43.915Z"
   },
   {
    "duration": 6,
    "start_time": "2022-05-03T06:16:43.955Z"
   },
   {
    "duration": 14,
    "start_time": "2022-05-03T06:16:43.994Z"
   },
   {
    "duration": 7,
    "start_time": "2022-05-03T06:16:44.011Z"
   },
   {
    "duration": 11,
    "start_time": "2022-05-03T06:16:44.022Z"
   },
   {
    "duration": 63,
    "start_time": "2022-05-03T06:16:44.036Z"
   },
   {
    "duration": 35,
    "start_time": "2022-05-03T06:16:44.102Z"
   },
   {
    "duration": 54,
    "start_time": "2022-05-03T06:16:44.139Z"
   },
   {
    "duration": 41,
    "start_time": "2022-05-03T06:16:44.195Z"
   },
   {
    "duration": 57,
    "start_time": "2022-05-03T06:16:44.239Z"
   },
   {
    "duration": 111,
    "start_time": "2022-05-03T06:16:44.298Z"
   },
   {
    "duration": 116,
    "start_time": "2022-05-03T06:16:44.411Z"
   },
   {
    "duration": 95,
    "start_time": "2022-05-03T06:16:44.530Z"
   },
   {
    "duration": 67,
    "start_time": "2022-05-03T06:16:44.628Z"
   },
   {
    "duration": 3,
    "start_time": "2022-05-03T06:16:44.697Z"
   },
   {
    "duration": 9,
    "start_time": "2022-05-03T06:16:44.702Z"
   },
   {
    "duration": 85,
    "start_time": "2022-05-03T06:16:44.714Z"
   },
   {
    "duration": 14,
    "start_time": "2022-05-03T06:16:44.802Z"
   },
   {
    "duration": 101,
    "start_time": "2022-05-03T06:16:44.819Z"
   },
   {
    "duration": 26,
    "start_time": "2022-05-03T06:16:44.928Z"
   },
   {
    "duration": 7,
    "start_time": "2022-05-03T06:16:44.956Z"
   },
   {
    "duration": 31,
    "start_time": "2022-05-03T06:16:44.966Z"
   },
   {
    "duration": 30,
    "start_time": "2022-05-03T06:16:45.000Z"
   },
   {
    "duration": 60,
    "start_time": "2022-05-03T06:16:45.033Z"
   },
   {
    "duration": 29,
    "start_time": "2022-05-03T06:16:45.096Z"
   },
   {
    "duration": 32,
    "start_time": "2022-05-03T06:16:45.128Z"
   },
   {
    "duration": 58,
    "start_time": "2022-05-03T06:16:45.162Z"
   },
   {
    "duration": 34,
    "start_time": "2022-05-03T06:16:45.222Z"
   },
   {
    "duration": 53,
    "start_time": "2022-05-03T06:16:45.258Z"
   },
   {
    "duration": 162,
    "start_time": "2022-05-03T06:16:45.314Z"
   },
   {
    "duration": 14,
    "start_time": "2022-05-03T06:16:45.479Z"
   },
   {
    "duration": 19,
    "start_time": "2022-05-03T06:16:45.496Z"
   },
   {
    "duration": 20,
    "start_time": "2022-05-03T06:16:45.518Z"
   },
   {
    "duration": 16,
    "start_time": "2022-05-03T06:16:45.541Z"
   },
   {
    "duration": 4443,
    "start_time": "2022-05-03T06:16:45.560Z"
   },
   {
    "duration": 5,
    "start_time": "2022-05-03T06:16:50.005Z"
   },
   {
    "duration": 25,
    "start_time": "2022-05-03T06:16:50.013Z"
   },
   {
    "duration": 204,
    "start_time": "2022-05-03T06:16:50.041Z"
   },
   {
    "duration": 0,
    "start_time": "2022-05-03T06:16:50.247Z"
   },
   {
    "duration": 0,
    "start_time": "2022-05-03T06:16:50.249Z"
   },
   {
    "duration": 0,
    "start_time": "2022-05-03T06:16:50.251Z"
   },
   {
    "duration": 0,
    "start_time": "2022-05-03T06:16:50.253Z"
   },
   {
    "duration": 0,
    "start_time": "2022-05-03T06:16:50.256Z"
   },
   {
    "duration": 0,
    "start_time": "2022-05-03T06:16:50.258Z"
   },
   {
    "duration": 0,
    "start_time": "2022-05-03T06:16:50.259Z"
   },
   {
    "duration": 0,
    "start_time": "2022-05-03T06:16:50.262Z"
   },
   {
    "duration": 0,
    "start_time": "2022-05-03T06:16:50.264Z"
   },
   {
    "duration": 27,
    "start_time": "2022-05-03T06:16:58.066Z"
   },
   {
    "duration": 21,
    "start_time": "2022-05-03T06:16:58.569Z"
   },
   {
    "duration": 30,
    "start_time": "2022-05-03T06:16:59.441Z"
   },
   {
    "duration": 21,
    "start_time": "2022-05-03T06:17:01.874Z"
   },
   {
    "duration": 7,
    "start_time": "2022-05-03T06:17:07.498Z"
   },
   {
    "duration": 31,
    "start_time": "2022-05-03T06:17:08.026Z"
   },
   {
    "duration": 5,
    "start_time": "2022-05-03T06:17:10.514Z"
   },
   {
    "duration": 19,
    "start_time": "2022-05-03T06:17:12.978Z"
   },
   {
    "duration": 5,
    "start_time": "2022-05-03T06:17:14.178Z"
   },
   {
    "duration": 176,
    "start_time": "2022-05-03T19:47:12.403Z"
   },
   {
    "duration": 72,
    "start_time": "2022-05-03T22:01:17.123Z"
   },
   {
    "duration": 8,
    "start_time": "2022-05-03T22:01:19.757Z"
   },
   {
    "duration": 550,
    "start_time": "2022-05-03T22:05:07.846Z"
   },
   {
    "duration": 386,
    "start_time": "2022-05-03T22:05:08.399Z"
   },
   {
    "duration": 16,
    "start_time": "2022-05-03T22:05:08.788Z"
   },
   {
    "duration": 42,
    "start_time": "2022-05-03T22:05:08.806Z"
   },
   {
    "duration": 5,
    "start_time": "2022-05-03T22:05:08.852Z"
   },
   {
    "duration": 6,
    "start_time": "2022-05-03T22:05:08.883Z"
   },
   {
    "duration": 5,
    "start_time": "2022-05-03T22:05:08.891Z"
   },
   {
    "duration": 14,
    "start_time": "2022-05-03T22:05:08.899Z"
   },
   {
    "duration": 70,
    "start_time": "2022-05-03T22:05:08.915Z"
   },
   {
    "duration": 6,
    "start_time": "2022-05-03T22:05:08.988Z"
   },
   {
    "duration": 11,
    "start_time": "2022-05-03T22:05:08.996Z"
   },
   {
    "duration": 5,
    "start_time": "2022-05-03T22:05:09.010Z"
   },
   {
    "duration": 8,
    "start_time": "2022-05-03T22:05:09.017Z"
   },
   {
    "duration": 73,
    "start_time": "2022-05-03T22:05:09.030Z"
   },
   {
    "duration": 36,
    "start_time": "2022-05-03T22:05:09.105Z"
   },
   {
    "duration": 55,
    "start_time": "2022-05-03T22:05:09.143Z"
   },
   {
    "duration": 41,
    "start_time": "2022-05-03T22:05:09.200Z"
   },
   {
    "duration": 48,
    "start_time": "2022-05-03T22:05:09.243Z"
   },
   {
    "duration": 114,
    "start_time": "2022-05-03T22:05:09.294Z"
   },
   {
    "duration": 111,
    "start_time": "2022-05-03T22:05:09.410Z"
   },
   {
    "duration": 97,
    "start_time": "2022-05-03T22:05:09.523Z"
   },
   {
    "duration": 61,
    "start_time": "2022-05-03T22:05:09.622Z"
   },
   {
    "duration": 3,
    "start_time": "2022-05-03T22:05:09.685Z"
   },
   {
    "duration": 6,
    "start_time": "2022-05-03T22:05:09.690Z"
   },
   {
    "duration": 46,
    "start_time": "2022-05-03T22:05:09.698Z"
   },
   {
    "duration": 36,
    "start_time": "2022-05-03T22:05:09.746Z"
   },
   {
    "duration": 50,
    "start_time": "2022-05-03T22:05:09.784Z"
   },
   {
    "duration": 16,
    "start_time": "2022-05-03T22:05:09.837Z"
   },
   {
    "duration": 6,
    "start_time": "2022-05-03T22:05:09.882Z"
   },
   {
    "duration": 5,
    "start_time": "2022-05-03T22:05:09.890Z"
   },
   {
    "duration": 23,
    "start_time": "2022-05-03T22:05:09.897Z"
   },
   {
    "duration": 25,
    "start_time": "2022-05-03T22:05:09.922Z"
   },
   {
    "duration": 48,
    "start_time": "2022-05-03T22:05:09.949Z"
   },
   {
    "duration": 20,
    "start_time": "2022-05-03T22:05:09.999Z"
   },
   {
    "duration": 19,
    "start_time": "2022-05-03T22:05:10.021Z"
   },
   {
    "duration": 54,
    "start_time": "2022-05-03T22:05:10.042Z"
   },
   {
    "duration": 19,
    "start_time": "2022-05-03T22:05:10.098Z"
   },
   {
    "duration": 112,
    "start_time": "2022-05-03T22:05:10.119Z"
   },
   {
    "duration": 6,
    "start_time": "2022-05-03T22:05:10.233Z"
   },
   {
    "duration": 11,
    "start_time": "2022-05-03T22:05:10.241Z"
   },
   {
    "duration": 16,
    "start_time": "2022-05-03T22:05:10.282Z"
   },
   {
    "duration": 13,
    "start_time": "2022-05-03T22:05:10.300Z"
   },
   {
    "duration": 3806,
    "start_time": "2022-05-03T22:05:10.315Z"
   },
   {
    "duration": 5,
    "start_time": "2022-05-03T22:05:14.123Z"
   },
   {
    "duration": 25,
    "start_time": "2022-05-03T22:05:14.130Z"
   },
   {
    "duration": 114,
    "start_time": "2022-05-03T22:05:14.157Z"
   },
   {
    "duration": 0,
    "start_time": "2022-05-03T22:05:14.273Z"
   },
   {
    "duration": 0,
    "start_time": "2022-05-03T22:05:14.275Z"
   },
   {
    "duration": 0,
    "start_time": "2022-05-03T22:05:14.276Z"
   },
   {
    "duration": 0,
    "start_time": "2022-05-03T22:05:14.278Z"
   },
   {
    "duration": 0,
    "start_time": "2022-05-03T22:05:14.279Z"
   },
   {
    "duration": 0,
    "start_time": "2022-05-03T22:05:14.280Z"
   },
   {
    "duration": 0,
    "start_time": "2022-05-03T22:05:14.282Z"
   },
   {
    "duration": 0,
    "start_time": "2022-05-03T22:05:14.284Z"
   },
   {
    "duration": 0,
    "start_time": "2022-05-03T22:05:14.285Z"
   },
   {
    "duration": 18,
    "start_time": "2022-05-03T22:06:15.507Z"
   },
   {
    "duration": 18,
    "start_time": "2022-05-03T22:06:19.764Z"
   },
   {
    "duration": 16,
    "start_time": "2022-05-03T22:08:10.246Z"
   },
   {
    "duration": 14,
    "start_time": "2022-05-03T22:08:18.627Z"
   },
   {
    "duration": 5,
    "start_time": "2022-05-03T22:10:15.345Z"
   },
   {
    "duration": 23,
    "start_time": "2022-05-03T22:16:13.196Z"
   },
   {
    "duration": 19,
    "start_time": "2022-05-03T22:16:15.777Z"
   },
   {
    "duration": 25,
    "start_time": "2022-05-03T22:16:17.753Z"
   },
   {
    "duration": 18,
    "start_time": "2022-05-03T22:16:19.790Z"
   },
   {
    "duration": 6,
    "start_time": "2022-05-03T22:24:38.458Z"
   },
   {
    "duration": 6,
    "start_time": "2022-05-03T22:24:47.979Z"
   },
   {
    "duration": 22,
    "start_time": "2022-05-03T22:25:09.733Z"
   },
   {
    "duration": 17,
    "start_time": "2022-05-03T22:25:18.030Z"
   },
   {
    "duration": 30,
    "start_time": "2022-05-03T22:25:19.875Z"
   },
   {
    "duration": 28,
    "start_time": "2022-05-03T22:25:26.168Z"
   },
   {
    "duration": 20,
    "start_time": "2022-05-03T22:25:28.836Z"
   },
   {
    "duration": 14,
    "start_time": "2022-05-03T23:00:14.750Z"
   },
   {
    "duration": 26,
    "start_time": "2022-05-03T23:00:18.300Z"
   },
   {
    "duration": 25,
    "start_time": "2022-05-03T23:01:13.621Z"
   },
   {
    "duration": 5,
    "start_time": "2022-05-03T23:02:56.940Z"
   },
   {
    "duration": 36,
    "start_time": "2022-05-03T23:02:58.159Z"
   },
   {
    "duration": 5,
    "start_time": "2022-05-03T23:02:59.906Z"
   },
   {
    "duration": 20,
    "start_time": "2022-05-03T23:03:01.142Z"
   },
   {
    "duration": 4,
    "start_time": "2022-05-03T23:03:02.271Z"
   },
   {
    "duration": 17,
    "start_time": "2022-05-03T23:05:15.098Z"
   },
   {
    "duration": 14,
    "start_time": "2022-05-03T23:05:25.384Z"
   },
   {
    "duration": 15,
    "start_time": "2022-05-03T23:06:33.353Z"
   },
   {
    "duration": 16,
    "start_time": "2022-05-03T23:06:50.626Z"
   },
   {
    "duration": 3823,
    "start_time": "2022-05-03T23:07:04.384Z"
   },
   {
    "duration": 5,
    "start_time": "2022-05-03T23:07:08.210Z"
   },
   {
    "duration": 21,
    "start_time": "2022-05-03T23:08:26.801Z"
   },
   {
    "duration": 20,
    "start_time": "2022-05-03T23:09:23.891Z"
   },
   {
    "duration": 17,
    "start_time": "2022-05-03T23:09:27.207Z"
   },
   {
    "duration": 21,
    "start_time": "2022-05-03T23:09:36.710Z"
   },
   {
    "duration": 16,
    "start_time": "2022-05-03T23:09:39.042Z"
   },
   {
    "duration": 9,
    "start_time": "2022-05-03T23:12:01.308Z"
   },
   {
    "duration": 24,
    "start_time": "2022-05-03T23:12:04.695Z"
   },
   {
    "duration": 18,
    "start_time": "2022-05-03T23:12:31.374Z"
   },
   {
    "duration": 13,
    "start_time": "2022-05-03T23:12:33.525Z"
   },
   {
    "duration": 23,
    "start_time": "2022-05-03T23:12:36.717Z"
   },
   {
    "duration": 16,
    "start_time": "2022-05-03T23:13:25.972Z"
   },
   {
    "duration": 65,
    "start_time": "2022-05-03T23:14:29.842Z"
   },
   {
    "duration": 6,
    "start_time": "2022-05-03T23:14:46.222Z"
   },
   {
    "duration": 23,
    "start_time": "2022-05-03T23:14:47.046Z"
   },
   {
    "duration": 18,
    "start_time": "2022-05-03T23:14:51.945Z"
   },
   {
    "duration": 30,
    "start_time": "2022-05-04T20:20:57.700Z"
   },
   {
    "duration": 35,
    "start_time": "2022-05-04T20:22:02.958Z"
   },
   {
    "duration": 26,
    "start_time": "2022-05-04T20:24:01.094Z"
   },
   {
    "duration": 25,
    "start_time": "2022-05-04T20:24:11.491Z"
   },
   {
    "duration": 32,
    "start_time": "2022-05-04T20:25:45.688Z"
   },
   {
    "duration": 19,
    "start_time": "2022-05-04T20:25:54.438Z"
   },
   {
    "duration": 24,
    "start_time": "2022-05-04T20:26:06.590Z"
   },
   {
    "duration": 12,
    "start_time": "2022-05-04T20:26:17.587Z"
   },
   {
    "duration": 10,
    "start_time": "2022-05-04T20:26:25.185Z"
   },
   {
    "duration": 27,
    "start_time": "2022-05-04T20:27:38.095Z"
   },
   {
    "duration": 30,
    "start_time": "2022-05-04T20:28:03.723Z"
   },
   {
    "duration": 22,
    "start_time": "2022-05-04T20:32:01.875Z"
   },
   {
    "duration": 23,
    "start_time": "2022-05-04T20:32:32.846Z"
   },
   {
    "duration": 120,
    "start_time": "2022-05-04T20:33:22.355Z"
   },
   {
    "duration": 30,
    "start_time": "2022-05-04T20:34:03.781Z"
   },
   {
    "duration": 24,
    "start_time": "2022-05-04T20:35:57.768Z"
   },
   {
    "duration": 29,
    "start_time": "2022-05-04T20:36:04.725Z"
   },
   {
    "duration": 69,
    "start_time": "2022-05-04T20:36:21.470Z"
   },
   {
    "duration": 22,
    "start_time": "2022-05-04T20:36:51.667Z"
   },
   {
    "duration": 5,
    "start_time": "2022-05-04T20:38:14.215Z"
   },
   {
    "duration": 23,
    "start_time": "2022-05-04T20:38:51.814Z"
   },
   {
    "duration": 20,
    "start_time": "2022-05-04T20:39:06.559Z"
   },
   {
    "duration": 26,
    "start_time": "2022-05-04T20:39:26.905Z"
   },
   {
    "duration": 19,
    "start_time": "2022-05-04T20:39:28.108Z"
   },
   {
    "duration": 135,
    "start_time": "2022-05-04T20:40:12.166Z"
   },
   {
    "duration": 7,
    "start_time": "2022-05-04T20:40:15.967Z"
   },
   {
    "duration": 10,
    "start_time": "2022-05-04T20:40:19.412Z"
   },
   {
    "duration": 18,
    "start_time": "2022-05-04T20:41:05.263Z"
   },
   {
    "duration": 13,
    "start_time": "2022-05-04T20:41:30.666Z"
   },
   {
    "duration": 4005,
    "start_time": "2022-05-04T20:41:41.059Z"
   },
   {
    "duration": 16,
    "start_time": "2022-05-04T20:43:15.760Z"
   },
   {
    "duration": 10,
    "start_time": "2022-05-04T20:48:43.423Z"
   },
   {
    "duration": 30,
    "start_time": "2022-05-04T20:48:46.723Z"
   },
   {
    "duration": 26,
    "start_time": "2022-05-04T20:48:57.424Z"
   },
   {
    "duration": 29,
    "start_time": "2022-05-04T20:49:35.767Z"
   },
   {
    "duration": 37,
    "start_time": "2022-05-04T20:49:52.422Z"
   },
   {
    "duration": 23,
    "start_time": "2022-05-04T20:50:30.470Z"
   },
   {
    "duration": 22,
    "start_time": "2022-05-04T20:50:40.017Z"
   },
   {
    "duration": 6,
    "start_time": "2022-05-04T20:50:51.324Z"
   },
   {
    "duration": 17,
    "start_time": "2022-05-04T20:51:08.571Z"
   },
   {
    "duration": 18,
    "start_time": "2022-05-04T20:51:21.543Z"
   },
   {
    "duration": 22,
    "start_time": "2022-05-04T20:51:32.766Z"
   },
   {
    "duration": 22,
    "start_time": "2022-05-04T20:52:00.718Z"
   },
   {
    "duration": 18,
    "start_time": "2022-05-04T20:52:11.905Z"
   },
   {
    "duration": 32,
    "start_time": "2022-05-04T20:52:20.307Z"
   },
   {
    "duration": 160,
    "start_time": "2022-05-04T20:52:55.411Z"
   },
   {
    "duration": 42,
    "start_time": "2022-05-04T20:53:04.857Z"
   },
   {
    "duration": 23,
    "start_time": "2022-05-04T20:53:54.457Z"
   },
   {
    "duration": 49,
    "start_time": "2022-05-04T20:54:13.456Z"
   },
   {
    "duration": 45,
    "start_time": "2022-05-04T20:54:42.507Z"
   },
   {
    "duration": 30,
    "start_time": "2022-05-04T20:54:57.552Z"
   },
   {
    "duration": 24,
    "start_time": "2022-05-04T20:55:10.001Z"
   },
   {
    "duration": 36,
    "start_time": "2022-05-04T20:55:14.803Z"
   },
   {
    "duration": 21,
    "start_time": "2022-05-04T20:55:27.601Z"
   },
   {
    "duration": 6,
    "start_time": "2022-05-04T20:56:31.805Z"
   },
   {
    "duration": 24,
    "start_time": "2022-05-04T20:56:37.448Z"
   },
   {
    "duration": 22,
    "start_time": "2022-05-04T20:57:38.061Z"
   },
   {
    "duration": 18,
    "start_time": "2022-05-04T20:57:40.780Z"
   },
   {
    "duration": 23,
    "start_time": "2022-05-04T20:57:43.026Z"
   },
   {
    "duration": 16,
    "start_time": "2022-05-04T20:57:45.979Z"
   },
   {
    "duration": 21,
    "start_time": "2022-05-04T20:58:54.649Z"
   },
   {
    "duration": 7,
    "start_time": "2022-05-04T21:00:15.903Z"
   },
   {
    "duration": 589,
    "start_time": "2022-05-05T07:02:06.757Z"
   },
   {
    "duration": 579,
    "start_time": "2022-05-05T07:02:07.349Z"
   },
   {
    "duration": 24,
    "start_time": "2022-05-05T07:02:07.931Z"
   },
   {
    "duration": 80,
    "start_time": "2022-05-05T07:02:07.959Z"
   },
   {
    "duration": 6,
    "start_time": "2022-05-05T07:02:08.042Z"
   },
   {
    "duration": 36,
    "start_time": "2022-05-05T07:02:08.050Z"
   },
   {
    "duration": 7,
    "start_time": "2022-05-05T07:02:08.089Z"
   },
   {
    "duration": 17,
    "start_time": "2022-05-05T07:02:08.099Z"
   },
   {
    "duration": 36,
    "start_time": "2022-05-05T07:02:08.119Z"
   },
   {
    "duration": 6,
    "start_time": "2022-05-05T07:02:08.184Z"
   },
   {
    "duration": 18,
    "start_time": "2022-05-05T07:02:08.192Z"
   },
   {
    "duration": 12,
    "start_time": "2022-05-05T07:02:08.213Z"
   },
   {
    "duration": 10,
    "start_time": "2022-05-05T07:02:08.228Z"
   },
   {
    "duration": 71,
    "start_time": "2022-05-05T07:02:08.240Z"
   },
   {
    "duration": 36,
    "start_time": "2022-05-05T07:02:08.313Z"
   },
   {
    "duration": 50,
    "start_time": "2022-05-05T07:02:08.351Z"
   },
   {
    "duration": 42,
    "start_time": "2022-05-05T07:02:08.403Z"
   },
   {
    "duration": 75,
    "start_time": "2022-05-05T07:02:08.448Z"
   },
   {
    "duration": 115,
    "start_time": "2022-05-05T07:02:08.526Z"
   },
   {
    "duration": 113,
    "start_time": "2022-05-05T07:02:08.644Z"
   },
   {
    "duration": 96,
    "start_time": "2022-05-05T07:02:08.760Z"
   },
   {
    "duration": 60,
    "start_time": "2022-05-05T07:02:08.859Z"
   },
   {
    "duration": 3,
    "start_time": "2022-05-05T07:02:08.922Z"
   },
   {
    "duration": 6,
    "start_time": "2022-05-05T07:02:08.928Z"
   },
   {
    "duration": 83,
    "start_time": "2022-05-05T07:02:08.937Z"
   },
   {
    "duration": 10,
    "start_time": "2022-05-05T07:02:09.023Z"
   },
   {
    "duration": 46,
    "start_time": "2022-05-05T07:02:09.036Z"
   },
   {
    "duration": 16,
    "start_time": "2022-05-05T07:02:09.088Z"
   },
   {
    "duration": 28,
    "start_time": "2022-05-05T07:02:09.107Z"
   },
   {
    "duration": 46,
    "start_time": "2022-05-05T07:02:09.137Z"
   },
   {
    "duration": 16,
    "start_time": "2022-05-05T07:02:09.185Z"
   },
   {
    "duration": 6,
    "start_time": "2022-05-05T07:02:09.204Z"
   },
   {
    "duration": 12,
    "start_time": "2022-05-05T07:02:09.213Z"
   },
   {
    "duration": 62,
    "start_time": "2022-05-05T07:02:09.227Z"
   },
   {
    "duration": 21,
    "start_time": "2022-05-05T07:02:09.291Z"
   },
   {
    "duration": 22,
    "start_time": "2022-05-05T07:02:09.315Z"
   },
   {
    "duration": 59,
    "start_time": "2022-05-05T07:02:09.340Z"
   },
   {
    "duration": 35,
    "start_time": "2022-05-05T07:02:09.402Z"
   },
   {
    "duration": 49,
    "start_time": "2022-05-05T07:02:09.439Z"
   },
   {
    "duration": 148,
    "start_time": "2022-05-05T07:02:09.491Z"
   },
   {
    "duration": 7,
    "start_time": "2022-05-05T07:02:09.642Z"
   },
   {
    "duration": 31,
    "start_time": "2022-05-05T07:02:09.651Z"
   },
   {
    "duration": 23,
    "start_time": "2022-05-05T07:02:09.684Z"
   },
   {
    "duration": 18,
    "start_time": "2022-05-05T07:02:09.709Z"
   },
   {
    "duration": 5837,
    "start_time": "2022-05-05T07:02:09.730Z"
   },
   {
    "duration": 14,
    "start_time": "2022-05-05T07:02:15.570Z"
   },
   {
    "duration": 37,
    "start_time": "2022-05-05T07:02:15.587Z"
   },
   {
    "duration": 27,
    "start_time": "2022-05-05T07:02:15.627Z"
   },
   {
    "duration": 41,
    "start_time": "2022-05-05T07:02:15.656Z"
   },
   {
    "duration": 30,
    "start_time": "2022-05-05T07:02:15.700Z"
   },
   {
    "duration": 51,
    "start_time": "2022-05-05T07:02:15.732Z"
   },
   {
    "duration": 6,
    "start_time": "2022-05-05T07:02:15.786Z"
   },
   {
    "duration": 38,
    "start_time": "2022-05-05T07:02:15.794Z"
   },
   {
    "duration": 10,
    "start_time": "2022-05-05T07:02:15.834Z"
   },
   {
    "duration": 45,
    "start_time": "2022-05-05T07:02:15.846Z"
   },
   {
    "duration": 5,
    "start_time": "2022-05-05T07:02:15.894Z"
   }
  ],
  "colab": {
   "collapsed_sections": [
    "E0vqbgi9ay0H",
    "VUC88oWjTJw2",
    "atZAxtq4_Zcu"
   ],
   "name": "EmptyFinalProject.ipynb\"",
   "provenance": []
  },
  "kernelspec": {
   "display_name": "Python 3 (ipykernel)",
   "language": "python",
   "name": "python3"
  },
  "language_info": {
   "codemirror_mode": {
    "name": "ipython",
    "version": 3
   },
   "file_extension": ".py",
   "mimetype": "text/x-python",
   "name": "python",
   "nbconvert_exporter": "python",
   "pygments_lexer": "ipython3",
   "version": "3.9.7"
  },
  "toc": {
   "base_numbering": 1,
   "nav_menu": {},
   "number_sections": true,
   "sideBar": true,
   "skip_h1_title": true,
   "title_cell": "Table of Contents",
   "title_sidebar": "Contents",
   "toc_cell": false,
   "toc_position": {},
   "toc_section_display": true,
   "toc_window_display": false
  }
 },
 "nbformat": 4,
 "nbformat_minor": 4
}
