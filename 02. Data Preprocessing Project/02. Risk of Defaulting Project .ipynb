{
 "cells": [
  {
   "cell_type": "markdown",
   "metadata": {},
   "source": [
    "# Analyzing borrowers’ risk of defaulting\n",
    "\n",
    "This project is to prepare a report for a bank’s loan division. Our goal is to find out if a customer’s marital status and number of children has an impact on whether they will default on a loan. Here we already have some data on customers’ credit worthiness.\n",
    "\n",
    "This report will be considered when building the **credit score** of a potential customer. The **credit score** is used to evaluate the ability of a potential borrower to repay their loan."
   ]
  },
  {
   "cell_type": "markdown",
   "metadata": {},
   "source": [
    "<b>Goals:</b>\n",
    "\n",
    "- Find out if a customer's marital status and number of children has an impact on whether they will default a loan."
   ]
  },
  {
   "cell_type": "markdown",
   "metadata": {},
   "source": [
    "<b>Stages:</b>\n",
    "\n",
    "<b>Step 1.</b> Open the data file `/datasets/credit_scoring_eng.csv` and have a look at the general information.\n",
    "\n",
    "<b>Step 2.</b> Preprocess the data:\n",
    "\n",
    "- Identify and fill in missing values\n",
    "- Replace the real number data type with the integer type\n",
    "- Delete duplicate data\n",
    "- Categorize the data\n",
    "\n",
    "<b>Explain:</b>\n",
    "\n",
    "- Which missing values you identified\n",
    "- Possible reasons these missing values were present\n",
    "- Which method you used to fill in missing values\n",
    "- Which method you used to find and delete duplicate data and why\n",
    "- Possible reasons why duplicate data was present\n",
    "- Which method you used to change the data type and why\n",
    "- Which dictionaries you've selected for this dataset and why\n",
    "\n",
    "The data may contain artifacts, or values that don't correspond to reality (for instance, a negative number of days employed). This kind of thing happens when you're working with real data. You need to describe the possible reasons such data may have turned up and process it.\n",
    "\n",
    "<b>Step 3.</b> Answer these questions:\n",
    "\n",
    "Is there a connection between having kids and repaying a loan on time?\n",
    "Is there a connection between marital status and repaying a loan on time?\n",
    "Is there a connection between income level and repaying a loan on time?\n",
    "How do different loan purposes affect on-time loan repayment?\n",
    "Interpret your answers. Explain what the results you obtained mean.\n",
    "\n",
    "<b>Step 4.</b> Write an overall conclusion."
   ]
  },
  {
   "cell_type": "markdown",
   "metadata": {},
   "source": [
    "## General Information"
   ]
  },
  {
   "cell_type": "code",
   "execution_count": 1,
   "metadata": {},
   "outputs": [
    {
     "name": "stdout",
     "output_type": "stream",
     "text": [
      "<class 'pandas.core.frame.DataFrame'>\n",
      "RangeIndex: 21525 entries, 0 to 21524\n",
      "Data columns (total 12 columns):\n",
      " #   Column            Non-Null Count  Dtype  \n",
      "---  ------            --------------  -----  \n",
      " 0   children          21525 non-null  int64  \n",
      " 1   days_employed     19351 non-null  float64\n",
      " 2   dob_years         21525 non-null  int64  \n",
      " 3   education         21525 non-null  object \n",
      " 4   education_id      21525 non-null  int64  \n",
      " 5   family_status     21525 non-null  object \n",
      " 6   family_status_id  21525 non-null  int64  \n",
      " 7   gender            21525 non-null  object \n",
      " 8   income_type       21525 non-null  object \n",
      " 9   debt              21525 non-null  int64  \n",
      " 10  total_income      19351 non-null  float64\n",
      " 11  purpose           21525 non-null  object \n",
      "dtypes: float64(2), int64(5), object(5)\n",
      "memory usage: 2.0+ MB\n"
     ]
    }
   ],
   "source": [
    "import pandas as pd# Loading all the libraries\n",
    "import numpy as np\n",
    "\n",
    "credit_scoring = pd.read_csv('/datasets/credit_scoring_eng.csv')# Loading the data\n",
    "credit_scoring.info()"
   ]
  },
  {
   "cell_type": "markdown",
   "metadata": {},
   "source": [
    "## Task 1. Data exploration\n",
    "\n",
    "**Description of the data**\n",
    "- `children` - the number of children in the family\n",
    "- `days_employed` - work experience in days\n",
    "- `dob_years` - client's age in years\n",
    "- `education` - client's education\n",
    "- `education_id` - education identifier\n",
    "- `family_status` - marital status\n",
    "- `family_status_id` - marital status identifier\n",
    "- `gender` - gender of the client\n",
    "- `income_type` - type of employment\n",
    "- `debt` - was there any debt on loan repayment\n",
    "- `total_income` - monthly income\n",
    "- `purpose` - the purpose of obtaining a loan"
   ]
  },
  {
   "cell_type": "code",
   "execution_count": 2,
   "metadata": {},
   "outputs": [
    {
     "data": {
      "text/plain": [
       "(21525, 12)"
      ]
     },
     "execution_count": 2,
     "metadata": {},
     "output_type": "execute_result"
    }
   ],
   "source": [
    "credit_scoring.shape# To see how many rows and columns our dataset has"
   ]
  },
  {
   "cell_type": "code",
   "execution_count": 3,
   "metadata": {
    "scrolled": true
   },
   "outputs": [
    {
     "data": {
      "text/html": [
       "<div>\n",
       "<style scoped>\n",
       "    .dataframe tbody tr th:only-of-type {\n",
       "        vertical-align: middle;\n",
       "    }\n",
       "\n",
       "    .dataframe tbody tr th {\n",
       "        vertical-align: top;\n",
       "    }\n",
       "\n",
       "    .dataframe thead th {\n",
       "        text-align: right;\n",
       "    }\n",
       "</style>\n",
       "<table border=\"1\" class=\"dataframe\">\n",
       "  <thead>\n",
       "    <tr style=\"text-align: right;\">\n",
       "      <th></th>\n",
       "      <th>children</th>\n",
       "      <th>days_employed</th>\n",
       "      <th>dob_years</th>\n",
       "      <th>education</th>\n",
       "      <th>education_id</th>\n",
       "      <th>family_status</th>\n",
       "      <th>family_status_id</th>\n",
       "      <th>gender</th>\n",
       "      <th>income_type</th>\n",
       "      <th>debt</th>\n",
       "      <th>total_income</th>\n",
       "      <th>purpose</th>\n",
       "    </tr>\n",
       "  </thead>\n",
       "  <tbody>\n",
       "    <tr>\n",
       "      <th>0</th>\n",
       "      <td>1</td>\n",
       "      <td>-8437.673028</td>\n",
       "      <td>42</td>\n",
       "      <td>bachelor's degree</td>\n",
       "      <td>0</td>\n",
       "      <td>married</td>\n",
       "      <td>0</td>\n",
       "      <td>F</td>\n",
       "      <td>employee</td>\n",
       "      <td>0</td>\n",
       "      <td>40620.102</td>\n",
       "      <td>purchase of the house</td>\n",
       "    </tr>\n",
       "    <tr>\n",
       "      <th>1</th>\n",
       "      <td>1</td>\n",
       "      <td>-4024.803754</td>\n",
       "      <td>36</td>\n",
       "      <td>secondary education</td>\n",
       "      <td>1</td>\n",
       "      <td>married</td>\n",
       "      <td>0</td>\n",
       "      <td>F</td>\n",
       "      <td>employee</td>\n",
       "      <td>0</td>\n",
       "      <td>17932.802</td>\n",
       "      <td>car purchase</td>\n",
       "    </tr>\n",
       "    <tr>\n",
       "      <th>2</th>\n",
       "      <td>0</td>\n",
       "      <td>-5623.422610</td>\n",
       "      <td>33</td>\n",
       "      <td>Secondary Education</td>\n",
       "      <td>1</td>\n",
       "      <td>married</td>\n",
       "      <td>0</td>\n",
       "      <td>M</td>\n",
       "      <td>employee</td>\n",
       "      <td>0</td>\n",
       "      <td>23341.752</td>\n",
       "      <td>purchase of the house</td>\n",
       "    </tr>\n",
       "    <tr>\n",
       "      <th>3</th>\n",
       "      <td>3</td>\n",
       "      <td>-4124.747207</td>\n",
       "      <td>32</td>\n",
       "      <td>secondary education</td>\n",
       "      <td>1</td>\n",
       "      <td>married</td>\n",
       "      <td>0</td>\n",
       "      <td>M</td>\n",
       "      <td>employee</td>\n",
       "      <td>0</td>\n",
       "      <td>42820.568</td>\n",
       "      <td>supplementary education</td>\n",
       "    </tr>\n",
       "    <tr>\n",
       "      <th>4</th>\n",
       "      <td>0</td>\n",
       "      <td>340266.072047</td>\n",
       "      <td>53</td>\n",
       "      <td>secondary education</td>\n",
       "      <td>1</td>\n",
       "      <td>civil partnership</td>\n",
       "      <td>1</td>\n",
       "      <td>F</td>\n",
       "      <td>retiree</td>\n",
       "      <td>0</td>\n",
       "      <td>25378.572</td>\n",
       "      <td>to have a wedding</td>\n",
       "    </tr>\n",
       "    <tr>\n",
       "      <th>5</th>\n",
       "      <td>0</td>\n",
       "      <td>-926.185831</td>\n",
       "      <td>27</td>\n",
       "      <td>bachelor's degree</td>\n",
       "      <td>0</td>\n",
       "      <td>civil partnership</td>\n",
       "      <td>1</td>\n",
       "      <td>M</td>\n",
       "      <td>business</td>\n",
       "      <td>0</td>\n",
       "      <td>40922.170</td>\n",
       "      <td>purchase of the house</td>\n",
       "    </tr>\n",
       "    <tr>\n",
       "      <th>6</th>\n",
       "      <td>0</td>\n",
       "      <td>-2879.202052</td>\n",
       "      <td>43</td>\n",
       "      <td>bachelor's degree</td>\n",
       "      <td>0</td>\n",
       "      <td>married</td>\n",
       "      <td>0</td>\n",
       "      <td>F</td>\n",
       "      <td>business</td>\n",
       "      <td>0</td>\n",
       "      <td>38484.156</td>\n",
       "      <td>housing transactions</td>\n",
       "    </tr>\n",
       "    <tr>\n",
       "      <th>7</th>\n",
       "      <td>0</td>\n",
       "      <td>-152.779569</td>\n",
       "      <td>50</td>\n",
       "      <td>SECONDARY EDUCATION</td>\n",
       "      <td>1</td>\n",
       "      <td>married</td>\n",
       "      <td>0</td>\n",
       "      <td>M</td>\n",
       "      <td>employee</td>\n",
       "      <td>0</td>\n",
       "      <td>21731.829</td>\n",
       "      <td>education</td>\n",
       "    </tr>\n",
       "    <tr>\n",
       "      <th>8</th>\n",
       "      <td>2</td>\n",
       "      <td>-6929.865299</td>\n",
       "      <td>35</td>\n",
       "      <td>BACHELOR'S DEGREE</td>\n",
       "      <td>0</td>\n",
       "      <td>civil partnership</td>\n",
       "      <td>1</td>\n",
       "      <td>F</td>\n",
       "      <td>employee</td>\n",
       "      <td>0</td>\n",
       "      <td>15337.093</td>\n",
       "      <td>having a wedding</td>\n",
       "    </tr>\n",
       "    <tr>\n",
       "      <th>9</th>\n",
       "      <td>0</td>\n",
       "      <td>-2188.756445</td>\n",
       "      <td>41</td>\n",
       "      <td>secondary education</td>\n",
       "      <td>1</td>\n",
       "      <td>married</td>\n",
       "      <td>0</td>\n",
       "      <td>M</td>\n",
       "      <td>employee</td>\n",
       "      <td>0</td>\n",
       "      <td>23108.150</td>\n",
       "      <td>purchase of the house for my family</td>\n",
       "    </tr>\n",
       "  </tbody>\n",
       "</table>\n",
       "</div>"
      ],
      "text/plain": [
       "   children  days_employed  dob_years            education  education_id  \\\n",
       "0         1   -8437.673028         42    bachelor's degree             0   \n",
       "1         1   -4024.803754         36  secondary education             1   \n",
       "2         0   -5623.422610         33  Secondary Education             1   \n",
       "3         3   -4124.747207         32  secondary education             1   \n",
       "4         0  340266.072047         53  secondary education             1   \n",
       "5         0    -926.185831         27    bachelor's degree             0   \n",
       "6         0   -2879.202052         43    bachelor's degree             0   \n",
       "7         0    -152.779569         50  SECONDARY EDUCATION             1   \n",
       "8         2   -6929.865299         35    BACHELOR'S DEGREE             0   \n",
       "9         0   -2188.756445         41  secondary education             1   \n",
       "\n",
       "       family_status  family_status_id gender income_type  debt  total_income  \\\n",
       "0            married                 0      F    employee     0     40620.102   \n",
       "1            married                 0      F    employee     0     17932.802   \n",
       "2            married                 0      M    employee     0     23341.752   \n",
       "3            married                 0      M    employee     0     42820.568   \n",
       "4  civil partnership                 1      F     retiree     0     25378.572   \n",
       "5  civil partnership                 1      M    business     0     40922.170   \n",
       "6            married                 0      F    business     0     38484.156   \n",
       "7            married                 0      M    employee     0     21731.829   \n",
       "8  civil partnership                 1      F    employee     0     15337.093   \n",
       "9            married                 0      M    employee     0     23108.150   \n",
       "\n",
       "                               purpose  \n",
       "0                purchase of the house  \n",
       "1                         car purchase  \n",
       "2                purchase of the house  \n",
       "3              supplementary education  \n",
       "4                    to have a wedding  \n",
       "5                purchase of the house  \n",
       "6                 housing transactions  \n",
       "7                            education  \n",
       "8                     having a wedding  \n",
       "9  purchase of the house for my family  "
      ]
     },
     "execution_count": 3,
     "metadata": {},
     "output_type": "execute_result"
    }
   ],
   "source": [
    "credit_scoring.head(10)# let's print the first 10 rows"
   ]
  },
  {
   "cell_type": "markdown",
   "metadata": {},
   "source": [
    "Comment: Under the 'days_employed' column, it looks like  some of the entries are negative in value. This might be an error. The first 5 applicants don't seem to have any debt, further analysis is required to see if this is accurate info."
   ]
  },
  {
   "cell_type": "code",
   "execution_count": 4,
   "metadata": {
    "scrolled": false
   },
   "outputs": [
    {
     "name": "stdout",
     "output_type": "stream",
     "text": [
      "<class 'pandas.core.frame.DataFrame'>\n",
      "RangeIndex: 21525 entries, 0 to 21524\n",
      "Data columns (total 12 columns):\n",
      " #   Column            Non-Null Count  Dtype  \n",
      "---  ------            --------------  -----  \n",
      " 0   children          21525 non-null  int64  \n",
      " 1   days_employed     19351 non-null  float64\n",
      " 2   dob_years         21525 non-null  int64  \n",
      " 3   education         21525 non-null  object \n",
      " 4   education_id      21525 non-null  int64  \n",
      " 5   family_status     21525 non-null  object \n",
      " 6   family_status_id  21525 non-null  int64  \n",
      " 7   gender            21525 non-null  object \n",
      " 8   income_type       21525 non-null  object \n",
      " 9   debt              21525 non-null  int64  \n",
      " 10  total_income      19351 non-null  float64\n",
      " 11  purpose           21525 non-null  object \n",
      "dtypes: float64(2), int64(5), object(5)\n",
      "memory usage: 2.0+ MB\n"
     ]
    }
   ],
   "source": [
    "credit_scoring.info()# Get info on data"
   ]
  },
  {
   "cell_type": "markdown",
   "metadata": {},
   "source": [
    "Comment: There seems to be missing values in the 'total_income' and 'days_employed' columns. "
   ]
  },
  {
   "cell_type": "code",
   "execution_count": 5,
   "metadata": {
    "scrolled": true
   },
   "outputs": [
    {
     "name": "stdout",
     "output_type": "stream",
     "text": [
      "2174\n"
     ]
    }
   ],
   "source": [
    "print(credit_scoring['days_employed'].isna().sum())# Let's look in the filtered table at the the first column with missing data\n"
   ]
  },
  {
   "cell_type": "markdown",
   "metadata": {},
   "source": [
    "Comment: Based on the info above and below, it looks like the 'days_employed' and 'total_income columns have the same amount of missing values. "
   ]
  },
  {
   "cell_type": "code",
   "execution_count": 6,
   "metadata": {
    "scrolled": true
   },
   "outputs": [
    {
     "data": {
      "text/plain": [
       "children             0.000000\n",
       "days_employed       10.099884\n",
       "dob_years            0.000000\n",
       "education            0.000000\n",
       "education_id         0.000000\n",
       "family_status        0.000000\n",
       "family_status_id     0.000000\n",
       "gender               0.000000\n",
       "income_type          0.000000\n",
       "debt                 0.000000\n",
       "total_income        10.099884\n",
       "purpose              0.000000\n",
       "dtype: float64"
      ]
     },
     "execution_count": 6,
     "metadata": {},
     "output_type": "execute_result"
    }
   ],
   "source": [
    "missing_values_share = credit_scoring.isnull().sum()* 100/ len(credit_scoring)# Let's apply multiple conditions for filtering data and look at the number of rows in the filtered table.\n",
    "missing_values_share\n"
   ]
  },
  {
   "cell_type": "markdown",
   "metadata": {},
   "source": [
    "Comment: In the 'days_employed' column, we'll go ahead and change those missing values from negative to positive values. After that, we're filling the missing values with the average 'days_employed'."
   ]
  },
  {
   "cell_type": "code",
   "execution_count": 7,
   "metadata": {},
   "outputs": [
    {
     "data": {
      "text/plain": [
       "0"
      ]
     },
     "execution_count": 7,
     "metadata": {},
     "output_type": "execute_result"
    }
   ],
   "source": [
    "credit_scoring['days_employed']= credit_scoring['days_employed'].abs()\n",
    "mean = credit_scoring['days_employed'].mean()\n",
    "credit_scoring['days_employed'].fillna(mean,inplace=True)\n",
    "credit_scoring['days_employed'].isnull().sum()\n"
   ]
  },
  {
   "cell_type": "markdown",
   "metadata": {},
   "source": [
    "**Intermediate conclusion**"
   ]
  },
  {
   "cell_type": "markdown",
   "metadata": {},
   "source": [
    "Comment: Next we'll do the same thing for the 'total_income' column. We'll fill in the 'total_income' missing values with the average 'total_income'."
   ]
  },
  {
   "cell_type": "code",
   "execution_count": 8,
   "metadata": {
    "scrolled": true
   },
   "outputs": [
    {
     "data": {
      "text/plain": [
       "0"
      ]
     },
     "execution_count": 8,
     "metadata": {},
     "output_type": "execute_result"
    }
   ],
   "source": [
    "days_employed_mean = credit_scoring['total_income'].mean()# Let's investigate clients who do not have data on identified characteristic and the column with the missing values\n",
    "credit_scoring['total_income'].fillna(days_employed_mean, inplace= True)\n",
    "credit_scoring['total_income'].isnull().sum()\n"
   ]
  },
  {
   "cell_type": "markdown",
   "metadata": {},
   "source": [
    "Comment: Now there aren't any missing values in our dataset."
   ]
  },
  {
   "cell_type": "code",
   "execution_count": 9,
   "metadata": {},
   "outputs": [
    {
     "name": "stdout",
     "output_type": "stream",
     "text": [
      "<class 'pandas.core.frame.DataFrame'>\n",
      "RangeIndex: 21525 entries, 0 to 21524\n",
      "Data columns (total 12 columns):\n",
      " #   Column            Non-Null Count  Dtype  \n",
      "---  ------            --------------  -----  \n",
      " 0   children          21525 non-null  int64  \n",
      " 1   days_employed     21525 non-null  float64\n",
      " 2   dob_years         21525 non-null  int64  \n",
      " 3   education         21525 non-null  object \n",
      " 4   education_id      21525 non-null  int64  \n",
      " 5   family_status     21525 non-null  object \n",
      " 6   family_status_id  21525 non-null  int64  \n",
      " 7   gender            21525 non-null  object \n",
      " 8   income_type       21525 non-null  object \n",
      " 9   debt              21525 non-null  int64  \n",
      " 10  total_income      21525 non-null  float64\n",
      " 11  purpose           21525 non-null  object \n",
      "dtypes: float64(2), int64(5), object(5)\n",
      "memory usage: 2.0+ MB\n"
     ]
    }
   ],
   "source": [
    "credit_scoring.info()"
   ]
  },
  {
   "cell_type": "markdown",
   "metadata": {},
   "source": [
    "**Possible reasons for missing values in data**\n",
    "\n",
    "Comment: It's unclear why there might be missing values. A few possible explanations could be that the data was not submitted correctly, or there might have been a systems error.\n"
   ]
  },
  {
   "cell_type": "markdown",
   "metadata": {},
   "source": [
    "**Intermediate conclusion**"
   ]
  },
  {
   "cell_type": "code",
   "execution_count": 10,
   "metadata": {},
   "outputs": [
    {
     "name": "stdout",
     "output_type": "stream",
     "text": [
      "There are 54 duplicated rows.\n"
     ]
    }
   ],
   "source": [
    "duplicates = credit_scoring.duplicated().sum()\n",
    "print(f'There are {duplicates} duplicated rows.')# Checking for duplicated rows\n"
   ]
  },
  {
   "cell_type": "markdown",
   "metadata": {},
   "source": [
    "**Intermediate conclusion**"
   ]
  },
  {
   "cell_type": "code",
   "execution_count": 11,
   "metadata": {},
   "outputs": [
    {
     "data": {
      "text/plain": [
       "array([\"bachelor's degree\", 'secondary education', 'Secondary Education',\n",
       "       'SECONDARY EDUCATION', \"BACHELOR'S DEGREE\", 'some college',\n",
       "       'primary education', \"Bachelor's Degree\", 'SOME COLLEGE',\n",
       "       'Some College', 'PRIMARY EDUCATION', 'Primary Education',\n",
       "       'Graduate Degree', 'GRADUATE DEGREE', 'graduate degree'],\n",
       "      dtype=object)"
      ]
     },
     "execution_count": 11,
     "metadata": {},
     "output_type": "execute_result"
    }
   ],
   "source": [
    "credit_scoring['education'].unique()"
   ]
  },
  {
   "cell_type": "markdown",
   "metadata": {},
   "source": [
    "**Conclusions**\n",
    "\n",
    "Comment: We seem to have 54 duplicated rows and a lot of inconsistent naming conventions under the 'education' column. We can correct those as well. "
   ]
  },
  {
   "cell_type": "markdown",
   "metadata": {},
   "source": [
    "## Data transformation\n",
    "\n",
    "We're going to go through each column to see if there are any other mistakes or inconsistencies. We'll begin my removing duplicates. "
   ]
  },
  {
   "cell_type": "code",
   "execution_count": 12,
   "metadata": {
    "scrolled": false
   },
   "outputs": [
    {
     "data": {
      "text/html": [
       "<div>\n",
       "<style scoped>\n",
       "    .dataframe tbody tr th:only-of-type {\n",
       "        vertical-align: middle;\n",
       "    }\n",
       "\n",
       "    .dataframe tbody tr th {\n",
       "        vertical-align: top;\n",
       "    }\n",
       "\n",
       "    .dataframe thead th {\n",
       "        text-align: right;\n",
       "    }\n",
       "</style>\n",
       "<table border=\"1\" class=\"dataframe\">\n",
       "  <thead>\n",
       "    <tr style=\"text-align: right;\">\n",
       "      <th></th>\n",
       "      <th>children</th>\n",
       "      <th>days_employed</th>\n",
       "      <th>dob_years</th>\n",
       "      <th>education</th>\n",
       "      <th>education_id</th>\n",
       "      <th>family_status</th>\n",
       "      <th>family_status_id</th>\n",
       "      <th>gender</th>\n",
       "      <th>income_type</th>\n",
       "      <th>debt</th>\n",
       "      <th>total_income</th>\n",
       "      <th>purpose</th>\n",
       "    </tr>\n",
       "  </thead>\n",
       "  <tbody>\n",
       "    <tr>\n",
       "      <th>0</th>\n",
       "      <td>1</td>\n",
       "      <td>8437.673028</td>\n",
       "      <td>42</td>\n",
       "      <td>bachelor's degree</td>\n",
       "      <td>0</td>\n",
       "      <td>married</td>\n",
       "      <td>0</td>\n",
       "      <td>F</td>\n",
       "      <td>employee</td>\n",
       "      <td>0</td>\n",
       "      <td>40620.102</td>\n",
       "      <td>purchase of the house</td>\n",
       "    </tr>\n",
       "    <tr>\n",
       "      <th>1</th>\n",
       "      <td>1</td>\n",
       "      <td>4024.803754</td>\n",
       "      <td>36</td>\n",
       "      <td>secondary education</td>\n",
       "      <td>1</td>\n",
       "      <td>married</td>\n",
       "      <td>0</td>\n",
       "      <td>F</td>\n",
       "      <td>employee</td>\n",
       "      <td>0</td>\n",
       "      <td>17932.802</td>\n",
       "      <td>car purchase</td>\n",
       "    </tr>\n",
       "    <tr>\n",
       "      <th>2</th>\n",
       "      <td>0</td>\n",
       "      <td>5623.422610</td>\n",
       "      <td>33</td>\n",
       "      <td>Secondary Education</td>\n",
       "      <td>1</td>\n",
       "      <td>married</td>\n",
       "      <td>0</td>\n",
       "      <td>M</td>\n",
       "      <td>employee</td>\n",
       "      <td>0</td>\n",
       "      <td>23341.752</td>\n",
       "      <td>purchase of the house</td>\n",
       "    </tr>\n",
       "    <tr>\n",
       "      <th>3</th>\n",
       "      <td>3</td>\n",
       "      <td>4124.747207</td>\n",
       "      <td>32</td>\n",
       "      <td>secondary education</td>\n",
       "      <td>1</td>\n",
       "      <td>married</td>\n",
       "      <td>0</td>\n",
       "      <td>M</td>\n",
       "      <td>employee</td>\n",
       "      <td>0</td>\n",
       "      <td>42820.568</td>\n",
       "      <td>supplementary education</td>\n",
       "    </tr>\n",
       "    <tr>\n",
       "      <th>4</th>\n",
       "      <td>0</td>\n",
       "      <td>340266.072047</td>\n",
       "      <td>53</td>\n",
       "      <td>secondary education</td>\n",
       "      <td>1</td>\n",
       "      <td>civil partnership</td>\n",
       "      <td>1</td>\n",
       "      <td>F</td>\n",
       "      <td>retiree</td>\n",
       "      <td>0</td>\n",
       "      <td>25378.572</td>\n",
       "      <td>to have a wedding</td>\n",
       "    </tr>\n",
       "    <tr>\n",
       "      <th>...</th>\n",
       "      <td>...</td>\n",
       "      <td>...</td>\n",
       "      <td>...</td>\n",
       "      <td>...</td>\n",
       "      <td>...</td>\n",
       "      <td>...</td>\n",
       "      <td>...</td>\n",
       "      <td>...</td>\n",
       "      <td>...</td>\n",
       "      <td>...</td>\n",
       "      <td>...</td>\n",
       "      <td>...</td>\n",
       "    </tr>\n",
       "    <tr>\n",
       "      <th>21520</th>\n",
       "      <td>1</td>\n",
       "      <td>4529.316663</td>\n",
       "      <td>43</td>\n",
       "      <td>secondary education</td>\n",
       "      <td>1</td>\n",
       "      <td>civil partnership</td>\n",
       "      <td>1</td>\n",
       "      <td>F</td>\n",
       "      <td>business</td>\n",
       "      <td>0</td>\n",
       "      <td>35966.698</td>\n",
       "      <td>housing transactions</td>\n",
       "    </tr>\n",
       "    <tr>\n",
       "      <th>21521</th>\n",
       "      <td>0</td>\n",
       "      <td>343937.404131</td>\n",
       "      <td>67</td>\n",
       "      <td>secondary education</td>\n",
       "      <td>1</td>\n",
       "      <td>married</td>\n",
       "      <td>0</td>\n",
       "      <td>F</td>\n",
       "      <td>retiree</td>\n",
       "      <td>0</td>\n",
       "      <td>24959.969</td>\n",
       "      <td>purchase of a car</td>\n",
       "    </tr>\n",
       "    <tr>\n",
       "      <th>21522</th>\n",
       "      <td>1</td>\n",
       "      <td>2113.346888</td>\n",
       "      <td>38</td>\n",
       "      <td>secondary education</td>\n",
       "      <td>1</td>\n",
       "      <td>civil partnership</td>\n",
       "      <td>1</td>\n",
       "      <td>M</td>\n",
       "      <td>employee</td>\n",
       "      <td>1</td>\n",
       "      <td>14347.610</td>\n",
       "      <td>property</td>\n",
       "    </tr>\n",
       "    <tr>\n",
       "      <th>21523</th>\n",
       "      <td>3</td>\n",
       "      <td>3112.481705</td>\n",
       "      <td>38</td>\n",
       "      <td>secondary education</td>\n",
       "      <td>1</td>\n",
       "      <td>married</td>\n",
       "      <td>0</td>\n",
       "      <td>M</td>\n",
       "      <td>employee</td>\n",
       "      <td>1</td>\n",
       "      <td>39054.888</td>\n",
       "      <td>buying my own car</td>\n",
       "    </tr>\n",
       "    <tr>\n",
       "      <th>21524</th>\n",
       "      <td>2</td>\n",
       "      <td>1984.507589</td>\n",
       "      <td>40</td>\n",
       "      <td>secondary education</td>\n",
       "      <td>1</td>\n",
       "      <td>married</td>\n",
       "      <td>0</td>\n",
       "      <td>F</td>\n",
       "      <td>employee</td>\n",
       "      <td>0</td>\n",
       "      <td>13127.587</td>\n",
       "      <td>to buy a car</td>\n",
       "    </tr>\n",
       "  </tbody>\n",
       "</table>\n",
       "<p>21471 rows × 12 columns</p>\n",
       "</div>"
      ],
      "text/plain": [
       "       children  days_employed  dob_years            education  education_id  \\\n",
       "0             1    8437.673028         42    bachelor's degree             0   \n",
       "1             1    4024.803754         36  secondary education             1   \n",
       "2             0    5623.422610         33  Secondary Education             1   \n",
       "3             3    4124.747207         32  secondary education             1   \n",
       "4             0  340266.072047         53  secondary education             1   \n",
       "...         ...            ...        ...                  ...           ...   \n",
       "21520         1    4529.316663         43  secondary education             1   \n",
       "21521         0  343937.404131         67  secondary education             1   \n",
       "21522         1    2113.346888         38  secondary education             1   \n",
       "21523         3    3112.481705         38  secondary education             1   \n",
       "21524         2    1984.507589         40  secondary education             1   \n",
       "\n",
       "           family_status  family_status_id gender income_type  debt  \\\n",
       "0                married                 0      F    employee     0   \n",
       "1                married                 0      F    employee     0   \n",
       "2                married                 0      M    employee     0   \n",
       "3                married                 0      M    employee     0   \n",
       "4      civil partnership                 1      F     retiree     0   \n",
       "...                  ...               ...    ...         ...   ...   \n",
       "21520  civil partnership                 1      F    business     0   \n",
       "21521            married                 0      F     retiree     0   \n",
       "21522  civil partnership                 1      M    employee     1   \n",
       "21523            married                 0      M    employee     1   \n",
       "21524            married                 0      F    employee     0   \n",
       "\n",
       "       total_income                  purpose  \n",
       "0         40620.102    purchase of the house  \n",
       "1         17932.802             car purchase  \n",
       "2         23341.752    purchase of the house  \n",
       "3         42820.568  supplementary education  \n",
       "4         25378.572        to have a wedding  \n",
       "...             ...                      ...  \n",
       "21520     35966.698     housing transactions  \n",
       "21521     24959.969        purchase of a car  \n",
       "21522     14347.610                 property  \n",
       "21523     39054.888        buying my own car  \n",
       "21524     13127.587             to buy a car  \n",
       "\n",
       "[21471 rows x 12 columns]"
      ]
     },
     "execution_count": 12,
     "metadata": {},
     "output_type": "execute_result"
    }
   ],
   "source": [
    "credit_scoring.drop_duplicates()"
   ]
  },
  {
   "cell_type": "code",
   "execution_count": 13,
   "metadata": {},
   "outputs": [
    {
     "data": {
      "text/plain": [
       "54"
      ]
     },
     "execution_count": 13,
     "metadata": {},
     "output_type": "execute_result"
    }
   ],
   "source": [
    "credit_scoring.duplicated().sum()"
   ]
  },
  {
   "cell_type": "code",
   "execution_count": 14,
   "metadata": {},
   "outputs": [
    {
     "data": {
      "text/plain": [
       "array([\"bachelor's degree\", 'secondary education', 'Secondary Education',\n",
       "       'SECONDARY EDUCATION', \"BACHELOR'S DEGREE\", 'some college',\n",
       "       'primary education', \"Bachelor's Degree\", 'SOME COLLEGE',\n",
       "       'Some College', 'PRIMARY EDUCATION', 'Primary Education',\n",
       "       'Graduate Degree', 'GRADUATE DEGREE', 'graduate degree'],\n",
       "      dtype=object)"
      ]
     },
     "execution_count": 14,
     "metadata": {},
     "output_type": "execute_result"
    }
   ],
   "source": [
    "credit_scoring['education'].unique()# Let's see all values in education column to check if and what spellings will need to be fixed\n"
   ]
  },
  {
   "cell_type": "code",
   "execution_count": 15,
   "metadata": {
    "scrolled": true
   },
   "outputs": [
    {
     "name": "stdout",
     "output_type": "stream",
     "text": [
      "[\"bachelor's degree\" 'secondary education' 'some college'\n",
      " 'primary education' 'graduate degree']\n"
     ]
    }
   ],
   "source": [
    "credit_scoring['education'] = credit_scoring['education'].str.lower()# Changing all the values to lowercase\n",
    "print(credit_scoring.loc[:,'education'].unique())\n",
    "#regular expression"
   ]
  },
  {
   "cell_type": "code",
   "execution_count": 16,
   "metadata": {},
   "outputs": [
    {
     "data": {
      "text/plain": [
       "71"
      ]
     },
     "execution_count": 16,
     "metadata": {},
     "output_type": "execute_result"
    }
   ],
   "source": [
    "credit_scoring.duplicated().sum()"
   ]
  },
  {
   "cell_type": "code",
   "execution_count": 17,
   "metadata": {},
   "outputs": [
    {
     "data": {
      "text/html": [
       "<div>\n",
       "<style scoped>\n",
       "    .dataframe tbody tr th:only-of-type {\n",
       "        vertical-align: middle;\n",
       "    }\n",
       "\n",
       "    .dataframe tbody tr th {\n",
       "        vertical-align: top;\n",
       "    }\n",
       "\n",
       "    .dataframe thead th {\n",
       "        text-align: right;\n",
       "    }\n",
       "</style>\n",
       "<table border=\"1\" class=\"dataframe\">\n",
       "  <thead>\n",
       "    <tr style=\"text-align: right;\">\n",
       "      <th></th>\n",
       "      <th>children</th>\n",
       "      <th>days_employed</th>\n",
       "      <th>dob_years</th>\n",
       "      <th>education</th>\n",
       "      <th>education_id</th>\n",
       "      <th>family_status</th>\n",
       "      <th>family_status_id</th>\n",
       "      <th>gender</th>\n",
       "      <th>income_type</th>\n",
       "      <th>debt</th>\n",
       "      <th>total_income</th>\n",
       "      <th>purpose</th>\n",
       "    </tr>\n",
       "  </thead>\n",
       "  <tbody>\n",
       "    <tr>\n",
       "      <th>2849</th>\n",
       "      <td>0</td>\n",
       "      <td>66914.728907</td>\n",
       "      <td>41</td>\n",
       "      <td>secondary education</td>\n",
       "      <td>1</td>\n",
       "      <td>married</td>\n",
       "      <td>0</td>\n",
       "      <td>F</td>\n",
       "      <td>employee</td>\n",
       "      <td>0</td>\n",
       "      <td>26787.568355</td>\n",
       "      <td>purchase of the house for my family</td>\n",
       "    </tr>\n",
       "    <tr>\n",
       "      <th>3290</th>\n",
       "      <td>0</td>\n",
       "      <td>66914.728907</td>\n",
       "      <td>58</td>\n",
       "      <td>secondary education</td>\n",
       "      <td>1</td>\n",
       "      <td>civil partnership</td>\n",
       "      <td>1</td>\n",
       "      <td>F</td>\n",
       "      <td>retiree</td>\n",
       "      <td>0</td>\n",
       "      <td>26787.568355</td>\n",
       "      <td>to have a wedding</td>\n",
       "    </tr>\n",
       "    <tr>\n",
       "      <th>4182</th>\n",
       "      <td>1</td>\n",
       "      <td>66914.728907</td>\n",
       "      <td>34</td>\n",
       "      <td>bachelor's degree</td>\n",
       "      <td>0</td>\n",
       "      <td>civil partnership</td>\n",
       "      <td>1</td>\n",
       "      <td>F</td>\n",
       "      <td>employee</td>\n",
       "      <td>0</td>\n",
       "      <td>26787.568355</td>\n",
       "      <td>wedding ceremony</td>\n",
       "    </tr>\n",
       "    <tr>\n",
       "      <th>4851</th>\n",
       "      <td>0</td>\n",
       "      <td>66914.728907</td>\n",
       "      <td>60</td>\n",
       "      <td>secondary education</td>\n",
       "      <td>1</td>\n",
       "      <td>civil partnership</td>\n",
       "      <td>1</td>\n",
       "      <td>F</td>\n",
       "      <td>retiree</td>\n",
       "      <td>0</td>\n",
       "      <td>26787.568355</td>\n",
       "      <td>wedding ceremony</td>\n",
       "    </tr>\n",
       "    <tr>\n",
       "      <th>5557</th>\n",
       "      <td>0</td>\n",
       "      <td>66914.728907</td>\n",
       "      <td>58</td>\n",
       "      <td>secondary education</td>\n",
       "      <td>1</td>\n",
       "      <td>civil partnership</td>\n",
       "      <td>1</td>\n",
       "      <td>F</td>\n",
       "      <td>retiree</td>\n",
       "      <td>0</td>\n",
       "      <td>26787.568355</td>\n",
       "      <td>to have a wedding</td>\n",
       "    </tr>\n",
       "    <tr>\n",
       "      <th>...</th>\n",
       "      <td>...</td>\n",
       "      <td>...</td>\n",
       "      <td>...</td>\n",
       "      <td>...</td>\n",
       "      <td>...</td>\n",
       "      <td>...</td>\n",
       "      <td>...</td>\n",
       "      <td>...</td>\n",
       "      <td>...</td>\n",
       "      <td>...</td>\n",
       "      <td>...</td>\n",
       "      <td>...</td>\n",
       "    </tr>\n",
       "    <tr>\n",
       "      <th>20702</th>\n",
       "      <td>0</td>\n",
       "      <td>66914.728907</td>\n",
       "      <td>64</td>\n",
       "      <td>secondary education</td>\n",
       "      <td>1</td>\n",
       "      <td>married</td>\n",
       "      <td>0</td>\n",
       "      <td>F</td>\n",
       "      <td>retiree</td>\n",
       "      <td>0</td>\n",
       "      <td>26787.568355</td>\n",
       "      <td>supplementary education</td>\n",
       "    </tr>\n",
       "    <tr>\n",
       "      <th>21032</th>\n",
       "      <td>0</td>\n",
       "      <td>66914.728907</td>\n",
       "      <td>60</td>\n",
       "      <td>secondary education</td>\n",
       "      <td>1</td>\n",
       "      <td>married</td>\n",
       "      <td>0</td>\n",
       "      <td>F</td>\n",
       "      <td>retiree</td>\n",
       "      <td>0</td>\n",
       "      <td>26787.568355</td>\n",
       "      <td>to become educated</td>\n",
       "    </tr>\n",
       "    <tr>\n",
       "      <th>21132</th>\n",
       "      <td>0</td>\n",
       "      <td>66914.728907</td>\n",
       "      <td>47</td>\n",
       "      <td>secondary education</td>\n",
       "      <td>1</td>\n",
       "      <td>married</td>\n",
       "      <td>0</td>\n",
       "      <td>F</td>\n",
       "      <td>employee</td>\n",
       "      <td>0</td>\n",
       "      <td>26787.568355</td>\n",
       "      <td>housing renovation</td>\n",
       "    </tr>\n",
       "    <tr>\n",
       "      <th>21281</th>\n",
       "      <td>1</td>\n",
       "      <td>66914.728907</td>\n",
       "      <td>30</td>\n",
       "      <td>bachelor's degree</td>\n",
       "      <td>0</td>\n",
       "      <td>married</td>\n",
       "      <td>0</td>\n",
       "      <td>F</td>\n",
       "      <td>employee</td>\n",
       "      <td>0</td>\n",
       "      <td>26787.568355</td>\n",
       "      <td>buy commercial real estate</td>\n",
       "    </tr>\n",
       "    <tr>\n",
       "      <th>21415</th>\n",
       "      <td>0</td>\n",
       "      <td>66914.728907</td>\n",
       "      <td>54</td>\n",
       "      <td>secondary education</td>\n",
       "      <td>1</td>\n",
       "      <td>married</td>\n",
       "      <td>0</td>\n",
       "      <td>F</td>\n",
       "      <td>retiree</td>\n",
       "      <td>0</td>\n",
       "      <td>26787.568355</td>\n",
       "      <td>housing transactions</td>\n",
       "    </tr>\n",
       "  </tbody>\n",
       "</table>\n",
       "<p>71 rows × 12 columns</p>\n",
       "</div>"
      ],
      "text/plain": [
       "       children  days_employed  dob_years            education  education_id  \\\n",
       "2849          0   66914.728907         41  secondary education             1   \n",
       "3290          0   66914.728907         58  secondary education             1   \n",
       "4182          1   66914.728907         34    bachelor's degree             0   \n",
       "4851          0   66914.728907         60  secondary education             1   \n",
       "5557          0   66914.728907         58  secondary education             1   \n",
       "...         ...            ...        ...                  ...           ...   \n",
       "20702         0   66914.728907         64  secondary education             1   \n",
       "21032         0   66914.728907         60  secondary education             1   \n",
       "21132         0   66914.728907         47  secondary education             1   \n",
       "21281         1   66914.728907         30    bachelor's degree             0   \n",
       "21415         0   66914.728907         54  secondary education             1   \n",
       "\n",
       "           family_status  family_status_id gender income_type  debt  \\\n",
       "2849             married                 0      F    employee     0   \n",
       "3290   civil partnership                 1      F     retiree     0   \n",
       "4182   civil partnership                 1      F    employee     0   \n",
       "4851   civil partnership                 1      F     retiree     0   \n",
       "5557   civil partnership                 1      F     retiree     0   \n",
       "...                  ...               ...    ...         ...   ...   \n",
       "20702            married                 0      F     retiree     0   \n",
       "21032            married                 0      F     retiree     0   \n",
       "21132            married                 0      F    employee     0   \n",
       "21281            married                 0      F    employee     0   \n",
       "21415            married                 0      F     retiree     0   \n",
       "\n",
       "       total_income                              purpose  \n",
       "2849   26787.568355  purchase of the house for my family  \n",
       "3290   26787.568355                    to have a wedding  \n",
       "4182   26787.568355                     wedding ceremony  \n",
       "4851   26787.568355                     wedding ceremony  \n",
       "5557   26787.568355                    to have a wedding  \n",
       "...             ...                                  ...  \n",
       "20702  26787.568355              supplementary education  \n",
       "21032  26787.568355                   to become educated  \n",
       "21132  26787.568355                   housing renovation  \n",
       "21281  26787.568355           buy commercial real estate  \n",
       "21415  26787.568355                 housing transactions  \n",
       "\n",
       "[71 rows x 12 columns]"
      ]
     },
     "execution_count": 17,
     "metadata": {},
     "output_type": "execute_result"
    }
   ],
   "source": [
    "credit_scoring.loc[credit_scoring.duplicated(), :]"
   ]
  },
  {
   "cell_type": "markdown",
   "metadata": {},
   "source": [
    "Comment: We have cleaned up the naming convention in the 'education' column, but there still seems to be 71 duplicates in our dataset. From here, what we can do is use the drop_duplicates function and save it back to the original 'credit_scoring' dataset. \n",
    "    "
   ]
  },
  {
   "cell_type": "code",
   "execution_count": 18,
   "metadata": {
    "scrolled": false
   },
   "outputs": [
    {
     "data": {
      "text/plain": [
       "(21454, 12)"
      ]
     },
     "execution_count": 18,
     "metadata": {},
     "output_type": "execute_result"
    }
   ],
   "source": [
    "credit_scoring= credit_scoring.drop_duplicates()\n",
    "credit_scoring.shape"
   ]
  },
  {
   "cell_type": "code",
   "execution_count": 19,
   "metadata": {
    "scrolled": true
   },
   "outputs": [
    {
     "data": {
      "text/plain": [
       "0"
      ]
     },
     "execution_count": 19,
     "metadata": {},
     "output_type": "execute_result"
    }
   ],
   "source": [
    "credit_scoring.duplicated().sum()"
   ]
  },
  {
   "cell_type": "markdown",
   "metadata": {},
   "source": [
    "Comment: Now our dataset looks cleaner without any duplicates."
   ]
  },
  {
   "cell_type": "code",
   "execution_count": 20,
   "metadata": {},
   "outputs": [
    {
     "data": {
      "text/plain": [
       "0          bachelor's degree\n",
       "1        secondary education\n",
       "2        secondary education\n",
       "3        secondary education\n",
       "4        secondary education\n",
       "                ...         \n",
       "21520    secondary education\n",
       "21521    secondary education\n",
       "21522    secondary education\n",
       "21523    secondary education\n",
       "21524    secondary education\n",
       "Name: education, Length: 21454, dtype: object"
      ]
     },
     "execution_count": 20,
     "metadata": {},
     "output_type": "execute_result"
    }
   ],
   "source": [
    "credit_scoring['education']# Checking all the values in the column to make sure we fixed them"
   ]
  },
  {
   "cell_type": "markdown",
   "metadata": {},
   "source": [
    "Comment: Next we'll check the 'children' column"
   ]
  },
  {
   "cell_type": "code",
   "execution_count": 21,
   "metadata": {},
   "outputs": [
    {
     "data": {
      "text/plain": [
       "array([ 1,  0,  3,  2, -1,  4, 20,  5])"
      ]
     },
     "execution_count": 21,
     "metadata": {},
     "output_type": "execute_result"
    }
   ],
   "source": [
    "credit_scoring['children'].unique()# Checking all unique values in the 'children' column\n"
   ]
  },
  {
   "cell_type": "code",
   "execution_count": 22,
   "metadata": {},
   "outputs": [
    {
     "data": {
      "text/plain": [
       " 0     14091\n",
       " 1      4808\n",
       " 2      2052\n",
       " 3       330\n",
       " 20       76\n",
       "-1        47\n",
       " 4        41\n",
       " 5         9\n",
       "Name: children, dtype: int64"
      ]
     },
     "execution_count": 22,
     "metadata": {},
     "output_type": "execute_result"
    }
   ],
   "source": [
    "credit_scoring['children'].value_counts()"
   ]
  },
  {
   "cell_type": "markdown",
   "metadata": {},
   "source": [
    "Comment: There seems to be 47 instances of applicants with -1 children. Since this is a mistake, we'll convert the -1 to a regular 1."
   ]
  },
  {
   "cell_type": "code",
   "execution_count": 23,
   "metadata": {
    "scrolled": true
   },
   "outputs": [
    {
     "data": {
      "text/plain": [
       "0     14091\n",
       "1      4855\n",
       "2      2052\n",
       "3       330\n",
       "20       76\n",
       "4        41\n",
       "5         9\n",
       "Name: children, dtype: int64"
      ]
     },
     "execution_count": 23,
     "metadata": {},
     "output_type": "execute_result"
    }
   ],
   "source": [
    "credit_scoring['children']= credit_scoring['children'].abs() #converting the negative values to positive\n",
    "credit_scoring['children'].value_counts() #double checking the result"
   ]
  },
  {
   "cell_type": "markdown",
   "metadata": {},
   "source": [
    "Comment: Now the 47 have been combined with the 4808 others who also have 1 child. "
   ]
  },
  {
   "cell_type": "code",
   "execution_count": 24,
   "metadata": {},
   "outputs": [
    {
     "data": {
      "text/plain": [
       "0"
      ]
     },
     "execution_count": 24,
     "metadata": {},
     "output_type": "execute_result"
    }
   ],
   "source": [
    "credit_scoring.duplicated().sum()"
   ]
  },
  {
   "cell_type": "code",
   "execution_count": 25,
   "metadata": {
    "scrolled": true
   },
   "outputs": [
    {
     "data": {
      "text/plain": [
       "children            0\n",
       "days_employed       0\n",
       "dob_years           0\n",
       "education           0\n",
       "education_id        0\n",
       "family_status       0\n",
       "family_status_id    0\n",
       "gender              0\n",
       "income_type         0\n",
       "debt                0\n",
       "total_income        0\n",
       "purpose             0\n",
       "dtype: int64"
      ]
     },
     "execution_count": 25,
     "metadata": {},
     "output_type": "execute_result"
    }
   ],
   "source": [
    "credit_scoring.isnull().sum()\n"
   ]
  },
  {
   "cell_type": "code",
   "execution_count": 26,
   "metadata": {},
   "outputs": [
    {
     "name": "stdout",
     "output_type": "stream",
     "text": [
      "<class 'pandas.core.frame.DataFrame'>\n",
      "Int64Index: 21454 entries, 0 to 21524\n",
      "Data columns (total 12 columns):\n",
      " #   Column            Non-Null Count  Dtype  \n",
      "---  ------            --------------  -----  \n",
      " 0   children          21454 non-null  int64  \n",
      " 1   days_employed     21454 non-null  float64\n",
      " 2   dob_years         21454 non-null  int64  \n",
      " 3   education         21454 non-null  object \n",
      " 4   education_id      21454 non-null  int64  \n",
      " 5   family_status     21454 non-null  object \n",
      " 6   family_status_id  21454 non-null  int64  \n",
      " 7   gender            21454 non-null  object \n",
      " 8   income_type       21454 non-null  object \n",
      " 9   debt              21454 non-null  int64  \n",
      " 10  total_income      21454 non-null  float64\n",
      " 11  purpose           21454 non-null  object \n",
      "dtypes: float64(2), int64(5), object(5)\n",
      "memory usage: 2.1+ MB\n"
     ]
    }
   ],
   "source": [
    "credit_scoring.info()"
   ]
  },
  {
   "cell_type": "code",
   "execution_count": 27,
   "metadata": {},
   "outputs": [
    {
     "data": {
      "text/plain": [
       "0"
      ]
     },
     "execution_count": 27,
     "metadata": {},
     "output_type": "execute_result"
    }
   ],
   "source": [
    "credit_scoring['children'].isna().sum()# Checking the `children` column again to make sure it's all fixed"
   ]
  },
  {
   "cell_type": "markdown",
   "metadata": {},
   "source": [
    "[Check the data in the `days_employed` column. Firstly think about what kind of issues could there be and what you may want to check and how you will do it.]"
   ]
  },
  {
   "cell_type": "code",
   "execution_count": 28,
   "metadata": {},
   "outputs": [
    {
     "data": {
      "text/plain": [
       "0"
      ]
     },
     "execution_count": 28,
     "metadata": {},
     "output_type": "execute_result"
    }
   ],
   "source": [
    "credit_scoring['days_employed'].isnull().sum()# Find problematic data in `days_employed`, if they exist, and calculate the percentage\n"
   ]
  },
  {
   "cell_type": "code",
   "execution_count": 29,
   "metadata": {
    "scrolled": true
   },
   "outputs": [
    {
     "data": {
      "text/plain": [
       "0          8437.673028\n",
       "1          4024.803754\n",
       "2          5623.422610\n",
       "3          4124.747207\n",
       "4        340266.072047\n",
       "             ...      \n",
       "21520      4529.316663\n",
       "21521    343937.404131\n",
       "21522      2113.346888\n",
       "21523      3112.481705\n",
       "21524      1984.507589\n",
       "Name: days_employed, Length: 21454, dtype: float64"
      ]
     },
     "execution_count": 29,
     "metadata": {},
     "output_type": "execute_result"
    }
   ],
   "source": [
    "credit_scoring['days_employed']"
   ]
  },
  {
   "cell_type": "markdown",
   "metadata": {},
   "source": [
    "Comment: Then we'll convert the 'days_employed' values to integers so it looks cleaner. "
   ]
  },
  {
   "cell_type": "code",
   "execution_count": 30,
   "metadata": {},
   "outputs": [
    {
     "data": {
      "text/plain": [
       "0          8437\n",
       "1          4024\n",
       "2          5623\n",
       "3          4124\n",
       "4        340266\n",
       "          ...  \n",
       "21520      4529\n",
       "21521    343937\n",
       "21522      2113\n",
       "21523      3112\n",
       "21524      1984\n",
       "Name: days_employed, Length: 21454, dtype: int64"
      ]
     },
     "execution_count": 30,
     "metadata": {},
     "output_type": "execute_result"
    }
   ],
   "source": [
    "credit_scoring['days_employed']= credit_scoring['days_employed'].astype(int)\n",
    "credit_scoring['days_employed']"
   ]
  },
  {
   "cell_type": "markdown",
   "metadata": {},
   "source": [
    "Comment: Now we'll look at the client's age and whether there are any issues there."
   ]
  },
  {
   "cell_type": "code",
   "execution_count": 31,
   "metadata": {
    "scrolled": true
   },
   "outputs": [
    {
     "data": {
      "text/plain": [
       "array([42, 36, 33, 32, 53, 27, 43, 50, 35, 41, 40, 65, 54, 56, 26, 48, 24,\n",
       "       21, 57, 67, 28, 63, 62, 47, 34, 68, 25, 31, 30, 20, 49, 37, 45, 61,\n",
       "       64, 44, 52, 46, 23, 38, 39, 51,  0, 59, 29, 60, 55, 58, 71, 22, 73,\n",
       "       66, 69, 19, 72, 70, 74, 75])"
      ]
     },
     "execution_count": 31,
     "metadata": {},
     "output_type": "execute_result"
    }
   ],
   "source": [
    "credit_scoring['dob_years'].unique()# Checking the `dob_years` for suspicious values"
   ]
  },
  {
   "cell_type": "code",
   "execution_count": 32,
   "metadata": {
    "scrolled": true
   },
   "outputs": [
    {
     "data": {
      "text/plain": [
       "0"
      ]
     },
     "execution_count": 32,
     "metadata": {},
     "output_type": "execute_result"
    }
   ],
   "source": [
    "credit_scoring['dob_years'].isnull().sum()"
   ]
  },
  {
   "cell_type": "code",
   "execution_count": 33,
   "metadata": {
    "scrolled": true
   },
   "outputs": [
    {
     "data": {
      "text/plain": [
       "35    616\n",
       "40    607\n",
       "41    605\n",
       "34    601\n",
       "38    597\n",
       "42    596\n",
       "33    581\n",
       "39    572\n",
       "31    559\n",
       "36    554\n",
       "44    545\n",
       "29    544\n",
       "30    537\n",
       "37    536\n",
       "48    536\n",
       "50    513\n",
       "43    512\n",
       "32    509\n",
       "49    508\n",
       "28    503\n",
       "45    496\n",
       "27    493\n",
       "52    484\n",
       "56    483\n",
       "47    477\n",
       "54    476\n",
       "46    472\n",
       "53    459\n",
       "57    456\n",
       "58    454\n",
       "51    446\n",
       "59    443\n",
       "55    443\n",
       "26    408\n",
       "60    374\n",
       "25    357\n",
       "61    354\n",
       "62    348\n",
       "63    269\n",
       "24    264\n",
       "64    260\n",
       "23    252\n",
       "65    193\n",
       "22    183\n",
       "66    182\n",
       "67    167\n",
       "21    111\n",
       "0     101\n",
       "68     99\n",
       "69     85\n",
       "70     65\n",
       "71     56\n",
       "20     51\n",
       "72     33\n",
       "19     14\n",
       "73      8\n",
       "74      6\n",
       "75      1\n",
       "Name: dob_years, dtype: int64"
      ]
     },
     "execution_count": 33,
     "metadata": {},
     "output_type": "execute_result"
    }
   ],
   "source": [
    "credit_scoring['dob_years'].value_counts()"
   ]
  },
  {
   "cell_type": "markdown",
   "metadata": {},
   "source": [
    "Comment: Here we can see that there are 101 applicants with the age '0'. We'll just drop rows with the age '0'."
   ]
  },
  {
   "cell_type": "code",
   "execution_count": 34,
   "metadata": {},
   "outputs": [
    {
     "data": {
      "text/html": [
       "<div>\n",
       "<style scoped>\n",
       "    .dataframe tbody tr th:only-of-type {\n",
       "        vertical-align: middle;\n",
       "    }\n",
       "\n",
       "    .dataframe tbody tr th {\n",
       "        vertical-align: top;\n",
       "    }\n",
       "\n",
       "    .dataframe thead th {\n",
       "        text-align: right;\n",
       "    }\n",
       "</style>\n",
       "<table border=\"1\" class=\"dataframe\">\n",
       "  <thead>\n",
       "    <tr style=\"text-align: right;\">\n",
       "      <th></th>\n",
       "      <th>children</th>\n",
       "      <th>days_employed</th>\n",
       "      <th>dob_years</th>\n",
       "      <th>education</th>\n",
       "      <th>education_id</th>\n",
       "      <th>family_status</th>\n",
       "      <th>family_status_id</th>\n",
       "      <th>gender</th>\n",
       "      <th>income_type</th>\n",
       "      <th>debt</th>\n",
       "      <th>total_income</th>\n",
       "      <th>purpose</th>\n",
       "    </tr>\n",
       "  </thead>\n",
       "  <tbody>\n",
       "    <tr>\n",
       "      <th>99</th>\n",
       "      <td>0</td>\n",
       "      <td>346541</td>\n",
       "      <td>0</td>\n",
       "      <td>secondary education</td>\n",
       "      <td>1</td>\n",
       "      <td>married</td>\n",
       "      <td>0</td>\n",
       "      <td>F</td>\n",
       "      <td>retiree</td>\n",
       "      <td>0</td>\n",
       "      <td>11406.644000</td>\n",
       "      <td>car</td>\n",
       "    </tr>\n",
       "    <tr>\n",
       "      <th>149</th>\n",
       "      <td>0</td>\n",
       "      <td>2664</td>\n",
       "      <td>0</td>\n",
       "      <td>secondary education</td>\n",
       "      <td>1</td>\n",
       "      <td>divorced</td>\n",
       "      <td>3</td>\n",
       "      <td>F</td>\n",
       "      <td>employee</td>\n",
       "      <td>0</td>\n",
       "      <td>11228.230000</td>\n",
       "      <td>housing transactions</td>\n",
       "    </tr>\n",
       "    <tr>\n",
       "      <th>270</th>\n",
       "      <td>3</td>\n",
       "      <td>1872</td>\n",
       "      <td>0</td>\n",
       "      <td>secondary education</td>\n",
       "      <td>1</td>\n",
       "      <td>married</td>\n",
       "      <td>0</td>\n",
       "      <td>F</td>\n",
       "      <td>employee</td>\n",
       "      <td>0</td>\n",
       "      <td>16346.633000</td>\n",
       "      <td>housing renovation</td>\n",
       "    </tr>\n",
       "    <tr>\n",
       "      <th>578</th>\n",
       "      <td>0</td>\n",
       "      <td>397856</td>\n",
       "      <td>0</td>\n",
       "      <td>secondary education</td>\n",
       "      <td>1</td>\n",
       "      <td>married</td>\n",
       "      <td>0</td>\n",
       "      <td>F</td>\n",
       "      <td>retiree</td>\n",
       "      <td>0</td>\n",
       "      <td>15619.310000</td>\n",
       "      <td>construction of own property</td>\n",
       "    </tr>\n",
       "    <tr>\n",
       "      <th>1040</th>\n",
       "      <td>0</td>\n",
       "      <td>1158</td>\n",
       "      <td>0</td>\n",
       "      <td>bachelor's degree</td>\n",
       "      <td>0</td>\n",
       "      <td>divorced</td>\n",
       "      <td>3</td>\n",
       "      <td>F</td>\n",
       "      <td>business</td>\n",
       "      <td>0</td>\n",
       "      <td>48639.062000</td>\n",
       "      <td>to own a car</td>\n",
       "    </tr>\n",
       "    <tr>\n",
       "      <th>...</th>\n",
       "      <td>...</td>\n",
       "      <td>...</td>\n",
       "      <td>...</td>\n",
       "      <td>...</td>\n",
       "      <td>...</td>\n",
       "      <td>...</td>\n",
       "      <td>...</td>\n",
       "      <td>...</td>\n",
       "      <td>...</td>\n",
       "      <td>...</td>\n",
       "      <td>...</td>\n",
       "      <td>...</td>\n",
       "    </tr>\n",
       "    <tr>\n",
       "      <th>19829</th>\n",
       "      <td>0</td>\n",
       "      <td>66914</td>\n",
       "      <td>0</td>\n",
       "      <td>secondary education</td>\n",
       "      <td>1</td>\n",
       "      <td>married</td>\n",
       "      <td>0</td>\n",
       "      <td>F</td>\n",
       "      <td>employee</td>\n",
       "      <td>0</td>\n",
       "      <td>26787.568355</td>\n",
       "      <td>housing</td>\n",
       "    </tr>\n",
       "    <tr>\n",
       "      <th>20462</th>\n",
       "      <td>0</td>\n",
       "      <td>338734</td>\n",
       "      <td>0</td>\n",
       "      <td>secondary education</td>\n",
       "      <td>1</td>\n",
       "      <td>married</td>\n",
       "      <td>0</td>\n",
       "      <td>F</td>\n",
       "      <td>retiree</td>\n",
       "      <td>0</td>\n",
       "      <td>41471.027000</td>\n",
       "      <td>purchase of my own house</td>\n",
       "    </tr>\n",
       "    <tr>\n",
       "      <th>20577</th>\n",
       "      <td>0</td>\n",
       "      <td>331741</td>\n",
       "      <td>0</td>\n",
       "      <td>secondary education</td>\n",
       "      <td>1</td>\n",
       "      <td>unmarried</td>\n",
       "      <td>4</td>\n",
       "      <td>F</td>\n",
       "      <td>retiree</td>\n",
       "      <td>0</td>\n",
       "      <td>20766.202000</td>\n",
       "      <td>property</td>\n",
       "    </tr>\n",
       "    <tr>\n",
       "      <th>21179</th>\n",
       "      <td>2</td>\n",
       "      <td>108</td>\n",
       "      <td>0</td>\n",
       "      <td>bachelor's degree</td>\n",
       "      <td>0</td>\n",
       "      <td>married</td>\n",
       "      <td>0</td>\n",
       "      <td>M</td>\n",
       "      <td>business</td>\n",
       "      <td>0</td>\n",
       "      <td>38512.321000</td>\n",
       "      <td>building a real estate</td>\n",
       "    </tr>\n",
       "    <tr>\n",
       "      <th>21313</th>\n",
       "      <td>0</td>\n",
       "      <td>1268</td>\n",
       "      <td>0</td>\n",
       "      <td>secondary education</td>\n",
       "      <td>1</td>\n",
       "      <td>unmarried</td>\n",
       "      <td>4</td>\n",
       "      <td>M</td>\n",
       "      <td>employee</td>\n",
       "      <td>0</td>\n",
       "      <td>24387.070000</td>\n",
       "      <td>housing transactions</td>\n",
       "    </tr>\n",
       "  </tbody>\n",
       "</table>\n",
       "<p>101 rows × 12 columns</p>\n",
       "</div>"
      ],
      "text/plain": [
       "       children  days_employed  dob_years            education  education_id  \\\n",
       "99            0         346541          0  secondary education             1   \n",
       "149           0           2664          0  secondary education             1   \n",
       "270           3           1872          0  secondary education             1   \n",
       "578           0         397856          0  secondary education             1   \n",
       "1040          0           1158          0    bachelor's degree             0   \n",
       "...         ...            ...        ...                  ...           ...   \n",
       "19829         0          66914          0  secondary education             1   \n",
       "20462         0         338734          0  secondary education             1   \n",
       "20577         0         331741          0  secondary education             1   \n",
       "21179         2            108          0    bachelor's degree             0   \n",
       "21313         0           1268          0  secondary education             1   \n",
       "\n",
       "      family_status  family_status_id gender income_type  debt  total_income  \\\n",
       "99          married                 0      F     retiree     0  11406.644000   \n",
       "149        divorced                 3      F    employee     0  11228.230000   \n",
       "270         married                 0      F    employee     0  16346.633000   \n",
       "578         married                 0      F     retiree     0  15619.310000   \n",
       "1040       divorced                 3      F    business     0  48639.062000   \n",
       "...             ...               ...    ...         ...   ...           ...   \n",
       "19829       married                 0      F    employee     0  26787.568355   \n",
       "20462       married                 0      F     retiree     0  41471.027000   \n",
       "20577     unmarried                 4      F     retiree     0  20766.202000   \n",
       "21179       married                 0      M    business     0  38512.321000   \n",
       "21313     unmarried                 4      M    employee     0  24387.070000   \n",
       "\n",
       "                            purpose  \n",
       "99                              car  \n",
       "149            housing transactions  \n",
       "270              housing renovation  \n",
       "578    construction of own property  \n",
       "1040                   to own a car  \n",
       "...                             ...  \n",
       "19829                       housing  \n",
       "20462      purchase of my own house  \n",
       "20577                      property  \n",
       "21179        building a real estate  \n",
       "21313          housing transactions  \n",
       "\n",
       "[101 rows x 12 columns]"
      ]
     },
     "execution_count": 34,
     "metadata": {},
     "output_type": "execute_result"
    }
   ],
   "source": [
    "credit_scoring.loc[credit_scoring['dob_years'] == 0, :]"
   ]
  },
  {
   "cell_type": "code",
   "execution_count": 35,
   "metadata": {},
   "outputs": [],
   "source": [
    "credit_scoring.drop(credit_scoring[credit_scoring['dob_years'] == 0].index, inplace= True)#dropping '0' values in the age column\n"
   ]
  },
  {
   "cell_type": "code",
   "execution_count": 36,
   "metadata": {
    "scrolled": true
   },
   "outputs": [
    {
     "data": {
      "text/plain": [
       "35    616\n",
       "40    607\n",
       "41    605\n",
       "34    601\n",
       "38    597\n",
       "42    596\n",
       "33    581\n",
       "39    572\n",
       "31    559\n",
       "36    554\n",
       "44    545\n",
       "29    544\n",
       "30    537\n",
       "48    536\n",
       "37    536\n",
       "50    513\n",
       "43    512\n",
       "32    509\n",
       "49    508\n",
       "28    503\n",
       "45    496\n",
       "27    493\n",
       "52    484\n",
       "56    483\n",
       "47    477\n",
       "54    476\n",
       "46    472\n",
       "53    459\n",
       "57    456\n",
       "58    454\n",
       "51    446\n",
       "55    443\n",
       "59    443\n",
       "26    408\n",
       "60    374\n",
       "25    357\n",
       "61    354\n",
       "62    348\n",
       "63    269\n",
       "24    264\n",
       "64    260\n",
       "23    252\n",
       "65    193\n",
       "22    183\n",
       "66    182\n",
       "67    167\n",
       "21    111\n",
       "68     99\n",
       "69     85\n",
       "70     65\n",
       "71     56\n",
       "20     51\n",
       "72     33\n",
       "19     14\n",
       "73      8\n",
       "74      6\n",
       "75      1\n",
       "Name: dob_years, dtype: int64"
      ]
     },
     "execution_count": 36,
     "metadata": {},
     "output_type": "execute_result"
    }
   ],
   "source": [
    "credit_scoring['dob_years'].value_counts() #checking to see if the '0' values have been removed"
   ]
  },
  {
   "cell_type": "markdown",
   "metadata": {},
   "source": [
    "Comment: Now all the rows where the age of the applicant is 0 has been removed from the dataset.\n"
   ]
  },
  {
   "cell_type": "markdown",
   "metadata": {},
   "source": [
    "Comment: Now we'll check the `family_status` column."
   ]
  },
  {
   "cell_type": "code",
   "execution_count": 37,
   "metadata": {},
   "outputs": [
    {
     "data": {
      "text/plain": [
       "array(['married', 'civil partnership', 'widow / widower', 'divorced',\n",
       "       'unmarried'], dtype=object)"
      ]
     },
     "execution_count": 37,
     "metadata": {},
     "output_type": "execute_result"
    }
   ],
   "source": [
    "credit_scoring['family_status'].unique()# Let's see the values for the column"
   ]
  },
  {
   "cell_type": "code",
   "execution_count": 38,
   "metadata": {},
   "outputs": [
    {
     "data": {
      "text/plain": [
       "0"
      ]
     },
     "execution_count": 38,
     "metadata": {},
     "output_type": "execute_result"
    }
   ],
   "source": [
    "credit_scoring['family_status'].isnull().sum()# Checking if there are missing values"
   ]
  },
  {
   "cell_type": "code",
   "execution_count": 39,
   "metadata": {
    "scrolled": true
   },
   "outputs": [
    {
     "data": {
      "text/plain": [
       "married              12290\n",
       "civil partnership     4130\n",
       "unmarried             2794\n",
       "divorced              1185\n",
       "widow / widower        954\n",
       "Name: family_status, dtype: int64"
      ]
     },
     "execution_count": 39,
     "metadata": {},
     "output_type": "execute_result"
    }
   ],
   "source": [
    "credit_scoring['family_status'].value_counts()\n"
   ]
  },
  {
   "cell_type": "markdown",
   "metadata": {},
   "source": [
    "Comment: There doesn't seem to be any obvious issues in the 'family_status' column. Now we'll check the `gender` column to see what kind of values there are and what problems we may need to address."
   ]
  },
  {
   "cell_type": "code",
   "execution_count": 40,
   "metadata": {},
   "outputs": [
    {
     "data": {
      "text/plain": [
       "0        F\n",
       "1        F\n",
       "2        M\n",
       "3        M\n",
       "4        F\n",
       "        ..\n",
       "21520    F\n",
       "21521    F\n",
       "21522    M\n",
       "21523    M\n",
       "21524    F\n",
       "Name: gender, Length: 21353, dtype: object"
      ]
     },
     "execution_count": 40,
     "metadata": {},
     "output_type": "execute_result"
    }
   ],
   "source": [
    "credit_scoring['gender']# Let's see the values in the column"
   ]
  },
  {
   "cell_type": "code",
   "execution_count": 41,
   "metadata": {},
   "outputs": [
    {
     "data": {
      "text/plain": [
       "0"
      ]
     },
     "execution_count": 41,
     "metadata": {},
     "output_type": "execute_result"
    }
   ],
   "source": [
    "credit_scoring['gender'].isnull().sum() # Checking to see if there are any missing values in the 'gender' column"
   ]
  },
  {
   "cell_type": "code",
   "execution_count": 42,
   "metadata": {},
   "outputs": [
    {
     "data": {
      "text/plain": [
       "array(['F', 'M', 'XNA'], dtype=object)"
      ]
     },
     "execution_count": 42,
     "metadata": {},
     "output_type": "execute_result"
    }
   ],
   "source": [
    "credit_scoring['gender'].unique() # Checking for unique values in 'gender' column"
   ]
  },
  {
   "cell_type": "markdown",
   "metadata": {},
   "source": [
    "Comment: Now we'll check the `income_type` column. See what kind of values there are and what problems we may need to address."
   ]
  },
  {
   "cell_type": "code",
   "execution_count": 43,
   "metadata": {},
   "outputs": [
    {
     "data": {
      "text/plain": [
       "array(['employee', 'retiree', 'business', 'civil servant', 'unemployed',\n",
       "       'entrepreneur', 'student', 'paternity / maternity leave'],\n",
       "      dtype=object)"
      ]
     },
     "execution_count": 43,
     "metadata": {},
     "output_type": "execute_result"
    }
   ],
   "source": [
    "credit_scoring['income_type'].unique()# Let's see the values in the column"
   ]
  },
  {
   "cell_type": "code",
   "execution_count": 44,
   "metadata": {
    "scrolled": true
   },
   "outputs": [
    {
     "data": {
      "text/plain": [
       "0"
      ]
     },
     "execution_count": 44,
     "metadata": {},
     "output_type": "execute_result"
    }
   ],
   "source": [
    "credit_scoring['income_type'].isnull().sum() #Checking to see if there are missing values"
   ]
  },
  {
   "cell_type": "markdown",
   "metadata": {},
   "source": [
    "Comment: There doesn't seem to be any issues in the 'income_type' column. Now let's see if we have any duplicates in our data."
   ]
  },
  {
   "cell_type": "code",
   "execution_count": 45,
   "metadata": {
    "scrolled": true
   },
   "outputs": [
    {
     "name": "stdout",
     "output_type": "stream",
     "text": [
      "children            0\n",
      "days_employed       0\n",
      "dob_years           0\n",
      "education           0\n",
      "education_id        0\n",
      "family_status       0\n",
      "family_status_id    0\n",
      "gender              0\n",
      "income_type         0\n",
      "debt                0\n",
      "total_income        0\n",
      "purpose             0\n",
      "dtype: int64\n"
     ]
    }
   ],
   "source": [
    "duplicated_rows = credit_scoring[credit_scoring.duplicated()]# Checking duplicates\n",
    "print(duplicated_rows.count())"
   ]
  },
  {
   "cell_type": "markdown",
   "metadata": {},
   "source": [
    "# Working with missing values"
   ]
  },
  {
   "cell_type": "markdown",
   "metadata": {},
   "source": [
    "### Restoring missing values in `total_income`"
   ]
  },
  {
   "cell_type": "markdown",
   "metadata": {},
   "source": [
    "Comment: Next we want to try and categorize the values in the 'dob_years' column to make it look cleaner. For people that are over 65 years old, we'll label them as 'Retired'. For people between 17 and 65 years old we'll label them as 'Adult'. For people under 18, we'll label them as 'Minor'."
   ]
  },
  {
   "cell_type": "code",
   "execution_count": 46,
   "metadata": {},
   "outputs": [],
   "source": [
    "def age(dob_years):# Let's write a function that calculates the age category\n",
    "    if dob_years > 65:\n",
    "        return 'Retired'\n",
    "    elif dob_years > 17 and dob_years <= 65:\n",
    "        return 'Adult'\n",
    "    else:\n",
    "        return 'Minor'"
   ]
  },
  {
   "cell_type": "code",
   "execution_count": 47,
   "metadata": {},
   "outputs": [
    {
     "name": "stdout",
     "output_type": "stream",
     "text": [
      "Adult\n"
     ]
    }
   ],
   "source": [
    "print(age(37))# Testing if the function works"
   ]
  },
  {
   "cell_type": "code",
   "execution_count": 48,
   "metadata": {},
   "outputs": [
    {
     "name": "stdout",
     "output_type": "stream",
     "text": [
      "   children  days_employed  dob_years            education  education_id  \\\n",
      "0         1           8437         42    bachelor's degree             0   \n",
      "1         1           4024         36  secondary education             1   \n",
      "2         0           5623         33  secondary education             1   \n",
      "3         3           4124         32  secondary education             1   \n",
      "4         0         340266         53  secondary education             1   \n",
      "5         0            926         27    bachelor's degree             0   \n",
      "6         0           2879         43    bachelor's degree             0   \n",
      "7         0            152         50  secondary education             1   \n",
      "8         2           6929         35    bachelor's degree             0   \n",
      "9         0           2188         41  secondary education             1   \n",
      "\n",
      "       family_status  family_status_id gender income_type  debt  total_income  \\\n",
      "0            married                 0      F    employee     0     40620.102   \n",
      "1            married                 0      F    employee     0     17932.802   \n",
      "2            married                 0      M    employee     0     23341.752   \n",
      "3            married                 0      M    employee     0     42820.568   \n",
      "4  civil partnership                 1      F     retiree     0     25378.572   \n",
      "5  civil partnership                 1      M    business     0     40922.170   \n",
      "6            married                 0      F    business     0     38484.156   \n",
      "7            married                 0      M    employee     0     21731.829   \n",
      "8  civil partnership                 1      F    employee     0     15337.093   \n",
      "9            married                 0      M    employee     0     23108.150   \n",
      "\n",
      "                               purpose age_category  \n",
      "0                purchase of the house        Adult  \n",
      "1                         car purchase        Adult  \n",
      "2                purchase of the house        Adult  \n",
      "3              supplementary education        Adult  \n",
      "4                    to have a wedding        Adult  \n",
      "5                purchase of the house        Adult  \n",
      "6                 housing transactions        Adult  \n",
      "7                            education        Adult  \n",
      "8                     having a wedding        Adult  \n",
      "9  purchase of the house for my family        Adult  \n"
     ]
    }
   ],
   "source": [
    "credit_scoring['age_category'] = credit_scoring['dob_years'].apply(age) # Applying the 'age_category' column to the dataset\n",
    "print(credit_scoring.head(10))"
   ]
  },
  {
   "cell_type": "code",
   "execution_count": 49,
   "metadata": {},
   "outputs": [
    {
     "data": {
      "text/plain": [
       "0          Adult\n",
       "1          Adult\n",
       "2          Adult\n",
       "3          Adult\n",
       "4          Adult\n",
       "          ...   \n",
       "21520      Adult\n",
       "21521    Retired\n",
       "21522      Adult\n",
       "21523      Adult\n",
       "21524      Adult\n",
       "Name: age_category, Length: 21353, dtype: object"
      ]
     },
     "execution_count": 49,
     "metadata": {},
     "output_type": "execute_result"
    }
   ],
   "source": [
    "credit_scoring['age_category']# Checking values in the new column"
   ]
  },
  {
   "cell_type": "code",
   "execution_count": 50,
   "metadata": {
    "scrolled": true
   },
   "outputs": [
    {
     "data": {
      "text/html": [
       "<div>\n",
       "<style scoped>\n",
       "    .dataframe tbody tr th:only-of-type {\n",
       "        vertical-align: middle;\n",
       "    }\n",
       "\n",
       "    .dataframe tbody tr th {\n",
       "        vertical-align: top;\n",
       "    }\n",
       "\n",
       "    .dataframe thead th {\n",
       "        text-align: right;\n",
       "    }\n",
       "</style>\n",
       "<table border=\"1\" class=\"dataframe\">\n",
       "  <thead>\n",
       "    <tr style=\"text-align: right;\">\n",
       "      <th></th>\n",
       "      <th>children</th>\n",
       "      <th>days_employed</th>\n",
       "      <th>dob_years</th>\n",
       "      <th>education</th>\n",
       "      <th>education_id</th>\n",
       "      <th>family_status</th>\n",
       "      <th>family_status_id</th>\n",
       "      <th>gender</th>\n",
       "      <th>income_type</th>\n",
       "      <th>debt</th>\n",
       "      <th>total_income</th>\n",
       "      <th>purpose</th>\n",
       "      <th>age_category</th>\n",
       "    </tr>\n",
       "  </thead>\n",
       "  <tbody>\n",
       "    <tr>\n",
       "      <th>0</th>\n",
       "      <td>1</td>\n",
       "      <td>8437</td>\n",
       "      <td>42</td>\n",
       "      <td>bachelor's degree</td>\n",
       "      <td>0</td>\n",
       "      <td>married</td>\n",
       "      <td>0</td>\n",
       "      <td>F</td>\n",
       "      <td>employee</td>\n",
       "      <td>0</td>\n",
       "      <td>40620.102</td>\n",
       "      <td>purchase of the house</td>\n",
       "      <td>Adult</td>\n",
       "    </tr>\n",
       "    <tr>\n",
       "      <th>1</th>\n",
       "      <td>1</td>\n",
       "      <td>4024</td>\n",
       "      <td>36</td>\n",
       "      <td>secondary education</td>\n",
       "      <td>1</td>\n",
       "      <td>married</td>\n",
       "      <td>0</td>\n",
       "      <td>F</td>\n",
       "      <td>employee</td>\n",
       "      <td>0</td>\n",
       "      <td>17932.802</td>\n",
       "      <td>car purchase</td>\n",
       "      <td>Adult</td>\n",
       "    </tr>\n",
       "    <tr>\n",
       "      <th>2</th>\n",
       "      <td>0</td>\n",
       "      <td>5623</td>\n",
       "      <td>33</td>\n",
       "      <td>secondary education</td>\n",
       "      <td>1</td>\n",
       "      <td>married</td>\n",
       "      <td>0</td>\n",
       "      <td>M</td>\n",
       "      <td>employee</td>\n",
       "      <td>0</td>\n",
       "      <td>23341.752</td>\n",
       "      <td>purchase of the house</td>\n",
       "      <td>Adult</td>\n",
       "    </tr>\n",
       "    <tr>\n",
       "      <th>3</th>\n",
       "      <td>3</td>\n",
       "      <td>4124</td>\n",
       "      <td>32</td>\n",
       "      <td>secondary education</td>\n",
       "      <td>1</td>\n",
       "      <td>married</td>\n",
       "      <td>0</td>\n",
       "      <td>M</td>\n",
       "      <td>employee</td>\n",
       "      <td>0</td>\n",
       "      <td>42820.568</td>\n",
       "      <td>supplementary education</td>\n",
       "      <td>Adult</td>\n",
       "    </tr>\n",
       "    <tr>\n",
       "      <th>4</th>\n",
       "      <td>0</td>\n",
       "      <td>340266</td>\n",
       "      <td>53</td>\n",
       "      <td>secondary education</td>\n",
       "      <td>1</td>\n",
       "      <td>civil partnership</td>\n",
       "      <td>1</td>\n",
       "      <td>F</td>\n",
       "      <td>retiree</td>\n",
       "      <td>0</td>\n",
       "      <td>25378.572</td>\n",
       "      <td>to have a wedding</td>\n",
       "      <td>Adult</td>\n",
       "    </tr>\n",
       "  </tbody>\n",
       "</table>\n",
       "</div>"
      ],
      "text/plain": [
       "   children  days_employed  dob_years            education  education_id  \\\n",
       "0         1           8437         42    bachelor's degree             0   \n",
       "1         1           4024         36  secondary education             1   \n",
       "2         0           5623         33  secondary education             1   \n",
       "3         3           4124         32  secondary education             1   \n",
       "4         0         340266         53  secondary education             1   \n",
       "\n",
       "       family_status  family_status_id gender income_type  debt  total_income  \\\n",
       "0            married                 0      F    employee     0     40620.102   \n",
       "1            married                 0      F    employee     0     17932.802   \n",
       "2            married                 0      M    employee     0     23341.752   \n",
       "3            married                 0      M    employee     0     42820.568   \n",
       "4  civil partnership                 1      F     retiree     0     25378.572   \n",
       "\n",
       "                   purpose age_category  \n",
       "0    purchase of the house        Adult  \n",
       "1             car purchase        Adult  \n",
       "2    purchase of the house        Adult  \n",
       "3  supplementary education        Adult  \n",
       "4        to have a wedding        Adult  "
      ]
     },
     "execution_count": 50,
     "metadata": {},
     "output_type": "execute_result"
    }
   ],
   "source": [
    "credit_scoring_nonull = credit_scoring.dropna()# Creating a table without missing values and print a few of its rows to make sure it looks fine\n",
    "\n",
    "credit_scoring_nonull.head(5)\n"
   ]
  },
  {
   "cell_type": "code",
   "execution_count": 51,
   "metadata": {
    "scrolled": true
   },
   "outputs": [
    {
     "data": {
      "text/plain": [
       "26793.762710827545"
      ]
     },
     "execution_count": 51,
     "metadata": {},
     "output_type": "execute_result"
    }
   ],
   "source": [
    "credit_scoring_nonull['total_income'].mean()# the mean of the 'total_income' values"
   ]
  },
  {
   "cell_type": "code",
   "execution_count": 52,
   "metadata": {},
   "outputs": [
    {
     "data": {
      "text/plain": [
       "24964.052000000003"
      ]
     },
     "execution_count": 52,
     "metadata": {},
     "output_type": "execute_result"
    }
   ],
   "source": [
    "credit_scoring['total_income'].median() # The median of the 'total_income' values"
   ]
  },
  {
   "cell_type": "code",
   "execution_count": 53,
   "metadata": {},
   "outputs": [
    {
     "data": {
      "text/plain": [
       "362496.645"
      ]
     },
     "execution_count": 53,
     "metadata": {},
     "output_type": "execute_result"
    }
   ],
   "source": [
    "credit_scoring['total_income'].max() # The maximum value in the 'total_income' column"
   ]
  },
  {
   "cell_type": "code",
   "execution_count": 54,
   "metadata": {},
   "outputs": [
    {
     "data": {
      "text/plain": [
       "3306.762"
      ]
     },
     "execution_count": 54,
     "metadata": {},
     "output_type": "execute_result"
    }
   ],
   "source": [
    "credit_scoring['total_income'].min() # The minimum value in the 'total_income' column"
   ]
  },
  {
   "cell_type": "markdown",
   "metadata": {},
   "source": [
    "Comment: There doesn't seem to be much of a difference between the table's Mean and Median with or without NaN values. "
   ]
  },
  {
   "cell_type": "code",
   "execution_count": 55,
   "metadata": {},
   "outputs": [
    {
     "data": {
      "text/plain": [
       "0        40620\n",
       "1        17932\n",
       "2        23341\n",
       "3        42820\n",
       "4        25378\n",
       "         ...  \n",
       "21520    35966\n",
       "21521    24959\n",
       "21522    14347\n",
       "21523    39054\n",
       "21524    13127\n",
       "Name: total_income, Length: 21353, dtype: int64"
      ]
     },
     "execution_count": 55,
     "metadata": {},
     "output_type": "execute_result"
    }
   ],
   "source": [
    "credit_scoring['total_income']= credit_scoring['total_income'].astype(int) #Changing the data type from float to integer\n",
    "credit_scoring['total_income']"
   ]
  },
  {
   "cell_type": "code",
   "execution_count": 56,
   "metadata": {},
   "outputs": [
    {
     "data": {
      "text/plain": [
       "0"
      ]
     },
     "execution_count": 56,
     "metadata": {},
     "output_type": "execute_result"
    }
   ],
   "source": [
    "credit_scoring['total_income'].isnull().sum() #checking for missing values"
   ]
  },
  {
   "cell_type": "code",
   "execution_count": 57,
   "metadata": {},
   "outputs": [
    {
     "data": {
      "text/plain": [
       "0"
      ]
     },
     "execution_count": 57,
     "metadata": {},
     "output_type": "execute_result"
    }
   ],
   "source": [
    "income_median = credit_scoring['total_income'].median()\n",
    "\n",
    "credit_scoring['total_income'] = credit_scoring['total_income'].fillna(income_median)\n",
    "\n",
    "credit_scoring['total_income'].isnull().sum()"
   ]
  },
  {
   "cell_type": "markdown",
   "metadata": {},
   "source": [
    "###  Restoring values in `days_employed`"
   ]
  },
  {
   "cell_type": "code",
   "execution_count": 58,
   "metadata": {
    "pycharm": {
     "name": "#%%\n"
    }
   },
   "outputs": [
    {
     "name": "stdout",
     "output_type": "stream",
     "text": [
      "2595.0\n",
      "\n"
     ]
    }
   ],
   "source": [
    "days_employed_median = credit_scoring['days_employed'].median()# Checking the median in the 'days_employed' column\n",
    "print(days_employed_median)\n",
    "print()\n"
   ]
  },
  {
   "cell_type": "markdown",
   "metadata": {},
   "source": [
    "Comment: Check that the total number of values in this column matches the number of values in other ones."
   ]
  },
  {
   "cell_type": "code",
   "execution_count": 59,
   "metadata": {},
   "outputs": [
    {
     "data": {
      "text/plain": [
       "(21353,)"
      ]
     },
     "execution_count": 59,
     "metadata": {},
     "output_type": "execute_result"
    }
   ],
   "source": [
    "credit_scoring['total_income'].shape# Checking the entries in all columns to make sure we fixed all missing values"
   ]
  },
  {
   "cell_type": "code",
   "execution_count": 60,
   "metadata": {},
   "outputs": [
    {
     "data": {
      "text/plain": [
       "(21353,)"
      ]
     },
     "execution_count": 60,
     "metadata": {},
     "output_type": "execute_result"
    }
   ],
   "source": [
    "credit_scoring['days_employed'].shape"
   ]
  },
  {
   "cell_type": "code",
   "execution_count": 61,
   "metadata": {
    "scrolled": true
   },
   "outputs": [
    {
     "data": {
      "text/plain": [
       "(21353,)"
      ]
     },
     "execution_count": 61,
     "metadata": {},
     "output_type": "execute_result"
    }
   ],
   "source": [
    "credit_scoring['dob_years'].shape"
   ]
  },
  {
   "cell_type": "markdown",
   "metadata": {},
   "source": [
    "Comment: Confirmed. They all have the same number of rows now."
   ]
  },
  {
   "cell_type": "markdown",
   "metadata": {},
   "source": [
    "## Categorization of data"
   ]
  },
  {
   "cell_type": "code",
   "execution_count": 62,
   "metadata": {
    "scrolled": true
   },
   "outputs": [
    {
     "name": "stdout",
     "output_type": "stream",
     "text": [
      "<class 'pandas.core.frame.DataFrame'>\n",
      "Int64Index: 21353 entries, 0 to 21524\n",
      "Data columns (total 13 columns):\n",
      " #   Column            Non-Null Count  Dtype \n",
      "---  ------            --------------  ----- \n",
      " 0   children          21353 non-null  int64 \n",
      " 1   days_employed     21353 non-null  int64 \n",
      " 2   dob_years         21353 non-null  int64 \n",
      " 3   education         21353 non-null  object\n",
      " 4   education_id      21353 non-null  int64 \n",
      " 5   family_status     21353 non-null  object\n",
      " 6   family_status_id  21353 non-null  int64 \n",
      " 7   gender            21353 non-null  object\n",
      " 8   income_type       21353 non-null  object\n",
      " 9   debt              21353 non-null  int64 \n",
      " 10  total_income      21353 non-null  int64 \n",
      " 11  purpose           21353 non-null  object\n",
      " 12  age_category      21353 non-null  object\n",
      "dtypes: int64(7), object(6)\n",
      "memory usage: 2.3+ MB\n"
     ]
    }
   ],
   "source": [
    "credit_scoring.info()#Overview of column names and values"
   ]
  },
  {
   "cell_type": "markdown",
   "metadata": {},
   "source": [
    "Comment: Let's check for unique values"
   ]
  },
  {
   "cell_type": "code",
   "execution_count": 63,
   "metadata": {
    "scrolled": true
   },
   "outputs": [
    {
     "data": {
      "text/plain": [
       "array([\"bachelor's degree\", 'secondary education', 'some college',\n",
       "       'primary education', 'graduate degree'], dtype=object)"
      ]
     },
     "execution_count": 63,
     "metadata": {},
     "output_type": "execute_result"
    }
   ],
   "source": [
    "credit_scoring['education'].unique()# Checking unique values"
   ]
  },
  {
   "cell_type": "code",
   "execution_count": 64,
   "metadata": {
    "scrolled": true
   },
   "outputs": [
    {
     "data": {
      "text/plain": [
       "array(['married', 'civil partnership', 'widow / widower', 'divorced',\n",
       "       'unmarried'], dtype=object)"
      ]
     },
     "execution_count": 64,
     "metadata": {},
     "output_type": "execute_result"
    }
   ],
   "source": [
    "credit_scoring['family_status'].unique() # Checking unique values"
   ]
  },
  {
   "cell_type": "code",
   "execution_count": 65,
   "metadata": {},
   "outputs": [
    {
     "data": {
      "text/plain": [
       "array(['F', 'M', 'XNA'], dtype=object)"
      ]
     },
     "execution_count": 65,
     "metadata": {},
     "output_type": "execute_result"
    }
   ],
   "source": [
    "credit_scoring['gender'].unique() # Checking unique values"
   ]
  },
  {
   "cell_type": "code",
   "execution_count": 66,
   "metadata": {
    "scrolled": true
   },
   "outputs": [
    {
     "data": {
      "text/plain": [
       "array(['employee', 'retiree', 'business', 'civil servant', 'unemployed',\n",
       "       'entrepreneur', 'student', 'paternity / maternity leave'],\n",
       "      dtype=object)"
      ]
     },
     "execution_count": 66,
     "metadata": {},
     "output_type": "execute_result"
    }
   ],
   "source": [
    "credit_scoring['income_type'].unique() # Checking unique values"
   ]
  },
  {
   "cell_type": "code",
   "execution_count": 67,
   "metadata": {},
   "outputs": [
    {
     "data": {
      "text/plain": [
       "array(['purchase of the house', 'car purchase', 'supplementary education',\n",
       "       'to have a wedding', 'housing transactions', 'education',\n",
       "       'having a wedding', 'purchase of the house for my family',\n",
       "       'buy real estate', 'buy commercial real estate',\n",
       "       'buy residential real estate', 'construction of own property',\n",
       "       'property', 'building a property', 'buying a second-hand car',\n",
       "       'buying my own car', 'transactions with commercial real estate',\n",
       "       'building a real estate', 'housing',\n",
       "       'transactions with my real estate', 'cars', 'to become educated',\n",
       "       'second-hand car purchase', 'getting an education', 'car',\n",
       "       'wedding ceremony', 'to get a supplementary education',\n",
       "       'purchase of my own house', 'real estate transactions',\n",
       "       'getting higher education', 'to own a car', 'purchase of a car',\n",
       "       'profile education', 'university education',\n",
       "       'buying property for renting out', 'to buy a car',\n",
       "       'housing renovation', 'going to university'], dtype=object)"
      ]
     },
     "execution_count": 67,
     "metadata": {},
     "output_type": "execute_result"
    }
   ],
   "source": [
    "credit_scoring['purpose'].unique() # Checking unique values"
   ]
  },
  {
   "cell_type": "markdown",
   "metadata": {},
   "source": [
    "Comment: Based on the unique values in the 'purpose' column, it looks like the main categories are: Realestate, Car Purchase, Education, and Wedding. Based on these themes, we will probably want to categorize our data."
   ]
  },
  {
   "cell_type": "code",
   "execution_count": 68,
   "metadata": {},
   "outputs": [
    {
     "name": "stdout",
     "output_type": "stream",
     "text": [
      "wedding\n"
     ]
    }
   ],
   "source": [
    "def loan_purpose(purpose):# Let's write a function to categorize the data based on those 4 categories\n",
    "    for row in credit_scoring:\n",
    "        if 'house' in purpose:\n",
    "            return 'Realestate'\n",
    "        elif 'estate' in purpose:\n",
    "            return 'Realestate'\n",
    "        elif 'housing' in purpose:\n",
    "            return 'Realestate'\n",
    "        elif 'property' in purpose:\n",
    "            return 'Realestate'\n",
    "        elif 'car' in purpose:\n",
    "            return 'Car Purchase'\n",
    "        elif 'education' in purpose:\n",
    "            return 'Education'\n",
    "        else: \n",
    "            return 'wedding'\n",
    "\n",
    "print(loan_purpose(credit_scoring['purpose'])) #checking to see if the funtion and loop works"
   ]
  },
  {
   "cell_type": "code",
   "execution_count": 69,
   "metadata": {},
   "outputs": [],
   "source": [
    "credit_scoring['purpose']= credit_scoring['purpose'].apply(loan_purpose)# Creating a column with the values ran through the function\n"
   ]
  },
  {
   "cell_type": "markdown",
   "metadata": {},
   "source": [
    "Comment: Next we'll work on the 'debt' column"
   ]
  },
  {
   "cell_type": "code",
   "execution_count": 70,
   "metadata": {},
   "outputs": [
    {
     "data": {
      "text/plain": [
       "0    19620\n",
       "1     1733\n",
       "Name: debt, dtype: int64"
      ]
     },
     "execution_count": 70,
     "metadata": {},
     "output_type": "execute_result"
    }
   ],
   "source": [
    "credit_scoring['debt'].value_counts()#checking on the debt versus default values\n"
   ]
  },
  {
   "cell_type": "code",
   "execution_count": 71,
   "metadata": {},
   "outputs": [
    {
     "data": {
      "text/plain": [
       "\"\\ndef debt_rename(value):#Renaming the values in the 'debt' column\\n        if value == 1:\\n            return('Defaulted')\\n        else:\\n            return('Paid')\\n    \\n\""
      ]
     },
     "execution_count": 71,
     "metadata": {},
     "output_type": "execute_result"
    }
   ],
   "source": [
    "'''\n",
    "def debt_rename(value):#Renaming the values in the 'debt' column\n",
    "        if value == 1:\n",
    "            return('Defaulted')\n",
    "        else:\n",
    "            return('Paid')\n",
    "    \n",
    "'''"
   ]
  },
  {
   "cell_type": "markdown",
   "metadata": {},
   "source": [
    "Comment: In the 'debt' column, we are trying to clearly show who 'Paid', and who 'Defaulted'."
   ]
  },
  {
   "cell_type": "markdown",
   "metadata": {},
   "source": [
    "** I undid this function so that I could easliy turn it into a pivot table later on."
   ]
  },
  {
   "cell_type": "code",
   "execution_count": 72,
   "metadata": {
    "scrolled": true
   },
   "outputs": [
    {
     "data": {
      "text/plain": [
       "0    19620\n",
       "1     1733\n",
       "Name: debt, dtype: int64"
      ]
     },
     "execution_count": 72,
     "metadata": {},
     "output_type": "execute_result"
    }
   ],
   "source": [
    "#credit_scoring['debt']= credit_scoring['debt'].apply(debt_rename) #applying the name change to the function\n",
    "credit_scoring['debt'].value_counts() #checking to see if it worked"
   ]
  },
  {
   "cell_type": "markdown",
   "metadata": {},
   "source": [
    "Comment: Here we can clearly see 19,620 people paid their debts, while 1,733 people defaulted."
   ]
  },
  {
   "cell_type": "markdown",
   "metadata": {},
   "source": [
    "## Checking the Hypotheses\n"
   ]
  },
  {
   "cell_type": "markdown",
   "metadata": {},
   "source": [
    "**Is there a correlation between having children and paying back on time?**"
   ]
  },
  {
   "cell_type": "code",
   "execution_count": 73,
   "metadata": {},
   "outputs": [
    {
     "data": {
      "text/html": [
       "<div>\n",
       "<style scoped>\n",
       "    .dataframe tbody tr th:only-of-type {\n",
       "        vertical-align: middle;\n",
       "    }\n",
       "\n",
       "    .dataframe tbody tr th {\n",
       "        vertical-align: top;\n",
       "    }\n",
       "\n",
       "    .dataframe thead th {\n",
       "        text-align: right;\n",
       "    }\n",
       "</style>\n",
       "<table border=\"1\" class=\"dataframe\">\n",
       "  <thead>\n",
       "    <tr style=\"text-align: right;\">\n",
       "      <th></th>\n",
       "      <th>debt</th>\n",
       "    </tr>\n",
       "    <tr>\n",
       "      <th>children</th>\n",
       "      <th></th>\n",
       "    </tr>\n",
       "  </thead>\n",
       "  <tbody>\n",
       "    <tr>\n",
       "      <th>5</th>\n",
       "      <td>0.000000</td>\n",
       "    </tr>\n",
       "    <tr>\n",
       "      <th>0</th>\n",
       "      <td>0.075453</td>\n",
       "    </tr>\n",
       "    <tr>\n",
       "      <th>3</th>\n",
       "      <td>0.082317</td>\n",
       "    </tr>\n",
       "    <tr>\n",
       "      <th>1</th>\n",
       "      <td>0.091341</td>\n",
       "    </tr>\n",
       "    <tr>\n",
       "      <th>2</th>\n",
       "      <td>0.095145</td>\n",
       "    </tr>\n",
       "    <tr>\n",
       "      <th>4</th>\n",
       "      <td>0.097561</td>\n",
       "    </tr>\n",
       "    <tr>\n",
       "      <th>20</th>\n",
       "      <td>0.106667</td>\n",
       "    </tr>\n",
       "  </tbody>\n",
       "</table>\n",
       "</div>"
      ],
      "text/plain": [
       "              debt\n",
       "children          \n",
       "5         0.000000\n",
       "0         0.075453\n",
       "3         0.082317\n",
       "1         0.091341\n",
       "2         0.095145\n",
       "4         0.097561\n",
       "20        0.106667"
      ]
     },
     "execution_count": 73,
     "metadata": {},
     "output_type": "execute_result"
    }
   ],
   "source": [
    "children_debt = credit_scoring.pivot_table(index= ['children'], values= ['debt'], aggfunc= 'mean').sort_values(('debt'), ascending=True)\n",
    "# Check the children data and paying back on time\n",
    "\n",
    "children_debt# Calculating default-rate based on the number of children"
   ]
  },
  {
   "cell_type": "markdown",
   "metadata": {},
   "source": [
    "**Conclusion**\n",
    "\n",
    "Here we can see that generally having between 0 to 5 children doesn't seem to have a correlation to whether they'll pay their loan on time. But based on this data if a person has 20 children, then they are most likely to default on their loan."
   ]
  },
  {
   "cell_type": "markdown",
   "metadata": {},
   "source": [
    "**Is there a correlation between family status and paying back on time?**"
   ]
  },
  {
   "cell_type": "code",
   "execution_count": 74,
   "metadata": {},
   "outputs": [
    {
     "data": {
      "text/html": [
       "<div>\n",
       "<style scoped>\n",
       "    .dataframe tbody tr th:only-of-type {\n",
       "        vertical-align: middle;\n",
       "    }\n",
       "\n",
       "    .dataframe tbody tr th {\n",
       "        vertical-align: top;\n",
       "    }\n",
       "\n",
       "    .dataframe thead th {\n",
       "        text-align: right;\n",
       "    }\n",
       "</style>\n",
       "<table border=\"1\" class=\"dataframe\">\n",
       "  <thead>\n",
       "    <tr style=\"text-align: right;\">\n",
       "      <th></th>\n",
       "      <th>debt</th>\n",
       "    </tr>\n",
       "    <tr>\n",
       "      <th>family_status</th>\n",
       "      <th></th>\n",
       "    </tr>\n",
       "  </thead>\n",
       "  <tbody>\n",
       "    <tr>\n",
       "      <th>widow / widower</th>\n",
       "      <td>0.064990</td>\n",
       "    </tr>\n",
       "    <tr>\n",
       "      <th>divorced</th>\n",
       "      <td>0.071730</td>\n",
       "    </tr>\n",
       "    <tr>\n",
       "      <th>married</th>\n",
       "      <td>0.075427</td>\n",
       "    </tr>\n",
       "    <tr>\n",
       "      <th>civil partnership</th>\n",
       "      <td>0.093462</td>\n",
       "    </tr>\n",
       "    <tr>\n",
       "      <th>unmarried</th>\n",
       "      <td>0.097709</td>\n",
       "    </tr>\n",
       "  </tbody>\n",
       "</table>\n",
       "</div>"
      ],
      "text/plain": [
       "                       debt\n",
       "family_status              \n",
       "widow / widower    0.064990\n",
       "divorced           0.071730\n",
       "married            0.075427\n",
       "civil partnership  0.093462\n",
       "unmarried          0.097709"
      ]
     },
     "execution_count": 74,
     "metadata": {},
     "output_type": "execute_result"
    }
   ],
   "source": [
    "family_status_debt = credit_scoring.pivot_table(index= ['family_status'], values= ['debt'], aggfunc= 'mean').sort_values(('debt'), ascending=True)\n",
    "# Check the family status data and paying back on time\n",
    "family_status_debt\n",
    "# Calculating default-rate based on family status"
   ]
  },
  {
   "cell_type": "markdown",
   "metadata": {},
   "source": [
    "**Conclusion**\n",
    "\n",
    "Here we can see that a person is more likely to pay their loan on time if their spouse has died, or they have been divorced. Unmarried people seem to have defaulted their payments the most. "
   ]
  },
  {
   "cell_type": "markdown",
   "metadata": {},
   "source": [
    "**Is there a correlation between income level and paying back on time?**"
   ]
  },
  {
   "cell_type": "code",
   "execution_count": 75,
   "metadata": {
    "scrolled": true
   },
   "outputs": [
    {
     "data": {
      "text/html": [
       "<div>\n",
       "<style scoped>\n",
       "    .dataframe tbody tr th:only-of-type {\n",
       "        vertical-align: middle;\n",
       "    }\n",
       "\n",
       "    .dataframe tbody tr th {\n",
       "        vertical-align: top;\n",
       "    }\n",
       "\n",
       "    .dataframe thead th {\n",
       "        text-align: right;\n",
       "    }\n",
       "</style>\n",
       "<table border=\"1\" class=\"dataframe\">\n",
       "  <thead>\n",
       "    <tr style=\"text-align: right;\">\n",
       "      <th></th>\n",
       "      <th>debt</th>\n",
       "    </tr>\n",
       "    <tr>\n",
       "      <th>total_income</th>\n",
       "      <th></th>\n",
       "    </tr>\n",
       "  </thead>\n",
       "  <tbody>\n",
       "    <tr>\n",
       "      <th>24394</th>\n",
       "      <td>0.0</td>\n",
       "    </tr>\n",
       "    <tr>\n",
       "      <th>30066</th>\n",
       "      <td>0.0</td>\n",
       "    </tr>\n",
       "    <tr>\n",
       "      <th>30069</th>\n",
       "      <td>0.0</td>\n",
       "    </tr>\n",
       "    <tr>\n",
       "      <th>30070</th>\n",
       "      <td>0.0</td>\n",
       "    </tr>\n",
       "    <tr>\n",
       "      <th>30077</th>\n",
       "      <td>0.0</td>\n",
       "    </tr>\n",
       "    <tr>\n",
       "      <th>...</th>\n",
       "      <td>...</td>\n",
       "    </tr>\n",
       "    <tr>\n",
       "      <th>45805</th>\n",
       "      <td>1.0</td>\n",
       "    </tr>\n",
       "    <tr>\n",
       "      <th>45850</th>\n",
       "      <td>1.0</td>\n",
       "    </tr>\n",
       "    <tr>\n",
       "      <th>11984</th>\n",
       "      <td>1.0</td>\n",
       "    </tr>\n",
       "    <tr>\n",
       "      <th>15202</th>\n",
       "      <td>1.0</td>\n",
       "    </tr>\n",
       "    <tr>\n",
       "      <th>3306</th>\n",
       "      <td>1.0</td>\n",
       "    </tr>\n",
       "  </tbody>\n",
       "</table>\n",
       "<p>15334 rows × 1 columns</p>\n",
       "</div>"
      ],
      "text/plain": [
       "              debt\n",
       "total_income      \n",
       "24394          0.0\n",
       "30066          0.0\n",
       "30069          0.0\n",
       "30070          0.0\n",
       "30077          0.0\n",
       "...            ...\n",
       "45805          1.0\n",
       "45850          1.0\n",
       "11984          1.0\n",
       "15202          1.0\n",
       "3306           1.0\n",
       "\n",
       "[15334 rows x 1 columns]"
      ]
     },
     "execution_count": 75,
     "metadata": {},
     "output_type": "execute_result"
    }
   ],
   "source": [
    "income_type_debt = credit_scoring.pivot_table(index= ['total_income'], values= ['debt'], aggfunc= 'mean').sort_values(('debt'), ascending=True)\n",
    "# Check the income level data and paying back on time\n",
    "income_type_debt\n",
    "# Calculating default-rate based on income level"
   ]
  },
  {
   "cell_type": "code",
   "execution_count": 76,
   "metadata": {},
   "outputs": [],
   "source": [
    "def income_cat(income):\n",
    "    if income <= 30000:\n",
    "        return 'E'\n",
    "    elif income <= 50000:\n",
    "        return 'D'\n",
    "    elif income <= 200000:\n",
    "        return 'C'\n",
    "    elif income <= 1000000:\n",
    "        return 'B'\n",
    "    else:\n",
    "        return 'A'\n",
    "credit_scoring['total_income_category'] = credit_scoring['total_income'].apply(income_cat)"
   ]
  },
  {
   "cell_type": "code",
   "execution_count": 77,
   "metadata": {},
   "outputs": [
    {
     "data": {
      "text/html": [
       "<div>\n",
       "<style scoped>\n",
       "    .dataframe tbody tr th:only-of-type {\n",
       "        vertical-align: middle;\n",
       "    }\n",
       "\n",
       "    .dataframe tbody tr th {\n",
       "        vertical-align: top;\n",
       "    }\n",
       "\n",
       "    .dataframe thead th {\n",
       "        text-align: right;\n",
       "    }\n",
       "</style>\n",
       "<table border=\"1\" class=\"dataframe\">\n",
       "  <thead>\n",
       "    <tr style=\"text-align: right;\">\n",
       "      <th></th>\n",
       "      <th>debt</th>\n",
       "    </tr>\n",
       "    <tr>\n",
       "      <th>total_income_category</th>\n",
       "      <th></th>\n",
       "    </tr>\n",
       "  </thead>\n",
       "  <tbody>\n",
       "    <tr>\n",
       "      <th>C</th>\n",
       "      <td>0.069625</td>\n",
       "    </tr>\n",
       "    <tr>\n",
       "      <th>D</th>\n",
       "      <td>0.075022</td>\n",
       "    </tr>\n",
       "    <tr>\n",
       "      <th>E</th>\n",
       "      <td>0.083942</td>\n",
       "    </tr>\n",
       "    <tr>\n",
       "      <th>B</th>\n",
       "      <td>0.090909</td>\n",
       "    </tr>\n",
       "  </tbody>\n",
       "</table>\n",
       "</div>"
      ],
      "text/plain": [
       "                           debt\n",
       "total_income_category          \n",
       "C                      0.069625\n",
       "D                      0.075022\n",
       "E                      0.083942\n",
       "B                      0.090909"
      ]
     },
     "execution_count": 77,
     "metadata": {},
     "output_type": "execute_result"
    }
   ],
   "source": [
    "credit_scoring.pivot_table(index= ['total_income_category'], values= ['debt'], aggfunc= 'mean').sort_values(('debt'), ascending=True)\n",
    "\n"
   ]
  },
  {
   "cell_type": "markdown",
   "metadata": {},
   "source": [
    "Here we can see that 'total_income' is not a good indicator of whether someone will pay their loan on time. This is not a good form of measurement."
   ]
  },
  {
   "cell_type": "markdown",
   "metadata": {},
   "source": [
    "**Conclusion**\n",
    "\n",
    "Based on the above data, entrepreneurs and students are most likely to pay their loans on time. People who are unemployed or on paternity/ maternity leave are most likely to default on their payments."
   ]
  },
  {
   "cell_type": "markdown",
   "metadata": {},
   "source": [
    "**How does credit purpose affect the default rate?**"
   ]
  },
  {
   "cell_type": "code",
   "execution_count": 78,
   "metadata": {
    "scrolled": false
   },
   "outputs": [
    {
     "data": {
      "text/html": [
       "<div>\n",
       "<style scoped>\n",
       "    .dataframe tbody tr th:only-of-type {\n",
       "        vertical-align: middle;\n",
       "    }\n",
       "\n",
       "    .dataframe tbody tr th {\n",
       "        vertical-align: top;\n",
       "    }\n",
       "\n",
       "    .dataframe thead th {\n",
       "        text-align: right;\n",
       "    }\n",
       "</style>\n",
       "<table border=\"1\" class=\"dataframe\">\n",
       "  <thead>\n",
       "    <tr style=\"text-align: right;\">\n",
       "      <th></th>\n",
       "      <th>debt</th>\n",
       "    </tr>\n",
       "    <tr>\n",
       "      <th>purpose</th>\n",
       "      <th></th>\n",
       "    </tr>\n",
       "  </thead>\n",
       "  <tbody>\n",
       "    <tr>\n",
       "      <th>Realestate</th>\n",
       "      <td>0.072371</td>\n",
       "    </tr>\n",
       "    <tr>\n",
       "      <th>wedding</th>\n",
       "      <td>0.082866</td>\n",
       "    </tr>\n",
       "    <tr>\n",
       "      <th>Education</th>\n",
       "      <td>0.093053</td>\n",
       "    </tr>\n",
       "    <tr>\n",
       "      <th>Car Purchase</th>\n",
       "      <td>0.093371</td>\n",
       "    </tr>\n",
       "  </tbody>\n",
       "</table>\n",
       "</div>"
      ],
      "text/plain": [
       "                  debt\n",
       "purpose               \n",
       "Realestate    0.072371\n",
       "wedding       0.082866\n",
       "Education     0.093053\n",
       "Car Purchase  0.093371"
      ]
     },
     "execution_count": 78,
     "metadata": {},
     "output_type": "execute_result"
    }
   ],
   "source": [
    "purpose_debt = credit_scoring.pivot_table(index= ['purpose'], values= ['debt'], aggfunc= 'mean').sort_values(('debt'), ascending=True)\n",
    "purpose_debt# Check the percentages for default rate for each credit purpose and analyze them\n"
   ]
  },
  {
   "cell_type": "markdown",
   "metadata": {},
   "source": [
    "Here we can see that people who use the loan for Realestate are the most likely to pay on time. People with car loans are most likely to default on their payments.  "
   ]
  },
  {
   "cell_type": "code",
   "execution_count": 79,
   "metadata": {},
   "outputs": [
    {
     "data": {
      "text/html": [
       "<div>\n",
       "<style scoped>\n",
       "    .dataframe tbody tr th:only-of-type {\n",
       "        vertical-align: middle;\n",
       "    }\n",
       "\n",
       "    .dataframe tbody tr th {\n",
       "        vertical-align: top;\n",
       "    }\n",
       "\n",
       "    .dataframe thead th {\n",
       "        text-align: right;\n",
       "    }\n",
       "</style>\n",
       "<table border=\"1\" class=\"dataframe\">\n",
       "  <thead>\n",
       "    <tr style=\"text-align: right;\">\n",
       "      <th></th>\n",
       "      <th>debt</th>\n",
       "    </tr>\n",
       "    <tr>\n",
       "      <th>gender</th>\n",
       "      <th></th>\n",
       "    </tr>\n",
       "  </thead>\n",
       "  <tbody>\n",
       "    <tr>\n",
       "      <th>XNA</th>\n",
       "      <td>0.000000</td>\n",
       "    </tr>\n",
       "    <tr>\n",
       "      <th>F</th>\n",
       "      <td>0.070132</td>\n",
       "    </tr>\n",
       "    <tr>\n",
       "      <th>M</th>\n",
       "      <td>0.102621</td>\n",
       "    </tr>\n",
       "  </tbody>\n",
       "</table>\n",
       "</div>"
      ],
      "text/plain": [
       "            debt\n",
       "gender          \n",
       "XNA     0.000000\n",
       "F       0.070132\n",
       "M       0.102621"
      ]
     },
     "execution_count": 79,
     "metadata": {},
     "output_type": "execute_result"
    }
   ],
   "source": [
    "gender_debt = credit_scoring.pivot_table(index= ['gender'], values= ['debt'], aggfunc= 'mean').sort_values(('debt'), ascending=True)\n",
    "\n",
    "gender_debt"
   ]
  },
  {
   "cell_type": "markdown",
   "metadata": {},
   "source": [
    "Comment: Based on the above data it looks like non-binary and women are most likley to pay their loans on time, while men are more likely to default on their payments. "
   ]
  },
  {
   "cell_type": "markdown",
   "metadata": {},
   "source": [
    "# General Conclusion "
   ]
  },
  {
   "cell_type": "markdown",
   "metadata": {},
   "source": [
    "Looking through this risk of defaulting data, we were able to identify and fix many issues. There were missing values, which we dropped and filled in with averages. There were duplicates which we dropped. There were values that were initially negative, and we turned them into positive integers to save a lot of the data. In trying to visualize the 'debt' columns value, we originally wanted to show the 'Paid' versus 'Defaulted' values. We quickly realized that it was much more useful to keep them as integers for easier data calculation. "
   ]
  },
  {
   "cell_type": "markdown",
   "metadata": {},
   "source": [
    "In the end, after looking through all the data, we were able to compare the debt share against several different conditions/ classifications. So far, the data that seemed the most important were in only 3 catergories:\n",
    "\n",
    "- Family Status\n",
    "- Loan Purpose\n",
    "- Gender\n",
    "\n",
    "Within these 3 categories we've found that a person is most likely to pay off their loan on time if they are female/ non-binary, if the loan was for realestate or a wedding, and if they are retired or widowed."
   ]
  }
 ],
 "metadata": {
  "ExecuteTimeLog": [
   {
    "duration": 2741,
    "start_time": "2021-10-21T01:08:49.480Z"
   },
   {
    "duration": 52,
    "start_time": "2021-10-21T01:08:53.315Z"
   },
   {
    "duration": 49,
    "start_time": "2021-10-21T01:08:57.432Z"
   },
   {
    "duration": 70,
    "start_time": "2021-10-21T01:09:07.706Z"
   },
   {
    "duration": 934,
    "start_time": "2022-05-18T20:51:26.097Z"
   },
   {
    "duration": 57,
    "start_time": "2022-05-18T20:52:09.154Z"
   },
   {
    "duration": 81,
    "start_time": "2022-05-18T21:02:07.656Z"
   },
   {
    "duration": 55,
    "start_time": "2022-05-18T21:03:34.359Z"
   },
   {
    "duration": 4,
    "start_time": "2022-05-18T21:12:02.404Z"
   },
   {
    "duration": 4,
    "start_time": "2022-05-18T21:12:56.334Z"
   },
   {
    "duration": 4,
    "start_time": "2022-05-18T21:14:37.849Z"
   },
   {
    "duration": 14,
    "start_time": "2022-05-18T22:12:44.436Z"
   },
   {
    "duration": 13,
    "start_time": "2022-05-18T22:12:53.052Z"
   },
   {
    "duration": 4,
    "start_time": "2022-05-18T22:16:32.300Z"
   },
   {
    "duration": 5,
    "start_time": "2022-05-18T22:17:39.091Z"
   },
   {
    "duration": 5,
    "start_time": "2022-05-18T22:19:18.282Z"
   },
   {
    "duration": 5,
    "start_time": "2022-05-18T22:19:48.519Z"
   },
   {
    "duration": 6,
    "start_time": "2022-05-18T22:20:45.036Z"
   },
   {
    "duration": 5,
    "start_time": "2022-05-18T22:21:09.750Z"
   },
   {
    "duration": 15,
    "start_time": "2022-05-18T22:22:49.189Z"
   },
   {
    "duration": 5,
    "start_time": "2022-05-18T22:23:22.324Z"
   },
   {
    "duration": 4,
    "start_time": "2022-05-18T22:24:51.796Z"
   },
   {
    "duration": 5,
    "start_time": "2022-05-18T22:25:51.265Z"
   },
   {
    "duration": 17,
    "start_time": "2022-05-18T22:26:27.668Z"
   },
   {
    "duration": 17,
    "start_time": "2022-05-18T22:26:32.502Z"
   },
   {
    "duration": 16,
    "start_time": "2022-05-18T22:27:14.618Z"
   },
   {
    "duration": 71,
    "start_time": "2022-05-18T22:27:46.256Z"
   },
   {
    "duration": 10,
    "start_time": "2022-05-18T22:28:24.360Z"
   },
   {
    "duration": 21,
    "start_time": "2022-05-18T22:29:59.764Z"
   },
   {
    "duration": 18,
    "start_time": "2022-05-18T22:41:39.517Z"
   },
   {
    "duration": 17,
    "start_time": "2022-05-18T22:42:06.715Z"
   },
   {
    "duration": 3,
    "start_time": "2022-05-18T22:57:12.021Z"
   },
   {
    "duration": 3,
    "start_time": "2022-05-18T22:57:32.951Z"
   },
   {
    "duration": 12,
    "start_time": "2022-05-19T00:26:14.788Z"
   },
   {
    "duration": 18,
    "start_time": "2022-05-19T00:26:43.382Z"
   },
   {
    "duration": 12,
    "start_time": "2022-05-19T00:26:58.131Z"
   },
   {
    "duration": 1,
    "start_time": "2022-05-19T00:27:07.475Z"
   },
   {
    "duration": 473,
    "start_time": "2022-05-19T00:41:24.437Z"
   },
   {
    "duration": 730,
    "start_time": "2022-05-19T00:41:35.467Z"
   },
   {
    "duration": 30,
    "start_time": "2022-05-19T00:42:14.779Z"
   },
   {
    "duration": 511,
    "start_time": "2022-05-19T00:42:28.579Z"
   },
   {
    "duration": 453,
    "start_time": "2022-05-19T00:44:41.528Z"
   },
   {
    "duration": 509,
    "start_time": "2022-05-19T00:46:05.528Z"
   },
   {
    "duration": 495,
    "start_time": "2022-05-19T00:48:24.713Z"
   },
   {
    "duration": 3,
    "start_time": "2022-05-19T00:49:27.070Z"
   },
   {
    "duration": 3,
    "start_time": "2022-05-19T00:49:28.447Z"
   },
   {
    "duration": 468,
    "start_time": "2022-05-19T00:49:36.702Z"
   },
   {
    "duration": 6,
    "start_time": "2022-05-19T00:52:26.795Z"
   },
   {
    "duration": 510,
    "start_time": "2022-05-19T00:52:46.752Z"
   },
   {
    "duration": 2,
    "start_time": "2022-05-19T00:54:04.397Z"
   },
   {
    "duration": 18,
    "start_time": "2022-05-19T01:01:55.126Z"
   },
   {
    "duration": 84,
    "start_time": "2022-05-19T01:02:56.560Z"
   },
   {
    "duration": 89,
    "start_time": "2022-05-19T01:03:00.097Z"
   },
   {
    "duration": 89,
    "start_time": "2022-05-19T01:03:14.004Z"
   },
   {
    "duration": 89,
    "start_time": "2022-05-19T01:03:20.882Z"
   },
   {
    "duration": 79,
    "start_time": "2022-05-19T16:36:10.839Z"
   },
   {
    "duration": 3,
    "start_time": "2022-05-19T16:36:28.825Z"
   },
   {
    "duration": 4,
    "start_time": "2022-05-19T16:36:32.104Z"
   },
   {
    "duration": 41,
    "start_time": "2022-05-19T16:36:34.696Z"
   },
   {
    "duration": 33,
    "start_time": "2022-05-19T16:36:54.495Z"
   },
   {
    "duration": 41,
    "start_time": "2022-05-19T16:37:07.757Z"
   },
   {
    "duration": 904,
    "start_time": "2022-05-19T16:37:18.249Z"
   },
   {
    "duration": 12,
    "start_time": "2022-05-19T16:37:19.156Z"
   },
   {
    "duration": 11,
    "start_time": "2022-05-19T16:37:19.189Z"
   },
   {
    "duration": 15,
    "start_time": "2022-05-19T16:37:19.775Z"
   },
   {
    "duration": 5,
    "start_time": "2022-05-19T16:37:20.344Z"
   },
   {
    "duration": 25,
    "start_time": "2022-05-19T16:37:20.548Z"
   },
   {
    "duration": 5,
    "start_time": "2022-05-19T16:37:21.160Z"
   },
   {
    "duration": 5,
    "start_time": "2022-05-19T16:37:21.689Z"
   },
   {
    "duration": 3,
    "start_time": "2022-05-19T16:37:22.100Z"
   },
   {
    "duration": 2,
    "start_time": "2022-05-19T16:37:22.484Z"
   },
   {
    "duration": 19,
    "start_time": "2022-05-19T16:37:23.174Z"
   },
   {
    "duration": 3,
    "start_time": "2022-05-19T16:37:24.954Z"
   },
   {
    "duration": 34,
    "start_time": "2022-05-19T16:37:26.424Z"
   },
   {
    "duration": 6,
    "start_time": "2022-05-19T16:37:26.877Z"
   },
   {
    "duration": 12,
    "start_time": "2022-05-19T16:37:27.559Z"
   },
   {
    "duration": 4,
    "start_time": "2022-05-19T16:37:28.130Z"
   },
   {
    "duration": 4,
    "start_time": "2022-05-19T16:37:29.458Z"
   },
   {
    "duration": 13,
    "start_time": "2022-05-19T16:37:30.627Z"
   },
   {
    "duration": 17,
    "start_time": "2022-05-19T16:37:31.294Z"
   },
   {
    "duration": 6,
    "start_time": "2022-05-19T16:37:31.973Z"
   },
   {
    "duration": 6,
    "start_time": "2022-05-19T16:37:33.223Z"
   },
   {
    "duration": 2,
    "start_time": "2022-05-19T16:37:34.358Z"
   },
   {
    "duration": 3,
    "start_time": "2022-05-19T16:37:34.570Z"
   },
   {
    "duration": 5,
    "start_time": "2022-05-19T16:37:35.324Z"
   },
   {
    "duration": 5,
    "start_time": "2022-05-19T16:37:35.591Z"
   },
   {
    "duration": 2,
    "start_time": "2022-05-19T16:37:36.210Z"
   },
   {
    "duration": 2,
    "start_time": "2022-05-19T16:37:36.692Z"
   },
   {
    "duration": 5,
    "start_time": "2022-05-19T16:37:37.239Z"
   },
   {
    "duration": 6,
    "start_time": "2022-05-19T16:37:37.424Z"
   },
   {
    "duration": 2,
    "start_time": "2022-05-19T16:37:37.645Z"
   },
   {
    "duration": 7,
    "start_time": "2022-05-19T16:37:38.056Z"
   },
   {
    "duration": 6,
    "start_time": "2022-05-19T16:37:38.262Z"
   },
   {
    "duration": 3,
    "start_time": "2022-05-19T16:37:38.476Z"
   },
   {
    "duration": 2,
    "start_time": "2022-05-19T16:37:38.689Z"
   },
   {
    "duration": 8,
    "start_time": "2022-05-19T16:37:39.109Z"
   },
   {
    "duration": 6,
    "start_time": "2022-05-19T16:37:39.347Z"
   },
   {
    "duration": 2,
    "start_time": "2022-05-19T16:37:39.567Z"
   },
   {
    "duration": 22,
    "start_time": "2022-05-19T16:37:40.076Z"
   },
   {
    "duration": 2,
    "start_time": "2022-05-19T16:37:40.575Z"
   },
   {
    "duration": 3,
    "start_time": "2022-05-19T16:37:41.041Z"
   },
   {
    "duration": 3,
    "start_time": "2022-05-19T16:37:41.255Z"
   },
   {
    "duration": 87,
    "start_time": "2022-05-19T16:37:42.027Z"
   },
   {
    "duration": 3,
    "start_time": "2022-05-19T16:37:42.607Z"
   },
   {
    "duration": 4,
    "start_time": "2022-05-19T16:37:42.845Z"
   },
   {
    "duration": 4,
    "start_time": "2022-05-19T16:37:43.895Z"
   },
   {
    "duration": 5,
    "start_time": "2022-05-19T16:37:54.582Z"
   },
   {
    "duration": 5,
    "start_time": "2022-05-19T16:38:08.396Z"
   },
   {
    "duration": 36,
    "start_time": "2022-05-19T16:39:04.058Z"
   },
   {
    "duration": 26,
    "start_time": "2022-05-19T16:39:50.322Z"
   },
   {
    "duration": 20,
    "start_time": "2022-05-19T16:40:44.423Z"
   },
   {
    "duration": 20,
    "start_time": "2022-05-19T16:40:59.703Z"
   },
   {
    "duration": 23,
    "start_time": "2022-05-19T16:41:13.779Z"
   },
   {
    "duration": 4,
    "start_time": "2022-05-19T16:41:34.413Z"
   },
   {
    "duration": 20,
    "start_time": "2022-05-19T16:41:37.333Z"
   },
   {
    "duration": 95,
    "start_time": "2022-05-19T16:41:42.676Z"
   },
   {
    "duration": 100,
    "start_time": "2022-05-19T16:41:47.541Z"
   },
   {
    "duration": 106,
    "start_time": "2022-05-19T16:42:48.073Z"
   },
   {
    "duration": 22,
    "start_time": "2022-05-19T16:43:16.938Z"
   },
   {
    "duration": 21,
    "start_time": "2022-05-19T16:44:13.257Z"
   },
   {
    "duration": 9,
    "start_time": "2022-05-19T16:59:17.902Z"
   },
   {
    "duration": 10,
    "start_time": "2022-05-19T16:59:26.067Z"
   },
   {
    "duration": 12,
    "start_time": "2022-05-19T16:59:36.628Z"
   },
   {
    "duration": 9,
    "start_time": "2022-05-19T16:59:45.684Z"
   },
   {
    "duration": 926,
    "start_time": "2022-05-19T17:00:13.330Z"
   },
   {
    "duration": 3,
    "start_time": "2022-05-19T17:00:31.509Z"
   },
   {
    "duration": 466,
    "start_time": "2022-05-19T17:00:56.154Z"
   },
   {
    "duration": 4,
    "start_time": "2022-05-19T17:01:36.237Z"
   },
   {
    "duration": 19,
    "start_time": "2022-05-19T17:02:06.434Z"
   },
   {
    "duration": 8,
    "start_time": "2022-05-19T17:14:29.984Z"
   },
   {
    "duration": 8,
    "start_time": "2022-05-19T17:14:38.542Z"
   },
   {
    "duration": 10,
    "start_time": "2022-05-19T17:14:42.525Z"
   },
   {
    "duration": 10,
    "start_time": "2022-05-19T17:14:55.318Z"
   },
   {
    "duration": 13,
    "start_time": "2022-05-19T17:15:17.815Z"
   },
   {
    "duration": 9,
    "start_time": "2022-05-19T17:26:03.055Z"
   },
   {
    "duration": 421,
    "start_time": "2022-05-19T17:28:09.053Z"
   },
   {
    "duration": 28,
    "start_time": "2022-05-19T17:29:37.400Z"
   },
   {
    "duration": 13,
    "start_time": "2022-05-19T17:32:00.746Z"
   },
   {
    "duration": 25,
    "start_time": "2022-05-19T17:32:09.273Z"
   },
   {
    "duration": 21,
    "start_time": "2022-05-19T17:32:16.888Z"
   },
   {
    "duration": 6,
    "start_time": "2022-05-19T17:33:18.616Z"
   },
   {
    "duration": 6,
    "start_time": "2022-05-19T17:33:42.545Z"
   },
   {
    "duration": 7,
    "start_time": "2022-05-19T17:39:59.187Z"
   },
   {
    "duration": 6,
    "start_time": "2022-05-19T17:40:07.425Z"
   },
   {
    "duration": 6,
    "start_time": "2022-05-19T17:40:15.155Z"
   },
   {
    "duration": 7,
    "start_time": "2022-05-19T17:40:31.793Z"
   },
   {
    "duration": 6,
    "start_time": "2022-05-19T17:41:25.248Z"
   },
   {
    "duration": 7,
    "start_time": "2022-05-19T17:41:41.193Z"
   },
   {
    "duration": 6,
    "start_time": "2022-05-19T17:47:37.171Z"
   },
   {
    "duration": 3,
    "start_time": "2022-05-19T17:48:46.344Z"
   },
   {
    "duration": 5,
    "start_time": "2022-05-19T17:49:47.690Z"
   },
   {
    "duration": 4,
    "start_time": "2022-05-19T17:50:02.314Z"
   },
   {
    "duration": 5,
    "start_time": "2022-05-19T17:59:03.167Z"
   },
   {
    "duration": 7,
    "start_time": "2022-05-19T18:00:08.594Z"
   },
   {
    "duration": 8,
    "start_time": "2022-05-19T18:00:40.392Z"
   },
   {
    "duration": 13,
    "start_time": "2022-05-19T18:05:21.518Z"
   },
   {
    "duration": 11,
    "start_time": "2022-05-19T18:05:24.552Z"
   },
   {
    "duration": 8,
    "start_time": "2022-05-19T18:05:31.869Z"
   },
   {
    "duration": 6,
    "start_time": "2022-05-19T18:06:10.212Z"
   },
   {
    "duration": 6,
    "start_time": "2022-05-19T18:06:13.020Z"
   },
   {
    "duration": 6,
    "start_time": "2022-05-19T18:06:19.591Z"
   },
   {
    "duration": 6,
    "start_time": "2022-05-19T18:06:21.659Z"
   },
   {
    "duration": 4,
    "start_time": "2022-05-19T18:06:29.362Z"
   },
   {
    "duration": 7,
    "start_time": "2022-05-19T18:06:37.996Z"
   },
   {
    "duration": 4,
    "start_time": "2022-05-19T18:06:44.836Z"
   },
   {
    "duration": 5,
    "start_time": "2022-05-19T18:07:06.005Z"
   },
   {
    "duration": 8,
    "start_time": "2022-05-19T18:07:45.490Z"
   },
   {
    "duration": 7,
    "start_time": "2022-05-19T18:07:57.883Z"
   },
   {
    "duration": 3,
    "start_time": "2022-05-19T18:08:29.831Z"
   },
   {
    "duration": 6,
    "start_time": "2022-05-19T18:52:28.124Z"
   },
   {
    "duration": 7,
    "start_time": "2022-05-19T18:53:10.245Z"
   },
   {
    "duration": 15,
    "start_time": "2022-05-19T18:53:26.795Z"
   },
   {
    "duration": 44,
    "start_time": "2022-05-19T18:55:12.046Z"
   },
   {
    "duration": 7,
    "start_time": "2022-05-19T18:55:35.655Z"
   },
   {
    "duration": 14,
    "start_time": "2022-05-19T18:55:47.675Z"
   },
   {
    "duration": 5,
    "start_time": "2022-05-19T18:56:20.239Z"
   },
   {
    "duration": 58,
    "start_time": "2022-05-20T17:27:43.339Z"
   },
   {
    "duration": 989,
    "start_time": "2022-05-20T17:27:51.148Z"
   },
   {
    "duration": 11,
    "start_time": "2022-05-20T17:27:53.829Z"
   },
   {
    "duration": 15,
    "start_time": "2022-05-20T17:27:56.354Z"
   },
   {
    "duration": 86,
    "start_time": "2022-05-20T17:28:16.883Z"
   },
   {
    "duration": 5,
    "start_time": "2022-05-20T17:28:16.971Z"
   },
   {
    "duration": 28,
    "start_time": "2022-05-20T17:28:16.978Z"
   },
   {
    "duration": 34,
    "start_time": "2022-05-20T17:28:17.008Z"
   },
   {
    "duration": 5,
    "start_time": "2022-05-20T17:28:17.044Z"
   },
   {
    "duration": 27,
    "start_time": "2022-05-20T17:28:17.052Z"
   },
   {
    "duration": 6,
    "start_time": "2022-05-20T17:28:17.082Z"
   },
   {
    "duration": 16,
    "start_time": "2022-05-20T17:28:17.090Z"
   },
   {
    "duration": 40,
    "start_time": "2022-05-20T17:28:17.108Z"
   },
   {
    "duration": 8,
    "start_time": "2022-05-20T17:28:17.152Z"
   },
   {
    "duration": 19,
    "start_time": "2022-05-20T17:28:17.162Z"
   },
   {
    "duration": 3,
    "start_time": "2022-05-20T17:28:17.182Z"
   },
   {
    "duration": 31,
    "start_time": "2022-05-20T17:28:17.186Z"
   },
   {
    "duration": 28,
    "start_time": "2022-05-20T17:28:17.218Z"
   },
   {
    "duration": 15,
    "start_time": "2022-05-20T17:28:17.248Z"
   },
   {
    "duration": 7,
    "start_time": "2022-05-20T17:28:17.265Z"
   },
   {
    "duration": 6,
    "start_time": "2022-05-20T17:28:17.274Z"
   },
   {
    "duration": 12,
    "start_time": "2022-05-20T17:28:17.282Z"
   },
   {
    "duration": 16,
    "start_time": "2022-05-20T17:28:17.296Z"
   },
   {
    "duration": 5,
    "start_time": "2022-05-20T17:28:17.342Z"
   },
   {
    "duration": 8,
    "start_time": "2022-05-20T17:28:17.349Z"
   },
   {
    "duration": 6,
    "start_time": "2022-05-20T17:28:17.358Z"
   },
   {
    "duration": 4,
    "start_time": "2022-05-20T17:28:17.365Z"
   },
   {
    "duration": 7,
    "start_time": "2022-05-20T17:28:17.371Z"
   },
   {
    "duration": 7,
    "start_time": "2022-05-20T17:28:17.379Z"
   },
   {
    "duration": 10,
    "start_time": "2022-05-20T17:28:17.388Z"
   },
   {
    "duration": 5,
    "start_time": "2022-05-20T17:28:17.400Z"
   },
   {
    "duration": 32,
    "start_time": "2022-05-20T17:28:17.410Z"
   },
   {
    "duration": 7,
    "start_time": "2022-05-20T17:28:17.444Z"
   },
   {
    "duration": 9,
    "start_time": "2022-05-20T17:28:17.452Z"
   },
   {
    "duration": 8,
    "start_time": "2022-05-20T17:28:17.462Z"
   },
   {
    "duration": 8,
    "start_time": "2022-05-20T17:28:17.472Z"
   },
   {
    "duration": 6,
    "start_time": "2022-05-20T17:28:17.482Z"
   },
   {
    "duration": 18,
    "start_time": "2022-05-20T17:28:17.490Z"
   },
   {
    "duration": 13,
    "start_time": "2022-05-20T17:28:17.510Z"
   },
   {
    "duration": 17,
    "start_time": "2022-05-20T17:28:17.524Z"
   },
   {
    "duration": 2,
    "start_time": "2022-05-20T17:28:17.543Z"
   },
   {
    "duration": 27,
    "start_time": "2022-05-20T17:28:17.546Z"
   },
   {
    "duration": 2,
    "start_time": "2022-05-20T17:28:17.575Z"
   },
   {
    "duration": 11,
    "start_time": "2022-05-20T17:28:17.579Z"
   },
   {
    "duration": 6,
    "start_time": "2022-05-20T17:28:17.591Z"
   },
   {
    "duration": 6,
    "start_time": "2022-05-20T17:28:17.598Z"
   },
   {
    "duration": 6,
    "start_time": "2022-05-20T17:28:17.605Z"
   },
   {
    "duration": 7,
    "start_time": "2022-05-20T17:28:17.613Z"
   },
   {
    "duration": 30,
    "start_time": "2022-05-20T17:28:17.621Z"
   },
   {
    "duration": 5,
    "start_time": "2022-05-20T17:28:17.653Z"
   },
   {
    "duration": 25,
    "start_time": "2022-05-20T17:28:17.660Z"
   },
   {
    "duration": 4,
    "start_time": "2022-05-20T17:28:17.687Z"
   },
   {
    "duration": 9,
    "start_time": "2022-05-20T17:28:17.692Z"
   },
   {
    "duration": 14,
    "start_time": "2022-05-20T17:28:17.702Z"
   },
   {
    "duration": 25,
    "start_time": "2022-05-20T17:28:17.717Z"
   },
   {
    "duration": 4,
    "start_time": "2022-05-20T17:28:17.744Z"
   },
   {
    "duration": 10,
    "start_time": "2022-05-20T17:28:17.750Z"
   },
   {
    "duration": 3,
    "start_time": "2022-05-20T17:28:17.762Z"
   },
   {
    "duration": 6,
    "start_time": "2022-05-20T17:28:17.766Z"
   },
   {
    "duration": 3,
    "start_time": "2022-05-20T17:28:17.774Z"
   },
   {
    "duration": 4,
    "start_time": "2022-05-20T17:28:17.779Z"
   },
   {
    "duration": 4,
    "start_time": "2022-05-20T17:28:17.784Z"
   },
   {
    "duration": 5,
    "start_time": "2022-05-20T17:28:17.790Z"
   },
   {
    "duration": 7,
    "start_time": "2022-05-20T17:28:17.797Z"
   },
   {
    "duration": 5,
    "start_time": "2022-05-20T17:28:17.805Z"
   },
   {
    "duration": 2,
    "start_time": "2022-05-20T17:28:17.842Z"
   },
   {
    "duration": 5,
    "start_time": "2022-05-20T17:28:17.845Z"
   },
   {
    "duration": 6,
    "start_time": "2022-05-20T17:28:17.851Z"
   },
   {
    "duration": 7,
    "start_time": "2022-05-20T17:28:17.858Z"
   },
   {
    "duration": 5,
    "start_time": "2022-05-20T17:28:17.867Z"
   },
   {
    "duration": 5,
    "start_time": "2022-05-20T17:28:17.873Z"
   },
   {
    "duration": 5,
    "start_time": "2022-05-20T17:28:17.879Z"
   },
   {
    "duration": 12,
    "start_time": "2022-05-20T17:28:17.885Z"
   },
   {
    "duration": 9,
    "start_time": "2022-05-20T17:28:17.899Z"
   },
   {
    "duration": 11,
    "start_time": "2022-05-20T17:28:17.909Z"
   },
   {
    "duration": 7,
    "start_time": "2022-05-20T17:28:17.922Z"
   },
   {
    "duration": 16,
    "start_time": "2022-05-20T17:28:17.930Z"
   },
   {
    "duration": 7,
    "start_time": "2022-05-20T17:28:17.948Z"
   },
   {
    "duration": 20,
    "start_time": "2022-05-20T17:28:17.957Z"
   },
   {
    "duration": 8,
    "start_time": "2022-05-20T17:28:17.979Z"
   },
   {
    "duration": 7,
    "start_time": "2022-05-20T17:28:17.989Z"
   },
   {
    "duration": 10,
    "start_time": "2022-05-20T17:28:17.997Z"
   },
   {
    "duration": 6,
    "start_time": "2022-05-20T17:28:18.009Z"
   },
   {
    "duration": 39,
    "start_time": "2022-05-20T17:31:43.224Z"
   },
   {
    "duration": 11,
    "start_time": "2022-05-20T17:32:14.445Z"
   },
   {
    "duration": 11,
    "start_time": "2022-05-20T17:32:25.993Z"
   },
   {
    "duration": 12,
    "start_time": "2022-05-20T18:08:41.062Z"
   },
   {
    "duration": 4,
    "start_time": "2022-05-20T18:09:41.033Z"
   },
   {
    "duration": 6,
    "start_time": "2022-05-20T18:26:50.730Z"
   },
   {
    "duration": 44,
    "start_time": "2022-05-20T18:27:06.639Z"
   },
   {
    "duration": 6,
    "start_time": "2022-05-20T18:27:09.089Z"
   },
   {
    "duration": 43,
    "start_time": "2022-05-20T18:27:34.007Z"
   },
   {
    "duration": 11,
    "start_time": "2022-05-20T18:27:34.534Z"
   },
   {
    "duration": 20,
    "start_time": "2022-05-20T18:27:36.537Z"
   },
   {
    "duration": 31,
    "start_time": "2022-05-20T18:28:05.799Z"
   },
   {
    "duration": 6,
    "start_time": "2022-05-20T18:28:24.836Z"
   },
   {
    "duration": 68,
    "start_time": "2022-05-20T18:28:35.052Z"
   },
   {
    "duration": 4,
    "start_time": "2022-05-20T18:28:35.122Z"
   },
   {
    "duration": 30,
    "start_time": "2022-05-20T18:28:35.128Z"
   },
   {
    "duration": 14,
    "start_time": "2022-05-20T18:28:35.160Z"
   },
   {
    "duration": 3,
    "start_time": "2022-05-20T18:28:35.176Z"
   },
   {
    "duration": 22,
    "start_time": "2022-05-20T18:28:35.181Z"
   },
   {
    "duration": 10,
    "start_time": "2022-05-20T18:28:35.205Z"
   },
   {
    "duration": 12,
    "start_time": "2022-05-20T18:28:35.241Z"
   },
   {
    "duration": 5,
    "start_time": "2022-05-20T18:28:35.259Z"
   },
   {
    "duration": 5,
    "start_time": "2022-05-20T18:28:35.266Z"
   },
   {
    "duration": 3,
    "start_time": "2022-05-20T18:28:35.273Z"
   },
   {
    "duration": 19,
    "start_time": "2022-05-20T18:28:35.278Z"
   },
   {
    "duration": 5,
    "start_time": "2022-05-20T18:28:35.299Z"
   },
   {
    "duration": 69,
    "start_time": "2022-05-20T18:28:35.306Z"
   },
   {
    "duration": 5,
    "start_time": "2022-05-20T18:28:35.377Z"
   },
   {
    "duration": 15,
    "start_time": "2022-05-20T18:28:35.384Z"
   },
   {
    "duration": 6,
    "start_time": "2022-05-20T18:28:35.401Z"
   },
   {
    "duration": 39,
    "start_time": "2022-05-20T18:28:35.409Z"
   },
   {
    "duration": 13,
    "start_time": "2022-05-20T18:28:35.450Z"
   },
   {
    "duration": 18,
    "start_time": "2022-05-20T18:28:35.465Z"
   },
   {
    "duration": 5,
    "start_time": "2022-05-20T18:28:35.484Z"
   },
   {
    "duration": 12,
    "start_time": "2022-05-20T18:28:35.490Z"
   },
   {
    "duration": 5,
    "start_time": "2022-05-20T18:28:35.503Z"
   },
   {
    "duration": 8,
    "start_time": "2022-05-20T18:28:35.510Z"
   },
   {
    "duration": 8,
    "start_time": "2022-05-20T18:28:35.541Z"
   },
   {
    "duration": 13,
    "start_time": "2022-05-20T18:28:35.554Z"
   },
   {
    "duration": 6,
    "start_time": "2022-05-20T18:28:35.569Z"
   },
   {
    "duration": 3,
    "start_time": "2022-05-20T18:28:35.579Z"
   },
   {
    "duration": 14,
    "start_time": "2022-05-20T18:28:35.583Z"
   },
   {
    "duration": 6,
    "start_time": "2022-05-20T18:28:35.598Z"
   },
   {
    "duration": 7,
    "start_time": "2022-05-20T18:28:35.606Z"
   },
   {
    "duration": 30,
    "start_time": "2022-05-20T18:28:35.614Z"
   },
   {
    "duration": 15,
    "start_time": "2022-05-20T18:28:35.648Z"
   },
   {
    "duration": 9,
    "start_time": "2022-05-20T18:28:35.664Z"
   },
   {
    "duration": 9,
    "start_time": "2022-05-20T18:28:35.674Z"
   },
   {
    "duration": 10,
    "start_time": "2022-05-20T18:28:35.685Z"
   },
   {
    "duration": 6,
    "start_time": "2022-05-20T18:28:35.696Z"
   },
   {
    "duration": 3,
    "start_time": "2022-05-20T18:28:35.704Z"
   },
   {
    "duration": 21,
    "start_time": "2022-05-20T18:28:35.709Z"
   },
   {
    "duration": 9,
    "start_time": "2022-05-20T18:28:35.742Z"
   },
   {
    "duration": 9,
    "start_time": "2022-05-20T18:28:35.760Z"
   },
   {
    "duration": 5,
    "start_time": "2022-05-20T18:28:35.772Z"
   },
   {
    "duration": 13,
    "start_time": "2022-05-20T18:28:35.779Z"
   },
   {
    "duration": 5,
    "start_time": "2022-05-20T18:28:35.794Z"
   },
   {
    "duration": 8,
    "start_time": "2022-05-20T18:28:35.801Z"
   },
   {
    "duration": 26,
    "start_time": "2022-05-20T18:28:35.811Z"
   },
   {
    "duration": 17,
    "start_time": "2022-05-20T18:28:35.839Z"
   },
   {
    "duration": 34,
    "start_time": "2022-05-20T18:28:35.860Z"
   },
   {
    "duration": 6,
    "start_time": "2022-05-20T18:28:35.896Z"
   },
   {
    "duration": 8,
    "start_time": "2022-05-20T18:28:35.904Z"
   },
   {
    "duration": 14,
    "start_time": "2022-05-20T18:28:35.914Z"
   },
   {
    "duration": 14,
    "start_time": "2022-05-20T18:28:35.930Z"
   },
   {
    "duration": 16,
    "start_time": "2022-05-20T18:28:35.953Z"
   },
   {
    "duration": 9,
    "start_time": "2022-05-20T18:28:35.971Z"
   },
   {
    "duration": 2,
    "start_time": "2022-05-20T18:28:35.983Z"
   },
   {
    "duration": 8,
    "start_time": "2022-05-20T18:28:35.987Z"
   },
   {
    "duration": 7,
    "start_time": "2022-05-20T18:28:35.997Z"
   },
   {
    "duration": 6,
    "start_time": "2022-05-20T18:28:36.007Z"
   },
   {
    "duration": 10,
    "start_time": "2022-05-20T18:28:36.015Z"
   },
   {
    "duration": 13,
    "start_time": "2022-05-20T18:28:36.028Z"
   },
   {
    "duration": 19,
    "start_time": "2022-05-20T18:28:36.044Z"
   },
   {
    "duration": 7,
    "start_time": "2022-05-20T18:28:36.065Z"
   },
   {
    "duration": 10,
    "start_time": "2022-05-20T18:28:36.073Z"
   },
   {
    "duration": 4,
    "start_time": "2022-05-20T18:28:36.085Z"
   },
   {
    "duration": 8,
    "start_time": "2022-05-20T18:28:36.091Z"
   },
   {
    "duration": 7,
    "start_time": "2022-05-20T18:28:36.101Z"
   },
   {
    "duration": 9,
    "start_time": "2022-05-20T18:28:36.109Z"
   },
   {
    "duration": 5,
    "start_time": "2022-05-20T18:28:36.120Z"
   },
   {
    "duration": 9,
    "start_time": "2022-05-20T18:28:36.127Z"
   },
   {
    "duration": 24,
    "start_time": "2022-05-20T18:28:36.139Z"
   },
   {
    "duration": 5,
    "start_time": "2022-05-20T18:28:36.165Z"
   },
   {
    "duration": 5,
    "start_time": "2022-05-20T18:28:36.172Z"
   },
   {
    "duration": 7,
    "start_time": "2022-05-20T18:28:36.179Z"
   },
   {
    "duration": 4,
    "start_time": "2022-05-20T18:28:36.188Z"
   },
   {
    "duration": 9,
    "start_time": "2022-05-20T18:28:36.194Z"
   },
   {
    "duration": 7,
    "start_time": "2022-05-20T18:28:36.205Z"
   },
   {
    "duration": 8,
    "start_time": "2022-05-20T18:28:36.214Z"
   },
   {
    "duration": 5,
    "start_time": "2022-05-20T18:28:36.224Z"
   },
   {
    "duration": 8,
    "start_time": "2022-05-20T18:28:36.231Z"
   },
   {
    "duration": 24,
    "start_time": "2022-05-20T18:28:36.240Z"
   },
   {
    "duration": 6,
    "start_time": "2022-05-20T18:29:05.572Z"
   },
   {
    "duration": 17,
    "start_time": "2022-05-20T18:29:09.395Z"
   },
   {
    "duration": 7,
    "start_time": "2022-05-20T18:29:10.454Z"
   },
   {
    "duration": 72,
    "start_time": "2022-05-20T18:29:16.207Z"
   },
   {
    "duration": 5,
    "start_time": "2022-05-20T18:29:16.281Z"
   },
   {
    "duration": 16,
    "start_time": "2022-05-20T18:29:16.287Z"
   },
   {
    "duration": 52,
    "start_time": "2022-05-20T18:29:16.305Z"
   },
   {
    "duration": 4,
    "start_time": "2022-05-20T18:29:16.359Z"
   },
   {
    "duration": 23,
    "start_time": "2022-05-20T18:29:16.365Z"
   },
   {
    "duration": 12,
    "start_time": "2022-05-20T18:29:16.390Z"
   },
   {
    "duration": 43,
    "start_time": "2022-05-20T18:29:16.404Z"
   },
   {
    "duration": 5,
    "start_time": "2022-05-20T18:29:16.456Z"
   },
   {
    "duration": 3,
    "start_time": "2022-05-20T18:29:16.464Z"
   },
   {
    "duration": 7,
    "start_time": "2022-05-20T18:29:16.469Z"
   },
   {
    "duration": 17,
    "start_time": "2022-05-20T18:29:16.477Z"
   },
   {
    "duration": 5,
    "start_time": "2022-05-20T18:29:16.496Z"
   },
   {
    "duration": 56,
    "start_time": "2022-05-20T18:29:16.502Z"
   },
   {
    "duration": 7,
    "start_time": "2022-05-20T18:29:16.560Z"
   },
   {
    "duration": 15,
    "start_time": "2022-05-20T18:29:16.568Z"
   },
   {
    "duration": 4,
    "start_time": "2022-05-20T18:29:16.585Z"
   },
   {
    "duration": 8,
    "start_time": "2022-05-20T18:29:16.590Z"
   },
   {
    "duration": 11,
    "start_time": "2022-05-20T18:29:16.600Z"
   },
   {
    "duration": 34,
    "start_time": "2022-05-20T18:29:16.613Z"
   },
   {
    "duration": 8,
    "start_time": "2022-05-20T18:29:16.649Z"
   },
   {
    "duration": 8,
    "start_time": "2022-05-20T18:29:16.659Z"
   },
   {
    "duration": 4,
    "start_time": "2022-05-20T18:29:16.669Z"
   },
   {
    "duration": 3,
    "start_time": "2022-05-20T18:29:16.675Z"
   },
   {
    "duration": 7,
    "start_time": "2022-05-20T18:29:16.681Z"
   },
   {
    "duration": 6,
    "start_time": "2022-05-20T18:29:16.690Z"
   },
   {
    "duration": 3,
    "start_time": "2022-05-20T18:29:16.698Z"
   },
   {
    "duration": 3,
    "start_time": "2022-05-20T18:29:16.708Z"
   },
   {
    "duration": 11,
    "start_time": "2022-05-20T18:29:16.743Z"
   },
   {
    "duration": 9,
    "start_time": "2022-05-20T18:29:16.756Z"
   },
   {
    "duration": 9,
    "start_time": "2022-05-20T18:29:16.767Z"
   },
   {
    "duration": 24,
    "start_time": "2022-05-20T18:29:16.777Z"
   },
   {
    "duration": 8,
    "start_time": "2022-05-20T18:29:16.804Z"
   },
   {
    "duration": 4,
    "start_time": "2022-05-20T18:29:16.814Z"
   },
   {
    "duration": 5,
    "start_time": "2022-05-20T18:29:16.820Z"
   },
   {
    "duration": 17,
    "start_time": "2022-05-20T18:29:16.826Z"
   },
   {
    "duration": 34,
    "start_time": "2022-05-20T18:29:16.845Z"
   },
   {
    "duration": 5,
    "start_time": "2022-05-20T18:29:16.881Z"
   },
   {
    "duration": 27,
    "start_time": "2022-05-20T18:29:16.888Z"
   },
   {
    "duration": 3,
    "start_time": "2022-05-20T18:29:16.917Z"
   },
   {
    "duration": 8,
    "start_time": "2022-05-20T18:29:16.922Z"
   },
   {
    "duration": 13,
    "start_time": "2022-05-20T18:29:16.932Z"
   },
   {
    "duration": 27,
    "start_time": "2022-05-20T18:29:16.948Z"
   },
   {
    "duration": 6,
    "start_time": "2022-05-20T18:29:16.978Z"
   },
   {
    "duration": 42,
    "start_time": "2022-05-20T18:29:16.987Z"
   },
   {
    "duration": 34,
    "start_time": "2022-05-20T18:29:17.032Z"
   },
   {
    "duration": 20,
    "start_time": "2022-05-20T18:29:17.072Z"
   },
   {
    "duration": 47,
    "start_time": "2022-05-20T18:29:17.094Z"
   },
   {
    "duration": 36,
    "start_time": "2022-05-20T18:29:17.143Z"
   },
   {
    "duration": 14,
    "start_time": "2022-05-20T18:29:17.182Z"
   },
   {
    "duration": 12,
    "start_time": "2022-05-20T18:29:17.197Z"
   },
   {
    "duration": 15,
    "start_time": "2022-05-20T18:29:17.212Z"
   },
   {
    "duration": 27,
    "start_time": "2022-05-20T18:29:17.229Z"
   },
   {
    "duration": 16,
    "start_time": "2022-05-20T18:29:17.258Z"
   },
   {
    "duration": 17,
    "start_time": "2022-05-20T18:29:17.276Z"
   },
   {
    "duration": 5,
    "start_time": "2022-05-20T18:29:17.295Z"
   },
   {
    "duration": 4,
    "start_time": "2022-05-20T18:29:17.302Z"
   },
   {
    "duration": 4,
    "start_time": "2022-05-20T18:29:17.308Z"
   },
   {
    "duration": 5,
    "start_time": "2022-05-20T18:29:17.314Z"
   },
   {
    "duration": 7,
    "start_time": "2022-05-20T18:29:17.320Z"
   },
   {
    "duration": 3,
    "start_time": "2022-05-20T18:29:17.328Z"
   },
   {
    "duration": 4,
    "start_time": "2022-05-20T18:29:17.333Z"
   },
   {
    "duration": 20,
    "start_time": "2022-05-20T18:29:17.339Z"
   },
   {
    "duration": 4,
    "start_time": "2022-05-20T18:29:17.361Z"
   },
   {
    "duration": 4,
    "start_time": "2022-05-20T18:29:17.367Z"
   },
   {
    "duration": 6,
    "start_time": "2022-05-20T18:29:17.373Z"
   },
   {
    "duration": 4,
    "start_time": "2022-05-20T18:29:17.381Z"
   },
   {
    "duration": 6,
    "start_time": "2022-05-20T18:29:17.386Z"
   },
   {
    "duration": 5,
    "start_time": "2022-05-20T18:29:17.393Z"
   },
   {
    "duration": 5,
    "start_time": "2022-05-20T18:29:17.399Z"
   },
   {
    "duration": 7,
    "start_time": "2022-05-20T18:29:17.405Z"
   },
   {
    "duration": 6,
    "start_time": "2022-05-20T18:29:17.413Z"
   },
   {
    "duration": 13,
    "start_time": "2022-05-20T18:29:17.443Z"
   },
   {
    "duration": 5,
    "start_time": "2022-05-20T18:29:17.458Z"
   },
   {
    "duration": 6,
    "start_time": "2022-05-20T18:29:17.464Z"
   },
   {
    "duration": 4,
    "start_time": "2022-05-20T18:29:17.472Z"
   },
   {
    "duration": 3,
    "start_time": "2022-05-20T18:29:17.478Z"
   },
   {
    "duration": 6,
    "start_time": "2022-05-20T18:29:17.483Z"
   },
   {
    "duration": 8,
    "start_time": "2022-05-20T18:29:17.490Z"
   },
   {
    "duration": 4,
    "start_time": "2022-05-20T18:29:17.500Z"
   },
   {
    "duration": 524,
    "start_time": "2022-05-20T21:58:54.748Z"
   },
   {
    "duration": 0,
    "start_time": "2022-05-20T21:58:55.277Z"
   },
   {
    "duration": 0,
    "start_time": "2022-05-20T21:58:55.278Z"
   },
   {
    "duration": 0,
    "start_time": "2022-05-20T21:58:55.280Z"
   },
   {
    "duration": 0,
    "start_time": "2022-05-20T21:58:55.281Z"
   },
   {
    "duration": 0,
    "start_time": "2022-05-20T21:58:55.283Z"
   },
   {
    "duration": 0,
    "start_time": "2022-05-20T21:58:55.286Z"
   },
   {
    "duration": 0,
    "start_time": "2022-05-20T21:58:55.288Z"
   },
   {
    "duration": 0,
    "start_time": "2022-05-20T21:58:55.289Z"
   },
   {
    "duration": 0,
    "start_time": "2022-05-20T21:58:55.290Z"
   },
   {
    "duration": 0,
    "start_time": "2022-05-20T21:58:55.291Z"
   },
   {
    "duration": 0,
    "start_time": "2022-05-20T21:58:55.292Z"
   },
   {
    "duration": 0,
    "start_time": "2022-05-20T21:58:55.293Z"
   },
   {
    "duration": 0,
    "start_time": "2022-05-20T21:58:55.294Z"
   },
   {
    "duration": 0,
    "start_time": "2022-05-20T21:58:55.296Z"
   },
   {
    "duration": 0,
    "start_time": "2022-05-20T21:58:55.296Z"
   },
   {
    "duration": 0,
    "start_time": "2022-05-20T21:58:55.297Z"
   },
   {
    "duration": 0,
    "start_time": "2022-05-20T21:58:55.299Z"
   },
   {
    "duration": 0,
    "start_time": "2022-05-20T21:58:55.341Z"
   },
   {
    "duration": 0,
    "start_time": "2022-05-20T21:58:55.343Z"
   },
   {
    "duration": 0,
    "start_time": "2022-05-20T21:58:55.344Z"
   },
   {
    "duration": 0,
    "start_time": "2022-05-20T21:58:55.345Z"
   },
   {
    "duration": 0,
    "start_time": "2022-05-20T21:58:55.345Z"
   },
   {
    "duration": 0,
    "start_time": "2022-05-20T21:58:55.346Z"
   },
   {
    "duration": 0,
    "start_time": "2022-05-20T21:58:55.347Z"
   },
   {
    "duration": 0,
    "start_time": "2022-05-20T21:58:55.348Z"
   },
   {
    "duration": 0,
    "start_time": "2022-05-20T21:58:55.349Z"
   },
   {
    "duration": 0,
    "start_time": "2022-05-20T21:58:55.350Z"
   },
   {
    "duration": 0,
    "start_time": "2022-05-20T21:58:55.351Z"
   },
   {
    "duration": 0,
    "start_time": "2022-05-20T21:58:55.352Z"
   },
   {
    "duration": 0,
    "start_time": "2022-05-20T21:58:55.353Z"
   },
   {
    "duration": 0,
    "start_time": "2022-05-20T21:58:55.355Z"
   },
   {
    "duration": 0,
    "start_time": "2022-05-20T21:58:55.356Z"
   },
   {
    "duration": 0,
    "start_time": "2022-05-20T21:58:55.357Z"
   },
   {
    "duration": 0,
    "start_time": "2022-05-20T21:58:55.357Z"
   },
   {
    "duration": 0,
    "start_time": "2022-05-20T21:58:55.358Z"
   },
   {
    "duration": 0,
    "start_time": "2022-05-20T21:58:55.359Z"
   },
   {
    "duration": 0,
    "start_time": "2022-05-20T21:58:55.360Z"
   },
   {
    "duration": 0,
    "start_time": "2022-05-20T21:58:55.361Z"
   },
   {
    "duration": 0,
    "start_time": "2022-05-20T21:58:55.363Z"
   },
   {
    "duration": 0,
    "start_time": "2022-05-20T21:58:55.364Z"
   },
   {
    "duration": 0,
    "start_time": "2022-05-20T21:58:55.365Z"
   },
   {
    "duration": 0,
    "start_time": "2022-05-20T21:58:55.367Z"
   },
   {
    "duration": 0,
    "start_time": "2022-05-20T21:58:55.368Z"
   },
   {
    "duration": 0,
    "start_time": "2022-05-20T21:58:55.369Z"
   },
   {
    "duration": 0,
    "start_time": "2022-05-20T21:58:55.371Z"
   },
   {
    "duration": 0,
    "start_time": "2022-05-20T21:58:55.372Z"
   },
   {
    "duration": 0,
    "start_time": "2022-05-20T21:58:55.373Z"
   },
   {
    "duration": 1,
    "start_time": "2022-05-20T21:58:55.374Z"
   },
   {
    "duration": 0,
    "start_time": "2022-05-20T21:58:55.376Z"
   },
   {
    "duration": 0,
    "start_time": "2022-05-20T21:58:55.377Z"
   },
   {
    "duration": 0,
    "start_time": "2022-05-20T21:58:55.379Z"
   },
   {
    "duration": 0,
    "start_time": "2022-05-20T21:58:55.380Z"
   },
   {
    "duration": 0,
    "start_time": "2022-05-20T21:58:55.442Z"
   },
   {
    "duration": 0,
    "start_time": "2022-05-20T21:58:55.444Z"
   },
   {
    "duration": 0,
    "start_time": "2022-05-20T21:58:55.446Z"
   },
   {
    "duration": 0,
    "start_time": "2022-05-20T21:58:55.447Z"
   },
   {
    "duration": 0,
    "start_time": "2022-05-20T21:58:55.448Z"
   },
   {
    "duration": 0,
    "start_time": "2022-05-20T21:58:55.450Z"
   },
   {
    "duration": 0,
    "start_time": "2022-05-20T21:58:55.451Z"
   },
   {
    "duration": 0,
    "start_time": "2022-05-20T21:58:55.452Z"
   },
   {
    "duration": 0,
    "start_time": "2022-05-20T21:58:55.453Z"
   },
   {
    "duration": 0,
    "start_time": "2022-05-20T21:58:55.454Z"
   },
   {
    "duration": 0,
    "start_time": "2022-05-20T21:58:55.455Z"
   },
   {
    "duration": 0,
    "start_time": "2022-05-20T21:58:55.456Z"
   },
   {
    "duration": 0,
    "start_time": "2022-05-20T21:58:55.457Z"
   },
   {
    "duration": 0,
    "start_time": "2022-05-20T21:58:55.458Z"
   },
   {
    "duration": 0,
    "start_time": "2022-05-20T21:58:55.459Z"
   },
   {
    "duration": 0,
    "start_time": "2022-05-20T21:58:55.460Z"
   },
   {
    "duration": 0,
    "start_time": "2022-05-20T21:58:55.462Z"
   },
   {
    "duration": 0,
    "start_time": "2022-05-20T21:58:55.463Z"
   },
   {
    "duration": 0,
    "start_time": "2022-05-20T21:58:55.463Z"
   },
   {
    "duration": 0,
    "start_time": "2022-05-20T21:58:55.464Z"
   },
   {
    "duration": 0,
    "start_time": "2022-05-20T21:58:55.465Z"
   },
   {
    "duration": 0,
    "start_time": "2022-05-20T21:58:55.466Z"
   },
   {
    "duration": 0,
    "start_time": "2022-05-20T21:58:55.467Z"
   },
   {
    "duration": 0,
    "start_time": "2022-05-20T21:58:55.468Z"
   },
   {
    "duration": 0,
    "start_time": "2022-05-20T21:58:55.469Z"
   },
   {
    "duration": 0,
    "start_time": "2022-05-20T21:58:55.470Z"
   },
   {
    "duration": 0,
    "start_time": "2022-05-20T21:58:55.471Z"
   },
   {
    "duration": 69,
    "start_time": "2022-05-20T22:04:39.127Z"
   },
   {
    "duration": 63,
    "start_time": "2022-05-20T22:04:45.529Z"
   },
   {
    "duration": 9,
    "start_time": "2022-05-20T22:04:45.593Z"
   },
   {
    "duration": 28,
    "start_time": "2022-05-20T22:04:45.603Z"
   },
   {
    "duration": 21,
    "start_time": "2022-05-20T22:04:45.642Z"
   },
   {
    "duration": 5,
    "start_time": "2022-05-20T22:04:45.664Z"
   },
   {
    "duration": 396,
    "start_time": "2022-05-20T22:04:45.671Z"
   },
   {
    "duration": 6,
    "start_time": "2022-05-20T22:04:46.069Z"
   },
   {
    "duration": 5,
    "start_time": "2022-05-20T22:04:46.077Z"
   },
   {
    "duration": 3,
    "start_time": "2022-05-20T22:04:46.084Z"
   },
   {
    "duration": 4,
    "start_time": "2022-05-20T22:04:46.090Z"
   },
   {
    "duration": 4,
    "start_time": "2022-05-20T22:04:46.096Z"
   },
   {
    "duration": 18,
    "start_time": "2022-05-20T22:04:46.101Z"
   },
   {
    "duration": 5,
    "start_time": "2022-05-20T22:04:46.120Z"
   },
   {
    "duration": 31,
    "start_time": "2022-05-20T22:04:46.141Z"
   },
   {
    "duration": 5,
    "start_time": "2022-05-20T22:04:46.174Z"
   },
   {
    "duration": 12,
    "start_time": "2022-05-20T22:04:46.181Z"
   },
   {
    "duration": 5,
    "start_time": "2022-05-20T22:04:46.195Z"
   },
   {
    "duration": 40,
    "start_time": "2022-05-20T22:04:46.201Z"
   },
   {
    "duration": 14,
    "start_time": "2022-05-20T22:04:46.243Z"
   },
   {
    "duration": 14,
    "start_time": "2022-05-20T22:04:46.259Z"
   },
   {
    "duration": 4,
    "start_time": "2022-05-20T22:04:46.275Z"
   },
   {
    "duration": 6,
    "start_time": "2022-05-20T22:04:46.280Z"
   },
   {
    "duration": 9,
    "start_time": "2022-05-20T22:04:46.287Z"
   },
   {
    "duration": 5,
    "start_time": "2022-05-20T22:04:46.297Z"
   },
   {
    "duration": 8,
    "start_time": "2022-05-20T22:04:46.303Z"
   },
   {
    "duration": 4,
    "start_time": "2022-05-20T22:04:46.342Z"
   },
   {
    "duration": 4,
    "start_time": "2022-05-20T22:04:46.348Z"
   },
   {
    "duration": 2,
    "start_time": "2022-05-20T22:04:46.355Z"
   },
   {
    "duration": 8,
    "start_time": "2022-05-20T22:04:46.358Z"
   },
   {
    "duration": 6,
    "start_time": "2022-05-20T22:04:46.368Z"
   },
   {
    "duration": 7,
    "start_time": "2022-05-20T22:04:46.375Z"
   },
   {
    "duration": 6,
    "start_time": "2022-05-20T22:04:46.383Z"
   },
   {
    "duration": 6,
    "start_time": "2022-05-20T22:04:46.391Z"
   },
   {
    "duration": 4,
    "start_time": "2022-05-20T22:04:46.399Z"
   },
   {
    "duration": 38,
    "start_time": "2022-05-20T22:04:46.404Z"
   },
   {
    "duration": 7,
    "start_time": "2022-05-20T22:04:46.444Z"
   },
   {
    "duration": 6,
    "start_time": "2022-05-20T22:04:46.452Z"
   },
   {
    "duration": 6,
    "start_time": "2022-05-20T22:04:46.459Z"
   },
   {
    "duration": 21,
    "start_time": "2022-05-20T22:04:46.467Z"
   },
   {
    "duration": 3,
    "start_time": "2022-05-20T22:04:46.489Z"
   },
   {
    "duration": 5,
    "start_time": "2022-05-20T22:04:46.493Z"
   },
   {
    "duration": 5,
    "start_time": "2022-05-20T22:04:46.499Z"
   },
   {
    "duration": 5,
    "start_time": "2022-05-20T22:04:46.505Z"
   },
   {
    "duration": 29,
    "start_time": "2022-05-20T22:04:46.512Z"
   },
   {
    "duration": 5,
    "start_time": "2022-05-20T22:04:46.543Z"
   },
   {
    "duration": 13,
    "start_time": "2022-05-20T22:04:46.550Z"
   },
   {
    "duration": 7,
    "start_time": "2022-05-20T22:04:46.565Z"
   },
   {
    "duration": 23,
    "start_time": "2022-05-20T22:04:46.574Z"
   },
   {
    "duration": 5,
    "start_time": "2022-05-20T22:04:46.599Z"
   },
   {
    "duration": 38,
    "start_time": "2022-05-20T22:04:46.606Z"
   },
   {
    "duration": 6,
    "start_time": "2022-05-20T22:04:46.646Z"
   },
   {
    "duration": 6,
    "start_time": "2022-05-20T22:04:46.654Z"
   },
   {
    "duration": 5,
    "start_time": "2022-05-20T22:04:46.661Z"
   },
   {
    "duration": 8,
    "start_time": "2022-05-20T22:04:46.667Z"
   },
   {
    "duration": 2,
    "start_time": "2022-05-20T22:04:46.676Z"
   },
   {
    "duration": 3,
    "start_time": "2022-05-20T22:04:46.680Z"
   },
   {
    "duration": 5,
    "start_time": "2022-05-20T22:04:46.684Z"
   },
   {
    "duration": 4,
    "start_time": "2022-05-20T22:04:46.690Z"
   },
   {
    "duration": 5,
    "start_time": "2022-05-20T22:04:46.695Z"
   },
   {
    "duration": 42,
    "start_time": "2022-05-20T22:04:46.701Z"
   },
   {
    "duration": 11,
    "start_time": "2022-05-20T22:04:46.744Z"
   },
   {
    "duration": 4,
    "start_time": "2022-05-20T22:04:46.757Z"
   },
   {
    "duration": 6,
    "start_time": "2022-05-20T22:04:46.762Z"
   },
   {
    "duration": 4,
    "start_time": "2022-05-20T22:04:46.770Z"
   },
   {
    "duration": 3,
    "start_time": "2022-05-20T22:04:46.776Z"
   },
   {
    "duration": 5,
    "start_time": "2022-05-20T22:04:46.780Z"
   },
   {
    "duration": 4,
    "start_time": "2022-05-20T22:04:46.787Z"
   },
   {
    "duration": 6,
    "start_time": "2022-05-20T22:04:46.793Z"
   },
   {
    "duration": 4,
    "start_time": "2022-05-20T22:04:46.801Z"
   },
   {
    "duration": 4,
    "start_time": "2022-05-20T22:04:46.806Z"
   },
   {
    "duration": 30,
    "start_time": "2022-05-20T22:04:46.812Z"
   },
   {
    "duration": 13,
    "start_time": "2022-05-20T22:04:46.845Z"
   },
   {
    "duration": 5,
    "start_time": "2022-05-20T22:04:46.861Z"
   },
   {
    "duration": 3,
    "start_time": "2022-05-20T22:04:46.869Z"
   },
   {
    "duration": 18,
    "start_time": "2022-05-20T22:04:46.874Z"
   },
   {
    "duration": 6,
    "start_time": "2022-05-20T22:04:46.894Z"
   },
   {
    "duration": 7,
    "start_time": "2022-05-20T22:04:46.901Z"
   },
   {
    "duration": 10,
    "start_time": "2022-05-20T22:04:46.910Z"
   },
   {
    "duration": 10,
    "start_time": "2022-05-20T22:04:46.922Z"
   },
   {
    "duration": 7,
    "start_time": "2022-05-20T22:04:46.934Z"
   },
   {
    "duration": 6,
    "start_time": "2022-05-20T22:35:33.685Z"
   },
   {
    "duration": 3,
    "start_time": "2022-05-20T22:40:04.147Z"
   },
   {
    "duration": 7,
    "start_time": "2022-05-20T22:41:15.583Z"
   },
   {
    "duration": 3,
    "start_time": "2022-05-20T22:41:52.576Z"
   },
   {
    "duration": 5,
    "start_time": "2022-05-20T22:47:25.289Z"
   },
   {
    "duration": 15,
    "start_time": "2022-05-20T22:47:46.026Z"
   },
   {
    "duration": 16,
    "start_time": "2022-05-20T22:49:14.311Z"
   },
   {
    "duration": 5,
    "start_time": "2022-05-20T22:49:43.757Z"
   },
   {
    "duration": 33,
    "start_time": "2022-05-20T22:49:49.178Z"
   },
   {
    "duration": 68,
    "start_time": "2022-05-20T22:50:06.933Z"
   },
   {
    "duration": 3,
    "start_time": "2022-05-20T22:50:07.003Z"
   },
   {
    "duration": 18,
    "start_time": "2022-05-20T22:50:07.008Z"
   },
   {
    "duration": 19,
    "start_time": "2022-05-20T22:50:07.027Z"
   },
   {
    "duration": 3,
    "start_time": "2022-05-20T22:50:07.048Z"
   },
   {
    "duration": 12,
    "start_time": "2022-05-20T22:50:07.053Z"
   },
   {
    "duration": 6,
    "start_time": "2022-05-20T22:50:07.067Z"
   },
   {
    "duration": 8,
    "start_time": "2022-05-20T22:50:07.074Z"
   },
   {
    "duration": 15,
    "start_time": "2022-05-20T22:50:07.083Z"
   },
   {
    "duration": 41,
    "start_time": "2022-05-20T22:50:07.100Z"
   },
   {
    "duration": 5,
    "start_time": "2022-05-20T22:50:07.143Z"
   },
   {
    "duration": 31,
    "start_time": "2022-05-20T22:50:07.149Z"
   },
   {
    "duration": 4,
    "start_time": "2022-05-20T22:50:07.182Z"
   },
   {
    "duration": 18,
    "start_time": "2022-05-20T22:50:07.188Z"
   },
   {
    "duration": 36,
    "start_time": "2022-05-20T22:50:07.208Z"
   },
   {
    "duration": 7,
    "start_time": "2022-05-20T22:50:07.246Z"
   },
   {
    "duration": 11,
    "start_time": "2022-05-20T22:50:07.255Z"
   },
   {
    "duration": 14,
    "start_time": "2022-05-20T22:50:07.268Z"
   },
   {
    "duration": 10,
    "start_time": "2022-05-20T22:50:07.283Z"
   },
   {
    "duration": 6,
    "start_time": "2022-05-20T22:50:07.294Z"
   },
   {
    "duration": 3,
    "start_time": "2022-05-20T22:50:07.302Z"
   },
   {
    "duration": 36,
    "start_time": "2022-05-20T22:50:07.306Z"
   },
   {
    "duration": 9,
    "start_time": "2022-05-20T22:50:07.344Z"
   },
   {
    "duration": 6,
    "start_time": "2022-05-20T22:50:07.354Z"
   },
   {
    "duration": 5,
    "start_time": "2022-05-20T22:50:07.361Z"
   },
   {
    "duration": 4,
    "start_time": "2022-05-20T22:50:07.367Z"
   },
   {
    "duration": 7,
    "start_time": "2022-05-20T22:50:07.372Z"
   },
   {
    "duration": 9,
    "start_time": "2022-05-20T22:50:07.382Z"
   },
   {
    "duration": 8,
    "start_time": "2022-05-20T22:50:07.392Z"
   },
   {
    "duration": 8,
    "start_time": "2022-05-20T22:50:07.401Z"
   },
   {
    "duration": 7,
    "start_time": "2022-05-20T22:50:07.410Z"
   },
   {
    "duration": 23,
    "start_time": "2022-05-20T22:50:07.418Z"
   },
   {
    "duration": 4,
    "start_time": "2022-05-20T22:50:07.443Z"
   },
   {
    "duration": 7,
    "start_time": "2022-05-20T22:50:07.448Z"
   },
   {
    "duration": 9,
    "start_time": "2022-05-20T22:50:07.457Z"
   },
   {
    "duration": 5,
    "start_time": "2022-05-20T22:50:07.467Z"
   },
   {
    "duration": 32,
    "start_time": "2022-05-20T22:50:07.473Z"
   },
   {
    "duration": 2,
    "start_time": "2022-05-20T22:50:07.507Z"
   },
   {
    "duration": 8,
    "start_time": "2022-05-20T22:50:07.511Z"
   },
   {
    "duration": 4,
    "start_time": "2022-05-20T22:50:07.520Z"
   },
   {
    "duration": 4,
    "start_time": "2022-05-20T22:50:07.526Z"
   },
   {
    "duration": 4,
    "start_time": "2022-05-20T22:50:07.540Z"
   },
   {
    "duration": 4,
    "start_time": "2022-05-20T22:50:07.545Z"
   },
   {
    "duration": 14,
    "start_time": "2022-05-20T22:50:07.551Z"
   },
   {
    "duration": 5,
    "start_time": "2022-05-20T22:50:07.567Z"
   },
   {
    "duration": 20,
    "start_time": "2022-05-20T22:50:07.574Z"
   },
   {
    "duration": 4,
    "start_time": "2022-05-20T22:50:07.597Z"
   },
   {
    "duration": 40,
    "start_time": "2022-05-20T22:50:07.603Z"
   },
   {
    "duration": 6,
    "start_time": "2022-05-20T22:50:07.645Z"
   },
   {
    "duration": 5,
    "start_time": "2022-05-20T22:50:07.652Z"
   },
   {
    "duration": 5,
    "start_time": "2022-05-20T22:50:07.658Z"
   },
   {
    "duration": 6,
    "start_time": "2022-05-20T22:50:07.664Z"
   },
   {
    "duration": 3,
    "start_time": "2022-05-20T22:50:07.671Z"
   },
   {
    "duration": 11,
    "start_time": "2022-05-20T22:50:07.676Z"
   },
   {
    "duration": 12,
    "start_time": "2022-05-20T22:50:07.689Z"
   },
   {
    "duration": 10,
    "start_time": "2022-05-20T22:50:07.702Z"
   },
   {
    "duration": 7,
    "start_time": "2022-05-20T22:50:07.714Z"
   },
   {
    "duration": 22,
    "start_time": "2022-05-20T22:50:07.722Z"
   },
   {
    "duration": 4,
    "start_time": "2022-05-20T22:50:07.745Z"
   },
   {
    "duration": 5,
    "start_time": "2022-05-20T22:50:07.750Z"
   },
   {
    "duration": 5,
    "start_time": "2022-05-20T22:50:07.756Z"
   },
   {
    "duration": 7,
    "start_time": "2022-05-20T22:50:07.762Z"
   },
   {
    "duration": 3,
    "start_time": "2022-05-20T22:50:07.771Z"
   },
   {
    "duration": 6,
    "start_time": "2022-05-20T22:50:07.776Z"
   },
   {
    "duration": 12,
    "start_time": "2022-05-20T22:50:07.783Z"
   },
   {
    "duration": 6,
    "start_time": "2022-05-20T22:50:07.796Z"
   },
   {
    "duration": 5,
    "start_time": "2022-05-20T22:50:07.803Z"
   },
   {
    "duration": 8,
    "start_time": "2022-05-20T22:50:07.809Z"
   },
   {
    "duration": 5,
    "start_time": "2022-05-20T22:50:07.819Z"
   },
   {
    "duration": 11,
    "start_time": "2022-05-20T22:50:07.825Z"
   },
   {
    "duration": 7,
    "start_time": "2022-05-20T22:50:07.838Z"
   },
   {
    "duration": 6,
    "start_time": "2022-05-20T22:50:07.846Z"
   },
   {
    "duration": 4,
    "start_time": "2022-05-20T22:50:07.854Z"
   },
   {
    "duration": 9,
    "start_time": "2022-05-20T22:50:07.859Z"
   },
   {
    "duration": 7,
    "start_time": "2022-05-20T22:50:07.869Z"
   },
   {
    "duration": 7,
    "start_time": "2022-05-20T22:50:07.877Z"
   },
   {
    "duration": 14,
    "start_time": "2022-05-20T22:50:07.886Z"
   },
   {
    "duration": 5,
    "start_time": "2022-05-20T22:50:07.902Z"
   },
   {
    "duration": 23,
    "start_time": "2022-05-20T22:50:50.980Z"
   },
   {
    "duration": 17,
    "start_time": "2022-05-20T22:51:03.332Z"
   },
   {
    "duration": 16,
    "start_time": "2022-05-20T22:51:08.284Z"
   },
   {
    "duration": 41,
    "start_time": "2022-05-20T22:53:09.856Z"
   },
   {
    "duration": 32,
    "start_time": "2022-05-20T22:53:58.120Z"
   },
   {
    "duration": 17,
    "start_time": "2022-05-20T22:54:22.460Z"
   },
   {
    "duration": 7,
    "start_time": "2022-05-20T23:03:55.750Z"
   },
   {
    "duration": 6,
    "start_time": "2022-05-20T23:04:32.069Z"
   },
   {
    "duration": 15,
    "start_time": "2022-05-20T23:04:36.675Z"
   },
   {
    "duration": 16,
    "start_time": "2022-05-20T23:05:04.832Z"
   },
   {
    "duration": 5,
    "start_time": "2022-05-20T23:05:17.504Z"
   },
   {
    "duration": 6,
    "start_time": "2022-05-20T23:05:21.392Z"
   },
   {
    "duration": 34,
    "start_time": "2022-05-20T23:05:26.748Z"
   },
   {
    "duration": 21,
    "start_time": "2022-05-20T23:05:28.147Z"
   },
   {
    "duration": 34,
    "start_time": "2022-05-20T23:05:37.947Z"
   },
   {
    "duration": 76,
    "start_time": "2022-05-20T23:05:45.184Z"
   },
   {
    "duration": 4,
    "start_time": "2022-05-20T23:05:45.262Z"
   },
   {
    "duration": 18,
    "start_time": "2022-05-20T23:05:45.268Z"
   },
   {
    "duration": 19,
    "start_time": "2022-05-20T23:05:45.288Z"
   },
   {
    "duration": 4,
    "start_time": "2022-05-20T23:05:45.309Z"
   },
   {
    "duration": 37,
    "start_time": "2022-05-20T23:05:45.315Z"
   },
   {
    "duration": 7,
    "start_time": "2022-05-20T23:05:45.355Z"
   },
   {
    "duration": 7,
    "start_time": "2022-05-20T23:05:45.363Z"
   },
   {
    "duration": 17,
    "start_time": "2022-05-20T23:05:45.372Z"
   },
   {
    "duration": 49,
    "start_time": "2022-05-20T23:05:45.392Z"
   },
   {
    "duration": 6,
    "start_time": "2022-05-20T23:05:45.443Z"
   },
   {
    "duration": 38,
    "start_time": "2022-05-20T23:05:45.450Z"
   },
   {
    "duration": 18,
    "start_time": "2022-05-20T23:05:45.490Z"
   },
   {
    "duration": 35,
    "start_time": "2022-05-20T23:05:45.509Z"
   },
   {
    "duration": 15,
    "start_time": "2022-05-20T23:05:45.545Z"
   },
   {
    "duration": 20,
    "start_time": "2022-05-20T23:05:45.562Z"
   },
   {
    "duration": 58,
    "start_time": "2022-05-20T23:05:45.584Z"
   },
   {
    "duration": 4,
    "start_time": "2022-05-20T23:05:45.645Z"
   },
   {
    "duration": 7,
    "start_time": "2022-05-20T23:05:45.651Z"
   },
   {
    "duration": 19,
    "start_time": "2022-05-20T23:05:45.660Z"
   },
   {
    "duration": 18,
    "start_time": "2022-05-20T23:05:45.681Z"
   },
   {
    "duration": 5,
    "start_time": "2022-05-20T23:05:45.700Z"
   },
   {
    "duration": 35,
    "start_time": "2022-05-20T23:05:45.707Z"
   },
   {
    "duration": 2,
    "start_time": "2022-05-20T23:05:45.744Z"
   },
   {
    "duration": 6,
    "start_time": "2022-05-20T23:05:45.747Z"
   },
   {
    "duration": 7,
    "start_time": "2022-05-20T23:05:45.754Z"
   },
   {
    "duration": 5,
    "start_time": "2022-05-20T23:05:45.763Z"
   },
   {
    "duration": 3,
    "start_time": "2022-05-20T23:05:45.772Z"
   },
   {
    "duration": 4,
    "start_time": "2022-05-20T23:05:45.776Z"
   },
   {
    "duration": 7,
    "start_time": "2022-05-20T23:05:45.782Z"
   },
   {
    "duration": 5,
    "start_time": "2022-05-20T23:05:45.791Z"
   },
   {
    "duration": 42,
    "start_time": "2022-05-20T23:05:45.798Z"
   },
   {
    "duration": 6,
    "start_time": "2022-05-20T23:05:45.842Z"
   },
   {
    "duration": 10,
    "start_time": "2022-05-20T23:05:45.849Z"
   },
   {
    "duration": 9,
    "start_time": "2022-05-20T23:05:45.861Z"
   },
   {
    "duration": 10,
    "start_time": "2022-05-20T23:05:45.872Z"
   },
   {
    "duration": 12,
    "start_time": "2022-05-20T23:05:45.884Z"
   },
   {
    "duration": 6,
    "start_time": "2022-05-20T23:05:45.898Z"
   },
   {
    "duration": 4,
    "start_time": "2022-05-20T23:05:45.906Z"
   },
   {
    "duration": 37,
    "start_time": "2022-05-20T23:05:45.911Z"
   },
   {
    "duration": 3,
    "start_time": "2022-05-20T23:05:45.949Z"
   },
   {
    "duration": 10,
    "start_time": "2022-05-20T23:05:45.954Z"
   },
   {
    "duration": 8,
    "start_time": "2022-05-20T23:05:45.966Z"
   },
   {
    "duration": 7,
    "start_time": "2022-05-20T23:05:45.976Z"
   },
   {
    "duration": 6,
    "start_time": "2022-05-20T23:05:45.985Z"
   },
   {
    "duration": 6,
    "start_time": "2022-05-20T23:05:45.993Z"
   },
   {
    "duration": 24,
    "start_time": "2022-05-20T23:05:46.001Z"
   },
   {
    "duration": 7,
    "start_time": "2022-05-20T23:05:46.040Z"
   },
   {
    "duration": 35,
    "start_time": "2022-05-20T23:05:46.049Z"
   },
   {
    "duration": 5,
    "start_time": "2022-05-20T23:05:46.086Z"
   },
   {
    "duration": 6,
    "start_time": "2022-05-20T23:05:46.093Z"
   },
   {
    "duration": 6,
    "start_time": "2022-05-20T23:05:46.100Z"
   },
   {
    "duration": 35,
    "start_time": "2022-05-20T23:05:46.107Z"
   },
   {
    "duration": 5,
    "start_time": "2022-05-20T23:05:46.144Z"
   },
   {
    "duration": 13,
    "start_time": "2022-05-20T23:05:46.150Z"
   },
   {
    "duration": 7,
    "start_time": "2022-05-20T23:05:46.165Z"
   },
   {
    "duration": 7,
    "start_time": "2022-05-20T23:05:46.175Z"
   },
   {
    "duration": 6,
    "start_time": "2022-05-20T23:05:46.184Z"
   },
   {
    "duration": 7,
    "start_time": "2022-05-20T23:05:46.192Z"
   },
   {
    "duration": 5,
    "start_time": "2022-05-20T23:05:46.201Z"
   },
   {
    "duration": 6,
    "start_time": "2022-05-20T23:05:46.208Z"
   },
   {
    "duration": 25,
    "start_time": "2022-05-20T23:05:46.216Z"
   },
   {
    "duration": 2,
    "start_time": "2022-05-20T23:05:46.243Z"
   },
   {
    "duration": 7,
    "start_time": "2022-05-20T23:05:46.248Z"
   },
   {
    "duration": 4,
    "start_time": "2022-05-20T23:05:46.258Z"
   },
   {
    "duration": 4,
    "start_time": "2022-05-20T23:05:46.265Z"
   },
   {
    "duration": 7,
    "start_time": "2022-05-20T23:05:46.271Z"
   },
   {
    "duration": 4,
    "start_time": "2022-05-20T23:05:46.280Z"
   },
   {
    "duration": 4,
    "start_time": "2022-05-20T23:05:46.286Z"
   },
   {
    "duration": 6,
    "start_time": "2022-05-20T23:05:46.292Z"
   },
   {
    "duration": 4,
    "start_time": "2022-05-20T23:05:46.299Z"
   },
   {
    "duration": 4,
    "start_time": "2022-05-20T23:05:46.305Z"
   },
   {
    "duration": 5,
    "start_time": "2022-05-20T23:05:46.311Z"
   },
   {
    "duration": 25,
    "start_time": "2022-05-20T23:05:46.317Z"
   },
   {
    "duration": 11,
    "start_time": "2022-05-20T23:05:46.343Z"
   },
   {
    "duration": 4,
    "start_time": "2022-05-20T23:05:46.356Z"
   },
   {
    "duration": 7,
    "start_time": "2022-05-20T23:05:46.362Z"
   },
   {
    "duration": 9,
    "start_time": "2022-05-20T23:05:46.370Z"
   },
   {
    "duration": 9,
    "start_time": "2022-05-20T23:05:46.380Z"
   },
   {
    "duration": 6,
    "start_time": "2022-05-20T23:05:46.390Z"
   },
   {
    "duration": 5,
    "start_time": "2022-05-20T23:05:46.398Z"
   },
   {
    "duration": 7,
    "start_time": "2022-05-20T23:06:54.546Z"
   },
   {
    "duration": 7,
    "start_time": "2022-05-20T23:06:58.468Z"
   },
   {
    "duration": 15,
    "start_time": "2022-05-20T23:07:00.515Z"
   },
   {
    "duration": 22,
    "start_time": "2022-05-20T23:07:05.048Z"
   },
   {
    "duration": 8,
    "start_time": "2022-05-20T23:07:13.084Z"
   },
   {
    "duration": 44,
    "start_time": "2022-05-20T23:07:16.852Z"
   },
   {
    "duration": 17,
    "start_time": "2022-05-20T23:07:21.317Z"
   },
   {
    "duration": 5,
    "start_time": "2022-05-20T23:07:23.295Z"
   },
   {
    "duration": 12,
    "start_time": "2022-05-20T23:07:23.975Z"
   },
   {
    "duration": 23,
    "start_time": "2022-05-20T23:07:25.149Z"
   },
   {
    "duration": 32,
    "start_time": "2022-05-20T23:07:27.316Z"
   },
   {
    "duration": 19,
    "start_time": "2022-05-20T23:08:02.463Z"
   },
   {
    "duration": 65,
    "start_time": "2022-05-20T23:14:51.373Z"
   },
   {
    "duration": 5,
    "start_time": "2022-05-20T23:14:51.440Z"
   },
   {
    "duration": 26,
    "start_time": "2022-05-20T23:14:51.446Z"
   },
   {
    "duration": 24,
    "start_time": "2022-05-20T23:14:51.475Z"
   },
   {
    "duration": 4,
    "start_time": "2022-05-20T23:14:51.501Z"
   },
   {
    "duration": 36,
    "start_time": "2022-05-20T23:14:51.507Z"
   },
   {
    "duration": 9,
    "start_time": "2022-05-20T23:14:51.545Z"
   },
   {
    "duration": 6,
    "start_time": "2022-05-20T23:14:51.556Z"
   },
   {
    "duration": 18,
    "start_time": "2022-05-20T23:14:51.564Z"
   },
   {
    "duration": 14,
    "start_time": "2022-05-20T23:14:51.584Z"
   },
   {
    "duration": 44,
    "start_time": "2022-05-20T23:14:51.600Z"
   },
   {
    "duration": 34,
    "start_time": "2022-05-20T23:14:51.645Z"
   },
   {
    "duration": 16,
    "start_time": "2022-05-20T23:14:51.681Z"
   },
   {
    "duration": 5,
    "start_time": "2022-05-20T23:14:51.698Z"
   },
   {
    "duration": 12,
    "start_time": "2022-05-20T23:14:51.741Z"
   },
   {
    "duration": 30,
    "start_time": "2022-05-20T23:14:51.754Z"
   },
   {
    "duration": 31,
    "start_time": "2022-05-20T23:14:51.786Z"
   },
   {
    "duration": 35,
    "start_time": "2022-05-20T23:14:51.819Z"
   },
   {
    "duration": 4,
    "start_time": "2022-05-20T23:14:51.855Z"
   },
   {
    "duration": 7,
    "start_time": "2022-05-20T23:14:51.861Z"
   },
   {
    "duration": 12,
    "start_time": "2022-05-20T23:14:51.869Z"
   },
   {
    "duration": 14,
    "start_time": "2022-05-20T23:14:51.882Z"
   },
   {
    "duration": 4,
    "start_time": "2022-05-20T23:14:51.897Z"
   },
   {
    "duration": 41,
    "start_time": "2022-05-20T23:14:51.902Z"
   },
   {
    "duration": 2,
    "start_time": "2022-05-20T23:14:51.945Z"
   },
   {
    "duration": 5,
    "start_time": "2022-05-20T23:14:51.948Z"
   },
   {
    "duration": 6,
    "start_time": "2022-05-20T23:14:51.954Z"
   },
   {
    "duration": 5,
    "start_time": "2022-05-20T23:14:51.964Z"
   },
   {
    "duration": 4,
    "start_time": "2022-05-20T23:14:51.971Z"
   },
   {
    "duration": 6,
    "start_time": "2022-05-20T23:14:51.976Z"
   },
   {
    "duration": 8,
    "start_time": "2022-05-20T23:14:51.984Z"
   },
   {
    "duration": 7,
    "start_time": "2022-05-20T23:14:51.993Z"
   },
   {
    "duration": 40,
    "start_time": "2022-05-20T23:14:52.001Z"
   },
   {
    "duration": 11,
    "start_time": "2022-05-20T23:14:52.043Z"
   },
   {
    "duration": 9,
    "start_time": "2022-05-20T23:14:52.056Z"
   },
   {
    "duration": 4,
    "start_time": "2022-05-20T23:14:52.067Z"
   },
   {
    "duration": 4,
    "start_time": "2022-05-20T23:14:52.073Z"
   },
   {
    "duration": 12,
    "start_time": "2022-05-20T23:14:52.079Z"
   },
   {
    "duration": 10,
    "start_time": "2022-05-20T23:14:52.093Z"
   },
   {
    "duration": 4,
    "start_time": "2022-05-20T23:14:52.104Z"
   },
   {
    "duration": 44,
    "start_time": "2022-05-20T23:14:52.109Z"
   },
   {
    "duration": 3,
    "start_time": "2022-05-20T23:14:52.155Z"
   },
   {
    "duration": 9,
    "start_time": "2022-05-20T23:14:52.160Z"
   },
   {
    "duration": 6,
    "start_time": "2022-05-20T23:14:52.170Z"
   },
   {
    "duration": 6,
    "start_time": "2022-05-20T23:14:52.177Z"
   },
   {
    "duration": 9,
    "start_time": "2022-05-20T23:14:52.184Z"
   },
   {
    "duration": 8,
    "start_time": "2022-05-20T23:14:52.195Z"
   },
   {
    "duration": 36,
    "start_time": "2022-05-20T23:14:52.205Z"
   },
   {
    "duration": 6,
    "start_time": "2022-05-20T23:14:52.243Z"
   },
   {
    "duration": 24,
    "start_time": "2022-05-20T23:14:52.250Z"
   },
   {
    "duration": 5,
    "start_time": "2022-05-20T23:14:52.275Z"
   },
   {
    "duration": 7,
    "start_time": "2022-05-20T23:14:52.281Z"
   },
   {
    "duration": 8,
    "start_time": "2022-05-20T23:14:52.289Z"
   },
   {
    "duration": 5,
    "start_time": "2022-05-20T23:14:52.299Z"
   },
   {
    "duration": 10,
    "start_time": "2022-05-20T23:14:52.340Z"
   },
   {
    "duration": 12,
    "start_time": "2022-05-20T23:14:52.352Z"
   },
   {
    "duration": 4,
    "start_time": "2022-05-20T23:14:52.365Z"
   },
   {
    "duration": 5,
    "start_time": "2022-05-20T23:14:52.370Z"
   },
   {
    "duration": 8,
    "start_time": "2022-05-20T23:14:52.377Z"
   },
   {
    "duration": 4,
    "start_time": "2022-05-20T23:14:52.387Z"
   },
   {
    "duration": 5,
    "start_time": "2022-05-20T23:14:52.393Z"
   },
   {
    "duration": 9,
    "start_time": "2022-05-20T23:14:52.399Z"
   },
   {
    "duration": 4,
    "start_time": "2022-05-20T23:14:52.409Z"
   },
   {
    "duration": 7,
    "start_time": "2022-05-20T23:14:52.442Z"
   },
   {
    "duration": 6,
    "start_time": "2022-05-20T23:14:52.452Z"
   },
   {
    "duration": 4,
    "start_time": "2022-05-20T23:14:52.460Z"
   },
   {
    "duration": 3,
    "start_time": "2022-05-20T23:14:52.466Z"
   },
   {
    "duration": 3,
    "start_time": "2022-05-20T23:14:52.471Z"
   },
   {
    "duration": 4,
    "start_time": "2022-05-20T23:14:52.476Z"
   },
   {
    "duration": 7,
    "start_time": "2022-05-20T23:14:52.481Z"
   },
   {
    "duration": 4,
    "start_time": "2022-05-20T23:14:52.490Z"
   },
   {
    "duration": 9,
    "start_time": "2022-05-20T23:14:52.496Z"
   },
   {
    "duration": 4,
    "start_time": "2022-05-20T23:14:52.506Z"
   },
   {
    "duration": 2,
    "start_time": "2022-05-20T23:14:52.542Z"
   },
   {
    "duration": 6,
    "start_time": "2022-05-20T23:14:52.545Z"
   },
   {
    "duration": 5,
    "start_time": "2022-05-20T23:14:52.552Z"
   },
   {
    "duration": 5,
    "start_time": "2022-05-20T23:14:52.558Z"
   },
   {
    "duration": 6,
    "start_time": "2022-05-20T23:14:52.565Z"
   },
   {
    "duration": 4,
    "start_time": "2022-05-20T23:14:52.572Z"
   },
   {
    "duration": 10,
    "start_time": "2022-05-20T23:14:52.578Z"
   },
   {
    "duration": 5,
    "start_time": "2022-05-20T23:14:52.590Z"
   },
   {
    "duration": 3,
    "start_time": "2022-05-20T23:14:52.600Z"
   },
   {
    "duration": 108,
    "start_time": "2022-05-20T23:17:31.265Z"
   },
   {
    "duration": 33,
    "start_time": "2022-05-20T23:18:07.679Z"
   },
   {
    "duration": 32,
    "start_time": "2022-05-20T23:20:18.457Z"
   },
   {
    "duration": 35,
    "start_time": "2022-05-20T23:20:30.628Z"
   },
   {
    "duration": 34,
    "start_time": "2022-05-20T23:22:48.224Z"
   },
   {
    "duration": 19,
    "start_time": "2022-05-20T23:22:58.320Z"
   },
   {
    "duration": 17,
    "start_time": "2022-05-20T23:24:18.675Z"
   },
   {
    "duration": 28,
    "start_time": "2022-05-20T23:24:37.633Z"
   },
   {
    "duration": 21,
    "start_time": "2022-05-20T23:24:45.606Z"
   },
   {
    "duration": 18,
    "start_time": "2022-05-20T23:24:47.780Z"
   },
   {
    "duration": 15,
    "start_time": "2022-05-20T23:26:10.017Z"
   },
   {
    "duration": 7,
    "start_time": "2022-05-20T23:26:23.770Z"
   },
   {
    "duration": 4,
    "start_time": "2022-05-20T23:27:10.278Z"
   },
   {
    "duration": 7,
    "start_time": "2022-05-20T23:27:46.949Z"
   },
   {
    "duration": 4,
    "start_time": "2022-05-20T23:27:59.926Z"
   },
   {
    "duration": 5,
    "start_time": "2022-05-20T23:29:39.610Z"
   },
   {
    "duration": 3,
    "start_time": "2022-05-20T23:30:42.815Z"
   },
   {
    "duration": 10,
    "start_time": "2022-05-20T23:30:53.664Z"
   },
   {
    "duration": 7,
    "start_time": "2022-05-20T23:30:58.474Z"
   },
   {
    "duration": 5,
    "start_time": "2022-05-20T23:31:10.416Z"
   },
   {
    "duration": 154,
    "start_time": "2022-05-20T23:31:15.132Z"
   },
   {
    "duration": 5,
    "start_time": "2022-05-20T23:31:25.911Z"
   },
   {
    "duration": 5,
    "start_time": "2022-05-20T23:32:24.696Z"
   },
   {
    "duration": 5,
    "start_time": "2022-05-20T23:32:36.331Z"
   },
   {
    "duration": 5,
    "start_time": "2022-05-20T23:34:59.152Z"
   },
   {
    "duration": 5,
    "start_time": "2022-05-20T23:35:50.612Z"
   },
   {
    "duration": 6,
    "start_time": "2022-05-20T23:36:11.447Z"
   },
   {
    "duration": 4,
    "start_time": "2022-05-20T23:36:26.852Z"
   },
   {
    "duration": 7,
    "start_time": "2022-05-20T23:36:41.250Z"
   },
   {
    "duration": 12,
    "start_time": "2022-05-20T23:38:52.021Z"
   },
   {
    "duration": 18,
    "start_time": "2022-05-20T23:39:17.567Z"
   },
   {
    "duration": 65,
    "start_time": "2022-05-20T23:39:27.261Z"
   },
   {
    "duration": 3,
    "start_time": "2022-05-20T23:39:27.328Z"
   },
   {
    "duration": 14,
    "start_time": "2022-05-20T23:39:27.333Z"
   },
   {
    "duration": 16,
    "start_time": "2022-05-20T23:39:27.349Z"
   },
   {
    "duration": 4,
    "start_time": "2022-05-20T23:39:27.366Z"
   },
   {
    "duration": 16,
    "start_time": "2022-05-20T23:39:27.371Z"
   },
   {
    "duration": 6,
    "start_time": "2022-05-20T23:39:27.389Z"
   },
   {
    "duration": 6,
    "start_time": "2022-05-20T23:39:27.397Z"
   },
   {
    "duration": 36,
    "start_time": "2022-05-20T23:39:27.405Z"
   },
   {
    "duration": 14,
    "start_time": "2022-05-20T23:39:27.444Z"
   },
   {
    "duration": 4,
    "start_time": "2022-05-20T23:39:27.459Z"
   },
   {
    "duration": 31,
    "start_time": "2022-05-20T23:39:27.465Z"
   },
   {
    "duration": 47,
    "start_time": "2022-05-20T23:39:27.497Z"
   },
   {
    "duration": 5,
    "start_time": "2022-05-20T23:39:27.545Z"
   },
   {
    "duration": 13,
    "start_time": "2022-05-20T23:39:27.551Z"
   },
   {
    "duration": 15,
    "start_time": "2022-05-20T23:39:27.566Z"
   },
   {
    "duration": 28,
    "start_time": "2022-05-20T23:39:27.582Z"
   },
   {
    "duration": 43,
    "start_time": "2022-05-20T23:39:27.612Z"
   },
   {
    "duration": 16,
    "start_time": "2022-05-20T23:39:27.657Z"
   },
   {
    "duration": 5,
    "start_time": "2022-05-20T23:39:27.675Z"
   },
   {
    "duration": 6,
    "start_time": "2022-05-20T23:39:27.681Z"
   },
   {
    "duration": 8,
    "start_time": "2022-05-20T23:39:27.688Z"
   },
   {
    "duration": 6,
    "start_time": "2022-05-20T23:39:27.697Z"
   },
   {
    "duration": 47,
    "start_time": "2022-05-20T23:39:27.704Z"
   },
   {
    "duration": 9,
    "start_time": "2022-05-20T23:39:27.753Z"
   },
   {
    "duration": 13,
    "start_time": "2022-05-20T23:39:27.764Z"
   },
   {
    "duration": 3,
    "start_time": "2022-05-20T23:39:27.779Z"
   },
   {
    "duration": 4,
    "start_time": "2022-05-20T23:39:27.786Z"
   },
   {
    "duration": 4,
    "start_time": "2022-05-20T23:39:27.791Z"
   },
   {
    "duration": 5,
    "start_time": "2022-05-20T23:39:27.796Z"
   },
   {
    "duration": 39,
    "start_time": "2022-05-20T23:39:27.803Z"
   },
   {
    "duration": 4,
    "start_time": "2022-05-20T23:39:27.844Z"
   },
   {
    "duration": 7,
    "start_time": "2022-05-20T23:39:27.849Z"
   },
   {
    "duration": 4,
    "start_time": "2022-05-20T23:39:27.858Z"
   },
   {
    "duration": 6,
    "start_time": "2022-05-20T23:39:27.863Z"
   },
   {
    "duration": 5,
    "start_time": "2022-05-20T23:39:27.871Z"
   },
   {
    "duration": 3,
    "start_time": "2022-05-20T23:39:27.877Z"
   },
   {
    "duration": 7,
    "start_time": "2022-05-20T23:39:27.882Z"
   },
   {
    "duration": 7,
    "start_time": "2022-05-20T23:39:27.890Z"
   },
   {
    "duration": 4,
    "start_time": "2022-05-20T23:39:27.898Z"
   },
   {
    "duration": 4,
    "start_time": "2022-05-20T23:39:27.903Z"
   },
   {
    "duration": 6,
    "start_time": "2022-05-20T23:39:27.940Z"
   },
   {
    "duration": 6,
    "start_time": "2022-05-20T23:39:27.947Z"
   },
   {
    "duration": 6,
    "start_time": "2022-05-20T23:39:27.954Z"
   },
   {
    "duration": 17,
    "start_time": "2022-05-20T23:39:27.961Z"
   },
   {
    "duration": 2,
    "start_time": "2022-05-20T23:39:27.980Z"
   },
   {
    "duration": 5,
    "start_time": "2022-05-20T23:39:27.983Z"
   },
   {
    "duration": 5,
    "start_time": "2022-05-20T23:39:27.989Z"
   },
   {
    "duration": 5,
    "start_time": "2022-05-20T23:39:27.995Z"
   },
   {
    "duration": 5,
    "start_time": "2022-05-20T23:39:28.001Z"
   },
   {
    "duration": 6,
    "start_time": "2022-05-20T23:39:28.007Z"
   },
   {
    "duration": 38,
    "start_time": "2022-05-20T23:39:28.015Z"
   },
   {
    "duration": 8,
    "start_time": "2022-05-20T23:39:28.054Z"
   },
   {
    "duration": 19,
    "start_time": "2022-05-20T23:39:28.064Z"
   },
   {
    "duration": 4,
    "start_time": "2022-05-20T23:39:28.084Z"
   },
   {
    "duration": 6,
    "start_time": "2022-05-20T23:39:28.090Z"
   },
   {
    "duration": 5,
    "start_time": "2022-05-20T23:39:28.097Z"
   },
   {
    "duration": 5,
    "start_time": "2022-05-20T23:39:28.104Z"
   },
   {
    "duration": 5,
    "start_time": "2022-05-20T23:39:28.141Z"
   },
   {
    "duration": 8,
    "start_time": "2022-05-20T23:39:28.147Z"
   },
   {
    "duration": 3,
    "start_time": "2022-05-20T23:39:28.156Z"
   },
   {
    "duration": 5,
    "start_time": "2022-05-20T23:39:28.160Z"
   },
   {
    "duration": 6,
    "start_time": "2022-05-20T23:39:28.167Z"
   },
   {
    "duration": 4,
    "start_time": "2022-05-20T23:39:28.174Z"
   },
   {
    "duration": 7,
    "start_time": "2022-05-20T23:39:28.179Z"
   },
   {
    "duration": 7,
    "start_time": "2022-05-20T23:39:28.187Z"
   },
   {
    "duration": 3,
    "start_time": "2022-05-20T23:39:28.196Z"
   },
   {
    "duration": 8,
    "start_time": "2022-05-20T23:39:28.201Z"
   },
   {
    "duration": 5,
    "start_time": "2022-05-20T23:39:28.210Z"
   },
   {
    "duration": 2,
    "start_time": "2022-05-20T23:39:28.241Z"
   },
   {
    "duration": 5,
    "start_time": "2022-05-20T23:39:28.245Z"
   },
   {
    "duration": 7,
    "start_time": "2022-05-20T23:39:28.251Z"
   },
   {
    "duration": 4,
    "start_time": "2022-05-20T23:39:28.260Z"
   },
   {
    "duration": 4,
    "start_time": "2022-05-20T23:39:28.265Z"
   },
   {
    "duration": 4,
    "start_time": "2022-05-20T23:39:28.271Z"
   },
   {
    "duration": 4,
    "start_time": "2022-05-20T23:39:28.277Z"
   },
   {
    "duration": 3,
    "start_time": "2022-05-20T23:39:28.283Z"
   },
   {
    "duration": 4,
    "start_time": "2022-05-20T23:39:28.288Z"
   },
   {
    "duration": 4,
    "start_time": "2022-05-20T23:39:28.293Z"
   },
   {
    "duration": 4,
    "start_time": "2022-05-20T23:39:28.298Z"
   },
   {
    "duration": 4,
    "start_time": "2022-05-20T23:39:28.303Z"
   },
   {
    "duration": 2,
    "start_time": "2022-05-20T23:39:28.311Z"
   },
   {
    "duration": 2,
    "start_time": "2022-05-20T23:39:28.341Z"
   },
   {
    "duration": 9,
    "start_time": "2022-05-20T23:39:28.345Z"
   },
   {
    "duration": 8,
    "start_time": "2022-05-20T23:39:28.356Z"
   },
   {
    "duration": 5,
    "start_time": "2022-05-20T23:39:28.365Z"
   },
   {
    "duration": 5,
    "start_time": "2022-05-20T23:41:17.365Z"
   },
   {
    "duration": 4,
    "start_time": "2022-05-20T23:42:17.383Z"
   },
   {
    "duration": 6,
    "start_time": "2022-05-20T23:42:19.888Z"
   },
   {
    "duration": 6,
    "start_time": "2022-05-20T23:43:10.990Z"
   },
   {
    "duration": 11,
    "start_time": "2022-05-20T23:46:11.952Z"
   },
   {
    "duration": 22,
    "start_time": "2022-05-20T23:47:31.918Z"
   },
   {
    "duration": 22,
    "start_time": "2022-05-20T23:47:40.198Z"
   },
   {
    "duration": 8,
    "start_time": "2022-05-20T23:58:03.775Z"
   },
   {
    "duration": 5,
    "start_time": "2022-05-20T23:59:45.862Z"
   },
   {
    "duration": 21,
    "start_time": "2022-05-21T00:00:42.363Z"
   },
   {
    "duration": 6,
    "start_time": "2022-05-21T00:01:11.820Z"
   },
   {
    "duration": 8,
    "start_time": "2022-05-21T00:01:20.874Z"
   },
   {
    "duration": 7,
    "start_time": "2022-05-21T00:03:57.428Z"
   },
   {
    "duration": 14,
    "start_time": "2022-05-21T00:05:01.747Z"
   },
   {
    "duration": 7,
    "start_time": "2022-05-21T00:05:40.650Z"
   },
   {
    "duration": 5,
    "start_time": "2022-05-21T00:06:44.165Z"
   },
   {
    "duration": 5,
    "start_time": "2022-05-21T00:07:04.452Z"
   },
   {
    "duration": 7,
    "start_time": "2022-05-21T00:07:25.813Z"
   },
   {
    "duration": 5,
    "start_time": "2022-05-21T00:09:39.754Z"
   },
   {
    "duration": 5,
    "start_time": "2022-05-21T00:10:08.646Z"
   },
   {
    "duration": 5,
    "start_time": "2022-05-21T00:11:24.096Z"
   },
   {
    "duration": 17,
    "start_time": "2022-05-21T00:13:35.618Z"
   },
   {
    "duration": 23,
    "start_time": "2022-05-21T00:15:41.298Z"
   },
   {
    "duration": 5,
    "start_time": "2022-05-21T00:15:53.007Z"
   },
   {
    "duration": 4,
    "start_time": "2022-05-21T00:15:55.154Z"
   },
   {
    "duration": 4,
    "start_time": "2022-05-21T00:15:56.703Z"
   },
   {
    "duration": 4,
    "start_time": "2022-05-21T00:15:58.661Z"
   },
   {
    "duration": 5,
    "start_time": "2022-05-21T00:16:02.151Z"
   },
   {
    "duration": 4,
    "start_time": "2022-05-21T00:49:34.828Z"
   },
   {
    "duration": 4,
    "start_time": "2022-05-21T00:50:33.930Z"
   },
   {
    "duration": 3,
    "start_time": "2022-05-21T00:51:18.658Z"
   },
   {
    "duration": 15,
    "start_time": "2022-05-21T00:56:40.664Z"
   },
   {
    "duration": 8,
    "start_time": "2022-05-21T00:56:55.584Z"
   },
   {
    "duration": 8,
    "start_time": "2022-05-21T00:56:59.205Z"
   },
   {
    "duration": 7,
    "start_time": "2022-05-21T00:57:03.062Z"
   },
   {
    "duration": 6,
    "start_time": "2022-05-21T00:57:30.066Z"
   },
   {
    "duration": 5,
    "start_time": "2022-05-21T01:00:04.769Z"
   },
   {
    "duration": 5,
    "start_time": "2022-05-21T01:00:33.010Z"
   },
   {
    "duration": 4,
    "start_time": "2022-05-21T01:01:17.214Z"
   },
   {
    "duration": 5,
    "start_time": "2022-05-21T01:01:56.369Z"
   },
   {
    "duration": 63,
    "start_time": "2022-05-21T17:38:21.883Z"
   },
   {
    "duration": 17,
    "start_time": "2022-05-21T17:40:20.305Z"
   },
   {
    "duration": 4,
    "start_time": "2022-05-21T17:40:25.080Z"
   },
   {
    "duration": 4,
    "start_time": "2022-05-21T17:40:27.651Z"
   },
   {
    "duration": 7,
    "start_time": "2022-05-21T17:45:30.253Z"
   },
   {
    "duration": 8,
    "start_time": "2022-05-21T17:45:36.053Z"
   },
   {
    "duration": 13,
    "start_time": "2022-05-21T17:45:51.088Z"
   },
   {
    "duration": 1025,
    "start_time": "2022-05-21T17:46:00.828Z"
   },
   {
    "duration": 8,
    "start_time": "2022-05-21T17:46:01.855Z"
   },
   {
    "duration": 31,
    "start_time": "2022-05-21T17:46:01.864Z"
   },
   {
    "duration": 14,
    "start_time": "2022-05-21T17:46:01.897Z"
   },
   {
    "duration": 5,
    "start_time": "2022-05-21T17:46:01.913Z"
   },
   {
    "duration": 24,
    "start_time": "2022-05-21T17:46:01.920Z"
   },
   {
    "duration": 20,
    "start_time": "2022-05-21T17:46:01.945Z"
   },
   {
    "duration": 14,
    "start_time": "2022-05-21T17:46:01.967Z"
   },
   {
    "duration": 23,
    "start_time": "2022-05-21T17:46:01.983Z"
   },
   {
    "duration": 18,
    "start_time": "2022-05-21T17:46:02.009Z"
   },
   {
    "duration": 6,
    "start_time": "2022-05-21T17:46:02.029Z"
   },
   {
    "duration": 47,
    "start_time": "2022-05-21T17:46:02.037Z"
   },
   {
    "duration": 22,
    "start_time": "2022-05-21T17:46:02.086Z"
   },
   {
    "duration": 4,
    "start_time": "2022-05-21T17:46:02.110Z"
   },
   {
    "duration": 19,
    "start_time": "2022-05-21T17:46:02.115Z"
   },
   {
    "duration": 17,
    "start_time": "2022-05-21T17:46:02.136Z"
   },
   {
    "duration": 51,
    "start_time": "2022-05-21T17:46:02.154Z"
   },
   {
    "duration": 18,
    "start_time": "2022-05-21T17:46:02.206Z"
   },
   {
    "duration": 17,
    "start_time": "2022-05-21T17:46:02.226Z"
   },
   {
    "duration": 5,
    "start_time": "2022-05-21T17:46:02.245Z"
   },
   {
    "duration": 5,
    "start_time": "2022-05-21T17:46:02.252Z"
   },
   {
    "duration": 6,
    "start_time": "2022-05-21T17:46:02.258Z"
   },
   {
    "duration": 40,
    "start_time": "2022-05-21T17:46:02.266Z"
   },
   {
    "duration": 15,
    "start_time": "2022-05-21T17:46:02.308Z"
   },
   {
    "duration": 9,
    "start_time": "2022-05-21T17:46:02.324Z"
   },
   {
    "duration": 12,
    "start_time": "2022-05-21T17:46:02.334Z"
   },
   {
    "duration": 4,
    "start_time": "2022-05-21T17:46:02.347Z"
   },
   {
    "duration": 4,
    "start_time": "2022-05-21T17:46:02.354Z"
   },
   {
    "duration": 5,
    "start_time": "2022-05-21T17:46:02.360Z"
   },
   {
    "duration": 41,
    "start_time": "2022-05-21T17:46:02.366Z"
   },
   {
    "duration": 6,
    "start_time": "2022-05-21T17:46:02.408Z"
   },
   {
    "duration": 21,
    "start_time": "2022-05-21T17:46:02.416Z"
   },
   {
    "duration": 11,
    "start_time": "2022-05-21T17:46:02.438Z"
   },
   {
    "duration": 6,
    "start_time": "2022-05-21T17:46:02.451Z"
   },
   {
    "duration": 6,
    "start_time": "2022-05-21T17:46:02.459Z"
   },
   {
    "duration": 40,
    "start_time": "2022-05-21T17:46:02.467Z"
   },
   {
    "duration": 11,
    "start_time": "2022-05-21T17:46:02.509Z"
   },
   {
    "duration": 7,
    "start_time": "2022-05-21T17:46:02.522Z"
   },
   {
    "duration": 9,
    "start_time": "2022-05-21T17:46:02.530Z"
   },
   {
    "duration": 8,
    "start_time": "2022-05-21T17:46:02.541Z"
   },
   {
    "duration": 6,
    "start_time": "2022-05-21T17:46:02.551Z"
   },
   {
    "duration": 8,
    "start_time": "2022-05-21T17:46:02.559Z"
   },
   {
    "duration": 46,
    "start_time": "2022-05-21T17:46:02.569Z"
   },
   {
    "duration": 2,
    "start_time": "2022-05-21T17:46:02.616Z"
   },
   {
    "duration": 7,
    "start_time": "2022-05-21T17:46:02.620Z"
   },
   {
    "duration": 6,
    "start_time": "2022-05-21T17:46:02.628Z"
   },
   {
    "duration": 6,
    "start_time": "2022-05-21T17:46:02.636Z"
   },
   {
    "duration": 5,
    "start_time": "2022-05-21T17:46:02.643Z"
   },
   {
    "duration": 5,
    "start_time": "2022-05-21T17:46:02.649Z"
   },
   {
    "duration": 15,
    "start_time": "2022-05-21T17:46:02.656Z"
   },
   {
    "duration": 4,
    "start_time": "2022-05-21T17:46:02.672Z"
   },
   {
    "duration": 40,
    "start_time": "2022-05-21T17:46:02.678Z"
   },
   {
    "duration": 5,
    "start_time": "2022-05-21T17:46:02.720Z"
   },
   {
    "duration": 6,
    "start_time": "2022-05-21T17:46:02.726Z"
   },
   {
    "duration": 5,
    "start_time": "2022-05-21T17:46:02.734Z"
   },
   {
    "duration": 6,
    "start_time": "2022-05-21T17:46:02.741Z"
   },
   {
    "duration": 10,
    "start_time": "2022-05-21T17:46:02.748Z"
   },
   {
    "duration": 7,
    "start_time": "2022-05-21T17:46:02.759Z"
   },
   {
    "duration": 3,
    "start_time": "2022-05-21T17:46:02.768Z"
   },
   {
    "duration": 2,
    "start_time": "2022-05-21T17:46:02.803Z"
   },
   {
    "duration": 9,
    "start_time": "2022-05-21T17:46:02.807Z"
   },
   {
    "duration": 4,
    "start_time": "2022-05-21T17:46:02.818Z"
   },
   {
    "duration": 7,
    "start_time": "2022-05-21T17:46:02.823Z"
   },
   {
    "duration": 7,
    "start_time": "2022-05-21T17:46:02.831Z"
   },
   {
    "duration": 5,
    "start_time": "2022-05-21T17:46:02.839Z"
   },
   {
    "duration": 5,
    "start_time": "2022-05-21T17:46:02.845Z"
   },
   {
    "duration": 5,
    "start_time": "2022-05-21T17:46:02.851Z"
   },
   {
    "duration": 10,
    "start_time": "2022-05-21T17:46:02.857Z"
   },
   {
    "duration": 6,
    "start_time": "2022-05-21T17:46:02.868Z"
   },
   {
    "duration": 6,
    "start_time": "2022-05-21T17:46:02.875Z"
   },
   {
    "duration": 31,
    "start_time": "2022-05-21T17:46:02.883Z"
   },
   {
    "duration": 4,
    "start_time": "2022-05-21T17:46:02.915Z"
   },
   {
    "duration": 7,
    "start_time": "2022-05-21T17:46:02.920Z"
   },
   {
    "duration": 5,
    "start_time": "2022-05-21T17:46:02.928Z"
   },
   {
    "duration": 6,
    "start_time": "2022-05-21T17:46:02.934Z"
   },
   {
    "duration": 7,
    "start_time": "2022-05-21T17:46:02.942Z"
   },
   {
    "duration": 7,
    "start_time": "2022-05-21T17:46:02.950Z"
   },
   {
    "duration": 7,
    "start_time": "2022-05-21T17:46:02.959Z"
   },
   {
    "duration": 6,
    "start_time": "2022-05-21T17:46:02.968Z"
   },
   {
    "duration": 30,
    "start_time": "2022-05-21T17:46:02.975Z"
   },
   {
    "duration": 4,
    "start_time": "2022-05-21T17:46:03.007Z"
   },
   {
    "duration": 2,
    "start_time": "2022-05-21T17:46:03.016Z"
   },
   {
    "duration": 4,
    "start_time": "2022-05-21T17:46:03.020Z"
   },
   {
    "duration": 5,
    "start_time": "2022-05-21T17:46:03.025Z"
   },
   {
    "duration": 5,
    "start_time": "2022-05-21T17:46:03.031Z"
   },
   {
    "duration": 9,
    "start_time": "2022-05-21T17:46:03.038Z"
   },
   {
    "duration": 4,
    "start_time": "2022-05-21T17:46:03.049Z"
   },
   {
    "duration": 4,
    "start_time": "2022-05-21T17:46:05.729Z"
   },
   {
    "duration": 6,
    "start_time": "2022-05-21T17:46:08.478Z"
   },
   {
    "duration": 35,
    "start_time": "2022-05-21T17:55:43.972Z"
   },
   {
    "duration": 32,
    "start_time": "2022-05-21T17:55:54.560Z"
   },
   {
    "duration": 50,
    "start_time": "2022-05-21T17:55:58.567Z"
   },
   {
    "duration": 522,
    "start_time": "2022-05-21T17:56:13.098Z"
   },
   {
    "duration": 11,
    "start_time": "2022-05-21T17:56:13.623Z"
   },
   {
    "duration": 22,
    "start_time": "2022-05-21T17:56:13.636Z"
   },
   {
    "duration": 13,
    "start_time": "2022-05-21T17:56:13.660Z"
   },
   {
    "duration": 4,
    "start_time": "2022-05-21T17:56:13.675Z"
   },
   {
    "duration": 11,
    "start_time": "2022-05-21T17:56:13.703Z"
   },
   {
    "duration": 7,
    "start_time": "2022-05-21T17:56:13.716Z"
   },
   {
    "duration": 5,
    "start_time": "2022-05-21T17:56:13.725Z"
   },
   {
    "duration": 20,
    "start_time": "2022-05-21T17:56:13.732Z"
   },
   {
    "duration": 57,
    "start_time": "2022-05-21T17:56:13.754Z"
   },
   {
    "duration": 6,
    "start_time": "2022-05-21T17:56:13.813Z"
   },
   {
    "duration": 51,
    "start_time": "2022-05-21T17:56:13.821Z"
   },
   {
    "duration": 45,
    "start_time": "2022-05-21T17:56:13.874Z"
   },
   {
    "duration": 6,
    "start_time": "2022-05-21T17:56:13.923Z"
   },
   {
    "duration": 17,
    "start_time": "2022-05-21T17:56:13.931Z"
   },
   {
    "duration": 17,
    "start_time": "2022-05-21T17:56:13.950Z"
   },
   {
    "duration": 72,
    "start_time": "2022-05-21T17:56:13.968Z"
   },
   {
    "duration": 19,
    "start_time": "2022-05-21T17:56:14.042Z"
   },
   {
    "duration": 40,
    "start_time": "2022-05-21T17:56:14.062Z"
   },
   {
    "duration": 5,
    "start_time": "2022-05-21T17:56:14.104Z"
   },
   {
    "duration": 7,
    "start_time": "2022-05-21T17:56:14.111Z"
   },
   {
    "duration": 8,
    "start_time": "2022-05-21T17:56:14.120Z"
   },
   {
    "duration": 6,
    "start_time": "2022-05-21T17:56:14.130Z"
   },
   {
    "duration": 18,
    "start_time": "2022-05-21T17:56:14.137Z"
   },
   {
    "duration": 46,
    "start_time": "2022-05-21T17:56:14.157Z"
   },
   {
    "duration": 15,
    "start_time": "2022-05-21T17:56:14.205Z"
   },
   {
    "duration": 5,
    "start_time": "2022-05-21T17:56:14.222Z"
   },
   {
    "duration": 8,
    "start_time": "2022-05-21T17:56:14.229Z"
   },
   {
    "duration": 5,
    "start_time": "2022-05-21T17:56:14.239Z"
   },
   {
    "duration": 6,
    "start_time": "2022-05-21T17:56:14.246Z"
   },
   {
    "duration": 7,
    "start_time": "2022-05-21T17:56:14.254Z"
   },
   {
    "duration": 58,
    "start_time": "2022-05-21T17:56:14.262Z"
   },
   {
    "duration": 15,
    "start_time": "2022-05-21T17:56:14.322Z"
   },
   {
    "duration": 5,
    "start_time": "2022-05-21T17:56:14.338Z"
   },
   {
    "duration": 7,
    "start_time": "2022-05-21T17:56:14.345Z"
   },
   {
    "duration": 6,
    "start_time": "2022-05-21T17:56:14.354Z"
   },
   {
    "duration": 41,
    "start_time": "2022-05-21T17:56:14.362Z"
   },
   {
    "duration": 5,
    "start_time": "2022-05-21T17:56:14.406Z"
   },
   {
    "duration": 8,
    "start_time": "2022-05-21T17:56:14.413Z"
   },
   {
    "duration": 8,
    "start_time": "2022-05-21T17:56:14.422Z"
   },
   {
    "duration": 5,
    "start_time": "2022-05-21T17:56:14.434Z"
   },
   {
    "duration": 8,
    "start_time": "2022-05-21T17:56:14.441Z"
   },
   {
    "duration": 55,
    "start_time": "2022-05-21T17:56:14.451Z"
   },
   {
    "duration": 4,
    "start_time": "2022-05-21T17:56:14.508Z"
   },
   {
    "duration": 6,
    "start_time": "2022-05-21T17:56:14.514Z"
   },
   {
    "duration": 5,
    "start_time": "2022-05-21T17:56:14.522Z"
   },
   {
    "duration": 7,
    "start_time": "2022-05-21T17:56:14.529Z"
   },
   {
    "duration": 7,
    "start_time": "2022-05-21T17:56:14.537Z"
   },
   {
    "duration": 6,
    "start_time": "2022-05-21T17:56:14.546Z"
   },
   {
    "duration": 17,
    "start_time": "2022-05-21T17:56:14.553Z"
   },
   {
    "duration": 34,
    "start_time": "2022-05-21T17:56:14.572Z"
   },
   {
    "duration": 26,
    "start_time": "2022-05-21T17:56:14.608Z"
   },
   {
    "duration": 5,
    "start_time": "2022-05-21T17:56:14.635Z"
   },
   {
    "duration": 9,
    "start_time": "2022-05-21T17:56:14.642Z"
   },
   {
    "duration": 12,
    "start_time": "2022-05-21T17:56:14.653Z"
   },
   {
    "duration": 6,
    "start_time": "2022-05-21T17:56:14.667Z"
   },
   {
    "duration": 35,
    "start_time": "2022-05-21T17:56:14.675Z"
   },
   {
    "duration": 10,
    "start_time": "2022-05-21T17:56:14.711Z"
   },
   {
    "duration": 6,
    "start_time": "2022-05-21T17:56:14.723Z"
   },
   {
    "duration": 9,
    "start_time": "2022-05-21T17:56:14.731Z"
   },
   {
    "duration": 17,
    "start_time": "2022-05-21T17:56:14.742Z"
   },
   {
    "duration": 3,
    "start_time": "2022-05-21T17:56:14.762Z"
   },
   {
    "duration": 9,
    "start_time": "2022-05-21T17:56:14.768Z"
   },
   {
    "duration": 4,
    "start_time": "2022-05-21T17:56:14.779Z"
   },
   {
    "duration": 5,
    "start_time": "2022-05-21T17:56:14.784Z"
   },
   {
    "duration": 2,
    "start_time": "2022-05-21T17:56:14.803Z"
   },
   {
    "duration": 8,
    "start_time": "2022-05-21T17:56:14.807Z"
   },
   {
    "duration": 7,
    "start_time": "2022-05-21T17:56:14.817Z"
   },
   {
    "duration": 7,
    "start_time": "2022-05-21T17:56:14.825Z"
   },
   {
    "duration": 6,
    "start_time": "2022-05-21T17:56:14.834Z"
   },
   {
    "duration": 25,
    "start_time": "2022-05-21T17:56:14.841Z"
   },
   {
    "duration": 40,
    "start_time": "2022-05-21T17:56:14.867Z"
   },
   {
    "duration": 9,
    "start_time": "2022-05-21T17:56:14.909Z"
   },
   {
    "duration": 8,
    "start_time": "2022-05-21T17:56:14.920Z"
   },
   {
    "duration": 8,
    "start_time": "2022-05-21T17:56:14.930Z"
   },
   {
    "duration": 10,
    "start_time": "2022-05-21T17:56:14.939Z"
   },
   {
    "duration": 6,
    "start_time": "2022-05-21T17:56:14.951Z"
   },
   {
    "duration": 1,
    "start_time": "2022-05-21T17:56:14.958Z"
   },
   {
    "duration": 0,
    "start_time": "2022-05-21T17:56:14.961Z"
   },
   {
    "duration": 0,
    "start_time": "2022-05-21T17:56:14.962Z"
   },
   {
    "duration": 0,
    "start_time": "2022-05-21T17:56:14.964Z"
   },
   {
    "duration": 0,
    "start_time": "2022-05-21T17:56:15.002Z"
   },
   {
    "duration": 0,
    "start_time": "2022-05-21T17:56:15.004Z"
   },
   {
    "duration": 0,
    "start_time": "2022-05-21T17:56:15.005Z"
   },
   {
    "duration": 0,
    "start_time": "2022-05-21T17:56:15.006Z"
   },
   {
    "duration": 0,
    "start_time": "2022-05-21T17:56:15.007Z"
   },
   {
    "duration": 0,
    "start_time": "2022-05-21T17:56:15.008Z"
   },
   {
    "duration": 6,
    "start_time": "2022-05-21T17:56:18.130Z"
   },
   {
    "duration": 6,
    "start_time": "2022-05-21T17:56:29.861Z"
   },
   {
    "duration": 6,
    "start_time": "2022-05-21T17:56:35.584Z"
   },
   {
    "duration": 37,
    "start_time": "2022-05-21T17:57:25.635Z"
   },
   {
    "duration": 30,
    "start_time": "2022-05-21T18:12:05.225Z"
   },
   {
    "duration": 89,
    "start_time": "2022-05-21T18:12:11.488Z"
   },
   {
    "duration": 7,
    "start_time": "2022-05-21T18:12:11.578Z"
   },
   {
    "duration": 31,
    "start_time": "2022-05-21T18:12:11.586Z"
   },
   {
    "duration": 21,
    "start_time": "2022-05-21T18:12:11.621Z"
   },
   {
    "duration": 3,
    "start_time": "2022-05-21T18:12:11.644Z"
   },
   {
    "duration": 13,
    "start_time": "2022-05-21T18:12:11.649Z"
   },
   {
    "duration": 6,
    "start_time": "2022-05-21T18:12:11.663Z"
   },
   {
    "duration": 10,
    "start_time": "2022-05-21T18:12:11.671Z"
   },
   {
    "duration": 39,
    "start_time": "2022-05-21T18:12:11.682Z"
   },
   {
    "duration": 17,
    "start_time": "2022-05-21T18:12:11.727Z"
   },
   {
    "duration": 5,
    "start_time": "2022-05-21T18:12:11.746Z"
   },
   {
    "duration": 75,
    "start_time": "2022-05-21T18:12:11.753Z"
   },
   {
    "duration": 26,
    "start_time": "2022-05-21T18:12:11.830Z"
   },
   {
    "duration": 7,
    "start_time": "2022-05-21T18:12:11.858Z"
   },
   {
    "duration": 44,
    "start_time": "2022-05-21T18:12:11.866Z"
   },
   {
    "duration": 26,
    "start_time": "2022-05-21T18:12:11.912Z"
   },
   {
    "duration": 32,
    "start_time": "2022-05-21T18:12:11.940Z"
   },
   {
    "duration": 18,
    "start_time": "2022-05-21T18:12:11.974Z"
   },
   {
    "duration": 28,
    "start_time": "2022-05-21T18:12:12.002Z"
   },
   {
    "duration": 6,
    "start_time": "2022-05-21T18:12:12.031Z"
   },
   {
    "duration": 8,
    "start_time": "2022-05-21T18:12:12.038Z"
   },
   {
    "duration": 10,
    "start_time": "2022-05-21T18:12:12.047Z"
   },
   {
    "duration": 7,
    "start_time": "2022-05-21T18:12:12.059Z"
   },
   {
    "duration": 53,
    "start_time": "2022-05-21T18:12:12.067Z"
   },
   {
    "duration": 10,
    "start_time": "2022-05-21T18:12:12.122Z"
   },
   {
    "duration": 17,
    "start_time": "2022-05-21T18:12:12.134Z"
   },
   {
    "duration": 5,
    "start_time": "2022-05-21T18:12:12.153Z"
   },
   {
    "duration": 5,
    "start_time": "2022-05-21T18:12:12.163Z"
   },
   {
    "duration": 33,
    "start_time": "2022-05-21T18:12:12.170Z"
   },
   {
    "duration": 16,
    "start_time": "2022-05-21T18:12:12.207Z"
   },
   {
    "duration": 12,
    "start_time": "2022-05-21T18:12:12.230Z"
   },
   {
    "duration": 24,
    "start_time": "2022-05-21T18:12:12.244Z"
   },
   {
    "duration": 12,
    "start_time": "2022-05-21T18:12:12.270Z"
   },
   {
    "duration": 6,
    "start_time": "2022-05-21T18:12:12.283Z"
   },
   {
    "duration": 17,
    "start_time": "2022-05-21T18:12:12.290Z"
   },
   {
    "duration": 17,
    "start_time": "2022-05-21T18:12:12.308Z"
   },
   {
    "duration": 10,
    "start_time": "2022-05-21T18:12:12.328Z"
   },
   {
    "duration": 8,
    "start_time": "2022-05-21T18:12:12.340Z"
   },
   {
    "duration": 10,
    "start_time": "2022-05-21T18:12:12.350Z"
   },
   {
    "duration": 8,
    "start_time": "2022-05-21T18:12:12.362Z"
   },
   {
    "duration": 14,
    "start_time": "2022-05-21T18:12:12.372Z"
   },
   {
    "duration": 17,
    "start_time": "2022-05-21T18:12:12.388Z"
   },
   {
    "duration": 22,
    "start_time": "2022-05-21T18:12:12.407Z"
   },
   {
    "duration": 3,
    "start_time": "2022-05-21T18:12:12.431Z"
   },
   {
    "duration": 5,
    "start_time": "2022-05-21T18:12:12.435Z"
   },
   {
    "duration": 5,
    "start_time": "2022-05-21T18:12:12.441Z"
   },
   {
    "duration": 9,
    "start_time": "2022-05-21T18:12:12.448Z"
   },
   {
    "duration": 5,
    "start_time": "2022-05-21T18:12:12.459Z"
   },
   {
    "duration": 8,
    "start_time": "2022-05-21T18:12:12.466Z"
   },
   {
    "duration": 47,
    "start_time": "2022-05-21T18:12:12.475Z"
   },
   {
    "duration": 7,
    "start_time": "2022-05-21T18:12:12.524Z"
   },
   {
    "duration": 24,
    "start_time": "2022-05-21T18:12:12.533Z"
   },
   {
    "duration": 4,
    "start_time": "2022-05-21T18:12:12.559Z"
   },
   {
    "duration": 6,
    "start_time": "2022-05-21T18:12:12.564Z"
   },
   {
    "duration": 39,
    "start_time": "2022-05-21T18:12:12.572Z"
   },
   {
    "duration": 8,
    "start_time": "2022-05-21T18:12:12.612Z"
   },
   {
    "duration": 7,
    "start_time": "2022-05-21T18:12:12.622Z"
   },
   {
    "duration": 8,
    "start_time": "2022-05-21T18:12:12.630Z"
   },
   {
    "duration": 3,
    "start_time": "2022-05-21T18:12:12.639Z"
   },
   {
    "duration": 6,
    "start_time": "2022-05-21T18:12:12.643Z"
   },
   {
    "duration": 7,
    "start_time": "2022-05-21T18:12:12.651Z"
   },
   {
    "duration": 3,
    "start_time": "2022-05-21T18:12:12.659Z"
   },
   {
    "duration": 7,
    "start_time": "2022-05-21T18:12:12.664Z"
   },
   {
    "duration": 31,
    "start_time": "2022-05-21T18:12:12.673Z"
   },
   {
    "duration": 10,
    "start_time": "2022-05-21T18:12:12.705Z"
   },
   {
    "duration": 28,
    "start_time": "2022-05-21T18:12:12.717Z"
   },
   {
    "duration": 23,
    "start_time": "2022-05-21T18:12:12.747Z"
   },
   {
    "duration": 24,
    "start_time": "2022-05-21T18:12:12.772Z"
   },
   {
    "duration": 9,
    "start_time": "2022-05-21T18:12:12.797Z"
   },
   {
    "duration": 29,
    "start_time": "2022-05-21T18:12:12.809Z"
   },
   {
    "duration": 19,
    "start_time": "2022-05-21T18:12:12.840Z"
   },
   {
    "duration": 5,
    "start_time": "2022-05-21T18:12:12.861Z"
   },
   {
    "duration": 8,
    "start_time": "2022-05-21T18:12:12.868Z"
   },
   {
    "duration": 6,
    "start_time": "2022-05-21T18:12:12.878Z"
   },
   {
    "duration": 7,
    "start_time": "2022-05-21T18:12:12.885Z"
   },
   {
    "duration": 10,
    "start_time": "2022-05-21T18:12:12.893Z"
   },
   {
    "duration": 38,
    "start_time": "2022-05-21T18:12:12.904Z"
   },
   {
    "duration": 0,
    "start_time": "2022-05-21T18:12:12.945Z"
   },
   {
    "duration": 0,
    "start_time": "2022-05-21T18:12:12.947Z"
   },
   {
    "duration": 0,
    "start_time": "2022-05-21T18:12:12.948Z"
   },
   {
    "duration": 0,
    "start_time": "2022-05-21T18:12:12.949Z"
   },
   {
    "duration": 0,
    "start_time": "2022-05-21T18:12:12.951Z"
   },
   {
    "duration": 0,
    "start_time": "2022-05-21T18:12:12.952Z"
   },
   {
    "duration": 0,
    "start_time": "2022-05-21T18:12:12.953Z"
   },
   {
    "duration": 0,
    "start_time": "2022-05-21T18:12:12.954Z"
   },
   {
    "duration": 0,
    "start_time": "2022-05-21T18:12:12.955Z"
   },
   {
    "duration": 0,
    "start_time": "2022-05-21T18:12:12.956Z"
   },
   {
    "duration": 76,
    "start_time": "2022-05-21T18:13:19.268Z"
   },
   {
    "duration": 87,
    "start_time": "2022-05-21T18:13:28.717Z"
   },
   {
    "duration": 4,
    "start_time": "2022-05-21T18:13:30.134Z"
   },
   {
    "duration": 18,
    "start_time": "2022-05-21T18:13:30.380Z"
   },
   {
    "duration": 22,
    "start_time": "2022-05-21T18:13:31.135Z"
   },
   {
    "duration": 5,
    "start_time": "2022-05-21T18:13:32.060Z"
   },
   {
    "duration": 15,
    "start_time": "2022-05-21T18:13:32.564Z"
   },
   {
    "duration": 7,
    "start_time": "2022-05-21T18:13:33.077Z"
   },
   {
    "duration": 7,
    "start_time": "2022-05-21T18:13:34.058Z"
   },
   {
    "duration": 16,
    "start_time": "2022-05-21T18:13:35.484Z"
   },
   {
    "duration": 25,
    "start_time": "2022-05-21T18:13:36.704Z"
   },
   {
    "duration": 5,
    "start_time": "2022-05-21T18:13:37.161Z"
   },
   {
    "duration": 31,
    "start_time": "2022-05-21T18:13:38.158Z"
   },
   {
    "duration": 23,
    "start_time": "2022-05-21T18:13:38.393Z"
   },
   {
    "duration": 5,
    "start_time": "2022-05-21T18:13:38.657Z"
   },
   {
    "duration": 19,
    "start_time": "2022-05-21T18:13:38.903Z"
   },
   {
    "duration": 19,
    "start_time": "2022-05-21T18:13:39.132Z"
   },
   {
    "duration": 30,
    "start_time": "2022-05-21T18:13:39.351Z"
   },
   {
    "duration": 24,
    "start_time": "2022-05-21T18:13:39.793Z"
   },
   {
    "duration": 24,
    "start_time": "2022-05-21T18:13:40.011Z"
   },
   {
    "duration": 7,
    "start_time": "2022-05-21T18:13:40.874Z"
   },
   {
    "duration": 5,
    "start_time": "2022-05-21T18:13:41.746Z"
   },
   {
    "duration": 6,
    "start_time": "2022-05-21T18:13:42.724Z"
   },
   {
    "duration": 7,
    "start_time": "2022-05-21T18:13:43.411Z"
   },
   {
    "duration": 22,
    "start_time": "2022-05-21T18:13:44.064Z"
   },
   {
    "duration": 14,
    "start_time": "2022-05-21T18:13:44.360Z"
   },
   {
    "duration": 14,
    "start_time": "2022-05-21T18:13:44.675Z"
   },
   {
    "duration": 5,
    "start_time": "2022-05-21T18:13:44.968Z"
   },
   {
    "duration": 5,
    "start_time": "2022-05-21T18:13:45.578Z"
   },
   {
    "duration": 4,
    "start_time": "2022-05-21T18:13:47.432Z"
   },
   {
    "duration": 6,
    "start_time": "2022-05-21T18:13:49.301Z"
   },
   {
    "duration": 9,
    "start_time": "2022-05-21T18:13:49.595Z"
   },
   {
    "duration": 20,
    "start_time": "2022-05-21T18:13:53.362Z"
   },
   {
    "duration": 15,
    "start_time": "2022-05-21T18:13:53.384Z"
   },
   {
    "duration": 6,
    "start_time": "2022-05-21T18:13:53.725Z"
   },
   {
    "duration": 6,
    "start_time": "2022-05-21T18:13:54.754Z"
   },
   {
    "duration": 5,
    "start_time": "2022-05-21T18:13:54.978Z"
   },
   {
    "duration": 7,
    "start_time": "2022-05-21T18:13:55.177Z"
   },
   {
    "duration": 7,
    "start_time": "2022-05-21T18:13:55.618Z"
   },
   {
    "duration": 6,
    "start_time": "2022-05-21T18:13:56.179Z"
   },
   {
    "duration": 5,
    "start_time": "2022-05-21T18:13:56.553Z"
   },
   {
    "duration": 5,
    "start_time": "2022-05-21T18:13:59.589Z"
   },
   {
    "duration": 7,
    "start_time": "2022-05-21T18:13:59.932Z"
   },
   {
    "duration": 26,
    "start_time": "2022-05-21T18:14:00.397Z"
   },
   {
    "duration": 3,
    "start_time": "2022-05-21T18:14:00.875Z"
   },
   {
    "duration": 2,
    "start_time": "2022-05-21T18:14:01.093Z"
   },
   {
    "duration": 3,
    "start_time": "2022-05-21T18:14:01.339Z"
   },
   {
    "duration": 3,
    "start_time": "2022-05-21T18:14:02.224Z"
   },
   {
    "duration": 4,
    "start_time": "2022-05-21T18:14:02.883Z"
   },
   {
    "duration": 4,
    "start_time": "2022-05-21T18:14:03.120Z"
   },
   {
    "duration": 20,
    "start_time": "2022-05-21T18:14:03.330Z"
   },
   {
    "duration": 5,
    "start_time": "2022-05-21T18:14:03.629Z"
   },
   {
    "duration": 36,
    "start_time": "2022-05-21T18:14:04.982Z"
   },
   {
    "duration": 5,
    "start_time": "2022-05-21T18:14:05.193Z"
   },
   {
    "duration": 5,
    "start_time": "2022-05-21T18:14:05.427Z"
   },
   {
    "duration": 4,
    "start_time": "2022-05-21T18:14:05.677Z"
   },
   {
    "duration": 5,
    "start_time": "2022-05-21T18:14:05.922Z"
   },
   {
    "duration": 5,
    "start_time": "2022-05-21T18:14:06.858Z"
   },
   {
    "duration": 7,
    "start_time": "2022-05-21T18:14:07.076Z"
   },
   {
    "duration": 5,
    "start_time": "2022-05-21T18:14:07.613Z"
   },
   {
    "duration": 3,
    "start_time": "2022-05-21T18:14:08.073Z"
   },
   {
    "duration": 4,
    "start_time": "2022-05-21T18:14:08.896Z"
   },
   {
    "duration": 2,
    "start_time": "2022-05-21T18:14:09.293Z"
   },
   {
    "duration": 2,
    "start_time": "2022-05-21T18:14:09.678Z"
   },
   {
    "duration": 2,
    "start_time": "2022-05-21T18:14:09.864Z"
   },
   {
    "duration": 2,
    "start_time": "2022-05-21T18:14:10.063Z"
   },
   {
    "duration": 3,
    "start_time": "2022-05-21T18:14:10.423Z"
   },
   {
    "duration": 5,
    "start_time": "2022-05-21T18:14:10.708Z"
   },
   {
    "duration": 5,
    "start_time": "2022-05-21T18:14:11.237Z"
   },
   {
    "duration": 4,
    "start_time": "2022-05-21T18:14:11.500Z"
   },
   {
    "duration": 6,
    "start_time": "2022-05-21T18:14:11.783Z"
   },
   {
    "duration": 16,
    "start_time": "2022-05-21T18:14:12.324Z"
   },
   {
    "duration": 5,
    "start_time": "2022-05-21T18:14:13.161Z"
   },
   {
    "duration": 5,
    "start_time": "2022-05-21T18:14:13.872Z"
   },
   {
    "duration": 6,
    "start_time": "2022-05-21T18:14:14.224Z"
   },
   {
    "duration": 5,
    "start_time": "2022-05-21T18:14:14.573Z"
   },
   {
    "duration": 6,
    "start_time": "2022-05-21T18:14:14.923Z"
   },
   {
    "duration": 61,
    "start_time": "2022-05-21T18:14:16.381Z"
   },
   {
    "duration": 42,
    "start_time": "2022-05-21T18:16:49.639Z"
   },
   {
    "duration": 46,
    "start_time": "2022-05-21T18:17:23.060Z"
   },
   {
    "duration": 33,
    "start_time": "2022-05-21T18:17:26.964Z"
   },
   {
    "duration": 29,
    "start_time": "2022-05-21T18:17:31.491Z"
   },
   {
    "duration": 32,
    "start_time": "2022-05-21T18:17:34.227Z"
   },
   {
    "duration": 35,
    "start_time": "2022-05-21T18:17:37.699Z"
   },
   {
    "duration": 40,
    "start_time": "2022-05-21T18:19:42.873Z"
   },
   {
    "duration": 28,
    "start_time": "2022-05-21T18:19:53.265Z"
   },
   {
    "duration": 5,
    "start_time": "2022-05-21T18:24:33.727Z"
   },
   {
    "duration": 4,
    "start_time": "2022-05-21T18:24:35.830Z"
   },
   {
    "duration": 6,
    "start_time": "2022-05-21T18:24:59.368Z"
   },
   {
    "duration": 82,
    "start_time": "2022-05-21T18:25:26.669Z"
   },
   {
    "duration": 18,
    "start_time": "2022-05-21T18:25:42.900Z"
   },
   {
    "duration": 13,
    "start_time": "2022-05-21T18:25:51.465Z"
   },
   {
    "duration": 11,
    "start_time": "2022-05-21T18:26:30.027Z"
   },
   {
    "duration": 12,
    "start_time": "2022-05-21T18:27:27.871Z"
   },
   {
    "duration": 12,
    "start_time": "2022-05-21T18:27:35.223Z"
   },
   {
    "duration": 5,
    "start_time": "2022-05-21T18:28:32.925Z"
   },
   {
    "duration": 5,
    "start_time": "2022-05-21T18:28:41.134Z"
   },
   {
    "duration": 13,
    "start_time": "2022-05-21T18:28:59.200Z"
   },
   {
    "duration": 4,
    "start_time": "2022-05-21T19:07:44.686Z"
   },
   {
    "duration": 30,
    "start_time": "2022-05-21T19:08:38.142Z"
   },
   {
    "duration": 35,
    "start_time": "2022-05-21T19:08:52.125Z"
   },
   {
    "duration": 13,
    "start_time": "2022-05-21T19:43:42.331Z"
   },
   {
    "duration": 7,
    "start_time": "2022-05-21T19:43:52.169Z"
   },
   {
    "duration": 14,
    "start_time": "2022-05-21T19:44:00.194Z"
   },
   {
    "duration": 17,
    "start_time": "2022-05-21T19:44:02.072Z"
   },
   {
    "duration": 19,
    "start_time": "2022-05-21T19:44:05.731Z"
   },
   {
    "duration": 10,
    "start_time": "2022-05-21T19:44:55.823Z"
   },
   {
    "duration": 9,
    "start_time": "2022-05-21T19:46:33.379Z"
   },
   {
    "duration": 6,
    "start_time": "2022-05-21T19:48:55.841Z"
   },
   {
    "duration": 74,
    "start_time": "2022-05-21T19:49:09.513Z"
   },
   {
    "duration": 4,
    "start_time": "2022-05-21T19:49:09.589Z"
   },
   {
    "duration": 26,
    "start_time": "2022-05-21T19:49:09.594Z"
   },
   {
    "duration": 26,
    "start_time": "2022-05-21T19:49:09.622Z"
   },
   {
    "duration": 4,
    "start_time": "2022-05-21T19:49:09.650Z"
   },
   {
    "duration": 12,
    "start_time": "2022-05-21T19:49:09.655Z"
   },
   {
    "duration": 6,
    "start_time": "2022-05-21T19:49:09.668Z"
   },
   {
    "duration": 16,
    "start_time": "2022-05-21T19:49:09.675Z"
   },
   {
    "duration": 34,
    "start_time": "2022-05-21T19:49:09.693Z"
   },
   {
    "duration": 15,
    "start_time": "2022-05-21T19:49:09.735Z"
   },
   {
    "duration": 4,
    "start_time": "2022-05-21T19:49:09.752Z"
   },
   {
    "duration": 69,
    "start_time": "2022-05-21T19:49:09.758Z"
   },
   {
    "duration": 21,
    "start_time": "2022-05-21T19:49:09.830Z"
   },
   {
    "duration": 5,
    "start_time": "2022-05-21T19:49:09.853Z"
   },
   {
    "duration": 14,
    "start_time": "2022-05-21T19:49:09.860Z"
   },
   {
    "duration": 36,
    "start_time": "2022-05-21T19:49:09.875Z"
   },
   {
    "duration": 44,
    "start_time": "2022-05-21T19:49:09.912Z"
   },
   {
    "duration": 19,
    "start_time": "2022-05-21T19:49:09.958Z"
   },
   {
    "duration": 37,
    "start_time": "2022-05-21T19:49:09.979Z"
   },
   {
    "duration": 8,
    "start_time": "2022-05-21T19:49:10.020Z"
   },
   {
    "duration": 12,
    "start_time": "2022-05-21T19:49:10.030Z"
   },
   {
    "duration": 7,
    "start_time": "2022-05-21T19:49:10.044Z"
   },
   {
    "duration": 7,
    "start_time": "2022-05-21T19:49:10.053Z"
   },
   {
    "duration": 28,
    "start_time": "2022-05-21T19:49:10.062Z"
   },
   {
    "duration": 19,
    "start_time": "2022-05-21T19:49:10.091Z"
   },
   {
    "duration": 49,
    "start_time": "2022-05-21T19:49:10.116Z"
   },
   {
    "duration": 5,
    "start_time": "2022-05-21T19:49:10.166Z"
   },
   {
    "duration": 8,
    "start_time": "2022-05-21T19:49:10.175Z"
   },
   {
    "duration": 8,
    "start_time": "2022-05-21T19:49:10.185Z"
   },
   {
    "duration": 20,
    "start_time": "2022-05-21T19:49:10.194Z"
   },
   {
    "duration": 21,
    "start_time": "2022-05-21T19:49:10.218Z"
   },
   {
    "duration": 9,
    "start_time": "2022-05-21T19:49:10.241Z"
   },
   {
    "duration": 10,
    "start_time": "2022-05-21T19:49:10.252Z"
   },
   {
    "duration": 29,
    "start_time": "2022-05-21T19:49:10.263Z"
   },
   {
    "duration": 12,
    "start_time": "2022-05-21T19:49:10.294Z"
   },
   {
    "duration": 34,
    "start_time": "2022-05-21T19:49:10.307Z"
   },
   {
    "duration": 8,
    "start_time": "2022-05-21T19:49:10.343Z"
   },
   {
    "duration": 16,
    "start_time": "2022-05-21T19:49:10.352Z"
   },
   {
    "duration": 15,
    "start_time": "2022-05-21T19:49:10.370Z"
   },
   {
    "duration": 13,
    "start_time": "2022-05-21T19:49:10.387Z"
   },
   {
    "duration": 36,
    "start_time": "2022-05-21T19:49:10.401Z"
   },
   {
    "duration": 6,
    "start_time": "2022-05-21T19:49:10.439Z"
   },
   {
    "duration": 6,
    "start_time": "2022-05-21T19:49:10.447Z"
   },
   {
    "duration": 5,
    "start_time": "2022-05-21T19:49:10.455Z"
   },
   {
    "duration": 18,
    "start_time": "2022-05-21T19:49:10.461Z"
   },
   {
    "duration": 2,
    "start_time": "2022-05-21T19:49:10.480Z"
   },
   {
    "duration": 8,
    "start_time": "2022-05-21T19:49:10.483Z"
   },
   {
    "duration": 5,
    "start_time": "2022-05-21T19:49:10.493Z"
   },
   {
    "duration": 32,
    "start_time": "2022-05-21T19:49:10.499Z"
   },
   {
    "duration": 5,
    "start_time": "2022-05-21T19:49:10.533Z"
   },
   {
    "duration": 6,
    "start_time": "2022-05-21T19:49:10.540Z"
   },
   {
    "duration": 19,
    "start_time": "2022-05-21T19:49:10.547Z"
   },
   {
    "duration": 10,
    "start_time": "2022-05-21T19:49:10.568Z"
   },
   {
    "duration": 36,
    "start_time": "2022-05-21T19:49:10.580Z"
   },
   {
    "duration": 5,
    "start_time": "2022-05-21T19:49:10.623Z"
   },
   {
    "duration": 13,
    "start_time": "2022-05-21T19:49:10.629Z"
   },
   {
    "duration": 7,
    "start_time": "2022-05-21T19:49:10.643Z"
   },
   {
    "duration": 5,
    "start_time": "2022-05-21T19:49:10.651Z"
   },
   {
    "duration": 4,
    "start_time": "2022-05-21T19:49:10.657Z"
   },
   {
    "duration": 8,
    "start_time": "2022-05-21T19:49:10.663Z"
   },
   {
    "duration": 5,
    "start_time": "2022-05-21T19:49:10.672Z"
   },
   {
    "duration": 5,
    "start_time": "2022-05-21T19:49:10.678Z"
   },
   {
    "duration": 24,
    "start_time": "2022-05-21T19:49:10.684Z"
   },
   {
    "duration": 5,
    "start_time": "2022-05-21T19:49:10.710Z"
   },
   {
    "duration": 23,
    "start_time": "2022-05-21T19:49:10.716Z"
   },
   {
    "duration": 5,
    "start_time": "2022-05-21T19:49:10.740Z"
   },
   {
    "duration": 5,
    "start_time": "2022-05-21T19:49:10.746Z"
   },
   {
    "duration": 7,
    "start_time": "2022-05-21T19:49:10.752Z"
   },
   {
    "duration": 7,
    "start_time": "2022-05-21T19:49:10.760Z"
   },
   {
    "duration": 8,
    "start_time": "2022-05-21T19:49:10.768Z"
   },
   {
    "duration": 10,
    "start_time": "2022-05-21T19:49:10.777Z"
   },
   {
    "duration": 7,
    "start_time": "2022-05-21T19:49:10.788Z"
   },
   {
    "duration": 25,
    "start_time": "2022-05-21T19:49:10.797Z"
   },
   {
    "duration": 18,
    "start_time": "2022-05-21T19:49:10.825Z"
   },
   {
    "duration": 7,
    "start_time": "2022-05-21T19:49:10.845Z"
   },
   {
    "duration": 6,
    "start_time": "2022-05-21T19:49:10.853Z"
   },
   {
    "duration": 6,
    "start_time": "2022-05-21T19:49:10.860Z"
   },
   {
    "duration": 5,
    "start_time": "2022-05-21T19:49:10.868Z"
   },
   {
    "duration": 4,
    "start_time": "2022-05-21T19:49:10.875Z"
   },
   {
    "duration": 92,
    "start_time": "2022-05-21T19:49:10.881Z"
   },
   {
    "duration": 2,
    "start_time": "2022-05-21T19:49:10.975Z"
   },
   {
    "duration": 2,
    "start_time": "2022-05-21T19:49:10.982Z"
   },
   {
    "duration": 5,
    "start_time": "2022-05-21T19:49:10.986Z"
   },
   {
    "duration": 9,
    "start_time": "2022-05-21T19:49:10.992Z"
   },
   {
    "duration": 28,
    "start_time": "2022-05-21T19:49:11.016Z"
   },
   {
    "duration": 6,
    "start_time": "2022-05-21T19:49:11.046Z"
   },
   {
    "duration": 7,
    "start_time": "2022-05-21T19:49:11.054Z"
   },
   {
    "duration": 7,
    "start_time": "2022-05-21T19:49:11.062Z"
   },
   {
    "duration": 30,
    "start_time": "2022-05-21T19:49:11.070Z"
   },
   {
    "duration": 8,
    "start_time": "2022-05-21T19:52:24.897Z"
   },
   {
    "duration": 6,
    "start_time": "2022-05-21T19:52:40.691Z"
   },
   {
    "duration": 76,
    "start_time": "2022-05-21T19:52:45.132Z"
   },
   {
    "duration": 9,
    "start_time": "2022-05-21T19:52:45.217Z"
   },
   {
    "duration": 38,
    "start_time": "2022-05-21T19:52:45.227Z"
   },
   {
    "duration": 25,
    "start_time": "2022-05-21T19:52:45.267Z"
   },
   {
    "duration": 41,
    "start_time": "2022-05-21T19:52:45.294Z"
   },
   {
    "duration": 28,
    "start_time": "2022-05-21T19:52:45.337Z"
   },
   {
    "duration": 8,
    "start_time": "2022-05-21T19:52:45.368Z"
   },
   {
    "duration": 7,
    "start_time": "2022-05-21T19:52:45.378Z"
   },
   {
    "duration": 34,
    "start_time": "2022-05-21T19:52:45.387Z"
   },
   {
    "duration": 29,
    "start_time": "2022-05-21T19:52:45.424Z"
   },
   {
    "duration": 14,
    "start_time": "2022-05-21T19:52:45.455Z"
   },
   {
    "duration": 51,
    "start_time": "2022-05-21T19:52:45.471Z"
   },
   {
    "duration": 26,
    "start_time": "2022-05-21T19:52:45.526Z"
   },
   {
    "duration": 16,
    "start_time": "2022-05-21T19:52:45.556Z"
   },
   {
    "duration": 23,
    "start_time": "2022-05-21T19:52:45.574Z"
   },
   {
    "duration": 26,
    "start_time": "2022-05-21T19:52:45.598Z"
   },
   {
    "duration": 50,
    "start_time": "2022-05-21T19:52:45.632Z"
   },
   {
    "duration": 18,
    "start_time": "2022-05-21T19:52:45.683Z"
   },
   {
    "duration": 58,
    "start_time": "2022-05-21T19:52:45.706Z"
   },
   {
    "duration": 6,
    "start_time": "2022-05-21T19:52:45.766Z"
   },
   {
    "duration": 11,
    "start_time": "2022-05-21T19:52:45.774Z"
   },
   {
    "duration": 7,
    "start_time": "2022-05-21T19:52:45.787Z"
   },
   {
    "duration": 45,
    "start_time": "2022-05-21T19:52:45.796Z"
   },
   {
    "duration": 38,
    "start_time": "2022-05-21T19:52:45.843Z"
   },
   {
    "duration": 14,
    "start_time": "2022-05-21T19:52:45.884Z"
   },
   {
    "duration": 19,
    "start_time": "2022-05-21T19:52:45.900Z"
   },
   {
    "duration": 24,
    "start_time": "2022-05-21T19:52:45.921Z"
   },
   {
    "duration": 10,
    "start_time": "2022-05-21T19:52:45.946Z"
   },
   {
    "duration": 15,
    "start_time": "2022-05-21T19:52:45.957Z"
   },
   {
    "duration": 10,
    "start_time": "2022-05-21T19:52:45.974Z"
   },
   {
    "duration": 9,
    "start_time": "2022-05-21T19:52:45.986Z"
   },
   {
    "duration": 9,
    "start_time": "2022-05-21T19:52:45.996Z"
   },
   {
    "duration": 39,
    "start_time": "2022-05-21T19:52:46.007Z"
   },
   {
    "duration": 30,
    "start_time": "2022-05-21T19:52:46.048Z"
   },
   {
    "duration": 11,
    "start_time": "2022-05-21T19:52:46.079Z"
   },
   {
    "duration": 7,
    "start_time": "2022-05-21T19:52:46.092Z"
   },
   {
    "duration": 61,
    "start_time": "2022-05-21T19:52:46.100Z"
   },
   {
    "duration": 20,
    "start_time": "2022-05-21T19:52:46.163Z"
   },
   {
    "duration": 62,
    "start_time": "2022-05-21T19:52:46.185Z"
   },
   {
    "duration": 19,
    "start_time": "2022-05-21T19:52:46.249Z"
   },
   {
    "duration": 15,
    "start_time": "2022-05-21T19:52:46.274Z"
   },
   {
    "duration": 9,
    "start_time": "2022-05-21T19:52:46.291Z"
   },
   {
    "duration": 44,
    "start_time": "2022-05-21T19:52:46.304Z"
   },
   {
    "duration": 16,
    "start_time": "2022-05-21T19:52:46.350Z"
   },
   {
    "duration": 27,
    "start_time": "2022-05-21T19:52:46.368Z"
   },
   {
    "duration": 4,
    "start_time": "2022-05-21T19:52:46.397Z"
   },
   {
    "duration": 38,
    "start_time": "2022-05-21T19:52:46.409Z"
   },
   {
    "duration": 23,
    "start_time": "2022-05-21T19:52:46.449Z"
   },
   {
    "duration": 25,
    "start_time": "2022-05-21T19:52:46.475Z"
   },
   {
    "duration": 55,
    "start_time": "2022-05-21T19:52:46.502Z"
   },
   {
    "duration": 35,
    "start_time": "2022-05-21T19:52:46.559Z"
   },
   {
    "duration": 62,
    "start_time": "2022-05-21T19:52:46.597Z"
   },
   {
    "duration": 24,
    "start_time": "2022-05-21T19:52:46.661Z"
   },
   {
    "duration": 66,
    "start_time": "2022-05-21T19:52:46.687Z"
   },
   {
    "duration": 5,
    "start_time": "2022-05-21T19:52:46.755Z"
   },
   {
    "duration": 31,
    "start_time": "2022-05-21T19:52:46.762Z"
   },
   {
    "duration": 41,
    "start_time": "2022-05-21T19:52:46.794Z"
   },
   {
    "duration": 9,
    "start_time": "2022-05-21T19:52:46.837Z"
   },
   {
    "duration": 38,
    "start_time": "2022-05-21T19:52:46.848Z"
   },
   {
    "duration": 45,
    "start_time": "2022-05-21T19:52:46.888Z"
   },
   {
    "duration": 21,
    "start_time": "2022-05-21T19:52:46.934Z"
   },
   {
    "duration": 12,
    "start_time": "2022-05-21T19:52:46.956Z"
   },
   {
    "duration": 32,
    "start_time": "2022-05-21T19:52:46.970Z"
   },
   {
    "duration": 45,
    "start_time": "2022-05-21T19:52:47.009Z"
   },
   {
    "duration": 31,
    "start_time": "2022-05-21T19:52:47.056Z"
   },
   {
    "duration": 44,
    "start_time": "2022-05-21T19:52:47.089Z"
   },
   {
    "duration": 20,
    "start_time": "2022-05-21T19:52:47.135Z"
   },
   {
    "duration": 23,
    "start_time": "2022-05-21T19:52:47.157Z"
   },
   {
    "duration": 47,
    "start_time": "2022-05-21T19:52:47.182Z"
   },
   {
    "duration": 30,
    "start_time": "2022-05-21T19:52:47.231Z"
   },
   {
    "duration": 34,
    "start_time": "2022-05-21T19:52:47.262Z"
   },
   {
    "duration": 51,
    "start_time": "2022-05-21T19:52:47.298Z"
   },
   {
    "duration": 31,
    "start_time": "2022-05-21T19:52:47.351Z"
   },
   {
    "duration": 65,
    "start_time": "2022-05-21T19:52:47.384Z"
   },
   {
    "duration": 7,
    "start_time": "2022-05-21T19:52:47.450Z"
   },
   {
    "duration": 23,
    "start_time": "2022-05-21T19:52:47.458Z"
   },
   {
    "duration": 57,
    "start_time": "2022-05-21T19:52:47.483Z"
   },
   {
    "duration": 12,
    "start_time": "2022-05-21T19:52:47.542Z"
   },
   {
    "duration": 21,
    "start_time": "2022-05-21T19:52:47.558Z"
   },
   {
    "duration": 55,
    "start_time": "2022-05-21T19:52:47.581Z"
   },
   {
    "duration": 52,
    "start_time": "2022-05-21T19:52:47.638Z"
   },
   {
    "duration": 3,
    "start_time": "2022-05-21T19:52:47.691Z"
   },
   {
    "duration": 46,
    "start_time": "2022-05-21T19:52:47.696Z"
   },
   {
    "duration": 12,
    "start_time": "2022-05-21T19:52:47.744Z"
   },
   {
    "duration": 33,
    "start_time": "2022-05-21T19:52:47.758Z"
   },
   {
    "duration": 52,
    "start_time": "2022-05-21T19:52:47.793Z"
   },
   {
    "duration": 22,
    "start_time": "2022-05-21T19:52:47.847Z"
   },
   {
    "duration": 30,
    "start_time": "2022-05-21T19:52:47.871Z"
   },
   {
    "duration": 40,
    "start_time": "2022-05-21T19:52:47.906Z"
   },
   {
    "duration": 14,
    "start_time": "2022-05-21T19:52:47.948Z"
   },
   {
    "duration": 41,
    "start_time": "2022-05-21T20:11:29.928Z"
   },
   {
    "duration": 46,
    "start_time": "2022-05-21T20:12:06.918Z"
   },
   {
    "duration": 40,
    "start_time": "2022-05-21T20:12:14.459Z"
   },
   {
    "duration": 8,
    "start_time": "2022-05-21T20:17:55.121Z"
   },
   {
    "duration": 5,
    "start_time": "2022-05-21T20:18:09.393Z"
   },
   {
    "duration": 4,
    "start_time": "2022-05-21T20:18:23.312Z"
   },
   {
    "duration": 11,
    "start_time": "2022-05-21T20:19:16.589Z"
   },
   {
    "duration": 452,
    "start_time": "2022-05-21T20:19:47.797Z"
   },
   {
    "duration": 51,
    "start_time": "2022-05-21T20:21:18.155Z"
   },
   {
    "duration": 8,
    "start_time": "2022-05-21T20:21:31.394Z"
   },
   {
    "duration": 8,
    "start_time": "2022-05-21T20:23:12.019Z"
   },
   {
    "duration": 18,
    "start_time": "2022-05-21T20:23:46.079Z"
   },
   {
    "duration": 14,
    "start_time": "2022-05-21T21:27:27.298Z"
   },
   {
    "duration": 8,
    "start_time": "2022-05-21T21:33:42.322Z"
   },
   {
    "duration": 4,
    "start_time": "2022-05-21T21:34:55.552Z"
   },
   {
    "duration": 5,
    "start_time": "2022-05-21T21:35:15.835Z"
   },
   {
    "duration": 4,
    "start_time": "2022-05-21T21:36:30.874Z"
   },
   {
    "duration": 91,
    "start_time": "2022-05-21T21:37:46.815Z"
   },
   {
    "duration": 124,
    "start_time": "2022-05-21T21:37:58.405Z"
   },
   {
    "duration": 141,
    "start_time": "2022-05-21T21:38:15.878Z"
   },
   {
    "duration": 94,
    "start_time": "2022-05-21T21:38:22.518Z"
   },
   {
    "duration": 5,
    "start_time": "2022-05-21T21:39:23.552Z"
   },
   {
    "duration": 98,
    "start_time": "2022-05-21T21:39:26.227Z"
   },
   {
    "duration": 7,
    "start_time": "2022-05-21T21:39:35.472Z"
   },
   {
    "duration": 545,
    "start_time": "2022-05-21T21:41:51.564Z"
   },
   {
    "duration": 11,
    "start_time": "2022-05-21T21:41:52.111Z"
   },
   {
    "duration": 20,
    "start_time": "2022-05-21T21:41:52.124Z"
   },
   {
    "duration": 35,
    "start_time": "2022-05-21T21:41:52.146Z"
   },
   {
    "duration": 13,
    "start_time": "2022-05-21T21:41:52.183Z"
   },
   {
    "duration": 33,
    "start_time": "2022-05-21T21:41:52.198Z"
   },
   {
    "duration": 7,
    "start_time": "2022-05-21T21:41:52.233Z"
   },
   {
    "duration": 6,
    "start_time": "2022-05-21T21:41:52.242Z"
   },
   {
    "duration": 16,
    "start_time": "2022-05-21T21:41:52.249Z"
   },
   {
    "duration": 35,
    "start_time": "2022-05-21T21:41:52.268Z"
   },
   {
    "duration": 9,
    "start_time": "2022-05-21T21:41:52.311Z"
   },
   {
    "duration": 39,
    "start_time": "2022-05-21T21:41:52.322Z"
   },
   {
    "duration": 18,
    "start_time": "2022-05-21T21:41:52.362Z"
   },
   {
    "duration": 6,
    "start_time": "2022-05-21T21:41:52.381Z"
   },
   {
    "duration": 17,
    "start_time": "2022-05-21T21:41:52.404Z"
   },
   {
    "duration": 22,
    "start_time": "2022-05-21T21:41:52.423Z"
   },
   {
    "duration": 68,
    "start_time": "2022-05-21T21:41:52.448Z"
   },
   {
    "duration": 20,
    "start_time": "2022-05-21T21:41:52.518Z"
   },
   {
    "duration": 26,
    "start_time": "2022-05-21T21:41:52.540Z"
   },
   {
    "duration": 6,
    "start_time": "2022-05-21T21:41:52.567Z"
   },
   {
    "duration": 15,
    "start_time": "2022-05-21T21:41:52.574Z"
   },
   {
    "duration": 22,
    "start_time": "2022-05-21T21:41:52.602Z"
   },
   {
    "duration": 9,
    "start_time": "2022-05-21T21:41:52.626Z"
   },
   {
    "duration": 19,
    "start_time": "2022-05-21T21:41:52.637Z"
   },
   {
    "duration": 10,
    "start_time": "2022-05-21T21:41:52.658Z"
   },
   {
    "duration": 16,
    "start_time": "2022-05-21T21:41:52.670Z"
   },
   {
    "duration": 29,
    "start_time": "2022-05-21T21:41:52.687Z"
   },
   {
    "duration": 6,
    "start_time": "2022-05-21T21:41:52.724Z"
   },
   {
    "duration": 8,
    "start_time": "2022-05-21T21:41:52.732Z"
   },
   {
    "duration": 10,
    "start_time": "2022-05-21T21:41:52.742Z"
   },
   {
    "duration": 7,
    "start_time": "2022-05-21T21:41:52.753Z"
   },
   {
    "duration": 8,
    "start_time": "2022-05-21T21:41:52.762Z"
   },
   {
    "duration": 33,
    "start_time": "2022-05-21T21:41:52.772Z"
   },
   {
    "duration": 31,
    "start_time": "2022-05-21T21:41:52.808Z"
   },
   {
    "duration": 18,
    "start_time": "2022-05-21T21:41:52.841Z"
   },
   {
    "duration": 7,
    "start_time": "2022-05-21T21:41:52.861Z"
   },
   {
    "duration": 33,
    "start_time": "2022-05-21T21:41:52.870Z"
   },
   {
    "duration": 14,
    "start_time": "2022-05-21T21:41:52.905Z"
   },
   {
    "duration": 18,
    "start_time": "2022-05-21T21:41:52.921Z"
   },
   {
    "duration": 17,
    "start_time": "2022-05-21T21:41:52.941Z"
   },
   {
    "duration": 10,
    "start_time": "2022-05-21T21:41:52.960Z"
   },
   {
    "duration": 8,
    "start_time": "2022-05-21T21:41:52.972Z"
   },
   {
    "duration": 6,
    "start_time": "2022-05-21T21:41:52.982Z"
   },
   {
    "duration": 8,
    "start_time": "2022-05-21T21:41:52.990Z"
   },
   {
    "duration": 30,
    "start_time": "2022-05-21T21:41:53.005Z"
   },
   {
    "duration": 3,
    "start_time": "2022-05-21T21:41:53.037Z"
   },
   {
    "duration": 8,
    "start_time": "2022-05-21T21:41:53.041Z"
   },
   {
    "duration": 9,
    "start_time": "2022-05-21T21:41:53.050Z"
   },
   {
    "duration": 9,
    "start_time": "2022-05-21T21:41:53.061Z"
   },
   {
    "duration": 12,
    "start_time": "2022-05-21T21:41:53.072Z"
   },
   {
    "duration": 8,
    "start_time": "2022-05-21T21:41:53.086Z"
   },
   {
    "duration": 22,
    "start_time": "2022-05-21T21:41:53.096Z"
   },
   {
    "duration": 11,
    "start_time": "2022-05-21T21:41:53.120Z"
   },
   {
    "duration": 31,
    "start_time": "2022-05-21T21:41:53.133Z"
   },
   {
    "duration": 5,
    "start_time": "2022-05-21T21:41:53.166Z"
   },
   {
    "duration": 8,
    "start_time": "2022-05-21T21:41:53.173Z"
   },
   {
    "duration": 30,
    "start_time": "2022-05-21T21:41:53.182Z"
   },
   {
    "duration": 19,
    "start_time": "2022-05-21T21:41:53.214Z"
   },
   {
    "duration": 8,
    "start_time": "2022-05-21T21:41:53.234Z"
   },
   {
    "duration": 5,
    "start_time": "2022-05-21T21:41:53.243Z"
   },
   {
    "duration": 13,
    "start_time": "2022-05-21T21:41:53.249Z"
   },
   {
    "duration": 19,
    "start_time": "2022-05-21T21:41:53.264Z"
   },
   {
    "duration": 13,
    "start_time": "2022-05-21T21:41:53.285Z"
   },
   {
    "duration": 22,
    "start_time": "2022-05-21T21:41:53.300Z"
   },
   {
    "duration": 10,
    "start_time": "2022-05-21T21:41:53.323Z"
   },
   {
    "duration": 11,
    "start_time": "2022-05-21T21:41:53.335Z"
   },
   {
    "duration": 10,
    "start_time": "2022-05-21T21:41:53.347Z"
   },
   {
    "duration": 8,
    "start_time": "2022-05-21T21:41:53.359Z"
   },
   {
    "duration": 5,
    "start_time": "2022-05-21T21:41:53.369Z"
   },
   {
    "duration": 6,
    "start_time": "2022-05-21T21:41:53.376Z"
   },
   {
    "duration": 7,
    "start_time": "2022-05-21T21:41:53.383Z"
   },
   {
    "duration": 6,
    "start_time": "2022-05-21T21:41:53.392Z"
   },
   {
    "duration": 23,
    "start_time": "2022-05-21T21:41:53.400Z"
   },
   {
    "duration": 21,
    "start_time": "2022-05-21T21:41:53.425Z"
   },
   {
    "duration": 5,
    "start_time": "2022-05-21T21:41:53.448Z"
   },
   {
    "duration": 11,
    "start_time": "2022-05-21T21:41:53.455Z"
   },
   {
    "duration": 7,
    "start_time": "2022-05-21T21:41:53.468Z"
   },
   {
    "duration": 11,
    "start_time": "2022-05-21T21:41:53.476Z"
   },
   {
    "duration": 15,
    "start_time": "2022-05-21T21:41:53.488Z"
   },
   {
    "duration": 8,
    "start_time": "2022-05-21T21:41:53.507Z"
   },
   {
    "duration": 73,
    "start_time": "2022-05-21T21:41:53.516Z"
   },
   {
    "duration": 16,
    "start_time": "2022-05-21T21:41:53.594Z"
   },
   {
    "duration": 5,
    "start_time": "2022-05-21T21:41:53.614Z"
   },
   {
    "duration": 114,
    "start_time": "2022-05-21T21:41:53.621Z"
   },
   {
    "duration": 3,
    "start_time": "2022-05-21T21:41:53.737Z"
   },
   {
    "duration": 7,
    "start_time": "2022-05-21T21:41:53.741Z"
   },
   {
    "duration": 14,
    "start_time": "2022-05-21T21:41:53.749Z"
   },
   {
    "duration": 10,
    "start_time": "2022-05-21T21:41:53.765Z"
   },
   {
    "duration": 42,
    "start_time": "2022-05-21T21:41:53.776Z"
   },
   {
    "duration": 2,
    "start_time": "2022-05-21T21:41:53.820Z"
   },
   {
    "duration": 148,
    "start_time": "2022-05-21T21:42:10.394Z"
   },
   {
    "duration": 106,
    "start_time": "2022-05-21T21:42:17.348Z"
   },
   {
    "duration": 593,
    "start_time": "2022-05-21T21:43:06.091Z"
   },
   {
    "duration": 10,
    "start_time": "2022-05-21T21:43:06.686Z"
   },
   {
    "duration": 44,
    "start_time": "2022-05-21T21:43:06.698Z"
   },
   {
    "duration": 18,
    "start_time": "2022-05-21T21:43:06.744Z"
   },
   {
    "duration": 4,
    "start_time": "2022-05-21T21:43:06.765Z"
   },
   {
    "duration": 19,
    "start_time": "2022-05-21T21:43:06.771Z"
   },
   {
    "duration": 33,
    "start_time": "2022-05-21T21:43:06.792Z"
   },
   {
    "duration": 14,
    "start_time": "2022-05-21T21:43:06.827Z"
   },
   {
    "duration": 29,
    "start_time": "2022-05-21T21:43:06.843Z"
   },
   {
    "duration": 16,
    "start_time": "2022-05-21T21:43:06.874Z"
   },
   {
    "duration": 5,
    "start_time": "2022-05-21T21:43:06.892Z"
   },
   {
    "duration": 53,
    "start_time": "2022-05-21T21:43:06.899Z"
   },
   {
    "duration": 20,
    "start_time": "2022-05-21T21:43:06.953Z"
   },
   {
    "duration": 5,
    "start_time": "2022-05-21T21:43:06.976Z"
   },
   {
    "duration": 37,
    "start_time": "2022-05-21T21:43:06.982Z"
   },
   {
    "duration": 21,
    "start_time": "2022-05-21T21:43:07.021Z"
   },
   {
    "duration": 33,
    "start_time": "2022-05-21T21:43:07.044Z"
   },
   {
    "duration": 35,
    "start_time": "2022-05-21T21:43:07.078Z"
   },
   {
    "duration": 21,
    "start_time": "2022-05-21T21:43:07.114Z"
   },
   {
    "duration": 5,
    "start_time": "2022-05-21T21:43:07.137Z"
   },
   {
    "duration": 8,
    "start_time": "2022-05-21T21:43:07.144Z"
   },
   {
    "duration": 9,
    "start_time": "2022-05-21T21:43:07.154Z"
   },
   {
    "duration": 9,
    "start_time": "2022-05-21T21:43:07.165Z"
   },
   {
    "duration": 50,
    "start_time": "2022-05-21T21:43:07.176Z"
   },
   {
    "duration": 11,
    "start_time": "2022-05-21T21:43:07.227Z"
   },
   {
    "duration": 18,
    "start_time": "2022-05-21T21:43:07.240Z"
   },
   {
    "duration": 4,
    "start_time": "2022-05-21T21:43:07.260Z"
   },
   {
    "duration": 43,
    "start_time": "2022-05-21T21:43:07.266Z"
   },
   {
    "duration": 18,
    "start_time": "2022-05-21T21:43:07.313Z"
   },
   {
    "duration": 11,
    "start_time": "2022-05-21T21:43:07.333Z"
   },
   {
    "duration": 12,
    "start_time": "2022-05-21T21:43:07.346Z"
   },
   {
    "duration": 5,
    "start_time": "2022-05-21T21:43:07.359Z"
   },
   {
    "duration": 12,
    "start_time": "2022-05-21T21:43:07.366Z"
   },
   {
    "duration": 35,
    "start_time": "2022-05-21T21:43:07.379Z"
   },
   {
    "duration": 13,
    "start_time": "2022-05-21T21:43:07.418Z"
   },
   {
    "duration": 10,
    "start_time": "2022-05-21T21:43:07.433Z"
   },
   {
    "duration": 10,
    "start_time": "2022-05-21T21:43:07.444Z"
   },
   {
    "duration": 10,
    "start_time": "2022-05-21T21:43:07.456Z"
   },
   {
    "duration": 15,
    "start_time": "2022-05-21T21:43:07.468Z"
   },
   {
    "duration": 25,
    "start_time": "2022-05-21T21:43:07.485Z"
   },
   {
    "duration": 14,
    "start_time": "2022-05-21T21:43:07.518Z"
   },
   {
    "duration": 15,
    "start_time": "2022-05-21T21:43:07.534Z"
   },
   {
    "duration": 9,
    "start_time": "2022-05-21T21:43:07.551Z"
   },
   {
    "duration": 7,
    "start_time": "2022-05-21T21:43:07.562Z"
   },
   {
    "duration": 43,
    "start_time": "2022-05-21T21:43:07.571Z"
   },
   {
    "duration": 3,
    "start_time": "2022-05-21T21:43:07.616Z"
   },
   {
    "duration": 9,
    "start_time": "2022-05-21T21:43:07.621Z"
   },
   {
    "duration": 7,
    "start_time": "2022-05-21T21:43:07.632Z"
   },
   {
    "duration": 7,
    "start_time": "2022-05-21T21:43:07.640Z"
   },
   {
    "duration": 8,
    "start_time": "2022-05-21T21:43:07.649Z"
   },
   {
    "duration": 7,
    "start_time": "2022-05-21T21:43:07.658Z"
   },
   {
    "duration": 17,
    "start_time": "2022-05-21T21:43:07.666Z"
   },
   {
    "duration": 28,
    "start_time": "2022-05-21T21:43:07.685Z"
   },
   {
    "duration": 29,
    "start_time": "2022-05-21T21:43:07.715Z"
   },
   {
    "duration": 4,
    "start_time": "2022-05-21T21:43:07.746Z"
   },
   {
    "duration": 14,
    "start_time": "2022-05-21T21:43:07.751Z"
   },
   {
    "duration": 15,
    "start_time": "2022-05-21T21:43:07.767Z"
   },
   {
    "duration": 8,
    "start_time": "2022-05-21T21:43:07.784Z"
   },
   {
    "duration": 24,
    "start_time": "2022-05-21T21:43:07.793Z"
   },
   {
    "duration": 13,
    "start_time": "2022-05-21T21:43:07.820Z"
   },
   {
    "duration": 10,
    "start_time": "2022-05-21T21:43:07.835Z"
   },
   {
    "duration": 3,
    "start_time": "2022-05-21T21:43:07.847Z"
   },
   {
    "duration": 9,
    "start_time": "2022-05-21T21:43:07.852Z"
   },
   {
    "duration": 10,
    "start_time": "2022-05-21T21:43:07.863Z"
   },
   {
    "duration": 4,
    "start_time": "2022-05-21T21:43:07.875Z"
   },
   {
    "duration": 8,
    "start_time": "2022-05-21T21:43:07.881Z"
   },
   {
    "duration": 12,
    "start_time": "2022-05-21T21:43:07.891Z"
   },
   {
    "duration": 17,
    "start_time": "2022-05-21T21:43:07.905Z"
   },
   {
    "duration": 9,
    "start_time": "2022-05-21T21:43:07.925Z"
   },
   {
    "duration": 9,
    "start_time": "2022-05-21T21:43:07.936Z"
   },
   {
    "duration": 9,
    "start_time": "2022-05-21T21:43:07.947Z"
   },
   {
    "duration": 6,
    "start_time": "2022-05-21T21:43:07.958Z"
   },
   {
    "duration": 9,
    "start_time": "2022-05-21T21:43:07.965Z"
   },
   {
    "duration": 18,
    "start_time": "2022-05-21T21:43:07.976Z"
   },
   {
    "duration": 19,
    "start_time": "2022-05-21T21:43:07.996Z"
   },
   {
    "duration": 12,
    "start_time": "2022-05-21T21:43:08.018Z"
   },
   {
    "duration": 14,
    "start_time": "2022-05-21T21:43:08.032Z"
   },
   {
    "duration": 13,
    "start_time": "2022-05-21T21:43:08.047Z"
   },
   {
    "duration": 7,
    "start_time": "2022-05-21T21:43:08.062Z"
   },
   {
    "duration": 6,
    "start_time": "2022-05-21T21:43:08.070Z"
   },
   {
    "duration": 63,
    "start_time": "2022-05-21T21:43:08.078Z"
   },
   {
    "duration": 6,
    "start_time": "2022-05-21T21:43:08.143Z"
   },
   {
    "duration": 16,
    "start_time": "2022-05-21T21:43:08.150Z"
   },
   {
    "duration": 99,
    "start_time": "2022-05-21T21:43:08.168Z"
   },
   {
    "duration": 2,
    "start_time": "2022-05-21T21:43:08.269Z"
   },
   {
    "duration": 6,
    "start_time": "2022-05-21T21:43:08.272Z"
   },
   {
    "duration": 24,
    "start_time": "2022-05-21T21:43:08.280Z"
   },
   {
    "duration": 20,
    "start_time": "2022-05-21T21:43:08.306Z"
   },
   {
    "duration": 17,
    "start_time": "2022-05-21T21:43:08.328Z"
   },
   {
    "duration": 2,
    "start_time": "2022-05-21T21:43:08.348Z"
   },
   {
    "duration": 24,
    "start_time": "2022-05-21T21:44:38.445Z"
   },
   {
    "duration": 4,
    "start_time": "2022-05-21T21:44:59.838Z"
   },
   {
    "duration": 95,
    "start_time": "2022-05-21T21:45:02.056Z"
   },
   {
    "duration": 222,
    "start_time": "2022-05-21T21:45:45.935Z"
   },
   {
    "duration": 176,
    "start_time": "2022-05-21T21:45:59.896Z"
   },
   {
    "duration": 155,
    "start_time": "2022-05-21T21:46:52.076Z"
   },
   {
    "duration": 587,
    "start_time": "2022-05-21T21:47:00.235Z"
   },
   {
    "duration": 11,
    "start_time": "2022-05-21T21:47:00.824Z"
   },
   {
    "duration": 32,
    "start_time": "2022-05-21T21:47:00.837Z"
   },
   {
    "duration": 18,
    "start_time": "2022-05-21T21:47:00.872Z"
   },
   {
    "duration": 6,
    "start_time": "2022-05-21T21:47:00.906Z"
   },
   {
    "duration": 27,
    "start_time": "2022-05-21T21:47:00.916Z"
   },
   {
    "duration": 9,
    "start_time": "2022-05-21T21:47:00.945Z"
   },
   {
    "duration": 17,
    "start_time": "2022-05-21T21:47:00.955Z"
   },
   {
    "duration": 70,
    "start_time": "2022-05-21T21:47:00.975Z"
   },
   {
    "duration": 26,
    "start_time": "2022-05-21T21:47:01.048Z"
   },
   {
    "duration": 12,
    "start_time": "2022-05-21T21:47:01.076Z"
   },
   {
    "duration": 66,
    "start_time": "2022-05-21T21:47:01.090Z"
   },
   {
    "duration": 20,
    "start_time": "2022-05-21T21:47:01.158Z"
   },
   {
    "duration": 30,
    "start_time": "2022-05-21T21:47:01.181Z"
   },
   {
    "duration": 60,
    "start_time": "2022-05-21T21:47:01.214Z"
   },
   {
    "duration": 40,
    "start_time": "2022-05-21T21:47:01.276Z"
   },
   {
    "duration": 66,
    "start_time": "2022-05-21T21:47:01.318Z"
   },
   {
    "duration": 79,
    "start_time": "2022-05-21T21:47:01.386Z"
   },
   {
    "duration": 21,
    "start_time": "2022-05-21T21:47:01.466Z"
   },
   {
    "duration": 22,
    "start_time": "2022-05-21T21:47:01.489Z"
   },
   {
    "duration": 18,
    "start_time": "2022-05-21T21:47:01.515Z"
   },
   {
    "duration": 17,
    "start_time": "2022-05-21T21:47:01.534Z"
   },
   {
    "duration": 11,
    "start_time": "2022-05-21T21:47:01.553Z"
   },
   {
    "duration": 30,
    "start_time": "2022-05-21T21:47:01.566Z"
   },
   {
    "duration": 19,
    "start_time": "2022-05-21T21:47:01.598Z"
   },
   {
    "duration": 19,
    "start_time": "2022-05-21T21:47:01.621Z"
   },
   {
    "duration": 5,
    "start_time": "2022-05-21T21:47:01.641Z"
   },
   {
    "duration": 15,
    "start_time": "2022-05-21T21:47:01.650Z"
   },
   {
    "duration": 16,
    "start_time": "2022-05-21T21:47:01.666Z"
   },
   {
    "duration": 9,
    "start_time": "2022-05-21T21:47:01.684Z"
   },
   {
    "duration": 12,
    "start_time": "2022-05-21T21:47:01.702Z"
   },
   {
    "duration": 16,
    "start_time": "2022-05-21T21:47:01.716Z"
   },
   {
    "duration": 11,
    "start_time": "2022-05-21T21:47:01.734Z"
   },
   {
    "duration": 22,
    "start_time": "2022-05-21T21:47:01.746Z"
   },
   {
    "duration": 14,
    "start_time": "2022-05-21T21:47:01.770Z"
   },
   {
    "duration": 26,
    "start_time": "2022-05-21T21:47:01.786Z"
   },
   {
    "duration": 25,
    "start_time": "2022-05-21T21:47:01.814Z"
   },
   {
    "duration": 20,
    "start_time": "2022-05-21T21:47:01.841Z"
   },
   {
    "duration": 21,
    "start_time": "2022-05-21T21:47:01.863Z"
   },
   {
    "duration": 31,
    "start_time": "2022-05-21T21:47:01.886Z"
   },
   {
    "duration": 37,
    "start_time": "2022-05-21T21:47:01.920Z"
   },
   {
    "duration": 17,
    "start_time": "2022-05-21T21:47:01.959Z"
   },
   {
    "duration": 18,
    "start_time": "2022-05-21T21:47:01.978Z"
   },
   {
    "duration": 18,
    "start_time": "2022-05-21T21:47:01.998Z"
   },
   {
    "duration": 25,
    "start_time": "2022-05-21T21:47:02.018Z"
   },
   {
    "duration": 4,
    "start_time": "2022-05-21T21:47:02.045Z"
   },
   {
    "duration": 11,
    "start_time": "2022-05-21T21:47:02.050Z"
   },
   {
    "duration": 11,
    "start_time": "2022-05-21T21:47:02.062Z"
   },
   {
    "duration": 17,
    "start_time": "2022-05-21T21:47:02.074Z"
   },
   {
    "duration": 6,
    "start_time": "2022-05-21T21:47:02.093Z"
   },
   {
    "duration": 36,
    "start_time": "2022-05-21T21:47:02.101Z"
   },
   {
    "duration": 17,
    "start_time": "2022-05-21T21:47:02.139Z"
   },
   {
    "duration": 13,
    "start_time": "2022-05-21T21:47:02.159Z"
   },
   {
    "duration": 30,
    "start_time": "2022-05-21T21:47:02.173Z"
   },
   {
    "duration": 4,
    "start_time": "2022-05-21T21:47:02.218Z"
   },
   {
    "duration": 12,
    "start_time": "2022-05-21T21:47:02.224Z"
   },
   {
    "duration": 17,
    "start_time": "2022-05-21T21:47:02.237Z"
   },
   {
    "duration": 7,
    "start_time": "2022-05-21T21:47:02.256Z"
   },
   {
    "duration": 22,
    "start_time": "2022-05-21T21:47:02.265Z"
   },
   {
    "duration": 5,
    "start_time": "2022-05-21T21:47:02.289Z"
   },
   {
    "duration": 29,
    "start_time": "2022-05-21T21:47:02.295Z"
   },
   {
    "duration": 11,
    "start_time": "2022-05-21T21:47:02.325Z"
   },
   {
    "duration": 6,
    "start_time": "2022-05-21T21:47:02.337Z"
   },
   {
    "duration": 24,
    "start_time": "2022-05-21T21:47:02.345Z"
   },
   {
    "duration": 5,
    "start_time": "2022-05-21T21:47:02.371Z"
   },
   {
    "duration": 40,
    "start_time": "2022-05-21T21:47:02.378Z"
   },
   {
    "duration": 7,
    "start_time": "2022-05-21T21:47:02.420Z"
   },
   {
    "duration": 6,
    "start_time": "2022-05-21T21:47:02.429Z"
   },
   {
    "duration": 5,
    "start_time": "2022-05-21T21:47:02.437Z"
   },
   {
    "duration": 6,
    "start_time": "2022-05-21T21:47:02.443Z"
   },
   {
    "duration": 10,
    "start_time": "2022-05-21T21:47:02.451Z"
   },
   {
    "duration": 7,
    "start_time": "2022-05-21T21:47:02.463Z"
   },
   {
    "duration": 7,
    "start_time": "2022-05-21T21:47:02.472Z"
   },
   {
    "duration": 31,
    "start_time": "2022-05-21T21:47:02.481Z"
   },
   {
    "duration": 14,
    "start_time": "2022-05-21T21:47:02.516Z"
   },
   {
    "duration": 7,
    "start_time": "2022-05-21T21:47:02.531Z"
   },
   {
    "duration": 14,
    "start_time": "2022-05-21T21:47:02.540Z"
   },
   {
    "duration": 9,
    "start_time": "2022-05-21T21:47:02.555Z"
   },
   {
    "duration": 10,
    "start_time": "2022-05-21T21:47:02.566Z"
   },
   {
    "duration": 5,
    "start_time": "2022-05-21T21:47:02.577Z"
   },
   {
    "duration": 61,
    "start_time": "2022-05-21T21:47:02.584Z"
   },
   {
    "duration": 5,
    "start_time": "2022-05-21T21:47:02.650Z"
   },
   {
    "duration": 9,
    "start_time": "2022-05-21T21:47:02.657Z"
   },
   {
    "duration": 9,
    "start_time": "2022-05-21T21:47:02.668Z"
   },
   {
    "duration": 115,
    "start_time": "2022-05-21T21:47:02.678Z"
   },
   {
    "duration": 10,
    "start_time": "2022-05-21T21:47:02.795Z"
   },
   {
    "duration": 2,
    "start_time": "2022-05-21T21:47:02.807Z"
   },
   {
    "duration": 16,
    "start_time": "2022-05-21T21:47:02.811Z"
   },
   {
    "duration": 8,
    "start_time": "2022-05-21T21:47:02.829Z"
   },
   {
    "duration": 14,
    "start_time": "2022-05-21T21:47:02.839Z"
   },
   {
    "duration": 2,
    "start_time": "2022-05-21T21:47:02.855Z"
   },
   {
    "duration": 103,
    "start_time": "2022-05-21T21:47:18.989Z"
   },
   {
    "duration": 186,
    "start_time": "2022-05-21T21:48:29.549Z"
   },
   {
    "duration": 4,
    "start_time": "2022-05-21T21:48:45.356Z"
   },
   {
    "duration": 117,
    "start_time": "2022-05-21T21:48:47.798Z"
   },
   {
    "duration": 12,
    "start_time": "2022-05-21T21:49:56.622Z"
   },
   {
    "duration": 9,
    "start_time": "2022-05-21T21:50:00.381Z"
   },
   {
    "duration": 10,
    "start_time": "2022-05-21T21:50:02.257Z"
   },
   {
    "duration": 10,
    "start_time": "2022-05-21T21:50:06.595Z"
   },
   {
    "duration": 18,
    "start_time": "2022-05-21T21:50:13.237Z"
   },
   {
    "duration": 5,
    "start_time": "2022-05-21T21:50:22.256Z"
   },
   {
    "duration": 110,
    "start_time": "2022-05-21T21:50:28.537Z"
   },
   {
    "duration": 4,
    "start_time": "2022-05-21T21:52:22.357Z"
   },
   {
    "duration": 4,
    "start_time": "2022-05-21T21:52:29.254Z"
   },
   {
    "duration": 108,
    "start_time": "2022-05-21T21:54:01.929Z"
   },
   {
    "duration": 5,
    "start_time": "2022-05-21T21:54:31.236Z"
   },
   {
    "duration": 102,
    "start_time": "2022-05-21T21:54:32.768Z"
   },
   {
    "duration": 106,
    "start_time": "2022-05-21T21:54:44.052Z"
   },
   {
    "duration": 5,
    "start_time": "2022-05-21T21:56:33.321Z"
   },
   {
    "duration": 94,
    "start_time": "2022-05-21T21:56:34.939Z"
   },
   {
    "duration": 4,
    "start_time": "2022-05-21T21:57:54.621Z"
   },
   {
    "duration": 92,
    "start_time": "2022-05-21T21:57:55.941Z"
   },
   {
    "duration": 4,
    "start_time": "2022-05-21T21:58:32.627Z"
   },
   {
    "duration": 96,
    "start_time": "2022-05-21T21:58:33.802Z"
   },
   {
    "duration": 16,
    "start_time": "2022-05-21T21:58:39.794Z"
   },
   {
    "duration": 27,
    "start_time": "2022-05-21T21:58:45.651Z"
   },
   {
    "duration": 4,
    "start_time": "2022-05-21T22:02:27.204Z"
   },
   {
    "duration": 94,
    "start_time": "2022-05-21T22:02:28.547Z"
   },
   {
    "duration": 5,
    "start_time": "2022-05-21T22:03:00.514Z"
   },
   {
    "duration": 104,
    "start_time": "2022-05-21T22:03:02.821Z"
   },
   {
    "duration": 95,
    "start_time": "2022-05-21T22:03:18.138Z"
   },
   {
    "duration": 77,
    "start_time": "2022-05-21T22:03:54.820Z"
   },
   {
    "duration": 12,
    "start_time": "2022-05-22T15:51:05.924Z"
   },
   {
    "duration": 161,
    "start_time": "2022-05-22T15:51:14.423Z"
   },
   {
    "duration": 4,
    "start_time": "2022-05-22T15:51:14.586Z"
   },
   {
    "duration": 16,
    "start_time": "2022-05-22T15:51:14.591Z"
   },
   {
    "duration": 17,
    "start_time": "2022-05-22T15:51:14.609Z"
   },
   {
    "duration": 3,
    "start_time": "2022-05-22T15:51:14.627Z"
   },
   {
    "duration": 13,
    "start_time": "2022-05-22T15:51:14.631Z"
   },
   {
    "duration": 7,
    "start_time": "2022-05-22T15:51:14.646Z"
   },
   {
    "duration": 6,
    "start_time": "2022-05-22T15:51:14.654Z"
   },
   {
    "duration": 54,
    "start_time": "2022-05-22T15:51:14.661Z"
   },
   {
    "duration": 13,
    "start_time": "2022-05-22T15:51:14.718Z"
   },
   {
    "duration": 5,
    "start_time": "2022-05-22T15:51:14.732Z"
   },
   {
    "duration": 27,
    "start_time": "2022-05-22T15:51:14.738Z"
   },
   {
    "duration": 49,
    "start_time": "2022-05-22T15:51:14.767Z"
   },
   {
    "duration": 5,
    "start_time": "2022-05-22T15:51:14.817Z"
   },
   {
    "duration": 16,
    "start_time": "2022-05-22T15:51:14.824Z"
   },
   {
    "duration": 16,
    "start_time": "2022-05-22T15:51:14.842Z"
   },
   {
    "duration": 54,
    "start_time": "2022-05-22T15:51:14.860Z"
   },
   {
    "duration": 16,
    "start_time": "2022-05-22T15:51:14.916Z"
   },
   {
    "duration": 16,
    "start_time": "2022-05-22T15:51:14.934Z"
   },
   {
    "duration": 5,
    "start_time": "2022-05-22T15:51:14.952Z"
   },
   {
    "duration": 8,
    "start_time": "2022-05-22T15:51:14.958Z"
   },
   {
    "duration": 10,
    "start_time": "2022-05-22T15:51:14.967Z"
   },
   {
    "duration": 7,
    "start_time": "2022-05-22T15:51:15.002Z"
   },
   {
    "duration": 32,
    "start_time": "2022-05-22T15:51:15.010Z"
   },
   {
    "duration": 10,
    "start_time": "2022-05-22T15:51:15.043Z"
   },
   {
    "duration": 17,
    "start_time": "2022-05-22T15:51:15.054Z"
   },
   {
    "duration": 4,
    "start_time": "2022-05-22T15:51:15.073Z"
   },
   {
    "duration": 20,
    "start_time": "2022-05-22T15:51:15.082Z"
   },
   {
    "duration": 5,
    "start_time": "2022-05-22T15:51:15.103Z"
   },
   {
    "duration": 10,
    "start_time": "2022-05-22T15:51:15.109Z"
   },
   {
    "duration": 5,
    "start_time": "2022-05-22T15:51:15.121Z"
   },
   {
    "duration": 6,
    "start_time": "2022-05-22T15:51:15.128Z"
   },
   {
    "duration": 6,
    "start_time": "2022-05-22T15:51:15.136Z"
   },
   {
    "duration": 21,
    "start_time": "2022-05-22T15:51:15.143Z"
   },
   {
    "duration": 10,
    "start_time": "2022-05-22T15:51:15.166Z"
   },
   {
    "duration": 5,
    "start_time": "2022-05-22T15:51:15.202Z"
   },
   {
    "duration": 7,
    "start_time": "2022-05-22T15:51:15.209Z"
   },
   {
    "duration": 5,
    "start_time": "2022-05-22T15:51:15.217Z"
   },
   {
    "duration": 9,
    "start_time": "2022-05-22T15:51:15.224Z"
   },
   {
    "duration": 6,
    "start_time": "2022-05-22T15:51:15.234Z"
   },
   {
    "duration": 9,
    "start_time": "2022-05-22T15:51:15.241Z"
   },
   {
    "duration": 8,
    "start_time": "2022-05-22T15:51:15.251Z"
   },
   {
    "duration": 5,
    "start_time": "2022-05-22T15:51:15.260Z"
   },
   {
    "duration": 5,
    "start_time": "2022-05-22T15:51:15.302Z"
   },
   {
    "duration": 18,
    "start_time": "2022-05-22T15:51:15.309Z"
   },
   {
    "duration": 4,
    "start_time": "2022-05-22T15:51:15.328Z"
   },
   {
    "duration": 5,
    "start_time": "2022-05-22T15:51:15.333Z"
   },
   {
    "duration": 4,
    "start_time": "2022-05-22T15:51:15.339Z"
   },
   {
    "duration": 5,
    "start_time": "2022-05-22T15:51:15.344Z"
   },
   {
    "duration": 6,
    "start_time": "2022-05-22T15:51:15.350Z"
   },
   {
    "duration": 9,
    "start_time": "2022-05-22T15:51:15.358Z"
   },
   {
    "duration": 39,
    "start_time": "2022-05-22T15:51:15.368Z"
   },
   {
    "duration": 6,
    "start_time": "2022-05-22T15:51:15.409Z"
   },
   {
    "duration": 28,
    "start_time": "2022-05-22T15:51:15.416Z"
   },
   {
    "duration": 4,
    "start_time": "2022-05-22T15:51:15.446Z"
   },
   {
    "duration": 6,
    "start_time": "2022-05-22T15:51:15.452Z"
   },
   {
    "duration": 4,
    "start_time": "2022-05-22T15:51:15.460Z"
   },
   {
    "duration": 5,
    "start_time": "2022-05-22T15:51:15.465Z"
   },
   {
    "duration": 31,
    "start_time": "2022-05-22T15:51:15.472Z"
   },
   {
    "duration": 4,
    "start_time": "2022-05-22T15:51:15.504Z"
   },
   {
    "duration": 9,
    "start_time": "2022-05-22T15:51:15.510Z"
   },
   {
    "duration": 2,
    "start_time": "2022-05-22T15:51:15.521Z"
   },
   {
    "duration": 7,
    "start_time": "2022-05-22T15:51:15.524Z"
   },
   {
    "duration": 6,
    "start_time": "2022-05-22T15:51:15.532Z"
   },
   {
    "duration": 2,
    "start_time": "2022-05-22T15:51:15.540Z"
   },
   {
    "duration": 6,
    "start_time": "2022-05-22T15:51:15.543Z"
   },
   {
    "duration": 4,
    "start_time": "2022-05-22T15:51:15.551Z"
   },
   {
    "duration": 5,
    "start_time": "2022-05-22T15:51:15.557Z"
   },
   {
    "duration": 38,
    "start_time": "2022-05-22T15:51:15.564Z"
   },
   {
    "duration": 15,
    "start_time": "2022-05-22T15:51:15.604Z"
   },
   {
    "duration": 5,
    "start_time": "2022-05-22T15:51:15.621Z"
   },
   {
    "duration": 5,
    "start_time": "2022-05-22T15:51:15.628Z"
   },
   {
    "duration": 6,
    "start_time": "2022-05-22T15:51:15.635Z"
   },
   {
    "duration": 15,
    "start_time": "2022-05-22T15:51:15.642Z"
   },
   {
    "duration": 5,
    "start_time": "2022-05-22T15:51:15.658Z"
   },
   {
    "duration": 11,
    "start_time": "2022-05-22T15:51:15.665Z"
   },
   {
    "duration": 25,
    "start_time": "2022-05-22T15:51:15.678Z"
   },
   {
    "duration": 9,
    "start_time": "2022-05-22T15:51:15.704Z"
   },
   {
    "duration": 6,
    "start_time": "2022-05-22T15:51:15.714Z"
   },
   {
    "duration": 9,
    "start_time": "2022-05-22T15:51:15.722Z"
   },
   {
    "duration": 43,
    "start_time": "2022-05-22T15:51:15.732Z"
   },
   {
    "duration": 22,
    "start_time": "2022-05-22T15:51:15.780Z"
   },
   {
    "duration": 14,
    "start_time": "2022-05-22T15:51:15.803Z"
   },
   {
    "duration": 11,
    "start_time": "2022-05-22T15:51:15.818Z"
   },
   {
    "duration": 0,
    "start_time": "2022-05-22T15:51:15.830Z"
   },
   {
    "duration": 0,
    "start_time": "2022-05-22T15:51:15.831Z"
   },
   {
    "duration": 0,
    "start_time": "2022-05-22T15:51:15.832Z"
   },
   {
    "duration": 0,
    "start_time": "2022-05-22T15:51:15.833Z"
   },
   {
    "duration": 0,
    "start_time": "2022-05-22T15:51:15.834Z"
   },
   {
    "duration": 0,
    "start_time": "2022-05-22T15:51:15.835Z"
   },
   {
    "duration": 0,
    "start_time": "2022-05-22T15:51:15.836Z"
   },
   {
    "duration": 15,
    "start_time": "2022-05-22T15:51:51.149Z"
   },
   {
    "duration": 12,
    "start_time": "2022-05-22T15:59:51.024Z"
   },
   {
    "duration": 11,
    "start_time": "2022-05-22T15:59:54.614Z"
   },
   {
    "duration": 4,
    "start_time": "2022-05-22T16:00:11.181Z"
   },
   {
    "duration": 3,
    "start_time": "2022-05-22T16:00:12.933Z"
   },
   {
    "duration": 12,
    "start_time": "2022-05-22T16:00:38.042Z"
   },
   {
    "duration": 17,
    "start_time": "2022-05-22T16:00:47.120Z"
   },
   {
    "duration": 23,
    "start_time": "2022-05-22T22:56:49.898Z"
   },
   {
    "duration": 249,
    "start_time": "2022-05-22T22:56:55.888Z"
   },
   {
    "duration": 4,
    "start_time": "2022-05-22T22:56:56.139Z"
   },
   {
    "duration": 21,
    "start_time": "2022-05-22T22:56:56.144Z"
   },
   {
    "duration": 17,
    "start_time": "2022-05-22T22:56:56.167Z"
   },
   {
    "duration": 4,
    "start_time": "2022-05-22T22:56:56.185Z"
   },
   {
    "duration": 22,
    "start_time": "2022-05-22T22:56:56.190Z"
   },
   {
    "duration": 10,
    "start_time": "2022-05-22T22:56:56.217Z"
   },
   {
    "duration": 19,
    "start_time": "2022-05-22T22:56:56.228Z"
   },
   {
    "duration": 16,
    "start_time": "2022-05-22T22:56:56.249Z"
   },
   {
    "duration": 14,
    "start_time": "2022-05-22T22:56:56.268Z"
   },
   {
    "duration": 6,
    "start_time": "2022-05-22T22:56:56.284Z"
   },
   {
    "duration": 47,
    "start_time": "2022-05-22T22:56:56.308Z"
   },
   {
    "duration": 18,
    "start_time": "2022-05-22T22:56:56.357Z"
   },
   {
    "duration": 6,
    "start_time": "2022-05-22T22:56:56.377Z"
   },
   {
    "duration": 28,
    "start_time": "2022-05-22T22:56:56.384Z"
   },
   {
    "duration": 22,
    "start_time": "2022-05-22T22:56:56.416Z"
   },
   {
    "duration": 31,
    "start_time": "2022-05-22T22:56:56.440Z"
   },
   {
    "duration": 34,
    "start_time": "2022-05-22T22:56:56.472Z"
   },
   {
    "duration": 21,
    "start_time": "2022-05-22T22:56:56.508Z"
   },
   {
    "duration": 4,
    "start_time": "2022-05-22T22:56:56.531Z"
   },
   {
    "duration": 19,
    "start_time": "2022-05-22T22:56:56.537Z"
   },
   {
    "duration": 12,
    "start_time": "2022-05-22T22:56:56.558Z"
   },
   {
    "duration": 7,
    "start_time": "2022-05-22T22:56:56.572Z"
   },
   {
    "duration": 38,
    "start_time": "2022-05-22T22:56:56.580Z"
   },
   {
    "duration": 11,
    "start_time": "2022-05-22T22:56:56.619Z"
   },
   {
    "duration": 20,
    "start_time": "2022-05-22T22:56:56.631Z"
   },
   {
    "duration": 4,
    "start_time": "2022-05-22T22:56:56.652Z"
   },
   {
    "duration": 5,
    "start_time": "2022-05-22T22:56:56.660Z"
   },
   {
    "duration": 12,
    "start_time": "2022-05-22T22:56:56.667Z"
   },
   {
    "duration": 8,
    "start_time": "2022-05-22T22:56:56.681Z"
   },
   {
    "duration": 13,
    "start_time": "2022-05-22T22:56:56.690Z"
   },
   {
    "duration": 8,
    "start_time": "2022-05-22T22:56:56.705Z"
   },
   {
    "duration": 6,
    "start_time": "2022-05-22T22:56:56.715Z"
   },
   {
    "duration": 23,
    "start_time": "2022-05-22T22:56:56.722Z"
   },
   {
    "duration": 12,
    "start_time": "2022-05-22T22:56:56.746Z"
   },
   {
    "duration": 9,
    "start_time": "2022-05-22T22:56:56.759Z"
   },
   {
    "duration": 20,
    "start_time": "2022-05-22T22:56:56.769Z"
   },
   {
    "duration": 20,
    "start_time": "2022-05-22T22:56:56.802Z"
   },
   {
    "duration": 23,
    "start_time": "2022-05-22T22:56:56.823Z"
   },
   {
    "duration": 14,
    "start_time": "2022-05-22T22:56:56.847Z"
   },
   {
    "duration": 7,
    "start_time": "2022-05-22T22:56:56.863Z"
   },
   {
    "duration": 10,
    "start_time": "2022-05-22T22:56:56.872Z"
   },
   {
    "duration": 7,
    "start_time": "2022-05-22T22:56:56.884Z"
   },
   {
    "duration": 7,
    "start_time": "2022-05-22T22:56:56.893Z"
   },
   {
    "duration": 33,
    "start_time": "2022-05-22T22:56:56.904Z"
   },
   {
    "duration": 2,
    "start_time": "2022-05-22T22:56:56.939Z"
   },
   {
    "duration": 5,
    "start_time": "2022-05-22T22:56:56.943Z"
   },
   {
    "duration": 9,
    "start_time": "2022-05-22T22:56:56.950Z"
   },
   {
    "duration": 10,
    "start_time": "2022-05-22T22:56:56.961Z"
   },
   {
    "duration": 8,
    "start_time": "2022-05-22T22:56:56.972Z"
   },
   {
    "duration": 10,
    "start_time": "2022-05-22T22:56:56.982Z"
   },
   {
    "duration": 22,
    "start_time": "2022-05-22T22:56:56.994Z"
   },
   {
    "duration": 15,
    "start_time": "2022-05-22T22:56:57.018Z"
   },
   {
    "duration": 29,
    "start_time": "2022-05-22T22:56:57.035Z"
   },
   {
    "duration": 4,
    "start_time": "2022-05-22T22:56:57.065Z"
   },
   {
    "duration": 7,
    "start_time": "2022-05-22T22:56:57.071Z"
   },
   {
    "duration": 5,
    "start_time": "2022-05-22T22:56:57.080Z"
   },
   {
    "duration": 22,
    "start_time": "2022-05-22T22:56:57.087Z"
   },
   {
    "duration": 9,
    "start_time": "2022-05-22T22:56:57.111Z"
   },
   {
    "duration": 7,
    "start_time": "2022-05-22T22:56:57.121Z"
   },
   {
    "duration": 17,
    "start_time": "2022-05-22T22:56:57.130Z"
   },
   {
    "duration": 3,
    "start_time": "2022-05-22T22:56:57.148Z"
   },
   {
    "duration": 7,
    "start_time": "2022-05-22T22:56:57.152Z"
   },
   {
    "duration": 8,
    "start_time": "2022-05-22T22:56:57.160Z"
   },
   {
    "duration": 5,
    "start_time": "2022-05-22T22:56:57.170Z"
   },
   {
    "duration": 6,
    "start_time": "2022-05-22T22:56:57.176Z"
   },
   {
    "duration": 6,
    "start_time": "2022-05-22T22:56:57.183Z"
   },
   {
    "duration": 6,
    "start_time": "2022-05-22T22:56:57.191Z"
   },
   {
    "duration": 19,
    "start_time": "2022-05-22T22:56:57.199Z"
   },
   {
    "duration": 7,
    "start_time": "2022-05-22T22:56:57.219Z"
   },
   {
    "duration": 16,
    "start_time": "2022-05-22T22:56:57.228Z"
   },
   {
    "duration": 6,
    "start_time": "2022-05-22T22:56:57.245Z"
   },
   {
    "duration": 5,
    "start_time": "2022-05-22T22:56:57.252Z"
   },
   {
    "duration": 19,
    "start_time": "2022-05-22T22:56:57.259Z"
   },
   {
    "duration": 6,
    "start_time": "2022-05-22T22:56:57.279Z"
   },
   {
    "duration": 9,
    "start_time": "2022-05-22T22:56:57.287Z"
   },
   {
    "duration": 9,
    "start_time": "2022-05-22T22:56:57.298Z"
   },
   {
    "duration": 18,
    "start_time": "2022-05-22T22:56:57.308Z"
   },
   {
    "duration": 11,
    "start_time": "2022-05-22T22:56:57.328Z"
   },
   {
    "duration": 5,
    "start_time": "2022-05-22T22:56:57.340Z"
   },
   {
    "duration": 42,
    "start_time": "2022-05-22T22:56:57.346Z"
   },
   {
    "duration": 5,
    "start_time": "2022-05-22T22:56:57.392Z"
   },
   {
    "duration": 32,
    "start_time": "2022-05-22T22:56:57.399Z"
   },
   {
    "duration": 16,
    "start_time": "2022-05-22T22:56:57.433Z"
   },
   {
    "duration": 0,
    "start_time": "2022-05-22T22:56:57.451Z"
   },
   {
    "duration": 0,
    "start_time": "2022-05-22T22:56:57.451Z"
   },
   {
    "duration": 0,
    "start_time": "2022-05-22T22:56:57.452Z"
   },
   {
    "duration": 0,
    "start_time": "2022-05-22T22:56:57.453Z"
   },
   {
    "duration": 0,
    "start_time": "2022-05-22T22:56:57.454Z"
   },
   {
    "duration": 0,
    "start_time": "2022-05-22T22:56:57.455Z"
   },
   {
    "duration": 0,
    "start_time": "2022-05-22T22:56:57.456Z"
   },
   {
    "duration": 3,
    "start_time": "2022-05-22T22:57:16.016Z"
   },
   {
    "duration": 3,
    "start_time": "2022-05-22T22:57:17.786Z"
   },
   {
    "duration": 14,
    "start_time": "2022-05-22T22:57:31.166Z"
   },
   {
    "duration": 508,
    "start_time": "2022-05-22T22:58:17.860Z"
   },
   {
    "duration": 9,
    "start_time": "2022-05-22T22:58:18.369Z"
   },
   {
    "duration": 23,
    "start_time": "2022-05-22T22:58:18.380Z"
   },
   {
    "duration": 31,
    "start_time": "2022-05-22T22:58:18.404Z"
   },
   {
    "duration": 17,
    "start_time": "2022-05-22T22:58:18.438Z"
   },
   {
    "duration": 30,
    "start_time": "2022-05-22T22:58:18.457Z"
   },
   {
    "duration": 21,
    "start_time": "2022-05-22T22:58:18.488Z"
   },
   {
    "duration": 29,
    "start_time": "2022-05-22T22:58:18.511Z"
   },
   {
    "duration": 20,
    "start_time": "2022-05-22T22:58:18.542Z"
   },
   {
    "duration": 19,
    "start_time": "2022-05-22T22:58:18.565Z"
   },
   {
    "duration": 6,
    "start_time": "2022-05-22T22:58:18.585Z"
   },
   {
    "duration": 40,
    "start_time": "2022-05-22T22:58:18.593Z"
   },
   {
    "duration": 16,
    "start_time": "2022-05-22T22:58:18.635Z"
   },
   {
    "duration": 4,
    "start_time": "2022-05-22T22:58:18.653Z"
   },
   {
    "duration": 17,
    "start_time": "2022-05-22T22:58:18.658Z"
   },
   {
    "duration": 47,
    "start_time": "2022-05-22T22:58:18.677Z"
   },
   {
    "duration": 36,
    "start_time": "2022-05-22T22:58:18.726Z"
   },
   {
    "duration": 20,
    "start_time": "2022-05-22T22:58:18.764Z"
   },
   {
    "duration": 38,
    "start_time": "2022-05-22T22:58:18.786Z"
   },
   {
    "duration": 8,
    "start_time": "2022-05-22T22:58:18.826Z"
   },
   {
    "duration": 11,
    "start_time": "2022-05-22T22:58:18.836Z"
   },
   {
    "duration": 8,
    "start_time": "2022-05-22T22:58:18.849Z"
   },
   {
    "duration": 7,
    "start_time": "2022-05-22T22:58:18.859Z"
   },
   {
    "duration": 46,
    "start_time": "2022-05-22T22:58:18.868Z"
   },
   {
    "duration": 13,
    "start_time": "2022-05-22T22:58:18.916Z"
   },
   {
    "duration": 20,
    "start_time": "2022-05-22T22:58:18.931Z"
   },
   {
    "duration": 5,
    "start_time": "2022-05-22T22:58:18.953Z"
   },
   {
    "duration": 5,
    "start_time": "2022-05-22T22:58:18.963Z"
   },
   {
    "duration": 17,
    "start_time": "2022-05-22T22:58:18.970Z"
   },
   {
    "duration": 13,
    "start_time": "2022-05-22T22:58:19.002Z"
   },
   {
    "duration": 16,
    "start_time": "2022-05-22T22:58:19.016Z"
   },
   {
    "duration": 6,
    "start_time": "2022-05-22T22:58:19.034Z"
   },
   {
    "duration": 7,
    "start_time": "2022-05-22T22:58:19.042Z"
   },
   {
    "duration": 22,
    "start_time": "2022-05-22T22:58:19.050Z"
   },
   {
    "duration": 32,
    "start_time": "2022-05-22T22:58:19.073Z"
   },
   {
    "duration": 26,
    "start_time": "2022-05-22T22:58:19.107Z"
   },
   {
    "duration": 14,
    "start_time": "2022-05-22T22:58:19.134Z"
   },
   {
    "duration": 8,
    "start_time": "2022-05-22T22:58:19.150Z"
   },
   {
    "duration": 11,
    "start_time": "2022-05-22T22:58:19.159Z"
   },
   {
    "duration": 27,
    "start_time": "2022-05-22T22:58:19.171Z"
   },
   {
    "duration": 26,
    "start_time": "2022-05-22T22:58:19.199Z"
   },
   {
    "duration": 8,
    "start_time": "2022-05-22T22:58:19.226Z"
   },
   {
    "duration": 18,
    "start_time": "2022-05-22T22:58:19.235Z"
   },
   {
    "duration": 5,
    "start_time": "2022-05-22T22:58:19.255Z"
   },
   {
    "duration": 23,
    "start_time": "2022-05-22T22:58:19.261Z"
   },
   {
    "duration": 2,
    "start_time": "2022-05-22T22:58:19.286Z"
   },
   {
    "duration": 8,
    "start_time": "2022-05-22T22:58:19.289Z"
   },
   {
    "duration": 20,
    "start_time": "2022-05-22T22:58:19.298Z"
   },
   {
    "duration": 7,
    "start_time": "2022-05-22T22:58:19.319Z"
   },
   {
    "duration": 9,
    "start_time": "2022-05-22T22:58:19.328Z"
   },
   {
    "duration": 22,
    "start_time": "2022-05-22T22:58:19.339Z"
   },
   {
    "duration": 16,
    "start_time": "2022-05-22T22:58:19.362Z"
   },
   {
    "duration": 4,
    "start_time": "2022-05-22T22:58:19.380Z"
   },
   {
    "duration": 29,
    "start_time": "2022-05-22T22:58:19.386Z"
   },
   {
    "duration": 4,
    "start_time": "2022-05-22T22:58:19.416Z"
   },
   {
    "duration": 22,
    "start_time": "2022-05-22T22:58:19.421Z"
   },
   {
    "duration": 11,
    "start_time": "2022-05-22T22:58:19.445Z"
   },
   {
    "duration": 8,
    "start_time": "2022-05-22T22:58:19.457Z"
   },
   {
    "duration": 8,
    "start_time": "2022-05-22T22:58:19.466Z"
   },
   {
    "duration": 7,
    "start_time": "2022-05-22T22:58:19.476Z"
   },
   {
    "duration": 11,
    "start_time": "2022-05-22T22:58:19.485Z"
   },
   {
    "duration": 8,
    "start_time": "2022-05-22T22:58:19.497Z"
   },
   {
    "duration": 20,
    "start_time": "2022-05-22T22:58:19.506Z"
   },
   {
    "duration": 11,
    "start_time": "2022-05-22T22:58:19.527Z"
   },
   {
    "duration": 4,
    "start_time": "2022-05-22T22:58:19.540Z"
   },
   {
    "duration": 4,
    "start_time": "2022-05-22T22:58:19.545Z"
   },
   {
    "duration": 8,
    "start_time": "2022-05-22T22:58:19.551Z"
   },
   {
    "duration": 9,
    "start_time": "2022-05-22T22:58:19.560Z"
   },
   {
    "duration": 5,
    "start_time": "2022-05-22T22:58:19.570Z"
   },
   {
    "duration": 9,
    "start_time": "2022-05-22T22:58:19.576Z"
   },
   {
    "duration": 35,
    "start_time": "2022-05-22T22:58:19.587Z"
   },
   {
    "duration": 16,
    "start_time": "2022-05-22T22:58:19.624Z"
   },
   {
    "duration": 12,
    "start_time": "2022-05-22T22:58:19.642Z"
   },
   {
    "duration": 20,
    "start_time": "2022-05-22T22:58:19.656Z"
   },
   {
    "duration": 4,
    "start_time": "2022-05-22T22:58:19.678Z"
   },
   {
    "duration": 8,
    "start_time": "2022-05-22T22:58:19.684Z"
   },
   {
    "duration": 12,
    "start_time": "2022-05-22T22:58:19.694Z"
   },
   {
    "duration": 26,
    "start_time": "2022-05-22T22:58:19.710Z"
   },
   {
    "duration": 8,
    "start_time": "2022-05-22T22:58:19.737Z"
   },
   {
    "duration": 11,
    "start_time": "2022-05-22T22:58:19.746Z"
   },
   {
    "duration": 62,
    "start_time": "2022-05-22T22:58:19.759Z"
   },
   {
    "duration": 4,
    "start_time": "2022-05-22T22:58:19.827Z"
   },
   {
    "duration": 15,
    "start_time": "2022-05-22T22:58:19.833Z"
   },
   {
    "duration": 3,
    "start_time": "2022-05-22T22:58:19.849Z"
   },
   {
    "duration": 14,
    "start_time": "2022-05-22T22:58:19.854Z"
   },
   {
    "duration": 3,
    "start_time": "2022-05-22T22:58:19.869Z"
   },
   {
    "duration": 5,
    "start_time": "2022-05-22T22:58:19.874Z"
   },
   {
    "duration": 34,
    "start_time": "2022-05-22T22:58:19.881Z"
   },
   {
    "duration": 20,
    "start_time": "2022-05-22T22:58:19.916Z"
   },
   {
    "duration": 13,
    "start_time": "2022-05-22T22:58:19.938Z"
   },
   {
    "duration": 2,
    "start_time": "2022-05-22T22:58:19.954Z"
   },
   {
    "duration": 10,
    "start_time": "2022-05-22T23:02:44.331Z"
   },
   {
    "duration": 14,
    "start_time": "2022-05-22T23:02:47.176Z"
   },
   {
    "duration": 5,
    "start_time": "2022-05-22T23:03:21.946Z"
   },
   {
    "duration": 637,
    "start_time": "2022-05-22T23:03:37.139Z"
   },
   {
    "duration": 6,
    "start_time": "2022-05-22T23:03:42.976Z"
   },
   {
    "duration": 7,
    "start_time": "2022-05-22T23:03:48.850Z"
   },
   {
    "duration": 19,
    "start_time": "2022-05-22T23:04:06.761Z"
   },
   {
    "duration": 26,
    "start_time": "2022-05-22T23:04:23.143Z"
   },
   {
    "duration": 47,
    "start_time": "2022-05-22T23:04:30.504Z"
   },
   {
    "duration": 8,
    "start_time": "2022-05-22T23:04:34.520Z"
   },
   {
    "duration": 12,
    "start_time": "2022-05-22T23:07:06.131Z"
   },
   {
    "duration": 8,
    "start_time": "2022-05-22T23:13:05.572Z"
   },
   {
    "duration": 7,
    "start_time": "2022-05-22T23:13:19.256Z"
   },
   {
    "duration": 7,
    "start_time": "2022-05-22T23:13:23.848Z"
   },
   {
    "duration": 7,
    "start_time": "2022-05-22T23:13:31.398Z"
   },
   {
    "duration": 327,
    "start_time": "2022-05-22T23:15:33.854Z"
   },
   {
    "duration": 355,
    "start_time": "2022-05-22T23:15:38.876Z"
   },
   {
    "duration": 414,
    "start_time": "2022-05-22T23:15:56.196Z"
   },
   {
    "duration": 374,
    "start_time": "2022-05-22T23:16:50.096Z"
   },
   {
    "duration": 5,
    "start_time": "2022-05-22T23:17:08.897Z"
   },
   {
    "duration": 14,
    "start_time": "2022-05-22T23:17:17.238Z"
   },
   {
    "duration": 14,
    "start_time": "2022-05-22T23:17:32.387Z"
   },
   {
    "duration": 7,
    "start_time": "2022-05-22T23:17:50.139Z"
   },
   {
    "duration": 13,
    "start_time": "2022-05-22T23:18:00.219Z"
   },
   {
    "duration": 18,
    "start_time": "2022-05-22T23:18:06.819Z"
   },
   {
    "duration": 11,
    "start_time": "2022-05-22T23:19:03.587Z"
   },
   {
    "duration": 7,
    "start_time": "2022-05-22T23:22:45.946Z"
   },
   {
    "duration": 37,
    "start_time": "2022-05-22T23:23:00.495Z"
   },
   {
    "duration": 5,
    "start_time": "2022-05-22T23:23:39.082Z"
   },
   {
    "duration": 6,
    "start_time": "2022-05-22T23:23:48.970Z"
   },
   {
    "duration": 9,
    "start_time": "2022-05-22T23:23:59.526Z"
   },
   {
    "duration": 6,
    "start_time": "2022-05-22T23:49:01.854Z"
   },
   {
    "duration": 6,
    "start_time": "2022-05-22T23:50:33.244Z"
   },
   {
    "duration": 13,
    "start_time": "2022-05-22T23:50:44.398Z"
   },
   {
    "duration": 20,
    "start_time": "2022-05-22T23:50:56.467Z"
   },
   {
    "duration": 20,
    "start_time": "2022-05-22T23:51:05.283Z"
   },
   {
    "duration": 16,
    "start_time": "2022-05-22T23:51:10.266Z"
   },
   {
    "duration": 18,
    "start_time": "2022-05-22T23:51:17.333Z"
   },
   {
    "duration": 9,
    "start_time": "2022-05-22T23:51:33.027Z"
   },
   {
    "duration": 7,
    "start_time": "2022-05-22T23:56:41.462Z"
   },
   {
    "duration": 8,
    "start_time": "2022-05-22T23:57:15.999Z"
   },
   {
    "duration": 24,
    "start_time": "2022-05-22T23:58:26.635Z"
   },
   {
    "duration": 11,
    "start_time": "2022-05-22T23:58:36.140Z"
   },
   {
    "duration": 21,
    "start_time": "2022-05-22T23:58:47.434Z"
   },
   {
    "duration": 13,
    "start_time": "2022-05-22T23:58:57.615Z"
   },
   {
    "duration": 12,
    "start_time": "2022-05-22T23:59:42.632Z"
   },
   {
    "duration": 12,
    "start_time": "2022-05-22T23:59:49.937Z"
   },
   {
    "duration": 465,
    "start_time": "2022-05-23T00:20:27.754Z"
   },
   {
    "duration": 10,
    "start_time": "2022-05-23T00:21:04.774Z"
   },
   {
    "duration": 17,
    "start_time": "2022-05-23T00:21:50.707Z"
   },
   {
    "duration": 17,
    "start_time": "2022-05-23T00:23:19.448Z"
   },
   {
    "duration": 5,
    "start_time": "2022-05-23T00:23:27.497Z"
   },
   {
    "duration": 7,
    "start_time": "2022-05-23T00:23:55.275Z"
   },
   {
    "duration": 9,
    "start_time": "2022-05-23T00:33:44.726Z"
   },
   {
    "duration": 112,
    "start_time": "2022-05-23T07:19:35.195Z"
   },
   {
    "duration": 55,
    "start_time": "2022-05-23T17:28:59.063Z"
   },
   {
    "duration": 7,
    "start_time": "2022-05-23T17:29:36.544Z"
   },
   {
    "duration": 1209,
    "start_time": "2022-05-23T17:29:40.588Z"
   },
   {
    "duration": 10,
    "start_time": "2022-05-23T17:29:41.800Z"
   },
   {
    "duration": 24,
    "start_time": "2022-05-23T17:29:41.811Z"
   },
   {
    "duration": 16,
    "start_time": "2022-05-23T17:29:41.837Z"
   },
   {
    "duration": 4,
    "start_time": "2022-05-23T17:29:41.854Z"
   },
   {
    "duration": 15,
    "start_time": "2022-05-23T17:29:41.860Z"
   },
   {
    "duration": 8,
    "start_time": "2022-05-23T17:29:41.877Z"
   },
   {
    "duration": 10,
    "start_time": "2022-05-23T17:29:41.887Z"
   },
   {
    "duration": 48,
    "start_time": "2022-05-23T17:29:41.899Z"
   },
   {
    "duration": 23,
    "start_time": "2022-05-23T17:29:41.950Z"
   },
   {
    "duration": 6,
    "start_time": "2022-05-23T17:29:41.975Z"
   },
   {
    "duration": 61,
    "start_time": "2022-05-23T17:29:41.983Z"
   },
   {
    "duration": 17,
    "start_time": "2022-05-23T17:29:42.046Z"
   },
   {
    "duration": 5,
    "start_time": "2022-05-23T17:29:42.065Z"
   },
   {
    "duration": 14,
    "start_time": "2022-05-23T17:29:42.072Z"
   },
   {
    "duration": 24,
    "start_time": "2022-05-23T17:29:42.088Z"
   },
   {
    "duration": 59,
    "start_time": "2022-05-23T17:29:42.113Z"
   },
   {
    "duration": 19,
    "start_time": "2022-05-23T17:29:42.174Z"
   },
   {
    "duration": 18,
    "start_time": "2022-05-23T17:29:42.195Z"
   },
   {
    "duration": 29,
    "start_time": "2022-05-23T17:29:42.214Z"
   },
   {
    "duration": 9,
    "start_time": "2022-05-23T17:29:42.245Z"
   },
   {
    "duration": 8,
    "start_time": "2022-05-23T17:29:42.256Z"
   },
   {
    "duration": 10,
    "start_time": "2022-05-23T17:29:42.265Z"
   },
   {
    "duration": 21,
    "start_time": "2022-05-23T17:29:42.277Z"
   },
   {
    "duration": 11,
    "start_time": "2022-05-23T17:29:42.299Z"
   },
   {
    "duration": 51,
    "start_time": "2022-05-23T17:29:42.312Z"
   },
   {
    "duration": 8,
    "start_time": "2022-05-23T17:29:42.365Z"
   },
   {
    "duration": 4,
    "start_time": "2022-05-23T17:29:42.378Z"
   },
   {
    "duration": 8,
    "start_time": "2022-05-23T17:29:42.383Z"
   },
   {
    "duration": 8,
    "start_time": "2022-05-23T17:29:42.393Z"
   },
   {
    "duration": 12,
    "start_time": "2022-05-23T17:29:42.403Z"
   },
   {
    "duration": 10,
    "start_time": "2022-05-23T17:29:42.417Z"
   },
   {
    "duration": 11,
    "start_time": "2022-05-23T17:29:42.442Z"
   },
   {
    "duration": 23,
    "start_time": "2022-05-23T17:29:42.455Z"
   },
   {
    "duration": 13,
    "start_time": "2022-05-23T17:29:42.480Z"
   },
   {
    "duration": 7,
    "start_time": "2022-05-23T17:29:42.495Z"
   },
   {
    "duration": 7,
    "start_time": "2022-05-23T17:29:42.503Z"
   },
   {
    "duration": 6,
    "start_time": "2022-05-23T17:29:42.542Z"
   },
   {
    "duration": 9,
    "start_time": "2022-05-23T17:29:42.550Z"
   },
   {
    "duration": 10,
    "start_time": "2022-05-23T17:29:42.561Z"
   },
   {
    "duration": 7,
    "start_time": "2022-05-23T17:29:42.573Z"
   },
   {
    "duration": 7,
    "start_time": "2022-05-23T17:29:42.581Z"
   },
   {
    "duration": 6,
    "start_time": "2022-05-23T17:29:42.590Z"
   },
   {
    "duration": 8,
    "start_time": "2022-05-23T17:29:42.598Z"
   },
   {
    "duration": 51,
    "start_time": "2022-05-23T17:29:42.607Z"
   },
   {
    "duration": 2,
    "start_time": "2022-05-23T17:29:42.659Z"
   },
   {
    "duration": 7,
    "start_time": "2022-05-23T17:29:42.663Z"
   },
   {
    "duration": 6,
    "start_time": "2022-05-23T17:29:42.672Z"
   },
   {
    "duration": 6,
    "start_time": "2022-05-23T17:29:42.679Z"
   },
   {
    "duration": 5,
    "start_time": "2022-05-23T17:29:42.686Z"
   },
   {
    "duration": 9,
    "start_time": "2022-05-23T17:29:42.692Z"
   },
   {
    "duration": 39,
    "start_time": "2022-05-23T17:29:42.703Z"
   },
   {
    "duration": 7,
    "start_time": "2022-05-23T17:29:42.745Z"
   },
   {
    "duration": 26,
    "start_time": "2022-05-23T17:29:42.754Z"
   },
   {
    "duration": 4,
    "start_time": "2022-05-23T17:29:42.782Z"
   },
   {
    "duration": 6,
    "start_time": "2022-05-23T17:29:42.788Z"
   },
   {
    "duration": 7,
    "start_time": "2022-05-23T17:29:42.796Z"
   },
   {
    "duration": 37,
    "start_time": "2022-05-23T17:29:42.805Z"
   },
   {
    "duration": 6,
    "start_time": "2022-05-23T17:29:42.844Z"
   },
   {
    "duration": 10,
    "start_time": "2022-05-23T17:29:42.852Z"
   },
   {
    "duration": 8,
    "start_time": "2022-05-23T17:29:42.864Z"
   },
   {
    "duration": 6,
    "start_time": "2022-05-23T17:29:42.874Z"
   },
   {
    "duration": 11,
    "start_time": "2022-05-23T17:29:42.882Z"
   },
   {
    "duration": 11,
    "start_time": "2022-05-23T17:29:42.895Z"
   },
   {
    "duration": 9,
    "start_time": "2022-05-23T17:29:42.908Z"
   },
   {
    "duration": 9,
    "start_time": "2022-05-23T17:29:42.919Z"
   },
   {
    "duration": 11,
    "start_time": "2022-05-23T17:29:42.930Z"
   },
   {
    "duration": 7,
    "start_time": "2022-05-23T17:29:42.943Z"
   },
   {
    "duration": 5,
    "start_time": "2022-05-23T17:29:42.951Z"
   },
   {
    "duration": 4,
    "start_time": "2022-05-23T17:29:42.958Z"
   },
   {
    "duration": 8,
    "start_time": "2022-05-23T17:29:42.964Z"
   },
   {
    "duration": 6,
    "start_time": "2022-05-23T17:29:42.974Z"
   },
   {
    "duration": 7,
    "start_time": "2022-05-23T17:29:42.982Z"
   },
   {
    "duration": 17,
    "start_time": "2022-05-23T17:29:42.991Z"
   },
   {
    "duration": 33,
    "start_time": "2022-05-23T17:29:43.010Z"
   },
   {
    "duration": 6,
    "start_time": "2022-05-23T17:29:43.045Z"
   },
   {
    "duration": 9,
    "start_time": "2022-05-23T17:29:43.053Z"
   },
   {
    "duration": 9,
    "start_time": "2022-05-23T17:29:43.064Z"
   },
   {
    "duration": 7,
    "start_time": "2022-05-23T17:29:43.074Z"
   },
   {
    "duration": 5,
    "start_time": "2022-05-23T17:29:43.082Z"
   },
   {
    "duration": 75,
    "start_time": "2022-05-23T17:29:43.089Z"
   },
   {
    "duration": 5,
    "start_time": "2022-05-23T17:29:43.171Z"
   },
   {
    "duration": 17,
    "start_time": "2022-05-23T17:29:43.178Z"
   },
   {
    "duration": 3,
    "start_time": "2022-05-23T17:29:43.197Z"
   },
   {
    "duration": 13,
    "start_time": "2022-05-23T17:29:43.202Z"
   },
   {
    "duration": 10,
    "start_time": "2022-05-23T17:29:43.242Z"
   },
   {
    "duration": 9,
    "start_time": "2022-05-23T17:29:43.254Z"
   },
   {
    "duration": 15,
    "start_time": "2022-05-23T17:29:43.265Z"
   },
   {
    "duration": 12,
    "start_time": "2022-05-23T17:29:43.282Z"
   },
   {
    "duration": 7,
    "start_time": "2022-05-23T17:29:43.295Z"
   },
   {
    "duration": 9,
    "start_time": "2022-05-23T17:29:44.710Z"
   },
   {
    "duration": 545,
    "start_time": "2022-05-23T17:29:59.389Z"
   },
   {
    "duration": 9,
    "start_time": "2022-05-23T17:29:59.936Z"
   },
   {
    "duration": 26,
    "start_time": "2022-05-23T17:29:59.947Z"
   },
   {
    "duration": 22,
    "start_time": "2022-05-23T17:29:59.975Z"
   },
   {
    "duration": 4,
    "start_time": "2022-05-23T17:29:59.999Z"
   },
   {
    "duration": 17,
    "start_time": "2022-05-23T17:30:00.005Z"
   },
   {
    "duration": 23,
    "start_time": "2022-05-23T17:30:00.024Z"
   },
   {
    "duration": 9,
    "start_time": "2022-05-23T17:30:00.049Z"
   },
   {
    "duration": 18,
    "start_time": "2022-05-23T17:30:00.060Z"
   },
   {
    "duration": 23,
    "start_time": "2022-05-23T17:30:00.081Z"
   },
   {
    "duration": 7,
    "start_time": "2022-05-23T17:30:00.106Z"
   },
   {
    "duration": 48,
    "start_time": "2022-05-23T17:30:00.142Z"
   },
   {
    "duration": 18,
    "start_time": "2022-05-23T17:30:00.192Z"
   },
   {
    "duration": 29,
    "start_time": "2022-05-23T17:30:00.213Z"
   },
   {
    "duration": 12,
    "start_time": "2022-05-23T17:30:00.244Z"
   },
   {
    "duration": 24,
    "start_time": "2022-05-23T17:30:00.258Z"
   },
   {
    "duration": 40,
    "start_time": "2022-05-23T17:30:00.284Z"
   },
   {
    "duration": 28,
    "start_time": "2022-05-23T17:30:00.326Z"
   },
   {
    "duration": 18,
    "start_time": "2022-05-23T17:30:00.355Z"
   },
   {
    "duration": 19,
    "start_time": "2022-05-23T17:30:00.374Z"
   },
   {
    "duration": 17,
    "start_time": "2022-05-23T17:30:00.395Z"
   },
   {
    "duration": 30,
    "start_time": "2022-05-23T17:30:00.414Z"
   },
   {
    "duration": 13,
    "start_time": "2022-05-23T17:30:00.446Z"
   },
   {
    "duration": 29,
    "start_time": "2022-05-23T17:30:00.461Z"
   },
   {
    "duration": 57,
    "start_time": "2022-05-23T17:30:00.492Z"
   },
   {
    "duration": 25,
    "start_time": "2022-05-23T17:30:00.551Z"
   },
   {
    "duration": 13,
    "start_time": "2022-05-23T17:30:00.578Z"
   },
   {
    "duration": 10,
    "start_time": "2022-05-23T17:30:00.595Z"
   },
   {
    "duration": 14,
    "start_time": "2022-05-23T17:30:00.606Z"
   },
   {
    "duration": 48,
    "start_time": "2022-05-23T17:30:00.622Z"
   },
   {
    "duration": 28,
    "start_time": "2022-05-23T17:30:00.672Z"
   },
   {
    "duration": 19,
    "start_time": "2022-05-23T17:30:00.702Z"
   },
   {
    "duration": 12,
    "start_time": "2022-05-23T17:30:00.723Z"
   },
   {
    "duration": 27,
    "start_time": "2022-05-23T17:30:00.737Z"
   },
   {
    "duration": 15,
    "start_time": "2022-05-23T17:30:00.766Z"
   },
   {
    "duration": 6,
    "start_time": "2022-05-23T17:30:00.783Z"
   },
   {
    "duration": 19,
    "start_time": "2022-05-23T17:30:00.790Z"
   },
   {
    "duration": 13,
    "start_time": "2022-05-23T17:30:00.810Z"
   },
   {
    "duration": 17,
    "start_time": "2022-05-23T17:30:00.825Z"
   },
   {
    "duration": 58,
    "start_time": "2022-05-23T17:30:00.844Z"
   },
   {
    "duration": 55,
    "start_time": "2022-05-23T17:30:00.903Z"
   },
   {
    "duration": 45,
    "start_time": "2022-05-23T17:30:00.960Z"
   },
   {
    "duration": 36,
    "start_time": "2022-05-23T17:30:01.006Z"
   },
   {
    "duration": 20,
    "start_time": "2022-05-23T17:30:01.044Z"
   },
   {
    "duration": 29,
    "start_time": "2022-05-23T17:30:01.066Z"
   },
   {
    "duration": 22,
    "start_time": "2022-05-23T17:30:01.098Z"
   },
   {
    "duration": 14,
    "start_time": "2022-05-23T17:30:01.122Z"
   },
   {
    "duration": 25,
    "start_time": "2022-05-23T17:30:01.137Z"
   },
   {
    "duration": 17,
    "start_time": "2022-05-23T17:30:01.164Z"
   },
   {
    "duration": 10,
    "start_time": "2022-05-23T17:30:01.183Z"
   },
   {
    "duration": 22,
    "start_time": "2022-05-23T17:30:01.195Z"
   },
   {
    "duration": 26,
    "start_time": "2022-05-23T17:30:01.219Z"
   },
   {
    "duration": 33,
    "start_time": "2022-05-23T17:30:01.247Z"
   },
   {
    "duration": 58,
    "start_time": "2022-05-23T17:30:01.282Z"
   },
   {
    "duration": 5,
    "start_time": "2022-05-23T17:30:01.342Z"
   },
   {
    "duration": 65,
    "start_time": "2022-05-23T17:30:01.348Z"
   },
   {
    "duration": 7,
    "start_time": "2022-05-23T17:30:01.415Z"
   },
   {
    "duration": 21,
    "start_time": "2022-05-23T17:30:01.424Z"
   },
   {
    "duration": 18,
    "start_time": "2022-05-23T17:30:01.447Z"
   },
   {
    "duration": 10,
    "start_time": "2022-05-23T17:30:01.466Z"
   },
   {
    "duration": 12,
    "start_time": "2022-05-23T17:30:01.478Z"
   },
   {
    "duration": 8,
    "start_time": "2022-05-23T17:30:01.491Z"
   },
   {
    "duration": 10,
    "start_time": "2022-05-23T17:30:01.500Z"
   },
   {
    "duration": 7,
    "start_time": "2022-05-23T17:30:01.512Z"
   },
   {
    "duration": 17,
    "start_time": "2022-05-23T17:30:01.521Z"
   },
   {
    "duration": 6,
    "start_time": "2022-05-23T17:30:01.540Z"
   },
   {
    "duration": 8,
    "start_time": "2022-05-23T17:30:01.548Z"
   },
   {
    "duration": 6,
    "start_time": "2022-05-23T17:30:01.557Z"
   },
   {
    "duration": 9,
    "start_time": "2022-05-23T17:30:01.565Z"
   },
   {
    "duration": 8,
    "start_time": "2022-05-23T17:30:01.576Z"
   },
   {
    "duration": 17,
    "start_time": "2022-05-23T17:30:01.586Z"
   },
   {
    "duration": 8,
    "start_time": "2022-05-23T17:30:01.604Z"
   },
   {
    "duration": 29,
    "start_time": "2022-05-23T17:30:01.614Z"
   },
   {
    "duration": 26,
    "start_time": "2022-05-23T17:30:01.644Z"
   },
   {
    "duration": 76,
    "start_time": "2022-05-23T17:30:01.672Z"
   },
   {
    "duration": 6,
    "start_time": "2022-05-23T17:30:01.750Z"
   },
   {
    "duration": 7,
    "start_time": "2022-05-23T17:30:01.758Z"
   },
   {
    "duration": 9,
    "start_time": "2022-05-23T17:30:01.766Z"
   },
   {
    "duration": 12,
    "start_time": "2022-05-23T17:30:01.777Z"
   },
   {
    "duration": 5,
    "start_time": "2022-05-23T17:30:01.791Z"
   },
   {
    "duration": 64,
    "start_time": "2022-05-23T17:30:01.798Z"
   },
   {
    "duration": 6,
    "start_time": "2022-05-23T17:30:01.870Z"
   },
   {
    "duration": 26,
    "start_time": "2022-05-23T17:30:01.878Z"
   },
   {
    "duration": 5,
    "start_time": "2022-05-23T17:30:01.907Z"
   },
   {
    "duration": 28,
    "start_time": "2022-05-23T17:30:01.914Z"
   },
   {
    "duration": 11,
    "start_time": "2022-05-23T17:30:01.944Z"
   },
   {
    "duration": 17,
    "start_time": "2022-05-23T17:30:01.957Z"
   },
   {
    "duration": 25,
    "start_time": "2022-05-23T17:30:01.976Z"
   },
   {
    "duration": 15,
    "start_time": "2022-05-23T17:30:02.003Z"
   },
   {
    "duration": 11,
    "start_time": "2022-05-23T17:30:02.040Z"
   },
   {
    "duration": 89,
    "start_time": "2022-05-23T17:30:02.053Z"
   },
   {
    "duration": 8,
    "start_time": "2022-05-23T17:30:17.360Z"
   },
   {
    "duration": 7,
    "start_time": "2022-05-23T17:30:31.551Z"
   },
   {
    "duration": 9,
    "start_time": "2022-05-23T17:30:57.050Z"
   },
   {
    "duration": 13,
    "start_time": "2022-05-23T17:31:14.302Z"
   },
   {
    "duration": 13,
    "start_time": "2022-05-23T17:31:19.732Z"
   },
   {
    "duration": 9,
    "start_time": "2022-05-23T17:34:13.998Z"
   },
   {
    "duration": 8,
    "start_time": "2022-05-23T17:34:23.250Z"
   },
   {
    "duration": 8,
    "start_time": "2022-05-23T17:35:12.957Z"
   },
   {
    "duration": 25,
    "start_time": "2022-05-23T17:36:07.292Z"
   },
   {
    "duration": 10,
    "start_time": "2022-05-23T17:36:26.757Z"
   },
   {
    "duration": 15,
    "start_time": "2022-05-23T17:36:43.228Z"
   },
   {
    "duration": 16,
    "start_time": "2022-05-23T17:37:04.074Z"
   },
   {
    "duration": 15,
    "start_time": "2022-05-23T17:47:41.440Z"
   },
   {
    "duration": 4,
    "start_time": "2022-05-23T18:21:11.352Z"
   },
   {
    "duration": 3,
    "start_time": "2022-05-23T18:21:31.807Z"
   },
   {
    "duration": 3,
    "start_time": "2022-05-23T18:21:38.026Z"
   },
   {
    "duration": 7,
    "start_time": "2022-05-23T18:21:44.407Z"
   },
   {
    "duration": 30,
    "start_time": "2022-05-23T18:21:53.112Z"
   },
   {
    "duration": 10,
    "start_time": "2022-05-23T18:22:03.681Z"
   },
   {
    "duration": 9,
    "start_time": "2022-05-23T18:22:06.758Z"
   },
   {
    "duration": 20,
    "start_time": "2022-05-23T18:22:15.199Z"
   },
   {
    "duration": 30,
    "start_time": "2022-05-23T18:22:25.733Z"
   },
   {
    "duration": 23,
    "start_time": "2022-05-23T18:22:34.880Z"
   },
   {
    "duration": 8,
    "start_time": "2022-05-23T18:24:29.027Z"
   },
   {
    "duration": 13,
    "start_time": "2022-05-23T18:24:38.580Z"
   },
   {
    "duration": 11,
    "start_time": "2022-05-23T18:25:29.072Z"
   },
   {
    "duration": 10,
    "start_time": "2022-05-23T18:25:44.872Z"
   },
   {
    "duration": 11,
    "start_time": "2022-05-23T18:25:55.568Z"
   },
   {
    "duration": 24,
    "start_time": "2022-05-23T20:03:55.392Z"
   },
   {
    "duration": 3,
    "start_time": "2022-05-23T20:08:21.483Z"
   },
   {
    "duration": 7,
    "start_time": "2022-05-23T20:08:40.985Z"
   },
   {
    "duration": 10,
    "start_time": "2022-05-23T20:08:47.103Z"
   },
   {
    "duration": 10,
    "start_time": "2022-05-23T20:08:48.469Z"
   },
   {
    "duration": 15,
    "start_time": "2022-05-23T20:08:49.481Z"
   },
   {
    "duration": 10,
    "start_time": "2022-05-23T20:08:50.223Z"
   },
   {
    "duration": 6,
    "start_time": "2022-05-23T20:08:50.476Z"
   },
   {
    "duration": 11,
    "start_time": "2022-05-23T20:08:51.956Z"
   },
   {
    "duration": 16,
    "start_time": "2022-05-23T20:08:52.323Z"
   },
   {
    "duration": 12,
    "start_time": "2022-05-23T20:08:54.755Z"
   },
   {
    "duration": 13,
    "start_time": "2022-05-23T20:09:14.120Z"
   },
   {
    "duration": 532,
    "start_time": "2022-05-23T20:09:24.145Z"
   },
   {
    "duration": 9,
    "start_time": "2022-05-23T20:09:24.679Z"
   },
   {
    "duration": 17,
    "start_time": "2022-05-23T20:09:24.690Z"
   },
   {
    "duration": 37,
    "start_time": "2022-05-23T20:09:24.710Z"
   },
   {
    "duration": 4,
    "start_time": "2022-05-23T20:09:24.749Z"
   },
   {
    "duration": 13,
    "start_time": "2022-05-23T20:09:24.756Z"
   },
   {
    "duration": 8,
    "start_time": "2022-05-23T20:09:24.771Z"
   },
   {
    "duration": 6,
    "start_time": "2022-05-23T20:09:24.781Z"
   },
   {
    "duration": 16,
    "start_time": "2022-05-23T20:09:24.789Z"
   },
   {
    "duration": 45,
    "start_time": "2022-05-23T20:09:24.807Z"
   },
   {
    "duration": 6,
    "start_time": "2022-05-23T20:09:24.853Z"
   },
   {
    "duration": 45,
    "start_time": "2022-05-23T20:09:24.861Z"
   },
   {
    "duration": 44,
    "start_time": "2022-05-23T20:09:24.908Z"
   },
   {
    "duration": 6,
    "start_time": "2022-05-23T20:09:24.954Z"
   },
   {
    "duration": 12,
    "start_time": "2022-05-23T20:09:24.962Z"
   },
   {
    "duration": 17,
    "start_time": "2022-05-23T20:09:24.976Z"
   },
   {
    "duration": 59,
    "start_time": "2022-05-23T20:09:24.995Z"
   },
   {
    "duration": 18,
    "start_time": "2022-05-23T20:09:25.056Z"
   },
   {
    "duration": 18,
    "start_time": "2022-05-23T20:09:25.075Z"
   },
   {
    "duration": 5,
    "start_time": "2022-05-23T20:09:25.095Z"
   },
   {
    "duration": 9,
    "start_time": "2022-05-23T20:09:25.101Z"
   },
   {
    "duration": 7,
    "start_time": "2022-05-23T20:09:25.142Z"
   },
   {
    "duration": 11,
    "start_time": "2022-05-23T20:09:25.150Z"
   },
   {
    "duration": 17,
    "start_time": "2022-05-23T20:09:25.163Z"
   },
   {
    "duration": 10,
    "start_time": "2022-05-23T20:09:25.181Z"
   },
   {
    "duration": 14,
    "start_time": "2022-05-23T20:09:25.192Z"
   },
   {
    "duration": 34,
    "start_time": "2022-05-23T20:09:25.208Z"
   },
   {
    "duration": 5,
    "start_time": "2022-05-23T20:09:25.248Z"
   },
   {
    "duration": 6,
    "start_time": "2022-05-23T20:09:25.255Z"
   },
   {
    "duration": 7,
    "start_time": "2022-05-23T20:09:25.263Z"
   },
   {
    "duration": 7,
    "start_time": "2022-05-23T20:09:25.272Z"
   },
   {
    "duration": 5,
    "start_time": "2022-05-23T20:09:25.281Z"
   },
   {
    "duration": 7,
    "start_time": "2022-05-23T20:09:25.288Z"
   },
   {
    "duration": 59,
    "start_time": "2022-05-23T20:09:25.297Z"
   },
   {
    "duration": 13,
    "start_time": "2022-05-23T20:09:25.358Z"
   },
   {
    "duration": 5,
    "start_time": "2022-05-23T20:09:25.372Z"
   },
   {
    "duration": 9,
    "start_time": "2022-05-23T20:09:25.379Z"
   },
   {
    "duration": 7,
    "start_time": "2022-05-23T20:09:25.389Z"
   },
   {
    "duration": 43,
    "start_time": "2022-05-23T20:09:25.398Z"
   },
   {
    "duration": 6,
    "start_time": "2022-05-23T20:09:25.443Z"
   },
   {
    "duration": 9,
    "start_time": "2022-05-23T20:09:25.450Z"
   },
   {
    "duration": 7,
    "start_time": "2022-05-23T20:09:25.461Z"
   },
   {
    "duration": 23,
    "start_time": "2022-05-23T20:09:25.470Z"
   },
   {
    "duration": 11,
    "start_time": "2022-05-23T20:09:25.495Z"
   },
   {
    "duration": 34,
    "start_time": "2022-05-23T20:09:25.508Z"
   },
   {
    "duration": 2,
    "start_time": "2022-05-23T20:09:25.544Z"
   },
   {
    "duration": 9,
    "start_time": "2022-05-23T20:09:25.547Z"
   },
   {
    "duration": 7,
    "start_time": "2022-05-23T20:09:25.557Z"
   },
   {
    "duration": 5,
    "start_time": "2022-05-23T20:09:25.566Z"
   },
   {
    "duration": 7,
    "start_time": "2022-05-23T20:09:25.573Z"
   },
   {
    "duration": 10,
    "start_time": "2022-05-23T20:09:25.582Z"
   },
   {
    "duration": 24,
    "start_time": "2022-05-23T20:09:25.594Z"
   },
   {
    "duration": 7,
    "start_time": "2022-05-23T20:09:25.620Z"
   },
   {
    "duration": 33,
    "start_time": "2022-05-23T20:09:25.642Z"
   },
   {
    "duration": 5,
    "start_time": "2022-05-23T20:09:25.677Z"
   },
   {
    "duration": 19,
    "start_time": "2022-05-23T20:09:25.684Z"
   },
   {
    "duration": 14,
    "start_time": "2022-05-23T20:09:25.705Z"
   },
   {
    "duration": 20,
    "start_time": "2022-05-23T20:09:25.721Z"
   },
   {
    "duration": 10,
    "start_time": "2022-05-23T20:09:25.743Z"
   },
   {
    "duration": 5,
    "start_time": "2022-05-23T20:09:25.755Z"
   },
   {
    "duration": 8,
    "start_time": "2022-05-23T20:09:25.761Z"
   },
   {
    "duration": 10,
    "start_time": "2022-05-23T20:09:25.770Z"
   },
   {
    "duration": 7,
    "start_time": "2022-05-23T20:09:25.781Z"
   },
   {
    "duration": 7,
    "start_time": "2022-05-23T20:09:25.790Z"
   },
   {
    "duration": 3,
    "start_time": "2022-05-23T20:09:25.799Z"
   },
   {
    "duration": 14,
    "start_time": "2022-05-23T20:09:25.804Z"
   },
   {
    "duration": 3,
    "start_time": "2022-05-23T20:09:25.840Z"
   },
   {
    "duration": 5,
    "start_time": "2022-05-23T20:09:25.845Z"
   },
   {
    "duration": 3,
    "start_time": "2022-05-23T20:09:25.852Z"
   },
   {
    "duration": 4,
    "start_time": "2022-05-23T20:09:25.857Z"
   },
   {
    "duration": 6,
    "start_time": "2022-05-23T20:09:25.863Z"
   },
   {
    "duration": 4,
    "start_time": "2022-05-23T20:09:25.871Z"
   },
   {
    "duration": 8,
    "start_time": "2022-05-23T20:09:25.877Z"
   },
   {
    "duration": 23,
    "start_time": "2022-05-23T20:09:25.886Z"
   },
   {
    "duration": 7,
    "start_time": "2022-05-23T20:09:25.941Z"
   },
   {
    "duration": 6,
    "start_time": "2022-05-23T20:09:25.950Z"
   },
   {
    "duration": 6,
    "start_time": "2022-05-23T20:09:25.958Z"
   },
   {
    "duration": 7,
    "start_time": "2022-05-23T20:09:25.966Z"
   },
   {
    "duration": 7,
    "start_time": "2022-05-23T20:09:25.975Z"
   },
   {
    "duration": 5,
    "start_time": "2022-05-23T20:09:25.983Z"
   },
   {
    "duration": 84,
    "start_time": "2022-05-23T20:09:25.989Z"
   },
   {
    "duration": 5,
    "start_time": "2022-05-23T20:09:26.078Z"
   },
   {
    "duration": 19,
    "start_time": "2022-05-23T20:09:26.084Z"
   },
   {
    "duration": 4,
    "start_time": "2022-05-23T20:09:26.105Z"
   },
   {
    "duration": 33,
    "start_time": "2022-05-23T20:09:26.111Z"
   },
   {
    "duration": 8,
    "start_time": "2022-05-23T20:09:26.145Z"
   },
   {
    "duration": 10,
    "start_time": "2022-05-23T20:09:26.154Z"
   },
   {
    "duration": 14,
    "start_time": "2022-05-23T20:09:26.166Z"
   },
   {
    "duration": 9,
    "start_time": "2022-05-23T20:09:26.182Z"
   },
   {
    "duration": 7,
    "start_time": "2022-05-23T20:09:26.193Z"
   },
   {
    "duration": 44,
    "start_time": "2022-05-23T20:09:26.201Z"
   },
   {
    "duration": 20,
    "start_time": "2022-05-23T20:09:26.246Z"
   },
   {
    "duration": 9,
    "start_time": "2022-05-23T20:09:26.267Z"
   },
   {
    "duration": 15,
    "start_time": "2022-05-23T20:09:46.727Z"
   },
   {
    "duration": 78,
    "start_time": "2022-05-23T20:12:36.323Z"
   },
   {
    "duration": 16,
    "start_time": "2022-05-23T20:12:44.790Z"
   },
   {
    "duration": 9,
    "start_time": "2022-05-23T20:12:52.735Z"
   },
   {
    "duration": 7,
    "start_time": "2022-05-23T20:13:10.523Z"
   },
   {
    "duration": 15,
    "start_time": "2022-05-23T20:13:17.761Z"
   },
   {
    "duration": 17,
    "start_time": "2022-05-23T20:21:16.158Z"
   },
   {
    "duration": 17,
    "start_time": "2022-05-23T20:21:53.859Z"
   },
   {
    "duration": 16,
    "start_time": "2022-05-23T20:22:03.999Z"
   },
   {
    "duration": 18,
    "start_time": "2022-05-23T20:22:10.855Z"
   },
   {
    "duration": 17,
    "start_time": "2022-05-23T20:23:22.356Z"
   },
   {
    "duration": 20,
    "start_time": "2022-05-23T20:31:25.936Z"
   },
   {
    "duration": 18,
    "start_time": "2022-05-23T20:33:34.066Z"
   },
   {
    "duration": 30,
    "start_time": "2022-05-23T20:35:03.443Z"
   },
   {
    "duration": 23,
    "start_time": "2022-05-23T20:35:28.683Z"
   },
   {
    "duration": 26,
    "start_time": "2022-05-23T20:38:03.721Z"
   },
   {
    "duration": 24,
    "start_time": "2022-05-23T20:38:23.133Z"
   },
   {
    "duration": 20,
    "start_time": "2022-05-23T20:39:38.928Z"
   },
   {
    "duration": 34,
    "start_time": "2022-05-23T20:40:06.120Z"
   },
   {
    "duration": 60,
    "start_time": "2022-05-23T20:43:08.415Z"
   },
   {
    "duration": 28,
    "start_time": "2022-05-23T20:43:31.271Z"
   },
   {
    "duration": 41,
    "start_time": "2022-05-23T20:44:36.221Z"
   },
   {
    "duration": 26,
    "start_time": "2022-05-23T20:47:15.886Z"
   },
   {
    "duration": 18,
    "start_time": "2022-05-23T20:48:03.703Z"
   },
   {
    "duration": 17,
    "start_time": "2022-05-23T20:48:58.222Z"
   },
   {
    "duration": 16,
    "start_time": "2022-05-23T20:49:46.087Z"
   },
   {
    "duration": 5,
    "start_time": "2022-05-23T20:51:13.259Z"
   },
   {
    "duration": 26,
    "start_time": "2022-05-23T20:51:19.902Z"
   },
   {
    "duration": 43,
    "start_time": "2022-05-23T22:03:28.471Z"
   },
   {
    "duration": 15,
    "start_time": "2022-05-23T22:03:29.577Z"
   },
   {
    "duration": 5,
    "start_time": "2022-05-23T22:03:32.358Z"
   },
   {
    "duration": 11,
    "start_time": "2022-05-23T22:03:34.035Z"
   },
   {
    "duration": 149,
    "start_time": "2022-05-23T22:03:40.125Z"
   },
   {
    "duration": 4,
    "start_time": "2022-05-23T22:03:40.277Z"
   },
   {
    "duration": 15,
    "start_time": "2022-05-23T22:03:40.282Z"
   },
   {
    "duration": 17,
    "start_time": "2022-05-23T22:03:40.299Z"
   },
   {
    "duration": 4,
    "start_time": "2022-05-23T22:03:40.317Z"
   },
   {
    "duration": 24,
    "start_time": "2022-05-23T22:03:40.322Z"
   },
   {
    "duration": 7,
    "start_time": "2022-05-23T22:03:40.348Z"
   },
   {
    "duration": 8,
    "start_time": "2022-05-23T22:03:40.356Z"
   },
   {
    "duration": 17,
    "start_time": "2022-05-23T22:03:40.365Z"
   },
   {
    "duration": 15,
    "start_time": "2022-05-23T22:03:40.385Z"
   },
   {
    "duration": 40,
    "start_time": "2022-05-23T22:03:40.401Z"
   },
   {
    "duration": 31,
    "start_time": "2022-05-23T22:03:40.443Z"
   },
   {
    "duration": 15,
    "start_time": "2022-05-23T22:03:40.476Z"
   },
   {
    "duration": 5,
    "start_time": "2022-05-23T22:03:40.493Z"
   },
   {
    "duration": 46,
    "start_time": "2022-05-23T22:03:40.499Z"
   },
   {
    "duration": 16,
    "start_time": "2022-05-23T22:03:40.547Z"
   },
   {
    "duration": 31,
    "start_time": "2022-05-23T22:03:40.564Z"
   },
   {
    "duration": 17,
    "start_time": "2022-05-23T22:03:40.596Z"
   },
   {
    "duration": 17,
    "start_time": "2022-05-23T22:03:40.642Z"
   },
   {
    "duration": 5,
    "start_time": "2022-05-23T22:03:40.661Z"
   },
   {
    "duration": 8,
    "start_time": "2022-05-23T22:03:40.667Z"
   },
   {
    "duration": 6,
    "start_time": "2022-05-23T22:03:40.676Z"
   },
   {
    "duration": 9,
    "start_time": "2022-05-23T22:03:40.684Z"
   },
   {
    "duration": 17,
    "start_time": "2022-05-23T22:03:40.694Z"
   },
   {
    "duration": 11,
    "start_time": "2022-05-23T22:03:40.740Z"
   },
   {
    "duration": 22,
    "start_time": "2022-05-23T22:03:40.753Z"
   },
   {
    "duration": 6,
    "start_time": "2022-05-23T22:03:40.778Z"
   },
   {
    "duration": 5,
    "start_time": "2022-05-23T22:03:40.789Z"
   },
   {
    "duration": 8,
    "start_time": "2022-05-23T22:03:40.796Z"
   },
   {
    "duration": 41,
    "start_time": "2022-05-23T22:03:40.805Z"
   },
   {
    "duration": 5,
    "start_time": "2022-05-23T22:03:40.848Z"
   },
   {
    "duration": 11,
    "start_time": "2022-05-23T22:03:40.854Z"
   },
   {
    "duration": 8,
    "start_time": "2022-05-23T22:03:40.868Z"
   },
   {
    "duration": 27,
    "start_time": "2022-05-23T22:03:40.878Z"
   },
   {
    "duration": 38,
    "start_time": "2022-05-23T22:03:40.906Z"
   },
   {
    "duration": 5,
    "start_time": "2022-05-23T22:03:40.946Z"
   },
   {
    "duration": 9,
    "start_time": "2022-05-23T22:03:40.952Z"
   },
   {
    "duration": 6,
    "start_time": "2022-05-23T22:03:40.963Z"
   },
   {
    "duration": 17,
    "start_time": "2022-05-23T22:03:40.971Z"
   },
   {
    "duration": 10,
    "start_time": "2022-05-23T22:03:40.989Z"
   },
   {
    "duration": 11,
    "start_time": "2022-05-23T22:03:41.000Z"
   },
   {
    "duration": 34,
    "start_time": "2022-05-23T22:03:41.012Z"
   },
   {
    "duration": 8,
    "start_time": "2022-05-23T22:03:41.048Z"
   },
   {
    "duration": 6,
    "start_time": "2022-05-23T22:03:41.057Z"
   },
   {
    "duration": 21,
    "start_time": "2022-05-23T22:03:41.065Z"
   },
   {
    "duration": 2,
    "start_time": "2022-05-23T22:03:41.088Z"
   },
   {
    "duration": 8,
    "start_time": "2022-05-23T22:03:41.092Z"
   },
   {
    "duration": 5,
    "start_time": "2022-05-23T22:03:41.102Z"
   },
   {
    "duration": 37,
    "start_time": "2022-05-23T22:03:41.108Z"
   },
   {
    "duration": 8,
    "start_time": "2022-05-23T22:03:41.147Z"
   },
   {
    "duration": 9,
    "start_time": "2022-05-23T22:03:41.157Z"
   },
   {
    "duration": 19,
    "start_time": "2022-05-23T22:03:41.168Z"
   },
   {
    "duration": 10,
    "start_time": "2022-05-23T22:03:41.189Z"
   },
   {
    "duration": 29,
    "start_time": "2022-05-23T22:03:41.200Z"
   },
   {
    "duration": 6,
    "start_time": "2022-05-23T22:03:41.240Z"
   },
   {
    "duration": 13,
    "start_time": "2022-05-23T22:03:41.247Z"
   },
   {
    "duration": 8,
    "start_time": "2022-05-23T22:03:41.261Z"
   },
   {
    "duration": 7,
    "start_time": "2022-05-23T22:03:41.271Z"
   },
   {
    "duration": 8,
    "start_time": "2022-05-23T22:03:41.279Z"
   },
   {
    "duration": 9,
    "start_time": "2022-05-23T22:03:41.289Z"
   },
   {
    "duration": 10,
    "start_time": "2022-05-23T22:03:41.300Z"
   },
   {
    "duration": 29,
    "start_time": "2022-05-23T22:03:41.312Z"
   },
   {
    "duration": 2,
    "start_time": "2022-05-23T22:03:41.343Z"
   },
   {
    "duration": 9,
    "start_time": "2022-05-23T22:03:41.347Z"
   },
   {
    "duration": 5,
    "start_time": "2022-05-23T22:03:41.357Z"
   },
   {
    "duration": 5,
    "start_time": "2022-05-23T22:03:41.364Z"
   },
   {
    "duration": 5,
    "start_time": "2022-05-23T22:03:41.371Z"
   },
   {
    "duration": 8,
    "start_time": "2022-05-23T22:03:41.378Z"
   },
   {
    "duration": 12,
    "start_time": "2022-05-23T22:03:41.388Z"
   },
   {
    "duration": 6,
    "start_time": "2022-05-23T22:03:41.402Z"
   },
   {
    "duration": 8,
    "start_time": "2022-05-23T22:03:41.409Z"
   },
   {
    "duration": 24,
    "start_time": "2022-05-23T22:03:41.418Z"
   },
   {
    "duration": 6,
    "start_time": "2022-05-23T22:03:41.444Z"
   },
   {
    "duration": 34,
    "start_time": "2022-05-23T22:03:41.451Z"
   },
   {
    "duration": 22,
    "start_time": "2022-05-23T22:03:41.487Z"
   },
   {
    "duration": 6,
    "start_time": "2022-05-23T22:03:41.511Z"
   },
   {
    "duration": 8,
    "start_time": "2022-05-23T22:03:41.519Z"
   },
   {
    "duration": 6,
    "start_time": "2022-05-23T22:03:41.529Z"
   },
   {
    "duration": 6,
    "start_time": "2022-05-23T22:03:41.541Z"
   },
   {
    "duration": 6,
    "start_time": "2022-05-23T22:03:41.548Z"
   },
   {
    "duration": 49,
    "start_time": "2022-05-23T22:03:41.556Z"
   },
   {
    "duration": 7,
    "start_time": "2022-05-23T22:03:41.610Z"
   },
   {
    "duration": 18,
    "start_time": "2022-05-23T22:03:41.640Z"
   },
   {
    "duration": 4,
    "start_time": "2022-05-23T22:03:41.660Z"
   },
   {
    "duration": 9,
    "start_time": "2022-05-23T22:03:41.666Z"
   },
   {
    "duration": 12,
    "start_time": "2022-05-23T22:03:41.677Z"
   },
   {
    "duration": 9,
    "start_time": "2022-05-23T22:03:41.690Z"
   },
   {
    "duration": 50,
    "start_time": "2022-05-23T22:03:41.700Z"
   },
   {
    "duration": 9,
    "start_time": "2022-05-23T22:03:41.752Z"
   },
   {
    "duration": 10,
    "start_time": "2022-05-23T22:03:41.763Z"
   },
   {
    "duration": 16,
    "start_time": "2022-05-23T22:03:41.775Z"
   },
   {
    "duration": 52,
    "start_time": "2022-05-23T22:03:41.794Z"
   },
   {
    "duration": 25,
    "start_time": "2022-05-23T22:03:41.848Z"
   },
   {
    "duration": 19,
    "start_time": "2022-05-23T22:03:41.876Z"
   },
   {
    "duration": 43,
    "start_time": "2022-05-23T22:03:41.897Z"
   },
   {
    "duration": 23,
    "start_time": "2022-05-23T22:03:41.943Z"
   },
   {
    "duration": 6,
    "start_time": "2022-05-23T22:04:51.811Z"
   },
   {
    "duration": 31,
    "start_time": "2022-05-23T22:04:55.869Z"
   },
   {
    "duration": 19,
    "start_time": "2022-05-23T22:04:56.677Z"
   },
   {
    "duration": 6,
    "start_time": "2022-05-23T22:04:57.325Z"
   },
   {
    "duration": 12,
    "start_time": "2022-05-23T22:04:57.894Z"
   },
   {
    "duration": 17,
    "start_time": "2022-05-23T22:04:58.597Z"
   },
   {
    "duration": 37,
    "start_time": "2022-05-23T22:05:06.261Z"
   },
   {
    "duration": 18,
    "start_time": "2022-05-23T22:05:07.396Z"
   },
   {
    "duration": 533,
    "start_time": "2022-05-23T22:05:14.617Z"
   },
   {
    "duration": 8,
    "start_time": "2022-05-23T22:05:15.152Z"
   },
   {
    "duration": 19,
    "start_time": "2022-05-23T22:05:15.161Z"
   },
   {
    "duration": 15,
    "start_time": "2022-05-23T22:05:15.181Z"
   },
   {
    "duration": 4,
    "start_time": "2022-05-23T22:05:15.198Z"
   },
   {
    "duration": 15,
    "start_time": "2022-05-23T22:05:15.203Z"
   },
   {
    "duration": 8,
    "start_time": "2022-05-23T22:05:15.241Z"
   },
   {
    "duration": 13,
    "start_time": "2022-05-23T22:05:15.250Z"
   },
   {
    "duration": 27,
    "start_time": "2022-05-23T22:05:15.265Z"
   },
   {
    "duration": 17,
    "start_time": "2022-05-23T22:05:15.294Z"
   },
   {
    "duration": 5,
    "start_time": "2022-05-23T22:05:15.312Z"
   },
   {
    "duration": 41,
    "start_time": "2022-05-23T22:05:15.319Z"
   },
   {
    "duration": 16,
    "start_time": "2022-05-23T22:05:15.361Z"
   },
   {
    "duration": 8,
    "start_time": "2022-05-23T22:05:15.380Z"
   },
   {
    "duration": 19,
    "start_time": "2022-05-23T22:05:15.389Z"
   },
   {
    "duration": 35,
    "start_time": "2022-05-23T22:05:15.410Z"
   },
   {
    "duration": 29,
    "start_time": "2022-05-23T22:05:15.447Z"
   },
   {
    "duration": 18,
    "start_time": "2022-05-23T22:05:15.478Z"
   },
   {
    "duration": 17,
    "start_time": "2022-05-23T22:05:15.498Z"
   },
   {
    "duration": 27,
    "start_time": "2022-05-23T22:05:15.517Z"
   },
   {
    "duration": 19,
    "start_time": "2022-05-23T22:05:15.546Z"
   },
   {
    "duration": 8,
    "start_time": "2022-05-23T22:05:15.567Z"
   },
   {
    "duration": 23,
    "start_time": "2022-05-23T22:05:15.576Z"
   },
   {
    "duration": 29,
    "start_time": "2022-05-23T22:05:15.601Z"
   },
   {
    "duration": 10,
    "start_time": "2022-05-23T22:05:15.632Z"
   },
   {
    "duration": 24,
    "start_time": "2022-05-23T22:05:15.644Z"
   },
   {
    "duration": 4,
    "start_time": "2022-05-23T22:05:15.670Z"
   },
   {
    "duration": 14,
    "start_time": "2022-05-23T22:05:15.676Z"
   },
   {
    "duration": 10,
    "start_time": "2022-05-23T22:05:15.691Z"
   },
   {
    "duration": 10,
    "start_time": "2022-05-23T22:05:15.702Z"
   },
   {
    "duration": 7,
    "start_time": "2022-05-23T22:05:15.714Z"
   },
   {
    "duration": 16,
    "start_time": "2022-05-23T22:05:15.722Z"
   },
   {
    "duration": 14,
    "start_time": "2022-05-23T22:05:15.739Z"
   },
   {
    "duration": 20,
    "start_time": "2022-05-23T22:05:15.755Z"
   },
   {
    "duration": 11,
    "start_time": "2022-05-23T22:05:15.776Z"
   },
   {
    "duration": 5,
    "start_time": "2022-05-23T22:05:15.789Z"
   },
   {
    "duration": 8,
    "start_time": "2022-05-23T22:05:15.795Z"
   },
   {
    "duration": 7,
    "start_time": "2022-05-23T22:05:15.804Z"
   },
   {
    "duration": 15,
    "start_time": "2022-05-23T22:05:15.812Z"
   },
   {
    "duration": 5,
    "start_time": "2022-05-23T22:05:15.842Z"
   },
   {
    "duration": 7,
    "start_time": "2022-05-23T22:05:15.852Z"
   },
   {
    "duration": 8,
    "start_time": "2022-05-23T22:05:15.860Z"
   },
   {
    "duration": 11,
    "start_time": "2022-05-23T22:05:15.870Z"
   },
   {
    "duration": 15,
    "start_time": "2022-05-23T22:05:15.883Z"
   },
   {
    "duration": 28,
    "start_time": "2022-05-23T22:05:15.900Z"
   },
   {
    "duration": 12,
    "start_time": "2022-05-23T22:05:15.929Z"
   },
   {
    "duration": 7,
    "start_time": "2022-05-23T22:05:15.943Z"
   },
   {
    "duration": 14,
    "start_time": "2022-05-23T22:05:15.951Z"
   },
   {
    "duration": 17,
    "start_time": "2022-05-23T22:05:15.967Z"
   },
   {
    "duration": 11,
    "start_time": "2022-05-23T22:05:15.985Z"
   },
   {
    "duration": 14,
    "start_time": "2022-05-23T22:05:15.998Z"
   },
   {
    "duration": 23,
    "start_time": "2022-05-23T22:05:16.013Z"
   },
   {
    "duration": 12,
    "start_time": "2022-05-23T22:05:16.038Z"
   },
   {
    "duration": 28,
    "start_time": "2022-05-23T22:05:16.051Z"
   },
   {
    "duration": 4,
    "start_time": "2022-05-23T22:05:16.081Z"
   },
   {
    "duration": 9,
    "start_time": "2022-05-23T22:05:16.086Z"
   },
   {
    "duration": 10,
    "start_time": "2022-05-23T22:05:16.096Z"
   },
   {
    "duration": 5,
    "start_time": "2022-05-23T22:05:16.108Z"
   },
   {
    "duration": 6,
    "start_time": "2022-05-23T22:05:16.115Z"
   },
   {
    "duration": 19,
    "start_time": "2022-05-23T22:05:16.122Z"
   },
   {
    "duration": 6,
    "start_time": "2022-05-23T22:05:16.142Z"
   },
   {
    "duration": 6,
    "start_time": "2022-05-23T22:05:16.150Z"
   },
   {
    "duration": 12,
    "start_time": "2022-05-23T22:05:16.157Z"
   },
   {
    "duration": 9,
    "start_time": "2022-05-23T22:05:16.170Z"
   },
   {
    "duration": 6,
    "start_time": "2022-05-23T22:05:16.180Z"
   },
   {
    "duration": 6,
    "start_time": "2022-05-23T22:05:16.188Z"
   },
   {
    "duration": 10,
    "start_time": "2022-05-23T22:05:16.195Z"
   },
   {
    "duration": 15,
    "start_time": "2022-05-23T22:05:16.206Z"
   },
   {
    "duration": 12,
    "start_time": "2022-05-23T22:05:16.223Z"
   },
   {
    "duration": 7,
    "start_time": "2022-05-23T22:05:16.237Z"
   },
   {
    "duration": 8,
    "start_time": "2022-05-23T22:05:16.246Z"
   },
   {
    "duration": 8,
    "start_time": "2022-05-23T22:05:16.256Z"
   },
   {
    "duration": 10,
    "start_time": "2022-05-23T22:05:16.266Z"
   },
   {
    "duration": 18,
    "start_time": "2022-05-23T22:05:16.278Z"
   },
   {
    "duration": 9,
    "start_time": "2022-05-23T22:05:16.298Z"
   },
   {
    "duration": 11,
    "start_time": "2022-05-23T22:05:16.309Z"
   },
   {
    "duration": 6,
    "start_time": "2022-05-23T22:05:16.322Z"
   },
   {
    "duration": 12,
    "start_time": "2022-05-23T22:05:16.329Z"
   },
   {
    "duration": 4,
    "start_time": "2022-05-23T22:05:16.343Z"
   },
   {
    "duration": 8,
    "start_time": "2022-05-23T22:05:16.349Z"
   },
   {
    "duration": 46,
    "start_time": "2022-05-23T22:05:16.358Z"
   },
   {
    "duration": 4,
    "start_time": "2022-05-23T22:05:16.406Z"
   },
   {
    "duration": 37,
    "start_time": "2022-05-23T22:05:16.412Z"
   },
   {
    "duration": 4,
    "start_time": "2022-05-23T22:05:16.450Z"
   },
   {
    "duration": 14,
    "start_time": "2022-05-23T22:05:16.456Z"
   },
   {
    "duration": 12,
    "start_time": "2022-05-23T22:05:16.471Z"
   },
   {
    "duration": 9,
    "start_time": "2022-05-23T22:05:16.485Z"
   },
   {
    "duration": 15,
    "start_time": "2022-05-23T22:05:16.495Z"
   },
   {
    "duration": 8,
    "start_time": "2022-05-23T22:05:16.512Z"
   },
   {
    "duration": 6,
    "start_time": "2022-05-23T22:05:16.540Z"
   },
   {
    "duration": 21,
    "start_time": "2022-05-23T22:05:16.548Z"
   },
   {
    "duration": 27,
    "start_time": "2022-05-23T22:05:16.571Z"
   },
   {
    "duration": 15,
    "start_time": "2022-05-23T22:05:16.600Z"
   },
   {
    "duration": 32,
    "start_time": "2022-05-23T22:05:16.617Z"
   },
   {
    "duration": 16,
    "start_time": "2022-05-23T22:05:16.651Z"
   },
   {
    "duration": 16,
    "start_time": "2022-05-23T22:05:16.669Z"
   },
   {
    "duration": 11,
    "start_time": "2022-05-23T22:06:28.866Z"
   },
   {
    "duration": 4,
    "start_time": "2022-05-23T22:11:11.090Z"
   },
   {
    "duration": 6,
    "start_time": "2022-05-23T22:11:22.424Z"
   },
   {
    "duration": 13,
    "start_time": "2022-05-23T22:13:20.670Z"
   },
   {
    "duration": 8,
    "start_time": "2022-05-23T22:13:58.021Z"
   },
   {
    "duration": 6,
    "start_time": "2022-05-23T22:14:03.242Z"
   },
   {
    "duration": 5,
    "start_time": "2022-05-23T22:14:22.443Z"
   },
   {
    "duration": 13,
    "start_time": "2022-05-23T22:21:05.567Z"
   },
   {
    "duration": 12,
    "start_time": "2022-05-23T22:21:37.542Z"
   },
   {
    "duration": 6,
    "start_time": "2022-05-23T22:21:47.265Z"
   },
   {
    "duration": 4,
    "start_time": "2022-05-23T22:32:56.249Z"
   },
   {
    "duration": 4,
    "start_time": "2022-05-23T22:33:25.564Z"
   },
   {
    "duration": 6,
    "start_time": "2022-05-23T22:35:43.066Z"
   },
   {
    "duration": 7,
    "start_time": "2022-05-23T22:35:53.531Z"
   },
   {
    "duration": 14,
    "start_time": "2022-05-23T22:41:15.958Z"
   },
   {
    "duration": 35,
    "start_time": "2022-05-23T22:47:39.556Z"
   },
   {
    "duration": 10,
    "start_time": "2022-05-23T22:49:13.132Z"
   },
   {
    "duration": 14,
    "start_time": "2022-05-23T22:49:16.977Z"
   },
   {
    "duration": 14,
    "start_time": "2022-05-23T22:49:50.906Z"
   },
   {
    "duration": 15,
    "start_time": "2022-05-23T22:54:22.573Z"
   },
   {
    "duration": 15,
    "start_time": "2022-05-23T22:56:52.464Z"
   },
   {
    "duration": 15,
    "start_time": "2022-05-23T22:58:45.694Z"
   },
   {
    "duration": 19,
    "start_time": "2022-05-23T23:01:56.690Z"
   },
   {
    "duration": 33,
    "start_time": "2022-05-23T23:24:00.151Z"
   },
   {
    "duration": 69,
    "start_time": "2022-05-23T23:24:20.859Z"
   },
   {
    "duration": 4,
    "start_time": "2022-05-23T23:24:20.930Z"
   },
   {
    "duration": 14,
    "start_time": "2022-05-23T23:24:20.935Z"
   },
   {
    "duration": 14,
    "start_time": "2022-05-23T23:24:20.951Z"
   },
   {
    "duration": 4,
    "start_time": "2022-05-23T23:24:20.966Z"
   },
   {
    "duration": 13,
    "start_time": "2022-05-23T23:24:20.971Z"
   },
   {
    "duration": 5,
    "start_time": "2022-05-23T23:24:20.985Z"
   },
   {
    "duration": 7,
    "start_time": "2022-05-23T23:24:20.992Z"
   },
   {
    "duration": 15,
    "start_time": "2022-05-23T23:24:21.000Z"
   },
   {
    "duration": 36,
    "start_time": "2022-05-23T23:24:21.017Z"
   },
   {
    "duration": 5,
    "start_time": "2022-05-23T23:24:21.055Z"
   },
   {
    "duration": 31,
    "start_time": "2022-05-23T23:24:21.061Z"
   },
   {
    "duration": 51,
    "start_time": "2022-05-23T23:24:21.094Z"
   },
   {
    "duration": 6,
    "start_time": "2022-05-23T23:24:21.146Z"
   },
   {
    "duration": 16,
    "start_time": "2022-05-23T23:24:21.153Z"
   },
   {
    "duration": 17,
    "start_time": "2022-05-23T23:24:21.170Z"
   },
   {
    "duration": 55,
    "start_time": "2022-05-23T23:24:21.189Z"
   },
   {
    "duration": 18,
    "start_time": "2022-05-23T23:24:21.246Z"
   },
   {
    "duration": 18,
    "start_time": "2022-05-23T23:24:21.266Z"
   },
   {
    "duration": 5,
    "start_time": "2022-05-23T23:24:21.286Z"
   },
   {
    "duration": 7,
    "start_time": "2022-05-23T23:24:21.293Z"
   },
   {
    "duration": 7,
    "start_time": "2022-05-23T23:24:21.302Z"
   },
   {
    "duration": 6,
    "start_time": "2022-05-23T23:24:21.342Z"
   },
   {
    "duration": 17,
    "start_time": "2022-05-23T23:24:21.350Z"
   },
   {
    "duration": 11,
    "start_time": "2022-05-23T23:24:21.369Z"
   },
   {
    "duration": 13,
    "start_time": "2022-05-23T23:24:21.382Z"
   },
   {
    "duration": 4,
    "start_time": "2022-05-23T23:24:21.396Z"
   },
   {
    "duration": 7,
    "start_time": "2022-05-23T23:24:21.441Z"
   },
   {
    "duration": 7,
    "start_time": "2022-05-23T23:24:21.449Z"
   },
   {
    "duration": 9,
    "start_time": "2022-05-23T23:24:21.457Z"
   },
   {
    "duration": 4,
    "start_time": "2022-05-23T23:24:21.467Z"
   },
   {
    "duration": 6,
    "start_time": "2022-05-23T23:24:21.472Z"
   },
   {
    "duration": 6,
    "start_time": "2022-05-23T23:24:21.480Z"
   },
   {
    "duration": 25,
    "start_time": "2022-05-23T23:24:21.487Z"
   },
   {
    "duration": 29,
    "start_time": "2022-05-23T23:24:21.513Z"
   },
   {
    "duration": 9,
    "start_time": "2022-05-23T23:24:21.544Z"
   },
   {
    "duration": 13,
    "start_time": "2022-05-23T23:24:21.554Z"
   },
   {
    "duration": 6,
    "start_time": "2022-05-23T23:24:21.568Z"
   },
   {
    "duration": 7,
    "start_time": "2022-05-23T23:24:21.576Z"
   },
   {
    "duration": 8,
    "start_time": "2022-05-23T23:24:21.585Z"
   },
   {
    "duration": 10,
    "start_time": "2022-05-23T23:24:21.594Z"
   },
   {
    "duration": 8,
    "start_time": "2022-05-23T23:24:21.605Z"
   },
   {
    "duration": 27,
    "start_time": "2022-05-23T23:24:21.615Z"
   },
   {
    "duration": 5,
    "start_time": "2022-05-23T23:24:21.644Z"
   },
   {
    "duration": 27,
    "start_time": "2022-05-23T23:24:21.650Z"
   },
   {
    "duration": 3,
    "start_time": "2022-05-23T23:24:21.678Z"
   },
   {
    "duration": 9,
    "start_time": "2022-05-23T23:24:21.682Z"
   },
   {
    "duration": 15,
    "start_time": "2022-05-23T23:24:21.693Z"
   },
   {
    "duration": 5,
    "start_time": "2022-05-23T23:24:21.709Z"
   },
   {
    "duration": 50,
    "start_time": "2022-05-23T23:24:21.716Z"
   },
   {
    "duration": 5,
    "start_time": "2022-05-23T23:24:21.768Z"
   },
   {
    "duration": 7,
    "start_time": "2022-05-23T23:24:21.774Z"
   },
   {
    "duration": 4,
    "start_time": "2022-05-23T23:24:21.783Z"
   },
   {
    "duration": 5,
    "start_time": "2022-05-23T23:24:21.789Z"
   },
   {
    "duration": 9,
    "start_time": "2022-05-23T23:24:21.795Z"
   },
   {
    "duration": 6,
    "start_time": "2022-05-23T23:24:21.805Z"
   },
   {
    "duration": 34,
    "start_time": "2022-05-23T23:24:21.813Z"
   },
   {
    "duration": 6,
    "start_time": "2022-05-23T23:24:21.849Z"
   },
   {
    "duration": 6,
    "start_time": "2022-05-23T23:24:21.856Z"
   },
   {
    "duration": 6,
    "start_time": "2022-05-23T23:24:21.863Z"
   },
   {
    "duration": 5,
    "start_time": "2022-05-23T23:24:21.871Z"
   },
   {
    "duration": 19,
    "start_time": "2022-05-23T23:24:21.878Z"
   },
   {
    "duration": 5,
    "start_time": "2022-05-23T23:24:21.899Z"
   },
   {
    "duration": 7,
    "start_time": "2022-05-23T23:24:21.905Z"
   },
   {
    "duration": 28,
    "start_time": "2022-05-23T23:24:21.914Z"
   },
   {
    "duration": 9,
    "start_time": "2022-05-23T23:24:21.943Z"
   },
   {
    "duration": 7,
    "start_time": "2022-05-23T23:24:21.953Z"
   },
   {
    "duration": 4,
    "start_time": "2022-05-23T23:24:21.961Z"
   },
   {
    "duration": 34,
    "start_time": "2022-05-23T23:24:21.967Z"
   },
   {
    "duration": 5,
    "start_time": "2022-05-23T23:24:22.003Z"
   },
   {
    "duration": 6,
    "start_time": "2022-05-23T23:24:22.009Z"
   },
   {
    "duration": 39,
    "start_time": "2022-05-23T23:24:22.017Z"
   },
   {
    "duration": 15,
    "start_time": "2022-05-23T23:24:22.058Z"
   },
   {
    "duration": 14,
    "start_time": "2022-05-23T23:24:22.075Z"
   },
   {
    "duration": 19,
    "start_time": "2022-05-23T23:24:22.090Z"
   },
   {
    "duration": 36,
    "start_time": "2022-05-23T23:24:22.111Z"
   },
   {
    "duration": 15,
    "start_time": "2022-05-23T23:24:22.149Z"
   },
   {
    "duration": 1034,
    "start_time": "2022-05-24T05:35:22.650Z"
   },
   {
    "duration": 8,
    "start_time": "2022-05-24T05:35:24.480Z"
   },
   {
    "duration": 16,
    "start_time": "2022-05-24T05:35:24.648Z"
   },
   {
    "duration": 15,
    "start_time": "2022-05-24T05:35:25.238Z"
   },
   {
    "duration": 3,
    "start_time": "2022-05-24T05:35:25.816Z"
   },
   {
    "duration": 11,
    "start_time": "2022-05-24T05:35:25.980Z"
   },
   {
    "duration": 7,
    "start_time": "2022-05-24T05:35:26.147Z"
   },
   {
    "duration": 5,
    "start_time": "2022-05-24T05:35:26.660Z"
   },
   {
    "duration": 16,
    "start_time": "2022-05-24T05:35:26.904Z"
   },
   {
    "duration": 15,
    "start_time": "2022-05-24T05:35:27.244Z"
   },
   {
    "duration": 5,
    "start_time": "2022-05-24T05:35:27.406Z"
   },
   {
    "duration": 28,
    "start_time": "2022-05-24T05:35:27.749Z"
   },
   {
    "duration": 16,
    "start_time": "2022-05-24T05:35:27.825Z"
   },
   {
    "duration": 5,
    "start_time": "2022-05-24T05:35:27.915Z"
   },
   {
    "duration": 12,
    "start_time": "2022-05-24T05:35:27.992Z"
   },
   {
    "duration": 16,
    "start_time": "2022-05-24T05:35:28.081Z"
   },
   {
    "duration": 29,
    "start_time": "2022-05-24T05:35:28.243Z"
   },
   {
    "duration": 16,
    "start_time": "2022-05-24T05:35:28.416Z"
   },
   {
    "duration": 17,
    "start_time": "2022-05-24T05:35:28.496Z"
   },
   {
    "duration": 6,
    "start_time": "2022-05-24T05:35:28.748Z"
   },
   {
    "duration": 4,
    "start_time": "2022-05-24T05:35:28.934Z"
   },
   {
    "duration": 5,
    "start_time": "2022-05-24T05:35:29.081Z"
   },
   {
    "duration": 6,
    "start_time": "2022-05-24T05:35:29.250Z"
   },
   {
    "duration": 16,
    "start_time": "2022-05-24T05:35:29.505Z"
   },
   {
    "duration": 10,
    "start_time": "2022-05-24T05:35:29.582Z"
   },
   {
    "duration": 13,
    "start_time": "2022-05-24T05:35:29.666Z"
   },
   {
    "duration": 4,
    "start_time": "2022-05-24T05:35:29.749Z"
   },
   {
    "duration": 5,
    "start_time": "2022-05-24T05:35:29.917Z"
   },
   {
    "duration": 6,
    "start_time": "2022-05-24T05:35:30.000Z"
   },
   {
    "duration": 5,
    "start_time": "2022-05-24T05:35:30.168Z"
   },
   {
    "duration": 5,
    "start_time": "2022-05-24T05:35:30.333Z"
   },
   {
    "duration": 4,
    "start_time": "2022-05-24T05:35:30.418Z"
   },
   {
    "duration": 5,
    "start_time": "2022-05-24T05:35:30.504Z"
   },
   {
    "duration": 18,
    "start_time": "2022-05-24T05:35:30.669Z"
   },
   {
    "duration": 6,
    "start_time": "2022-05-24T05:35:30.753Z"
   },
   {
    "duration": 5,
    "start_time": "2022-05-24T05:35:30.835Z"
   },
   {
    "duration": 5,
    "start_time": "2022-05-24T05:35:31.093Z"
   },
   {
    "duration": 6,
    "start_time": "2022-05-24T05:35:31.170Z"
   },
   {
    "duration": 7,
    "start_time": "2022-05-24T05:35:31.259Z"
   },
   {
    "duration": 5,
    "start_time": "2022-05-24T05:35:31.422Z"
   },
   {
    "duration": 5,
    "start_time": "2022-05-24T05:35:31.506Z"
   },
   {
    "duration": 5,
    "start_time": "2022-05-24T05:35:31.593Z"
   },
   {
    "duration": 6,
    "start_time": "2022-05-24T05:35:31.841Z"
   },
   {
    "duration": 5,
    "start_time": "2022-05-24T05:35:31.936Z"
   },
   {
    "duration": 18,
    "start_time": "2022-05-24T05:35:32.092Z"
   },
   {
    "duration": 2,
    "start_time": "2022-05-24T05:35:32.600Z"
   },
   {
    "duration": 3,
    "start_time": "2022-05-24T05:35:32.676Z"
   },
   {
    "duration": 17,
    "start_time": "2022-05-24T05:35:32.759Z"
   },
   {
    "duration": 5,
    "start_time": "2022-05-24T05:35:32.850Z"
   },
   {
    "duration": 21,
    "start_time": "2022-05-24T05:35:32.933Z"
   },
   {
    "duration": 5,
    "start_time": "2022-05-24T05:35:33.012Z"
   },
   {
    "duration": 5,
    "start_time": "2022-05-24T05:35:33.093Z"
   },
   {
    "duration": 4,
    "start_time": "2022-05-24T05:35:33.176Z"
   },
   {
    "duration": 5,
    "start_time": "2022-05-24T05:35:33.260Z"
   },
   {
    "duration": 7,
    "start_time": "2022-05-24T05:35:33.429Z"
   },
   {
    "duration": 4,
    "start_time": "2022-05-24T05:35:33.511Z"
   },
   {
    "duration": 6,
    "start_time": "2022-05-24T05:35:33.597Z"
   },
   {
    "duration": 4,
    "start_time": "2022-05-24T05:35:33.857Z"
   },
   {
    "duration": 4,
    "start_time": "2022-05-24T05:35:34.098Z"
   },
   {
    "duration": 5,
    "start_time": "2022-05-24T05:35:34.179Z"
   },
   {
    "duration": 3,
    "start_time": "2022-05-24T05:35:34.266Z"
   },
   {
    "duration": 15,
    "start_time": "2022-05-24T05:35:34.515Z"
   },
   {
    "duration": 5,
    "start_time": "2022-05-24T05:35:34.682Z"
   },
   {
    "duration": 4,
    "start_time": "2022-05-24T05:35:34.764Z"
   },
   {
    "duration": 5,
    "start_time": "2022-05-24T05:35:34.848Z"
   },
   {
    "duration": 5,
    "start_time": "2022-05-24T05:35:34.945Z"
   },
   {
    "duration": 6,
    "start_time": "2022-05-24T05:35:35.014Z"
   },
   {
    "duration": 4,
    "start_time": "2022-05-24T05:35:35.182Z"
   },
   {
    "duration": 31,
    "start_time": "2022-05-24T05:35:35.266Z"
   },
   {
    "duration": 6,
    "start_time": "2022-05-24T05:35:35.442Z"
   },
   {
    "duration": 3,
    "start_time": "2022-05-24T05:35:35.518Z"
   },
   {
    "duration": 5,
    "start_time": "2022-05-24T05:35:35.776Z"
   },
   {
    "duration": 16,
    "start_time": "2022-05-24T05:35:36.196Z"
   },
   {
    "duration": 15,
    "start_time": "2022-05-24T05:35:36.439Z"
   },
   {
    "duration": 20,
    "start_time": "2022-05-24T05:35:36.688Z"
   },
   {
    "duration": 8,
    "start_time": "2022-05-24T05:37:22.217Z"
   },
   {
    "duration": 18,
    "start_time": "2022-05-24T05:37:38.022Z"
   },
   {
    "duration": 5,
    "start_time": "2022-05-24T05:38:26.439Z"
   }
  ],
  "kernelspec": {
   "display_name": "Python 3 (ipykernel)",
   "language": "python",
   "name": "python3"
  },
  "language_info": {
   "codemirror_mode": {
    "name": "ipython",
    "version": 3
   },
   "file_extension": ".py",
   "mimetype": "text/x-python",
   "name": "python",
   "nbconvert_exporter": "python",
   "pygments_lexer": "ipython3",
   "version": "3.9.5"
  },
  "toc": {
   "base_numbering": 1,
   "nav_menu": {},
   "number_sections": true,
   "sideBar": true,
   "skip_h1_title": true,
   "title_cell": "Table of Contents",
   "title_sidebar": "Contents",
   "toc_cell": false,
   "toc_position": {},
   "toc_section_display": true,
   "toc_window_display": false
  }
 },
 "nbformat": 4,
 "nbformat_minor": 2
}
