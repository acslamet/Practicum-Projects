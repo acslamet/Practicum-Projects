{
 "cells": [
  {
   "cell_type": "markdown",
   "metadata": {},
   "source": [
    "# A/B Hypothesis Testing for Online Store"
   ]
  },
  {
   "cell_type": "markdown",
   "metadata": {},
   "source": [
    "<b>Project Description</b> <a class=\"tocSkip\"></a>\n",
    "\n",
    "I am an analyst at a big online store. Together with the marketing department, I've compiled a list of hypotheses that may help boost revenue.\n",
    "I need to prioritize these hypotheses, launch an A/B test, and analyze the results."
   ]
  },
  {
   "cell_type": "markdown",
   "metadata": {},
   "source": [
    "<b>Description of the data</b> <a class=\"tocSkip\"></a>\n",
    "\n",
    "\n",
    "<b>Data used in the first part of the project</b> <a class=\"tocSkip\"></a>\n",
    "\n",
    "DATASET- /datasets/hypotheses_us.csv\n",
    "\n",
    "\n",
    "Hypothesis — brief descriptions of the hypotheses \n",
    "\n",
    "Reach — user reach, on a scale of one to ten\n",
    "\n",
    "Impact — impact on users, on a scale of one to ten\n",
    "\n",
    "Confidence — confidence in the hypothesis, on a scale of one to ten\n",
    "\n",
    "Effort — the resources required to test a hypothesis, on a scale of one to ten. The higher the effort value, the more resource-intensive the test."
   ]
  },
  {
   "cell_type": "markdown",
   "metadata": {},
   "source": [
    "<b>Data used in the second part of the project</b> <a class=\"tocSkip\"></a>\n",
    "\n",
    "DATASET- /datasets/orders_us.csv\n",
    "\n",
    "transactionId — order identifier\n",
    "\n",
    "visitorId — identifier of the user who placed the order\n",
    "\n",
    "date — of the order\n",
    "\n",
    "revenue — from the order\n",
    "\n",
    "group — the A/B test group that the user belongs to\n",
    "\n",
    "\n",
    "\n",
    "DATASET- /datasets/visits_us.csv\n",
    "\n",
    "date — date\n",
    "\n",
    "group — A/B test group\n",
    "\n",
    "visits — the number of visits on the date specified in the A/B test group specified"
   ]
  },
  {
   "cell_type": "markdown",
   "metadata": {},
   "source": [
    "Make sure to preprocess the data. There might be mistakes in the original datasets; for example, some of the visitors might have gotten into both group A and group B."
   ]
  },
  {
   "cell_type": "markdown",
   "metadata": {},
   "source": [
    "# Download and Pre Process the Data"
   ]
  },
  {
   "cell_type": "code",
   "execution_count": 1,
   "metadata": {},
   "outputs": [],
   "source": [
    "#import libraries\n",
    "import pandas as pd\n",
    "import matplotlib.pyplot as plt\n",
    "import numpy as np\n",
    "from datetime import datetime\n",
    "import seaborn as sns\n",
    "from scipy import stats as st"
   ]
  },
  {
   "cell_type": "code",
   "execution_count": 2,
   "metadata": {},
   "outputs": [],
   "source": [
    "#load the data\n",
    "\n",
    "try:\n",
    "    hypothesis= pd.read_csv('/datasets/hypotheses_us.csv', sep= ';')\n",
    "    orders= pd.read_csv('/datasets/orders_us.csv')\n",
    "    visits= pd.read_csv('/datasets/visits_us.csv')\n",
    "except:\n",
    "    hypothesis= pd.read_csv('hypotheses_us.csv', sep= ';')\n",
    "    orders= pd.read_csv('orders_us.csv')\n",
    "    visits= pd.read_csv('visits_us.csv')\n"
   ]
  },
  {
   "cell_type": "code",
   "execution_count": 3,
   "metadata": {
    "scrolled": false
   },
   "outputs": [
    {
     "data": {
      "text/html": [
       "<div>\n",
       "<style scoped>\n",
       "    .dataframe tbody tr th:only-of-type {\n",
       "        vertical-align: middle;\n",
       "    }\n",
       "\n",
       "    .dataframe tbody tr th {\n",
       "        vertical-align: top;\n",
       "    }\n",
       "\n",
       "    .dataframe thead th {\n",
       "        text-align: right;\n",
       "    }\n",
       "</style>\n",
       "<table border=\"1\" class=\"dataframe\">\n",
       "  <thead>\n",
       "    <tr style=\"text-align: right;\">\n",
       "      <th></th>\n",
       "      <th>Hypothesis</th>\n",
       "      <th>Reach</th>\n",
       "      <th>Impact</th>\n",
       "      <th>Confidence</th>\n",
       "      <th>Effort</th>\n",
       "    </tr>\n",
       "  </thead>\n",
       "  <tbody>\n",
       "    <tr>\n",
       "      <th>0</th>\n",
       "      <td>Add two new channels for attracting traffic. T...</td>\n",
       "      <td>3</td>\n",
       "      <td>10</td>\n",
       "      <td>8</td>\n",
       "      <td>6</td>\n",
       "    </tr>\n",
       "    <tr>\n",
       "      <th>1</th>\n",
       "      <td>Launch your own delivery service. This will sh...</td>\n",
       "      <td>2</td>\n",
       "      <td>5</td>\n",
       "      <td>4</td>\n",
       "      <td>10</td>\n",
       "    </tr>\n",
       "    <tr>\n",
       "      <th>2</th>\n",
       "      <td>Add product recommendation blocks to the store...</td>\n",
       "      <td>8</td>\n",
       "      <td>3</td>\n",
       "      <td>7</td>\n",
       "      <td>3</td>\n",
       "    </tr>\n",
       "    <tr>\n",
       "      <th>3</th>\n",
       "      <td>Change the category structure. This will incre...</td>\n",
       "      <td>8</td>\n",
       "      <td>3</td>\n",
       "      <td>3</td>\n",
       "      <td>8</td>\n",
       "    </tr>\n",
       "    <tr>\n",
       "      <th>4</th>\n",
       "      <td>Change the background color on the main page. ...</td>\n",
       "      <td>3</td>\n",
       "      <td>1</td>\n",
       "      <td>1</td>\n",
       "      <td>1</td>\n",
       "    </tr>\n",
       "    <tr>\n",
       "      <th>5</th>\n",
       "      <td>Add a customer review page. This will increase...</td>\n",
       "      <td>3</td>\n",
       "      <td>2</td>\n",
       "      <td>2</td>\n",
       "      <td>3</td>\n",
       "    </tr>\n",
       "    <tr>\n",
       "      <th>6</th>\n",
       "      <td>Show banners with current offers and sales on ...</td>\n",
       "      <td>5</td>\n",
       "      <td>3</td>\n",
       "      <td>8</td>\n",
       "      <td>3</td>\n",
       "    </tr>\n",
       "    <tr>\n",
       "      <th>7</th>\n",
       "      <td>Add a subscription form to all the main pages....</td>\n",
       "      <td>10</td>\n",
       "      <td>7</td>\n",
       "      <td>8</td>\n",
       "      <td>5</td>\n",
       "    </tr>\n",
       "    <tr>\n",
       "      <th>8</th>\n",
       "      <td>Launch a promotion that gives users discounts ...</td>\n",
       "      <td>1</td>\n",
       "      <td>9</td>\n",
       "      <td>9</td>\n",
       "      <td>5</td>\n",
       "    </tr>\n",
       "  </tbody>\n",
       "</table>\n",
       "</div>"
      ],
      "text/plain": [
       "                                          Hypothesis  Reach  Impact  \\\n",
       "0  Add two new channels for attracting traffic. T...      3      10   \n",
       "1  Launch your own delivery service. This will sh...      2       5   \n",
       "2  Add product recommendation blocks to the store...      8       3   \n",
       "3  Change the category structure. This will incre...      8       3   \n",
       "4  Change the background color on the main page. ...      3       1   \n",
       "5  Add a customer review page. This will increase...      3       2   \n",
       "6  Show banners with current offers and sales on ...      5       3   \n",
       "7  Add a subscription form to all the main pages....     10       7   \n",
       "8  Launch a promotion that gives users discounts ...      1       9   \n",
       "\n",
       "   Confidence  Effort  \n",
       "0           8       6  \n",
       "1           4      10  \n",
       "2           7       3  \n",
       "3           3       8  \n",
       "4           1       1  \n",
       "5           2       3  \n",
       "6           8       3  \n",
       "7           8       5  \n",
       "8           9       5  "
      ]
     },
     "execution_count": 3,
     "metadata": {},
     "output_type": "execute_result"
    }
   ],
   "source": [
    "hypothesis"
   ]
  },
  {
   "cell_type": "markdown",
   "metadata": {},
   "source": [
    "It looks like the column names are in the correct format. And the 'Hypothesis' column has the information cut off. "
   ]
  },
  {
   "cell_type": "code",
   "execution_count": 4,
   "metadata": {
    "scrolled": false
   },
   "outputs": [
    {
     "name": "stdout",
     "output_type": "stream",
     "text": [
      "<class 'pandas.core.frame.DataFrame'>\n",
      "RangeIndex: 9 entries, 0 to 8\n",
      "Data columns (total 5 columns):\n",
      " #   Column      Non-Null Count  Dtype \n",
      "---  ------      --------------  ----- \n",
      " 0   Hypothesis  9 non-null      object\n",
      " 1   Reach       9 non-null      int64 \n",
      " 2   Impact      9 non-null      int64 \n",
      " 3   Confidence  9 non-null      int64 \n",
      " 4   Effort      9 non-null      int64 \n",
      "dtypes: int64(4), object(1)\n",
      "memory usage: 488.0+ bytes\n"
     ]
    }
   ],
   "source": [
    "hypothesis.info()"
   ]
  },
  {
   "cell_type": "markdown",
   "metadata": {},
   "source": [
    "There doesn't seem to be any missing values, and all the datatypes are appropriate"
   ]
  },
  {
   "cell_type": "code",
   "execution_count": 5,
   "metadata": {
    "scrolled": true
   },
   "outputs": [
    {
     "data": {
      "text/html": [
       "<div>\n",
       "<style scoped>\n",
       "    .dataframe tbody tr th:only-of-type {\n",
       "        vertical-align: middle;\n",
       "    }\n",
       "\n",
       "    .dataframe tbody tr th {\n",
       "        vertical-align: top;\n",
       "    }\n",
       "\n",
       "    .dataframe thead th {\n",
       "        text-align: right;\n",
       "    }\n",
       "</style>\n",
       "<table border=\"1\" class=\"dataframe\">\n",
       "  <thead>\n",
       "    <tr style=\"text-align: right;\">\n",
       "      <th></th>\n",
       "      <th>Reach</th>\n",
       "      <th>Impact</th>\n",
       "      <th>Confidence</th>\n",
       "      <th>Effort</th>\n",
       "    </tr>\n",
       "  </thead>\n",
       "  <tbody>\n",
       "    <tr>\n",
       "      <th>count</th>\n",
       "      <td>9.000000</td>\n",
       "      <td>9.000000</td>\n",
       "      <td>9.000000</td>\n",
       "      <td>9.000000</td>\n",
       "    </tr>\n",
       "    <tr>\n",
       "      <th>mean</th>\n",
       "      <td>4.777778</td>\n",
       "      <td>4.777778</td>\n",
       "      <td>5.555556</td>\n",
       "      <td>4.888889</td>\n",
       "    </tr>\n",
       "    <tr>\n",
       "      <th>std</th>\n",
       "      <td>3.153481</td>\n",
       "      <td>3.192874</td>\n",
       "      <td>3.045944</td>\n",
       "      <td>2.803767</td>\n",
       "    </tr>\n",
       "    <tr>\n",
       "      <th>min</th>\n",
       "      <td>1.000000</td>\n",
       "      <td>1.000000</td>\n",
       "      <td>1.000000</td>\n",
       "      <td>1.000000</td>\n",
       "    </tr>\n",
       "    <tr>\n",
       "      <th>25%</th>\n",
       "      <td>3.000000</td>\n",
       "      <td>3.000000</td>\n",
       "      <td>3.000000</td>\n",
       "      <td>3.000000</td>\n",
       "    </tr>\n",
       "    <tr>\n",
       "      <th>50%</th>\n",
       "      <td>3.000000</td>\n",
       "      <td>3.000000</td>\n",
       "      <td>7.000000</td>\n",
       "      <td>5.000000</td>\n",
       "    </tr>\n",
       "    <tr>\n",
       "      <th>75%</th>\n",
       "      <td>8.000000</td>\n",
       "      <td>7.000000</td>\n",
       "      <td>8.000000</td>\n",
       "      <td>6.000000</td>\n",
       "    </tr>\n",
       "    <tr>\n",
       "      <th>max</th>\n",
       "      <td>10.000000</td>\n",
       "      <td>10.000000</td>\n",
       "      <td>9.000000</td>\n",
       "      <td>10.000000</td>\n",
       "    </tr>\n",
       "  </tbody>\n",
       "</table>\n",
       "</div>"
      ],
      "text/plain": [
       "           Reach     Impact  Confidence     Effort\n",
       "count   9.000000   9.000000    9.000000   9.000000\n",
       "mean    4.777778   4.777778    5.555556   4.888889\n",
       "std     3.153481   3.192874    3.045944   2.803767\n",
       "min     1.000000   1.000000    1.000000   1.000000\n",
       "25%     3.000000   3.000000    3.000000   3.000000\n",
       "50%     3.000000   3.000000    7.000000   5.000000\n",
       "75%     8.000000   7.000000    8.000000   6.000000\n",
       "max    10.000000  10.000000    9.000000  10.000000"
      ]
     },
     "execution_count": 5,
     "metadata": {},
     "output_type": "execute_result"
    }
   ],
   "source": [
    "hypothesis.describe()"
   ]
  },
  {
   "cell_type": "code",
   "execution_count": 6,
   "metadata": {},
   "outputs": [],
   "source": [
    "#adjusting the column side to show more information in each row\n",
    "pd.set_option('display.max_colwidth', int(hypothesis['Hypothesis'].apply(len).max()))\n",
    "#pd.set_option('display.max_colwidth', -1)"
   ]
  },
  {
   "cell_type": "code",
   "execution_count": 7,
   "metadata": {
    "scrolled": true
   },
   "outputs": [
    {
     "data": {
      "text/html": [
       "<div>\n",
       "<style scoped>\n",
       "    .dataframe tbody tr th:only-of-type {\n",
       "        vertical-align: middle;\n",
       "    }\n",
       "\n",
       "    .dataframe tbody tr th {\n",
       "        vertical-align: top;\n",
       "    }\n",
       "\n",
       "    .dataframe thead th {\n",
       "        text-align: right;\n",
       "    }\n",
       "</style>\n",
       "<table border=\"1\" class=\"dataframe\">\n",
       "  <thead>\n",
       "    <tr style=\"text-align: right;\">\n",
       "      <th></th>\n",
       "      <th>hypothesis</th>\n",
       "      <th>reach</th>\n",
       "      <th>impact</th>\n",
       "      <th>confidence</th>\n",
       "      <th>effort</th>\n",
       "    </tr>\n",
       "  </thead>\n",
       "  <tbody>\n",
       "    <tr>\n",
       "      <th>0</th>\n",
       "      <td>Add two new channels for attracting traffic. This will bring 30% more users</td>\n",
       "      <td>3</td>\n",
       "      <td>10</td>\n",
       "      <td>8</td>\n",
       "      <td>6</td>\n",
       "    </tr>\n",
       "    <tr>\n",
       "      <th>1</th>\n",
       "      <td>Launch your own delivery service. This will shorten delivery time</td>\n",
       "      <td>2</td>\n",
       "      <td>5</td>\n",
       "      <td>4</td>\n",
       "      <td>10</td>\n",
       "    </tr>\n",
       "    <tr>\n",
       "      <th>2</th>\n",
       "      <td>Add product recommendation blocks to the store's site. This will increase conversion and average purchase size</td>\n",
       "      <td>8</td>\n",
       "      <td>3</td>\n",
       "      <td>7</td>\n",
       "      <td>3</td>\n",
       "    </tr>\n",
       "    <tr>\n",
       "      <th>3</th>\n",
       "      <td>Change the category structure. This will increase conversion since users will find the products they want more qui...</td>\n",
       "      <td>8</td>\n",
       "      <td>3</td>\n",
       "      <td>3</td>\n",
       "      <td>8</td>\n",
       "    </tr>\n",
       "    <tr>\n",
       "      <th>4</th>\n",
       "      <td>Change the background color on the main page. This will increase user engagement</td>\n",
       "      <td>3</td>\n",
       "      <td>1</td>\n",
       "      <td>1</td>\n",
       "      <td>1</td>\n",
       "    </tr>\n",
       "    <tr>\n",
       "      <th>5</th>\n",
       "      <td>Add a customer review page. This will increase the number of orders</td>\n",
       "      <td>3</td>\n",
       "      <td>2</td>\n",
       "      <td>2</td>\n",
       "      <td>3</td>\n",
       "    </tr>\n",
       "    <tr>\n",
       "      <th>6</th>\n",
       "      <td>Show banners with current offers and sales on the main page. This will boost conversion</td>\n",
       "      <td>5</td>\n",
       "      <td>3</td>\n",
       "      <td>8</td>\n",
       "      <td>3</td>\n",
       "    </tr>\n",
       "    <tr>\n",
       "      <th>7</th>\n",
       "      <td>Add a subscription form to all the main pages. This will help you compile a mailing list</td>\n",
       "      <td>10</td>\n",
       "      <td>7</td>\n",
       "      <td>8</td>\n",
       "      <td>5</td>\n",
       "    </tr>\n",
       "    <tr>\n",
       "      <th>8</th>\n",
       "      <td>Launch a promotion that gives users discounts on their birthdays</td>\n",
       "      <td>1</td>\n",
       "      <td>9</td>\n",
       "      <td>9</td>\n",
       "      <td>5</td>\n",
       "    </tr>\n",
       "  </tbody>\n",
       "</table>\n",
       "</div>"
      ],
      "text/plain": [
       "                                                                                                              hypothesis  \\\n",
       "0                                            Add two new channels for attracting traffic. This will bring 30% more users   \n",
       "1                                                      Launch your own delivery service. This will shorten delivery time   \n",
       "2         Add product recommendation blocks to the store's site. This will increase conversion and average purchase size   \n",
       "3  Change the category structure. This will increase conversion since users will find the products they want more qui...   \n",
       "4                                       Change the background color on the main page. This will increase user engagement   \n",
       "5                                                    Add a customer review page. This will increase the number of orders   \n",
       "6                                Show banners with current offers and sales on the main page. This will boost conversion   \n",
       "7                               Add a subscription form to all the main pages. This will help you compile a mailing list   \n",
       "8                                                       Launch a promotion that gives users discounts on their birthdays   \n",
       "\n",
       "   reach  impact  confidence  effort  \n",
       "0      3      10           8       6  \n",
       "1      2       5           4      10  \n",
       "2      8       3           7       3  \n",
       "3      8       3           3       8  \n",
       "4      3       1           1       1  \n",
       "5      3       2           2       3  \n",
       "6      5       3           8       3  \n",
       "7     10       7           8       5  \n",
       "8      1       9           9       5  "
      ]
     },
     "execution_count": 7,
     "metadata": {},
     "output_type": "execute_result"
    }
   ],
   "source": [
    "#changing the column names to lower case\n",
    "hypothesis= hypothesis.rename(str.lower, axis= 'columns')\n",
    "\n",
    "hypothesis"
   ]
  },
  {
   "cell_type": "markdown",
   "metadata": {},
   "source": [
    "Now we can see more information in the 'hypothesis' column, and the column names are all in lower case"
   ]
  },
  {
   "cell_type": "code",
   "execution_count": 8,
   "metadata": {},
   "outputs": [
    {
     "data": {
      "text/plain": [
       "0"
      ]
     },
     "execution_count": 8,
     "metadata": {},
     "output_type": "execute_result"
    }
   ],
   "source": [
    "hypothesis.duplicated().sum()"
   ]
  },
  {
   "cell_type": "markdown",
   "metadata": {},
   "source": [
    "There are no duplicate rows. This dataset looks ready for analysis."
   ]
  },
  {
   "cell_type": "code",
   "execution_count": 9,
   "metadata": {
    "scrolled": false
   },
   "outputs": [
    {
     "data": {
      "text/html": [
       "<div>\n",
       "<style scoped>\n",
       "    .dataframe tbody tr th:only-of-type {\n",
       "        vertical-align: middle;\n",
       "    }\n",
       "\n",
       "    .dataframe tbody tr th {\n",
       "        vertical-align: top;\n",
       "    }\n",
       "\n",
       "    .dataframe thead th {\n",
       "        text-align: right;\n",
       "    }\n",
       "</style>\n",
       "<table border=\"1\" class=\"dataframe\">\n",
       "  <thead>\n",
       "    <tr style=\"text-align: right;\">\n",
       "      <th></th>\n",
       "      <th>transactionId</th>\n",
       "      <th>visitorId</th>\n",
       "      <th>date</th>\n",
       "      <th>revenue</th>\n",
       "      <th>group</th>\n",
       "    </tr>\n",
       "  </thead>\n",
       "  <tbody>\n",
       "    <tr>\n",
       "      <th>0</th>\n",
       "      <td>3667963787</td>\n",
       "      <td>3312258926</td>\n",
       "      <td>2019-08-15</td>\n",
       "      <td>30.4</td>\n",
       "      <td>B</td>\n",
       "    </tr>\n",
       "    <tr>\n",
       "      <th>1</th>\n",
       "      <td>2804400009</td>\n",
       "      <td>3642806036</td>\n",
       "      <td>2019-08-15</td>\n",
       "      <td>15.2</td>\n",
       "      <td>B</td>\n",
       "    </tr>\n",
       "    <tr>\n",
       "      <th>2</th>\n",
       "      <td>2961555356</td>\n",
       "      <td>4069496402</td>\n",
       "      <td>2019-08-15</td>\n",
       "      <td>10.2</td>\n",
       "      <td>A</td>\n",
       "    </tr>\n",
       "    <tr>\n",
       "      <th>3</th>\n",
       "      <td>3797467345</td>\n",
       "      <td>1196621759</td>\n",
       "      <td>2019-08-15</td>\n",
       "      <td>155.1</td>\n",
       "      <td>B</td>\n",
       "    </tr>\n",
       "    <tr>\n",
       "      <th>4</th>\n",
       "      <td>2282983706</td>\n",
       "      <td>2322279887</td>\n",
       "      <td>2019-08-15</td>\n",
       "      <td>40.5</td>\n",
       "      <td>B</td>\n",
       "    </tr>\n",
       "  </tbody>\n",
       "</table>\n",
       "</div>"
      ],
      "text/plain": [
       "   transactionId   visitorId        date  revenue group\n",
       "0     3667963787  3312258926  2019-08-15     30.4     B\n",
       "1     2804400009  3642806036  2019-08-15     15.2     B\n",
       "2     2961555356  4069496402  2019-08-15     10.2     A\n",
       "3     3797467345  1196621759  2019-08-15    155.1     B\n",
       "4     2282983706  2322279887  2019-08-15     40.5     B"
      ]
     },
     "execution_count": 9,
     "metadata": {},
     "output_type": "execute_result"
    }
   ],
   "source": [
    "orders.head()"
   ]
  },
  {
   "cell_type": "markdown",
   "metadata": {},
   "source": [
    "The column names could be adjusted a bit to be easier to read. "
   ]
  },
  {
   "cell_type": "code",
   "execution_count": 10,
   "metadata": {
    "scrolled": false
   },
   "outputs": [
    {
     "name": "stdout",
     "output_type": "stream",
     "text": [
      "<class 'pandas.core.frame.DataFrame'>\n",
      "RangeIndex: 1197 entries, 0 to 1196\n",
      "Data columns (total 5 columns):\n",
      " #   Column         Non-Null Count  Dtype  \n",
      "---  ------         --------------  -----  \n",
      " 0   transactionId  1197 non-null   int64  \n",
      " 1   visitorId      1197 non-null   int64  \n",
      " 2   date           1197 non-null   object \n",
      " 3   revenue        1197 non-null   float64\n",
      " 4   group          1197 non-null   object \n",
      "dtypes: float64(1), int64(2), object(2)\n",
      "memory usage: 46.9+ KB\n"
     ]
    }
   ],
   "source": [
    "orders.info()"
   ]
  },
  {
   "cell_type": "markdown",
   "metadata": {},
   "source": [
    "There doesn't seem to be any missing values, however, the datatypes should be changed to the appropriate datatypes."
   ]
  },
  {
   "cell_type": "code",
   "execution_count": 11,
   "metadata": {
    "scrolled": true
   },
   "outputs": [
    {
     "data": {
      "text/html": [
       "<div>\n",
       "<style scoped>\n",
       "    .dataframe tbody tr th:only-of-type {\n",
       "        vertical-align: middle;\n",
       "    }\n",
       "\n",
       "    .dataframe tbody tr th {\n",
       "        vertical-align: top;\n",
       "    }\n",
       "\n",
       "    .dataframe thead th {\n",
       "        text-align: right;\n",
       "    }\n",
       "</style>\n",
       "<table border=\"1\" class=\"dataframe\">\n",
       "  <thead>\n",
       "    <tr style=\"text-align: right;\">\n",
       "      <th></th>\n",
       "      <th>transactionId</th>\n",
       "      <th>visitorId</th>\n",
       "      <th>revenue</th>\n",
       "    </tr>\n",
       "  </thead>\n",
       "  <tbody>\n",
       "    <tr>\n",
       "      <th>count</th>\n",
       "      <td>1.197000e+03</td>\n",
       "      <td>1.197000e+03</td>\n",
       "      <td>1197.000000</td>\n",
       "    </tr>\n",
       "    <tr>\n",
       "      <th>mean</th>\n",
       "      <td>2.155621e+09</td>\n",
       "      <td>2.165960e+09</td>\n",
       "      <td>131.491646</td>\n",
       "    </tr>\n",
       "    <tr>\n",
       "      <th>std</th>\n",
       "      <td>1.229085e+09</td>\n",
       "      <td>1.236014e+09</td>\n",
       "      <td>603.004729</td>\n",
       "    </tr>\n",
       "    <tr>\n",
       "      <th>min</th>\n",
       "      <td>1.062393e+06</td>\n",
       "      <td>5.114589e+06</td>\n",
       "      <td>5.000000</td>\n",
       "    </tr>\n",
       "    <tr>\n",
       "      <th>25%</th>\n",
       "      <td>1.166776e+09</td>\n",
       "      <td>1.111826e+09</td>\n",
       "      <td>20.800000</td>\n",
       "    </tr>\n",
       "    <tr>\n",
       "      <th>50%</th>\n",
       "      <td>2.145194e+09</td>\n",
       "      <td>2.217985e+09</td>\n",
       "      <td>50.200000</td>\n",
       "    </tr>\n",
       "    <tr>\n",
       "      <th>75%</th>\n",
       "      <td>3.237740e+09</td>\n",
       "      <td>3.177606e+09</td>\n",
       "      <td>130.400000</td>\n",
       "    </tr>\n",
       "    <tr>\n",
       "      <th>max</th>\n",
       "      <td>4.293856e+09</td>\n",
       "      <td>4.283872e+09</td>\n",
       "      <td>19920.400000</td>\n",
       "    </tr>\n",
       "  </tbody>\n",
       "</table>\n",
       "</div>"
      ],
      "text/plain": [
       "       transactionId     visitorId       revenue\n",
       "count   1.197000e+03  1.197000e+03   1197.000000\n",
       "mean    2.155621e+09  2.165960e+09    131.491646\n",
       "std     1.229085e+09  1.236014e+09    603.004729\n",
       "min     1.062393e+06  5.114589e+06      5.000000\n",
       "25%     1.166776e+09  1.111826e+09     20.800000\n",
       "50%     2.145194e+09  2.217985e+09     50.200000\n",
       "75%     3.237740e+09  3.177606e+09    130.400000\n",
       "max     4.293856e+09  4.283872e+09  19920.400000"
      ]
     },
     "execution_count": 11,
     "metadata": {},
     "output_type": "execute_result"
    }
   ],
   "source": [
    "orders.describe()"
   ]
  },
  {
   "cell_type": "code",
   "execution_count": 12,
   "metadata": {
    "scrolled": true
   },
   "outputs": [
    {
     "name": "stdout",
     "output_type": "stream",
     "text": [
      "<class 'pandas.core.frame.DataFrame'>\n",
      "RangeIndex: 1197 entries, 0 to 1196\n",
      "Data columns (total 5 columns):\n",
      " #   Column          Non-Null Count  Dtype         \n",
      "---  ------          --------------  -----         \n",
      " 0   transaction_id  1197 non-null   int64         \n",
      " 1   visitor_id      1197 non-null   int64         \n",
      " 2   date            1197 non-null   datetime64[ns]\n",
      " 3   revenue         1197 non-null   float64       \n",
      " 4   group           1197 non-null   object        \n",
      "dtypes: datetime64[ns](1), float64(1), int64(2), object(1)\n",
      "memory usage: 46.9+ KB\n"
     ]
    }
   ],
   "source": [
    "#changing the column names\n",
    "orders = orders.rename(columns= {'transactionId':'transaction_id', 'visitorId':'visitor_id','date':'date', 'revenue':'revenue','group':'group'})\n",
    "\n",
    "#converting columns to appropriate datatypes\n",
    "orders['date'] = pd.to_datetime(orders['date'], format= '%Y-%m-%d')\n",
    "orders.info()"
   ]
  },
  {
   "cell_type": "code",
   "execution_count": 13,
   "metadata": {},
   "outputs": [
    {
     "data": {
      "text/plain": [
       "0"
      ]
     },
     "execution_count": 13,
     "metadata": {},
     "output_type": "execute_result"
    }
   ],
   "source": [
    "orders.duplicated().sum()"
   ]
  },
  {
   "cell_type": "markdown",
   "metadata": {},
   "source": [
    "There are no duplicates. Now the orders dataset is ready for analysis."
   ]
  },
  {
   "cell_type": "code",
   "execution_count": 14,
   "metadata": {
    "scrolled": true
   },
   "outputs": [
    {
     "data": {
      "text/html": [
       "<div>\n",
       "<style scoped>\n",
       "    .dataframe tbody tr th:only-of-type {\n",
       "        vertical-align: middle;\n",
       "    }\n",
       "\n",
       "    .dataframe tbody tr th {\n",
       "        vertical-align: top;\n",
       "    }\n",
       "\n",
       "    .dataframe thead th {\n",
       "        text-align: right;\n",
       "    }\n",
       "</style>\n",
       "<table border=\"1\" class=\"dataframe\">\n",
       "  <thead>\n",
       "    <tr style=\"text-align: right;\">\n",
       "      <th></th>\n",
       "      <th>date</th>\n",
       "      <th>group</th>\n",
       "      <th>visits</th>\n",
       "    </tr>\n",
       "  </thead>\n",
       "  <tbody>\n",
       "    <tr>\n",
       "      <th>0</th>\n",
       "      <td>2019-08-01</td>\n",
       "      <td>A</td>\n",
       "      <td>719</td>\n",
       "    </tr>\n",
       "    <tr>\n",
       "      <th>1</th>\n",
       "      <td>2019-08-02</td>\n",
       "      <td>A</td>\n",
       "      <td>619</td>\n",
       "    </tr>\n",
       "    <tr>\n",
       "      <th>2</th>\n",
       "      <td>2019-08-03</td>\n",
       "      <td>A</td>\n",
       "      <td>507</td>\n",
       "    </tr>\n",
       "    <tr>\n",
       "      <th>3</th>\n",
       "      <td>2019-08-04</td>\n",
       "      <td>A</td>\n",
       "      <td>717</td>\n",
       "    </tr>\n",
       "    <tr>\n",
       "      <th>4</th>\n",
       "      <td>2019-08-05</td>\n",
       "      <td>A</td>\n",
       "      <td>756</td>\n",
       "    </tr>\n",
       "  </tbody>\n",
       "</table>\n",
       "</div>"
      ],
      "text/plain": [
       "         date group  visits\n",
       "0  2019-08-01     A     719\n",
       "1  2019-08-02     A     619\n",
       "2  2019-08-03     A     507\n",
       "3  2019-08-04     A     717\n",
       "4  2019-08-05     A     756"
      ]
     },
     "execution_count": 14,
     "metadata": {},
     "output_type": "execute_result"
    }
   ],
   "source": [
    "visits.head()"
   ]
  },
  {
   "cell_type": "code",
   "execution_count": 15,
   "metadata": {
    "scrolled": false
   },
   "outputs": [
    {
     "name": "stdout",
     "output_type": "stream",
     "text": [
      "<class 'pandas.core.frame.DataFrame'>\n",
      "RangeIndex: 62 entries, 0 to 61\n",
      "Data columns (total 3 columns):\n",
      " #   Column  Non-Null Count  Dtype \n",
      "---  ------  --------------  ----- \n",
      " 0   date    62 non-null     object\n",
      " 1   group   62 non-null     object\n",
      " 2   visits  62 non-null     int64 \n",
      "dtypes: int64(1), object(2)\n",
      "memory usage: 1.6+ KB\n"
     ]
    }
   ],
   "source": [
    "visits.info()"
   ]
  },
  {
   "cell_type": "markdown",
   "metadata": {},
   "source": [
    "There doesn't seem to be any missing values, but the date column datatype should be changed. "
   ]
  },
  {
   "cell_type": "code",
   "execution_count": 16,
   "metadata": {
    "scrolled": true
   },
   "outputs": [
    {
     "data": {
      "text/html": [
       "<div>\n",
       "<style scoped>\n",
       "    .dataframe tbody tr th:only-of-type {\n",
       "        vertical-align: middle;\n",
       "    }\n",
       "\n",
       "    .dataframe tbody tr th {\n",
       "        vertical-align: top;\n",
       "    }\n",
       "\n",
       "    .dataframe thead th {\n",
       "        text-align: right;\n",
       "    }\n",
       "</style>\n",
       "<table border=\"1\" class=\"dataframe\">\n",
       "  <thead>\n",
       "    <tr style=\"text-align: right;\">\n",
       "      <th></th>\n",
       "      <th>visits</th>\n",
       "    </tr>\n",
       "  </thead>\n",
       "  <tbody>\n",
       "    <tr>\n",
       "      <th>count</th>\n",
       "      <td>62.000000</td>\n",
       "    </tr>\n",
       "    <tr>\n",
       "      <th>mean</th>\n",
       "      <td>607.290323</td>\n",
       "    </tr>\n",
       "    <tr>\n",
       "      <th>std</th>\n",
       "      <td>114.400560</td>\n",
       "    </tr>\n",
       "    <tr>\n",
       "      <th>min</th>\n",
       "      <td>361.000000</td>\n",
       "    </tr>\n",
       "    <tr>\n",
       "      <th>25%</th>\n",
       "      <td>534.000000</td>\n",
       "    </tr>\n",
       "    <tr>\n",
       "      <th>50%</th>\n",
       "      <td>624.500000</td>\n",
       "    </tr>\n",
       "    <tr>\n",
       "      <th>75%</th>\n",
       "      <td>710.500000</td>\n",
       "    </tr>\n",
       "    <tr>\n",
       "      <th>max</th>\n",
       "      <td>770.000000</td>\n",
       "    </tr>\n",
       "  </tbody>\n",
       "</table>\n",
       "</div>"
      ],
      "text/plain": [
       "           visits\n",
       "count   62.000000\n",
       "mean   607.290323\n",
       "std    114.400560\n",
       "min    361.000000\n",
       "25%    534.000000\n",
       "50%    624.500000\n",
       "75%    710.500000\n",
       "max    770.000000"
      ]
     },
     "execution_count": 16,
     "metadata": {},
     "output_type": "execute_result"
    }
   ],
   "source": [
    "visits.describe()"
   ]
  },
  {
   "cell_type": "code",
   "execution_count": 17,
   "metadata": {
    "scrolled": true
   },
   "outputs": [
    {
     "name": "stdout",
     "output_type": "stream",
     "text": [
      "<class 'pandas.core.frame.DataFrame'>\n",
      "RangeIndex: 62 entries, 0 to 61\n",
      "Data columns (total 3 columns):\n",
      " #   Column  Non-Null Count  Dtype         \n",
      "---  ------  --------------  -----         \n",
      " 0   date    62 non-null     datetime64[ns]\n",
      " 1   group   62 non-null     object        \n",
      " 2   visits  62 non-null     int64         \n",
      "dtypes: datetime64[ns](1), int64(1), object(1)\n",
      "memory usage: 1.6+ KB\n"
     ]
    }
   ],
   "source": [
    "#converting date column to datetime datatype\n",
    "visits['date'] = pd.to_datetime(visits['date'], format= '%Y-%m-%d')\n",
    "visits.info()"
   ]
  },
  {
   "cell_type": "markdown",
   "metadata": {},
   "source": [
    "Now the visits dataset is ready for analysis."
   ]
  },
  {
   "cell_type": "code",
   "execution_count": 18,
   "metadata": {},
   "outputs": [
    {
     "data": {
      "text/plain": [
       "0"
      ]
     },
     "execution_count": 18,
     "metadata": {},
     "output_type": "execute_result"
    }
   ],
   "source": [
    "# the reviewer's code:\n",
    "visits.duplicated().sum()"
   ]
  },
  {
   "cell_type": "code",
   "execution_count": 19,
   "metadata": {},
   "outputs": [
    {
     "data": {
      "text/plain": [
       "58"
      ]
     },
     "execution_count": 19,
     "metadata": {},
     "output_type": "execute_result"
    }
   ],
   "source": [
    "# the reviewer's code:\n",
    "\n",
    "# group the data by unique user_id and calculcate the number of unique test groups\n",
    "# after that sort the data by users who has more that 1 group: \n",
    "len(orders.groupby('visitor_id').agg({'group':'nunique'}).query('group > 1'))"
   ]
  },
  {
   "cell_type": "markdown",
   "metadata": {},
   "source": [
    "# Part 1. Prioritizing Hypotheses"
   ]
  },
  {
   "cell_type": "markdown",
   "metadata": {},
   "source": [
    "The file hypotheses_us.csv contains nine hypotheses on boosting an online store's revenue with Reach, Impact, Confidence, and Effort specified for each.\n",
    "\n",
    "The task is to:\n",
    "\n",
    "* Apply the ICE framework to prioritize hypotheses. Sort them in descending order of priority.\n",
    "\n",
    "* Apply the RICE framework to prioritize hypotheses. Sort them in descending order of priority.\n",
    "\n",
    "* Show how the prioritization of hypotheses changes when you use RICE instead of ICE. Provide an explanation for the changes."
   ]
  },
  {
   "cell_type": "markdown",
   "metadata": {},
   "source": [
    "ICE and RICE are one of the most popular ways of prioritizing problems.\n",
    "\n",
    "The omponents of RICE/ICE:\n",
    "\n",
    "Reach — how many users will be affected by the update you want to introduce\n",
    "\n",
    "Impact — how strongly this update will affect the users, their experience, and their satisfaction with the product\n",
    "\n",
    "Confidence — how sure you are that your product will affect them in this way\n",
    "\n",
    "Effort — how much will it cost to test the hypothesis"
   ]
  },
  {
   "cell_type": "markdown",
   "metadata": {},
   "source": [
    "Apply the ICE framework to prioritize hypotheses. Sort them in descending order of priority."
   ]
  },
  {
   "cell_type": "code",
   "execution_count": 20,
   "metadata": {
    "scrolled": true
   },
   "outputs": [
    {
     "data": {
      "text/html": [
       "<div>\n",
       "<style scoped>\n",
       "    .dataframe tbody tr th:only-of-type {\n",
       "        vertical-align: middle;\n",
       "    }\n",
       "\n",
       "    .dataframe tbody tr th {\n",
       "        vertical-align: top;\n",
       "    }\n",
       "\n",
       "    .dataframe thead th {\n",
       "        text-align: right;\n",
       "    }\n",
       "</style>\n",
       "<table border=\"1\" class=\"dataframe\">\n",
       "  <thead>\n",
       "    <tr style=\"text-align: right;\">\n",
       "      <th></th>\n",
       "      <th>hypothesis</th>\n",
       "      <th>ICE</th>\n",
       "    </tr>\n",
       "  </thead>\n",
       "  <tbody>\n",
       "    <tr>\n",
       "      <th>8</th>\n",
       "      <td>Launch a promotion that gives users discounts on their birthdays</td>\n",
       "      <td>16.20</td>\n",
       "    </tr>\n",
       "    <tr>\n",
       "      <th>0</th>\n",
       "      <td>Add two new channels for attracting traffic. This will bring 30% more users</td>\n",
       "      <td>13.33</td>\n",
       "    </tr>\n",
       "    <tr>\n",
       "      <th>7</th>\n",
       "      <td>Add a subscription form to all the main pages. This will help you compile a mailing list</td>\n",
       "      <td>11.20</td>\n",
       "    </tr>\n",
       "    <tr>\n",
       "      <th>6</th>\n",
       "      <td>Show banners with current offers and sales on the main page. This will boost conversion</td>\n",
       "      <td>8.00</td>\n",
       "    </tr>\n",
       "    <tr>\n",
       "      <th>2</th>\n",
       "      <td>Add product recommendation blocks to the store's site. This will increase conversion and average purchase size</td>\n",
       "      <td>7.00</td>\n",
       "    </tr>\n",
       "    <tr>\n",
       "      <th>1</th>\n",
       "      <td>Launch your own delivery service. This will shorten delivery time</td>\n",
       "      <td>2.00</td>\n",
       "    </tr>\n",
       "    <tr>\n",
       "      <th>5</th>\n",
       "      <td>Add a customer review page. This will increase the number of orders</td>\n",
       "      <td>1.33</td>\n",
       "    </tr>\n",
       "    <tr>\n",
       "      <th>3</th>\n",
       "      <td>Change the category structure. This will increase conversion since users will find the products they want more qui...</td>\n",
       "      <td>1.12</td>\n",
       "    </tr>\n",
       "    <tr>\n",
       "      <th>4</th>\n",
       "      <td>Change the background color on the main page. This will increase user engagement</td>\n",
       "      <td>1.00</td>\n",
       "    </tr>\n",
       "  </tbody>\n",
       "</table>\n",
       "</div>"
      ],
      "text/plain": [
       "                                                                                                              hypothesis  \\\n",
       "8                                                       Launch a promotion that gives users discounts on their birthdays   \n",
       "0                                            Add two new channels for attracting traffic. This will bring 30% more users   \n",
       "7                               Add a subscription form to all the main pages. This will help you compile a mailing list   \n",
       "6                                Show banners with current offers and sales on the main page. This will boost conversion   \n",
       "2         Add product recommendation blocks to the store's site. This will increase conversion and average purchase size   \n",
       "1                                                      Launch your own delivery service. This will shorten delivery time   \n",
       "5                                                    Add a customer review page. This will increase the number of orders   \n",
       "3  Change the category structure. This will increase conversion since users will find the products they want more qui...   \n",
       "4                                       Change the background color on the main page. This will increase user engagement   \n",
       "\n",
       "     ICE  \n",
       "8  16.20  \n",
       "0  13.33  \n",
       "7  11.20  \n",
       "6   8.00  \n",
       "2   7.00  \n",
       "1   2.00  \n",
       "5   1.33  \n",
       "3   1.12  \n",
       "4   1.00  "
      ]
     },
     "execution_count": 20,
     "metadata": {},
     "output_type": "execute_result"
    }
   ],
   "source": [
    "#creating a new 'ICE' column and calculating using ICE formula\n",
    "hypothesis['ICE']= (hypothesis['impact'] * hypothesis['confidence'])/ hypothesis['effort']\n",
    "hypothesis['ICE']= hypothesis['ICE'].round(decimals= 2)\n",
    "\n",
    "#sorting in descending order\n",
    "hypothesis[['hypothesis','ICE']].sort_values(by='ICE', ascending=False)"
   ]
  },
  {
   "cell_type": "markdown",
   "metadata": {},
   "source": [
    "Apply the RICE framework to prioritize hypotheses. Sort them in descending order of priority."
   ]
  },
  {
   "cell_type": "code",
   "execution_count": 21,
   "metadata": {
    "scrolled": true
   },
   "outputs": [
    {
     "data": {
      "text/html": [
       "<div>\n",
       "<style scoped>\n",
       "    .dataframe tbody tr th:only-of-type {\n",
       "        vertical-align: middle;\n",
       "    }\n",
       "\n",
       "    .dataframe tbody tr th {\n",
       "        vertical-align: top;\n",
       "    }\n",
       "\n",
       "    .dataframe thead th {\n",
       "        text-align: right;\n",
       "    }\n",
       "</style>\n",
       "<table border=\"1\" class=\"dataframe\">\n",
       "  <thead>\n",
       "    <tr style=\"text-align: right;\">\n",
       "      <th></th>\n",
       "      <th>hypothesis</th>\n",
       "      <th>RICE</th>\n",
       "    </tr>\n",
       "  </thead>\n",
       "  <tbody>\n",
       "    <tr>\n",
       "      <th>7</th>\n",
       "      <td>Add a subscription form to all the main pages. This will help you compile a mailing list</td>\n",
       "      <td>112.0</td>\n",
       "    </tr>\n",
       "    <tr>\n",
       "      <th>2</th>\n",
       "      <td>Add product recommendation blocks to the store's site. This will increase conversion and average purchase size</td>\n",
       "      <td>56.0</td>\n",
       "    </tr>\n",
       "    <tr>\n",
       "      <th>0</th>\n",
       "      <td>Add two new channels for attracting traffic. This will bring 30% more users</td>\n",
       "      <td>40.0</td>\n",
       "    </tr>\n",
       "    <tr>\n",
       "      <th>6</th>\n",
       "      <td>Show banners with current offers and sales on the main page. This will boost conversion</td>\n",
       "      <td>40.0</td>\n",
       "    </tr>\n",
       "    <tr>\n",
       "      <th>8</th>\n",
       "      <td>Launch a promotion that gives users discounts on their birthdays</td>\n",
       "      <td>16.2</td>\n",
       "    </tr>\n",
       "    <tr>\n",
       "      <th>3</th>\n",
       "      <td>Change the category structure. This will increase conversion since users will find the products they want more qui...</td>\n",
       "      <td>9.0</td>\n",
       "    </tr>\n",
       "    <tr>\n",
       "      <th>1</th>\n",
       "      <td>Launch your own delivery service. This will shorten delivery time</td>\n",
       "      <td>4.0</td>\n",
       "    </tr>\n",
       "    <tr>\n",
       "      <th>5</th>\n",
       "      <td>Add a customer review page. This will increase the number of orders</td>\n",
       "      <td>4.0</td>\n",
       "    </tr>\n",
       "    <tr>\n",
       "      <th>4</th>\n",
       "      <td>Change the background color on the main page. This will increase user engagement</td>\n",
       "      <td>3.0</td>\n",
       "    </tr>\n",
       "  </tbody>\n",
       "</table>\n",
       "</div>"
      ],
      "text/plain": [
       "                                                                                                              hypothesis  \\\n",
       "7                               Add a subscription form to all the main pages. This will help you compile a mailing list   \n",
       "2         Add product recommendation blocks to the store's site. This will increase conversion and average purchase size   \n",
       "0                                            Add two new channels for attracting traffic. This will bring 30% more users   \n",
       "6                                Show banners with current offers and sales on the main page. This will boost conversion   \n",
       "8                                                       Launch a promotion that gives users discounts on their birthdays   \n",
       "3  Change the category structure. This will increase conversion since users will find the products they want more qui...   \n",
       "1                                                      Launch your own delivery service. This will shorten delivery time   \n",
       "5                                                    Add a customer review page. This will increase the number of orders   \n",
       "4                                       Change the background color on the main page. This will increase user engagement   \n",
       "\n",
       "    RICE  \n",
       "7  112.0  \n",
       "2   56.0  \n",
       "0   40.0  \n",
       "6   40.0  \n",
       "8   16.2  \n",
       "3    9.0  \n",
       "1    4.0  \n",
       "5    4.0  \n",
       "4    3.0  "
      ]
     },
     "execution_count": 21,
     "metadata": {},
     "output_type": "execute_result"
    }
   ],
   "source": [
    "#creating 'RICE' column and calculating RICE formula\n",
    "hypothesis['RICE']= (hypothesis['reach'] * hypothesis['impact']*hypothesis['confidence'])/ hypothesis['effort']\n",
    "\n",
    "#sorting in descending order\n",
    "hypothesis[['hypothesis', 'RICE']].sort_values(by= 'RICE', ascending= False)"
   ]
  },
  {
   "cell_type": "markdown",
   "metadata": {},
   "source": [
    "Show how the prioritization of hypotheses changes when you use RICE instead of ICE. Provide an explanation for the changes."
   ]
  },
  {
   "cell_type": "code",
   "execution_count": 22,
   "metadata": {
    "scrolled": true
   },
   "outputs": [
    {
     "data": {
      "text/html": [
       "<div>\n",
       "<style scoped>\n",
       "    .dataframe tbody tr th:only-of-type {\n",
       "        vertical-align: middle;\n",
       "    }\n",
       "\n",
       "    .dataframe tbody tr th {\n",
       "        vertical-align: top;\n",
       "    }\n",
       "\n",
       "    .dataframe thead th {\n",
       "        text-align: right;\n",
       "    }\n",
       "</style>\n",
       "<table border=\"1\" class=\"dataframe\">\n",
       "  <thead>\n",
       "    <tr style=\"text-align: right;\">\n",
       "      <th></th>\n",
       "      <th>hypothesis</th>\n",
       "      <th>reach</th>\n",
       "      <th>impact</th>\n",
       "      <th>confidence</th>\n",
       "      <th>effort</th>\n",
       "      <th>ICE</th>\n",
       "      <th>RICE</th>\n",
       "    </tr>\n",
       "  </thead>\n",
       "  <tbody>\n",
       "    <tr>\n",
       "      <th>7</th>\n",
       "      <td>Add a subscription form to all the main pages. This will help you compile a mailing list</td>\n",
       "      <td>10</td>\n",
       "      <td>7</td>\n",
       "      <td>8</td>\n",
       "      <td>5</td>\n",
       "      <td>11.20</td>\n",
       "      <td>112.0</td>\n",
       "    </tr>\n",
       "    <tr>\n",
       "      <th>2</th>\n",
       "      <td>Add product recommendation blocks to the store's site. This will increase conversion and average purchase size</td>\n",
       "      <td>8</td>\n",
       "      <td>3</td>\n",
       "      <td>7</td>\n",
       "      <td>3</td>\n",
       "      <td>7.00</td>\n",
       "      <td>56.0</td>\n",
       "    </tr>\n",
       "    <tr>\n",
       "      <th>0</th>\n",
       "      <td>Add two new channels for attracting traffic. This will bring 30% more users</td>\n",
       "      <td>3</td>\n",
       "      <td>10</td>\n",
       "      <td>8</td>\n",
       "      <td>6</td>\n",
       "      <td>13.33</td>\n",
       "      <td>40.0</td>\n",
       "    </tr>\n",
       "    <tr>\n",
       "      <th>6</th>\n",
       "      <td>Show banners with current offers and sales on the main page. This will boost conversion</td>\n",
       "      <td>5</td>\n",
       "      <td>3</td>\n",
       "      <td>8</td>\n",
       "      <td>3</td>\n",
       "      <td>8.00</td>\n",
       "      <td>40.0</td>\n",
       "    </tr>\n",
       "    <tr>\n",
       "      <th>8</th>\n",
       "      <td>Launch a promotion that gives users discounts on their birthdays</td>\n",
       "      <td>1</td>\n",
       "      <td>9</td>\n",
       "      <td>9</td>\n",
       "      <td>5</td>\n",
       "      <td>16.20</td>\n",
       "      <td>16.2</td>\n",
       "    </tr>\n",
       "    <tr>\n",
       "      <th>3</th>\n",
       "      <td>Change the category structure. This will increase conversion since users will find the products they want more qui...</td>\n",
       "      <td>8</td>\n",
       "      <td>3</td>\n",
       "      <td>3</td>\n",
       "      <td>8</td>\n",
       "      <td>1.12</td>\n",
       "      <td>9.0</td>\n",
       "    </tr>\n",
       "    <tr>\n",
       "      <th>1</th>\n",
       "      <td>Launch your own delivery service. This will shorten delivery time</td>\n",
       "      <td>2</td>\n",
       "      <td>5</td>\n",
       "      <td>4</td>\n",
       "      <td>10</td>\n",
       "      <td>2.00</td>\n",
       "      <td>4.0</td>\n",
       "    </tr>\n",
       "    <tr>\n",
       "      <th>5</th>\n",
       "      <td>Add a customer review page. This will increase the number of orders</td>\n",
       "      <td>3</td>\n",
       "      <td>2</td>\n",
       "      <td>2</td>\n",
       "      <td>3</td>\n",
       "      <td>1.33</td>\n",
       "      <td>4.0</td>\n",
       "    </tr>\n",
       "    <tr>\n",
       "      <th>4</th>\n",
       "      <td>Change the background color on the main page. This will increase user engagement</td>\n",
       "      <td>3</td>\n",
       "      <td>1</td>\n",
       "      <td>1</td>\n",
       "      <td>1</td>\n",
       "      <td>1.00</td>\n",
       "      <td>3.0</td>\n",
       "    </tr>\n",
       "  </tbody>\n",
       "</table>\n",
       "</div>"
      ],
      "text/plain": [
       "                                                                                                              hypothesis  \\\n",
       "7                               Add a subscription form to all the main pages. This will help you compile a mailing list   \n",
       "2         Add product recommendation blocks to the store's site. This will increase conversion and average purchase size   \n",
       "0                                            Add two new channels for attracting traffic. This will bring 30% more users   \n",
       "6                                Show banners with current offers and sales on the main page. This will boost conversion   \n",
       "8                                                       Launch a promotion that gives users discounts on their birthdays   \n",
       "3  Change the category structure. This will increase conversion since users will find the products they want more qui...   \n",
       "1                                                      Launch your own delivery service. This will shorten delivery time   \n",
       "5                                                    Add a customer review page. This will increase the number of orders   \n",
       "4                                       Change the background color on the main page. This will increase user engagement   \n",
       "\n",
       "   reach  impact  confidence  effort    ICE   RICE  \n",
       "7     10       7           8       5  11.20  112.0  \n",
       "2      8       3           7       3   7.00   56.0  \n",
       "0      3      10           8       6  13.33   40.0  \n",
       "6      5       3           8       3   8.00   40.0  \n",
       "8      1       9           9       5  16.20   16.2  \n",
       "3      8       3           3       8   1.12    9.0  \n",
       "1      2       5           4      10   2.00    4.0  \n",
       "5      3       2           2       3   1.33    4.0  \n",
       "4      3       1           1       1   1.00    3.0  "
      ]
     },
     "execution_count": 22,
     "metadata": {},
     "output_type": "execute_result"
    }
   ],
   "source": [
    "#sorting values by 'RICE'\n",
    "hypothesis.sort_values(by='RICE', ascending=False)"
   ]
  },
  {
   "cell_type": "code",
   "execution_count": 23,
   "metadata": {
    "scrolled": true
   },
   "outputs": [
    {
     "data": {
      "image/png": "[encoded data removed]",
      "text/plain": [
       "<Figure size 936x288 with 1 Axes>"
      ]
     },
     "metadata": {
      "needs_background": "light"
     },
     "output_type": "display_data"
    }
   ],
   "source": [
    "#bar plot to show 'ICE' and 'RICE' scores\n",
    "ice_rice_graph= pd.DataFrame(hypothesis, columns= ['hypothesis','ICE', 'RICE'])\n",
    "ice_rice_graph.plot.bar(figsize= (13,4))\n",
    "plt.tight_layout()\n",
    "\n",
    "plt.title('PRIORITIZATION', size= 20)\n",
    "plt.xlabel('Hypotheses', size= 15)\n",
    "plt.ylabel('ICE/RICE Score', size= 15)\n",
    "plt.show()\n"
   ]
  },
  {
   "cell_type": "markdown",
   "metadata": {},
   "source": [
    "GUIDE:\n",
    "    \n",
    "0 - Add two new channels for attracting traffic. This will bring 30% more users\n",
    "\n",
    "1 - Launch your own delivery service. This will shorten delivery time\n",
    "\n",
    "2 - Add product recommendation blocks to the store's site. This will increase conversion and average purchase size\t\n",
    "\n",
    "3 - Change the category structure. This will increase conversion since users will find the products they want more quickly\n",
    "\n",
    "4 - Change the background color on the main page. This will increase user engagement\t\n",
    "\n",
    "5 - Add a customer review page. This will increase the number of orders\t\n",
    "\n",
    "6 - Show banners with current offers and sales on the main page. This will boost conversion\t\n",
    "\n",
    "7 - Add a subscription form to all the main pages. This will help you compile a mailing list\t\n",
    "\n",
    "8 - Launch a promotion that gives users discounts on their birthdays"
   ]
  },
  {
   "cell_type": "markdown",
   "metadata": {},
   "source": [
    "According to the RICE scores, the top 3 most important are number 7, 2, and 0. While according to the ICE scores, the top 3 are number 8, 0, and 7. Based on these findings, it might be best to prioritize numbers 7 and/or 0 first. "
   ]
  },
  {
   "cell_type": "code",
   "execution_count": 24,
   "metadata": {},
   "outputs": [
    {
     "data": {
      "image/png": "[encoded data removed]",
      "text/plain": [
       "<Figure size 936x360 with 1 Axes>"
      ]
     },
     "metadata": {
      "needs_background": "light"
     },
     "output_type": "display_data"
    }
   ],
   "source": [
    "# The reviewer's code:\n",
    "fig, ax = plt.subplots(figsize=(13, 5))\n",
    "\n",
    "ax.set_xlabel('RICE')\n",
    "ax.set_ylabel('ICE')\n",
    "ax.set_title('ICE vs. RICE')\n",
    "\n",
    "for i, txt in enumerate(hypothesis.index.values):\n",
    "    legend = (str(txt) + ' - ' + str(hypothesis['hypothesis'][i]))    \n",
    "    ax.annotate(txt, (hypothesis['ICE'][i], hypothesis['RICE'][i]), xytext=(5,5), textcoords='offset points')\n",
    "    plt.scatter(hypothesis['ICE'][i], hypothesis['RICE'][i], label = legend)\n",
    "    \n",
    "plt.grid(True)  \n",
    "plt.legend(loc=\"lower left\",  bbox_to_anchor=(0, -0.7))\n",
    "\n",
    "plt.show()"
   ]
  },
  {
   "cell_type": "markdown",
   "metadata": {},
   "source": [
    "# Part 2. A/B Test Analysis"
   ]
  },
  {
   "cell_type": "markdown",
   "metadata": {},
   "source": [
    "You carried out an A/B test and got the results described in the files orders_us.csv and visits_us.csv."
   ]
  },
  {
   "cell_type": "markdown",
   "metadata": {},
   "source": [
    "<b>Tasks</b> <a class=\"tocSkip\"></a>"
   ]
  },
  {
   "cell_type": "markdown",
   "metadata": {},
   "source": [
    "Analyze the A/B test:\n",
    "\n",
    "Graph cumulative revenue by group. Make conclusions and conjectures.\n",
    "\n",
    "Graph cumulative average order size by group. Make conclusions and conjectures.\n",
    "\n",
    "Graph the relative difference in cumulative average order size for group B compared with group A. Make conclusions and \n",
    "conjectures.\n",
    "\n",
    "Calculate each group's conversion rate as the ratio of orders to the number of visits for each day. Plot the daily conversion rates of the two groups and describe the difference. Draw conclusions and make conjectures.\n",
    "\n",
    "Plot a scatter chart of the number of orders per user. Make conclusions and conjectures.\n",
    "\n",
    "Calculate the 95th and 99th percentiles for the number of orders per user. Define the point at which a data point becomes an anomaly.\n",
    "\n",
    "Plot a scatter chart of order prices. Make conclusions and conjectures.\n",
    "\n",
    "Calculate the 95th and 99th percentiles of order prices. Define the point at which a data point becomes an anomaly.\n",
    "\n",
    "Find the statistical significance of the difference in conversion between the groups using the raw data. Make conclusions and conjectures.\n",
    "\n",
    "Find the statistical significance of the difference in average order size between the groups using the raw data. Make conclusions and conjectures.\n",
    "\n",
    "Find the statistical significance of the difference in conversion between the groups using the filtered data. Make conclusions and conjectures.\n",
    "\n",
    "Find the statistical significance of the difference in average order size between the groups using the filtered data. \n",
    "Make conclusions and conjectures.\n",
    "\n",
    "Make a decision based on the test results. The possible decisions are: \n",
    "1. Stop the test, consider one of the groups the leader. \n",
    "2. Stop the test, conclude that there is no difference between the groups. \n",
    "3. Continue the test."
   ]
  },
  {
   "cell_type": "markdown",
   "metadata": {},
   "source": [
    "<b>Cumulative revenue by group</b>"
   ]
  },
  {
   "cell_type": "code",
   "execution_count": 25,
   "metadata": {},
   "outputs": [
    {
     "name": "stderr",
     "output_type": "stream",
     "text": [
      "/tmp/ipykernel_89/2683111348.py:4: SettingWithCopyWarning: \n",
      "A value is trying to be set on a copy of a slice from a DataFrame.\n",
      "Try using .loc[row_indexer,col_indexer] = value instead\n",
      "\n",
      "See the caveats in the documentation: https://pandas.pydata.org/pandas-docs/stable/user_guide/indexing.html#returning-a-view-versus-a-copy\n",
      "  orders_rev_a['cum_rev_a']= orders_rev_a['revenue'].cumsum()\n",
      "/opt/conda/lib/python3.9/site-packages/pandas/core/frame.py:4308: SettingWithCopyWarning: \n",
      "A value is trying to be set on a copy of a slice from a DataFrame\n",
      "\n",
      "See the caveats in the documentation: https://pandas.pydata.org/pandas-docs/stable/user_guide/indexing.html#returning-a-view-versus-a-copy\n",
      "  return super().drop(\n"
     ]
    },
    {
     "data": {
      "text/html": [
       "<div>\n",
       "<style scoped>\n",
       "    .dataframe tbody tr th:only-of-type {\n",
       "        vertical-align: middle;\n",
       "    }\n",
       "\n",
       "    .dataframe tbody tr th {\n",
       "        vertical-align: top;\n",
       "    }\n",
       "\n",
       "    .dataframe thead th {\n",
       "        text-align: right;\n",
       "    }\n",
       "</style>\n",
       "<table border=\"1\" class=\"dataframe\">\n",
       "  <thead>\n",
       "    <tr style=\"text-align: right;\">\n",
       "      <th></th>\n",
       "      <th>date</th>\n",
       "      <th>group</th>\n",
       "      <th>cum_rev_a</th>\n",
       "    </tr>\n",
       "  </thead>\n",
       "  <tbody>\n",
       "    <tr>\n",
       "      <th>0</th>\n",
       "      <td>2019-08-01</td>\n",
       "      <td>A</td>\n",
       "      <td>2356.8</td>\n",
       "    </tr>\n",
       "    <tr>\n",
       "      <th>2</th>\n",
       "      <td>2019-08-02</td>\n",
       "      <td>A</td>\n",
       "      <td>3860.3</td>\n",
       "    </tr>\n",
       "    <tr>\n",
       "      <th>4</th>\n",
       "      <td>2019-08-03</td>\n",
       "      <td>A</td>\n",
       "      <td>5675.5</td>\n",
       "    </tr>\n",
       "    <tr>\n",
       "      <th>6</th>\n",
       "      <td>2019-08-04</td>\n",
       "      <td>A</td>\n",
       "      <td>6822.1</td>\n",
       "    </tr>\n",
       "    <tr>\n",
       "      <th>8</th>\n",
       "      <td>2019-08-05</td>\n",
       "      <td>A</td>\n",
       "      <td>8810.2</td>\n",
       "    </tr>\n",
       "  </tbody>\n",
       "</table>\n",
       "</div>"
      ],
      "text/plain": [
       "        date group  cum_rev_a\n",
       "0 2019-08-01     A     2356.8\n",
       "2 2019-08-02     A     3860.3\n",
       "4 2019-08-03     A     5675.5\n",
       "6 2019-08-04     A     6822.1\n",
       "8 2019-08-05     A     8810.2"
      ]
     },
     "execution_count": 25,
     "metadata": {},
     "output_type": "execute_result"
    }
   ],
   "source": [
    "#organizing sum of revenue by each group by date, and filtering only group A\n",
    "orders_rev = orders.groupby(['date', 'group'])['revenue'].sum().reset_index()\n",
    "orders_rev_a= orders_rev[orders_rev['group']== 'A']\n",
    "orders_rev_a['cum_rev_a']= orders_rev_a['revenue'].cumsum()\n",
    "orders_rev_a.drop('revenue', axis=1, inplace=True)\n",
    "orders_rev_a.head()"
   ]
  },
  {
   "cell_type": "code",
   "execution_count": 26,
   "metadata": {},
   "outputs": [
    {
     "name": "stderr",
     "output_type": "stream",
     "text": [
      "/tmp/ipykernel_89/798132596.py:4: SettingWithCopyWarning: \n",
      "A value is trying to be set on a copy of a slice from a DataFrame.\n",
      "Try using .loc[row_indexer,col_indexer] = value instead\n",
      "\n",
      "See the caveats in the documentation: https://pandas.pydata.org/pandas-docs/stable/user_guide/indexing.html#returning-a-view-versus-a-copy\n",
      "  orders_rev_b['cum_rev_b']= orders_rev_b['revenue'].cumsum()\n",
      "/opt/conda/lib/python3.9/site-packages/pandas/core/frame.py:4308: SettingWithCopyWarning: \n",
      "A value is trying to be set on a copy of a slice from a DataFrame\n",
      "\n",
      "See the caveats in the documentation: https://pandas.pydata.org/pandas-docs/stable/user_guide/indexing.html#returning-a-view-versus-a-copy\n",
      "  return super().drop(\n"
     ]
    },
    {
     "data": {
      "text/html": [
       "<div>\n",
       "<style scoped>\n",
       "    .dataframe tbody tr th:only-of-type {\n",
       "        vertical-align: middle;\n",
       "    }\n",
       "\n",
       "    .dataframe tbody tr th {\n",
       "        vertical-align: top;\n",
       "    }\n",
       "\n",
       "    .dataframe thead th {\n",
       "        text-align: right;\n",
       "    }\n",
       "</style>\n",
       "<table border=\"1\" class=\"dataframe\">\n",
       "  <thead>\n",
       "    <tr style=\"text-align: right;\">\n",
       "      <th></th>\n",
       "      <th>date</th>\n",
       "      <th>group</th>\n",
       "      <th>cum_rev_b</th>\n",
       "    </tr>\n",
       "  </thead>\n",
       "  <tbody>\n",
       "    <tr>\n",
       "      <th>1</th>\n",
       "      <td>2019-08-01</td>\n",
       "      <td>B</td>\n",
       "      <td>1620.0</td>\n",
       "    </tr>\n",
       "    <tr>\n",
       "      <th>3</th>\n",
       "      <td>2019-08-02</td>\n",
       "      <td>B</td>\n",
       "      <td>4243.8</td>\n",
       "    </tr>\n",
       "    <tr>\n",
       "      <th>5</th>\n",
       "      <td>2019-08-03</td>\n",
       "      <td>B</td>\n",
       "      <td>6050.6</td>\n",
       "    </tr>\n",
       "    <tr>\n",
       "      <th>7</th>\n",
       "      <td>2019-08-04</td>\n",
       "      <td>B</td>\n",
       "      <td>7767.9</td>\n",
       "    </tr>\n",
       "    <tr>\n",
       "      <th>9</th>\n",
       "      <td>2019-08-05</td>\n",
       "      <td>B</td>\n",
       "      <td>9262.9</td>\n",
       "    </tr>\n",
       "  </tbody>\n",
       "</table>\n",
       "</div>"
      ],
      "text/plain": [
       "        date group  cum_rev_b\n",
       "1 2019-08-01     B     1620.0\n",
       "3 2019-08-02     B     4243.8\n",
       "5 2019-08-03     B     6050.6\n",
       "7 2019-08-04     B     7767.9\n",
       "9 2019-08-05     B     9262.9"
      ]
     },
     "execution_count": 26,
     "metadata": {},
     "output_type": "execute_result"
    }
   ],
   "source": [
    "#organizing sum of revenue by each group by date, and filtering only group B\n",
    "orders_rev = orders.groupby(['date', 'group'])['revenue'].sum().reset_index()\n",
    "orders_rev_b= orders_rev[orders_rev['group']== 'B']\n",
    "orders_rev_b['cum_rev_b']= orders_rev_b['revenue'].cumsum()\n",
    "orders_rev_b.drop('revenue', axis=1, inplace=True)\n",
    "orders_rev_b.head()"
   ]
  },
  {
   "cell_type": "code",
   "execution_count": 27,
   "metadata": {},
   "outputs": [
    {
     "data": {
      "text/html": [
       "<div>\n",
       "<style scoped>\n",
       "    .dataframe tbody tr th:only-of-type {\n",
       "        vertical-align: middle;\n",
       "    }\n",
       "\n",
       "    .dataframe tbody tr th {\n",
       "        vertical-align: top;\n",
       "    }\n",
       "\n",
       "    .dataframe thead th {\n",
       "        text-align: right;\n",
       "    }\n",
       "</style>\n",
       "<table border=\"1\" class=\"dataframe\">\n",
       "  <thead>\n",
       "    <tr style=\"text-align: right;\">\n",
       "      <th></th>\n",
       "      <th>group_x</th>\n",
       "      <th>cum_rev_a</th>\n",
       "      <th>group_y</th>\n",
       "      <th>cum_rev_b</th>\n",
       "    </tr>\n",
       "    <tr>\n",
       "      <th>date</th>\n",
       "      <th></th>\n",
       "      <th></th>\n",
       "      <th></th>\n",
       "      <th></th>\n",
       "    </tr>\n",
       "  </thead>\n",
       "  <tbody>\n",
       "    <tr>\n",
       "      <th>2019-08-01</th>\n",
       "      <td>A</td>\n",
       "      <td>2356.8</td>\n",
       "      <td>B</td>\n",
       "      <td>1620.0</td>\n",
       "    </tr>\n",
       "    <tr>\n",
       "      <th>2019-08-02</th>\n",
       "      <td>A</td>\n",
       "      <td>3860.3</td>\n",
       "      <td>B</td>\n",
       "      <td>4243.8</td>\n",
       "    </tr>\n",
       "    <tr>\n",
       "      <th>2019-08-03</th>\n",
       "      <td>A</td>\n",
       "      <td>5675.5</td>\n",
       "      <td>B</td>\n",
       "      <td>6050.6</td>\n",
       "    </tr>\n",
       "    <tr>\n",
       "      <th>2019-08-04</th>\n",
       "      <td>A</td>\n",
       "      <td>6822.1</td>\n",
       "      <td>B</td>\n",
       "      <td>7767.9</td>\n",
       "    </tr>\n",
       "    <tr>\n",
       "      <th>2019-08-05</th>\n",
       "      <td>A</td>\n",
       "      <td>8810.2</td>\n",
       "      <td>B</td>\n",
       "      <td>9262.9</td>\n",
       "    </tr>\n",
       "  </tbody>\n",
       "</table>\n",
       "</div>"
      ],
      "text/plain": [
       "           group_x  cum_rev_a group_y  cum_rev_b\n",
       "date                                            \n",
       "2019-08-01       A     2356.8       B     1620.0\n",
       "2019-08-02       A     3860.3       B     4243.8\n",
       "2019-08-03       A     5675.5       B     6050.6\n",
       "2019-08-04       A     6822.1       B     7767.9\n",
       "2019-08-05       A     8810.2       B     9262.9"
      ]
     },
     "execution_count": 27,
     "metadata": {},
     "output_type": "execute_result"
    }
   ],
   "source": [
    "#combining revenue from group A and B\n",
    "cum_rev = pd.merge(orders_rev_a, orders_rev_b, on='date').set_index('date')\n",
    "cum_rev.head()"
   ]
  },
  {
   "cell_type": "code",
   "execution_count": 28,
   "metadata": {},
   "outputs": [
    {
     "data": {
      "text/html": [
       "<div>\n",
       "<style scoped>\n",
       "    .dataframe tbody tr th:only-of-type {\n",
       "        vertical-align: middle;\n",
       "    }\n",
       "\n",
       "    .dataframe tbody tr th {\n",
       "        vertical-align: top;\n",
       "    }\n",
       "\n",
       "    .dataframe thead th {\n",
       "        text-align: right;\n",
       "    }\n",
       "</style>\n",
       "<table border=\"1\" class=\"dataframe\">\n",
       "  <thead>\n",
       "    <tr style=\"text-align: right;\">\n",
       "      <th></th>\n",
       "      <th>cum_rev_a</th>\n",
       "      <th>cum_rev_b</th>\n",
       "    </tr>\n",
       "    <tr>\n",
       "      <th>date</th>\n",
       "      <th></th>\n",
       "      <th></th>\n",
       "    </tr>\n",
       "  </thead>\n",
       "  <tbody>\n",
       "    <tr>\n",
       "      <th>2019-08-01</th>\n",
       "      <td>2356.8</td>\n",
       "      <td>1620.0</td>\n",
       "    </tr>\n",
       "    <tr>\n",
       "      <th>2019-08-02</th>\n",
       "      <td>3860.3</td>\n",
       "      <td>4243.8</td>\n",
       "    </tr>\n",
       "    <tr>\n",
       "      <th>2019-08-03</th>\n",
       "      <td>5675.5</td>\n",
       "      <td>6050.6</td>\n",
       "    </tr>\n",
       "    <tr>\n",
       "      <th>2019-08-04</th>\n",
       "      <td>6822.1</td>\n",
       "      <td>7767.9</td>\n",
       "    </tr>\n",
       "    <tr>\n",
       "      <th>2019-08-05</th>\n",
       "      <td>8810.2</td>\n",
       "      <td>9262.9</td>\n",
       "    </tr>\n",
       "  </tbody>\n",
       "</table>\n",
       "</div>"
      ],
      "text/plain": [
       "            cum_rev_a  cum_rev_b\n",
       "date                            \n",
       "2019-08-01     2356.8     1620.0\n",
       "2019-08-02     3860.3     4243.8\n",
       "2019-08-03     5675.5     6050.6\n",
       "2019-08-04     6822.1     7767.9\n",
       "2019-08-05     8810.2     9262.9"
      ]
     },
     "execution_count": 28,
     "metadata": {},
     "output_type": "execute_result"
    }
   ],
   "source": [
    "#dropping any additional columns\n",
    "cum_rev= cum_rev.drop(columns= ['group_x', 'group_y'], axis=1)\n",
    "cum_rev.head()"
   ]
  },
  {
   "cell_type": "code",
   "execution_count": 29,
   "metadata": {
    "scrolled": true
   },
   "outputs": [
    {
     "data": {
      "image/png": "[encoded data removed]",
      "text/plain": [
       "<Figure size 1080x504 with 1 Axes>"
      ]
     },
     "metadata": {
      "needs_background": "light"
     },
     "output_type": "display_data"
    }
   ],
   "source": [
    "#plotting to see group A and B cumulative revenue\n",
    "cum_rev.plot(kind= 'line', figsize= (15,7))\n",
    "plt.title('CUMULATIVE REVENUE BY GROUP', size= 20)\n",
    "plt.xlabel('DATE', size= 15)\n",
    "plt.ylabel('REVENUE', size= 15)\n",
    "plt.grid()\n",
    "plt.show()\n"
   ]
  },
  {
   "cell_type": "markdown",
   "metadata": {},
   "source": [
    "For both groups A and B, the cumulative revenue seems to be pretty similar. However, around August 18th group B's revenue increases dramatially. It could be that there was an unusually large order that cause group B's data to skew. "
   ]
  },
  {
   "cell_type": "markdown",
   "metadata": {},
   "source": [
    "<b>Cumulative average order size by group</b>"
   ]
  },
  {
   "cell_type": "code",
   "execution_count": 30,
   "metadata": {},
   "outputs": [
    {
     "data": {
      "text/html": [
       "<div>\n",
       "<style scoped>\n",
       "    .dataframe tbody tr th:only-of-type {\n",
       "        vertical-align: middle;\n",
       "    }\n",
       "\n",
       "    .dataframe tbody tr th {\n",
       "        vertical-align: top;\n",
       "    }\n",
       "\n",
       "    .dataframe thead th {\n",
       "        text-align: right;\n",
       "    }\n",
       "</style>\n",
       "<table border=\"1\" class=\"dataframe\">\n",
       "  <thead>\n",
       "    <tr style=\"text-align: right;\">\n",
       "      <th></th>\n",
       "      <th>transaction_id</th>\n",
       "      <th>visitor_id</th>\n",
       "      <th>date</th>\n",
       "      <th>revenue</th>\n",
       "      <th>group</th>\n",
       "    </tr>\n",
       "  </thead>\n",
       "  <tbody>\n",
       "    <tr>\n",
       "      <th>0</th>\n",
       "      <td>3667963787</td>\n",
       "      <td>3312258926</td>\n",
       "      <td>2019-08-15</td>\n",
       "      <td>30.4</td>\n",
       "      <td>B</td>\n",
       "    </tr>\n",
       "    <tr>\n",
       "      <th>1</th>\n",
       "      <td>2804400009</td>\n",
       "      <td>3642806036</td>\n",
       "      <td>2019-08-15</td>\n",
       "      <td>15.2</td>\n",
       "      <td>B</td>\n",
       "    </tr>\n",
       "    <tr>\n",
       "      <th>2</th>\n",
       "      <td>2961555356</td>\n",
       "      <td>4069496402</td>\n",
       "      <td>2019-08-15</td>\n",
       "      <td>10.2</td>\n",
       "      <td>A</td>\n",
       "    </tr>\n",
       "    <tr>\n",
       "      <th>3</th>\n",
       "      <td>3797467345</td>\n",
       "      <td>1196621759</td>\n",
       "      <td>2019-08-15</td>\n",
       "      <td>155.1</td>\n",
       "      <td>B</td>\n",
       "    </tr>\n",
       "    <tr>\n",
       "      <th>4</th>\n",
       "      <td>2282983706</td>\n",
       "      <td>2322279887</td>\n",
       "      <td>2019-08-15</td>\n",
       "      <td>40.5</td>\n",
       "      <td>B</td>\n",
       "    </tr>\n",
       "  </tbody>\n",
       "</table>\n",
       "</div>"
      ],
      "text/plain": [
       "   transaction_id  visitor_id       date  revenue group\n",
       "0      3667963787  3312258926 2019-08-15     30.4     B\n",
       "1      2804400009  3642806036 2019-08-15     15.2     B\n",
       "2      2961555356  4069496402 2019-08-15     10.2     A\n",
       "3      3797467345  1196621759 2019-08-15    155.1     B\n",
       "4      2282983706  2322279887 2019-08-15     40.5     B"
      ]
     },
     "execution_count": 30,
     "metadata": {},
     "output_type": "execute_result"
    }
   ],
   "source": [
    "orders.head()"
   ]
  },
  {
   "cell_type": "code",
   "execution_count": 31,
   "metadata": {
    "scrolled": true
   },
   "outputs": [
    {
     "name": "stderr",
     "output_type": "stream",
     "text": [
      "/tmp/ipykernel_89/1341528365.py:4: SettingWithCopyWarning: \n",
      "A value is trying to be set on a copy of a slice from a DataFrame.\n",
      "Try using .loc[row_indexer,col_indexer] = value instead\n",
      "\n",
      "See the caveats in the documentation: https://pandas.pydata.org/pandas-docs/stable/user_guide/indexing.html#returning-a-view-versus-a-copy\n",
      "  avg_orders_a['cum_rev']= avg_orders_a['revenue'].cumsum()\n",
      "/tmp/ipykernel_89/1341528365.py:5: SettingWithCopyWarning: \n",
      "A value is trying to be set on a copy of a slice from a DataFrame.\n",
      "Try using .loc[row_indexer,col_indexer] = value instead\n",
      "\n",
      "See the caveats in the documentation: https://pandas.pydata.org/pandas-docs/stable/user_guide/indexing.html#returning-a-view-versus-a-copy\n",
      "  avg_orders_a['cum_orders']= avg_orders_a['transaction_id'].cumsum()\n"
     ]
    },
    {
     "data": {
      "text/html": [
       "<div>\n",
       "<style scoped>\n",
       "    .dataframe tbody tr th:only-of-type {\n",
       "        vertical-align: middle;\n",
       "    }\n",
       "\n",
       "    .dataframe tbody tr th {\n",
       "        vertical-align: top;\n",
       "    }\n",
       "\n",
       "    .dataframe thead th {\n",
       "        text-align: right;\n",
       "    }\n",
       "</style>\n",
       "<table border=\"1\" class=\"dataframe\">\n",
       "  <thead>\n",
       "    <tr style=\"text-align: right;\">\n",
       "      <th></th>\n",
       "      <th>date</th>\n",
       "      <th>group</th>\n",
       "      <th>revenue</th>\n",
       "      <th>transaction_id</th>\n",
       "      <th>cum_rev</th>\n",
       "      <th>cum_orders</th>\n",
       "    </tr>\n",
       "  </thead>\n",
       "  <tbody>\n",
       "    <tr>\n",
       "      <th>0</th>\n",
       "      <td>2019-08-01</td>\n",
       "      <td>A</td>\n",
       "      <td>2356.8</td>\n",
       "      <td>24</td>\n",
       "      <td>2356.8</td>\n",
       "      <td>24</td>\n",
       "    </tr>\n",
       "    <tr>\n",
       "      <th>2</th>\n",
       "      <td>2019-08-02</td>\n",
       "      <td>A</td>\n",
       "      <td>1503.5</td>\n",
       "      <td>20</td>\n",
       "      <td>3860.3</td>\n",
       "      <td>44</td>\n",
       "    </tr>\n",
       "    <tr>\n",
       "      <th>4</th>\n",
       "      <td>2019-08-03</td>\n",
       "      <td>A</td>\n",
       "      <td>1815.2</td>\n",
       "      <td>24</td>\n",
       "      <td>5675.5</td>\n",
       "      <td>68</td>\n",
       "    </tr>\n",
       "    <tr>\n",
       "      <th>6</th>\n",
       "      <td>2019-08-04</td>\n",
       "      <td>A</td>\n",
       "      <td>1146.6</td>\n",
       "      <td>16</td>\n",
       "      <td>6822.1</td>\n",
       "      <td>84</td>\n",
       "    </tr>\n",
       "    <tr>\n",
       "      <th>8</th>\n",
       "      <td>2019-08-05</td>\n",
       "      <td>A</td>\n",
       "      <td>1988.1</td>\n",
       "      <td>25</td>\n",
       "      <td>8810.2</td>\n",
       "      <td>109</td>\n",
       "    </tr>\n",
       "  </tbody>\n",
       "</table>\n",
       "</div>"
      ],
      "text/plain": [
       "        date group  revenue  transaction_id  cum_rev  cum_orders\n",
       "0 2019-08-01     A   2356.8              24   2356.8          24\n",
       "2 2019-08-02     A   1503.5              20   3860.3          44\n",
       "4 2019-08-03     A   1815.2              24   5675.5          68\n",
       "6 2019-08-04     A   1146.6              16   6822.1          84\n",
       "8 2019-08-05     A   1988.1              25   8810.2         109"
      ]
     },
     "execution_count": 31,
     "metadata": {},
     "output_type": "execute_result"
    }
   ],
   "source": [
    "#calculating the cumulative sum for each date for each group and filtering only group A\n",
    "avg_orders = orders.groupby(['date', 'group']).agg({'revenue': 'sum', 'transaction_id': 'count'}).reset_index()\n",
    "avg_orders_a = avg_orders.query('group== \"A\"')\n",
    "avg_orders_a['cum_rev']= avg_orders_a['revenue'].cumsum()\n",
    "avg_orders_a['cum_orders']= avg_orders_a['transaction_id'].cumsum()\n",
    "avg_orders_a.head()\n"
   ]
  },
  {
   "cell_type": "code",
   "execution_count": 32,
   "metadata": {},
   "outputs": [
    {
     "name": "stderr",
     "output_type": "stream",
     "text": [
      "/tmp/ipykernel_89/763773743.py:2: SettingWithCopyWarning: \n",
      "A value is trying to be set on a copy of a slice from a DataFrame.\n",
      "Try using .loc[row_indexer,col_indexer] = value instead\n",
      "\n",
      "See the caveats in the documentation: https://pandas.pydata.org/pandas-docs/stable/user_guide/indexing.html#returning-a-view-versus-a-copy\n",
      "  avg_orders_a['avg_cum_rev_a'] = avg_orders_a['cum_rev']/ avg_orders_a['cum_orders']\n"
     ]
    },
    {
     "data": {
      "text/html": [
       "<div>\n",
       "<style scoped>\n",
       "    .dataframe tbody tr th:only-of-type {\n",
       "        vertical-align: middle;\n",
       "    }\n",
       "\n",
       "    .dataframe tbody tr th {\n",
       "        vertical-align: top;\n",
       "    }\n",
       "\n",
       "    .dataframe thead th {\n",
       "        text-align: right;\n",
       "    }\n",
       "</style>\n",
       "<table border=\"1\" class=\"dataframe\">\n",
       "  <thead>\n",
       "    <tr style=\"text-align: right;\">\n",
       "      <th></th>\n",
       "      <th>date</th>\n",
       "      <th>group</th>\n",
       "      <th>revenue</th>\n",
       "      <th>transaction_id</th>\n",
       "      <th>cum_rev</th>\n",
       "      <th>cum_orders</th>\n",
       "      <th>avg_cum_rev_a</th>\n",
       "    </tr>\n",
       "  </thead>\n",
       "  <tbody>\n",
       "    <tr>\n",
       "      <th>0</th>\n",
       "      <td>2019-08-01</td>\n",
       "      <td>A</td>\n",
       "      <td>2356.8</td>\n",
       "      <td>24</td>\n",
       "      <td>2356.8</td>\n",
       "      <td>24</td>\n",
       "      <td>98.200000</td>\n",
       "    </tr>\n",
       "    <tr>\n",
       "      <th>2</th>\n",
       "      <td>2019-08-02</td>\n",
       "      <td>A</td>\n",
       "      <td>1503.5</td>\n",
       "      <td>20</td>\n",
       "      <td>3860.3</td>\n",
       "      <td>44</td>\n",
       "      <td>87.734091</td>\n",
       "    </tr>\n",
       "    <tr>\n",
       "      <th>4</th>\n",
       "      <td>2019-08-03</td>\n",
       "      <td>A</td>\n",
       "      <td>1815.2</td>\n",
       "      <td>24</td>\n",
       "      <td>5675.5</td>\n",
       "      <td>68</td>\n",
       "      <td>83.463235</td>\n",
       "    </tr>\n",
       "    <tr>\n",
       "      <th>6</th>\n",
       "      <td>2019-08-04</td>\n",
       "      <td>A</td>\n",
       "      <td>1146.6</td>\n",
       "      <td>16</td>\n",
       "      <td>6822.1</td>\n",
       "      <td>84</td>\n",
       "      <td>81.215476</td>\n",
       "    </tr>\n",
       "    <tr>\n",
       "      <th>8</th>\n",
       "      <td>2019-08-05</td>\n",
       "      <td>A</td>\n",
       "      <td>1988.1</td>\n",
       "      <td>25</td>\n",
       "      <td>8810.2</td>\n",
       "      <td>109</td>\n",
       "      <td>80.827523</td>\n",
       "    </tr>\n",
       "  </tbody>\n",
       "</table>\n",
       "</div>"
      ],
      "text/plain": [
       "        date group  revenue  transaction_id  cum_rev  cum_orders  \\\n",
       "0 2019-08-01     A   2356.8              24   2356.8          24   \n",
       "2 2019-08-02     A   1503.5              20   3860.3          44   \n",
       "4 2019-08-03     A   1815.2              24   5675.5          68   \n",
       "6 2019-08-04     A   1146.6              16   6822.1          84   \n",
       "8 2019-08-05     A   1988.1              25   8810.2         109   \n",
       "\n",
       "   avg_cum_rev_a  \n",
       "0      98.200000  \n",
       "2      87.734091  \n",
       "4      83.463235  \n",
       "6      81.215476  \n",
       "8      80.827523  "
      ]
     },
     "execution_count": 32,
     "metadata": {},
     "output_type": "execute_result"
    }
   ],
   "source": [
    "#creating a new column and finding the average cumulative orders for group A\n",
    "avg_orders_a['avg_cum_rev_a'] = avg_orders_a['cum_rev']/ avg_orders_a['cum_orders']\n",
    "avg_orders_a.head()\n",
    "\n",
    "\n",
    "\n",
    "#means_groups_A['cum_mean_rev'] = means_groups_A['cum_rev'] / means_groups_A['cum_orders']\n",
    "#means_groups_A = means_groups_A.reset_index().drop(['group', 'revenue', 'transaction_id'], axis=1)\n",
    "#means_groups_A.set_index('date', inplace=True)"
   ]
  },
  {
   "cell_type": "code",
   "execution_count": 33,
   "metadata": {
    "scrolled": false
   },
   "outputs": [
    {
     "name": "stderr",
     "output_type": "stream",
     "text": [
      "/tmp/ipykernel_89/450088652.py:4: SettingWithCopyWarning: \n",
      "A value is trying to be set on a copy of a slice from a DataFrame.\n",
      "Try using .loc[row_indexer,col_indexer] = value instead\n",
      "\n",
      "See the caveats in the documentation: https://pandas.pydata.org/pandas-docs/stable/user_guide/indexing.html#returning-a-view-versus-a-copy\n",
      "  avg_orders_b['cum_rev']= avg_orders_b['revenue'].cumsum()\n",
      "/tmp/ipykernel_89/450088652.py:5: SettingWithCopyWarning: \n",
      "A value is trying to be set on a copy of a slice from a DataFrame.\n",
      "Try using .loc[row_indexer,col_indexer] = value instead\n",
      "\n",
      "See the caveats in the documentation: https://pandas.pydata.org/pandas-docs/stable/user_guide/indexing.html#returning-a-view-versus-a-copy\n",
      "  avg_orders_b['cum_orders']= avg_orders_b['transaction_id'].cumsum()\n",
      "/tmp/ipykernel_89/450088652.py:8: SettingWithCopyWarning: \n",
      "A value is trying to be set on a copy of a slice from a DataFrame.\n",
      "Try using .loc[row_indexer,col_indexer] = value instead\n",
      "\n",
      "See the caveats in the documentation: https://pandas.pydata.org/pandas-docs/stable/user_guide/indexing.html#returning-a-view-versus-a-copy\n",
      "  avg_orders_b['avg_cum_rev_b'] = avg_orders_b['cum_rev']/ avg_orders_b['cum_orders']\n"
     ]
    },
    {
     "data": {
      "text/html": [
       "<div>\n",
       "<style scoped>\n",
       "    .dataframe tbody tr th:only-of-type {\n",
       "        vertical-align: middle;\n",
       "    }\n",
       "\n",
       "    .dataframe tbody tr th {\n",
       "        vertical-align: top;\n",
       "    }\n",
       "\n",
       "    .dataframe thead th {\n",
       "        text-align: right;\n",
       "    }\n",
       "</style>\n",
       "<table border=\"1\" class=\"dataframe\">\n",
       "  <thead>\n",
       "    <tr style=\"text-align: right;\">\n",
       "      <th></th>\n",
       "      <th>date</th>\n",
       "      <th>group</th>\n",
       "      <th>revenue</th>\n",
       "      <th>transaction_id</th>\n",
       "      <th>cum_rev</th>\n",
       "      <th>cum_orders</th>\n",
       "      <th>avg_cum_rev_b</th>\n",
       "    </tr>\n",
       "  </thead>\n",
       "  <tbody>\n",
       "    <tr>\n",
       "      <th>1</th>\n",
       "      <td>2019-08-01</td>\n",
       "      <td>B</td>\n",
       "      <td>1620.0</td>\n",
       "      <td>21</td>\n",
       "      <td>1620.0</td>\n",
       "      <td>21</td>\n",
       "      <td>77.142857</td>\n",
       "    </tr>\n",
       "    <tr>\n",
       "      <th>3</th>\n",
       "      <td>2019-08-02</td>\n",
       "      <td>B</td>\n",
       "      <td>2623.8</td>\n",
       "      <td>24</td>\n",
       "      <td>4243.8</td>\n",
       "      <td>45</td>\n",
       "      <td>94.306667</td>\n",
       "    </tr>\n",
       "    <tr>\n",
       "      <th>5</th>\n",
       "      <td>2019-08-03</td>\n",
       "      <td>B</td>\n",
       "      <td>1806.8</td>\n",
       "      <td>16</td>\n",
       "      <td>6050.6</td>\n",
       "      <td>61</td>\n",
       "      <td>99.190164</td>\n",
       "    </tr>\n",
       "    <tr>\n",
       "      <th>7</th>\n",
       "      <td>2019-08-04</td>\n",
       "      <td>B</td>\n",
       "      <td>1717.3</td>\n",
       "      <td>17</td>\n",
       "      <td>7767.9</td>\n",
       "      <td>78</td>\n",
       "      <td>99.588462</td>\n",
       "    </tr>\n",
       "    <tr>\n",
       "      <th>9</th>\n",
       "      <td>2019-08-05</td>\n",
       "      <td>B</td>\n",
       "      <td>1495.0</td>\n",
       "      <td>23</td>\n",
       "      <td>9262.9</td>\n",
       "      <td>101</td>\n",
       "      <td>91.711881</td>\n",
       "    </tr>\n",
       "  </tbody>\n",
       "</table>\n",
       "</div>"
      ],
      "text/plain": [
       "        date group  revenue  transaction_id  cum_rev  cum_orders  \\\n",
       "1 2019-08-01     B   1620.0              21   1620.0          21   \n",
       "3 2019-08-02     B   2623.8              24   4243.8          45   \n",
       "5 2019-08-03     B   1806.8              16   6050.6          61   \n",
       "7 2019-08-04     B   1717.3              17   7767.9          78   \n",
       "9 2019-08-05     B   1495.0              23   9262.9         101   \n",
       "\n",
       "   avg_cum_rev_b  \n",
       "1      77.142857  \n",
       "3      94.306667  \n",
       "5      99.190164  \n",
       "7      99.588462  \n",
       "9      91.711881  "
      ]
     },
     "execution_count": 33,
     "metadata": {},
     "output_type": "execute_result"
    }
   ],
   "source": [
    "#calculating the cumulative sum for each date for each group and filtering only group B\n",
    "avg_orders = orders.groupby(['date', 'group']).agg({'revenue': 'sum', 'transaction_id': 'count'}).reset_index()\n",
    "avg_orders_b = avg_orders.query('group== \"B\"')\n",
    "avg_orders_b['cum_rev']= avg_orders_b['revenue'].cumsum()\n",
    "avg_orders_b['cum_orders']= avg_orders_b['transaction_id'].cumsum()\n",
    "\n",
    "#creating a new column and finding the average cumulative orders for group A\n",
    "avg_orders_b['avg_cum_rev_b'] = avg_orders_b['cum_rev']/ avg_orders_b['cum_orders']\n",
    "avg_orders_b.head()\n",
    "#avg_orders_b['mean_order_b']= avg_orders['revenue']/ avg_orders['transaction_id']\n",
    "#avg_orders_b['total_']"
   ]
  },
  {
   "cell_type": "code",
   "execution_count": 34,
   "metadata": {},
   "outputs": [
    {
     "data": {
      "text/html": [
       "<div>\n",
       "<style scoped>\n",
       "    .dataframe tbody tr th:only-of-type {\n",
       "        vertical-align: middle;\n",
       "    }\n",
       "\n",
       "    .dataframe tbody tr th {\n",
       "        vertical-align: top;\n",
       "    }\n",
       "\n",
       "    .dataframe thead th {\n",
       "        text-align: right;\n",
       "    }\n",
       "</style>\n",
       "<table border=\"1\" class=\"dataframe\">\n",
       "  <thead>\n",
       "    <tr style=\"text-align: right;\">\n",
       "      <th></th>\n",
       "      <th>group_x</th>\n",
       "      <th>revenue_x</th>\n",
       "      <th>transaction_id_x</th>\n",
       "      <th>cum_rev_x</th>\n",
       "      <th>cum_orders_x</th>\n",
       "      <th>avg_cum_rev_a</th>\n",
       "      <th>group_y</th>\n",
       "      <th>revenue_y</th>\n",
       "      <th>transaction_id_y</th>\n",
       "      <th>cum_rev_y</th>\n",
       "      <th>cum_orders_y</th>\n",
       "      <th>avg_cum_rev_b</th>\n",
       "    </tr>\n",
       "    <tr>\n",
       "      <th>date</th>\n",
       "      <th></th>\n",
       "      <th></th>\n",
       "      <th></th>\n",
       "      <th></th>\n",
       "      <th></th>\n",
       "      <th></th>\n",
       "      <th></th>\n",
       "      <th></th>\n",
       "      <th></th>\n",
       "      <th></th>\n",
       "      <th></th>\n",
       "      <th></th>\n",
       "    </tr>\n",
       "  </thead>\n",
       "  <tbody>\n",
       "    <tr>\n",
       "      <th>2019-08-01</th>\n",
       "      <td>A</td>\n",
       "      <td>2356.8</td>\n",
       "      <td>24</td>\n",
       "      <td>2356.8</td>\n",
       "      <td>24</td>\n",
       "      <td>98.200000</td>\n",
       "      <td>B</td>\n",
       "      <td>1620.0</td>\n",
       "      <td>21</td>\n",
       "      <td>1620.0</td>\n",
       "      <td>21</td>\n",
       "      <td>77.142857</td>\n",
       "    </tr>\n",
       "    <tr>\n",
       "      <th>2019-08-02</th>\n",
       "      <td>A</td>\n",
       "      <td>1503.5</td>\n",
       "      <td>20</td>\n",
       "      <td>3860.3</td>\n",
       "      <td>44</td>\n",
       "      <td>87.734091</td>\n",
       "      <td>B</td>\n",
       "      <td>2623.8</td>\n",
       "      <td>24</td>\n",
       "      <td>4243.8</td>\n",
       "      <td>45</td>\n",
       "      <td>94.306667</td>\n",
       "    </tr>\n",
       "    <tr>\n",
       "      <th>2019-08-03</th>\n",
       "      <td>A</td>\n",
       "      <td>1815.2</td>\n",
       "      <td>24</td>\n",
       "      <td>5675.5</td>\n",
       "      <td>68</td>\n",
       "      <td>83.463235</td>\n",
       "      <td>B</td>\n",
       "      <td>1806.8</td>\n",
       "      <td>16</td>\n",
       "      <td>6050.6</td>\n",
       "      <td>61</td>\n",
       "      <td>99.190164</td>\n",
       "    </tr>\n",
       "    <tr>\n",
       "      <th>2019-08-04</th>\n",
       "      <td>A</td>\n",
       "      <td>1146.6</td>\n",
       "      <td>16</td>\n",
       "      <td>6822.1</td>\n",
       "      <td>84</td>\n",
       "      <td>81.215476</td>\n",
       "      <td>B</td>\n",
       "      <td>1717.3</td>\n",
       "      <td>17</td>\n",
       "      <td>7767.9</td>\n",
       "      <td>78</td>\n",
       "      <td>99.588462</td>\n",
       "    </tr>\n",
       "    <tr>\n",
       "      <th>2019-08-05</th>\n",
       "      <td>A</td>\n",
       "      <td>1988.1</td>\n",
       "      <td>25</td>\n",
       "      <td>8810.2</td>\n",
       "      <td>109</td>\n",
       "      <td>80.827523</td>\n",
       "      <td>B</td>\n",
       "      <td>1495.0</td>\n",
       "      <td>23</td>\n",
       "      <td>9262.9</td>\n",
       "      <td>101</td>\n",
       "      <td>91.711881</td>\n",
       "    </tr>\n",
       "  </tbody>\n",
       "</table>\n",
       "</div>"
      ],
      "text/plain": [
       "           group_x  revenue_x  transaction_id_x  cum_rev_x  cum_orders_x  \\\n",
       "date                                                                       \n",
       "2019-08-01       A     2356.8                24     2356.8            24   \n",
       "2019-08-02       A     1503.5                20     3860.3            44   \n",
       "2019-08-03       A     1815.2                24     5675.5            68   \n",
       "2019-08-04       A     1146.6                16     6822.1            84   \n",
       "2019-08-05       A     1988.1                25     8810.2           109   \n",
       "\n",
       "            avg_cum_rev_a group_y  revenue_y  transaction_id_y  cum_rev_y  \\\n",
       "date                                                                        \n",
       "2019-08-01      98.200000       B     1620.0                21     1620.0   \n",
       "2019-08-02      87.734091       B     2623.8                24     4243.8   \n",
       "2019-08-03      83.463235       B     1806.8                16     6050.6   \n",
       "2019-08-04      81.215476       B     1717.3                17     7767.9   \n",
       "2019-08-05      80.827523       B     1495.0                23     9262.9   \n",
       "\n",
       "            cum_orders_y  avg_cum_rev_b  \n",
       "date                                     \n",
       "2019-08-01            21      77.142857  \n",
       "2019-08-02            45      94.306667  \n",
       "2019-08-03            61      99.190164  \n",
       "2019-08-04            78      99.588462  \n",
       "2019-08-05           101      91.711881  "
      ]
     },
     "execution_count": 34,
     "metadata": {},
     "output_type": "execute_result"
    }
   ],
   "source": [
    "#combining avg_orders_a with avg_orders_b\n",
    "avg_orders_merged= pd.merge(avg_orders_a, avg_orders_b, on= 'date').set_index('date')\n",
    "\n",
    "avg_orders_merged.head()"
   ]
  },
  {
   "cell_type": "code",
   "execution_count": 35,
   "metadata": {},
   "outputs": [
    {
     "data": {
      "text/html": [
       "<div>\n",
       "<style scoped>\n",
       "    .dataframe tbody tr th:only-of-type {\n",
       "        vertical-align: middle;\n",
       "    }\n",
       "\n",
       "    .dataframe tbody tr th {\n",
       "        vertical-align: top;\n",
       "    }\n",
       "\n",
       "    .dataframe thead th {\n",
       "        text-align: right;\n",
       "    }\n",
       "</style>\n",
       "<table border=\"1\" class=\"dataframe\">\n",
       "  <thead>\n",
       "    <tr style=\"text-align: right;\">\n",
       "      <th></th>\n",
       "      <th>avg_cum_rev_a</th>\n",
       "      <th>avg_cum_rev_b</th>\n",
       "    </tr>\n",
       "    <tr>\n",
       "      <th>date</th>\n",
       "      <th></th>\n",
       "      <th></th>\n",
       "    </tr>\n",
       "  </thead>\n",
       "  <tbody>\n",
       "    <tr>\n",
       "      <th>2019-08-01</th>\n",
       "      <td>98.200000</td>\n",
       "      <td>77.142857</td>\n",
       "    </tr>\n",
       "    <tr>\n",
       "      <th>2019-08-02</th>\n",
       "      <td>87.734091</td>\n",
       "      <td>94.306667</td>\n",
       "    </tr>\n",
       "    <tr>\n",
       "      <th>2019-08-03</th>\n",
       "      <td>83.463235</td>\n",
       "      <td>99.190164</td>\n",
       "    </tr>\n",
       "    <tr>\n",
       "      <th>2019-08-04</th>\n",
       "      <td>81.215476</td>\n",
       "      <td>99.588462</td>\n",
       "    </tr>\n",
       "    <tr>\n",
       "      <th>2019-08-05</th>\n",
       "      <td>80.827523</td>\n",
       "      <td>91.711881</td>\n",
       "    </tr>\n",
       "  </tbody>\n",
       "</table>\n",
       "</div>"
      ],
      "text/plain": [
       "            avg_cum_rev_a  avg_cum_rev_b\n",
       "date                                    \n",
       "2019-08-01      98.200000      77.142857\n",
       "2019-08-02      87.734091      94.306667\n",
       "2019-08-03      83.463235      99.190164\n",
       "2019-08-04      81.215476      99.588462\n",
       "2019-08-05      80.827523      91.711881"
      ]
     },
     "execution_count": 35,
     "metadata": {},
     "output_type": "execute_result"
    }
   ],
   "source": [
    "#dropping all unnecessary columns\n",
    "avg_orders_merged.drop('group_x', axis=1, inplace=True)\n",
    "avg_orders_merged.drop('revenue_x', axis=1, inplace=True)\n",
    "avg_orders_merged.drop('transaction_id_x', axis=1, inplace=True)\n",
    "avg_orders_merged.drop('group_y', axis=1, inplace=True)\n",
    "avg_orders_merged.drop('revenue_y', axis=1, inplace=True)\n",
    "avg_orders_merged.drop('transaction_id_y', axis=1, inplace=True)\n",
    "avg_orders_merged.drop('cum_rev_x', axis=1, inplace=True)\n",
    "avg_orders_merged.drop('cum_orders_x', axis=1, inplace=True)\n",
    "avg_orders_merged.drop('cum_rev_y', axis=1, inplace=True)\n",
    "avg_orders_merged.drop('cum_orders_y', axis=1, inplace=True)\n",
    "avg_orders_merged.head()"
   ]
  },
  {
   "cell_type": "code",
   "execution_count": 36,
   "metadata": {
    "scrolled": false
   },
   "outputs": [
    {
     "data": {
      "image/png": "[encoded data removed]",
      "text/plain": [
       "<Figure size 1080x504 with 1 Axes>"
      ]
     },
     "metadata": {
      "needs_background": "light"
     },
     "output_type": "display_data"
    }
   ],
   "source": [
    "#line plot to show average order size for group A and B\n",
    "avg_orders_merged.plot(kind= 'line', figsize= (15,7))\n",
    "plt.title('AVERAGE ORDER SIZE BY GROUP', size= 20)\n",
    "plt.xlabel('DATE', size= 15)\n",
    "plt.ylabel('AVG ORDER SIZE', size= 15)\n",
    "plt.grid()\n",
    "plt.show()"
   ]
  },
  {
   "cell_type": "markdown",
   "metadata": {},
   "source": [
    "Here we can definitely see that there was a large order spike at around August 18th. This has caused group B's average order size to drastically increase making our two line graphs look very different."
   ]
  },
  {
   "cell_type": "markdown",
   "metadata": {},
   "source": [
    "<b>Relative difference in cumulative average order size for group B compared with group A</b>"
   ]
  },
  {
   "cell_type": "code",
   "execution_count": 37,
   "metadata": {},
   "outputs": [
    {
     "data": {
      "text/plain": [
       "date\n",
       "2019-08-01   -0.214431\n",
       "2019-08-02    0.074915\n",
       "2019-08-03    0.188429\n",
       "2019-08-04    0.226225\n",
       "2019-08-05    0.134662\n",
       "dtype: float64"
      ]
     },
     "execution_count": 37,
     "metadata": {},
     "output_type": "execute_result"
    }
   ],
   "source": [
    "#creating a new dataset and calculating the difference between group A and B\n",
    "avg_order_diff = pd.Series((avg_orders_merged['avg_cum_rev_b'] - avg_orders_merged['avg_cum_rev_a'])/avg_orders_merged['avg_cum_rev_a'])\n",
    "avg_order_diff.head()"
   ]
  },
  {
   "cell_type": "code",
   "execution_count": 38,
   "metadata": {},
   "outputs": [
    {
     "data": {
      "image/png": "[encoded data removed]",
      "text/plain": [
       "<Figure size 1080x504 with 1 Axes>"
      ]
     },
     "metadata": {
      "needs_background": "light"
     },
     "output_type": "display_data"
    }
   ],
   "source": [
    "#plotting the differences between group A and B\n",
    "avg_order_diff.plot(figsize=(15,7))\n",
    "plt.title('GROUP A & B AVERAGE ORDER SIZE DIFFERENCE', size= 20)\n",
    "plt.xlabel('DATE')\n",
    "plt.ylabel('DIFFERENCE')\n",
    "plt.grid()\n",
    "plt.show()"
   ]
  },
  {
   "cell_type": "markdown",
   "metadata": {},
   "source": [
    "<b>Each group's conversion rate as the ratio of orders to the number of visits for each day<b/>"
   ]
  },
  {
   "cell_type": "code",
   "execution_count": 39,
   "metadata": {},
   "outputs": [
    {
     "data": {
      "text/html": [
       "<div>\n",
       "<style scoped>\n",
       "    .dataframe tbody tr th:only-of-type {\n",
       "        vertical-align: middle;\n",
       "    }\n",
       "\n",
       "    .dataframe tbody tr th {\n",
       "        vertical-align: top;\n",
       "    }\n",
       "\n",
       "    .dataframe thead th {\n",
       "        text-align: right;\n",
       "    }\n",
       "</style>\n",
       "<table border=\"1\" class=\"dataframe\">\n",
       "  <thead>\n",
       "    <tr style=\"text-align: right;\">\n",
       "      <th></th>\n",
       "      <th>transaction_id</th>\n",
       "      <th>visitor_id</th>\n",
       "      <th>date</th>\n",
       "      <th>revenue</th>\n",
       "      <th>group</th>\n",
       "    </tr>\n",
       "  </thead>\n",
       "  <tbody>\n",
       "    <tr>\n",
       "      <th>0</th>\n",
       "      <td>3667963787</td>\n",
       "      <td>3312258926</td>\n",
       "      <td>2019-08-15</td>\n",
       "      <td>30.4</td>\n",
       "      <td>B</td>\n",
       "    </tr>\n",
       "    <tr>\n",
       "      <th>1</th>\n",
       "      <td>2804400009</td>\n",
       "      <td>3642806036</td>\n",
       "      <td>2019-08-15</td>\n",
       "      <td>15.2</td>\n",
       "      <td>B</td>\n",
       "    </tr>\n",
       "    <tr>\n",
       "      <th>2</th>\n",
       "      <td>2961555356</td>\n",
       "      <td>4069496402</td>\n",
       "      <td>2019-08-15</td>\n",
       "      <td>10.2</td>\n",
       "      <td>A</td>\n",
       "    </tr>\n",
       "    <tr>\n",
       "      <th>3</th>\n",
       "      <td>3797467345</td>\n",
       "      <td>1196621759</td>\n",
       "      <td>2019-08-15</td>\n",
       "      <td>155.1</td>\n",
       "      <td>B</td>\n",
       "    </tr>\n",
       "    <tr>\n",
       "      <th>4</th>\n",
       "      <td>2282983706</td>\n",
       "      <td>2322279887</td>\n",
       "      <td>2019-08-15</td>\n",
       "      <td>40.5</td>\n",
       "      <td>B</td>\n",
       "    </tr>\n",
       "  </tbody>\n",
       "</table>\n",
       "</div>"
      ],
      "text/plain": [
       "   transaction_id  visitor_id       date  revenue group\n",
       "0      3667963787  3312258926 2019-08-15     30.4     B\n",
       "1      2804400009  3642806036 2019-08-15     15.2     B\n",
       "2      2961555356  4069496402 2019-08-15     10.2     A\n",
       "3      3797467345  1196621759 2019-08-15    155.1     B\n",
       "4      2282983706  2322279887 2019-08-15     40.5     B"
      ]
     },
     "execution_count": 39,
     "metadata": {},
     "output_type": "execute_result"
    }
   ],
   "source": [
    "orders.head()"
   ]
  },
  {
   "cell_type": "code",
   "execution_count": 40,
   "metadata": {},
   "outputs": [
    {
     "data": {
      "text/html": [
       "<div>\n",
       "<style scoped>\n",
       "    .dataframe tbody tr th:only-of-type {\n",
       "        vertical-align: middle;\n",
       "    }\n",
       "\n",
       "    .dataframe tbody tr th {\n",
       "        vertical-align: top;\n",
       "    }\n",
       "\n",
       "    .dataframe thead th {\n",
       "        text-align: right;\n",
       "    }\n",
       "</style>\n",
       "<table border=\"1\" class=\"dataframe\">\n",
       "  <thead>\n",
       "    <tr style=\"text-align: right;\">\n",
       "      <th></th>\n",
       "      <th>date</th>\n",
       "      <th>group</th>\n",
       "      <th>visits</th>\n",
       "    </tr>\n",
       "  </thead>\n",
       "  <tbody>\n",
       "    <tr>\n",
       "      <th>0</th>\n",
       "      <td>2019-08-01</td>\n",
       "      <td>A</td>\n",
       "      <td>719</td>\n",
       "    </tr>\n",
       "    <tr>\n",
       "      <th>1</th>\n",
       "      <td>2019-08-02</td>\n",
       "      <td>A</td>\n",
       "      <td>619</td>\n",
       "    </tr>\n",
       "    <tr>\n",
       "      <th>2</th>\n",
       "      <td>2019-08-03</td>\n",
       "      <td>A</td>\n",
       "      <td>507</td>\n",
       "    </tr>\n",
       "    <tr>\n",
       "      <th>3</th>\n",
       "      <td>2019-08-04</td>\n",
       "      <td>A</td>\n",
       "      <td>717</td>\n",
       "    </tr>\n",
       "    <tr>\n",
       "      <th>4</th>\n",
       "      <td>2019-08-05</td>\n",
       "      <td>A</td>\n",
       "      <td>756</td>\n",
       "    </tr>\n",
       "  </tbody>\n",
       "</table>\n",
       "</div>"
      ],
      "text/plain": [
       "        date group  visits\n",
       "0 2019-08-01     A     719\n",
       "1 2019-08-02     A     619\n",
       "2 2019-08-03     A     507\n",
       "3 2019-08-04     A     717\n",
       "4 2019-08-05     A     756"
      ]
     },
     "execution_count": 40,
     "metadata": {},
     "output_type": "execute_result"
    }
   ],
   "source": [
    "visits.head()"
   ]
  },
  {
   "cell_type": "code",
   "execution_count": 41,
   "metadata": {},
   "outputs": [
    {
     "data": {
      "text/html": [
       "<div>\n",
       "<style scoped>\n",
       "    .dataframe tbody tr th:only-of-type {\n",
       "        vertical-align: middle;\n",
       "    }\n",
       "\n",
       "    .dataframe tbody tr th {\n",
       "        vertical-align: top;\n",
       "    }\n",
       "\n",
       "    .dataframe thead th {\n",
       "        text-align: right;\n",
       "    }\n",
       "</style>\n",
       "<table border=\"1\" class=\"dataframe\">\n",
       "  <thead>\n",
       "    <tr style=\"text-align: right;\">\n",
       "      <th></th>\n",
       "      <th>date</th>\n",
       "      <th>group</th>\n",
       "      <th>uniq_buyers</th>\n",
       "    </tr>\n",
       "  </thead>\n",
       "  <tbody>\n",
       "    <tr>\n",
       "      <th>0</th>\n",
       "      <td>2019-08-01</td>\n",
       "      <td>A</td>\n",
       "      <td>20</td>\n",
       "    </tr>\n",
       "    <tr>\n",
       "      <th>1</th>\n",
       "      <td>2019-08-01</td>\n",
       "      <td>B</td>\n",
       "      <td>20</td>\n",
       "    </tr>\n",
       "    <tr>\n",
       "      <th>2</th>\n",
       "      <td>2019-08-02</td>\n",
       "      <td>A</td>\n",
       "      <td>19</td>\n",
       "    </tr>\n",
       "    <tr>\n",
       "      <th>3</th>\n",
       "      <td>2019-08-02</td>\n",
       "      <td>B</td>\n",
       "      <td>23</td>\n",
       "    </tr>\n",
       "    <tr>\n",
       "      <th>4</th>\n",
       "      <td>2019-08-03</td>\n",
       "      <td>A</td>\n",
       "      <td>24</td>\n",
       "    </tr>\n",
       "  </tbody>\n",
       "</table>\n",
       "</div>"
      ],
      "text/plain": [
       "        date group  uniq_buyers\n",
       "0 2019-08-01     A           20\n",
       "1 2019-08-01     B           20\n",
       "2 2019-08-02     A           19\n",
       "3 2019-08-02     B           23\n",
       "4 2019-08-03     A           24"
      ]
     },
     "execution_count": 41,
     "metadata": {},
     "output_type": "execute_result"
    }
   ],
   "source": [
    "#grouping by date and group and calculating total number of orders\n",
    "group_conversion = orders.groupby(['date', 'group']).agg({'visitor_id': 'nunique'}).reset_index()\n",
    "group_conversion.columns = ['date', 'group', 'uniq_buyers']\n",
    "group_conversion.head()"
   ]
  },
  {
   "cell_type": "code",
   "execution_count": 42,
   "metadata": {},
   "outputs": [
    {
     "data": {
      "text/html": [
       "<div>\n",
       "<style scoped>\n",
       "    .dataframe tbody tr th:only-of-type {\n",
       "        vertical-align: middle;\n",
       "    }\n",
       "\n",
       "    .dataframe tbody tr th {\n",
       "        vertical-align: top;\n",
       "    }\n",
       "\n",
       "    .dataframe thead th {\n",
       "        text-align: right;\n",
       "    }\n",
       "</style>\n",
       "<table border=\"1\" class=\"dataframe\">\n",
       "  <thead>\n",
       "    <tr style=\"text-align: right;\">\n",
       "      <th></th>\n",
       "      <th>date</th>\n",
       "      <th>group</th>\n",
       "      <th>uniq_buyers</th>\n",
       "      <th>visits</th>\n",
       "    </tr>\n",
       "  </thead>\n",
       "  <tbody>\n",
       "    <tr>\n",
       "      <th>0</th>\n",
       "      <td>2019-08-01</td>\n",
       "      <td>A</td>\n",
       "      <td>20</td>\n",
       "      <td>719</td>\n",
       "    </tr>\n",
       "    <tr>\n",
       "      <th>1</th>\n",
       "      <td>2019-08-01</td>\n",
       "      <td>B</td>\n",
       "      <td>20</td>\n",
       "      <td>713</td>\n",
       "    </tr>\n",
       "    <tr>\n",
       "      <th>2</th>\n",
       "      <td>2019-08-02</td>\n",
       "      <td>A</td>\n",
       "      <td>19</td>\n",
       "      <td>619</td>\n",
       "    </tr>\n",
       "    <tr>\n",
       "      <th>3</th>\n",
       "      <td>2019-08-02</td>\n",
       "      <td>B</td>\n",
       "      <td>23</td>\n",
       "      <td>581</td>\n",
       "    </tr>\n",
       "    <tr>\n",
       "      <th>4</th>\n",
       "      <td>2019-08-03</td>\n",
       "      <td>A</td>\n",
       "      <td>24</td>\n",
       "      <td>507</td>\n",
       "    </tr>\n",
       "  </tbody>\n",
       "</table>\n",
       "</div>"
      ],
      "text/plain": [
       "        date group  uniq_buyers  visits\n",
       "0 2019-08-01     A           20     719\n",
       "1 2019-08-01     B           20     713\n",
       "2 2019-08-02     A           19     619\n",
       "3 2019-08-02     B           23     581\n",
       "4 2019-08-03     A           24     507"
      ]
     },
     "execution_count": 42,
     "metadata": {},
     "output_type": "execute_result"
    }
   ],
   "source": [
    "#combining the 'group_conversion' table with the 'visits' table\n",
    "group_conversion = group_conversion.merge(visits, on=['date', 'group'])\n",
    "group_conversion.head()"
   ]
  },
  {
   "cell_type": "code",
   "execution_count": 43,
   "metadata": {},
   "outputs": [
    {
     "data": {
      "text/html": [
       "<div>\n",
       "<style scoped>\n",
       "    .dataframe tbody tr th:only-of-type {\n",
       "        vertical-align: middle;\n",
       "    }\n",
       "\n",
       "    .dataframe tbody tr th {\n",
       "        vertical-align: top;\n",
       "    }\n",
       "\n",
       "    .dataframe thead th {\n",
       "        text-align: right;\n",
       "    }\n",
       "</style>\n",
       "<table border=\"1\" class=\"dataframe\">\n",
       "  <thead>\n",
       "    <tr style=\"text-align: right;\">\n",
       "      <th></th>\n",
       "      <th>date</th>\n",
       "      <th>group</th>\n",
       "      <th>uniq_buyers</th>\n",
       "      <th>visits</th>\n",
       "      <th>cum_visits</th>\n",
       "    </tr>\n",
       "  </thead>\n",
       "  <tbody>\n",
       "    <tr>\n",
       "      <th>0</th>\n",
       "      <td>2019-08-01</td>\n",
       "      <td>A</td>\n",
       "      <td>20</td>\n",
       "      <td>719</td>\n",
       "      <td>719</td>\n",
       "    </tr>\n",
       "    <tr>\n",
       "      <th>1</th>\n",
       "      <td>2019-08-01</td>\n",
       "      <td>B</td>\n",
       "      <td>20</td>\n",
       "      <td>713</td>\n",
       "      <td>1432</td>\n",
       "    </tr>\n",
       "    <tr>\n",
       "      <th>2</th>\n",
       "      <td>2019-08-02</td>\n",
       "      <td>A</td>\n",
       "      <td>19</td>\n",
       "      <td>619</td>\n",
       "      <td>2051</td>\n",
       "    </tr>\n",
       "    <tr>\n",
       "      <th>3</th>\n",
       "      <td>2019-08-02</td>\n",
       "      <td>B</td>\n",
       "      <td>23</td>\n",
       "      <td>581</td>\n",
       "      <td>2632</td>\n",
       "    </tr>\n",
       "    <tr>\n",
       "      <th>4</th>\n",
       "      <td>2019-08-03</td>\n",
       "      <td>A</td>\n",
       "      <td>24</td>\n",
       "      <td>507</td>\n",
       "      <td>3139</td>\n",
       "    </tr>\n",
       "  </tbody>\n",
       "</table>\n",
       "</div>"
      ],
      "text/plain": [
       "        date group  uniq_buyers  visits  cum_visits\n",
       "0 2019-08-01     A           20     719         719\n",
       "1 2019-08-01     B           20     713        1432\n",
       "2 2019-08-02     A           19     619        2051\n",
       "3 2019-08-02     B           23     581        2632\n",
       "4 2019-08-03     A           24     507        3139"
      ]
     },
     "execution_count": 43,
     "metadata": {},
     "output_type": "execute_result"
    }
   ],
   "source": [
    "#creating new columns to show cumulative orders and visits\n",
    "#group_conversion['cum_buyers']= group_conversion['uniq_buyers'].cumsum()\n",
    "group_conversion['cum_visits']= group_conversion['visits'].cumsum()\n",
    "group_conversion.head()"
   ]
  },
  {
   "cell_type": "code",
   "execution_count": 44,
   "metadata": {
    "scrolled": true
   },
   "outputs": [
    {
     "data": {
      "text/html": [
       "<div>\n",
       "<style scoped>\n",
       "    .dataframe tbody tr th:only-of-type {\n",
       "        vertical-align: middle;\n",
       "    }\n",
       "\n",
       "    .dataframe tbody tr th {\n",
       "        vertical-align: top;\n",
       "    }\n",
       "\n",
       "    .dataframe thead th {\n",
       "        text-align: right;\n",
       "    }\n",
       "</style>\n",
       "<table border=\"1\" class=\"dataframe\">\n",
       "  <thead>\n",
       "    <tr style=\"text-align: right;\">\n",
       "      <th></th>\n",
       "      <th>date</th>\n",
       "      <th>group</th>\n",
       "      <th>uniq_buyers</th>\n",
       "      <th>visits</th>\n",
       "      <th>cum_visits</th>\n",
       "      <th>conv_rate</th>\n",
       "    </tr>\n",
       "  </thead>\n",
       "  <tbody>\n",
       "    <tr>\n",
       "      <th>0</th>\n",
       "      <td>2019-08-01</td>\n",
       "      <td>A</td>\n",
       "      <td>20</td>\n",
       "      <td>719</td>\n",
       "      <td>719</td>\n",
       "      <td>2.781641</td>\n",
       "    </tr>\n",
       "    <tr>\n",
       "      <th>1</th>\n",
       "      <td>2019-08-01</td>\n",
       "      <td>B</td>\n",
       "      <td>20</td>\n",
       "      <td>713</td>\n",
       "      <td>1432</td>\n",
       "      <td>2.805049</td>\n",
       "    </tr>\n",
       "    <tr>\n",
       "      <th>2</th>\n",
       "      <td>2019-08-02</td>\n",
       "      <td>A</td>\n",
       "      <td>19</td>\n",
       "      <td>619</td>\n",
       "      <td>2051</td>\n",
       "      <td>3.069467</td>\n",
       "    </tr>\n",
       "    <tr>\n",
       "      <th>3</th>\n",
       "      <td>2019-08-02</td>\n",
       "      <td>B</td>\n",
       "      <td>23</td>\n",
       "      <td>581</td>\n",
       "      <td>2632</td>\n",
       "      <td>3.958692</td>\n",
       "    </tr>\n",
       "    <tr>\n",
       "      <th>4</th>\n",
       "      <td>2019-08-03</td>\n",
       "      <td>A</td>\n",
       "      <td>24</td>\n",
       "      <td>507</td>\n",
       "      <td>3139</td>\n",
       "      <td>4.733728</td>\n",
       "    </tr>\n",
       "  </tbody>\n",
       "</table>\n",
       "</div>"
      ],
      "text/plain": [
       "        date group  uniq_buyers  visits  cum_visits  conv_rate\n",
       "0 2019-08-01     A           20     719         719   2.781641\n",
       "1 2019-08-01     B           20     713        1432   2.805049\n",
       "2 2019-08-02     A           19     619        2051   3.069467\n",
       "3 2019-08-02     B           23     581        2632   3.958692\n",
       "4 2019-08-03     A           24     507        3139   4.733728"
      ]
     },
     "execution_count": 44,
     "metadata": {},
     "output_type": "execute_result"
    }
   ],
   "source": [
    "#creating a new column for conversion rate, calculating conversion rate, and showing conversion rate as a percentage\n",
    "group_conversion['conv_rate']= group_conversion['uniq_buyers']/ group_conversion['visits']*100\n",
    "group_conversion.head()"
   ]
  },
  {
   "cell_type": "code",
   "execution_count": 45,
   "metadata": {
    "scrolled": false
   },
   "outputs": [
    {
     "data": {
      "text/html": [
       "<div>\n",
       "<style scoped>\n",
       "    .dataframe tbody tr th:only-of-type {\n",
       "        vertical-align: middle;\n",
       "    }\n",
       "\n",
       "    .dataframe tbody tr th {\n",
       "        vertical-align: top;\n",
       "    }\n",
       "\n",
       "    .dataframe thead th {\n",
       "        text-align: right;\n",
       "    }\n",
       "</style>\n",
       "<table border=\"1\" class=\"dataframe\">\n",
       "  <thead>\n",
       "    <tr style=\"text-align: right;\">\n",
       "      <th></th>\n",
       "      <th>date</th>\n",
       "      <th>group</th>\n",
       "      <th>uniq_buyers</th>\n",
       "      <th>visits</th>\n",
       "      <th>cum_visits</th>\n",
       "      <th>conv_rate_b</th>\n",
       "    </tr>\n",
       "  </thead>\n",
       "  <tbody>\n",
       "    <tr>\n",
       "      <th>1</th>\n",
       "      <td>2019-08-01</td>\n",
       "      <td>B</td>\n",
       "      <td>20</td>\n",
       "      <td>713</td>\n",
       "      <td>1432</td>\n",
       "      <td>2.805049</td>\n",
       "    </tr>\n",
       "    <tr>\n",
       "      <th>3</th>\n",
       "      <td>2019-08-02</td>\n",
       "      <td>B</td>\n",
       "      <td>23</td>\n",
       "      <td>581</td>\n",
       "      <td>2632</td>\n",
       "      <td>3.958692</td>\n",
       "    </tr>\n",
       "    <tr>\n",
       "      <th>5</th>\n",
       "      <td>2019-08-03</td>\n",
       "      <td>B</td>\n",
       "      <td>16</td>\n",
       "      <td>509</td>\n",
       "      <td>3648</td>\n",
       "      <td>3.143418</td>\n",
       "    </tr>\n",
       "    <tr>\n",
       "      <th>7</th>\n",
       "      <td>2019-08-04</td>\n",
       "      <td>B</td>\n",
       "      <td>16</td>\n",
       "      <td>770</td>\n",
       "      <td>5135</td>\n",
       "      <td>2.077922</td>\n",
       "    </tr>\n",
       "    <tr>\n",
       "      <th>9</th>\n",
       "      <td>2019-08-05</td>\n",
       "      <td>B</td>\n",
       "      <td>23</td>\n",
       "      <td>707</td>\n",
       "      <td>6598</td>\n",
       "      <td>3.253182</td>\n",
       "    </tr>\n",
       "  </tbody>\n",
       "</table>\n",
       "</div>"
      ],
      "text/plain": [
       "        date group  uniq_buyers  visits  cum_visits  conv_rate_b\n",
       "1 2019-08-01     B           20     713        1432     2.805049\n",
       "3 2019-08-02     B           23     581        2632     3.958692\n",
       "5 2019-08-03     B           16     509        3648     3.143418\n",
       "7 2019-08-04     B           16     770        5135     2.077922\n",
       "9 2019-08-05     B           23     707        6598     3.253182"
      ]
     },
     "execution_count": 45,
     "metadata": {},
     "output_type": "execute_result"
    }
   ],
   "source": [
    "#separating group A and B\n",
    "conv_rate_a= group_conversion.query('group== \"A\"')\n",
    "conv_rate_b= group_conversion.query('group== \"B\"')\n",
    "\n",
    "#renaming columns\n",
    "conv_rate_a= conv_rate_a.rename(columns={'conv_rate':'conv_rate_a'})\n",
    "conv_rate_b= conv_rate_b.rename(columns={'conv_rate':'conv_rate_b'})\n",
    "\n",
    "conv_rate_b.head()"
   ]
  },
  {
   "cell_type": "code",
   "execution_count": 46,
   "metadata": {},
   "outputs": [
    {
     "data": {
      "text/html": [
       "<div>\n",
       "<style scoped>\n",
       "    .dataframe tbody tr th:only-of-type {\n",
       "        vertical-align: middle;\n",
       "    }\n",
       "\n",
       "    .dataframe tbody tr th {\n",
       "        vertical-align: top;\n",
       "    }\n",
       "\n",
       "    .dataframe thead th {\n",
       "        text-align: right;\n",
       "    }\n",
       "</style>\n",
       "<table border=\"1\" class=\"dataframe\">\n",
       "  <thead>\n",
       "    <tr style=\"text-align: right;\">\n",
       "      <th></th>\n",
       "      <th>date</th>\n",
       "      <th>group</th>\n",
       "      <th>uniq_buyers</th>\n",
       "      <th>visits</th>\n",
       "      <th>cum_visits</th>\n",
       "      <th>conv_rate_a</th>\n",
       "    </tr>\n",
       "  </thead>\n",
       "  <tbody>\n",
       "    <tr>\n",
       "      <th>0</th>\n",
       "      <td>2019-08-01</td>\n",
       "      <td>A</td>\n",
       "      <td>20</td>\n",
       "      <td>719</td>\n",
       "      <td>719</td>\n",
       "      <td>2.781641</td>\n",
       "    </tr>\n",
       "    <tr>\n",
       "      <th>2</th>\n",
       "      <td>2019-08-02</td>\n",
       "      <td>A</td>\n",
       "      <td>19</td>\n",
       "      <td>619</td>\n",
       "      <td>2051</td>\n",
       "      <td>3.069467</td>\n",
       "    </tr>\n",
       "    <tr>\n",
       "      <th>4</th>\n",
       "      <td>2019-08-03</td>\n",
       "      <td>A</td>\n",
       "      <td>24</td>\n",
       "      <td>507</td>\n",
       "      <td>3139</td>\n",
       "      <td>4.733728</td>\n",
       "    </tr>\n",
       "    <tr>\n",
       "      <th>6</th>\n",
       "      <td>2019-08-04</td>\n",
       "      <td>A</td>\n",
       "      <td>15</td>\n",
       "      <td>717</td>\n",
       "      <td>4365</td>\n",
       "      <td>2.092050</td>\n",
       "    </tr>\n",
       "    <tr>\n",
       "      <th>8</th>\n",
       "      <td>2019-08-05</td>\n",
       "      <td>A</td>\n",
       "      <td>25</td>\n",
       "      <td>756</td>\n",
       "      <td>5891</td>\n",
       "      <td>3.306878</td>\n",
       "    </tr>\n",
       "  </tbody>\n",
       "</table>\n",
       "</div>"
      ],
      "text/plain": [
       "        date group  uniq_buyers  visits  cum_visits  conv_rate_a\n",
       "0 2019-08-01     A           20     719         719     2.781641\n",
       "2 2019-08-02     A           19     619        2051     3.069467\n",
       "4 2019-08-03     A           24     507        3139     4.733728\n",
       "6 2019-08-04     A           15     717        4365     2.092050\n",
       "8 2019-08-05     A           25     756        5891     3.306878"
      ]
     },
     "execution_count": 46,
     "metadata": {},
     "output_type": "execute_result"
    }
   ],
   "source": [
    "conv_rate_a.head()"
   ]
  },
  {
   "cell_type": "code",
   "execution_count": 47,
   "metadata": {
    "scrolled": true
   },
   "outputs": [
    {
     "data": {
      "text/html": [
       "<div>\n",
       "<style scoped>\n",
       "    .dataframe tbody tr th:only-of-type {\n",
       "        vertical-align: middle;\n",
       "    }\n",
       "\n",
       "    .dataframe tbody tr th {\n",
       "        vertical-align: top;\n",
       "    }\n",
       "\n",
       "    .dataframe thead th {\n",
       "        text-align: right;\n",
       "    }\n",
       "</style>\n",
       "<table border=\"1\" class=\"dataframe\">\n",
       "  <thead>\n",
       "    <tr style=\"text-align: right;\">\n",
       "      <th></th>\n",
       "      <th>date</th>\n",
       "      <th>conv_rate_b</th>\n",
       "    </tr>\n",
       "  </thead>\n",
       "  <tbody>\n",
       "    <tr>\n",
       "      <th>1</th>\n",
       "      <td>2019-08-01</td>\n",
       "      <td>2.805049</td>\n",
       "    </tr>\n",
       "    <tr>\n",
       "      <th>3</th>\n",
       "      <td>2019-08-02</td>\n",
       "      <td>3.958692</td>\n",
       "    </tr>\n",
       "    <tr>\n",
       "      <th>5</th>\n",
       "      <td>2019-08-03</td>\n",
       "      <td>3.143418</td>\n",
       "    </tr>\n",
       "    <tr>\n",
       "      <th>7</th>\n",
       "      <td>2019-08-04</td>\n",
       "      <td>2.077922</td>\n",
       "    </tr>\n",
       "    <tr>\n",
       "      <th>9</th>\n",
       "      <td>2019-08-05</td>\n",
       "      <td>3.253182</td>\n",
       "    </tr>\n",
       "  </tbody>\n",
       "</table>\n",
       "</div>"
      ],
      "text/plain": [
       "        date  conv_rate_b\n",
       "1 2019-08-01     2.805049\n",
       "3 2019-08-02     3.958692\n",
       "5 2019-08-03     3.143418\n",
       "7 2019-08-04     2.077922\n",
       "9 2019-08-05     3.253182"
      ]
     },
     "execution_count": 47,
     "metadata": {},
     "output_type": "execute_result"
    }
   ],
   "source": [
    "#dropping all unnecessary columns\n",
    "conv_rate_a.drop('group', axis=1, inplace=True)\n",
    "#conv_rate_a.drop('total_orders', axis=1, inplace=True)\n",
    "conv_rate_a.drop('visits', axis=1, inplace=True)\n",
    "#conv_rate_a.drop('cum_buyers', axis=1, inplace=True)\n",
    "conv_rate_a.drop('cum_visits', axis=1, inplace=True)\n",
    "conv_rate_a.drop('uniq_buyers', axis=1, inplace=True)\n",
    "\n",
    "conv_rate_b.drop('group', axis=1, inplace=True)\n",
    "#conv_rate_b.drop('total_orders', axis=1, inplace=True)\n",
    "conv_rate_b.drop('visits', axis=1, inplace=True)\n",
    "#conv_rate_b.drop('cum_buyers', axis=1, inplace=True)\n",
    "conv_rate_b.drop('cum_visits', axis=1, inplace=True)\n",
    "conv_rate_b.drop('uniq_buyers', axis=1, inplace=True)\n",
    "conv_rate_b.head()"
   ]
  },
  {
   "cell_type": "code",
   "execution_count": 48,
   "metadata": {},
   "outputs": [
    {
     "data": {
      "text/html": [
       "<div>\n",
       "<style scoped>\n",
       "    .dataframe tbody tr th:only-of-type {\n",
       "        vertical-align: middle;\n",
       "    }\n",
       "\n",
       "    .dataframe tbody tr th {\n",
       "        vertical-align: top;\n",
       "    }\n",
       "\n",
       "    .dataframe thead th {\n",
       "        text-align: right;\n",
       "    }\n",
       "</style>\n",
       "<table border=\"1\" class=\"dataframe\">\n",
       "  <thead>\n",
       "    <tr style=\"text-align: right;\">\n",
       "      <th></th>\n",
       "      <th>conv_rate_a</th>\n",
       "      <th>conv_rate_b</th>\n",
       "    </tr>\n",
       "    <tr>\n",
       "      <th>date</th>\n",
       "      <th></th>\n",
       "      <th></th>\n",
       "    </tr>\n",
       "  </thead>\n",
       "  <tbody>\n",
       "    <tr>\n",
       "      <th>2019-08-01</th>\n",
       "      <td>2.781641</td>\n",
       "      <td>2.805049</td>\n",
       "    </tr>\n",
       "    <tr>\n",
       "      <th>2019-08-02</th>\n",
       "      <td>3.069467</td>\n",
       "      <td>3.958692</td>\n",
       "    </tr>\n",
       "    <tr>\n",
       "      <th>2019-08-03</th>\n",
       "      <td>4.733728</td>\n",
       "      <td>3.143418</td>\n",
       "    </tr>\n",
       "    <tr>\n",
       "      <th>2019-08-04</th>\n",
       "      <td>2.092050</td>\n",
       "      <td>2.077922</td>\n",
       "    </tr>\n",
       "    <tr>\n",
       "      <th>2019-08-05</th>\n",
       "      <td>3.306878</td>\n",
       "      <td>3.253182</td>\n",
       "    </tr>\n",
       "  </tbody>\n",
       "</table>\n",
       "</div>"
      ],
      "text/plain": [
       "            conv_rate_a  conv_rate_b\n",
       "date                                \n",
       "2019-08-01     2.781641     2.805049\n",
       "2019-08-02     3.069467     3.958692\n",
       "2019-08-03     4.733728     3.143418\n",
       "2019-08-04     2.092050     2.077922\n",
       "2019-08-05     3.306878     3.253182"
      ]
     },
     "execution_count": 48,
     "metadata": {},
     "output_type": "execute_result"
    }
   ],
   "source": [
    "#combining both tables\n",
    "conv_rate_merged= pd.merge(conv_rate_a, conv_rate_b, on= 'date').set_index('date')\n",
    "conv_rate_merged.head()"
   ]
  },
  {
   "cell_type": "code",
   "execution_count": 49,
   "metadata": {},
   "outputs": [
    {
     "data": {
      "image/png": "[encoded data removed]",
      "text/plain": [
       "<Figure size 1080x504 with 1 Axes>"
      ]
     },
     "metadata": {
      "needs_background": "light"
     },
     "output_type": "display_data"
    }
   ],
   "source": [
    "#line plot to show conversion rates for group A and B\n",
    "conv_rate_merged.plot(kind= 'line', figsize= (15,7))\n",
    "plt.title('CONVERSION RATE BY GROUP', size= 20)\n",
    "plt.xlabel('DATE', size= 15)\n",
    "plt.ylabel('CONVERSION RATE', size= 15)\n",
    "plt.show()"
   ]
  },
  {
   "cell_type": "markdown",
   "metadata": {},
   "source": [
    "Customers for both group A and B seem to be making their first purchases within the first week. After that, it drops for both groups. Generally both groups decrease after the first week of the month."
   ]
  },
  {
   "cell_type": "code",
   "execution_count": 50,
   "metadata": {},
   "outputs": [
    {
     "data": {
      "text/plain": [
       "(1171, 1031)"
      ]
     },
     "execution_count": 50,
     "metadata": {},
     "output_type": "execute_result"
    }
   ],
   "source": [
    "# the reviewer's cell:\n",
    "group_conversion.uniq_buyers.sum(), orders.visitor_id.nunique()\n"
   ]
  },
  {
   "cell_type": "code",
   "execution_count": 51,
   "metadata": {},
   "outputs": [
    {
     "data": {
      "text/html": [
       "<div>\n",
       "<style scoped>\n",
       "    .dataframe tbody tr th:only-of-type {\n",
       "        vertical-align: middle;\n",
       "    }\n",
       "\n",
       "    .dataframe tbody tr th {\n",
       "        vertical-align: top;\n",
       "    }\n",
       "\n",
       "    .dataframe thead th {\n",
       "        text-align: right;\n",
       "    }\n",
       "</style>\n",
       "<table border=\"1\" class=\"dataframe\">\n",
       "  <thead>\n",
       "    <tr style=\"text-align: right;\">\n",
       "      <th></th>\n",
       "      <th>date</th>\n",
       "      <th>group</th>\n",
       "      <th>orders</th>\n",
       "      <th>buyers</th>\n",
       "      <th>revenue</th>\n",
       "      <th>visits</th>\n",
       "    </tr>\n",
       "  </thead>\n",
       "  <tbody>\n",
       "    <tr>\n",
       "      <th>0</th>\n",
       "      <td>2019-08-01</td>\n",
       "      <td>A</td>\n",
       "      <td>24</td>\n",
       "      <td>20</td>\n",
       "      <td>2356.8</td>\n",
       "      <td>719</td>\n",
       "    </tr>\n",
       "    <tr>\n",
       "      <th>1</th>\n",
       "      <td>2019-08-01</td>\n",
       "      <td>B</td>\n",
       "      <td>21</td>\n",
       "      <td>20</td>\n",
       "      <td>1620.0</td>\n",
       "      <td>713</td>\n",
       "    </tr>\n",
       "    <tr>\n",
       "      <th>2</th>\n",
       "      <td>2019-08-02</td>\n",
       "      <td>A</td>\n",
       "      <td>44</td>\n",
       "      <td>38</td>\n",
       "      <td>3860.3</td>\n",
       "      <td>1338</td>\n",
       "    </tr>\n",
       "    <tr>\n",
       "      <th>3</th>\n",
       "      <td>2019-08-02</td>\n",
       "      <td>B</td>\n",
       "      <td>45</td>\n",
       "      <td>43</td>\n",
       "      <td>4243.8</td>\n",
       "      <td>1294</td>\n",
       "    </tr>\n",
       "    <tr>\n",
       "      <th>4</th>\n",
       "      <td>2019-08-03</td>\n",
       "      <td>A</td>\n",
       "      <td>68</td>\n",
       "      <td>62</td>\n",
       "      <td>5675.5</td>\n",
       "      <td>1845</td>\n",
       "    </tr>\n",
       "  </tbody>\n",
       "</table>\n",
       "</div>"
      ],
      "text/plain": [
       "        date group  orders  buyers  revenue  visits\n",
       "0 2019-08-01     A      24      20   2356.8     719\n",
       "1 2019-08-01     B      21      20   1620.0     713\n",
       "2 2019-08-02     A      44      38   3860.3    1338\n",
       "3 2019-08-02     B      45      43   4243.8    1294\n",
       "4 2019-08-03     A      68      62   5675.5    1845"
      ]
     },
     "execution_count": 51,
     "metadata": {},
     "output_type": "execute_result"
    }
   ],
   "source": [
    "# the reviewer's cell: the code from Practicum sprint data:\n",
    "\n",
    "# make the dataframes with unique dates for each group:\n",
    "datesGroups = orders[['date','group']].drop_duplicates()\n",
    "\n",
    "# agregate the data for orders - calculate for each day of the test the number of unique buyers \n",
    "# who made a purchase from the start of the test to the day for which we look at the statistics:\n",
    "ordersAggregated = datesGroups.apply(\n",
    "lambda x: orders[np.logical_and(orders['date'] <= x['date'], orders['group'] == x['group'])].agg({\n",
    "    'date' : 'max',\n",
    "    'group' : 'max',\n",
    "    'transaction_id' : 'nunique',\n",
    "    'visitor_id' : 'nunique',\n",
    "    'revenue' : 'sum'}), axis=1).sort_values(by=['date','group'])\n",
    "\n",
    "# make same for visits data:\n",
    "visitsAggregated = datesGroups.apply(\n",
    "lambda x: visits[np.logical_and(visits['date'] <= x['date'], visits['group'] == x['group'])].agg({\n",
    "    'date' : 'max',\n",
    "    'group' : 'max',\n",
    "    'visits' : 'sum'}), axis=1).sort_values(by=['date','group'])\n",
    "\n",
    "# merge data:\n",
    "cummulativeData = ordersAggregated.merge(visitsAggregated, left_on=['date', 'group'], right_on=['date', 'group'])\n",
    "cummulativeData.columns = ['date', 'group', 'orders', 'buyers', 'revenue', 'visits']\n",
    "\n",
    "cummulativeData.head(5)"
   ]
  },
  {
   "cell_type": "code",
   "execution_count": 52,
   "metadata": {},
   "outputs": [
    {
     "data": {
      "text/plain": [
       "(503, 503)"
      ]
     },
     "execution_count": 52,
     "metadata": {},
     "output_type": "execute_result"
    }
   ],
   "source": [
    "# the reviewer's cell: check the overall number of users:\n",
    "cummulativeData.query('group == \"A\"').buyers.max(), orders.query('group == \"A\"').visitor_id.nunique()"
   ]
  },
  {
   "cell_type": "code",
   "execution_count": 53,
   "metadata": {},
   "outputs": [
    {
     "data": {
      "text/plain": [
       "(586, 586)"
      ]
     },
     "execution_count": 53,
     "metadata": {},
     "output_type": "execute_result"
    }
   ],
   "source": [
    "# the reviewer's cell: check the overall number of users:\n",
    "cummulativeData.query('group == \"B\"').buyers.max(), orders.query('group == \"B\"').visitor_id.nunique()"
   ]
  },
  {
   "cell_type": "code",
   "execution_count": 54,
   "metadata": {},
   "outputs": [
    {
     "data": {
      "image/png": "[encoded data removed]",
      "text/plain": [
       "<Figure size 1080x504 with 1 Axes>"
      ]
     },
     "metadata": {
      "needs_background": "light"
     },
     "output_type": "display_data"
    }
   ],
   "source": [
    "#line plot to show conversion rates for group A and B\n",
    "\n",
    "plt.figure(figsize=(15,7))\n",
    "\n",
    "cummulativeData['conversion'] = cummulativeData['orders']/cummulativeData['visits']\n",
    "cummulativeDataA = cummulativeData[cummulativeData['group']=='A']\n",
    "cummulativeDataB = cummulativeData[cummulativeData['group']=='B']\n",
    "\n",
    "plt.plot(cummulativeDataA['date'], cummulativeDataA['conversion'], label='A')\n",
    "plt.plot(cummulativeDataB['date'], cummulativeDataB['conversion'], label='B')\n",
    "\n",
    "plt.title('CONVERSION RATE BY GROUP', size= 20)\n",
    "plt.xlabel('DATE', size= 15)\n",
    "plt.ylabel('CONVERSION RATE', size= 15)\n",
    "plt.show()"
   ]
  },
  {
   "cell_type": "markdown",
   "metadata": {},
   "source": [
    "<b>Scatter chart of the number of orders per user</b>"
   ]
  },
  {
   "cell_type": "code",
   "execution_count": 55,
   "metadata": {},
   "outputs": [
    {
     "data": {
      "text/html": [
       "<div>\n",
       "<style scoped>\n",
       "    .dataframe tbody tr th:only-of-type {\n",
       "        vertical-align: middle;\n",
       "    }\n",
       "\n",
       "    .dataframe tbody tr th {\n",
       "        vertical-align: top;\n",
       "    }\n",
       "\n",
       "    .dataframe thead th {\n",
       "        text-align: right;\n",
       "    }\n",
       "</style>\n",
       "<table border=\"1\" class=\"dataframe\">\n",
       "  <thead>\n",
       "    <tr style=\"text-align: right;\">\n",
       "      <th></th>\n",
       "      <th>transaction_id</th>\n",
       "      <th>visitor_id</th>\n",
       "      <th>date</th>\n",
       "      <th>revenue</th>\n",
       "      <th>group</th>\n",
       "    </tr>\n",
       "  </thead>\n",
       "  <tbody>\n",
       "    <tr>\n",
       "      <th>0</th>\n",
       "      <td>3667963787</td>\n",
       "      <td>3312258926</td>\n",
       "      <td>2019-08-15</td>\n",
       "      <td>30.4</td>\n",
       "      <td>B</td>\n",
       "    </tr>\n",
       "    <tr>\n",
       "      <th>1</th>\n",
       "      <td>2804400009</td>\n",
       "      <td>3642806036</td>\n",
       "      <td>2019-08-15</td>\n",
       "      <td>15.2</td>\n",
       "      <td>B</td>\n",
       "    </tr>\n",
       "    <tr>\n",
       "      <th>2</th>\n",
       "      <td>2961555356</td>\n",
       "      <td>4069496402</td>\n",
       "      <td>2019-08-15</td>\n",
       "      <td>10.2</td>\n",
       "      <td>A</td>\n",
       "    </tr>\n",
       "    <tr>\n",
       "      <th>3</th>\n",
       "      <td>3797467345</td>\n",
       "      <td>1196621759</td>\n",
       "      <td>2019-08-15</td>\n",
       "      <td>155.1</td>\n",
       "      <td>B</td>\n",
       "    </tr>\n",
       "    <tr>\n",
       "      <th>4</th>\n",
       "      <td>2282983706</td>\n",
       "      <td>2322279887</td>\n",
       "      <td>2019-08-15</td>\n",
       "      <td>40.5</td>\n",
       "      <td>B</td>\n",
       "    </tr>\n",
       "  </tbody>\n",
       "</table>\n",
       "</div>"
      ],
      "text/plain": [
       "   transaction_id  visitor_id       date  revenue group\n",
       "0      3667963787  3312258926 2019-08-15     30.4     B\n",
       "1      2804400009  3642806036 2019-08-15     15.2     B\n",
       "2      2961555356  4069496402 2019-08-15     10.2     A\n",
       "3      3797467345  1196621759 2019-08-15    155.1     B\n",
       "4      2282983706  2322279887 2019-08-15     40.5     B"
      ]
     },
     "execution_count": 55,
     "metadata": {},
     "output_type": "execute_result"
    }
   ],
   "source": [
    "orders.head()"
   ]
  },
  {
   "cell_type": "code",
   "execution_count": 56,
   "metadata": {
    "scrolled": true
   },
   "outputs": [
    {
     "data": {
      "text/html": [
       "<div>\n",
       "<style scoped>\n",
       "    .dataframe tbody tr th:only-of-type {\n",
       "        vertical-align: middle;\n",
       "    }\n",
       "\n",
       "    .dataframe tbody tr th {\n",
       "        vertical-align: top;\n",
       "    }\n",
       "\n",
       "    .dataframe thead th {\n",
       "        text-align: right;\n",
       "    }\n",
       "</style>\n",
       "<table border=\"1\" class=\"dataframe\">\n",
       "  <thead>\n",
       "    <tr style=\"text-align: right;\">\n",
       "      <th></th>\n",
       "      <th>visitor_id</th>\n",
       "      <th>group</th>\n",
       "      <th>orders_count</th>\n",
       "    </tr>\n",
       "  </thead>\n",
       "  <tbody>\n",
       "    <tr>\n",
       "      <th>0</th>\n",
       "      <td>5114589</td>\n",
       "      <td>B</td>\n",
       "      <td>1</td>\n",
       "    </tr>\n",
       "    <tr>\n",
       "      <th>1</th>\n",
       "      <td>6958315</td>\n",
       "      <td>B</td>\n",
       "      <td>1</td>\n",
       "    </tr>\n",
       "    <tr>\n",
       "      <th>2</th>\n",
       "      <td>8300375</td>\n",
       "      <td>A</td>\n",
       "      <td>1</td>\n",
       "    </tr>\n",
       "    <tr>\n",
       "      <th>3</th>\n",
       "      <td>8300375</td>\n",
       "      <td>B</td>\n",
       "      <td>1</td>\n",
       "    </tr>\n",
       "    <tr>\n",
       "      <th>4</th>\n",
       "      <td>11685486</td>\n",
       "      <td>A</td>\n",
       "      <td>1</td>\n",
       "    </tr>\n",
       "  </tbody>\n",
       "</table>\n",
       "</div>"
      ],
      "text/plain": [
       "   visitor_id group  orders_count\n",
       "0     5114589     B             1\n",
       "1     6958315     B             1\n",
       "2     8300375     A             1\n",
       "3     8300375     B             1\n",
       "4    11685486     A             1"
      ]
     },
     "execution_count": 56,
     "metadata": {},
     "output_type": "execute_result"
    }
   ],
   "source": [
    "orders_per_user= orders.groupby(['visitor_id','group'])['transaction_id'].count().reset_index()\n",
    "orders_per_user= orders_per_user.rename(columns= {'transaction_id':'orders_count'})\n",
    "\n",
    "orders_per_user.head()"
   ]
  },
  {
   "cell_type": "code",
   "execution_count": 57,
   "metadata": {},
   "outputs": [
    {
     "data": {
      "image/png": "[encoded data removed]",
      "text/plain": [
       "<Figure size 1080x432 with 1 Axes>"
      ]
     },
     "metadata": {
      "needs_background": "light"
     },
     "output_type": "display_data"
    }
   ],
   "source": [
    "fig, ax = plt.subplots()\n",
    "\n",
    "colors = {'A':'red', 'B':'green'}\n",
    "\n",
    "grouped = orders_per_user.groupby('group')\n",
    "for key, group in grouped:\n",
    "    group.plot(ax=ax, kind='scatter', x='visitor_id', y='orders_count', label=key, color=colors[key],figsize= (15,6))\n",
    "\n",
    "plt.title('ORDERS PER USER')\n",
    "plt.xlabel(\"VISITORS\")\n",
    "plt.ylabel(\"ORDERS\")\n",
    "plt.show()"
   ]
  },
  {
   "cell_type": "code",
   "execution_count": 58,
   "metadata": {},
   "outputs": [],
   "source": [
    "#orders_per_user.plot(x= 'visitor_id', y= 'orders_count',kind= 'scatter', figsize= (15,6))\n",
    "#plt.title('ORDERS PER USER')\n",
    "#plt.xlabel(\"VISITORS\")\n",
    "#plt.ylabel(\"ORDERS\")\n",
    "\n",
    "#plt.show()\n"
   ]
  },
  {
   "cell_type": "markdown",
   "metadata": {},
   "source": [
    "There are users who make between 2 to 11 purchases, but the majority of users seem to only make one purchase. "
   ]
  },
  {
   "cell_type": "markdown",
   "metadata": {},
   "source": [
    "<b>The 95th and 99th percentiles for the number of orders per user</b>"
   ]
  },
  {
   "cell_type": "code",
   "execution_count": 59,
   "metadata": {},
   "outputs": [
    {
     "name": "stdout",
     "output_type": "stream",
     "text": [
      "In the 95th percentile, users only purchased 2 orders\n",
      "In the 99th percentile, users only purchased 4 orders\n"
     ]
    }
   ],
   "source": [
    "percentile_95, percentile_99 = np.percentile(orders_per_user['orders_count'], [95, 99])\n",
    "\n",
    "print(f'In the 95th percentile, users only purchased {int(percentile_95)} orders')\n",
    "print(f'In the 99th percentile, users only purchased {int(percentile_99)} orders')"
   ]
  },
  {
   "cell_type": "markdown",
   "metadata": {},
   "source": [
    "<b>Scatter chart of order prices</b>"
   ]
  },
  {
   "cell_type": "code",
   "execution_count": 60,
   "metadata": {},
   "outputs": [
    {
     "data": {
      "text/html": [
       "<div>\n",
       "<style scoped>\n",
       "    .dataframe tbody tr th:only-of-type {\n",
       "        vertical-align: middle;\n",
       "    }\n",
       "\n",
       "    .dataframe tbody tr th {\n",
       "        vertical-align: top;\n",
       "    }\n",
       "\n",
       "    .dataframe thead th {\n",
       "        text-align: right;\n",
       "    }\n",
       "</style>\n",
       "<table border=\"1\" class=\"dataframe\">\n",
       "  <thead>\n",
       "    <tr style=\"text-align: right;\">\n",
       "      <th></th>\n",
       "      <th>transaction_id</th>\n",
       "      <th>visitor_id</th>\n",
       "      <th>date</th>\n",
       "      <th>revenue</th>\n",
       "      <th>group</th>\n",
       "    </tr>\n",
       "  </thead>\n",
       "  <tbody>\n",
       "    <tr>\n",
       "      <th>0</th>\n",
       "      <td>3667963787</td>\n",
       "      <td>3312258926</td>\n",
       "      <td>2019-08-15</td>\n",
       "      <td>30.4</td>\n",
       "      <td>B</td>\n",
       "    </tr>\n",
       "    <tr>\n",
       "      <th>1</th>\n",
       "      <td>2804400009</td>\n",
       "      <td>3642806036</td>\n",
       "      <td>2019-08-15</td>\n",
       "      <td>15.2</td>\n",
       "      <td>B</td>\n",
       "    </tr>\n",
       "    <tr>\n",
       "      <th>2</th>\n",
       "      <td>2961555356</td>\n",
       "      <td>4069496402</td>\n",
       "      <td>2019-08-15</td>\n",
       "      <td>10.2</td>\n",
       "      <td>A</td>\n",
       "    </tr>\n",
       "    <tr>\n",
       "      <th>3</th>\n",
       "      <td>3797467345</td>\n",
       "      <td>1196621759</td>\n",
       "      <td>2019-08-15</td>\n",
       "      <td>155.1</td>\n",
       "      <td>B</td>\n",
       "    </tr>\n",
       "    <tr>\n",
       "      <th>4</th>\n",
       "      <td>2282983706</td>\n",
       "      <td>2322279887</td>\n",
       "      <td>2019-08-15</td>\n",
       "      <td>40.5</td>\n",
       "      <td>B</td>\n",
       "    </tr>\n",
       "  </tbody>\n",
       "</table>\n",
       "</div>"
      ],
      "text/plain": [
       "   transaction_id  visitor_id       date  revenue group\n",
       "0      3667963787  3312258926 2019-08-15     30.4     B\n",
       "1      2804400009  3642806036 2019-08-15     15.2     B\n",
       "2      2961555356  4069496402 2019-08-15     10.2     A\n",
       "3      3797467345  1196621759 2019-08-15    155.1     B\n",
       "4      2282983706  2322279887 2019-08-15     40.5     B"
      ]
     },
     "execution_count": 60,
     "metadata": {},
     "output_type": "execute_result"
    }
   ],
   "source": [
    "orders.head()"
   ]
  },
  {
   "cell_type": "code",
   "execution_count": 61,
   "metadata": {
    "scrolled": false
   },
   "outputs": [
    {
     "data": {
      "image/png": "[encoded data removed]",
      "text/plain": [
       "<Figure size 864x288 with 1 Axes>"
      ]
     },
     "metadata": {
      "needs_background": "light"
     },
     "output_type": "display_data"
    }
   ],
   "source": [
    "plt.figure(figsize=(12, 4))\n",
    "sns.scatterplot(data=orders.sort_values(by='revenue', ascending=False),\n",
    "                x='transaction_id',\n",
    "                y='revenue').set(xlabel='ORDERS',\n",
    "                                 ylabel='REVENUE',\n",
    "                                 title='ORDER PRICES')\n",
    "sns.despine();"
   ]
  },
  {
   "cell_type": "markdown",
   "metadata": {},
   "source": [
    "Looks like most of the orders are below 2,500. However there is one order that is around 20,000. This is definitely an anomaly. "
   ]
  },
  {
   "cell_type": "markdown",
   "metadata": {},
   "source": [
    "<b>The 95th and 99th percentiles of order prices. Define the point at which a data point becomes an anomaly.</b>\n",
    "\n"
   ]
  },
  {
   "cell_type": "code",
   "execution_count": 62,
   "metadata": {
    "scrolled": true
   },
   "outputs": [
    {
     "name": "stdout",
     "output_type": "stream",
     "text": [
      "No more than 5% of customers placed orders above 435 in revenue\n",
      "No more than 1% of customers placed orders above 900 in revenue\n"
     ]
    }
   ],
   "source": [
    "percentile_price_95, percentile_price_99 = np.percentile(orders['revenue'], [95, 99])\n",
    "\n",
    "print(f'No more than 5% of customers placed orders above {int(percentile_price_95)} in revenue')\n",
    "print(f'No more than 1% of customers placed orders above {int(percentile_price_99)} in revenue')"
   ]
  },
  {
   "cell_type": "markdown",
   "metadata": {},
   "source": [
    "# A/B Testing"
   ]
  },
  {
   "cell_type": "markdown",
   "metadata": {},
   "source": [
    "<b>Statistical significance of the difference in conversion between the groups using the raw data</b>\n",
    "\n"
   ]
  },
  {
   "cell_type": "markdown",
   "metadata": {},
   "source": [
    "Since there is an outlier that will significantly skew the data, we'll use the Mann-Whitney U test. The key idea behind the test is to rank two samples in ascending order and compare the ranks of values that appear in both samples (i.e. in which position they appear in the samples). If the differences between their ranks are the same from sample to sample, this means the shift is typical. That means some values were simply added, causing the rest to shift."
   ]
  },
  {
   "cell_type": "markdown",
   "metadata": {},
   "source": [
    "Null Hypothesis: There is no significant statistical difference in conversion between group A and B\n",
    "    \n",
    "Alternate Hypothesis: There is a significant statistical difference in conversion between group A and B"
   ]
  },
  {
   "cell_type": "code",
   "execution_count": 63,
   "metadata": {},
   "outputs": [
    {
     "name": "stdout",
     "output_type": "stream",
     "text": [
      "P-Value: 0.020456112148351076\n",
      "Null hypothesis rejected: the difference is statistically significant\n",
      "Sample A Mean Value: 0.03\n",
      "Sample B Mean Value: 0.034\n",
      "Relative difference: 13.31%\n"
     ]
    }
   ],
   "source": [
    "# separating group A and B and grouping by visitor_id and unique transactions\n",
    "ordersByUsersA = orders[orders['group'] == 'A'].groupby('visitor_id', as_index=False).agg({'transaction_id': pd.Series.nunique})\n",
    "ordersByUsersA.columns = ['user_id', 'orders']\n",
    "\n",
    "ordersByUsersB = orders[orders['group'] == 'B'].groupby('visitor_id', as_index=False).agg({'transaction_id': pd.Series.nunique})\n",
    "ordersByUsersB.columns = ['user_id', 'orders']\n",
    "\n",
    "# delcare vars with users from different groups and the number of users / group\n",
    "sampleA = pd.concat([ordersByUsersA['orders'], pd.Series(0, index = np.arange(visits[visits['group'] == 'A']['visits'].sum() - len(ordersByUsersA['orders'])), name='orders')], axis=0)\n",
    "\n",
    "sampleB = pd.concat([ordersByUsersB['orders'], pd.Series(0, index = np.arange(visits[visits['group'] == 'B']['visits'].sum() - len(ordersByUsersA['orders'])), name='orders')], axis=0)\n",
    "\n",
    "p_value = st.mannwhitneyu(sampleA, sampleB)[1]\n",
    "print('P-Value:',p_value)\n",
    "\n",
    "alpha = 0.05\n",
    "\n",
    "if p_value < alpha:\n",
    "    print('Null hypothesis rejected: the difference is statistically significant')\n",
    "else:\n",
    "    print('Failed to reject the Null Hypothesis: we can\\'t make conclusions about the difference')\n",
    "    \n",
    "print(\"Sample A Mean Value:\",sampleA.mean().round(decimals= 3))\n",
    "print(\"Sample B Mean Value:\",sampleB.mean().round(decimals= 3))      \n",
    "print(\"Relative difference: {0:.2f}%\".format((sampleB.mean() / sampleA.mean() - 1) * 100))\n"
   ]
  },
  {
   "cell_type": "markdown",
   "metadata": {},
   "source": [
    "Since the p_value is less than the alpha level 0.05, we can reject the null hypothesis. The difference between the conversion rate of groups A and B is statistically significant. This means there is a non-typical shift in the data."
   ]
  },
  {
   "cell_type": "markdown",
   "metadata": {},
   "source": [
    "<b>Statistical significance of the difference in average order size between the groups using the raw data</b>\n",
    "\n"
   ]
  },
  {
   "cell_type": "code",
   "execution_count": 64,
   "metadata": {
    "scrolled": true
   },
   "outputs": [
    {
     "name": "stdout",
     "output_type": "stream",
     "text": [
      "P-Value: 0.692\n",
      "Failed to reject the Null Hypothesis: we can't make conclusions about the difference\n"
     ]
    }
   ],
   "source": [
    "#using the Mann-Whitney U to test the group A versus group B revenues\n",
    "p_value = st.mannwhitneyu(orders[orders['group'] == 'A']['revenue'], orders[orders['group'] == 'B']['revenue'])[1]\n",
    "print(\"P-Value: {0:.3f}\".format(p_value))\n",
    "alpha = 0.05\n",
    "\n",
    "if p_value < alpha:\n",
    "    print('Null hypothesis rejected: the difference is statistically significant')\n",
    "else:\n",
    "    print('Failed to reject the Null Hypothesis: we can\\'t make conclusions about the difference')"
   ]
  },
  {
   "cell_type": "markdown",
   "metadata": {},
   "source": [
    "Since the p_value is more than the alpha level 0.05, we fail to reject the null hypothesis. We can't make any conclusions that there is a significant difference between the average order size between groups A and B. This means there is a typical shift in the data."
   ]
  },
  {
   "cell_type": "markdown",
   "metadata": {},
   "source": [
    "<b>Statistical significance of the difference in conversion between the groups using the filtered data</b>\n",
    "\n"
   ]
  },
  {
   "cell_type": "code",
   "execution_count": 65,
   "metadata": {},
   "outputs": [],
   "source": [
    "# get all visits for each group\n",
    "\n",
    "all_visits_A = visits.query('group == \"A\"')['visits'].sum()\n",
    "all_visits_B = visits.query('group == \"B\"')['visits'].sum()"
   ]
  },
  {
   "cell_type": "code",
   "execution_count": 66,
   "metadata": {
    "scrolled": true
   },
   "outputs": [
    {
     "name": "stdout",
     "output_type": "stream",
     "text": [
      "P-Value: 0.017\n",
      "Null hypothesis rejected: the difference is statistically significant\n",
      "Relative difference: 13.81%\n"
     ]
    }
   ],
   "source": [
    "# creating sample variables for group A and B for number of orders\n",
    "\n",
    "sample_A = orders.query('group == \"A\"').groupby('visitor_id')['transaction_id'].count().reset_index()\n",
    "sample_A = sample_A.drop('visitor_id', axis=1).sort_values(by='transaction_id', ascending=False).reset_index(drop=True)\n",
    "sample_A = sample_A.squeeze()\n",
    "sample_A = sample_A.append(pd.Series(0, index=np.arange(all_visits_A - len(sample_A))))\n",
    "\n",
    "sample_B = orders.query('group == \"B\"').groupby('visitor_id')['transaction_id'].count().reset_index()\n",
    "sample_B = sample_B.drop('visitor_id', axis=1).sort_values(by='transaction_id', ascending=False).reset_index(drop=True)\n",
    "sample_B = sample_B.squeeze()\n",
    "sample_B = sample_B.append(pd.Series(0, index=np.arange(all_visits_B - len(sample_B))))\n",
    "\n",
    "alpha = 0.05\n",
    "\n",
    "results = st.mannwhitneyu(sample_A, sample_B)[1]\n",
    "\n",
    "print(\"P-Value: {0:.3f}\".format(results))\n",
    "\n",
    "if (results < alpha):\n",
    "    print(\"Null hypothesis rejected: the difference is statistically significant\")\n",
    "else:\n",
    "    print(\"Failed to reject the null hypothesis: we can't make conclusions about the difference\")\n",
    "\n",
    "print(\"Relative difference: {0:.2f}%\".format((sample_B.mean() / sample_A.mean() - 1) * 100)) "
   ]
  },
  {
   "cell_type": "markdown",
   "metadata": {},
   "source": [
    "Since the p_value is less than the alpha level 0.05, we can reject the null hypothesis. The difference between the conversion rate of groups A and B is statistically significant. This means there is a non-typical shift in the data."
   ]
  },
  {
   "cell_type": "markdown",
   "metadata": {},
   "source": [
    "<b>Statistical significance of the difference in average order size between the groups using the filtered data</b>\n"
   ]
  },
  {
   "cell_type": "code",
   "execution_count": 67,
   "metadata": {},
   "outputs": [
    {
     "name": "stdout",
     "output_type": "stream",
     "text": [
      "P-Value: 0.585\n",
      "Failed to reject the null hypothesis: we can't make conclusions about the difference\n",
      "Relative difference: 1.81%\n"
     ]
    }
   ],
   "source": [
    "# filter revenue data to exclude any anomalies\n",
    "revenue_lim = percentile_price_99\n",
    "filtered_revenue_A = orders.query('(group == \"A\") & (revenue <= @revenue_lim)')['revenue']\n",
    "filtered_revenue_B = orders.query('(group == \"B\") & (revenue <= @revenue_lim)')['revenue']\n",
    "#filtered_revenue_A = orders.query('(group == \"A\") & (revenue <= 900)')['revenue']\n",
    "#filtered_revenue_B = orders.query('(group == \"B\") & (revenue <= 900)')['revenue']\n",
    "\n",
    "# run Mann-Whitney U test\n",
    "\n",
    "results= st.mannwhitneyu(filtered_revenue_A, filtered_revenue_B)[1]\n",
    "\n",
    "print('P-Value: {0:.3f}'.format(results))\n",
    "\n",
    "if (results < alpha):\n",
    "    print(\"Null hypothesis rejected: the difference is statistically significant\")\n",
    "else:\n",
    "    print(\"Failed to reject the null hypothesis: we can't make conclusions about the difference\")\n",
    "\n",
    "print('Relative difference: {0:.2f}%'.format((filtered_revenue_B.mean() / filtered_revenue_A.mean()-1) * 100)) "
   ]
  },
  {
   "cell_type": "markdown",
   "metadata": {},
   "source": [
    "Since the p_value is more than the alpha level 0.05, we fail to reject the null hypothesis. We can't make any conclusions that there is a significant difference between the average order size between groups A and B. This means there is a typical shift in the data."
   ]
  },
  {
   "cell_type": "markdown",
   "metadata": {},
   "source": [
    "<b>Make a decision based on the test results. The possible decisions are:</b> \n",
    "1. Stop the test, consider one of the groups the leader. \n",
    "2. Stop the test, conclude that there is no difference between the groups. \n",
    "3. Continue the test."
   ]
  },
  {
   "cell_type": "markdown",
   "metadata": {},
   "source": [
    "There seems to be a significant difference in conversion rate between group A and B, with group B performing better. When it comes to order size by group, group B has a significantly larger order size than group A. We can make a decision based on our results and conclude that group B is the leader. "
   ]
  }
 ],
 "metadata": {
  "ExecuteTimeLog": [
   {
    "duration": 80,
    "start_time": "2022-08-24T22:46:07.161Z"
   },
   {
    "duration": 4,
    "start_time": "2022-08-25T17:02:30.443Z"
   },
   {
    "duration": 1297,
    "start_time": "2022-08-25T17:06:05.066Z"
   },
   {
    "duration": 1092,
    "start_time": "2022-08-25T17:12:40.565Z"
   },
   {
    "duration": 217,
    "start_time": "2022-08-25T17:12:41.659Z"
   },
   {
    "duration": 13,
    "start_time": "2022-08-25T17:13:44.967Z"
   },
   {
    "duration": 7,
    "start_time": "2022-08-25T17:13:51.092Z"
   },
   {
    "duration": 1220,
    "start_time": "2022-08-25T17:15:17.503Z"
   },
   {
    "duration": 80,
    "start_time": "2022-08-25T17:15:18.726Z"
   },
   {
    "duration": 12,
    "start_time": "2022-08-25T17:15:18.808Z"
   },
   {
    "duration": 13,
    "start_time": "2022-08-25T17:17:26.791Z"
   },
   {
    "duration": 22,
    "start_time": "2022-08-25T17:17:52.105Z"
   },
   {
    "duration": 8,
    "start_time": "2022-08-25T17:18:19.817Z"
   },
   {
    "duration": 1227,
    "start_time": "2022-08-25T17:18:25.829Z"
   },
   {
    "duration": 73,
    "start_time": "2022-08-25T17:18:27.058Z"
   },
   {
    "duration": 12,
    "start_time": "2022-08-25T17:18:27.133Z"
   },
   {
    "duration": 12,
    "start_time": "2022-08-25T17:18:27.146Z"
   },
   {
    "duration": 26,
    "start_time": "2022-08-25T17:18:27.160Z"
   },
   {
    "duration": 7,
    "start_time": "2022-08-25T17:18:27.187Z"
   },
   {
    "duration": 12,
    "start_time": "2022-08-25T17:18:27.195Z"
   },
   {
    "duration": 8,
    "start_time": "2022-08-25T17:22:05.096Z"
   },
   {
    "duration": 9,
    "start_time": "2022-08-25T17:22:24.830Z"
   },
   {
    "duration": 1214,
    "start_time": "2022-08-25T17:22:31.355Z"
   },
   {
    "duration": 76,
    "start_time": "2022-08-25T17:22:32.571Z"
   },
   {
    "duration": 15,
    "start_time": "2022-08-25T17:22:32.650Z"
   },
   {
    "duration": 15,
    "start_time": "2022-08-25T17:22:32.666Z"
   },
   {
    "duration": 27,
    "start_time": "2022-08-25T17:22:32.683Z"
   },
   {
    "duration": 12,
    "start_time": "2022-08-25T17:22:32.712Z"
   },
   {
    "duration": 14,
    "start_time": "2022-08-25T17:22:32.726Z"
   },
   {
    "duration": 104,
    "start_time": "2022-08-25T17:24:23.035Z"
   },
   {
    "duration": 10,
    "start_time": "2022-08-25T17:24:29.637Z"
   },
   {
    "duration": 1250,
    "start_time": "2022-08-25T17:24:48.139Z"
   },
   {
    "duration": 76,
    "start_time": "2022-08-25T17:24:49.391Z"
   },
   {
    "duration": 12,
    "start_time": "2022-08-25T17:24:49.469Z"
   },
   {
    "duration": 11,
    "start_time": "2022-08-25T17:24:49.484Z"
   },
   {
    "duration": 26,
    "start_time": "2022-08-25T17:24:49.497Z"
   },
   {
    "duration": 4,
    "start_time": "2022-08-25T17:24:49.525Z"
   },
   {
    "duration": 42,
    "start_time": "2022-08-25T17:24:49.531Z"
   },
   {
    "duration": 7,
    "start_time": "2022-08-25T17:26:25.650Z"
   },
   {
    "duration": 14,
    "start_time": "2022-08-25T17:28:09.908Z"
   },
   {
    "duration": 9,
    "start_time": "2022-08-25T17:28:15.760Z"
   },
   {
    "duration": 12,
    "start_time": "2022-08-25T17:28:24.665Z"
   },
   {
    "duration": 17,
    "start_time": "2022-08-25T17:28:33.266Z"
   },
   {
    "duration": 15,
    "start_time": "2022-08-25T17:32:43.217Z"
   },
   {
    "duration": 15,
    "start_time": "2022-08-25T17:38:09.892Z"
   },
   {
    "duration": 8,
    "start_time": "2022-08-25T17:38:39.833Z"
   },
   {
    "duration": 1232,
    "start_time": "2022-08-25T17:39:18.958Z"
   },
   {
    "duration": 74,
    "start_time": "2022-08-25T17:39:20.192Z"
   },
   {
    "duration": 14,
    "start_time": "2022-08-25T17:39:20.268Z"
   },
   {
    "duration": 15,
    "start_time": "2022-08-25T17:39:20.285Z"
   },
   {
    "duration": 24,
    "start_time": "2022-08-25T17:39:20.302Z"
   },
   {
    "duration": 6,
    "start_time": "2022-08-25T17:39:20.327Z"
   },
   {
    "duration": 11,
    "start_time": "2022-08-25T17:39:20.334Z"
   },
   {
    "duration": 35,
    "start_time": "2022-08-25T17:39:20.347Z"
   },
   {
    "duration": 9,
    "start_time": "2022-08-25T17:39:20.384Z"
   },
   {
    "duration": 14,
    "start_time": "2022-08-25T17:39:20.395Z"
   },
   {
    "duration": 20,
    "start_time": "2022-08-25T17:39:20.411Z"
   },
   {
    "duration": 14,
    "start_time": "2022-08-25T17:39:20.433Z"
   },
   {
    "duration": 8,
    "start_time": "2022-08-25T17:39:20.468Z"
   },
   {
    "duration": 8,
    "start_time": "2022-08-25T18:14:52.636Z"
   },
   {
    "duration": 11,
    "start_time": "2022-08-25T18:14:58.750Z"
   },
   {
    "duration": 13,
    "start_time": "2022-08-25T18:15:17.071Z"
   },
   {
    "duration": 12,
    "start_time": "2022-08-25T18:17:16.160Z"
   },
   {
    "duration": 8,
    "start_time": "2022-08-25T18:18:35.063Z"
   },
   {
    "duration": 1191,
    "start_time": "2022-08-25T18:19:00.197Z"
   },
   {
    "duration": 77,
    "start_time": "2022-08-25T18:19:01.390Z"
   },
   {
    "duration": 13,
    "start_time": "2022-08-25T18:19:01.469Z"
   },
   {
    "duration": 36,
    "start_time": "2022-08-25T18:19:01.484Z"
   },
   {
    "duration": 36,
    "start_time": "2022-08-25T18:19:01.524Z"
   },
   {
    "duration": 26,
    "start_time": "2022-08-25T18:19:01.562Z"
   },
   {
    "duration": 16,
    "start_time": "2022-08-25T18:19:01.590Z"
   },
   {
    "duration": 15,
    "start_time": "2022-08-25T18:19:01.608Z"
   },
   {
    "duration": 42,
    "start_time": "2022-08-25T18:19:01.625Z"
   },
   {
    "duration": 22,
    "start_time": "2022-08-25T18:19:01.668Z"
   },
   {
    "duration": 22,
    "start_time": "2022-08-25T18:19:01.692Z"
   },
   {
    "duration": 14,
    "start_time": "2022-08-25T18:19:01.716Z"
   },
   {
    "duration": 12,
    "start_time": "2022-08-25T18:19:01.732Z"
   },
   {
    "duration": 21,
    "start_time": "2022-08-25T18:19:01.747Z"
   },
   {
    "duration": 14,
    "start_time": "2022-08-25T18:19:01.770Z"
   },
   {
    "duration": 18,
    "start_time": "2022-08-25T18:19:01.786Z"
   },
   {
    "duration": 16,
    "start_time": "2022-08-25T18:19:01.805Z"
   },
   {
    "duration": 75,
    "start_time": "2022-08-25T18:27:10.252Z"
   },
   {
    "duration": 86,
    "start_time": "2022-08-25T18:31:46.599Z"
   },
   {
    "duration": 1807,
    "start_time": "2022-08-25T18:31:50.938Z"
   },
   {
    "duration": 11,
    "start_time": "2022-08-25T18:34:01.603Z"
   },
   {
    "duration": 16,
    "start_time": "2022-08-25T18:34:13.258Z"
   },
   {
    "duration": 13,
    "start_time": "2022-08-25T18:34:22.541Z"
   },
   {
    "duration": 12,
    "start_time": "2022-08-25T18:39:19.713Z"
   },
   {
    "duration": 1223,
    "start_time": "2022-08-25T18:40:00.263Z"
   },
   {
    "duration": 81,
    "start_time": "2022-08-25T18:40:01.489Z"
   },
   {
    "duration": 13,
    "start_time": "2022-08-25T18:40:01.572Z"
   },
   {
    "duration": 12,
    "start_time": "2022-08-25T18:40:01.587Z"
   },
   {
    "duration": 24,
    "start_time": "2022-08-25T18:40:01.601Z"
   },
   {
    "duration": 13,
    "start_time": "2022-08-25T18:40:01.627Z"
   },
   {
    "duration": 28,
    "start_time": "2022-08-25T18:40:01.641Z"
   },
   {
    "duration": 28,
    "start_time": "2022-08-25T18:40:01.671Z"
   },
   {
    "duration": 36,
    "start_time": "2022-08-25T18:40:01.701Z"
   },
   {
    "duration": 20,
    "start_time": "2022-08-25T18:40:01.739Z"
   },
   {
    "duration": 38,
    "start_time": "2022-08-25T18:40:01.761Z"
   },
   {
    "duration": 14,
    "start_time": "2022-08-25T18:40:01.801Z"
   },
   {
    "duration": 7,
    "start_time": "2022-08-25T18:40:01.816Z"
   },
   {
    "duration": 20,
    "start_time": "2022-08-25T18:40:01.825Z"
   },
   {
    "duration": 25,
    "start_time": "2022-08-25T18:40:01.847Z"
   },
   {
    "duration": 21,
    "start_time": "2022-08-25T18:40:01.874Z"
   },
   {
    "duration": 35,
    "start_time": "2022-08-25T18:40:01.897Z"
   },
   {
    "duration": 36,
    "start_time": "2022-08-25T18:40:01.933Z"
   },
   {
    "duration": 21,
    "start_time": "2022-08-25T18:40:01.970Z"
   },
   {
    "duration": 101,
    "start_time": "2022-08-25T19:01:11.949Z"
   },
   {
    "duration": 19,
    "start_time": "2022-08-25T19:01:16.667Z"
   },
   {
    "duration": 11,
    "start_time": "2022-08-25T19:01:22.787Z"
   },
   {
    "duration": 10,
    "start_time": "2022-08-25T19:05:59.237Z"
   },
   {
    "duration": 13,
    "start_time": "2022-08-25T19:06:08.641Z"
   },
   {
    "duration": 12,
    "start_time": "2022-08-25T19:07:35.542Z"
   },
   {
    "duration": 11,
    "start_time": "2022-08-25T19:12:14.075Z"
   },
   {
    "duration": 385,
    "start_time": "2022-08-25T19:12:31.441Z"
   },
   {
    "duration": 363,
    "start_time": "2022-08-25T19:14:10.223Z"
   },
   {
    "duration": 334,
    "start_time": "2022-08-25T19:14:15.425Z"
   },
   {
    "duration": 324,
    "start_time": "2022-08-25T19:14:53.236Z"
   },
   {
    "duration": 13,
    "start_time": "2022-08-25T19:16:12.439Z"
   },
   {
    "duration": 338,
    "start_time": "2022-08-25T19:22:46.792Z"
   },
   {
    "duration": 343,
    "start_time": "2022-08-25T19:25:51.245Z"
   },
   {
    "duration": 355,
    "start_time": "2022-08-25T19:26:06.056Z"
   },
   {
    "duration": 361,
    "start_time": "2022-08-25T19:26:11.656Z"
   },
   {
    "duration": 458,
    "start_time": "2022-08-25T19:36:52.289Z"
   },
   {
    "duration": 283,
    "start_time": "2022-08-25T19:37:15.145Z"
   },
   {
    "duration": 339,
    "start_time": "2022-08-25T19:37:38.631Z"
   },
   {
    "duration": 339,
    "start_time": "2022-08-25T19:38:12.420Z"
   },
   {
    "duration": 352,
    "start_time": "2022-08-25T19:38:17.601Z"
   },
   {
    "duration": 353,
    "start_time": "2022-08-25T19:38:34.617Z"
   },
   {
    "duration": 1213,
    "start_time": "2022-08-25T19:39:19.655Z"
   },
   {
    "duration": 73,
    "start_time": "2022-08-25T19:39:20.870Z"
   },
   {
    "duration": 13,
    "start_time": "2022-08-25T19:39:20.945Z"
   },
   {
    "duration": 12,
    "start_time": "2022-08-25T19:39:20.960Z"
   },
   {
    "duration": 25,
    "start_time": "2022-08-25T19:39:20.975Z"
   },
   {
    "duration": 7,
    "start_time": "2022-08-25T19:39:21.002Z"
   },
   {
    "duration": 11,
    "start_time": "2022-08-25T19:39:21.011Z"
   },
   {
    "duration": 7,
    "start_time": "2022-08-25T19:39:21.023Z"
   },
   {
    "duration": 11,
    "start_time": "2022-08-25T19:39:21.032Z"
   },
   {
    "duration": 32,
    "start_time": "2022-08-25T19:39:21.045Z"
   },
   {
    "duration": 20,
    "start_time": "2022-08-25T19:39:21.079Z"
   },
   {
    "duration": 14,
    "start_time": "2022-08-25T19:39:21.101Z"
   },
   {
    "duration": 6,
    "start_time": "2022-08-25T19:39:21.117Z"
   },
   {
    "duration": 45,
    "start_time": "2022-08-25T19:39:21.126Z"
   },
   {
    "duration": 13,
    "start_time": "2022-08-25T19:39:21.173Z"
   },
   {
    "duration": 13,
    "start_time": "2022-08-25T19:39:21.188Z"
   },
   {
    "duration": 15,
    "start_time": "2022-08-25T19:39:21.203Z"
   },
   {
    "duration": 18,
    "start_time": "2022-08-25T19:39:21.220Z"
   },
   {
    "duration": 35,
    "start_time": "2022-08-25T19:39:21.239Z"
   },
   {
    "duration": 12,
    "start_time": "2022-08-25T19:39:21.275Z"
   },
   {
    "duration": 389,
    "start_time": "2022-08-25T19:39:21.288Z"
   },
   {
    "duration": 333,
    "start_time": "2022-08-25T19:52:33.955Z"
   },
   {
    "duration": 366,
    "start_time": "2022-08-25T19:52:39.510Z"
   },
   {
    "duration": 1090,
    "start_time": "2022-08-25T19:52:46.858Z"
   },
   {
    "duration": 74,
    "start_time": "2022-08-25T19:52:47.950Z"
   },
   {
    "duration": 12,
    "start_time": "2022-08-25T19:52:48.026Z"
   },
   {
    "duration": 11,
    "start_time": "2022-08-25T19:52:48.040Z"
   },
   {
    "duration": 24,
    "start_time": "2022-08-25T19:52:48.054Z"
   },
   {
    "duration": 4,
    "start_time": "2022-08-25T19:52:48.080Z"
   },
   {
    "duration": 10,
    "start_time": "2022-08-25T19:52:48.085Z"
   },
   {
    "duration": 9,
    "start_time": "2022-08-25T19:52:48.097Z"
   },
   {
    "duration": 10,
    "start_time": "2022-08-25T19:52:48.108Z"
   },
   {
    "duration": 16,
    "start_time": "2022-08-25T19:52:48.119Z"
   },
   {
    "duration": 37,
    "start_time": "2022-08-25T19:52:48.137Z"
   },
   {
    "duration": 12,
    "start_time": "2022-08-25T19:52:48.175Z"
   },
   {
    "duration": 5,
    "start_time": "2022-08-25T19:52:48.188Z"
   },
   {
    "duration": 6,
    "start_time": "2022-08-25T19:52:48.195Z"
   },
   {
    "duration": 16,
    "start_time": "2022-08-25T19:52:48.202Z"
   },
   {
    "duration": 13,
    "start_time": "2022-08-25T19:52:48.220Z"
   },
   {
    "duration": 34,
    "start_time": "2022-08-25T19:52:48.234Z"
   },
   {
    "duration": 16,
    "start_time": "2022-08-25T19:52:48.269Z"
   },
   {
    "duration": 9,
    "start_time": "2022-08-25T19:52:48.287Z"
   },
   {
    "duration": 11,
    "start_time": "2022-08-25T19:52:48.298Z"
   },
   {
    "duration": 331,
    "start_time": "2022-08-25T19:52:48.310Z"
   },
   {
    "duration": 1218,
    "start_time": "2022-08-25T19:53:48.358Z"
   },
   {
    "duration": 76,
    "start_time": "2022-08-25T19:53:49.578Z"
   },
   {
    "duration": 12,
    "start_time": "2022-08-25T19:53:49.656Z"
   },
   {
    "duration": 11,
    "start_time": "2022-08-25T19:53:49.670Z"
   },
   {
    "duration": 26,
    "start_time": "2022-08-25T19:53:49.683Z"
   },
   {
    "duration": 5,
    "start_time": "2022-08-25T19:53:49.711Z"
   },
   {
    "duration": 11,
    "start_time": "2022-08-25T19:53:49.717Z"
   },
   {
    "duration": 11,
    "start_time": "2022-08-25T19:53:49.730Z"
   },
   {
    "duration": 27,
    "start_time": "2022-08-25T19:53:49.742Z"
   },
   {
    "duration": 13,
    "start_time": "2022-08-25T19:53:49.771Z"
   },
   {
    "duration": 21,
    "start_time": "2022-08-25T19:53:49.785Z"
   },
   {
    "duration": 15,
    "start_time": "2022-08-25T19:53:49.807Z"
   },
   {
    "duration": 7,
    "start_time": "2022-08-25T19:53:49.823Z"
   },
   {
    "duration": 8,
    "start_time": "2022-08-25T19:53:49.832Z"
   },
   {
    "duration": 35,
    "start_time": "2022-08-25T19:53:49.841Z"
   },
   {
    "duration": 14,
    "start_time": "2022-08-25T19:53:49.878Z"
   },
   {
    "duration": 14,
    "start_time": "2022-08-25T19:53:49.893Z"
   },
   {
    "duration": 15,
    "start_time": "2022-08-25T19:53:49.908Z"
   },
   {
    "duration": 11,
    "start_time": "2022-08-25T19:53:49.924Z"
   },
   {
    "duration": 39,
    "start_time": "2022-08-25T19:53:49.937Z"
   },
   {
    "duration": 367,
    "start_time": "2022-08-25T19:53:49.978Z"
   },
   {
    "duration": 14,
    "start_time": "2022-08-25T19:56:20.262Z"
   },
   {
    "duration": 12,
    "start_time": "2022-08-25T19:56:26.072Z"
   },
   {
    "duration": 18,
    "start_time": "2022-08-25T19:58:28.244Z"
   },
   {
    "duration": 6,
    "start_time": "2022-08-25T19:58:36.809Z"
   },
   {
    "duration": 4,
    "start_time": "2022-08-25T19:59:16.353Z"
   },
   {
    "duration": 9,
    "start_time": "2022-08-25T20:02:07.733Z"
   },
   {
    "duration": 10,
    "start_time": "2022-08-25T20:03:13.609Z"
   },
   {
    "duration": 12,
    "start_time": "2022-08-25T20:07:36.884Z"
   },
   {
    "duration": 13,
    "start_time": "2022-08-25T20:07:46.234Z"
   },
   {
    "duration": 10,
    "start_time": "2022-08-25T20:08:07.040Z"
   },
   {
    "duration": 13,
    "start_time": "2022-08-25T20:08:12.212Z"
   },
   {
    "duration": 123,
    "start_time": "2022-08-25T20:15:11.491Z"
   },
   {
    "duration": 12,
    "start_time": "2022-08-25T20:15:15.601Z"
   },
   {
    "duration": 19,
    "start_time": "2022-08-25T20:18:56.234Z"
   },
   {
    "duration": 14,
    "start_time": "2022-08-25T20:20:58.953Z"
   },
   {
    "duration": 5,
    "start_time": "2022-08-25T20:21:17.154Z"
   },
   {
    "duration": 15,
    "start_time": "2022-08-25T20:21:28.952Z"
   },
   {
    "duration": 13,
    "start_time": "2022-08-25T20:21:45.757Z"
   },
   {
    "duration": 15,
    "start_time": "2022-08-25T20:22:01.548Z"
   },
   {
    "duration": 13,
    "start_time": "2022-08-25T20:22:32.328Z"
   },
   {
    "duration": 15,
    "start_time": "2022-08-25T20:24:12.440Z"
   },
   {
    "duration": 18,
    "start_time": "2022-08-25T20:24:29.866Z"
   },
   {
    "duration": 17,
    "start_time": "2022-08-25T20:24:38.918Z"
   },
   {
    "duration": 27,
    "start_time": "2022-08-25T20:26:28.531Z"
   },
   {
    "duration": 19,
    "start_time": "2022-08-25T20:34:18.688Z"
   },
   {
    "duration": 25,
    "start_time": "2022-08-25T20:34:59.444Z"
   },
   {
    "duration": 6146,
    "start_time": "2022-08-25T20:35:38.155Z"
   },
   {
    "duration": 21,
    "start_time": "2022-08-25T20:36:00.645Z"
   },
   {
    "duration": 1214,
    "start_time": "2022-08-25T20:36:19.363Z"
   },
   {
    "duration": 75,
    "start_time": "2022-08-25T20:36:20.578Z"
   },
   {
    "duration": 12,
    "start_time": "2022-08-25T20:36:20.655Z"
   },
   {
    "duration": 11,
    "start_time": "2022-08-25T20:36:20.669Z"
   },
   {
    "duration": 28,
    "start_time": "2022-08-25T20:36:20.681Z"
   },
   {
    "duration": 4,
    "start_time": "2022-08-25T20:36:20.711Z"
   },
   {
    "duration": 14,
    "start_time": "2022-08-25T20:36:20.716Z"
   },
   {
    "duration": 10,
    "start_time": "2022-08-25T20:36:20.732Z"
   },
   {
    "duration": 31,
    "start_time": "2022-08-25T20:36:20.743Z"
   },
   {
    "duration": 14,
    "start_time": "2022-08-25T20:36:20.778Z"
   },
   {
    "duration": 20,
    "start_time": "2022-08-25T20:36:20.794Z"
   },
   {
    "duration": 14,
    "start_time": "2022-08-25T20:36:20.816Z"
   },
   {
    "duration": 37,
    "start_time": "2022-08-25T20:36:20.832Z"
   },
   {
    "duration": 8,
    "start_time": "2022-08-25T20:36:20.870Z"
   },
   {
    "duration": 39,
    "start_time": "2022-08-25T20:36:20.880Z"
   },
   {
    "duration": 19,
    "start_time": "2022-08-25T20:36:20.920Z"
   },
   {
    "duration": 19,
    "start_time": "2022-08-25T20:36:20.941Z"
   },
   {
    "duration": 15,
    "start_time": "2022-08-25T20:36:20.962Z"
   },
   {
    "duration": 12,
    "start_time": "2022-08-25T20:36:20.978Z"
   },
   {
    "duration": 15,
    "start_time": "2022-08-25T20:36:20.991Z"
   },
   {
    "duration": 348,
    "start_time": "2022-08-25T20:36:21.008Z"
   },
   {
    "duration": 18,
    "start_time": "2022-08-25T20:36:21.358Z"
   },
   {
    "duration": 24,
    "start_time": "2022-08-25T20:36:21.378Z"
   },
   {
    "duration": 25,
    "start_time": "2022-08-25T20:36:21.404Z"
   },
   {
    "duration": 14,
    "start_time": "2022-08-25T20:36:21.432Z"
   },
   {
    "duration": 25,
    "start_time": "2022-08-25T20:36:21.448Z"
   },
   {
    "duration": 20,
    "start_time": "2022-08-25T20:36:21.475Z"
   },
   {
    "duration": 21,
    "start_time": "2022-08-25T20:38:48.369Z"
   },
   {
    "duration": 14,
    "start_time": "2022-08-25T20:40:47.084Z"
   },
   {
    "duration": 10,
    "start_time": "2022-08-25T20:41:14.592Z"
   },
   {
    "duration": 218,
    "start_time": "2022-08-25T20:41:50.853Z"
   },
   {
    "duration": 221,
    "start_time": "2022-08-25T20:42:49.514Z"
   },
   {
    "duration": 263,
    "start_time": "2022-08-25T20:43:03.080Z"
   },
   {
    "duration": 250,
    "start_time": "2022-08-25T20:43:10.835Z"
   },
   {
    "duration": 1357,
    "start_time": "2022-08-25T20:48:30.345Z"
   },
   {
    "duration": 1122,
    "start_time": "2022-08-25T20:49:58.117Z"
   },
   {
    "duration": 1142,
    "start_time": "2022-08-25T20:50:30.182Z"
   },
   {
    "duration": 238,
    "start_time": "2022-08-25T20:50:39.579Z"
   },
   {
    "duration": 1165,
    "start_time": "2022-08-25T20:52:49.913Z"
   },
   {
    "duration": 254,
    "start_time": "2022-08-25T20:52:58.950Z"
   },
   {
    "duration": 322,
    "start_time": "2022-08-25T20:56:15.017Z"
   },
   {
    "duration": 239,
    "start_time": "2022-08-25T20:57:27.038Z"
   },
   {
    "duration": 1702,
    "start_time": "2022-08-25T20:59:21.138Z"
   },
   {
    "duration": 1690,
    "start_time": "2022-08-25T20:59:27.916Z"
   },
   {
    "duration": 250,
    "start_time": "2022-08-25T20:59:39.539Z"
   },
   {
    "duration": 11,
    "start_time": "2022-08-25T21:00:40.305Z"
   },
   {
    "duration": 9,
    "start_time": "2022-08-25T21:01:18.701Z"
   },
   {
    "duration": 9,
    "start_time": "2022-08-25T21:02:09.321Z"
   },
   {
    "duration": 15,
    "start_time": "2022-08-25T21:02:37.874Z"
   },
   {
    "duration": 15,
    "start_time": "2022-08-25T21:02:45.312Z"
   },
   {
    "duration": 1197,
    "start_time": "2022-08-25T21:09:07.008Z"
   },
   {
    "duration": 1118,
    "start_time": "2022-08-25T21:12:05.006Z"
   },
   {
    "duration": 1139,
    "start_time": "2022-08-25T21:12:47.530Z"
   },
   {
    "duration": 76,
    "start_time": "2022-08-25T21:12:48.671Z"
   },
   {
    "duration": 13,
    "start_time": "2022-08-25T21:12:48.748Z"
   },
   {
    "duration": 15,
    "start_time": "2022-08-25T21:12:48.763Z"
   },
   {
    "duration": 22,
    "start_time": "2022-08-25T21:12:48.779Z"
   },
   {
    "duration": 3,
    "start_time": "2022-08-25T21:12:48.802Z"
   },
   {
    "duration": 9,
    "start_time": "2022-08-25T21:12:48.807Z"
   },
   {
    "duration": 7,
    "start_time": "2022-08-25T21:12:48.818Z"
   },
   {
    "duration": 10,
    "start_time": "2022-08-25T21:12:48.827Z"
   },
   {
    "duration": 34,
    "start_time": "2022-08-25T21:12:48.840Z"
   },
   {
    "duration": 17,
    "start_time": "2022-08-25T21:12:48.876Z"
   },
   {
    "duration": 13,
    "start_time": "2022-08-25T21:12:48.894Z"
   },
   {
    "duration": 6,
    "start_time": "2022-08-25T21:12:48.909Z"
   },
   {
    "duration": 9,
    "start_time": "2022-08-25T21:12:48.916Z"
   },
   {
    "duration": 43,
    "start_time": "2022-08-25T21:12:48.926Z"
   },
   {
    "duration": 14,
    "start_time": "2022-08-25T21:12:48.971Z"
   },
   {
    "duration": 17,
    "start_time": "2022-08-25T21:12:48.987Z"
   },
   {
    "duration": 15,
    "start_time": "2022-08-25T21:12:49.005Z"
   },
   {
    "duration": 14,
    "start_time": "2022-08-25T21:12:49.022Z"
   },
   {
    "duration": 31,
    "start_time": "2022-08-25T21:12:49.038Z"
   },
   {
    "duration": 345,
    "start_time": "2022-08-25T21:12:49.070Z"
   },
   {
    "duration": 19,
    "start_time": "2022-08-25T21:12:49.417Z"
   },
   {
    "duration": 33,
    "start_time": "2022-08-25T21:12:49.437Z"
   },
   {
    "duration": 17,
    "start_time": "2022-08-25T21:12:49.472Z"
   },
   {
    "duration": 13,
    "start_time": "2022-08-25T21:12:49.491Z"
   },
   {
    "duration": 285,
    "start_time": "2022-08-25T21:12:49.506Z"
   },
   {
    "duration": 9,
    "start_time": "2022-08-25T21:12:49.793Z"
   },
   {
    "duration": 14,
    "start_time": "2022-08-25T21:12:49.804Z"
   },
   {
    "duration": 1370,
    "start_time": "2022-08-25T21:12:49.819Z"
   },
   {
    "duration": 1177,
    "start_time": "2022-08-25T21:13:52.885Z"
   },
   {
    "duration": 8,
    "start_time": "2022-08-25T21:14:17.061Z"
   },
   {
    "duration": 21,
    "start_time": "2022-08-25T21:18:49.524Z"
   },
   {
    "duration": 15,
    "start_time": "2022-08-25T21:21:20.792Z"
   },
   {
    "duration": 11,
    "start_time": "2022-08-25T21:21:26.095Z"
   },
   {
    "duration": 17,
    "start_time": "2022-08-25T21:21:37.142Z"
   },
   {
    "duration": 29,
    "start_time": "2022-08-25T21:24:46.599Z"
   },
   {
    "duration": 19,
    "start_time": "2022-08-25T21:27:34.452Z"
   },
   {
    "duration": 20,
    "start_time": "2022-08-25T21:27:51.393Z"
   },
   {
    "duration": 19,
    "start_time": "2022-08-25T21:28:02.453Z"
   },
   {
    "duration": 87,
    "start_time": "2022-08-25T21:28:50.041Z"
   },
   {
    "duration": 149,
    "start_time": "2022-08-25T21:29:15.039Z"
   },
   {
    "duration": 153,
    "start_time": "2022-08-25T21:29:29.478Z"
   },
   {
    "duration": 154,
    "start_time": "2022-08-25T21:30:40.054Z"
   },
   {
    "duration": 143,
    "start_time": "2022-08-25T21:30:45.176Z"
   },
   {
    "duration": 1226,
    "start_time": "2022-08-25T21:49:36.110Z"
   },
   {
    "duration": 120,
    "start_time": "2022-08-25T21:50:03.438Z"
   },
   {
    "duration": 12,
    "start_time": "2022-08-25T21:51:16.972Z"
   },
   {
    "duration": 5174,
    "start_time": "2022-08-25T21:52:58.564Z"
   },
   {
    "duration": 1197,
    "start_time": "2022-08-25T21:53:08.362Z"
   },
   {
    "duration": 253,
    "start_time": "2022-08-25T21:54:03.908Z"
   },
   {
    "duration": 343,
    "start_time": "2022-08-25T21:54:33.224Z"
   },
   {
    "duration": 16,
    "start_time": "2022-08-25T21:56:18.186Z"
   },
   {
    "duration": 15,
    "start_time": "2022-08-25T21:59:03.869Z"
   },
   {
    "duration": 22,
    "start_time": "2022-08-25T21:59:39.541Z"
   },
   {
    "duration": 4,
    "start_time": "2022-08-25T21:59:54.609Z"
   },
   {
    "duration": 10,
    "start_time": "2022-08-25T22:00:05.673Z"
   },
   {
    "duration": 9,
    "start_time": "2022-08-25T22:00:25.994Z"
   },
   {
    "duration": 1143,
    "start_time": "2022-08-25T22:00:41.229Z"
   },
   {
    "duration": 77,
    "start_time": "2022-08-25T22:00:42.374Z"
   },
   {
    "duration": 12,
    "start_time": "2022-08-25T22:00:42.455Z"
   },
   {
    "duration": 12,
    "start_time": "2022-08-25T22:00:42.469Z"
   },
   {
    "duration": 23,
    "start_time": "2022-08-25T22:00:42.483Z"
   },
   {
    "duration": 3,
    "start_time": "2022-08-25T22:00:42.508Z"
   },
   {
    "duration": 13,
    "start_time": "2022-08-25T22:00:42.512Z"
   },
   {
    "duration": 11,
    "start_time": "2022-08-25T22:00:42.526Z"
   },
   {
    "duration": 31,
    "start_time": "2022-08-25T22:00:42.538Z"
   },
   {
    "duration": 11,
    "start_time": "2022-08-25T22:00:42.570Z"
   },
   {
    "duration": 17,
    "start_time": "2022-08-25T22:00:42.583Z"
   },
   {
    "duration": 15,
    "start_time": "2022-08-25T22:00:42.602Z"
   },
   {
    "duration": 6,
    "start_time": "2022-08-25T22:00:42.618Z"
   },
   {
    "duration": 43,
    "start_time": "2022-08-25T22:00:42.626Z"
   },
   {
    "duration": 11,
    "start_time": "2022-08-25T22:00:42.670Z"
   },
   {
    "duration": 13,
    "start_time": "2022-08-25T22:00:42.683Z"
   },
   {
    "duration": 12,
    "start_time": "2022-08-25T22:00:42.698Z"
   },
   {
    "duration": 12,
    "start_time": "2022-08-25T22:00:42.711Z"
   },
   {
    "duration": 11,
    "start_time": "2022-08-25T22:00:42.724Z"
   },
   {
    "duration": 41,
    "start_time": "2022-08-25T22:00:42.736Z"
   },
   {
    "duration": 342,
    "start_time": "2022-08-25T22:00:42.778Z"
   },
   {
    "duration": 18,
    "start_time": "2022-08-25T22:00:43.121Z"
   },
   {
    "duration": 32,
    "start_time": "2022-08-25T22:00:43.140Z"
   },
   {
    "duration": 14,
    "start_time": "2022-08-25T22:00:43.174Z"
   },
   {
    "duration": 11,
    "start_time": "2022-08-25T22:00:43.190Z"
   },
   {
    "duration": 266,
    "start_time": "2022-08-25T22:00:43.202Z"
   },
   {
    "duration": 9,
    "start_time": "2022-08-25T22:00:43.471Z"
   },
   {
    "duration": 22,
    "start_time": "2022-08-25T22:00:43.482Z"
   },
   {
    "duration": 18,
    "start_time": "2022-08-25T22:00:43.506Z"
   },
   {
    "duration": 125,
    "start_time": "2022-08-25T22:00:43.526Z"
   },
   {
    "duration": 0,
    "start_time": "2022-08-25T22:00:43.652Z"
   },
   {
    "duration": 9,
    "start_time": "2022-08-25T22:01:53.202Z"
   },
   {
    "duration": 1173,
    "start_time": "2022-08-25T22:02:33.441Z"
   },
   {
    "duration": 74,
    "start_time": "2022-08-25T22:02:34.616Z"
   },
   {
    "duration": 12,
    "start_time": "2022-08-25T22:02:34.692Z"
   },
   {
    "duration": 11,
    "start_time": "2022-08-25T22:02:34.706Z"
   },
   {
    "duration": 21,
    "start_time": "2022-08-25T22:02:34.719Z"
   },
   {
    "duration": 3,
    "start_time": "2022-08-25T22:02:34.742Z"
   },
   {
    "duration": 22,
    "start_time": "2022-08-25T22:02:34.747Z"
   },
   {
    "duration": 10,
    "start_time": "2022-08-25T22:02:34.770Z"
   },
   {
    "duration": 12,
    "start_time": "2022-08-25T22:02:34.782Z"
   },
   {
    "duration": 12,
    "start_time": "2022-08-25T22:02:34.795Z"
   },
   {
    "duration": 20,
    "start_time": "2022-08-25T22:02:34.809Z"
   },
   {
    "duration": 42,
    "start_time": "2022-08-25T22:02:34.831Z"
   },
   {
    "duration": 8,
    "start_time": "2022-08-25T22:02:34.875Z"
   },
   {
    "duration": 7,
    "start_time": "2022-08-25T22:02:34.886Z"
   },
   {
    "duration": 14,
    "start_time": "2022-08-25T22:02:34.894Z"
   },
   {
    "duration": 13,
    "start_time": "2022-08-25T22:02:34.909Z"
   },
   {
    "duration": 16,
    "start_time": "2022-08-25T22:02:34.923Z"
   },
   {
    "duration": 15,
    "start_time": "2022-08-25T22:02:34.967Z"
   },
   {
    "duration": 13,
    "start_time": "2022-08-25T22:02:34.984Z"
   },
   {
    "duration": 14,
    "start_time": "2022-08-25T22:02:34.999Z"
   },
   {
    "duration": 355,
    "start_time": "2022-08-25T22:02:35.015Z"
   },
   {
    "duration": 20,
    "start_time": "2022-08-25T22:02:35.372Z"
   },
   {
    "duration": 18,
    "start_time": "2022-08-25T22:02:35.394Z"
   },
   {
    "duration": 15,
    "start_time": "2022-08-25T22:02:35.413Z"
   },
   {
    "duration": 44,
    "start_time": "2022-08-25T22:02:35.430Z"
   },
   {
    "duration": 275,
    "start_time": "2022-08-25T22:02:35.476Z"
   },
   {
    "duration": 17,
    "start_time": "2022-08-25T22:02:35.752Z"
   },
   {
    "duration": 21,
    "start_time": "2022-08-25T22:02:35.770Z"
   },
   {
    "duration": 20,
    "start_time": "2022-08-25T22:02:35.792Z"
   },
   {
    "duration": 130,
    "start_time": "2022-08-25T22:02:35.814Z"
   },
   {
    "duration": 0,
    "start_time": "2022-08-25T22:02:35.946Z"
   },
   {
    "duration": 9,
    "start_time": "2022-08-25T22:02:58.383Z"
   },
   {
    "duration": 15,
    "start_time": "2022-08-25T22:03:50.227Z"
   },
   {
    "duration": 5,
    "start_time": "2022-08-25T22:05:22.393Z"
   },
   {
    "duration": 16,
    "start_time": "2022-08-25T22:05:28.571Z"
   },
   {
    "duration": 15,
    "start_time": "2022-08-25T22:05:40.256Z"
   },
   {
    "duration": 12,
    "start_time": "2022-08-25T22:05:44.879Z"
   },
   {
    "duration": 10,
    "start_time": "2022-08-25T22:06:00.127Z"
   },
   {
    "duration": 1246,
    "start_time": "2022-08-25T22:06:26.831Z"
   },
   {
    "duration": 78,
    "start_time": "2022-08-25T22:06:28.079Z"
   },
   {
    "duration": 13,
    "start_time": "2022-08-25T22:06:28.159Z"
   },
   {
    "duration": 12,
    "start_time": "2022-08-25T22:06:28.173Z"
   },
   {
    "duration": 24,
    "start_time": "2022-08-25T22:06:28.187Z"
   },
   {
    "duration": 3,
    "start_time": "2022-08-25T22:06:28.213Z"
   },
   {
    "duration": 15,
    "start_time": "2022-08-25T22:06:28.218Z"
   },
   {
    "duration": 8,
    "start_time": "2022-08-25T22:06:28.235Z"
   },
   {
    "duration": 27,
    "start_time": "2022-08-25T22:06:28.245Z"
   },
   {
    "duration": 15,
    "start_time": "2022-08-25T22:06:28.274Z"
   },
   {
    "duration": 19,
    "start_time": "2022-08-25T22:06:28.291Z"
   },
   {
    "duration": 14,
    "start_time": "2022-08-25T22:06:28.311Z"
   },
   {
    "duration": 10,
    "start_time": "2022-08-25T22:06:28.326Z"
   },
   {
    "duration": 33,
    "start_time": "2022-08-25T22:06:28.338Z"
   },
   {
    "duration": 15,
    "start_time": "2022-08-25T22:06:28.373Z"
   },
   {
    "duration": 13,
    "start_time": "2022-08-25T22:06:28.390Z"
   },
   {
    "duration": 15,
    "start_time": "2022-08-25T22:06:28.405Z"
   },
   {
    "duration": 15,
    "start_time": "2022-08-25T22:06:28.422Z"
   },
   {
    "duration": 31,
    "start_time": "2022-08-25T22:06:28.439Z"
   },
   {
    "duration": 14,
    "start_time": "2022-08-25T22:06:28.472Z"
   },
   {
    "duration": 356,
    "start_time": "2022-08-25T22:06:28.488Z"
   },
   {
    "duration": 38,
    "start_time": "2022-08-25T22:06:28.845Z"
   },
   {
    "duration": 18,
    "start_time": "2022-08-25T22:06:28.884Z"
   },
   {
    "duration": 15,
    "start_time": "2022-08-25T22:06:28.903Z"
   },
   {
    "duration": 10,
    "start_time": "2022-08-25T22:06:28.921Z"
   },
   {
    "duration": 291,
    "start_time": "2022-08-25T22:06:28.933Z"
   },
   {
    "duration": 11,
    "start_time": "2022-08-25T22:06:29.226Z"
   },
   {
    "duration": 41,
    "start_time": "2022-08-25T22:06:29.239Z"
   },
   {
    "duration": 22,
    "start_time": "2022-08-25T22:06:29.282Z"
   },
   {
    "duration": 10,
    "start_time": "2022-08-25T22:06:29.305Z"
   },
   {
    "duration": 24,
    "start_time": "2022-08-25T22:06:29.316Z"
   },
   {
    "duration": 18,
    "start_time": "2022-08-26T16:29:04.777Z"
   },
   {
    "duration": 113,
    "start_time": "2022-08-26T16:29:54.031Z"
   },
   {
    "duration": 18,
    "start_time": "2022-08-26T16:30:06.636Z"
   },
   {
    "duration": 11,
    "start_time": "2022-08-26T16:30:56.084Z"
   },
   {
    "duration": 14,
    "start_time": "2022-08-26T16:31:19.885Z"
   },
   {
    "duration": 12,
    "start_time": "2022-08-26T16:31:35.843Z"
   },
   {
    "duration": 1301,
    "start_time": "2022-08-26T16:31:59.500Z"
   },
   {
    "duration": 83,
    "start_time": "2022-08-26T16:32:00.804Z"
   },
   {
    "duration": 13,
    "start_time": "2022-08-26T16:32:00.889Z"
   },
   {
    "duration": 13,
    "start_time": "2022-08-26T16:32:00.904Z"
   },
   {
    "duration": 29,
    "start_time": "2022-08-26T16:32:00.919Z"
   },
   {
    "duration": 5,
    "start_time": "2022-08-26T16:32:00.950Z"
   },
   {
    "duration": 36,
    "start_time": "2022-08-26T16:32:00.957Z"
   },
   {
    "duration": 7,
    "start_time": "2022-08-26T16:32:00.997Z"
   },
   {
    "duration": 19,
    "start_time": "2022-08-26T16:32:01.006Z"
   },
   {
    "duration": 15,
    "start_time": "2022-08-26T16:32:01.028Z"
   },
   {
    "duration": 23,
    "start_time": "2022-08-26T16:32:01.045Z"
   },
   {
    "duration": 21,
    "start_time": "2022-08-26T16:32:01.071Z"
   },
   {
    "duration": 16,
    "start_time": "2022-08-26T16:32:01.094Z"
   },
   {
    "duration": 14,
    "start_time": "2022-08-26T16:32:01.112Z"
   },
   {
    "duration": 18,
    "start_time": "2022-08-26T16:32:01.128Z"
   },
   {
    "duration": 36,
    "start_time": "2022-08-26T16:32:01.148Z"
   },
   {
    "duration": 29,
    "start_time": "2022-08-26T16:32:01.186Z"
   },
   {
    "duration": 21,
    "start_time": "2022-08-26T16:32:01.217Z"
   },
   {
    "duration": 14,
    "start_time": "2022-08-26T16:32:01.240Z"
   },
   {
    "duration": 29,
    "start_time": "2022-08-26T16:32:01.256Z"
   },
   {
    "duration": 383,
    "start_time": "2022-08-26T16:32:01.287Z"
   },
   {
    "duration": 23,
    "start_time": "2022-08-26T16:32:01.672Z"
   },
   {
    "duration": 34,
    "start_time": "2022-08-26T16:32:01.697Z"
   },
   {
    "duration": 16,
    "start_time": "2022-08-26T16:32:01.734Z"
   },
   {
    "duration": 39,
    "start_time": "2022-08-26T16:32:01.769Z"
   },
   {
    "duration": 305,
    "start_time": "2022-08-26T16:32:01.809Z"
   },
   {
    "duration": 11,
    "start_time": "2022-08-26T16:32:02.116Z"
   },
   {
    "duration": 39,
    "start_time": "2022-08-26T16:32:02.130Z"
   },
   {
    "duration": 28,
    "start_time": "2022-08-26T16:32:02.170Z"
   },
   {
    "duration": 11,
    "start_time": "2022-08-26T16:32:02.199Z"
   },
   {
    "duration": 26,
    "start_time": "2022-08-26T16:32:02.211Z"
   },
   {
    "duration": 43,
    "start_time": "2022-08-26T16:32:02.239Z"
   },
   {
    "duration": 115,
    "start_time": "2022-08-26T16:33:07.401Z"
   },
   {
    "duration": 1241,
    "start_time": "2022-08-26T16:33:17.942Z"
   },
   {
    "duration": 80,
    "start_time": "2022-08-26T16:33:19.186Z"
   },
   {
    "duration": 16,
    "start_time": "2022-08-26T16:33:19.268Z"
   },
   {
    "duration": 22,
    "start_time": "2022-08-26T16:33:19.287Z"
   },
   {
    "duration": 23,
    "start_time": "2022-08-26T16:33:19.312Z"
   },
   {
    "duration": 6,
    "start_time": "2022-08-26T16:33:19.337Z"
   },
   {
    "duration": 30,
    "start_time": "2022-08-26T16:33:19.345Z"
   },
   {
    "duration": 11,
    "start_time": "2022-08-26T16:33:19.378Z"
   },
   {
    "duration": 13,
    "start_time": "2022-08-26T16:33:19.391Z"
   },
   {
    "duration": 12,
    "start_time": "2022-08-26T16:33:19.406Z"
   },
   {
    "duration": 22,
    "start_time": "2022-08-26T16:33:19.420Z"
   },
   {
    "duration": 39,
    "start_time": "2022-08-26T16:33:19.445Z"
   },
   {
    "duration": 19,
    "start_time": "2022-08-26T16:33:19.487Z"
   },
   {
    "duration": 11,
    "start_time": "2022-08-26T16:33:19.510Z"
   },
   {
    "duration": 14,
    "start_time": "2022-08-26T16:33:19.523Z"
   },
   {
    "duration": 33,
    "start_time": "2022-08-26T16:33:19.538Z"
   },
   {
    "duration": 16,
    "start_time": "2022-08-26T16:33:19.573Z"
   },
   {
    "duration": 19,
    "start_time": "2022-08-26T16:33:19.590Z"
   },
   {
    "duration": 11,
    "start_time": "2022-08-26T16:33:19.611Z"
   },
   {
    "duration": 12,
    "start_time": "2022-08-26T16:33:19.624Z"
   },
   {
    "duration": 367,
    "start_time": "2022-08-26T16:33:19.667Z"
   },
   {
    "duration": 32,
    "start_time": "2022-08-26T16:33:20.036Z"
   },
   {
    "duration": 22,
    "start_time": "2022-08-26T16:33:20.070Z"
   },
   {
    "duration": 20,
    "start_time": "2022-08-26T16:33:20.094Z"
   },
   {
    "duration": 13,
    "start_time": "2022-08-26T16:33:20.116Z"
   },
   {
    "duration": 310,
    "start_time": "2022-08-26T16:33:20.131Z"
   },
   {
    "duration": 10,
    "start_time": "2022-08-26T16:33:20.443Z"
   },
   {
    "duration": 39,
    "start_time": "2022-08-26T16:33:20.455Z"
   },
   {
    "duration": 21,
    "start_time": "2022-08-26T16:33:20.495Z"
   },
   {
    "duration": 10,
    "start_time": "2022-08-26T16:33:20.518Z"
   },
   {
    "duration": 56,
    "start_time": "2022-08-26T16:33:20.529Z"
   },
   {
    "duration": 17,
    "start_time": "2022-08-26T16:33:20.587Z"
   },
   {
    "duration": 282,
    "start_time": "2022-08-26T16:34:30.081Z"
   },
   {
    "duration": 18,
    "start_time": "2022-08-26T16:42:37.244Z"
   },
   {
    "duration": 202,
    "start_time": "2022-08-26T16:43:33.853Z"
   },
   {
    "duration": 30,
    "start_time": "2022-08-26T17:28:07.112Z"
   },
   {
    "duration": 26,
    "start_time": "2022-08-26T17:29:57.244Z"
   },
   {
    "duration": 22,
    "start_time": "2022-08-26T17:30:46.156Z"
   },
   {
    "duration": 22,
    "start_time": "2022-08-26T17:32:12.352Z"
   },
   {
    "duration": 111,
    "start_time": "2022-08-26T17:33:55.389Z"
   },
   {
    "duration": 24,
    "start_time": "2022-08-26T17:33:59.770Z"
   },
   {
    "duration": 16,
    "start_time": "2022-08-26T17:34:41.688Z"
   },
   {
    "duration": 1248,
    "start_time": "2022-08-26T17:34:50.052Z"
   },
   {
    "duration": 80,
    "start_time": "2022-08-26T17:34:51.302Z"
   },
   {
    "duration": 12,
    "start_time": "2022-08-26T17:34:51.384Z"
   },
   {
    "duration": 11,
    "start_time": "2022-08-26T17:34:51.398Z"
   },
   {
    "duration": 24,
    "start_time": "2022-08-26T17:34:51.412Z"
   },
   {
    "duration": 6,
    "start_time": "2022-08-26T17:34:51.437Z"
   },
   {
    "duration": 25,
    "start_time": "2022-08-26T17:34:51.445Z"
   },
   {
    "duration": 12,
    "start_time": "2022-08-26T17:34:51.472Z"
   },
   {
    "duration": 19,
    "start_time": "2022-08-26T17:34:51.486Z"
   },
   {
    "duration": 21,
    "start_time": "2022-08-26T17:34:51.507Z"
   },
   {
    "duration": 28,
    "start_time": "2022-08-26T17:34:51.530Z"
   },
   {
    "duration": 29,
    "start_time": "2022-08-26T17:34:51.560Z"
   },
   {
    "duration": 16,
    "start_time": "2022-08-26T17:34:51.591Z"
   },
   {
    "duration": 11,
    "start_time": "2022-08-26T17:34:51.610Z"
   },
   {
    "duration": 19,
    "start_time": "2022-08-26T17:34:51.623Z"
   },
   {
    "duration": 23,
    "start_time": "2022-08-26T17:34:51.645Z"
   },
   {
    "duration": 23,
    "start_time": "2022-08-26T17:34:51.670Z"
   },
   {
    "duration": 14,
    "start_time": "2022-08-26T17:34:51.695Z"
   },
   {
    "duration": 12,
    "start_time": "2022-08-26T17:34:51.711Z"
   },
   {
    "duration": 15,
    "start_time": "2022-08-26T17:34:51.724Z"
   },
   {
    "duration": 366,
    "start_time": "2022-08-26T17:34:51.740Z"
   },
   {
    "duration": 22,
    "start_time": "2022-08-26T17:34:52.108Z"
   },
   {
    "duration": 39,
    "start_time": "2022-08-26T17:34:52.132Z"
   },
   {
    "duration": 21,
    "start_time": "2022-08-26T17:34:52.172Z"
   },
   {
    "duration": 13,
    "start_time": "2022-08-26T17:34:52.196Z"
   },
   {
    "duration": 308,
    "start_time": "2022-08-26T17:34:52.211Z"
   },
   {
    "duration": 10,
    "start_time": "2022-08-26T17:34:52.521Z"
   },
   {
    "duration": 36,
    "start_time": "2022-08-26T17:34:52.533Z"
   },
   {
    "duration": 128,
    "start_time": "2022-08-26T17:34:52.570Z"
   },
   {
    "duration": 0,
    "start_time": "2022-08-26T17:34:52.700Z"
   },
   {
    "duration": 0,
    "start_time": "2022-08-26T17:34:52.702Z"
   },
   {
    "duration": 0,
    "start_time": "2022-08-26T17:34:52.704Z"
   },
   {
    "duration": 0,
    "start_time": "2022-08-26T17:34:52.705Z"
   },
   {
    "duration": 0,
    "start_time": "2022-08-26T17:34:52.706Z"
   },
   {
    "duration": 0,
    "start_time": "2022-08-26T17:34:52.708Z"
   },
   {
    "duration": 0,
    "start_time": "2022-08-26T17:34:52.710Z"
   },
   {
    "duration": 16,
    "start_time": "2022-08-26T17:36:06.324Z"
   },
   {
    "duration": 13,
    "start_time": "2022-08-26T17:36:55.287Z"
   },
   {
    "duration": 12,
    "start_time": "2022-08-26T17:37:15.550Z"
   },
   {
    "duration": 1183,
    "start_time": "2022-08-26T17:37:33.168Z"
   },
   {
    "duration": 73,
    "start_time": "2022-08-26T17:37:34.353Z"
   },
   {
    "duration": 11,
    "start_time": "2022-08-26T17:37:34.428Z"
   },
   {
    "duration": 14,
    "start_time": "2022-08-26T17:37:34.441Z"
   },
   {
    "duration": 28,
    "start_time": "2022-08-26T17:37:34.456Z"
   },
   {
    "duration": 5,
    "start_time": "2022-08-26T17:37:34.485Z"
   },
   {
    "duration": 14,
    "start_time": "2022-08-26T17:37:34.491Z"
   },
   {
    "duration": 8,
    "start_time": "2022-08-26T17:37:34.506Z"
   },
   {
    "duration": 10,
    "start_time": "2022-08-26T17:37:34.515Z"
   },
   {
    "duration": 13,
    "start_time": "2022-08-26T17:37:34.527Z"
   },
   {
    "duration": 40,
    "start_time": "2022-08-26T17:37:34.541Z"
   },
   {
    "duration": 15,
    "start_time": "2022-08-26T17:37:34.582Z"
   },
   {
    "duration": 7,
    "start_time": "2022-08-26T17:37:34.599Z"
   },
   {
    "duration": 8,
    "start_time": "2022-08-26T17:37:34.607Z"
   },
   {
    "duration": 12,
    "start_time": "2022-08-26T17:37:34.616Z"
   },
   {
    "duration": 46,
    "start_time": "2022-08-26T17:37:34.629Z"
   },
   {
    "duration": 11,
    "start_time": "2022-08-26T17:37:34.677Z"
   },
   {
    "duration": 15,
    "start_time": "2022-08-26T17:37:34.690Z"
   },
   {
    "duration": 11,
    "start_time": "2022-08-26T17:37:34.707Z"
   },
   {
    "duration": 12,
    "start_time": "2022-08-26T17:37:34.720Z"
   },
   {
    "duration": 343,
    "start_time": "2022-08-26T17:37:34.734Z"
   },
   {
    "duration": 19,
    "start_time": "2022-08-26T17:37:35.079Z"
   },
   {
    "duration": 16,
    "start_time": "2022-08-26T17:37:35.100Z"
   },
   {
    "duration": 15,
    "start_time": "2022-08-26T17:37:35.118Z"
   },
   {
    "duration": 43,
    "start_time": "2022-08-26T17:37:35.135Z"
   },
   {
    "duration": 258,
    "start_time": "2022-08-26T17:37:35.180Z"
   },
   {
    "duration": 10,
    "start_time": "2022-08-26T17:37:35.439Z"
   },
   {
    "duration": 36,
    "start_time": "2022-08-26T17:37:35.453Z"
   },
   {
    "duration": 13,
    "start_time": "2022-08-26T17:37:35.491Z"
   },
   {
    "duration": 22,
    "start_time": "2022-08-26T17:37:35.506Z"
   },
   {
    "duration": 39,
    "start_time": "2022-08-26T17:37:35.530Z"
   },
   {
    "duration": 19,
    "start_time": "2022-08-26T17:37:35.571Z"
   },
   {
    "duration": 15,
    "start_time": "2022-08-26T17:37:35.591Z"
   },
   {
    "duration": 305,
    "start_time": "2022-08-26T17:37:35.607Z"
   },
   {
    "duration": 1459,
    "start_time": "2022-08-26T17:37:35.914Z"
   },
   {
    "duration": 0,
    "start_time": "2022-08-26T17:37:37.375Z"
   },
   {
    "duration": 25,
    "start_time": "2022-08-26T17:39:12.134Z"
   },
   {
    "duration": 1218,
    "start_time": "2022-08-26T17:41:12.129Z"
   },
   {
    "duration": 78,
    "start_time": "2022-08-26T17:41:13.349Z"
   },
   {
    "duration": 11,
    "start_time": "2022-08-26T17:41:13.429Z"
   },
   {
    "duration": 11,
    "start_time": "2022-08-26T17:41:13.443Z"
   },
   {
    "duration": 28,
    "start_time": "2022-08-26T17:41:13.456Z"
   },
   {
    "duration": 3,
    "start_time": "2022-08-26T17:41:13.486Z"
   },
   {
    "duration": 15,
    "start_time": "2022-08-26T17:41:13.491Z"
   },
   {
    "duration": 10,
    "start_time": "2022-08-26T17:41:13.509Z"
   },
   {
    "duration": 9,
    "start_time": "2022-08-26T17:41:13.521Z"
   },
   {
    "duration": 35,
    "start_time": "2022-08-26T17:41:13.533Z"
   },
   {
    "duration": 20,
    "start_time": "2022-08-26T17:41:13.569Z"
   },
   {
    "duration": 14,
    "start_time": "2022-08-26T17:41:13.591Z"
   },
   {
    "duration": 7,
    "start_time": "2022-08-26T17:41:13.607Z"
   },
   {
    "duration": 9,
    "start_time": "2022-08-26T17:41:13.616Z"
   },
   {
    "duration": 51,
    "start_time": "2022-08-26T17:41:13.627Z"
   },
   {
    "duration": 17,
    "start_time": "2022-08-26T17:41:13.681Z"
   },
   {
    "duration": 16,
    "start_time": "2022-08-26T17:41:13.700Z"
   },
   {
    "duration": 18,
    "start_time": "2022-08-26T17:41:13.718Z"
   },
   {
    "duration": 11,
    "start_time": "2022-08-26T17:41:13.738Z"
   },
   {
    "duration": 13,
    "start_time": "2022-08-26T17:41:13.767Z"
   },
   {
    "duration": 372,
    "start_time": "2022-08-26T17:41:13.782Z"
   },
   {
    "duration": 31,
    "start_time": "2022-08-26T17:41:14.155Z"
   },
   {
    "duration": 20,
    "start_time": "2022-08-26T17:41:14.188Z"
   },
   {
    "duration": 16,
    "start_time": "2022-08-26T17:41:14.210Z"
   },
   {
    "duration": 41,
    "start_time": "2022-08-26T17:41:14.228Z"
   },
   {
    "duration": 264,
    "start_time": "2022-08-26T17:41:14.271Z"
   },
   {
    "duration": 10,
    "start_time": "2022-08-26T17:41:14.537Z"
   },
   {
    "duration": 40,
    "start_time": "2022-08-26T17:41:14.551Z"
   },
   {
    "duration": 17,
    "start_time": "2022-08-26T17:41:14.593Z"
   },
   {
    "duration": 31,
    "start_time": "2022-08-26T17:41:14.612Z"
   },
   {
    "duration": 33,
    "start_time": "2022-08-26T17:41:14.645Z"
   },
   {
    "duration": 28,
    "start_time": "2022-08-26T17:41:14.681Z"
   },
   {
    "duration": 17,
    "start_time": "2022-08-26T17:41:14.711Z"
   },
   {
    "duration": 314,
    "start_time": "2022-08-26T17:41:14.729Z"
   },
   {
    "duration": 1709,
    "start_time": "2022-08-26T17:41:15.045Z"
   },
   {
    "duration": 0,
    "start_time": "2022-08-26T17:41:16.756Z"
   },
   {
    "duration": 1180,
    "start_time": "2022-08-26T17:43:34.988Z"
   },
   {
    "duration": 75,
    "start_time": "2022-08-26T17:43:36.170Z"
   },
   {
    "duration": 14,
    "start_time": "2022-08-26T17:43:36.247Z"
   },
   {
    "duration": 10,
    "start_time": "2022-08-26T17:43:36.264Z"
   },
   {
    "duration": 21,
    "start_time": "2022-08-26T17:43:36.276Z"
   },
   {
    "duration": 5,
    "start_time": "2022-08-26T17:43:36.299Z"
   },
   {
    "duration": 12,
    "start_time": "2022-08-26T17:43:36.305Z"
   },
   {
    "duration": 9,
    "start_time": "2022-08-26T17:43:36.318Z"
   },
   {
    "duration": 15,
    "start_time": "2022-08-26T17:43:36.329Z"
   },
   {
    "duration": 13,
    "start_time": "2022-08-26T17:43:36.367Z"
   },
   {
    "duration": 21,
    "start_time": "2022-08-26T17:43:36.382Z"
   },
   {
    "duration": 14,
    "start_time": "2022-08-26T17:43:36.405Z"
   },
   {
    "duration": 7,
    "start_time": "2022-08-26T17:43:36.421Z"
   },
   {
    "duration": 39,
    "start_time": "2022-08-26T17:43:36.430Z"
   },
   {
    "duration": 19,
    "start_time": "2022-08-26T17:43:36.471Z"
   },
   {
    "duration": 20,
    "start_time": "2022-08-26T17:43:36.492Z"
   },
   {
    "duration": 26,
    "start_time": "2022-08-26T17:43:36.515Z"
   },
   {
    "duration": 36,
    "start_time": "2022-08-26T17:43:36.543Z"
   },
   {
    "duration": 13,
    "start_time": "2022-08-26T17:43:36.582Z"
   },
   {
    "duration": 14,
    "start_time": "2022-08-26T17:43:36.597Z"
   },
   {
    "duration": 347,
    "start_time": "2022-08-26T17:43:36.612Z"
   },
   {
    "duration": 18,
    "start_time": "2022-08-26T17:43:36.967Z"
   },
   {
    "duration": 16,
    "start_time": "2022-08-26T17:43:36.987Z"
   },
   {
    "duration": 13,
    "start_time": "2022-08-26T17:43:37.005Z"
   },
   {
    "duration": 10,
    "start_time": "2022-08-26T17:43:37.020Z"
   },
   {
    "duration": 269,
    "start_time": "2022-08-26T17:43:37.032Z"
   },
   {
    "duration": 9,
    "start_time": "2022-08-26T17:43:37.303Z"
   },
   {
    "duration": 22,
    "start_time": "2022-08-26T17:43:37.315Z"
   },
   {
    "duration": 30,
    "start_time": "2022-08-26T17:43:37.339Z"
   },
   {
    "duration": 24,
    "start_time": "2022-08-26T17:43:37.371Z"
   },
   {
    "duration": 11,
    "start_time": "2022-08-26T17:43:37.397Z"
   },
   {
    "duration": 21,
    "start_time": "2022-08-26T17:43:37.410Z"
   },
   {
    "duration": 50,
    "start_time": "2022-08-26T17:43:37.433Z"
   },
   {
    "duration": 258,
    "start_time": "2022-08-26T17:43:37.485Z"
   },
   {
    "duration": 1559,
    "start_time": "2022-08-26T17:43:37.745Z"
   },
   {
    "duration": 0,
    "start_time": "2022-08-26T17:43:39.306Z"
   },
   {
    "duration": 7,
    "start_time": "2022-08-26T17:45:02.346Z"
   },
   {
    "duration": 200,
    "start_time": "2022-08-26T17:46:24.405Z"
   },
   {
    "duration": 211,
    "start_time": "2022-08-26T17:46:46.943Z"
   },
   {
    "duration": 239,
    "start_time": "2022-08-26T17:46:52.009Z"
   },
   {
    "duration": 251,
    "start_time": "2022-08-26T17:48:44.013Z"
   },
   {
    "duration": 257,
    "start_time": "2022-08-26T17:49:09.301Z"
   },
   {
    "duration": 347,
    "start_time": "2022-08-26T17:49:20.124Z"
   },
   {
    "duration": 9,
    "start_time": "2022-08-26T17:58:29.108Z"
   },
   {
    "duration": 11,
    "start_time": "2022-08-26T18:09:57.504Z"
   },
   {
    "duration": 9,
    "start_time": "2022-08-26T18:10:07.245Z"
   },
   {
    "duration": 8,
    "start_time": "2022-08-26T18:16:50.503Z"
   },
   {
    "duration": 16,
    "start_time": "2022-08-26T18:17:23.511Z"
   },
   {
    "duration": 17,
    "start_time": "2022-08-26T18:17:49.462Z"
   },
   {
    "duration": 16,
    "start_time": "2022-08-26T18:18:10.717Z"
   },
   {
    "duration": 16,
    "start_time": "2022-08-26T18:19:20.562Z"
   },
   {
    "duration": 14,
    "start_time": "2022-08-26T18:34:39.958Z"
   },
   {
    "duration": 46,
    "start_time": "2022-08-30T15:30:41.125Z"
   },
   {
    "duration": 1307,
    "start_time": "2022-08-30T15:30:51.335Z"
   },
   {
    "duration": 206,
    "start_time": "2022-08-30T15:30:52.644Z"
   },
   {
    "duration": 16,
    "start_time": "2022-08-30T15:30:52.853Z"
   },
   {
    "duration": 14,
    "start_time": "2022-08-30T15:30:52.870Z"
   },
   {
    "duration": 24,
    "start_time": "2022-08-30T15:30:52.886Z"
   },
   {
    "duration": 3,
    "start_time": "2022-08-30T15:30:52.913Z"
   },
   {
    "duration": 20,
    "start_time": "2022-08-30T15:30:52.917Z"
   },
   {
    "duration": 14,
    "start_time": "2022-08-30T15:30:52.939Z"
   },
   {
    "duration": 15,
    "start_time": "2022-08-30T15:30:52.956Z"
   },
   {
    "duration": 26,
    "start_time": "2022-08-30T15:30:52.973Z"
   },
   {
    "duration": 27,
    "start_time": "2022-08-30T15:30:53.001Z"
   },
   {
    "duration": 24,
    "start_time": "2022-08-30T15:30:53.030Z"
   },
   {
    "duration": 13,
    "start_time": "2022-08-30T15:30:53.056Z"
   },
   {
    "duration": 18,
    "start_time": "2022-08-30T15:30:53.073Z"
   },
   {
    "duration": 12,
    "start_time": "2022-08-30T15:30:53.093Z"
   },
   {
    "duration": 22,
    "start_time": "2022-08-30T15:30:53.106Z"
   },
   {
    "duration": 23,
    "start_time": "2022-08-30T15:30:53.130Z"
   },
   {
    "duration": 36,
    "start_time": "2022-08-30T15:30:53.155Z"
   },
   {
    "duration": 16,
    "start_time": "2022-08-30T15:30:53.193Z"
   },
   {
    "duration": 29,
    "start_time": "2022-08-30T15:30:53.212Z"
   },
   {
    "duration": 405,
    "start_time": "2022-08-30T15:30:53.243Z"
   },
   {
    "duration": 18,
    "start_time": "2022-08-30T15:30:53.649Z"
   },
   {
    "duration": 34,
    "start_time": "2022-08-30T15:30:53.668Z"
   },
   {
    "duration": 13,
    "start_time": "2022-08-30T15:30:53.704Z"
   },
   {
    "duration": 9,
    "start_time": "2022-08-30T15:30:53.719Z"
   },
   {
    "duration": 272,
    "start_time": "2022-08-30T15:30:53.730Z"
   },
   {
    "duration": 10,
    "start_time": "2022-08-30T15:30:54.004Z"
   },
   {
    "duration": 27,
    "start_time": "2022-08-30T15:30:54.016Z"
   },
   {
    "duration": 13,
    "start_time": "2022-08-30T15:30:54.045Z"
   },
   {
    "duration": 46,
    "start_time": "2022-08-30T15:30:54.060Z"
   },
   {
    "duration": 23,
    "start_time": "2022-08-30T15:30:54.108Z"
   },
   {
    "duration": 24,
    "start_time": "2022-08-30T15:30:54.133Z"
   },
   {
    "duration": 291,
    "start_time": "2022-08-30T15:30:54.159Z"
   },
   {
    "duration": 6,
    "start_time": "2022-08-30T15:30:54.452Z"
   },
   {
    "duration": 256,
    "start_time": "2022-08-30T15:30:54.461Z"
   },
   {
    "duration": 13,
    "start_time": "2022-08-30T15:30:54.719Z"
   },
   {
    "duration": 21,
    "start_time": "2022-08-30T15:30:54.734Z"
   },
   {
    "duration": 21,
    "start_time": "2022-08-30T15:30:54.756Z"
   },
   {
    "duration": 14,
    "start_time": "2022-08-30T15:30:54.786Z"
   },
   {
    "duration": 97,
    "start_time": "2022-08-30T15:39:05.769Z"
   },
   {
    "duration": 1185,
    "start_time": "2022-08-30T15:39:19.976Z"
   },
   {
    "duration": 80,
    "start_time": "2022-08-30T15:39:21.163Z"
   },
   {
    "duration": 11,
    "start_time": "2022-08-30T15:39:21.244Z"
   },
   {
    "duration": 11,
    "start_time": "2022-08-30T15:39:21.256Z"
   },
   {
    "duration": 20,
    "start_time": "2022-08-30T15:39:21.269Z"
   },
   {
    "duration": 18,
    "start_time": "2022-08-30T15:39:21.291Z"
   },
   {
    "duration": 13,
    "start_time": "2022-08-30T15:39:21.310Z"
   },
   {
    "duration": 10,
    "start_time": "2022-08-30T15:39:21.324Z"
   },
   {
    "duration": 10,
    "start_time": "2022-08-30T15:39:21.335Z"
   },
   {
    "duration": 14,
    "start_time": "2022-08-30T15:39:21.347Z"
   },
   {
    "duration": 23,
    "start_time": "2022-08-30T15:39:21.363Z"
   },
   {
    "duration": 14,
    "start_time": "2022-08-30T15:39:21.388Z"
   },
   {
    "duration": 6,
    "start_time": "2022-08-30T15:39:21.403Z"
   },
   {
    "duration": 7,
    "start_time": "2022-08-30T15:39:21.413Z"
   },
   {
    "duration": 17,
    "start_time": "2022-08-30T15:39:21.421Z"
   },
   {
    "duration": 15,
    "start_time": "2022-08-30T15:39:21.440Z"
   },
   {
    "duration": 35,
    "start_time": "2022-08-30T15:39:21.456Z"
   },
   {
    "duration": 14,
    "start_time": "2022-08-30T15:39:21.493Z"
   },
   {
    "duration": 10,
    "start_time": "2022-08-30T15:39:21.509Z"
   },
   {
    "duration": 18,
    "start_time": "2022-08-30T15:39:21.520Z"
   },
   {
    "duration": 349,
    "start_time": "2022-08-30T15:39:21.539Z"
   },
   {
    "duration": 18,
    "start_time": "2022-08-30T15:39:21.890Z"
   },
   {
    "duration": 17,
    "start_time": "2022-08-30T15:39:21.910Z"
   },
   {
    "duration": 13,
    "start_time": "2022-08-30T15:39:21.929Z"
   },
   {
    "duration": 12,
    "start_time": "2022-08-30T15:39:21.943Z"
   },
   {
    "duration": 238,
    "start_time": "2022-08-30T15:39:21.987Z"
   },
   {
    "duration": 9,
    "start_time": "2022-08-30T15:39:22.226Z"
   },
   {
    "duration": 20,
    "start_time": "2022-08-30T15:39:22.237Z"
   },
   {
    "duration": 30,
    "start_time": "2022-08-30T15:39:22.259Z"
   },
   {
    "duration": 21,
    "start_time": "2022-08-30T15:39:22.291Z"
   },
   {
    "duration": 18,
    "start_time": "2022-08-30T15:39:22.313Z"
   },
   {
    "duration": 16,
    "start_time": "2022-08-30T15:39:22.333Z"
   },
   {
    "duration": 266,
    "start_time": "2022-08-30T15:39:22.350Z"
   },
   {
    "duration": 7,
    "start_time": "2022-08-30T15:39:22.617Z"
   },
   {
    "duration": 233,
    "start_time": "2022-08-30T15:39:22.626Z"
   },
   {
    "duration": 9,
    "start_time": "2022-08-30T15:39:22.861Z"
   },
   {
    "duration": 20,
    "start_time": "2022-08-30T15:39:22.871Z"
   },
   {
    "duration": 15,
    "start_time": "2022-08-30T15:39:22.892Z"
   },
   {
    "duration": 10,
    "start_time": "2022-08-30T15:39:22.909Z"
   },
   {
    "duration": 115,
    "start_time": "2022-08-30T15:39:22.920Z"
   },
   {
    "duration": 10,
    "start_time": "2022-08-30T15:41:55.233Z"
   },
   {
    "duration": 10,
    "start_time": "2022-08-30T15:43:35.268Z"
   },
   {
    "duration": 10,
    "start_time": "2022-08-30T15:43:45.893Z"
   },
   {
    "duration": 15,
    "start_time": "2022-08-30T15:45:55.808Z"
   },
   {
    "duration": 11,
    "start_time": "2022-08-30T15:46:17.979Z"
   },
   {
    "duration": 247,
    "start_time": "2022-08-30T15:51:08.343Z"
   },
   {
    "duration": 10,
    "start_time": "2022-08-30T15:52:05.195Z"
   },
   {
    "duration": 102,
    "start_time": "2022-08-30T15:52:21.543Z"
   },
   {
    "duration": 114,
    "start_time": "2022-08-30T15:52:39.747Z"
   },
   {
    "duration": 1203,
    "start_time": "2022-08-30T15:52:56.070Z"
   },
   {
    "duration": 80,
    "start_time": "2022-08-30T15:52:57.274Z"
   },
   {
    "duration": 10,
    "start_time": "2022-08-30T15:52:57.356Z"
   },
   {
    "duration": 10,
    "start_time": "2022-08-30T15:52:57.368Z"
   },
   {
    "duration": 19,
    "start_time": "2022-08-30T15:52:57.380Z"
   },
   {
    "duration": 6,
    "start_time": "2022-08-30T15:52:57.401Z"
   },
   {
    "duration": 12,
    "start_time": "2022-08-30T15:52:57.408Z"
   },
   {
    "duration": 7,
    "start_time": "2022-08-30T15:52:57.421Z"
   },
   {
    "duration": 12,
    "start_time": "2022-08-30T15:52:57.430Z"
   },
   {
    "duration": 10,
    "start_time": "2022-08-30T15:52:57.444Z"
   },
   {
    "duration": 32,
    "start_time": "2022-08-30T15:52:57.456Z"
   },
   {
    "duration": 14,
    "start_time": "2022-08-30T15:52:57.489Z"
   },
   {
    "duration": 9,
    "start_time": "2022-08-30T15:52:57.505Z"
   },
   {
    "duration": 7,
    "start_time": "2022-08-30T15:52:57.517Z"
   },
   {
    "duration": 13,
    "start_time": "2022-08-30T15:52:57.525Z"
   },
   {
    "duration": 16,
    "start_time": "2022-08-30T15:52:57.539Z"
   },
   {
    "duration": 36,
    "start_time": "2022-08-30T15:52:57.558Z"
   },
   {
    "duration": 15,
    "start_time": "2022-08-30T15:52:57.596Z"
   },
   {
    "duration": 14,
    "start_time": "2022-08-30T15:52:57.613Z"
   },
   {
    "duration": 18,
    "start_time": "2022-08-30T15:52:57.629Z"
   },
   {
    "duration": 319,
    "start_time": "2022-08-30T15:52:57.648Z"
   },
   {
    "duration": 29,
    "start_time": "2022-08-30T15:52:57.969Z"
   },
   {
    "duration": 18,
    "start_time": "2022-08-30T15:52:58.000Z"
   },
   {
    "duration": 13,
    "start_time": "2022-08-30T15:52:58.020Z"
   },
   {
    "duration": 11,
    "start_time": "2022-08-30T15:52:58.035Z"
   },
   {
    "duration": 272,
    "start_time": "2022-08-30T15:52:58.048Z"
   },
   {
    "duration": 9,
    "start_time": "2022-08-30T15:52:58.322Z"
   },
   {
    "duration": 19,
    "start_time": "2022-08-30T15:52:58.332Z"
   },
   {
    "duration": 11,
    "start_time": "2022-08-30T15:52:58.353Z"
   },
   {
    "duration": 21,
    "start_time": "2022-08-30T15:52:58.386Z"
   },
   {
    "duration": 19,
    "start_time": "2022-08-30T15:52:58.408Z"
   },
   {
    "duration": 15,
    "start_time": "2022-08-30T15:52:58.429Z"
   },
   {
    "duration": 262,
    "start_time": "2022-08-30T15:52:58.446Z"
   },
   {
    "duration": 6,
    "start_time": "2022-08-30T15:52:58.709Z"
   },
   {
    "duration": 219,
    "start_time": "2022-08-30T15:52:58.717Z"
   },
   {
    "duration": 9,
    "start_time": "2022-08-30T15:52:58.937Z"
   },
   {
    "duration": 10,
    "start_time": "2022-08-30T15:52:58.947Z"
   },
   {
    "duration": 12,
    "start_time": "2022-08-30T15:52:58.959Z"
   },
   {
    "duration": 11,
    "start_time": "2022-08-30T15:52:58.987Z"
   },
   {
    "duration": 12,
    "start_time": "2022-08-30T15:52:58.999Z"
   },
   {
    "duration": 10,
    "start_time": "2022-08-30T15:52:59.015Z"
   },
   {
    "duration": 13,
    "start_time": "2022-08-30T15:52:59.026Z"
   },
   {
    "duration": 136,
    "start_time": "2022-08-30T15:52:59.040Z"
   },
   {
    "duration": 265,
    "start_time": "2022-08-30T15:54:22.825Z"
   },
   {
    "duration": 163,
    "start_time": "2022-08-30T15:54:45.563Z"
   },
   {
    "duration": 11,
    "start_time": "2022-08-30T15:57:02.678Z"
   },
   {
    "duration": 164,
    "start_time": "2022-08-30T15:58:00.562Z"
   },
   {
    "duration": 179,
    "start_time": "2022-08-30T15:59:41.240Z"
   },
   {
    "duration": 119,
    "start_time": "2022-08-30T15:59:48.488Z"
   },
   {
    "duration": 172,
    "start_time": "2022-08-30T16:01:46.348Z"
   },
   {
    "duration": 22,
    "start_time": "2022-08-30T16:03:51.928Z"
   },
   {
    "duration": 13,
    "start_time": "2022-08-30T16:06:27.304Z"
   },
   {
    "duration": 14,
    "start_time": "2022-08-30T16:08:40.495Z"
   },
   {
    "duration": 14,
    "start_time": "2022-08-30T16:08:55.465Z"
   },
   {
    "duration": 15,
    "start_time": "2022-08-30T16:09:39.198Z"
   },
   {
    "duration": 15,
    "start_time": "2022-08-30T16:09:48.844Z"
   },
   {
    "duration": 15,
    "start_time": "2022-08-30T16:09:59.699Z"
   },
   {
    "duration": 1267,
    "start_time": "2022-08-30T16:10:09.026Z"
   },
   {
    "duration": 79,
    "start_time": "2022-08-30T16:10:10.296Z"
   },
   {
    "duration": 12,
    "start_time": "2022-08-30T16:10:10.377Z"
   },
   {
    "duration": 26,
    "start_time": "2022-08-30T16:10:10.391Z"
   },
   {
    "duration": 44,
    "start_time": "2022-08-30T16:10:10.419Z"
   },
   {
    "duration": 15,
    "start_time": "2022-08-30T16:10:10.465Z"
   },
   {
    "duration": 22,
    "start_time": "2022-08-30T16:10:10.482Z"
   },
   {
    "duration": 18,
    "start_time": "2022-08-30T16:10:10.506Z"
   },
   {
    "duration": 30,
    "start_time": "2022-08-30T16:10:10.525Z"
   },
   {
    "duration": 14,
    "start_time": "2022-08-30T16:10:10.557Z"
   },
   {
    "duration": 33,
    "start_time": "2022-08-30T16:10:10.573Z"
   },
   {
    "duration": 14,
    "start_time": "2022-08-30T16:10:10.607Z"
   },
   {
    "duration": 6,
    "start_time": "2022-08-30T16:10:10.623Z"
   },
   {
    "duration": 7,
    "start_time": "2022-08-30T16:10:10.633Z"
   },
   {
    "duration": 12,
    "start_time": "2022-08-30T16:10:10.642Z"
   },
   {
    "duration": 35,
    "start_time": "2022-08-30T16:10:10.655Z"
   },
   {
    "duration": 11,
    "start_time": "2022-08-30T16:10:10.692Z"
   },
   {
    "duration": 17,
    "start_time": "2022-08-30T16:10:10.704Z"
   },
   {
    "duration": 10,
    "start_time": "2022-08-30T16:10:10.722Z"
   },
   {
    "duration": 13,
    "start_time": "2022-08-30T16:10:10.734Z"
   },
   {
    "duration": 325,
    "start_time": "2022-08-30T16:10:10.749Z"
   },
   {
    "duration": 26,
    "start_time": "2022-08-30T16:10:11.076Z"
   },
   {
    "duration": 17,
    "start_time": "2022-08-30T16:10:11.104Z"
   },
   {
    "duration": 14,
    "start_time": "2022-08-30T16:10:11.123Z"
   },
   {
    "duration": 14,
    "start_time": "2022-08-30T16:10:11.138Z"
   },
   {
    "duration": 288,
    "start_time": "2022-08-30T16:10:11.153Z"
   },
   {
    "duration": 9,
    "start_time": "2022-08-30T16:10:11.443Z"
   },
   {
    "duration": 35,
    "start_time": "2022-08-30T16:10:11.453Z"
   },
   {
    "duration": 11,
    "start_time": "2022-08-30T16:10:11.490Z"
   },
   {
    "duration": 23,
    "start_time": "2022-08-30T16:10:11.503Z"
   },
   {
    "duration": 19,
    "start_time": "2022-08-30T16:10:11.527Z"
   },
   {
    "duration": 42,
    "start_time": "2022-08-30T16:10:11.548Z"
   },
   {
    "duration": 252,
    "start_time": "2022-08-30T16:10:11.592Z"
   },
   {
    "duration": 6,
    "start_time": "2022-08-30T16:10:11.846Z"
   },
   {
    "duration": 239,
    "start_time": "2022-08-30T16:10:11.854Z"
   },
   {
    "duration": 10,
    "start_time": "2022-08-30T16:10:12.095Z"
   },
   {
    "duration": 12,
    "start_time": "2022-08-30T16:10:12.107Z"
   },
   {
    "duration": 16,
    "start_time": "2022-08-30T16:10:12.120Z"
   },
   {
    "duration": 10,
    "start_time": "2022-08-30T16:10:12.137Z"
   },
   {
    "duration": 12,
    "start_time": "2022-08-30T16:10:12.148Z"
   },
   {
    "duration": 10,
    "start_time": "2022-08-30T16:10:12.189Z"
   },
   {
    "duration": 16,
    "start_time": "2022-08-30T16:10:12.201Z"
   },
   {
    "duration": 106,
    "start_time": "2022-08-30T16:10:12.219Z"
   },
   {
    "duration": 0,
    "start_time": "2022-08-30T16:10:12.326Z"
   },
   {
    "duration": 15,
    "start_time": "2022-08-30T16:10:25.903Z"
   },
   {
    "duration": 16,
    "start_time": "2022-08-30T16:10:42.758Z"
   },
   {
    "duration": 8,
    "start_time": "2022-08-30T16:10:52.830Z"
   },
   {
    "duration": 15,
    "start_time": "2022-08-30T16:11:07.158Z"
   },
   {
    "duration": 20,
    "start_time": "2022-08-30T16:12:06.447Z"
   },
   {
    "duration": 17,
    "start_time": "2022-08-30T16:12:32.805Z"
   },
   {
    "duration": 14,
    "start_time": "2022-08-30T16:12:44.310Z"
   },
   {
    "duration": 1024,
    "start_time": "2022-08-30T16:12:50.451Z"
   },
   {
    "duration": 79,
    "start_time": "2022-08-30T16:12:51.477Z"
   },
   {
    "duration": 10,
    "start_time": "2022-08-30T16:12:51.558Z"
   },
   {
    "duration": 10,
    "start_time": "2022-08-30T16:12:51.569Z"
   },
   {
    "duration": 36,
    "start_time": "2022-08-30T16:12:51.580Z"
   },
   {
    "duration": 2,
    "start_time": "2022-08-30T16:12:51.618Z"
   },
   {
    "duration": 18,
    "start_time": "2022-08-30T16:12:51.622Z"
   },
   {
    "duration": 9,
    "start_time": "2022-08-30T16:12:51.641Z"
   },
   {
    "duration": 10,
    "start_time": "2022-08-30T16:12:51.651Z"
   },
   {
    "duration": 11,
    "start_time": "2022-08-30T16:12:51.663Z"
   },
   {
    "duration": 18,
    "start_time": "2022-08-30T16:12:51.675Z"
   },
   {
    "duration": 13,
    "start_time": "2022-08-30T16:12:51.695Z"
   },
   {
    "duration": 7,
    "start_time": "2022-08-30T16:12:51.710Z"
   },
   {
    "duration": 8,
    "start_time": "2022-08-30T16:12:51.718Z"
   },
   {
    "duration": 12,
    "start_time": "2022-08-30T16:12:51.727Z"
   },
   {
    "duration": 14,
    "start_time": "2022-08-30T16:12:51.740Z"
   },
   {
    "duration": 33,
    "start_time": "2022-08-30T16:12:51.756Z"
   },
   {
    "duration": 12,
    "start_time": "2022-08-30T16:12:51.791Z"
   },
   {
    "duration": 10,
    "start_time": "2022-08-30T16:12:51.805Z"
   },
   {
    "duration": 18,
    "start_time": "2022-08-30T16:12:51.817Z"
   },
   {
    "duration": 333,
    "start_time": "2022-08-30T16:12:51.837Z"
   },
   {
    "duration": 28,
    "start_time": "2022-08-30T16:12:52.172Z"
   },
   {
    "duration": 14,
    "start_time": "2022-08-30T16:12:52.202Z"
   },
   {
    "duration": 13,
    "start_time": "2022-08-30T16:12:52.218Z"
   },
   {
    "duration": 8,
    "start_time": "2022-08-30T16:12:52.232Z"
   },
   {
    "duration": 254,
    "start_time": "2022-08-30T16:12:52.242Z"
   },
   {
    "duration": 9,
    "start_time": "2022-08-30T16:12:52.498Z"
   },
   {
    "duration": 21,
    "start_time": "2022-08-30T16:12:52.510Z"
   },
   {
    "duration": 10,
    "start_time": "2022-08-30T16:12:52.533Z"
   },
   {
    "duration": 46,
    "start_time": "2022-08-30T16:12:52.545Z"
   },
   {
    "duration": 19,
    "start_time": "2022-08-30T16:12:52.592Z"
   },
   {
    "duration": 22,
    "start_time": "2022-08-30T16:12:52.612Z"
   },
   {
    "duration": 250,
    "start_time": "2022-08-30T16:12:52.635Z"
   },
   {
    "duration": 5,
    "start_time": "2022-08-30T16:12:52.887Z"
   },
   {
    "duration": 227,
    "start_time": "2022-08-30T16:12:52.894Z"
   },
   {
    "duration": 9,
    "start_time": "2022-08-30T16:12:53.122Z"
   },
   {
    "duration": 11,
    "start_time": "2022-08-30T16:12:53.133Z"
   },
   {
    "duration": 15,
    "start_time": "2022-08-30T16:12:53.145Z"
   },
   {
    "duration": 27,
    "start_time": "2022-08-30T16:12:53.161Z"
   },
   {
    "duration": 10,
    "start_time": "2022-08-30T16:12:53.189Z"
   },
   {
    "duration": 10,
    "start_time": "2022-08-30T16:12:53.201Z"
   },
   {
    "duration": 18,
    "start_time": "2022-08-30T16:12:53.213Z"
   },
   {
    "duration": 17,
    "start_time": "2022-08-30T16:12:53.232Z"
   },
   {
    "duration": 1120,
    "start_time": "2022-08-30T16:12:53.250Z"
   },
   {
    "duration": 7,
    "start_time": "2022-08-30T16:14:03.523Z"
   },
   {
    "duration": 12,
    "start_time": "2022-08-30T16:14:16.546Z"
   },
   {
    "duration": 233,
    "start_time": "2022-08-30T16:15:27.735Z"
   },
   {
    "duration": 9,
    "start_time": "2022-08-30T16:28:58.308Z"
   },
   {
    "duration": 7,
    "start_time": "2022-08-30T16:35:47.309Z"
   },
   {
    "duration": 14,
    "start_time": "2022-08-30T16:35:56.308Z"
   },
   {
    "duration": 10,
    "start_time": "2022-08-30T16:36:25.662Z"
   },
   {
    "duration": 9,
    "start_time": "2022-08-30T16:37:12.747Z"
   },
   {
    "duration": 9,
    "start_time": "2022-08-30T16:38:52.368Z"
   },
   {
    "duration": 14,
    "start_time": "2022-08-30T16:39:05.060Z"
   },
   {
    "duration": 61,
    "start_time": "2022-08-30T16:40:25.053Z"
   },
   {
    "duration": 119,
    "start_time": "2022-08-30T16:40:33.108Z"
   },
   {
    "duration": 110,
    "start_time": "2022-08-30T16:40:42.093Z"
   },
   {
    "duration": 109,
    "start_time": "2022-08-30T16:40:55.235Z"
   },
   {
    "duration": 211,
    "start_time": "2022-08-30T16:41:00.687Z"
   },
   {
    "duration": 132,
    "start_time": "2022-08-30T16:41:56.622Z"
   },
   {
    "duration": 3,
    "start_time": "2022-08-30T16:56:52.724Z"
   },
   {
    "duration": 3,
    "start_time": "2022-08-30T16:58:35.082Z"
   },
   {
    "duration": 4,
    "start_time": "2022-08-30T16:58:49.501Z"
   },
   {
    "duration": 5,
    "start_time": "2022-08-30T17:00:15.323Z"
   },
   {
    "duration": 5,
    "start_time": "2022-08-30T17:00:25.850Z"
   },
   {
    "duration": 53,
    "start_time": "2022-08-30T17:03:25.855Z"
   },
   {
    "duration": 8,
    "start_time": "2022-08-30T17:03:50.655Z"
   },
   {
    "duration": 22,
    "start_time": "2022-08-30T17:13:19.974Z"
   },
   {
    "duration": 139,
    "start_time": "2022-08-30T17:13:35.352Z"
   },
   {
    "duration": 150,
    "start_time": "2022-08-30T17:13:57.463Z"
   },
   {
    "duration": 138,
    "start_time": "2022-08-30T17:14:30.821Z"
   },
   {
    "duration": 3,
    "start_time": "2022-08-30T17:21:33.462Z"
   },
   {
    "duration": 4,
    "start_time": "2022-08-30T17:23:06.446Z"
   },
   {
    "duration": 5,
    "start_time": "2022-08-30T17:25:16.168Z"
   },
   {
    "duration": 4,
    "start_time": "2022-08-30T17:25:33.474Z"
   },
   {
    "duration": 23,
    "start_time": "2022-08-30T17:59:38.777Z"
   },
   {
    "duration": 224,
    "start_time": "2022-08-30T18:00:16.281Z"
   },
   {
    "duration": 1089,
    "start_time": "2022-08-30T18:01:21.672Z"
   },
   {
    "duration": 81,
    "start_time": "2022-08-30T18:01:22.762Z"
   },
   {
    "duration": 11,
    "start_time": "2022-08-30T18:01:22.844Z"
   },
   {
    "duration": 12,
    "start_time": "2022-08-30T18:01:22.857Z"
   },
   {
    "duration": 19,
    "start_time": "2022-08-30T18:01:22.871Z"
   },
   {
    "duration": 3,
    "start_time": "2022-08-30T18:01:22.892Z"
   },
   {
    "duration": 11,
    "start_time": "2022-08-30T18:01:22.896Z"
   },
   {
    "duration": 7,
    "start_time": "2022-08-30T18:01:22.909Z"
   },
   {
    "duration": 9,
    "start_time": "2022-08-30T18:01:22.918Z"
   },
   {
    "duration": 12,
    "start_time": "2022-08-30T18:01:22.928Z"
   },
   {
    "duration": 16,
    "start_time": "2022-08-30T18:01:22.941Z"
   },
   {
    "duration": 14,
    "start_time": "2022-08-30T18:01:22.986Z"
   },
   {
    "duration": 9,
    "start_time": "2022-08-30T18:01:23.001Z"
   },
   {
    "duration": 6,
    "start_time": "2022-08-30T18:01:23.013Z"
   },
   {
    "duration": 11,
    "start_time": "2022-08-30T18:01:23.021Z"
   },
   {
    "duration": 13,
    "start_time": "2022-08-30T18:01:23.033Z"
   },
   {
    "duration": 11,
    "start_time": "2022-08-30T18:01:23.047Z"
   },
   {
    "duration": 36,
    "start_time": "2022-08-30T18:01:23.059Z"
   },
   {
    "duration": 10,
    "start_time": "2022-08-30T18:01:23.097Z"
   },
   {
    "duration": 10,
    "start_time": "2022-08-30T18:01:23.109Z"
   },
   {
    "duration": 359,
    "start_time": "2022-08-30T18:01:23.121Z"
   },
   {
    "duration": 18,
    "start_time": "2022-08-30T18:01:23.486Z"
   },
   {
    "duration": 15,
    "start_time": "2022-08-30T18:01:23.506Z"
   },
   {
    "duration": 13,
    "start_time": "2022-08-30T18:01:23.522Z"
   },
   {
    "duration": 13,
    "start_time": "2022-08-30T18:01:23.536Z"
   },
   {
    "duration": 261,
    "start_time": "2022-08-30T18:01:23.551Z"
   },
   {
    "duration": 9,
    "start_time": "2022-08-30T18:01:23.813Z"
   },
   {
    "duration": 25,
    "start_time": "2022-08-30T18:01:23.824Z"
   },
   {
    "duration": 13,
    "start_time": "2022-08-30T18:01:23.851Z"
   },
   {
    "duration": 22,
    "start_time": "2022-08-30T18:01:23.888Z"
   },
   {
    "duration": 20,
    "start_time": "2022-08-30T18:01:23.912Z"
   },
   {
    "duration": 17,
    "start_time": "2022-08-30T18:01:23.934Z"
   },
   {
    "duration": 281,
    "start_time": "2022-08-30T18:01:23.953Z"
   },
   {
    "duration": 6,
    "start_time": "2022-08-30T18:01:24.237Z"
   },
   {
    "duration": 227,
    "start_time": "2022-08-30T18:01:24.245Z"
   },
   {
    "duration": 14,
    "start_time": "2022-08-30T18:01:24.474Z"
   },
   {
    "duration": 10,
    "start_time": "2022-08-30T18:01:24.490Z"
   },
   {
    "duration": 13,
    "start_time": "2022-08-30T18:01:24.501Z"
   },
   {
    "duration": 10,
    "start_time": "2022-08-30T18:01:24.515Z"
   },
   {
    "duration": 15,
    "start_time": "2022-08-30T18:01:24.527Z"
   },
   {
    "duration": 11,
    "start_time": "2022-08-30T18:01:24.546Z"
   },
   {
    "duration": 42,
    "start_time": "2022-08-30T18:01:24.558Z"
   },
   {
    "duration": 16,
    "start_time": "2022-08-30T18:01:24.602Z"
   },
   {
    "duration": 14,
    "start_time": "2022-08-30T18:01:24.620Z"
   },
   {
    "duration": 253,
    "start_time": "2022-08-30T18:01:24.635Z"
   },
   {
    "duration": 8,
    "start_time": "2022-08-30T18:01:24.890Z"
   },
   {
    "duration": 12,
    "start_time": "2022-08-30T18:01:24.900Z"
   },
   {
    "duration": 144,
    "start_time": "2022-08-30T18:01:24.914Z"
   },
   {
    "duration": 4,
    "start_time": "2022-08-30T18:01:25.060Z"
   },
   {
    "duration": 22,
    "start_time": "2022-08-30T18:01:25.066Z"
   },
   {
    "duration": 151,
    "start_time": "2022-08-30T18:01:25.090Z"
   },
   {
    "duration": 4,
    "start_time": "2022-08-30T18:01:25.243Z"
   },
   {
    "duration": 166,
    "start_time": "2022-08-30T18:01:25.248Z"
   },
   {
    "duration": 8,
    "start_time": "2022-08-30T18:19:29.737Z"
   },
   {
    "duration": 911,
    "start_time": "2022-08-30T18:20:46.265Z"
   },
   {
    "duration": 32,
    "start_time": "2022-08-30T18:21:03.197Z"
   },
   {
    "duration": 11,
    "start_time": "2022-08-30T18:21:33.450Z"
   },
   {
    "duration": 141,
    "start_time": "2022-08-30T19:14:12.526Z"
   },
   {
    "duration": 163,
    "start_time": "2022-08-30T19:14:40.284Z"
   },
   {
    "duration": 10,
    "start_time": "2022-08-30T19:31:34.710Z"
   },
   {
    "duration": 1225,
    "start_time": "2022-08-30T19:31:51.362Z"
   },
   {
    "duration": 83,
    "start_time": "2022-08-30T19:31:52.589Z"
   },
   {
    "duration": 17,
    "start_time": "2022-08-30T19:31:52.674Z"
   },
   {
    "duration": 12,
    "start_time": "2022-08-30T19:31:52.693Z"
   },
   {
    "duration": 22,
    "start_time": "2022-08-30T19:31:52.707Z"
   },
   {
    "duration": 3,
    "start_time": "2022-08-30T19:31:52.730Z"
   },
   {
    "duration": 12,
    "start_time": "2022-08-30T19:31:52.734Z"
   },
   {
    "duration": 43,
    "start_time": "2022-08-30T19:31:52.747Z"
   },
   {
    "duration": 16,
    "start_time": "2022-08-30T19:31:52.792Z"
   },
   {
    "duration": 12,
    "start_time": "2022-08-30T19:31:52.811Z"
   },
   {
    "duration": 23,
    "start_time": "2022-08-30T19:31:52.825Z"
   },
   {
    "duration": 47,
    "start_time": "2022-08-30T19:31:52.850Z"
   },
   {
    "duration": 12,
    "start_time": "2022-08-30T19:31:52.899Z"
   },
   {
    "duration": 8,
    "start_time": "2022-08-30T19:31:52.914Z"
   },
   {
    "duration": 13,
    "start_time": "2022-08-30T19:31:52.924Z"
   },
   {
    "duration": 15,
    "start_time": "2022-08-30T19:31:52.939Z"
   },
   {
    "duration": 36,
    "start_time": "2022-08-30T19:31:52.956Z"
   },
   {
    "duration": 12,
    "start_time": "2022-08-30T19:31:52.994Z"
   },
   {
    "duration": 11,
    "start_time": "2022-08-30T19:31:53.008Z"
   },
   {
    "duration": 14,
    "start_time": "2022-08-30T19:31:53.021Z"
   },
   {
    "duration": 336,
    "start_time": "2022-08-30T19:31:53.038Z"
   },
   {
    "duration": 30,
    "start_time": "2022-08-30T19:31:53.375Z"
   },
   {
    "duration": 28,
    "start_time": "2022-08-30T19:31:53.407Z"
   },
   {
    "duration": 49,
    "start_time": "2022-08-30T19:31:53.437Z"
   },
   {
    "duration": 10,
    "start_time": "2022-08-30T19:31:53.488Z"
   },
   {
    "duration": 276,
    "start_time": "2022-08-30T19:31:53.500Z"
   },
   {
    "duration": 11,
    "start_time": "2022-08-30T19:31:53.778Z"
   },
   {
    "duration": 25,
    "start_time": "2022-08-30T19:31:53.795Z"
   },
   {
    "duration": 12,
    "start_time": "2022-08-30T19:31:53.821Z"
   },
   {
    "duration": 52,
    "start_time": "2022-08-30T19:31:53.835Z"
   },
   {
    "duration": 28,
    "start_time": "2022-08-30T19:31:53.889Z"
   },
   {
    "duration": 16,
    "start_time": "2022-08-30T19:31:53.919Z"
   },
   {
    "duration": 255,
    "start_time": "2022-08-30T19:31:53.937Z"
   },
   {
    "duration": 9,
    "start_time": "2022-08-30T19:31:54.195Z"
   },
   {
    "duration": 284,
    "start_time": "2022-08-30T19:31:54.206Z"
   },
   {
    "duration": 10,
    "start_time": "2022-08-30T19:31:54.491Z"
   },
   {
    "duration": 11,
    "start_time": "2022-08-30T19:31:54.502Z"
   },
   {
    "duration": 15,
    "start_time": "2022-08-30T19:31:54.514Z"
   },
   {
    "duration": 10,
    "start_time": "2022-08-30T19:31:54.530Z"
   },
   {
    "duration": 12,
    "start_time": "2022-08-30T19:31:54.542Z"
   },
   {
    "duration": 11,
    "start_time": "2022-08-30T19:31:54.587Z"
   },
   {
    "duration": 18,
    "start_time": "2022-08-30T19:31:54.599Z"
   },
   {
    "duration": 18,
    "start_time": "2022-08-30T19:31:54.619Z"
   },
   {
    "duration": 21,
    "start_time": "2022-08-30T19:31:54.638Z"
   },
   {
    "duration": 275,
    "start_time": "2022-08-30T19:31:54.661Z"
   },
   {
    "duration": 9,
    "start_time": "2022-08-30T19:31:54.938Z"
   },
   {
    "duration": 10,
    "start_time": "2022-08-30T19:31:54.948Z"
   },
   {
    "duration": 171,
    "start_time": "2022-08-30T19:31:54.960Z"
   },
   {
    "duration": 4,
    "start_time": "2022-08-30T19:31:55.133Z"
   },
   {
    "duration": 12,
    "start_time": "2022-08-30T19:31:55.138Z"
   },
   {
    "duration": 163,
    "start_time": "2022-08-30T19:31:55.152Z"
   },
   {
    "duration": 4,
    "start_time": "2022-08-30T19:31:55.316Z"
   },
   {
    "duration": 185,
    "start_time": "2022-08-30T19:31:55.322Z"
   },
   {
    "duration": 9,
    "start_time": "2022-08-30T19:31:55.508Z"
   },
   {
    "duration": 31,
    "start_time": "2022-08-30T19:31:55.518Z"
   },
   {
    "duration": 36,
    "start_time": "2022-08-30T19:31:55.551Z"
   },
   {
    "duration": 8,
    "start_time": "2022-08-30T19:53:47.981Z"
   },
   {
    "duration": 131,
    "start_time": "2022-08-30T19:54:18.792Z"
   },
   {
    "duration": 51,
    "start_time": "2022-08-30T19:55:03.973Z"
   },
   {
    "duration": 44,
    "start_time": "2022-08-30T19:56:56.973Z"
   },
   {
    "duration": 68,
    "start_time": "2022-08-30T20:05:03.196Z"
   },
   {
    "duration": 76,
    "start_time": "2022-08-30T20:05:12.757Z"
   },
   {
    "duration": 53,
    "start_time": "2022-08-30T20:06:28.282Z"
   },
   {
    "duration": 44,
    "start_time": "2022-08-30T20:07:04.948Z"
   },
   {
    "duration": 67,
    "start_time": "2022-08-30T20:07:47.969Z"
   },
   {
    "duration": 47,
    "start_time": "2022-08-30T20:09:11.149Z"
   },
   {
    "duration": 67,
    "start_time": "2022-08-30T20:09:22.010Z"
   },
   {
    "duration": 58,
    "start_time": "2022-08-30T20:14:34.534Z"
   },
   {
    "duration": 1258,
    "start_time": "2022-08-30T20:17:17.968Z"
   },
   {
    "duration": 86,
    "start_time": "2022-08-30T20:17:19.228Z"
   },
   {
    "duration": 11,
    "start_time": "2022-08-30T20:17:19.316Z"
   },
   {
    "duration": 15,
    "start_time": "2022-08-30T20:17:19.329Z"
   },
   {
    "duration": 21,
    "start_time": "2022-08-30T20:17:19.346Z"
   },
   {
    "duration": 6,
    "start_time": "2022-08-30T20:17:19.369Z"
   },
   {
    "duration": 25,
    "start_time": "2022-08-30T20:17:19.376Z"
   },
   {
    "duration": 13,
    "start_time": "2022-08-30T20:17:19.404Z"
   },
   {
    "duration": 12,
    "start_time": "2022-08-30T20:17:19.419Z"
   },
   {
    "duration": 11,
    "start_time": "2022-08-30T20:17:19.433Z"
   },
   {
    "duration": 51,
    "start_time": "2022-08-30T20:17:19.446Z"
   },
   {
    "duration": 16,
    "start_time": "2022-08-30T20:17:19.500Z"
   },
   {
    "duration": 5,
    "start_time": "2022-08-30T20:17:19.518Z"
   },
   {
    "duration": 8,
    "start_time": "2022-08-30T20:17:19.525Z"
   },
   {
    "duration": 15,
    "start_time": "2022-08-30T20:17:19.534Z"
   },
   {
    "duration": 37,
    "start_time": "2022-08-30T20:17:19.550Z"
   },
   {
    "duration": 18,
    "start_time": "2022-08-30T20:17:19.590Z"
   },
   {
    "duration": 12,
    "start_time": "2022-08-30T20:17:19.610Z"
   },
   {
    "duration": 11,
    "start_time": "2022-08-30T20:17:19.624Z"
   },
   {
    "duration": 12,
    "start_time": "2022-08-30T20:17:19.637Z"
   },
   {
    "duration": 376,
    "start_time": "2022-08-30T20:17:19.650Z"
   },
   {
    "duration": 20,
    "start_time": "2022-08-30T20:17:20.029Z"
   },
   {
    "duration": 46,
    "start_time": "2022-08-30T20:17:20.051Z"
   },
   {
    "duration": 20,
    "start_time": "2022-08-30T20:17:20.099Z"
   },
   {
    "duration": 9,
    "start_time": "2022-08-30T20:17:20.122Z"
   },
   {
    "duration": 307,
    "start_time": "2022-08-30T20:17:20.133Z"
   },
   {
    "duration": 9,
    "start_time": "2022-08-30T20:17:20.442Z"
   },
   {
    "duration": 37,
    "start_time": "2022-08-30T20:17:20.452Z"
   },
   {
    "duration": 20,
    "start_time": "2022-08-30T20:17:20.491Z"
   },
   {
    "duration": 24,
    "start_time": "2022-08-30T20:17:20.513Z"
   },
   {
    "duration": 60,
    "start_time": "2022-08-30T20:17:20.538Z"
   },
   {
    "duration": 20,
    "start_time": "2022-08-30T20:17:20.602Z"
   },
   {
    "duration": 283,
    "start_time": "2022-08-30T20:17:20.624Z"
   },
   {
    "duration": 6,
    "start_time": "2022-08-30T20:17:20.909Z"
   },
   {
    "duration": 257,
    "start_time": "2022-08-30T20:17:20.916Z"
   },
   {
    "duration": 21,
    "start_time": "2022-08-30T20:17:21.175Z"
   },
   {
    "duration": 17,
    "start_time": "2022-08-30T20:17:21.199Z"
   },
   {
    "duration": 19,
    "start_time": "2022-08-30T20:17:21.217Z"
   },
   {
    "duration": 10,
    "start_time": "2022-08-30T20:17:21.238Z"
   },
   {
    "duration": 11,
    "start_time": "2022-08-30T20:17:21.251Z"
   },
   {
    "duration": 33,
    "start_time": "2022-08-30T20:17:21.267Z"
   },
   {
    "duration": 26,
    "start_time": "2022-08-30T20:17:21.306Z"
   },
   {
    "duration": 22,
    "start_time": "2022-08-30T20:17:21.334Z"
   },
   {
    "duration": 36,
    "start_time": "2022-08-30T20:17:21.358Z"
   },
   {
    "duration": 281,
    "start_time": "2022-08-30T20:17:21.397Z"
   },
   {
    "duration": 14,
    "start_time": "2022-08-30T20:17:21.680Z"
   },
   {
    "duration": 14,
    "start_time": "2022-08-30T20:17:21.696Z"
   },
   {
    "duration": 173,
    "start_time": "2022-08-30T20:17:21.711Z"
   },
   {
    "duration": 9,
    "start_time": "2022-08-30T20:17:21.888Z"
   },
   {
    "duration": 19,
    "start_time": "2022-08-30T20:17:21.901Z"
   },
   {
    "duration": 194,
    "start_time": "2022-08-30T20:17:21.921Z"
   },
   {
    "duration": 6,
    "start_time": "2022-08-30T20:17:22.117Z"
   },
   {
    "duration": 241,
    "start_time": "2022-08-30T20:17:22.126Z"
   },
   {
    "duration": 8,
    "start_time": "2022-08-30T20:17:22.369Z"
   },
   {
    "duration": 19,
    "start_time": "2022-08-30T20:17:22.379Z"
   },
   {
    "duration": 40,
    "start_time": "2022-08-30T20:17:22.402Z"
   },
   {
    "duration": 54,
    "start_time": "2022-08-30T20:17:22.444Z"
   },
   {
    "duration": 16,
    "start_time": "2022-08-30T20:17:22.501Z"
   },
   {
    "duration": 116,
    "start_time": "2022-08-30T20:42:04.088Z"
   },
   {
    "duration": 12,
    "start_time": "2022-08-30T20:42:25.242Z"
   },
   {
    "duration": 14,
    "start_time": "2022-08-30T20:42:40.883Z"
   },
   {
    "duration": 1199,
    "start_time": "2022-08-30T20:45:06.288Z"
   },
   {
    "duration": 79,
    "start_time": "2022-08-30T20:45:07.489Z"
   },
   {
    "duration": 17,
    "start_time": "2022-08-30T20:45:07.570Z"
   },
   {
    "duration": 12,
    "start_time": "2022-08-30T20:45:07.590Z"
   },
   {
    "duration": 31,
    "start_time": "2022-08-30T20:45:07.605Z"
   },
   {
    "duration": 3,
    "start_time": "2022-08-30T20:45:07.638Z"
   },
   {
    "duration": 25,
    "start_time": "2022-08-30T20:45:07.643Z"
   },
   {
    "duration": 21,
    "start_time": "2022-08-30T20:45:07.670Z"
   },
   {
    "duration": 14,
    "start_time": "2022-08-30T20:45:07.693Z"
   },
   {
    "duration": 19,
    "start_time": "2022-08-30T20:45:07.709Z"
   },
   {
    "duration": 19,
    "start_time": "2022-08-30T20:45:07.730Z"
   },
   {
    "duration": 40,
    "start_time": "2022-08-30T20:45:07.751Z"
   },
   {
    "duration": 6,
    "start_time": "2022-08-30T20:45:07.793Z"
   },
   {
    "duration": 11,
    "start_time": "2022-08-30T20:45:07.802Z"
   },
   {
    "duration": 12,
    "start_time": "2022-08-30T20:45:07.814Z"
   },
   {
    "duration": 14,
    "start_time": "2022-08-30T20:45:07.827Z"
   },
   {
    "duration": 12,
    "start_time": "2022-08-30T20:45:07.843Z"
   },
   {
    "duration": 17,
    "start_time": "2022-08-30T20:45:07.888Z"
   },
   {
    "duration": 13,
    "start_time": "2022-08-30T20:45:07.907Z"
   },
   {
    "duration": 14,
    "start_time": "2022-08-30T20:45:07.921Z"
   },
   {
    "duration": 405,
    "start_time": "2022-08-30T20:45:07.936Z"
   },
   {
    "duration": 20,
    "start_time": "2022-08-30T20:45:08.343Z"
   },
   {
    "duration": 37,
    "start_time": "2022-08-30T20:45:08.365Z"
   },
   {
    "duration": 16,
    "start_time": "2022-08-30T20:45:08.403Z"
   },
   {
    "duration": 13,
    "start_time": "2022-08-30T20:45:08.420Z"
   },
   {
    "duration": 300,
    "start_time": "2022-08-30T20:45:08.435Z"
   },
   {
    "duration": 9,
    "start_time": "2022-08-30T20:45:08.737Z"
   },
   {
    "duration": 29,
    "start_time": "2022-08-30T20:45:08.748Z"
   },
   {
    "duration": 13,
    "start_time": "2022-08-30T20:45:08.787Z"
   },
   {
    "duration": 32,
    "start_time": "2022-08-30T20:45:08.803Z"
   },
   {
    "duration": 23,
    "start_time": "2022-08-30T20:45:08.837Z"
   },
   {
    "duration": 20,
    "start_time": "2022-08-30T20:45:08.889Z"
   },
   {
    "duration": 289,
    "start_time": "2022-08-30T20:45:08.911Z"
   },
   {
    "duration": 7,
    "start_time": "2022-08-30T20:45:09.203Z"
   },
   {
    "duration": 255,
    "start_time": "2022-08-30T20:45:09.212Z"
   },
   {
    "duration": 18,
    "start_time": "2022-08-30T20:45:09.469Z"
   },
   {
    "duration": 7,
    "start_time": "2022-08-30T20:45:09.489Z"
   },
   {
    "duration": 15,
    "start_time": "2022-08-30T20:45:09.498Z"
   },
   {
    "duration": 11,
    "start_time": "2022-08-30T20:45:09.515Z"
   },
   {
    "duration": 14,
    "start_time": "2022-08-30T20:45:09.527Z"
   },
   {
    "duration": 43,
    "start_time": "2022-08-30T20:45:09.545Z"
   },
   {
    "duration": 31,
    "start_time": "2022-08-30T20:45:09.590Z"
   },
   {
    "duration": 27,
    "start_time": "2022-08-30T20:45:09.623Z"
   },
   {
    "duration": 36,
    "start_time": "2022-08-30T20:45:09.652Z"
   },
   {
    "duration": 270,
    "start_time": "2022-08-30T20:45:09.690Z"
   },
   {
    "duration": 9,
    "start_time": "2022-08-30T20:45:09.962Z"
   },
   {
    "duration": 28,
    "start_time": "2022-08-30T20:45:09.973Z"
   },
   {
    "duration": 167,
    "start_time": "2022-08-30T20:45:10.002Z"
   },
   {
    "duration": 4,
    "start_time": "2022-08-30T20:45:10.171Z"
   },
   {
    "duration": 17,
    "start_time": "2022-08-30T20:45:10.177Z"
   },
   {
    "duration": 189,
    "start_time": "2022-08-30T20:45:10.196Z"
   },
   {
    "duration": 6,
    "start_time": "2022-08-30T20:45:10.387Z"
   },
   {
    "duration": 205,
    "start_time": "2022-08-30T20:45:10.395Z"
   },
   {
    "duration": 11,
    "start_time": "2022-08-30T20:45:10.602Z"
   },
   {
    "duration": 17,
    "start_time": "2022-08-30T20:45:10.615Z"
   },
   {
    "duration": 37,
    "start_time": "2022-08-30T20:45:10.634Z"
   },
   {
    "duration": 111,
    "start_time": "2022-08-30T20:45:10.686Z"
   },
   {
    "duration": 16,
    "start_time": "2022-08-30T20:54:27.768Z"
   },
   {
    "duration": 18,
    "start_time": "2022-08-30T20:54:37.332Z"
   },
   {
    "duration": 14,
    "start_time": "2022-08-30T20:59:06.931Z"
   },
   {
    "duration": 20,
    "start_time": "2022-08-30T20:59:17.563Z"
   },
   {
    "duration": 11,
    "start_time": "2022-08-30T21:01:16.894Z"
   },
   {
    "duration": 21,
    "start_time": "2022-08-30T21:01:30.382Z"
   },
   {
    "duration": 17,
    "start_time": "2022-08-30T21:02:08.261Z"
   },
   {
    "duration": 12,
    "start_time": "2022-08-30T21:02:34.680Z"
   },
   {
    "duration": 14,
    "start_time": "2022-08-30T21:03:10.747Z"
   },
   {
    "duration": 1138,
    "start_time": "2022-08-31T06:19:41.783Z"
   },
   {
    "duration": 191,
    "start_time": "2022-08-31T06:19:42.923Z"
   },
   {
    "duration": 10,
    "start_time": "2022-08-31T06:19:43.115Z"
   },
   {
    "duration": 10,
    "start_time": "2022-08-31T06:19:43.126Z"
   },
   {
    "duration": 18,
    "start_time": "2022-08-31T06:19:43.138Z"
   },
   {
    "duration": 5,
    "start_time": "2022-08-31T06:19:43.157Z"
   },
   {
    "duration": 9,
    "start_time": "2022-08-31T06:19:43.164Z"
   },
   {
    "duration": 5,
    "start_time": "2022-08-31T06:19:43.175Z"
   },
   {
    "duration": 7,
    "start_time": "2022-08-31T06:19:43.182Z"
   },
   {
    "duration": 11,
    "start_time": "2022-08-31T06:19:43.190Z"
   },
   {
    "duration": 18,
    "start_time": "2022-08-31T06:19:43.202Z"
   },
   {
    "duration": 32,
    "start_time": "2022-08-31T06:19:43.222Z"
   },
   {
    "duration": 5,
    "start_time": "2022-08-31T06:19:43.256Z"
   },
   {
    "duration": 7,
    "start_time": "2022-08-31T06:19:43.263Z"
   },
   {
    "duration": 11,
    "start_time": "2022-08-31T06:19:43.271Z"
   },
   {
    "duration": 10,
    "start_time": "2022-08-31T06:19:43.284Z"
   },
   {
    "duration": 10,
    "start_time": "2022-08-31T06:19:43.295Z"
   },
   {
    "duration": 11,
    "start_time": "2022-08-31T06:19:43.306Z"
   },
   {
    "duration": 37,
    "start_time": "2022-08-31T06:19:43.318Z"
   },
   {
    "duration": 10,
    "start_time": "2022-08-31T06:19:43.357Z"
   },
   {
    "duration": 370,
    "start_time": "2022-08-31T06:19:43.368Z"
   },
   {
    "duration": 26,
    "start_time": "2022-08-31T06:19:43.739Z"
   },
   {
    "duration": 13,
    "start_time": "2022-08-31T06:19:43.767Z"
   },
   {
    "duration": 12,
    "start_time": "2022-08-31T06:19:43.781Z"
   },
   {
    "duration": 9,
    "start_time": "2022-08-31T06:19:43.794Z"
   },
   {
    "duration": 244,
    "start_time": "2022-08-31T06:19:43.804Z"
   },
   {
    "duration": 10,
    "start_time": "2022-08-31T06:19:44.050Z"
   },
   {
    "duration": 19,
    "start_time": "2022-08-31T06:19:44.061Z"
   },
   {
    "duration": 10,
    "start_time": "2022-08-31T06:19:44.082Z"
   },
   {
    "duration": 32,
    "start_time": "2022-08-31T06:19:44.094Z"
   },
   {
    "duration": 34,
    "start_time": "2022-08-31T06:19:44.127Z"
   },
   {
    "duration": 15,
    "start_time": "2022-08-31T06:19:44.162Z"
   },
   {
    "duration": 224,
    "start_time": "2022-08-31T06:19:44.178Z"
   },
   {
    "duration": 5,
    "start_time": "2022-08-31T06:19:44.404Z"
   },
   {
    "duration": 208,
    "start_time": "2022-08-31T06:19:44.410Z"
   },
   {
    "duration": 9,
    "start_time": "2022-08-31T06:19:44.619Z"
   },
   {
    "duration": 12,
    "start_time": "2022-08-31T06:19:44.629Z"
   },
   {
    "duration": 23,
    "start_time": "2022-08-31T06:19:44.642Z"
   },
   {
    "duration": 9,
    "start_time": "2022-08-31T06:19:44.667Z"
   },
   {
    "duration": 10,
    "start_time": "2022-08-31T06:19:44.677Z"
   },
   {
    "duration": 10,
    "start_time": "2022-08-31T06:19:44.690Z"
   },
   {
    "duration": 15,
    "start_time": "2022-08-31T06:19:44.702Z"
   },
   {
    "duration": 48,
    "start_time": "2022-08-31T06:19:44.719Z"
   },
   {
    "duration": 15,
    "start_time": "2022-08-31T06:19:44.768Z"
   },
   {
    "duration": 260,
    "start_time": "2022-08-31T06:19:44.785Z"
   },
   {
    "duration": 8,
    "start_time": "2022-08-31T06:19:45.047Z"
   },
   {
    "duration": 13,
    "start_time": "2022-08-31T06:19:45.057Z"
   },
   {
    "duration": 129,
    "start_time": "2022-08-31T06:19:45.072Z"
   },
   {
    "duration": 4,
    "start_time": "2022-08-31T06:19:45.202Z"
   },
   {
    "duration": 15,
    "start_time": "2022-08-31T06:19:45.208Z"
   },
   {
    "duration": 143,
    "start_time": "2022-08-31T06:19:45.225Z"
   },
   {
    "duration": 4,
    "start_time": "2022-08-31T06:19:45.369Z"
   },
   {
    "duration": 160,
    "start_time": "2022-08-31T06:19:45.375Z"
   },
   {
    "duration": 7,
    "start_time": "2022-08-31T06:19:45.537Z"
   },
   {
    "duration": 22,
    "start_time": "2022-08-31T06:19:45.554Z"
   },
   {
    "duration": 60,
    "start_time": "2022-08-31T06:19:45.577Z"
   },
   {
    "duration": 13,
    "start_time": "2022-08-31T06:19:45.638Z"
   },
   {
    "duration": 92,
    "start_time": "2022-08-31T06:29:24.731Z"
   },
   {
    "duration": 9,
    "start_time": "2022-08-31T06:29:32.534Z"
   },
   {
    "duration": 3,
    "start_time": "2022-08-31T06:29:50.454Z"
   },
   {
    "duration": 90,
    "start_time": "2022-08-31T06:29:57.078Z"
   },
   {
    "duration": 8,
    "start_time": "2022-08-31T06:29:59.203Z"
   },
   {
    "duration": 5,
    "start_time": "2022-08-31T06:30:49.028Z"
   },
   {
    "duration": 5,
    "start_time": "2022-08-31T06:30:53.179Z"
   },
   {
    "duration": 11,
    "start_time": "2022-08-31T06:30:56.653Z"
   },
   {
    "duration": 3,
    "start_time": "2022-08-31T06:31:03.778Z"
   },
   {
    "duration": 108,
    "start_time": "2022-08-31T06:44:32.490Z"
   },
   {
    "duration": 234,
    "start_time": "2022-08-31T06:44:37.246Z"
   },
   {
    "duration": 359,
    "start_time": "2022-08-31T06:44:44.564Z"
   },
   {
    "duration": 12,
    "start_time": "2022-08-31T07:44:16.403Z"
   },
   {
    "duration": 3,
    "start_time": "2022-08-31T07:44:38.504Z"
   },
   {
    "duration": 79,
    "start_time": "2022-08-31T07:44:43.834Z"
   },
   {
    "duration": 84,
    "start_time": "2022-08-31T07:44:44.103Z"
   },
   {
    "duration": 11,
    "start_time": "2022-08-31T07:44:45.978Z"
   },
   {
    "duration": 9,
    "start_time": "2022-08-31T07:45:00.505Z"
   },
   {
    "duration": 5,
    "start_time": "2022-08-31T07:45:04.507Z"
   },
   {
    "duration": 45,
    "start_time": "2022-08-31T14:55:13.158Z"
   },
   {
    "duration": 1105,
    "start_time": "2022-08-31T14:55:20.465Z"
   },
   {
    "duration": 79,
    "start_time": "2022-08-31T14:55:21.572Z"
   },
   {
    "duration": 11,
    "start_time": "2022-08-31T14:55:21.652Z"
   },
   {
    "duration": 15,
    "start_time": "2022-08-31T14:55:21.665Z"
   },
   {
    "duration": 22,
    "start_time": "2022-08-31T14:55:21.682Z"
   },
   {
    "duration": 7,
    "start_time": "2022-08-31T14:55:21.705Z"
   },
   {
    "duration": 10,
    "start_time": "2022-08-31T14:55:21.714Z"
   },
   {
    "duration": 7,
    "start_time": "2022-08-31T14:55:21.726Z"
   },
   {
    "duration": 11,
    "start_time": "2022-08-31T14:55:21.735Z"
   },
   {
    "duration": 13,
    "start_time": "2022-08-31T14:55:21.748Z"
   },
   {
    "duration": 34,
    "start_time": "2022-08-31T14:55:21.763Z"
   },
   {
    "duration": 14,
    "start_time": "2022-08-31T14:55:21.799Z"
   },
   {
    "duration": 9,
    "start_time": "2022-08-31T14:55:21.815Z"
   },
   {
    "duration": 8,
    "start_time": "2022-08-31T14:55:21.826Z"
   },
   {
    "duration": 11,
    "start_time": "2022-08-31T14:55:21.836Z"
   },
   {
    "duration": 55,
    "start_time": "2022-08-31T14:55:21.849Z"
   },
   {
    "duration": 13,
    "start_time": "2022-08-31T14:55:21.906Z"
   },
   {
    "duration": 16,
    "start_time": "2022-08-31T14:55:21.921Z"
   },
   {
    "duration": 11,
    "start_time": "2022-08-31T14:55:21.939Z"
   },
   {
    "duration": 14,
    "start_time": "2022-08-31T14:55:21.952Z"
   },
   {
    "duration": 407,
    "start_time": "2022-08-31T14:55:21.968Z"
   },
   {
    "duration": 448,
    "start_time": "2022-08-31T14:55:22.377Z"
   },
   {
    "duration": 21,
    "start_time": "2022-08-31T14:55:22.827Z"
   },
   {
    "duration": 42,
    "start_time": "2022-08-31T14:55:22.850Z"
   },
   {
    "duration": 18,
    "start_time": "2022-08-31T14:55:22.894Z"
   },
   {
    "duration": 19,
    "start_time": "2022-08-31T14:55:22.914Z"
   },
   {
    "duration": 251,
    "start_time": "2022-08-31T14:55:22.934Z"
   },
   {
    "duration": 10,
    "start_time": "2022-08-31T14:55:23.186Z"
   },
   {
    "duration": 25,
    "start_time": "2022-08-31T14:55:23.198Z"
   },
   {
    "duration": 12,
    "start_time": "2022-08-31T14:55:23.225Z"
   },
   {
    "duration": 50,
    "start_time": "2022-08-31T14:55:23.239Z"
   },
   {
    "duration": 23,
    "start_time": "2022-08-31T14:55:23.290Z"
   },
   {
    "duration": 19,
    "start_time": "2022-08-31T14:55:23.314Z"
   },
   {
    "duration": 284,
    "start_time": "2022-08-31T14:55:23.335Z"
   },
   {
    "duration": 6,
    "start_time": "2022-08-31T14:55:23.621Z"
   },
   {
    "duration": 230,
    "start_time": "2022-08-31T14:55:23.629Z"
   },
   {
    "duration": 10,
    "start_time": "2022-08-31T14:55:23.861Z"
   },
   {
    "duration": 29,
    "start_time": "2022-08-31T14:55:23.873Z"
   },
   {
    "duration": 23,
    "start_time": "2022-08-31T14:55:23.904Z"
   },
   {
    "duration": 16,
    "start_time": "2022-08-31T14:55:23.930Z"
   },
   {
    "duration": 35,
    "start_time": "2022-08-31T14:55:23.952Z"
   },
   {
    "duration": 16,
    "start_time": "2022-08-31T14:55:23.989Z"
   },
   {
    "duration": 24,
    "start_time": "2022-08-31T14:55:24.007Z"
   },
   {
    "duration": 24,
    "start_time": "2022-08-31T14:55:24.033Z"
   },
   {
    "duration": 33,
    "start_time": "2022-08-31T14:55:24.059Z"
   },
   {
    "duration": 291,
    "start_time": "2022-08-31T14:55:24.094Z"
   },
   {
    "duration": 9,
    "start_time": "2022-08-31T14:55:24.387Z"
   },
   {
    "duration": 10,
    "start_time": "2022-08-31T14:55:24.398Z"
   },
   {
    "duration": 173,
    "start_time": "2022-08-31T14:55:24.410Z"
   },
   {
    "duration": 5,
    "start_time": "2022-08-31T14:55:24.586Z"
   },
   {
    "duration": 18,
    "start_time": "2022-08-31T14:55:24.593Z"
   },
   {
    "duration": 172,
    "start_time": "2022-08-31T14:55:24.613Z"
   },
   {
    "duration": 4,
    "start_time": "2022-08-31T14:55:24.787Z"
   },
   {
    "duration": 284,
    "start_time": "2022-08-31T14:55:24.793Z"
   },
   {
    "duration": 9,
    "start_time": "2022-08-31T14:55:25.086Z"
   },
   {
    "duration": 10,
    "start_time": "2022-08-31T14:55:25.096Z"
   },
   {
    "duration": 38,
    "start_time": "2022-08-31T14:55:25.108Z"
   },
   {
    "duration": 44,
    "start_time": "2022-08-31T14:55:25.147Z"
   },
   {
    "duration": 49,
    "start_time": "2022-08-31T15:13:21.064Z"
   },
   {
    "duration": 11,
    "start_time": "2022-08-31T15:15:21.499Z"
   },
   {
    "duration": 257,
    "start_time": "2022-08-31T15:40:33.915Z"
   },
   {
    "duration": 50,
    "start_time": "2022-08-31T15:46:28.906Z"
   },
   {
    "duration": 57,
    "start_time": "2022-08-31T15:46:52.011Z"
   },
   {
    "duration": 6,
    "start_time": "2022-08-31T15:50:45.722Z"
   },
   {
    "duration": 1492,
    "start_time": "2022-08-31T15:50:58.530Z"
   },
   {
    "duration": 83,
    "start_time": "2022-08-31T15:51:00.024Z"
   },
   {
    "duration": 13,
    "start_time": "2022-08-31T15:51:00.109Z"
   },
   {
    "duration": 11,
    "start_time": "2022-08-31T15:51:00.124Z"
   },
   {
    "duration": 33,
    "start_time": "2022-08-31T15:51:00.137Z"
   },
   {
    "duration": 13,
    "start_time": "2022-08-31T15:51:00.172Z"
   },
   {
    "duration": 18,
    "start_time": "2022-08-31T15:51:00.187Z"
   },
   {
    "duration": 19,
    "start_time": "2022-08-31T15:51:00.207Z"
   },
   {
    "duration": 28,
    "start_time": "2022-08-31T15:51:00.228Z"
   },
   {
    "duration": 23,
    "start_time": "2022-08-31T15:51:00.259Z"
   },
   {
    "duration": 30,
    "start_time": "2022-08-31T15:51:00.284Z"
   },
   {
    "duration": 17,
    "start_time": "2022-08-31T15:51:00.317Z"
   },
   {
    "duration": 21,
    "start_time": "2022-08-31T15:51:00.336Z"
   },
   {
    "duration": 37,
    "start_time": "2022-08-31T15:51:00.359Z"
   },
   {
    "duration": 22,
    "start_time": "2022-08-31T15:51:00.398Z"
   },
   {
    "duration": 29,
    "start_time": "2022-08-31T15:51:00.421Z"
   },
   {
    "duration": 20,
    "start_time": "2022-08-31T15:51:00.452Z"
   },
   {
    "duration": 34,
    "start_time": "2022-08-31T15:51:00.474Z"
   },
   {
    "duration": 35,
    "start_time": "2022-08-31T15:51:00.509Z"
   },
   {
    "duration": 33,
    "start_time": "2022-08-31T15:51:00.545Z"
   },
   {
    "duration": 351,
    "start_time": "2022-08-31T15:51:00.580Z"
   },
   {
    "duration": 454,
    "start_time": "2022-08-31T15:51:00.933Z"
   },
   {
    "duration": 21,
    "start_time": "2022-08-31T15:51:01.389Z"
   },
   {
    "duration": 45,
    "start_time": "2022-08-31T15:51:01.411Z"
   },
   {
    "duration": 21,
    "start_time": "2022-08-31T15:51:01.459Z"
   },
   {
    "duration": 32,
    "start_time": "2022-08-31T15:51:01.483Z"
   },
   {
    "duration": 291,
    "start_time": "2022-08-31T15:51:01.517Z"
   },
   {
    "duration": 10,
    "start_time": "2022-08-31T15:51:01.813Z"
   },
   {
    "duration": 33,
    "start_time": "2022-08-31T15:51:01.825Z"
   },
   {
    "duration": 30,
    "start_time": "2022-08-31T15:51:01.860Z"
   },
   {
    "duration": 23,
    "start_time": "2022-08-31T15:51:01.891Z"
   },
   {
    "duration": 19,
    "start_time": "2022-08-31T15:51:01.916Z"
   },
   {
    "duration": 17,
    "start_time": "2022-08-31T15:51:01.937Z"
   },
   {
    "duration": 299,
    "start_time": "2022-08-31T15:51:01.956Z"
   },
   {
    "duration": 6,
    "start_time": "2022-08-31T15:51:02.257Z"
   },
   {
    "duration": 250,
    "start_time": "2022-08-31T15:51:02.265Z"
   },
   {
    "duration": 9,
    "start_time": "2022-08-31T15:51:02.516Z"
   },
   {
    "duration": 18,
    "start_time": "2022-08-31T15:51:02.527Z"
   },
   {
    "duration": 25,
    "start_time": "2022-08-31T15:51:02.547Z"
   },
   {
    "duration": 23,
    "start_time": "2022-08-31T15:51:02.575Z"
   },
   {
    "duration": 23,
    "start_time": "2022-08-31T15:51:02.600Z"
   },
   {
    "duration": 32,
    "start_time": "2022-08-31T15:51:02.624Z"
   },
   {
    "duration": 31,
    "start_time": "2022-08-31T15:51:02.658Z"
   },
   {
    "duration": 21,
    "start_time": "2022-08-31T15:51:02.691Z"
   },
   {
    "duration": 26,
    "start_time": "2022-08-31T15:51:02.713Z"
   },
   {
    "duration": 258,
    "start_time": "2022-08-31T15:51:02.741Z"
   },
   {
    "duration": 9,
    "start_time": "2022-08-31T15:51:03.001Z"
   },
   {
    "duration": 27,
    "start_time": "2022-08-31T15:51:03.011Z"
   },
   {
    "duration": 141,
    "start_time": "2022-08-31T15:51:03.040Z"
   },
   {
    "duration": 7,
    "start_time": "2022-08-31T15:51:03.182Z"
   },
   {
    "duration": 14,
    "start_time": "2022-08-31T15:51:03.190Z"
   },
   {
    "duration": 171,
    "start_time": "2022-08-31T15:51:03.206Z"
   },
   {
    "duration": 11,
    "start_time": "2022-08-31T15:51:03.379Z"
   },
   {
    "duration": 307,
    "start_time": "2022-08-31T15:51:03.391Z"
   },
   {
    "duration": 9,
    "start_time": "2022-08-31T15:51:03.699Z"
   },
   {
    "duration": 17,
    "start_time": "2022-08-31T15:51:03.710Z"
   },
   {
    "duration": 46,
    "start_time": "2022-08-31T15:51:03.729Z"
   },
   {
    "duration": 20,
    "start_time": "2022-08-31T15:51:03.777Z"
   },
   {
    "duration": 223,
    "start_time": "2022-08-31T15:53:33.048Z"
   },
   {
    "duration": 237,
    "start_time": "2022-08-31T15:53:48.046Z"
   },
   {
    "duration": 13,
    "start_time": "2022-08-31T16:06:50.602Z"
   },
   {
    "duration": 10,
    "start_time": "2022-08-31T16:06:59.821Z"
   },
   {
    "duration": 12,
    "start_time": "2022-08-31T16:08:48.776Z"
   },
   {
    "duration": 12,
    "start_time": "2022-08-31T16:09:04.104Z"
   },
   {
    "duration": 17,
    "start_time": "2022-08-31T16:09:12.729Z"
   },
   {
    "duration": 110,
    "start_time": "2022-08-31T16:10:27.601Z"
   },
   {
    "duration": 14,
    "start_time": "2022-08-31T16:10:40.014Z"
   },
   {
    "duration": 1242,
    "start_time": "2022-08-31T16:10:56.115Z"
   },
   {
    "duration": 80,
    "start_time": "2022-08-31T16:10:57.359Z"
   },
   {
    "duration": 11,
    "start_time": "2022-08-31T16:10:57.441Z"
   },
   {
    "duration": 11,
    "start_time": "2022-08-31T16:10:57.454Z"
   },
   {
    "duration": 23,
    "start_time": "2022-08-31T16:10:57.466Z"
   },
   {
    "duration": 6,
    "start_time": "2022-08-31T16:10:57.491Z"
   },
   {
    "duration": 17,
    "start_time": "2022-08-31T16:10:57.498Z"
   },
   {
    "duration": 8,
    "start_time": "2022-08-31T16:10:57.517Z"
   },
   {
    "duration": 13,
    "start_time": "2022-08-31T16:10:57.527Z"
   },
   {
    "duration": 18,
    "start_time": "2022-08-31T16:10:57.544Z"
   },
   {
    "duration": 31,
    "start_time": "2022-08-31T16:10:57.564Z"
   },
   {
    "duration": 14,
    "start_time": "2022-08-31T16:10:57.597Z"
   },
   {
    "duration": 9,
    "start_time": "2022-08-31T16:10:57.613Z"
   },
   {
    "duration": 18,
    "start_time": "2022-08-31T16:10:57.623Z"
   },
   {
    "duration": 19,
    "start_time": "2022-08-31T16:10:57.643Z"
   },
   {
    "duration": 24,
    "start_time": "2022-08-31T16:10:57.663Z"
   },
   {
    "duration": 18,
    "start_time": "2022-08-31T16:10:57.689Z"
   },
   {
    "duration": 21,
    "start_time": "2022-08-31T16:10:57.709Z"
   },
   {
    "duration": 20,
    "start_time": "2022-08-31T16:10:57.731Z"
   },
   {
    "duration": 18,
    "start_time": "2022-08-31T16:10:57.753Z"
   },
   {
    "duration": 321,
    "start_time": "2022-08-31T16:10:57.772Z"
   },
   {
    "duration": 412,
    "start_time": "2022-08-31T16:10:58.094Z"
   },
   {
    "duration": 19,
    "start_time": "2022-08-31T16:10:58.507Z"
   },
   {
    "duration": 20,
    "start_time": "2022-08-31T16:10:58.527Z"
   },
   {
    "duration": 13,
    "start_time": "2022-08-31T16:10:58.549Z"
   },
   {
    "duration": 30,
    "start_time": "2022-08-31T16:10:58.564Z"
   },
   {
    "duration": 282,
    "start_time": "2022-08-31T16:10:58.596Z"
   },
   {
    "duration": 11,
    "start_time": "2022-08-31T16:10:58.882Z"
   },
   {
    "duration": 23,
    "start_time": "2022-08-31T16:10:58.894Z"
   },
   {
    "duration": 12,
    "start_time": "2022-08-31T16:10:58.918Z"
   },
   {
    "duration": 26,
    "start_time": "2022-08-31T16:10:58.932Z"
   },
   {
    "duration": 47,
    "start_time": "2022-08-31T16:10:58.960Z"
   },
   {
    "duration": 17,
    "start_time": "2022-08-31T16:10:59.009Z"
   },
   {
    "duration": 260,
    "start_time": "2022-08-31T16:10:59.027Z"
   },
   {
    "duration": 6,
    "start_time": "2022-08-31T16:10:59.289Z"
   },
   {
    "duration": 245,
    "start_time": "2022-08-31T16:10:59.297Z"
   },
   {
    "duration": 10,
    "start_time": "2022-08-31T16:10:59.544Z"
   },
   {
    "duration": 15,
    "start_time": "2022-08-31T16:10:59.555Z"
   },
   {
    "duration": 27,
    "start_time": "2022-08-31T16:10:59.572Z"
   },
   {
    "duration": 17,
    "start_time": "2022-08-31T16:10:59.602Z"
   },
   {
    "duration": 13,
    "start_time": "2022-08-31T16:10:59.621Z"
   },
   {
    "duration": 15,
    "start_time": "2022-08-31T16:10:59.635Z"
   },
   {
    "duration": 39,
    "start_time": "2022-08-31T16:10:59.651Z"
   },
   {
    "duration": 113,
    "start_time": "2022-08-31T16:10:59.692Z"
   },
   {
    "duration": 0,
    "start_time": "2022-08-31T16:10:59.806Z"
   },
   {
    "duration": 0,
    "start_time": "2022-08-31T16:10:59.807Z"
   },
   {
    "duration": 0,
    "start_time": "2022-08-31T16:10:59.808Z"
   },
   {
    "duration": 0,
    "start_time": "2022-08-31T16:10:59.809Z"
   },
   {
    "duration": 0,
    "start_time": "2022-08-31T16:10:59.810Z"
   },
   {
    "duration": 0,
    "start_time": "2022-08-31T16:10:59.811Z"
   },
   {
    "duration": 0,
    "start_time": "2022-08-31T16:10:59.812Z"
   },
   {
    "duration": 0,
    "start_time": "2022-08-31T16:10:59.813Z"
   },
   {
    "duration": 0,
    "start_time": "2022-08-31T16:10:59.814Z"
   },
   {
    "duration": 0,
    "start_time": "2022-08-31T16:10:59.815Z"
   },
   {
    "duration": 0,
    "start_time": "2022-08-31T16:10:59.816Z"
   },
   {
    "duration": 0,
    "start_time": "2022-08-31T16:10:59.817Z"
   },
   {
    "duration": 0,
    "start_time": "2022-08-31T16:10:59.818Z"
   },
   {
    "duration": 0,
    "start_time": "2022-08-31T16:10:59.820Z"
   },
   {
    "duration": 13,
    "start_time": "2022-08-31T16:13:13.326Z"
   },
   {
    "duration": 8,
    "start_time": "2022-08-31T16:13:39.131Z"
   },
   {
    "duration": 1151,
    "start_time": "2022-08-31T16:13:50.120Z"
   },
   {
    "duration": 81,
    "start_time": "2022-08-31T16:13:51.273Z"
   },
   {
    "duration": 12,
    "start_time": "2022-08-31T16:13:51.355Z"
   },
   {
    "duration": 13,
    "start_time": "2022-08-31T16:13:51.369Z"
   },
   {
    "duration": 23,
    "start_time": "2022-08-31T16:13:51.384Z"
   },
   {
    "duration": 3,
    "start_time": "2022-08-31T16:13:51.408Z"
   },
   {
    "duration": 10,
    "start_time": "2022-08-31T16:13:51.413Z"
   },
   {
    "duration": 7,
    "start_time": "2022-08-31T16:13:51.425Z"
   },
   {
    "duration": 9,
    "start_time": "2022-08-31T16:13:51.434Z"
   },
   {
    "duration": 11,
    "start_time": "2022-08-31T16:13:51.446Z"
   },
   {
    "duration": 29,
    "start_time": "2022-08-31T16:13:51.459Z"
   },
   {
    "duration": 12,
    "start_time": "2022-08-31T16:13:51.490Z"
   },
   {
    "duration": 7,
    "start_time": "2022-08-31T16:13:51.503Z"
   },
   {
    "duration": 15,
    "start_time": "2022-08-31T16:13:51.512Z"
   },
   {
    "duration": 15,
    "start_time": "2022-08-31T16:13:51.528Z"
   },
   {
    "duration": 14,
    "start_time": "2022-08-31T16:13:51.544Z"
   },
   {
    "duration": 27,
    "start_time": "2022-08-31T16:13:51.560Z"
   },
   {
    "duration": 17,
    "start_time": "2022-08-31T16:13:51.589Z"
   },
   {
    "duration": 10,
    "start_time": "2022-08-31T16:13:51.608Z"
   },
   {
    "duration": 13,
    "start_time": "2022-08-31T16:13:51.620Z"
   },
   {
    "duration": 323,
    "start_time": "2022-08-31T16:13:51.635Z"
   },
   {
    "duration": 430,
    "start_time": "2022-08-31T16:13:51.960Z"
   },
   {
    "duration": 17,
    "start_time": "2022-08-31T16:13:52.392Z"
   },
   {
    "duration": 15,
    "start_time": "2022-08-31T16:13:52.410Z"
   },
   {
    "duration": 12,
    "start_time": "2022-08-31T16:13:52.427Z"
   },
   {
    "duration": 16,
    "start_time": "2022-08-31T16:13:52.441Z"
   },
   {
    "duration": 239,
    "start_time": "2022-08-31T16:13:52.487Z"
   },
   {
    "duration": 9,
    "start_time": "2022-08-31T16:13:52.730Z"
   },
   {
    "duration": 23,
    "start_time": "2022-08-31T16:13:52.740Z"
   },
   {
    "duration": 31,
    "start_time": "2022-08-31T16:13:52.765Z"
   },
   {
    "duration": 22,
    "start_time": "2022-08-31T16:13:52.798Z"
   },
   {
    "duration": 19,
    "start_time": "2022-08-31T16:13:52.822Z"
   },
   {
    "duration": 15,
    "start_time": "2022-08-31T16:13:52.842Z"
   },
   {
    "duration": 275,
    "start_time": "2022-08-31T16:13:52.859Z"
   },
   {
    "duration": 8,
    "start_time": "2022-08-31T16:13:53.135Z"
   },
   {
    "duration": 238,
    "start_time": "2022-08-31T16:13:53.144Z"
   },
   {
    "duration": 9,
    "start_time": "2022-08-31T16:13:53.386Z"
   },
   {
    "duration": 10,
    "start_time": "2022-08-31T16:13:53.396Z"
   },
   {
    "duration": 14,
    "start_time": "2022-08-31T16:13:53.407Z"
   },
   {
    "duration": 11,
    "start_time": "2022-08-31T16:13:53.422Z"
   },
   {
    "duration": 17,
    "start_time": "2022-08-31T16:13:53.434Z"
   },
   {
    "duration": 35,
    "start_time": "2022-08-31T16:13:53.452Z"
   },
   {
    "duration": 17,
    "start_time": "2022-08-31T16:13:53.489Z"
   },
   {
    "duration": 12,
    "start_time": "2022-08-31T16:13:53.508Z"
   },
   {
    "duration": 18,
    "start_time": "2022-08-31T16:13:53.521Z"
   },
   {
    "duration": 18,
    "start_time": "2022-08-31T16:13:53.540Z"
   },
   {
    "duration": 269,
    "start_time": "2022-08-31T16:13:53.559Z"
   },
   {
    "duration": 9,
    "start_time": "2022-08-31T16:13:53.830Z"
   },
   {
    "duration": 13,
    "start_time": "2022-08-31T16:13:53.841Z"
   },
   {
    "duration": 151,
    "start_time": "2022-08-31T16:13:53.856Z"
   },
   {
    "duration": 5,
    "start_time": "2022-08-31T16:13:54.008Z"
   },
   {
    "duration": 17,
    "start_time": "2022-08-31T16:13:54.014Z"
   },
   {
    "duration": 163,
    "start_time": "2022-08-31T16:13:54.033Z"
   },
   {
    "duration": 4,
    "start_time": "2022-08-31T16:13:54.198Z"
   },
   {
    "duration": 266,
    "start_time": "2022-08-31T16:13:54.204Z"
   },
   {
    "duration": 18,
    "start_time": "2022-08-31T16:13:54.471Z"
   },
   {
    "duration": 7,
    "start_time": "2022-08-31T16:13:54.490Z"
   },
   {
    "duration": 37,
    "start_time": "2022-08-31T16:13:54.498Z"
   },
   {
    "duration": 12,
    "start_time": "2022-08-31T16:13:54.537Z"
   },
   {
    "duration": 103,
    "start_time": "2022-08-31T16:14:51.765Z"
   },
   {
    "duration": 1220,
    "start_time": "2022-08-31T16:15:09.765Z"
   },
   {
    "duration": 81,
    "start_time": "2022-08-31T16:15:10.987Z"
   },
   {
    "duration": 12,
    "start_time": "2022-08-31T16:15:11.069Z"
   },
   {
    "duration": 10,
    "start_time": "2022-08-31T16:15:11.083Z"
   },
   {
    "duration": 22,
    "start_time": "2022-08-31T16:15:11.095Z"
   },
   {
    "duration": 6,
    "start_time": "2022-08-31T16:15:11.118Z"
   },
   {
    "duration": 14,
    "start_time": "2022-08-31T16:15:11.125Z"
   },
   {
    "duration": 8,
    "start_time": "2022-08-31T16:15:11.140Z"
   },
   {
    "duration": 16,
    "start_time": "2022-08-31T16:15:11.150Z"
   },
   {
    "duration": 25,
    "start_time": "2022-08-31T16:15:11.169Z"
   },
   {
    "duration": 18,
    "start_time": "2022-08-31T16:15:11.196Z"
   },
   {
    "duration": 13,
    "start_time": "2022-08-31T16:15:11.216Z"
   },
   {
    "duration": 6,
    "start_time": "2022-08-31T16:15:11.231Z"
   },
   {
    "duration": 8,
    "start_time": "2022-08-31T16:15:11.239Z"
   },
   {
    "duration": 49,
    "start_time": "2022-08-31T16:15:11.248Z"
   },
   {
    "duration": 19,
    "start_time": "2022-08-31T16:15:11.298Z"
   },
   {
    "duration": 12,
    "start_time": "2022-08-31T16:15:11.319Z"
   },
   {
    "duration": 13,
    "start_time": "2022-08-31T16:15:11.333Z"
   },
   {
    "duration": 11,
    "start_time": "2022-08-31T16:15:11.348Z"
   },
   {
    "duration": 11,
    "start_time": "2022-08-31T16:15:11.388Z"
   },
   {
    "duration": 351,
    "start_time": "2022-08-31T16:15:11.400Z"
   },
   {
    "duration": 434,
    "start_time": "2022-08-31T16:15:11.753Z"
   },
   {
    "duration": 18,
    "start_time": "2022-08-31T16:15:12.189Z"
   },
   {
    "duration": 15,
    "start_time": "2022-08-31T16:15:12.208Z"
   },
   {
    "duration": 13,
    "start_time": "2022-08-31T16:15:12.225Z"
   },
   {
    "duration": 8,
    "start_time": "2022-08-31T16:15:12.240Z"
   },
   {
    "duration": 285,
    "start_time": "2022-08-31T16:15:12.249Z"
   },
   {
    "duration": 9,
    "start_time": "2022-08-31T16:15:12.538Z"
   },
   {
    "duration": 21,
    "start_time": "2022-08-31T16:15:12.548Z"
   },
   {
    "duration": 25,
    "start_time": "2022-08-31T16:15:12.571Z"
   },
   {
    "duration": 27,
    "start_time": "2022-08-31T16:15:12.597Z"
   },
   {
    "duration": 19,
    "start_time": "2022-08-31T16:15:12.625Z"
   },
   {
    "duration": 16,
    "start_time": "2022-08-31T16:15:12.645Z"
   },
   {
    "duration": 252,
    "start_time": "2022-08-31T16:15:12.687Z"
   },
   {
    "duration": 7,
    "start_time": "2022-08-31T16:15:12.941Z"
   },
   {
    "duration": 238,
    "start_time": "2022-08-31T16:15:12.949Z"
   },
   {
    "duration": 10,
    "start_time": "2022-08-31T16:15:13.188Z"
   },
   {
    "duration": 11,
    "start_time": "2022-08-31T16:15:13.200Z"
   },
   {
    "duration": 15,
    "start_time": "2022-08-31T16:15:13.213Z"
   },
   {
    "duration": 12,
    "start_time": "2022-08-31T16:15:13.230Z"
   },
   {
    "duration": 17,
    "start_time": "2022-08-31T16:15:13.243Z"
   },
   {
    "duration": 46,
    "start_time": "2022-08-31T16:15:13.261Z"
   },
   {
    "duration": 16,
    "start_time": "2022-08-31T16:15:13.309Z"
   },
   {
    "duration": 11,
    "start_time": "2022-08-31T16:15:13.327Z"
   },
   {
    "duration": 121,
    "start_time": "2022-08-31T16:15:13.339Z"
   },
   {
    "duration": 0,
    "start_time": "2022-08-31T16:15:13.462Z"
   },
   {
    "duration": 0,
    "start_time": "2022-08-31T16:15:13.463Z"
   },
   {
    "duration": 0,
    "start_time": "2022-08-31T16:15:13.464Z"
   },
   {
    "duration": 0,
    "start_time": "2022-08-31T16:15:13.465Z"
   },
   {
    "duration": 0,
    "start_time": "2022-08-31T16:15:13.466Z"
   },
   {
    "duration": 0,
    "start_time": "2022-08-31T16:15:13.467Z"
   },
   {
    "duration": 0,
    "start_time": "2022-08-31T16:15:13.486Z"
   },
   {
    "duration": 0,
    "start_time": "2022-08-31T16:15:13.487Z"
   },
   {
    "duration": 0,
    "start_time": "2022-08-31T16:15:13.488Z"
   },
   {
    "duration": 0,
    "start_time": "2022-08-31T16:15:13.490Z"
   },
   {
    "duration": 0,
    "start_time": "2022-08-31T16:15:13.491Z"
   },
   {
    "duration": 0,
    "start_time": "2022-08-31T16:15:13.492Z"
   },
   {
    "duration": 0,
    "start_time": "2022-08-31T16:15:13.493Z"
   },
   {
    "duration": 0,
    "start_time": "2022-08-31T16:15:13.494Z"
   },
   {
    "duration": 13,
    "start_time": "2022-08-31T16:16:03.119Z"
   },
   {
    "duration": 1039,
    "start_time": "2022-08-31T16:16:44.425Z"
   },
   {
    "duration": 79,
    "start_time": "2022-08-31T16:16:45.467Z"
   },
   {
    "duration": 11,
    "start_time": "2022-08-31T16:16:45.548Z"
   },
   {
    "duration": 14,
    "start_time": "2022-08-31T16:16:45.560Z"
   },
   {
    "duration": 24,
    "start_time": "2022-08-31T16:16:45.576Z"
   },
   {
    "duration": 3,
    "start_time": "2022-08-31T16:16:45.601Z"
   },
   {
    "duration": 17,
    "start_time": "2022-08-31T16:16:45.605Z"
   },
   {
    "duration": 8,
    "start_time": "2022-08-31T16:16:45.623Z"
   },
   {
    "duration": 11,
    "start_time": "2022-08-31T16:16:45.633Z"
   },
   {
    "duration": 14,
    "start_time": "2022-08-31T16:16:45.646Z"
   },
   {
    "duration": 25,
    "start_time": "2022-08-31T16:16:45.662Z"
   },
   {
    "duration": 14,
    "start_time": "2022-08-31T16:16:45.688Z"
   },
   {
    "duration": 12,
    "start_time": "2022-08-31T16:16:45.703Z"
   },
   {
    "duration": 11,
    "start_time": "2022-08-31T16:16:45.717Z"
   },
   {
    "duration": 16,
    "start_time": "2022-08-31T16:16:45.729Z"
   },
   {
    "duration": 14,
    "start_time": "2022-08-31T16:16:45.746Z"
   },
   {
    "duration": 26,
    "start_time": "2022-08-31T16:16:45.762Z"
   },
   {
    "duration": 14,
    "start_time": "2022-08-31T16:16:45.789Z"
   },
   {
    "duration": 11,
    "start_time": "2022-08-31T16:16:45.804Z"
   },
   {
    "duration": 14,
    "start_time": "2022-08-31T16:16:45.816Z"
   },
   {
    "duration": 359,
    "start_time": "2022-08-31T16:16:45.831Z"
   },
   {
    "duration": 499,
    "start_time": "2022-08-31T16:16:46.192Z"
   },
   {
    "duration": 17,
    "start_time": "2022-08-31T16:16:46.693Z"
   },
   {
    "duration": 20,
    "start_time": "2022-08-31T16:16:46.712Z"
   },
   {
    "duration": 13,
    "start_time": "2022-08-31T16:16:46.734Z"
   },
   {
    "duration": 22,
    "start_time": "2022-08-31T16:16:46.749Z"
   },
   {
    "duration": 252,
    "start_time": "2022-08-31T16:16:46.772Z"
   },
   {
    "duration": 9,
    "start_time": "2022-08-31T16:16:47.026Z"
   },
   {
    "duration": 30,
    "start_time": "2022-08-31T16:16:47.036Z"
   },
   {
    "duration": 11,
    "start_time": "2022-08-31T16:16:47.067Z"
   },
   {
    "duration": 29,
    "start_time": "2022-08-31T16:16:47.087Z"
   },
   {
    "duration": 22,
    "start_time": "2022-08-31T16:16:47.117Z"
   },
   {
    "duration": 16,
    "start_time": "2022-08-31T16:16:47.140Z"
   },
   {
    "duration": 252,
    "start_time": "2022-08-31T16:16:47.158Z"
   },
   {
    "duration": 6,
    "start_time": "2022-08-31T16:16:47.412Z"
   },
   {
    "duration": 235,
    "start_time": "2022-08-31T16:16:47.420Z"
   },
   {
    "duration": 8,
    "start_time": "2022-08-31T16:16:47.657Z"
   },
   {
    "duration": 21,
    "start_time": "2022-08-31T16:16:47.667Z"
   },
   {
    "duration": 15,
    "start_time": "2022-08-31T16:16:47.690Z"
   },
   {
    "duration": 10,
    "start_time": "2022-08-31T16:16:47.706Z"
   },
   {
    "duration": 9,
    "start_time": "2022-08-31T16:16:47.720Z"
   },
   {
    "duration": 12,
    "start_time": "2022-08-31T16:16:47.730Z"
   },
   {
    "duration": 15,
    "start_time": "2022-08-31T16:16:47.744Z"
   },
   {
    "duration": 30,
    "start_time": "2022-08-31T16:16:47.760Z"
   },
   {
    "duration": 18,
    "start_time": "2022-08-31T16:16:47.792Z"
   },
   {
    "duration": 18,
    "start_time": "2022-08-31T16:16:47.811Z"
   },
   {
    "duration": 241,
    "start_time": "2022-08-31T16:16:47.831Z"
   },
   {
    "duration": 13,
    "start_time": "2022-08-31T16:16:48.073Z"
   },
   {
    "duration": 9,
    "start_time": "2022-08-31T16:16:48.088Z"
   },
   {
    "duration": 147,
    "start_time": "2022-08-31T16:16:48.098Z"
   },
   {
    "duration": 5,
    "start_time": "2022-08-31T16:16:48.247Z"
   },
   {
    "duration": 10,
    "start_time": "2022-08-31T16:16:48.253Z"
   },
   {
    "duration": 157,
    "start_time": "2022-08-31T16:16:48.265Z"
   },
   {
    "duration": 4,
    "start_time": "2022-08-31T16:16:48.424Z"
   },
   {
    "duration": 246,
    "start_time": "2022-08-31T16:16:48.429Z"
   },
   {
    "duration": 16,
    "start_time": "2022-08-31T16:16:48.676Z"
   },
   {
    "duration": 11,
    "start_time": "2022-08-31T16:16:48.693Z"
   },
   {
    "duration": 34,
    "start_time": "2022-08-31T16:16:48.705Z"
   },
   {
    "duration": 12,
    "start_time": "2022-08-31T16:16:48.741Z"
   },
   {
    "duration": 1165,
    "start_time": "2022-08-31T16:18:35.709Z"
   },
   {
    "duration": 79,
    "start_time": "2022-08-31T16:18:36.876Z"
   },
   {
    "duration": 11,
    "start_time": "2022-08-31T16:18:36.956Z"
   },
   {
    "duration": 9,
    "start_time": "2022-08-31T16:18:36.969Z"
   },
   {
    "duration": 24,
    "start_time": "2022-08-31T16:18:36.979Z"
   },
   {
    "duration": 5,
    "start_time": "2022-08-31T16:18:37.004Z"
   },
   {
    "duration": 10,
    "start_time": "2022-08-31T16:18:37.010Z"
   },
   {
    "duration": 7,
    "start_time": "2022-08-31T16:18:37.022Z"
   },
   {
    "duration": 12,
    "start_time": "2022-08-31T16:18:37.030Z"
   },
   {
    "duration": 9,
    "start_time": "2022-08-31T16:18:37.046Z"
   },
   {
    "duration": 36,
    "start_time": "2022-08-31T16:18:37.057Z"
   },
   {
    "duration": 12,
    "start_time": "2022-08-31T16:18:37.095Z"
   },
   {
    "duration": 6,
    "start_time": "2022-08-31T16:18:37.109Z"
   },
   {
    "duration": 7,
    "start_time": "2022-08-31T16:18:37.116Z"
   },
   {
    "duration": 13,
    "start_time": "2022-08-31T16:18:37.125Z"
   },
   {
    "duration": 18,
    "start_time": "2022-08-31T16:18:37.140Z"
   },
   {
    "duration": 33,
    "start_time": "2022-08-31T16:18:37.159Z"
   },
   {
    "duration": 13,
    "start_time": "2022-08-31T16:18:37.193Z"
   },
   {
    "duration": 10,
    "start_time": "2022-08-31T16:18:37.208Z"
   },
   {
    "duration": 11,
    "start_time": "2022-08-31T16:18:37.219Z"
   },
   {
    "duration": 332,
    "start_time": "2022-08-31T16:18:37.232Z"
   },
   {
    "duration": 407,
    "start_time": "2022-08-31T16:18:37.566Z"
   },
   {
    "duration": 25,
    "start_time": "2022-08-31T16:18:37.975Z"
   },
   {
    "duration": 18,
    "start_time": "2022-08-31T16:18:38.002Z"
   },
   {
    "duration": 14,
    "start_time": "2022-08-31T16:18:38.021Z"
   },
   {
    "duration": 14,
    "start_time": "2022-08-31T16:18:38.037Z"
   },
   {
    "duration": 257,
    "start_time": "2022-08-31T16:18:38.052Z"
   },
   {
    "duration": 9,
    "start_time": "2022-08-31T16:18:38.313Z"
   },
   {
    "duration": 30,
    "start_time": "2022-08-31T16:18:38.323Z"
   },
   {
    "duration": 12,
    "start_time": "2022-08-31T16:18:38.355Z"
   },
   {
    "duration": 41,
    "start_time": "2022-08-31T16:18:38.369Z"
   },
   {
    "duration": 19,
    "start_time": "2022-08-31T16:18:38.412Z"
   },
   {
    "duration": 15,
    "start_time": "2022-08-31T16:18:38.432Z"
   },
   {
    "duration": 261,
    "start_time": "2022-08-31T16:18:38.449Z"
   },
   {
    "duration": 6,
    "start_time": "2022-08-31T16:18:38.712Z"
   },
   {
    "duration": 236,
    "start_time": "2022-08-31T16:18:38.719Z"
   },
   {
    "duration": 9,
    "start_time": "2022-08-31T16:18:38.956Z"
   },
   {
    "duration": 22,
    "start_time": "2022-08-31T16:18:38.966Z"
   },
   {
    "duration": 14,
    "start_time": "2022-08-31T16:18:38.990Z"
   },
   {
    "duration": 10,
    "start_time": "2022-08-31T16:18:39.006Z"
   },
   {
    "duration": 13,
    "start_time": "2022-08-31T16:18:39.017Z"
   },
   {
    "duration": 13,
    "start_time": "2022-08-31T16:18:39.032Z"
   },
   {
    "duration": 23,
    "start_time": "2022-08-31T16:18:39.047Z"
   },
   {
    "duration": 34,
    "start_time": "2022-08-31T16:18:39.071Z"
   },
   {
    "duration": 116,
    "start_time": "2022-08-31T16:18:39.106Z"
   },
   {
    "duration": 0,
    "start_time": "2022-08-31T16:18:39.223Z"
   },
   {
    "duration": 0,
    "start_time": "2022-08-31T16:18:39.224Z"
   },
   {
    "duration": 0,
    "start_time": "2022-08-31T16:18:39.225Z"
   },
   {
    "duration": 0,
    "start_time": "2022-08-31T16:18:39.226Z"
   },
   {
    "duration": 0,
    "start_time": "2022-08-31T16:18:39.227Z"
   },
   {
    "duration": 0,
    "start_time": "2022-08-31T16:18:39.228Z"
   },
   {
    "duration": 0,
    "start_time": "2022-08-31T16:18:39.229Z"
   },
   {
    "duration": 0,
    "start_time": "2022-08-31T16:18:39.230Z"
   },
   {
    "duration": 0,
    "start_time": "2022-08-31T16:18:39.231Z"
   },
   {
    "duration": 0,
    "start_time": "2022-08-31T16:18:39.231Z"
   },
   {
    "duration": 0,
    "start_time": "2022-08-31T16:18:39.232Z"
   },
   {
    "duration": 0,
    "start_time": "2022-08-31T16:18:39.233Z"
   },
   {
    "duration": 0,
    "start_time": "2022-08-31T16:18:39.235Z"
   },
   {
    "duration": 0,
    "start_time": "2022-08-31T16:18:39.235Z"
   },
   {
    "duration": 1043,
    "start_time": "2022-08-31T16:19:41.339Z"
   },
   {
    "duration": 80,
    "start_time": "2022-08-31T16:19:42.383Z"
   },
   {
    "duration": 10,
    "start_time": "2022-08-31T16:19:42.464Z"
   },
   {
    "duration": 10,
    "start_time": "2022-08-31T16:19:42.476Z"
   },
   {
    "duration": 30,
    "start_time": "2022-08-31T16:19:42.488Z"
   },
   {
    "duration": 5,
    "start_time": "2022-08-31T16:19:42.519Z"
   },
   {
    "duration": 10,
    "start_time": "2022-08-31T16:19:42.526Z"
   },
   {
    "duration": 7,
    "start_time": "2022-08-31T16:19:42.538Z"
   },
   {
    "duration": 13,
    "start_time": "2022-08-31T16:19:42.546Z"
   },
   {
    "duration": 12,
    "start_time": "2022-08-31T16:19:42.561Z"
   },
   {
    "duration": 18,
    "start_time": "2022-08-31T16:19:42.574Z"
   },
   {
    "duration": 12,
    "start_time": "2022-08-31T16:19:42.594Z"
   },
   {
    "duration": 5,
    "start_time": "2022-08-31T16:19:42.607Z"
   },
   {
    "duration": 7,
    "start_time": "2022-08-31T16:19:42.614Z"
   },
   {
    "duration": 14,
    "start_time": "2022-08-31T16:19:42.623Z"
   },
   {
    "duration": 12,
    "start_time": "2022-08-31T16:19:42.638Z"
   },
   {
    "duration": 42,
    "start_time": "2022-08-31T16:19:42.651Z"
   },
   {
    "duration": 12,
    "start_time": "2022-08-31T16:19:42.694Z"
   },
   {
    "duration": 10,
    "start_time": "2022-08-31T16:19:42.707Z"
   },
   {
    "duration": 12,
    "start_time": "2022-08-31T16:19:42.719Z"
   },
   {
    "duration": 341,
    "start_time": "2022-08-31T16:19:42.732Z"
   },
   {
    "duration": 434,
    "start_time": "2022-08-31T16:19:43.075Z"
   },
   {
    "duration": 18,
    "start_time": "2022-08-31T16:19:43.510Z"
   },
   {
    "duration": 17,
    "start_time": "2022-08-31T16:19:43.529Z"
   },
   {
    "duration": 12,
    "start_time": "2022-08-31T16:19:43.547Z"
   },
   {
    "duration": 33,
    "start_time": "2022-08-31T16:19:43.561Z"
   },
   {
    "duration": 244,
    "start_time": "2022-08-31T16:19:43.595Z"
   },
   {
    "duration": 8,
    "start_time": "2022-08-31T16:19:43.842Z"
   },
   {
    "duration": 23,
    "start_time": "2022-08-31T16:19:43.852Z"
   },
   {
    "duration": 12,
    "start_time": "2022-08-31T16:19:43.887Z"
   },
   {
    "duration": 23,
    "start_time": "2022-08-31T16:19:43.900Z"
   },
   {
    "duration": 19,
    "start_time": "2022-08-31T16:19:43.925Z"
   },
   {
    "duration": 46,
    "start_time": "2022-08-31T16:19:43.945Z"
   },
   {
    "duration": 249,
    "start_time": "2022-08-31T16:19:43.993Z"
   },
   {
    "duration": 5,
    "start_time": "2022-08-31T16:19:44.244Z"
   },
   {
    "duration": 229,
    "start_time": "2022-08-31T16:19:44.251Z"
   },
   {
    "duration": 8,
    "start_time": "2022-08-31T16:19:44.486Z"
   },
   {
    "duration": 14,
    "start_time": "2022-08-31T16:19:44.495Z"
   },
   {
    "duration": 14,
    "start_time": "2022-08-31T16:19:44.510Z"
   },
   {
    "duration": 9,
    "start_time": "2022-08-31T16:19:44.525Z"
   },
   {
    "duration": 13,
    "start_time": "2022-08-31T16:19:44.536Z"
   },
   {
    "duration": 11,
    "start_time": "2022-08-31T16:19:44.550Z"
   },
   {
    "duration": 27,
    "start_time": "2022-08-31T16:19:44.563Z"
   },
   {
    "duration": 10,
    "start_time": "2022-08-31T16:19:44.592Z"
   },
   {
    "duration": 14,
    "start_time": "2022-08-31T16:19:44.604Z"
   },
   {
    "duration": 14,
    "start_time": "2022-08-31T16:19:44.619Z"
   },
   {
    "duration": 238,
    "start_time": "2022-08-31T16:19:44.634Z"
   },
   {
    "duration": 13,
    "start_time": "2022-08-31T16:19:44.874Z"
   },
   {
    "duration": 9,
    "start_time": "2022-08-31T16:19:44.888Z"
   },
   {
    "duration": 149,
    "start_time": "2022-08-31T16:19:44.898Z"
   },
   {
    "duration": 4,
    "start_time": "2022-08-31T16:19:45.048Z"
   },
   {
    "duration": 15,
    "start_time": "2022-08-31T16:19:45.054Z"
   },
   {
    "duration": 147,
    "start_time": "2022-08-31T16:19:45.070Z"
   },
   {
    "duration": 5,
    "start_time": "2022-08-31T16:19:45.218Z"
   },
   {
    "duration": 234,
    "start_time": "2022-08-31T16:19:45.224Z"
   },
   {
    "duration": 8,
    "start_time": "2022-08-31T16:19:45.460Z"
   },
   {
    "duration": 20,
    "start_time": "2022-08-31T16:19:45.469Z"
   },
   {
    "duration": 34,
    "start_time": "2022-08-31T16:19:45.491Z"
   },
   {
    "duration": 11,
    "start_time": "2022-08-31T16:19:45.527Z"
   },
   {
    "duration": 83,
    "start_time": "2022-08-31T16:34:59.440Z"
   },
   {
    "duration": 130,
    "start_time": "2022-08-31T16:37:28.598Z"
   },
   {
    "duration": 8,
    "start_time": "2022-08-31T16:37:52.240Z"
   },
   {
    "duration": 9,
    "start_time": "2022-08-31T16:37:55.162Z"
   },
   {
    "duration": 36,
    "start_time": "2022-08-31T16:38:03.435Z"
   },
   {
    "duration": 12,
    "start_time": "2022-08-31T16:38:24.860Z"
   },
   {
    "duration": 1033,
    "start_time": "2022-08-31T16:38:32.537Z"
   },
   {
    "duration": 79,
    "start_time": "2022-08-31T16:38:33.571Z"
   },
   {
    "duration": 11,
    "start_time": "2022-08-31T16:38:33.651Z"
   },
   {
    "duration": 11,
    "start_time": "2022-08-31T16:38:33.664Z"
   },
   {
    "duration": 20,
    "start_time": "2022-08-31T16:38:33.677Z"
   },
   {
    "duration": 3,
    "start_time": "2022-08-31T16:38:33.699Z"
   },
   {
    "duration": 11,
    "start_time": "2022-08-31T16:38:33.703Z"
   },
   {
    "duration": 9,
    "start_time": "2022-08-31T16:38:33.715Z"
   },
   {
    "duration": 11,
    "start_time": "2022-08-31T16:38:33.725Z"
   },
   {
    "duration": 16,
    "start_time": "2022-08-31T16:38:33.738Z"
   },
   {
    "duration": 16,
    "start_time": "2022-08-31T16:38:33.755Z"
   },
   {
    "duration": 12,
    "start_time": "2022-08-31T16:38:33.786Z"
   },
   {
    "duration": 10,
    "start_time": "2022-08-31T16:38:33.799Z"
   },
   {
    "duration": 9,
    "start_time": "2022-08-31T16:38:33.810Z"
   },
   {
    "duration": 11,
    "start_time": "2022-08-31T16:38:33.820Z"
   },
   {
    "duration": 12,
    "start_time": "2022-08-31T16:38:33.833Z"
   },
   {
    "duration": 12,
    "start_time": "2022-08-31T16:38:33.847Z"
   },
   {
    "duration": 35,
    "start_time": "2022-08-31T16:38:33.860Z"
   },
   {
    "duration": 10,
    "start_time": "2022-08-31T16:38:33.897Z"
   },
   {
    "duration": 11,
    "start_time": "2022-08-31T16:38:33.909Z"
   },
   {
    "duration": 335,
    "start_time": "2022-08-31T16:38:33.922Z"
   },
   {
    "duration": 397,
    "start_time": "2022-08-31T16:38:34.258Z"
   },
   {
    "duration": 17,
    "start_time": "2022-08-31T16:38:34.657Z"
   },
   {
    "duration": 23,
    "start_time": "2022-08-31T16:38:34.675Z"
   },
   {
    "duration": 11,
    "start_time": "2022-08-31T16:38:34.700Z"
   },
   {
    "duration": 18,
    "start_time": "2022-08-31T16:38:34.713Z"
   },
   {
    "duration": 243,
    "start_time": "2022-08-31T16:38:34.732Z"
   },
   {
    "duration": 14,
    "start_time": "2022-08-31T16:38:34.978Z"
   },
   {
    "duration": 21,
    "start_time": "2022-08-31T16:38:34.994Z"
   },
   {
    "duration": 11,
    "start_time": "2022-08-31T16:38:35.017Z"
   },
   {
    "duration": 26,
    "start_time": "2022-08-31T16:38:35.029Z"
   },
   {
    "duration": 35,
    "start_time": "2022-08-31T16:38:35.057Z"
   },
   {
    "duration": 15,
    "start_time": "2022-08-31T16:38:35.094Z"
   },
   {
    "duration": 250,
    "start_time": "2022-08-31T16:38:35.111Z"
   },
   {
    "duration": 6,
    "start_time": "2022-08-31T16:38:35.362Z"
   },
   {
    "duration": 226,
    "start_time": "2022-08-31T16:38:35.369Z"
   },
   {
    "duration": 9,
    "start_time": "2022-08-31T16:38:35.596Z"
   },
   {
    "duration": 12,
    "start_time": "2022-08-31T16:38:35.607Z"
   },
   {
    "duration": 17,
    "start_time": "2022-08-31T16:38:35.621Z"
   },
   {
    "duration": 10,
    "start_time": "2022-08-31T16:38:35.639Z"
   },
   {
    "duration": 12,
    "start_time": "2022-08-31T16:38:35.650Z"
   },
   {
    "duration": 27,
    "start_time": "2022-08-31T16:38:35.664Z"
   },
   {
    "duration": 19,
    "start_time": "2022-08-31T16:38:35.693Z"
   },
   {
    "duration": 20,
    "start_time": "2022-08-31T16:38:35.713Z"
   },
   {
    "duration": 17,
    "start_time": "2022-08-31T16:38:35.735Z"
   },
   {
    "duration": 11,
    "start_time": "2022-08-31T16:38:35.754Z"
   },
   {
    "duration": 222,
    "start_time": "2022-08-31T16:38:35.767Z"
   },
   {
    "duration": 8,
    "start_time": "2022-08-31T16:38:35.991Z"
   },
   {
    "duration": 19,
    "start_time": "2022-08-31T16:38:36.001Z"
   },
   {
    "duration": 147,
    "start_time": "2022-08-31T16:38:36.022Z"
   },
   {
    "duration": 5,
    "start_time": "2022-08-31T16:38:36.171Z"
   },
   {
    "duration": 18,
    "start_time": "2022-08-31T16:38:36.177Z"
   },
   {
    "duration": 205,
    "start_time": "2022-08-31T16:38:36.197Z"
   },
   {
    "duration": 6,
    "start_time": "2022-08-31T16:38:36.404Z"
   },
   {
    "duration": 276,
    "start_time": "2022-08-31T16:38:36.411Z"
   },
   {
    "duration": 8,
    "start_time": "2022-08-31T16:38:36.689Z"
   },
   {
    "duration": 8,
    "start_time": "2022-08-31T16:38:36.698Z"
   },
   {
    "duration": 32,
    "start_time": "2022-08-31T16:38:36.708Z"
   },
   {
    "duration": 11,
    "start_time": "2022-08-31T16:38:36.741Z"
   },
   {
    "duration": 163,
    "start_time": "2022-08-31T16:53:35.454Z"
   },
   {
    "duration": 58,
    "start_time": "2022-08-31T16:55:14.569Z"
   },
   {
    "duration": 169,
    "start_time": "2022-08-31T16:55:34.670Z"
   },
   {
    "duration": 54,
    "start_time": "2022-08-31T16:55:53.861Z"
   },
   {
    "duration": 45,
    "start_time": "2022-08-31T16:55:58.284Z"
   },
   {
    "duration": 181,
    "start_time": "2022-08-31T16:56:10.996Z"
   },
   {
    "duration": 151,
    "start_time": "2022-08-31T16:56:30.643Z"
   },
   {
    "duration": 142,
    "start_time": "2022-08-31T16:56:50.948Z"
   },
   {
    "duration": 152,
    "start_time": "2022-08-31T16:57:07.030Z"
   },
   {
    "duration": 141,
    "start_time": "2022-08-31T16:57:31.079Z"
   },
   {
    "duration": 198,
    "start_time": "2022-08-31T16:57:59.984Z"
   },
   {
    "duration": 182,
    "start_time": "2022-08-31T16:58:05.896Z"
   },
   {
    "duration": 1104,
    "start_time": "2022-08-31T16:58:49.572Z"
   },
   {
    "duration": 80,
    "start_time": "2022-08-31T16:58:50.678Z"
   },
   {
    "duration": 11,
    "start_time": "2022-08-31T16:58:50.760Z"
   },
   {
    "duration": 10,
    "start_time": "2022-08-31T16:58:50.773Z"
   },
   {
    "duration": 19,
    "start_time": "2022-08-31T16:58:50.785Z"
   },
   {
    "duration": 15,
    "start_time": "2022-08-31T16:58:50.805Z"
   },
   {
    "duration": 15,
    "start_time": "2022-08-31T16:58:50.822Z"
   },
   {
    "duration": 16,
    "start_time": "2022-08-31T16:58:50.838Z"
   },
   {
    "duration": 11,
    "start_time": "2022-08-31T16:58:50.856Z"
   },
   {
    "duration": 15,
    "start_time": "2022-08-31T16:58:50.871Z"
   },
   {
    "duration": 21,
    "start_time": "2022-08-31T16:58:50.888Z"
   },
   {
    "duration": 13,
    "start_time": "2022-08-31T16:58:50.910Z"
   },
   {
    "duration": 18,
    "start_time": "2022-08-31T16:58:50.925Z"
   },
   {
    "duration": 17,
    "start_time": "2022-08-31T16:58:50.945Z"
   },
   {
    "duration": 17,
    "start_time": "2022-08-31T16:58:50.963Z"
   },
   {
    "duration": 26,
    "start_time": "2022-08-31T16:58:50.982Z"
   },
   {
    "duration": 19,
    "start_time": "2022-08-31T16:58:51.009Z"
   },
   {
    "duration": 17,
    "start_time": "2022-08-31T16:58:51.029Z"
   },
   {
    "duration": 10,
    "start_time": "2022-08-31T16:58:51.048Z"
   },
   {
    "duration": 12,
    "start_time": "2022-08-31T16:58:51.060Z"
   },
   {
    "duration": 296,
    "start_time": "2022-08-31T16:58:51.074Z"
   },
   {
    "duration": 406,
    "start_time": "2022-08-31T16:58:51.372Z"
   },
   {
    "duration": 25,
    "start_time": "2022-08-31T16:58:51.781Z"
   },
   {
    "duration": 18,
    "start_time": "2022-08-31T16:58:51.808Z"
   },
   {
    "duration": 13,
    "start_time": "2022-08-31T16:58:51.828Z"
   },
   {
    "duration": 11,
    "start_time": "2022-08-31T16:58:51.842Z"
   },
   {
    "duration": 275,
    "start_time": "2022-08-31T16:58:51.855Z"
   },
   {
    "duration": 9,
    "start_time": "2022-08-31T16:58:52.134Z"
   },
   {
    "duration": 22,
    "start_time": "2022-08-31T16:58:52.144Z"
   },
   {
    "duration": 29,
    "start_time": "2022-08-31T16:58:52.167Z"
   },
   {
    "duration": 23,
    "start_time": "2022-08-31T16:58:52.198Z"
   },
   {
    "duration": 18,
    "start_time": "2022-08-31T16:58:52.223Z"
   },
   {
    "duration": 52,
    "start_time": "2022-08-31T16:58:52.243Z"
   },
   {
    "duration": 249,
    "start_time": "2022-08-31T16:58:52.296Z"
   },
   {
    "duration": 8,
    "start_time": "2022-08-31T16:58:52.547Z"
   },
   {
    "duration": 224,
    "start_time": "2022-08-31T16:58:52.557Z"
   },
   {
    "duration": 10,
    "start_time": "2022-08-31T16:58:52.783Z"
   },
   {
    "duration": 10,
    "start_time": "2022-08-31T16:58:52.794Z"
   },
   {
    "duration": 14,
    "start_time": "2022-08-31T16:58:52.806Z"
   },
   {
    "duration": 10,
    "start_time": "2022-08-31T16:58:52.821Z"
   },
   {
    "duration": 14,
    "start_time": "2022-08-31T16:58:52.833Z"
   },
   {
    "duration": 39,
    "start_time": "2022-08-31T16:58:52.849Z"
   },
   {
    "duration": 20,
    "start_time": "2022-08-31T16:58:52.889Z"
   },
   {
    "duration": 11,
    "start_time": "2022-08-31T16:58:52.910Z"
   },
   {
    "duration": 17,
    "start_time": "2022-08-31T16:58:52.922Z"
   },
   {
    "duration": 12,
    "start_time": "2022-08-31T16:58:52.940Z"
   },
   {
    "duration": 241,
    "start_time": "2022-08-31T16:58:52.954Z"
   },
   {
    "duration": 8,
    "start_time": "2022-08-31T16:58:53.196Z"
   },
   {
    "duration": 16,
    "start_time": "2022-08-31T16:58:53.205Z"
   },
   {
    "duration": 146,
    "start_time": "2022-08-31T16:58:53.222Z"
   },
   {
    "duration": 5,
    "start_time": "2022-08-31T16:58:53.369Z"
   },
   {
    "duration": 9,
    "start_time": "2022-08-31T16:58:53.386Z"
   },
   {
    "duration": 147,
    "start_time": "2022-08-31T16:58:53.397Z"
   },
   {
    "duration": 5,
    "start_time": "2022-08-31T16:58:53.546Z"
   },
   {
    "duration": 256,
    "start_time": "2022-08-31T16:58:53.552Z"
   },
   {
    "duration": 8,
    "start_time": "2022-08-31T16:58:53.810Z"
   },
   {
    "duration": 11,
    "start_time": "2022-08-31T16:58:53.820Z"
   },
   {
    "duration": 39,
    "start_time": "2022-08-31T16:58:53.832Z"
   },
   {
    "duration": 23,
    "start_time": "2022-08-31T16:58:53.872Z"
   },
   {
    "duration": 1123,
    "start_time": "2022-08-31T18:10:57.239Z"
   },
   {
    "duration": 89,
    "start_time": "2022-08-31T18:10:58.363Z"
   },
   {
    "duration": 10,
    "start_time": "2022-08-31T18:10:58.453Z"
   },
   {
    "duration": 13,
    "start_time": "2022-08-31T18:10:58.465Z"
   },
   {
    "duration": 31,
    "start_time": "2022-08-31T18:10:58.480Z"
   },
   {
    "duration": 5,
    "start_time": "2022-08-31T18:10:58.513Z"
   },
   {
    "duration": 11,
    "start_time": "2022-08-31T18:10:58.519Z"
   },
   {
    "duration": 7,
    "start_time": "2022-08-31T18:10:58.531Z"
   },
   {
    "duration": 11,
    "start_time": "2022-08-31T18:10:58.539Z"
   },
   {
    "duration": 10,
    "start_time": "2022-08-31T18:10:58.553Z"
   },
   {
    "duration": 42,
    "start_time": "2022-08-31T18:10:58.564Z"
   },
   {
    "duration": 13,
    "start_time": "2022-08-31T18:10:58.607Z"
   },
   {
    "duration": 6,
    "start_time": "2022-08-31T18:10:58.621Z"
   },
   {
    "duration": 10,
    "start_time": "2022-08-31T18:10:58.628Z"
   },
   {
    "duration": 16,
    "start_time": "2022-08-31T18:10:58.640Z"
   },
   {
    "duration": 10,
    "start_time": "2022-08-31T18:10:58.658Z"
   },
   {
    "duration": 37,
    "start_time": "2022-08-31T18:10:58.670Z"
   },
   {
    "duration": 12,
    "start_time": "2022-08-31T18:10:58.708Z"
   },
   {
    "duration": 11,
    "start_time": "2022-08-31T18:10:58.721Z"
   },
   {
    "duration": 17,
    "start_time": "2022-08-31T18:10:58.734Z"
   },
   {
    "duration": 327,
    "start_time": "2022-08-31T18:10:58.752Z"
   },
   {
    "duration": 436,
    "start_time": "2022-08-31T18:10:59.081Z"
   },
   {
    "duration": 17,
    "start_time": "2022-08-31T18:10:59.518Z"
   },
   {
    "duration": 15,
    "start_time": "2022-08-31T18:10:59.536Z"
   },
   {
    "duration": 13,
    "start_time": "2022-08-31T18:10:59.553Z"
   },
   {
    "duration": 34,
    "start_time": "2022-08-31T18:10:59.567Z"
   },
   {
    "duration": 254,
    "start_time": "2022-08-31T18:10:59.603Z"
   },
   {
    "duration": 8,
    "start_time": "2022-08-31T18:10:59.860Z"
   },
   {
    "duration": 36,
    "start_time": "2022-08-31T18:10:59.869Z"
   },
   {
    "duration": 25,
    "start_time": "2022-08-31T18:10:59.907Z"
   },
   {
    "duration": 30,
    "start_time": "2022-08-31T18:10:59.934Z"
   },
   {
    "duration": 19,
    "start_time": "2022-08-31T18:10:59.966Z"
   },
   {
    "duration": 20,
    "start_time": "2022-08-31T18:10:59.998Z"
   },
   {
    "duration": 271,
    "start_time": "2022-08-31T18:11:00.020Z"
   },
   {
    "duration": 9,
    "start_time": "2022-08-31T18:11:00.293Z"
   },
   {
    "duration": 234,
    "start_time": "2022-08-31T18:11:00.304Z"
   },
   {
    "duration": 9,
    "start_time": "2022-08-31T18:11:00.539Z"
   },
   {
    "duration": 11,
    "start_time": "2022-08-31T18:11:00.549Z"
   },
   {
    "duration": 36,
    "start_time": "2022-08-31T18:11:00.562Z"
   },
   {
    "duration": 15,
    "start_time": "2022-08-31T18:11:00.600Z"
   },
   {
    "duration": 13,
    "start_time": "2022-08-31T18:11:00.617Z"
   },
   {
    "duration": 19,
    "start_time": "2022-08-31T18:11:00.632Z"
   },
   {
    "duration": 26,
    "start_time": "2022-08-31T18:11:00.653Z"
   },
   {
    "duration": 28,
    "start_time": "2022-08-31T18:11:00.681Z"
   },
   {
    "duration": 36,
    "start_time": "2022-08-31T18:11:00.711Z"
   },
   {
    "duration": 28,
    "start_time": "2022-08-31T18:11:00.749Z"
   },
   {
    "duration": 254,
    "start_time": "2022-08-31T18:11:00.779Z"
   },
   {
    "duration": 8,
    "start_time": "2022-08-31T18:11:01.034Z"
   },
   {
    "duration": 84,
    "start_time": "2022-08-31T18:11:01.044Z"
   },
   {
    "duration": 151,
    "start_time": "2022-08-31T18:11:01.130Z"
   },
   {
    "duration": 5,
    "start_time": "2022-08-31T18:11:01.282Z"
   },
   {
    "duration": 35,
    "start_time": "2022-08-31T18:11:01.288Z"
   },
   {
    "duration": 156,
    "start_time": "2022-08-31T18:11:01.324Z"
   },
   {
    "duration": 11,
    "start_time": "2022-08-31T18:11:01.482Z"
   },
   {
    "duration": 263,
    "start_time": "2022-08-31T18:11:01.495Z"
   },
   {
    "duration": 9,
    "start_time": "2022-08-31T18:11:01.759Z"
   },
   {
    "duration": 24,
    "start_time": "2022-08-31T18:11:01.786Z"
   },
   {
    "duration": 48,
    "start_time": "2022-08-31T18:11:01.812Z"
   },
   {
    "duration": 14,
    "start_time": "2022-08-31T18:11:01.862Z"
   },
   {
    "duration": 1219,
    "start_time": "2022-08-31T23:50:15.207Z"
   },
   {
    "duration": 79,
    "start_time": "2022-08-31T23:50:16.428Z"
   },
   {
    "duration": 11,
    "start_time": "2022-08-31T23:50:16.509Z"
   },
   {
    "duration": 11,
    "start_time": "2022-08-31T23:50:16.522Z"
   },
   {
    "duration": 24,
    "start_time": "2022-08-31T23:50:16.535Z"
   },
   {
    "duration": 8,
    "start_time": "2022-08-31T23:50:16.561Z"
   },
   {
    "duration": 19,
    "start_time": "2022-08-31T23:50:16.570Z"
   },
   {
    "duration": 18,
    "start_time": "2022-08-31T23:50:16.590Z"
   },
   {
    "duration": 15,
    "start_time": "2022-08-31T23:50:16.610Z"
   },
   {
    "duration": 14,
    "start_time": "2022-08-31T23:50:16.628Z"
   },
   {
    "duration": 34,
    "start_time": "2022-08-31T23:50:16.644Z"
   },
   {
    "duration": 15,
    "start_time": "2022-08-31T23:50:16.681Z"
   },
   {
    "duration": 12,
    "start_time": "2022-08-31T23:50:16.698Z"
   },
   {
    "duration": 7,
    "start_time": "2022-08-31T23:50:16.712Z"
   },
   {
    "duration": 12,
    "start_time": "2022-08-31T23:50:16.721Z"
   },
   {
    "duration": 12,
    "start_time": "2022-08-31T23:50:16.735Z"
   },
   {
    "duration": 12,
    "start_time": "2022-08-31T23:50:16.749Z"
   },
   {
    "duration": 13,
    "start_time": "2022-08-31T23:50:16.786Z"
   },
   {
    "duration": 36,
    "start_time": "2022-08-31T23:50:16.801Z"
   },
   {
    "duration": 13,
    "start_time": "2022-08-31T23:50:16.839Z"
   },
   {
    "duration": 313,
    "start_time": "2022-08-31T23:50:16.853Z"
   },
   {
    "duration": 450,
    "start_time": "2022-08-31T23:50:17.168Z"
   },
   {
    "duration": 19,
    "start_time": "2022-08-31T23:50:17.620Z"
   },
   {
    "duration": 16,
    "start_time": "2022-08-31T23:50:17.640Z"
   },
   {
    "duration": 39,
    "start_time": "2022-08-31T23:50:17.657Z"
   },
   {
    "duration": 9,
    "start_time": "2022-08-31T23:50:17.698Z"
   },
   {
    "duration": 258,
    "start_time": "2022-08-31T23:50:17.708Z"
   },
   {
    "duration": 16,
    "start_time": "2022-08-31T23:50:17.970Z"
   },
   {
    "duration": 22,
    "start_time": "2022-08-31T23:50:17.988Z"
   },
   {
    "duration": 14,
    "start_time": "2022-08-31T23:50:18.012Z"
   },
   {
    "duration": 25,
    "start_time": "2022-08-31T23:50:18.028Z"
   },
   {
    "duration": 49,
    "start_time": "2022-08-31T23:50:18.055Z"
   },
   {
    "duration": 21,
    "start_time": "2022-08-31T23:50:18.105Z"
   },
   {
    "duration": 261,
    "start_time": "2022-08-31T23:50:18.127Z"
   },
   {
    "duration": 6,
    "start_time": "2022-08-31T23:50:18.390Z"
   },
   {
    "duration": 245,
    "start_time": "2022-08-31T23:50:18.398Z"
   },
   {
    "duration": 9,
    "start_time": "2022-08-31T23:50:18.645Z"
   },
   {
    "duration": 10,
    "start_time": "2022-08-31T23:50:18.656Z"
   },
   {
    "duration": 24,
    "start_time": "2022-08-31T23:50:18.668Z"
   },
   {
    "duration": 10,
    "start_time": "2022-08-31T23:50:18.694Z"
   },
   {
    "duration": 13,
    "start_time": "2022-08-31T23:50:18.705Z"
   },
   {
    "duration": 15,
    "start_time": "2022-08-31T23:50:18.720Z"
   },
   {
    "duration": 17,
    "start_time": "2022-08-31T23:50:18.737Z"
   },
   {
    "duration": 9,
    "start_time": "2022-08-31T23:50:18.756Z"
   },
   {
    "duration": 15,
    "start_time": "2022-08-31T23:50:18.786Z"
   },
   {
    "duration": 12,
    "start_time": "2022-08-31T23:50:18.803Z"
   },
   {
    "duration": 266,
    "start_time": "2022-08-31T23:50:18.817Z"
   },
   {
    "duration": 8,
    "start_time": "2022-08-31T23:50:19.086Z"
   },
   {
    "duration": 11,
    "start_time": "2022-08-31T23:50:19.096Z"
   },
   {
    "duration": 157,
    "start_time": "2022-08-31T23:50:19.108Z"
   },
   {
    "duration": 5,
    "start_time": "2022-08-31T23:50:19.267Z"
   },
   {
    "duration": 22,
    "start_time": "2022-08-31T23:50:19.273Z"
   },
   {
    "duration": 160,
    "start_time": "2022-08-31T23:50:19.296Z"
   },
   {
    "duration": 5,
    "start_time": "2022-08-31T23:50:19.458Z"
   },
   {
    "duration": 269,
    "start_time": "2022-08-31T23:50:19.465Z"
   },
   {
    "duration": 8,
    "start_time": "2022-08-31T23:50:19.736Z"
   },
   {
    "duration": 7,
    "start_time": "2022-08-31T23:50:19.746Z"
   },
   {
    "duration": 49,
    "start_time": "2022-08-31T23:50:19.755Z"
   },
   {
    "duration": 14,
    "start_time": "2022-08-31T23:50:19.805Z"
   },
   {
    "duration": 11,
    "start_time": "2022-09-01T00:40:44.883Z"
   },
   {
    "duration": 14,
    "start_time": "2022-09-01T00:40:45.488Z"
   },
   {
    "duration": 8,
    "start_time": "2022-09-01T00:40:48.863Z"
   },
   {
    "duration": 16,
    "start_time": "2022-09-01T00:41:00.304Z"
   },
   {
    "duration": 11,
    "start_time": "2022-09-01T00:41:01.926Z"
   },
   {
    "duration": 248,
    "start_time": "2022-09-01T00:41:02.635Z"
   },
   {
    "duration": 11,
    "start_time": "2022-09-01T00:46:23.435Z"
   },
   {
    "duration": 138,
    "start_time": "2022-09-01T00:46:28.528Z"
   },
   {
    "duration": 180,
    "start_time": "2022-09-01T00:54:06.408Z"
   },
   {
    "duration": 5,
    "start_time": "2022-09-01T01:31:45.364Z"
   },
   {
    "duration": 4,
    "start_time": "2022-09-01T01:32:27.655Z"
   },
   {
    "duration": 168,
    "start_time": "2022-09-01T01:35:02.621Z"
   },
   {
    "duration": 197,
    "start_time": "2022-09-01T01:35:28.392Z"
   },
   {
    "duration": 3,
    "start_time": "2022-09-01T01:35:42.949Z"
   },
   {
    "duration": 9,
    "start_time": "2022-09-01T01:37:51.365Z"
   },
   {
    "duration": 5,
    "start_time": "2022-09-01T01:39:46.720Z"
   },
   {
    "duration": 10,
    "start_time": "2022-09-01T01:40:19.090Z"
   },
   {
    "duration": 1039,
    "start_time": "2022-09-01T01:42:58.032Z"
   },
   {
    "duration": 79,
    "start_time": "2022-09-01T01:42:59.073Z"
   },
   {
    "duration": 11,
    "start_time": "2022-09-01T01:42:59.153Z"
   },
   {
    "duration": 10,
    "start_time": "2022-09-01T01:42:59.165Z"
   },
   {
    "duration": 21,
    "start_time": "2022-09-01T01:42:59.177Z"
   },
   {
    "duration": 3,
    "start_time": "2022-09-01T01:42:59.200Z"
   },
   {
    "duration": 19,
    "start_time": "2022-09-01T01:42:59.205Z"
   },
   {
    "duration": 8,
    "start_time": "2022-09-01T01:42:59.225Z"
   },
   {
    "duration": 9,
    "start_time": "2022-09-01T01:42:59.234Z"
   },
   {
    "duration": 12,
    "start_time": "2022-09-01T01:42:59.245Z"
   },
   {
    "duration": 28,
    "start_time": "2022-09-01T01:42:59.259Z"
   },
   {
    "duration": 12,
    "start_time": "2022-09-01T01:42:59.288Z"
   },
   {
    "duration": 8,
    "start_time": "2022-09-01T01:42:59.301Z"
   },
   {
    "duration": 6,
    "start_time": "2022-09-01T01:42:59.310Z"
   },
   {
    "duration": 11,
    "start_time": "2022-09-01T01:42:59.318Z"
   },
   {
    "duration": 11,
    "start_time": "2022-09-01T01:42:59.330Z"
   },
   {
    "duration": 11,
    "start_time": "2022-09-01T01:42:59.342Z"
   },
   {
    "duration": 39,
    "start_time": "2022-09-01T01:42:59.355Z"
   },
   {
    "duration": 10,
    "start_time": "2022-09-01T01:42:59.395Z"
   },
   {
    "duration": 14,
    "start_time": "2022-09-01T01:42:59.406Z"
   },
   {
    "duration": 329,
    "start_time": "2022-09-01T01:42:59.422Z"
   },
   {
    "duration": 431,
    "start_time": "2022-09-01T01:42:59.752Z"
   },
   {
    "duration": 19,
    "start_time": "2022-09-01T01:43:00.185Z"
   },
   {
    "duration": 24,
    "start_time": "2022-09-01T01:43:00.206Z"
   },
   {
    "duration": 16,
    "start_time": "2022-09-01T01:43:00.232Z"
   },
   {
    "duration": 38,
    "start_time": "2022-09-01T01:43:00.249Z"
   },
   {
    "duration": 257,
    "start_time": "2022-09-01T01:43:00.289Z"
   },
   {
    "duration": 9,
    "start_time": "2022-09-01T01:43:00.549Z"
   },
   {
    "duration": 32,
    "start_time": "2022-09-01T01:43:00.560Z"
   },
   {
    "duration": 16,
    "start_time": "2022-09-01T01:43:00.593Z"
   },
   {
    "duration": 37,
    "start_time": "2022-09-01T01:43:00.610Z"
   },
   {
    "duration": 28,
    "start_time": "2022-09-01T01:43:00.648Z"
   },
   {
    "duration": 15,
    "start_time": "2022-09-01T01:43:00.678Z"
   },
   {
    "duration": 241,
    "start_time": "2022-09-01T01:43:00.695Z"
   },
   {
    "duration": 6,
    "start_time": "2022-09-01T01:43:00.938Z"
   },
   {
    "duration": 228,
    "start_time": "2022-09-01T01:43:00.946Z"
   },
   {
    "duration": 18,
    "start_time": "2022-09-01T01:43:01.175Z"
   },
   {
    "duration": 24,
    "start_time": "2022-09-01T01:43:01.195Z"
   },
   {
    "duration": 23,
    "start_time": "2022-09-01T01:43:01.220Z"
   },
   {
    "duration": 13,
    "start_time": "2022-09-01T01:43:01.245Z"
   },
   {
    "duration": 17,
    "start_time": "2022-09-01T01:43:01.259Z"
   },
   {
    "duration": 24,
    "start_time": "2022-09-01T01:43:01.278Z"
   },
   {
    "duration": 18,
    "start_time": "2022-09-01T01:43:01.304Z"
   },
   {
    "duration": 13,
    "start_time": "2022-09-01T01:43:01.324Z"
   },
   {
    "duration": 24,
    "start_time": "2022-09-01T01:43:01.339Z"
   },
   {
    "duration": 88,
    "start_time": "2022-09-01T01:43:01.364Z"
   },
   {
    "duration": 261,
    "start_time": "2022-09-01T01:43:01.453Z"
   },
   {
    "duration": 10,
    "start_time": "2022-09-01T01:43:01.715Z"
   },
   {
    "duration": 56,
    "start_time": "2022-09-01T01:43:01.727Z"
   },
   {
    "duration": 213,
    "start_time": "2022-09-01T01:43:01.784Z"
   },
   {
    "duration": 2,
    "start_time": "2022-09-01T01:43:01.999Z"
   },
   {
    "duration": 9,
    "start_time": "2022-09-01T01:43:02.003Z"
   },
   {
    "duration": 11,
    "start_time": "2022-09-01T01:43:02.014Z"
   },
   {
    "duration": 174,
    "start_time": "2022-09-01T01:43:02.027Z"
   },
   {
    "duration": 5,
    "start_time": "2022-09-01T01:43:02.202Z"
   },
   {
    "duration": 247,
    "start_time": "2022-09-01T01:43:02.208Z"
   },
   {
    "duration": 8,
    "start_time": "2022-09-01T01:43:02.457Z"
   },
   {
    "duration": 30,
    "start_time": "2022-09-01T01:43:02.467Z"
   },
   {
    "duration": 53,
    "start_time": "2022-09-01T01:43:02.499Z"
   },
   {
    "duration": 29,
    "start_time": "2022-09-01T01:43:02.554Z"
   },
   {
    "duration": 1066,
    "start_time": "2022-09-01T01:59:36.500Z"
   },
   {
    "duration": 79,
    "start_time": "2022-09-01T01:59:37.567Z"
   },
   {
    "duration": 10,
    "start_time": "2022-09-01T01:59:37.647Z"
   },
   {
    "duration": 9,
    "start_time": "2022-09-01T01:59:37.659Z"
   },
   {
    "duration": 19,
    "start_time": "2022-09-01T01:59:37.670Z"
   },
   {
    "duration": 8,
    "start_time": "2022-09-01T01:59:37.690Z"
   },
   {
    "duration": 9,
    "start_time": "2022-09-01T01:59:37.700Z"
   },
   {
    "duration": 7,
    "start_time": "2022-09-01T01:59:37.711Z"
   },
   {
    "duration": 11,
    "start_time": "2022-09-01T01:59:37.719Z"
   },
   {
    "duration": 14,
    "start_time": "2022-09-01T01:59:37.731Z"
   },
   {
    "duration": 17,
    "start_time": "2022-09-01T01:59:37.746Z"
   },
   {
    "duration": 25,
    "start_time": "2022-09-01T01:59:37.764Z"
   },
   {
    "duration": 5,
    "start_time": "2022-09-01T01:59:37.790Z"
   },
   {
    "duration": 7,
    "start_time": "2022-09-01T01:59:37.797Z"
   },
   {
    "duration": 14,
    "start_time": "2022-09-01T01:59:37.806Z"
   },
   {
    "duration": 29,
    "start_time": "2022-09-01T01:59:37.822Z"
   },
   {
    "duration": 15,
    "start_time": "2022-09-01T01:59:37.853Z"
   },
   {
    "duration": 32,
    "start_time": "2022-09-01T01:59:37.869Z"
   },
   {
    "duration": 21,
    "start_time": "2022-09-01T01:59:37.902Z"
   },
   {
    "duration": 19,
    "start_time": "2022-09-01T01:59:37.924Z"
   },
   {
    "duration": 310,
    "start_time": "2022-09-01T01:59:37.944Z"
   },
   {
    "duration": 396,
    "start_time": "2022-09-01T01:59:38.255Z"
   },
   {
    "duration": 17,
    "start_time": "2022-09-01T01:59:38.652Z"
   },
   {
    "duration": 28,
    "start_time": "2022-09-01T01:59:38.671Z"
   },
   {
    "duration": 13,
    "start_time": "2022-09-01T01:59:38.700Z"
   },
   {
    "duration": 9,
    "start_time": "2022-09-01T01:59:38.714Z"
   },
   {
    "duration": 243,
    "start_time": "2022-09-01T01:59:38.724Z"
   },
   {
    "duration": 8,
    "start_time": "2022-09-01T01:59:38.969Z"
   },
   {
    "duration": 18,
    "start_time": "2022-09-01T01:59:38.987Z"
   },
   {
    "duration": 10,
    "start_time": "2022-09-01T01:59:39.007Z"
   },
   {
    "duration": 21,
    "start_time": "2022-09-01T01:59:39.019Z"
   },
   {
    "duration": 47,
    "start_time": "2022-09-01T01:59:39.041Z"
   },
   {
    "duration": 17,
    "start_time": "2022-09-01T01:59:39.089Z"
   },
   {
    "duration": 238,
    "start_time": "2022-09-01T01:59:39.107Z"
   },
   {
    "duration": 7,
    "start_time": "2022-09-01T01:59:39.346Z"
   },
   {
    "duration": 221,
    "start_time": "2022-09-01T01:59:39.354Z"
   },
   {
    "duration": 17,
    "start_time": "2022-09-01T01:59:39.577Z"
   },
   {
    "duration": 10,
    "start_time": "2022-09-01T01:59:39.595Z"
   },
   {
    "duration": 12,
    "start_time": "2022-09-01T01:59:39.607Z"
   },
   {
    "duration": 9,
    "start_time": "2022-09-01T01:59:39.620Z"
   },
   {
    "duration": 9,
    "start_time": "2022-09-01T01:59:39.633Z"
   },
   {
    "duration": 13,
    "start_time": "2022-09-01T01:59:39.643Z"
   },
   {
    "duration": 35,
    "start_time": "2022-09-01T01:59:39.657Z"
   },
   {
    "duration": 8,
    "start_time": "2022-09-01T01:59:39.693Z"
   },
   {
    "duration": 16,
    "start_time": "2022-09-01T01:59:39.702Z"
   },
   {
    "duration": 11,
    "start_time": "2022-09-01T01:59:39.720Z"
   },
   {
    "duration": 266,
    "start_time": "2022-09-01T01:59:39.733Z"
   },
   {
    "duration": 11,
    "start_time": "2022-09-01T01:59:40.000Z"
   },
   {
    "duration": 19,
    "start_time": "2022-09-01T01:59:40.013Z"
   },
   {
    "duration": 201,
    "start_time": "2022-09-01T01:59:40.033Z"
   },
   {
    "duration": 2,
    "start_time": "2022-09-01T01:59:40.236Z"
   },
   {
    "duration": 9,
    "start_time": "2022-09-01T01:59:40.240Z"
   },
   {
    "duration": 12,
    "start_time": "2022-09-01T01:59:40.250Z"
   },
   {
    "duration": 157,
    "start_time": "2022-09-01T01:59:40.264Z"
   },
   {
    "duration": 5,
    "start_time": "2022-09-01T01:59:40.422Z"
   },
   {
    "duration": 249,
    "start_time": "2022-09-01T01:59:40.428Z"
   },
   {
    "duration": 8,
    "start_time": "2022-09-01T01:59:40.686Z"
   },
   {
    "duration": 6,
    "start_time": "2022-09-01T01:59:40.696Z"
   },
   {
    "duration": 33,
    "start_time": "2022-09-01T01:59:40.704Z"
   },
   {
    "duration": 11,
    "start_time": "2022-09-01T01:59:40.739Z"
   },
   {
    "duration": 45,
    "start_time": "2022-09-01T06:50:34.470Z"
   },
   {
    "duration": 1250,
    "start_time": "2022-09-01T06:50:38.600Z"
   },
   {
    "duration": 218,
    "start_time": "2022-09-01T06:50:39.852Z"
   },
   {
    "duration": 12,
    "start_time": "2022-09-01T06:50:40.071Z"
   },
   {
    "duration": 37,
    "start_time": "2022-09-01T06:50:40.085Z"
   },
   {
    "duration": 63,
    "start_time": "2022-09-01T06:50:40.124Z"
   },
   {
    "duration": 32,
    "start_time": "2022-09-01T06:50:40.188Z"
   },
   {
    "duration": 34,
    "start_time": "2022-09-01T06:50:40.221Z"
   },
   {
    "duration": 30,
    "start_time": "2022-09-01T06:50:40.257Z"
   },
   {
    "duration": 23,
    "start_time": "2022-09-01T06:50:40.289Z"
   },
   {
    "duration": 25,
    "start_time": "2022-09-01T06:50:40.313Z"
   },
   {
    "duration": 31,
    "start_time": "2022-09-01T06:50:40.340Z"
   },
   {
    "duration": 12,
    "start_time": "2022-09-01T06:50:40.373Z"
   },
   {
    "duration": 6,
    "start_time": "2022-09-01T06:50:40.387Z"
   },
   {
    "duration": 6,
    "start_time": "2022-09-01T06:50:40.396Z"
   },
   {
    "duration": 10,
    "start_time": "2022-09-01T06:50:40.403Z"
   },
   {
    "duration": 11,
    "start_time": "2022-09-01T06:50:40.414Z"
   },
   {
    "duration": 39,
    "start_time": "2022-09-01T06:50:40.426Z"
   },
   {
    "duration": 14,
    "start_time": "2022-09-01T06:50:40.466Z"
   },
   {
    "duration": 13,
    "start_time": "2022-09-01T06:50:40.481Z"
   },
   {
    "duration": 13,
    "start_time": "2022-09-01T06:50:40.496Z"
   },
   {
    "duration": 14,
    "start_time": "2022-09-01T06:50:40.510Z"
   },
   {
    "duration": 388,
    "start_time": "2022-09-01T06:50:40.526Z"
   },
   {
    "duration": 465,
    "start_time": "2022-09-01T06:50:40.916Z"
   },
   {
    "duration": 18,
    "start_time": "2022-09-01T06:50:41.383Z"
   },
   {
    "duration": 15,
    "start_time": "2022-09-01T06:50:41.403Z"
   },
   {
    "duration": 12,
    "start_time": "2022-09-01T06:50:41.419Z"
   },
   {
    "duration": 8,
    "start_time": "2022-09-01T06:50:41.433Z"
   },
   {
    "duration": 265,
    "start_time": "2022-09-01T06:50:41.442Z"
   },
   {
    "duration": 9,
    "start_time": "2022-09-01T06:50:41.709Z"
   },
   {
    "duration": 80,
    "start_time": "2022-09-01T06:50:41.719Z"
   },
   {
    "duration": 29,
    "start_time": "2022-09-01T06:50:41.801Z"
   },
   {
    "duration": 69,
    "start_time": "2022-09-01T06:50:41.831Z"
   },
   {
    "duration": 39,
    "start_time": "2022-09-01T06:50:41.902Z"
   },
   {
    "duration": 25,
    "start_time": "2022-09-01T06:50:41.944Z"
   },
   {
    "duration": 247,
    "start_time": "2022-09-01T06:50:41.971Z"
   },
   {
    "duration": 6,
    "start_time": "2022-09-01T06:50:42.219Z"
   },
   {
    "duration": 250,
    "start_time": "2022-09-01T06:50:42.227Z"
   },
   {
    "duration": 9,
    "start_time": "2022-09-01T06:50:42.479Z"
   },
   {
    "duration": 10,
    "start_time": "2022-09-01T06:50:42.489Z"
   },
   {
    "duration": 17,
    "start_time": "2022-09-01T06:50:42.501Z"
   },
   {
    "duration": 10,
    "start_time": "2022-09-01T06:50:42.521Z"
   },
   {
    "duration": 46,
    "start_time": "2022-09-01T06:50:42.533Z"
   },
   {
    "duration": 14,
    "start_time": "2022-09-01T06:50:42.581Z"
   },
   {
    "duration": 19,
    "start_time": "2022-09-01T06:50:42.597Z"
   },
   {
    "duration": 10,
    "start_time": "2022-09-01T06:50:42.618Z"
   },
   {
    "duration": 14,
    "start_time": "2022-09-01T06:50:42.630Z"
   },
   {
    "duration": 16,
    "start_time": "2022-09-01T06:50:42.645Z"
   },
   {
    "duration": 268,
    "start_time": "2022-09-01T06:50:42.666Z"
   },
   {
    "duration": 9,
    "start_time": "2022-09-01T06:50:42.936Z"
   },
   {
    "duration": 15,
    "start_time": "2022-09-01T06:50:42.957Z"
   },
   {
    "duration": 215,
    "start_time": "2022-09-01T06:50:42.974Z"
   },
   {
    "duration": 3,
    "start_time": "2022-09-01T06:50:43.190Z"
   },
   {
    "duration": 7,
    "start_time": "2022-09-01T06:50:43.195Z"
   },
   {
    "duration": 12,
    "start_time": "2022-09-01T06:50:43.204Z"
   },
   {
    "duration": 178,
    "start_time": "2022-09-01T06:50:43.218Z"
   },
   {
    "duration": 5,
    "start_time": "2022-09-01T06:50:43.398Z"
   },
   {
    "duration": 271,
    "start_time": "2022-09-01T06:50:43.405Z"
   },
   {
    "duration": 9,
    "start_time": "2022-09-01T06:50:43.678Z"
   },
   {
    "duration": 7,
    "start_time": "2022-09-01T06:50:43.688Z"
   },
   {
    "duration": 32,
    "start_time": "2022-09-01T06:50:43.697Z"
   },
   {
    "duration": 42,
    "start_time": "2022-09-01T06:50:43.730Z"
   },
   {
    "duration": 21,
    "start_time": "2022-09-01T06:53:31.454Z"
   },
   {
    "duration": 13,
    "start_time": "2022-09-01T06:53:59.705Z"
   },
   {
    "duration": 106,
    "start_time": "2022-09-01T06:54:07.379Z"
   },
   {
    "duration": 9,
    "start_time": "2022-09-01T06:54:18.704Z"
   },
   {
    "duration": 15,
    "start_time": "2022-09-01T06:55:11.655Z"
   },
   {
    "duration": 24,
    "start_time": "2022-09-01T06:59:29.409Z"
   },
   {
    "duration": 15,
    "start_time": "2022-09-01T06:59:41.183Z"
   },
   {
    "duration": 13,
    "start_time": "2022-09-01T07:04:57.887Z"
   },
   {
    "duration": 403,
    "start_time": "2022-09-01T07:05:03.870Z"
   },
   {
    "duration": 4,
    "start_time": "2022-09-01T07:05:06.387Z"
   },
   {
    "duration": 13,
    "start_time": "2022-09-01T07:05:11.711Z"
   },
   {
    "duration": 6,
    "start_time": "2022-09-01T07:05:16.411Z"
   },
   {
    "duration": 4,
    "start_time": "2022-09-01T07:05:32.268Z"
   },
   {
    "duration": 26,
    "start_time": "2022-09-01T07:09:24.170Z"
   },
   {
    "duration": 13,
    "start_time": "2022-09-01T07:09:33.617Z"
   },
   {
    "duration": 218,
    "start_time": "2022-09-01T07:09:52.370Z"
   },
   {
    "duration": 8,
    "start_time": "2022-09-01T07:10:02.670Z"
   },
   {
    "duration": 10,
    "start_time": "2022-09-01T07:10:07.889Z"
   },
   {
    "duration": 326,
    "start_time": "2022-09-01T07:10:24.821Z"
   },
   {
    "duration": 346,
    "start_time": "2022-09-01T07:10:28.689Z"
   },
   {
    "duration": 294,
    "start_time": "2022-09-01T07:13:50.622Z"
   },
   {
    "duration": 7,
    "start_time": "2022-09-01T07:15:34.870Z"
   },
   {
    "duration": 5,
    "start_time": "2022-09-01T07:15:44.948Z"
   },
   {
    "duration": 10,
    "start_time": "2022-09-01T07:16:21.085Z"
   },
   {
    "duration": 11,
    "start_time": "2022-09-01T07:16:30.044Z"
   },
   {
    "duration": 916,
    "start_time": "2022-09-01T07:17:52.693Z"
   },
   {
    "duration": 1601,
    "start_time": "2022-09-01T07:18:07.383Z"
   },
   {
    "duration": 303,
    "start_time": "2022-09-01T07:18:17.894Z"
   },
   {
    "duration": 244,
    "start_time": "2022-09-01T07:19:27.970Z"
   },
   {
    "duration": 154,
    "start_time": "2022-09-01T07:19:34.220Z"
   },
   {
    "duration": 159,
    "start_time": "2022-09-01T07:19:58.721Z"
   },
   {
    "duration": 325,
    "start_time": "2022-09-01T07:20:53.172Z"
   },
   {
    "duration": 1257,
    "start_time": "2022-09-01T07:25:56.022Z"
   },
   {
    "duration": 76,
    "start_time": "2022-09-01T07:25:57.281Z"
   },
   {
    "duration": 11,
    "start_time": "2022-09-01T07:25:57.359Z"
   },
   {
    "duration": 27,
    "start_time": "2022-09-01T07:25:57.371Z"
   },
   {
    "duration": 40,
    "start_time": "2022-09-01T07:25:57.400Z"
   },
   {
    "duration": 12,
    "start_time": "2022-09-01T07:25:57.442Z"
   },
   {
    "duration": 29,
    "start_time": "2022-09-01T07:25:57.456Z"
   },
   {
    "duration": 31,
    "start_time": "2022-09-01T07:25:57.486Z"
   },
   {
    "duration": 35,
    "start_time": "2022-09-01T07:25:57.518Z"
   },
   {
    "duration": 26,
    "start_time": "2022-09-01T07:25:57.554Z"
   },
   {
    "duration": 23,
    "start_time": "2022-09-01T07:25:57.582Z"
   },
   {
    "duration": 17,
    "start_time": "2022-09-01T07:25:57.606Z"
   },
   {
    "duration": 15,
    "start_time": "2022-09-01T07:25:57.625Z"
   },
   {
    "duration": 32,
    "start_time": "2022-09-01T07:25:57.644Z"
   },
   {
    "duration": 38,
    "start_time": "2022-09-01T07:25:57.679Z"
   },
   {
    "duration": 22,
    "start_time": "2022-09-01T07:25:57.719Z"
   },
   {
    "duration": 20,
    "start_time": "2022-09-01T07:25:57.743Z"
   },
   {
    "duration": 25,
    "start_time": "2022-09-01T07:25:57.764Z"
   },
   {
    "duration": 22,
    "start_time": "2022-09-01T07:25:57.790Z"
   },
   {
    "duration": 24,
    "start_time": "2022-09-01T07:25:57.813Z"
   },
   {
    "duration": 35,
    "start_time": "2022-09-01T07:25:57.839Z"
   },
   {
    "duration": 34,
    "start_time": "2022-09-01T07:25:57.876Z"
   },
   {
    "duration": 328,
    "start_time": "2022-09-01T07:25:57.912Z"
   },
   {
    "duration": 487,
    "start_time": "2022-09-01T07:25:58.242Z"
   },
   {
    "duration": 19,
    "start_time": "2022-09-01T07:25:58.731Z"
   },
   {
    "duration": 17,
    "start_time": "2022-09-01T07:25:58.753Z"
   },
   {
    "duration": 22,
    "start_time": "2022-09-01T07:25:58.772Z"
   },
   {
    "duration": 27,
    "start_time": "2022-09-01T07:25:58.796Z"
   },
   {
    "duration": 283,
    "start_time": "2022-09-01T07:25:58.825Z"
   },
   {
    "duration": 11,
    "start_time": "2022-09-01T07:25:59.109Z"
   },
   {
    "duration": 37,
    "start_time": "2022-09-01T07:25:59.122Z"
   },
   {
    "duration": 17,
    "start_time": "2022-09-01T07:25:59.161Z"
   },
   {
    "duration": 40,
    "start_time": "2022-09-01T07:25:59.180Z"
   },
   {
    "duration": 27,
    "start_time": "2022-09-01T07:25:59.223Z"
   },
   {
    "duration": 51,
    "start_time": "2022-09-01T07:25:59.252Z"
   },
   {
    "duration": 294,
    "start_time": "2022-09-01T07:25:59.305Z"
   },
   {
    "duration": 7,
    "start_time": "2022-09-01T07:25:59.601Z"
   },
   {
    "duration": 279,
    "start_time": "2022-09-01T07:25:59.609Z"
   },
   {
    "duration": 10,
    "start_time": "2022-09-01T07:25:59.890Z"
   },
   {
    "duration": 32,
    "start_time": "2022-09-01T07:25:59.902Z"
   },
   {
    "duration": 21,
    "start_time": "2022-09-01T07:25:59.939Z"
   },
   {
    "duration": 25,
    "start_time": "2022-09-01T07:25:59.962Z"
   },
   {
    "duration": 15,
    "start_time": "2022-09-01T07:25:59.989Z"
   },
   {
    "duration": 44,
    "start_time": "2022-09-01T07:26:00.006Z"
   },
   {
    "duration": 29,
    "start_time": "2022-09-01T07:26:00.052Z"
   },
   {
    "duration": 29,
    "start_time": "2022-09-01T07:26:00.083Z"
   },
   {
    "duration": 31,
    "start_time": "2022-09-01T07:26:00.114Z"
   },
   {
    "duration": 25,
    "start_time": "2022-09-01T07:26:00.147Z"
   },
   {
    "duration": 254,
    "start_time": "2022-09-01T07:26:00.174Z"
   },
   {
    "duration": 5,
    "start_time": "2022-09-01T07:26:00.430Z"
   },
   {
    "duration": 296,
    "start_time": "2022-09-01T07:26:00.437Z"
   },
   {
    "duration": 11,
    "start_time": "2022-09-01T07:26:00.734Z"
   },
   {
    "duration": 20,
    "start_time": "2022-09-01T07:26:00.759Z"
   },
   {
    "duration": 278,
    "start_time": "2022-09-01T07:26:00.781Z"
   },
   {
    "duration": 9,
    "start_time": "2022-09-01T07:26:01.061Z"
   },
   {
    "duration": 55,
    "start_time": "2022-09-01T07:26:01.072Z"
   },
   {
    "duration": 310,
    "start_time": "2022-09-01T07:26:01.129Z"
   },
   {
    "duration": 3,
    "start_time": "2022-09-01T07:26:01.440Z"
   },
   {
    "duration": 15,
    "start_time": "2022-09-01T07:26:01.445Z"
   },
   {
    "duration": 24,
    "start_time": "2022-09-01T07:26:01.462Z"
   },
   {
    "duration": 162,
    "start_time": "2022-09-01T07:26:01.488Z"
   },
   {
    "duration": 5,
    "start_time": "2022-09-01T07:26:01.652Z"
   },
   {
    "duration": 200,
    "start_time": "2022-09-01T07:26:01.659Z"
   },
   {
    "duration": 9,
    "start_time": "2022-09-01T07:26:01.861Z"
   },
   {
    "duration": 27,
    "start_time": "2022-09-01T07:26:01.871Z"
   },
   {
    "duration": 54,
    "start_time": "2022-09-01T07:26:01.899Z"
   },
   {
    "duration": 13,
    "start_time": "2022-09-01T07:26:01.954Z"
   }
  ],
  "kernelspec": {
   "display_name": "Python 3 (ipykernel)",
   "language": "python",
   "name": "python3"
  },
  "language_info": {
   "codemirror_mode": {
    "name": "ipython",
    "version": 3
   },
   "file_extension": ".py",
   "mimetype": "text/x-python",
   "name": "python",
   "nbconvert_exporter": "python",
   "pygments_lexer": "ipython3",
   "version": "3.9.5"
  },
  "toc": {
   "base_numbering": 1,
   "nav_menu": {},
   "number_sections": true,
   "sideBar": true,
   "skip_h1_title": true,
   "title_cell": "Table of Contents",
   "title_sidebar": "Contents",
   "toc_cell": false,
   "toc_position": {},
   "toc_section_display": true,
   "toc_window_display": false
  }
 },
 "nbformat": 4,
 "nbformat_minor": 2
}
